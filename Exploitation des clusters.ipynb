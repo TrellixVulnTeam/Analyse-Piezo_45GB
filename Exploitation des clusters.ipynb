{
 "cells": [
  {
   "cell_type": "code",
   "execution_count": 43,
   "id": "7158fc0c",
   "metadata": {},
   "outputs": [],
   "source": [
    "import os\n",
    "import sqlite3\n",
    "import pandas as pd\n",
    "from datetime import datetime\n",
    "from matplotlib import pyplot as plt\n",
    "import numpy as np\n",
    "from sklearn.metrics import median_absolute_error, mean_squared_error, mean_squared_log_error\n",
    "from sklearn.metrics import r2_score, median_absolute_error, mean_absolute_error\n",
    "import seaborn as sns\n",
    "from tqdm import tqdm_notebook\n",
    "import statsmodels.tsa.api as smt\n",
    "import statsmodels.api as sm\n",
    "from statsmodels.tsa.seasonal import seasonal_decompose\n",
    "\n",
    "def f_requete_sql (requete) :\n",
    "    try:\n",
    "        connexion = sqlite3.connect('./data/liste_piezos.db')\n",
    "        curseur = connexion.cursor()\n",
    "        print(\"Connexion réussie à SQLite\")\n",
    "        curseur.execute(requete)\n",
    "        connexion.commit()\n",
    "        resultat = curseur.fetchall()\n",
    "        curseur.close()\n",
    "        connexion.close()\n",
    "        print(\"Connexion SQLite est fermée\")\n",
    "        return resultat\n",
    "    except sqlite3.Error as error:\n",
    "        print(\"Erreur lors du mis à jour dans la table\", error)\n",
    "        \n",
    "def f_plot_nan (dataframe):\n",
    "    f, ax = plt.subplots(nrows=1, ncols=1, figsize=(16,6))\n",
    "    sns.heatmap(dataframe.T.isna(), cmap='Blues', cbar=False)\n",
    "    ax.set_title('Missing Values', fontsize=16)\n",
    "    # Masquage des noms de piezo \n",
    "    ax.yaxis.set_visible(False)\n",
    "    # Formatage de la date pour l'affichage\n",
    "    ax.xaxis.set_ticklabels([pd.to_datetime(value).strftime('%Y') for value in ax.xaxis.get_major_formatter().func.args[0].values()])\n",
    "    plt.show()"
   ]
  },
  {
   "cell_type": "markdown",
   "id": "07f300c2",
   "metadata": {},
   "source": [
    "# Création table des caractéristiques des piezos"
   ]
  },
  {
   "cell_type": "code",
   "execution_count": 79,
   "id": "643b3cc0",
   "metadata": {},
   "outputs": [
    {
     "name": "stdout",
     "output_type": "stream",
     "text": [
      "Connexion réussie à SQLite\n",
      "Connexion SQLite est fermée\n"
     ]
    },
    {
     "data": {
      "text/html": [
       "<div>\n",
       "<style scoped>\n",
       "    .dataframe tbody tr th:only-of-type {\n",
       "        vertical-align: middle;\n",
       "    }\n",
       "\n",
       "    .dataframe tbody tr th {\n",
       "        vertical-align: top;\n",
       "    }\n",
       "\n",
       "    .dataframe thead th {\n",
       "        text-align: right;\n",
       "    }\n",
       "</style>\n",
       "<table border=\"1\" class=\"dataframe\">\n",
       "  <thead>\n",
       "    <tr style=\"text-align: right;\">\n",
       "      <th></th>\n",
       "      <th>code_bss</th>\n",
       "      <th>altitude_station</th>\n",
       "      <th>profondeur_investigation</th>\n",
       "      <th>codes_bdlisa</th>\n",
       "      <th>cluster_kmeans</th>\n",
       "      <th>FRANCE_lvl_1</th>\n",
       "      <th>FRANCE_lvl_2</th>\n",
       "      <th>FRANCE_lvl_3</th>\n",
       "      <th>FRANCE_lvl_4</th>\n",
       "      <th>EtatEH</th>\n",
       "      <th>NatureEH</th>\n",
       "      <th>MilieuEH</th>\n",
       "      <th>ThemeEH</th>\n",
       "      <th>OrigineEH</th>\n",
       "    </tr>\n",
       "  </thead>\n",
       "  <tbody>\n",
       "    <tr>\n",
       "      <th>0</th>\n",
       "      <td>03423X0056_100</td>\n",
       "      <td>174.0</td>\n",
       "      <td>10.7</td>\n",
       "      <td>221AA15</td>\n",
       "      <td>GES_C</td>\n",
       "      <td>3</td>\n",
       "      <td>31</td>\n",
       "      <td>312</td>\n",
       "      <td>3121</td>\n",
       "      <td>2</td>\n",
       "      <td>5</td>\n",
       "      <td>1</td>\n",
       "      <td>1</td>\n",
       "      <td>1</td>\n",
       "    </tr>\n",
       "    <tr>\n",
       "      <th>1</th>\n",
       "      <td>06216X0228_P30-10</td>\n",
       "      <td>237.2</td>\n",
       "      <td>8.0</td>\n",
       "      <td>932AR01</td>\n",
       "      <td>ARA_A</td>\n",
       "      <td>3</td>\n",
       "      <td>31</td>\n",
       "      <td>312</td>\n",
       "      <td>3122</td>\n",
       "      <td>2</td>\n",
       "      <td>5</td>\n",
       "      <td>1</td>\n",
       "      <td>1</td>\n",
       "      <td>1</td>\n",
       "    </tr>\n",
       "    <tr>\n",
       "      <th>2</th>\n",
       "      <td>09145X0057_N210</td>\n",
       "      <td>31.0</td>\n",
       "      <td>14.5</td>\n",
       "      <td>712IA01</td>\n",
       "      <td>PAC_A</td>\n",
       "      <td>3</td>\n",
       "      <td>31</td>\n",
       "      <td>313</td>\n",
       "      <td>3131</td>\n",
       "      <td>2</td>\n",
       "      <td>5</td>\n",
       "      <td>1</td>\n",
       "      <td>1</td>\n",
       "      <td>1</td>\n",
       "    </tr>\n",
       "    <tr>\n",
       "      <th>3</th>\n",
       "      <td>06932X0178_P10</td>\n",
       "      <td>801.8</td>\n",
       "      <td>48.0</td>\n",
       "      <td>153AA01</td>\n",
       "      <td>ARA_A</td>\n",
       "      <td>3</td>\n",
       "      <td>31</td>\n",
       "      <td>312</td>\n",
       "      <td>3122</td>\n",
       "      <td>2</td>\n",
       "      <td>5</td>\n",
       "      <td>4</td>\n",
       "      <td>5</td>\n",
       "      <td>1</td>\n",
       "    </tr>\n",
       "    <tr>\n",
       "      <th>4</th>\n",
       "      <td>06505X0093_PZ10</td>\n",
       "      <td>175.0</td>\n",
       "      <td>19.0</td>\n",
       "      <td>507AD00</td>\n",
       "      <td>ARA_A</td>\n",
       "      <td>3</td>\n",
       "      <td>31</td>\n",
       "      <td>312</td>\n",
       "      <td>3122</td>\n",
       "      <td>2</td>\n",
       "      <td>7</td>\n",
       "      <td>1</td>\n",
       "      <td>2</td>\n",
       "      <td>3</td>\n",
       "    </tr>\n",
       "  </tbody>\n",
       "</table>\n",
       "</div>"
      ],
      "text/plain": [
       "            code_bss  altitude_station  profondeur_investigation codes_bdlisa  \\\n",
       "0     03423X0056_100             174.0                      10.7      221AA15   \n",
       "1  06216X0228_P30-10             237.2                       8.0      932AR01   \n",
       "2    09145X0057_N210              31.0                      14.5      712IA01   \n",
       "3     06932X0178_P10             801.8                      48.0      153AA01   \n",
       "4    06505X0093_PZ10             175.0                      19.0      507AD00   \n",
       "\n",
       "  cluster_kmeans FRANCE_lvl_1 FRANCE_lvl_2 FRANCE_lvl_3 FRANCE_lvl_4 EtatEH  \\\n",
       "0          GES_C            3           31          312         3121      2   \n",
       "1          ARA_A            3           31          312         3122      2   \n",
       "2          PAC_A            3           31          313         3131      2   \n",
       "3          ARA_A            3           31          312         3122      2   \n",
       "4          ARA_A            3           31          312         3122      2   \n",
       "\n",
       "  NatureEH MilieuEH ThemeEH OrigineEH  \n",
       "0        5        1       1         1  \n",
       "1        5        1       1         1  \n",
       "2        5        1       1         1  \n",
       "3        5        4       5         1  \n",
       "4        7        1       2         3  "
      ]
     },
     "execution_count": 79,
     "metadata": {},
     "output_type": "execute_result"
    }
   ],
   "source": [
    "requete = \"\"\"\n",
    "        SELECT code_bss, altitude_station, profondeur_investigation, codes_bdlisa, cluster_kmeans, FRANCE_lvl_1, FRANCE_lvl_2, FRANCE_lvl_3, FRANCE_lvl_4, EtatEH, NatureEH, MilieuEH, ThemeEH, OrigineEH\n",
    "        FROM data_piezo\n",
    "        INNER JOIN TME\n",
    "        ON codes_bdlisa = CodeEH\n",
    "        WHERE cluster_kmeans IS NOT NULL\n",
    "        \"\"\"\n",
    "\n",
    "data = pd.DataFrame(f_requete_sql(requete))\n",
    "data.columns = [\"code_bss\", \"altitude_station\", \"profondeur_investigation\", \"codes_bdlisa\", \"cluster_kmeans\", \"FRANCE_lvl_1\", \"FRANCE_lvl_2\", \"FRANCE_lvl_3\", \"FRANCE_lvl_4\", \"EtatEH\", \"NatureEH\", \"MilieuEH\", \"ThemeEH\", \"OrigineEH\"]\n",
    "data.head()"
   ]
  },
  {
   "cell_type": "code",
   "execution_count": 150,
   "id": "2d77d68c",
   "metadata": {},
   "outputs": [],
   "source": [
    "# Données X et y"
   ]
  },
  {
   "cell_type": "code",
   "execution_count": 157,
   "id": "74f9ff4a",
   "metadata": {},
   "outputs": [],
   "source": [
    "X = data.loc[:,[\"EtatEH\", \"NatureEH\", \"MilieuEH\", \"ThemeEH\", \"OrigineEH\"]]\n",
    "y = data[\"cluster_kmeans\"].values.reshape(-1,1)"
   ]
  },
  {
   "cell_type": "code",
   "execution_count": 158,
   "id": "5109adf5",
   "metadata": {},
   "outputs": [],
   "source": [
    "# Split test et train"
   ]
  },
  {
   "cell_type": "code",
   "execution_count": 159,
   "id": "a35c6b23",
   "metadata": {},
   "outputs": [],
   "source": [
    "from sklearn.model_selection import train_test_split\n",
    "X_train, X_test, y_train, y_test = train_test_split(X, y, test_size=0.2) "
   ]
  },
  {
   "cell_type": "code",
   "execution_count": 160,
   "id": "dc87c018",
   "metadata": {},
   "outputs": [],
   "source": [
    "# Encodage"
   ]
  },
  {
   "cell_type": "code",
   "execution_count": 162,
   "id": "2adc4223",
   "metadata": {},
   "outputs": [],
   "source": [
    "from sklearn.preprocessing import OneHotEncoder\n",
    "encoder = OneHotEncoder()\n",
    "X_train_encoded = encoder.fit_transform(X_train)"
   ]
  },
  {
   "cell_type": "code",
   "execution_count": 163,
   "id": "556f161d",
   "metadata": {},
   "outputs": [],
   "source": [
    "#Estimateur"
   ]
  },
  {
   "cell_type": "code",
   "execution_count": 164,
   "id": "bfb26d65",
   "metadata": {},
   "outputs": [
    {
     "name": "stderr",
     "output_type": "stream",
     "text": [
      "C:\\Users\\daranlot\\Anaconda3\\envs\\Environnement\\lib\\site-packages\\sklearn\\utils\\validation.py:993: DataConversionWarning: A column-vector y was passed when a 1d array was expected. Please change the shape of y to (n_samples, ), for example using ravel().\n",
      "  y = column_or_1d(y, warn=True)\n"
     ]
    },
    {
     "data": {
      "text/plain": [
       "SVC()"
      ]
     },
     "execution_count": 164,
     "metadata": {},
     "output_type": "execute_result"
    }
   ],
   "source": [
    "from sklearn.svm import SVC\n",
    "model = SVC()\n",
    "model.fit(X_train_encoded, y_train)"
   ]
  },
  {
   "cell_type": "code",
   "execution_count": 166,
   "id": "1230cb14",
   "metadata": {},
   "outputs": [
    {
     "data": {
      "text/plain": [
       "array(['NAQ_F', 'HDF_D', 'ARA_A', 'OCC_D', 'CVL_B', 'GES_C', 'CVL_B',\n",
       "       'ARA_A', 'OCC_B', 'ARA_B', 'GES_C', 'NAQ_A', 'HDF_D', 'PDL_A',\n",
       "       'NOR_A', 'CVL_B', 'HDF_C', 'GES_C', 'OCC_B', 'GES_C', 'NAQ_D',\n",
       "       'NAQ_F', 'NAQ_A', 'CVL_B', 'NAQ_C', 'NAQ_A', 'BRE_A', 'NAQ_A',\n",
       "       'CVL_B', 'ARA_B', 'HDF_D', 'NAQ_F', 'NOR_D', 'CVL_A', 'HDF_A',\n",
       "       'NAQ_D', 'NOR_D', 'CVL_B', 'NAQ_A', 'GES_C', 'NAQ_A', 'ARA_B',\n",
       "       'GES_C', 'NAQ_A', 'NAQ_C', 'GES_C', 'NAQ_F', 'NAQ_D', 'NAQ_F',\n",
       "       'NOR_A', 'NOR_D', 'GES_C', 'GES_C', 'GES_C', 'NOR_A', 'HDF_D',\n",
       "       'GES_C', 'HDF_D', 'GES_C', 'BRE_A', 'NAQ_F', 'NAQ_A', 'GES_C',\n",
       "       'CVL_B', 'NAQ_A', 'CVL_A', 'NAQ_A', 'ARA_B', 'CVL_B', 'NAQ_F',\n",
       "       'NAQ_A', 'CVL_B', 'GES_C', 'GES_C', 'NAQ_D', 'NOR_A', 'NAQ_F',\n",
       "       'CVL_A', 'ARA_B', 'NAQ_A', 'ARA_A', 'NAQ_F', 'HDF_D', 'ARA_A',\n",
       "       'HDF_D', 'HDF_D', 'GES_C', 'CVL_B', 'NAQ_D', 'GES_C', 'ARA_B',\n",
       "       'NOR_A', 'GES_C', 'HDF_D', 'NAQ_C', 'CVL_A', 'NAQ_A', 'GES_C',\n",
       "       'HDF_D', 'NAQ_F', 'BRE_A', 'NAQ_C', 'NOR_D', 'OCC_A', 'NAQ_A',\n",
       "       'BRE_A', 'NAQ_A', 'NAQ_F', 'CVL_A', 'ARA_A', 'NAQ_F', 'NAQ_F',\n",
       "       'CVL_B', 'OCC_A', 'BRE_A', 'ARA_B', 'HDF_D', 'BRE_A', 'GES_C',\n",
       "       'HDF_D', 'NOR_D', 'NAQ_C', 'NAQ_F', 'CVL_A', 'GES_C', 'CVL_A',\n",
       "       'HDF_D', 'NAQ_F', 'NAQ_D', 'NAQ_A', 'CVL_A', 'BRE_A', 'GES_C',\n",
       "       'NAQ_A', 'GES_C', 'NAQ_D', 'ARA_B', 'NAQ_A', 'NAQ_F', 'GES_C',\n",
       "       'CVL_B', 'GES_C', 'BRE_A', 'OCC_A', 'HDF_D', 'GES_C', 'CVL_B',\n",
       "       'CVL_B', 'NAQ_A', 'GES_C', 'NAQ_C', 'CVL_A', 'HDF_D', 'CVL_B',\n",
       "       'ARA_B', 'CVL_A', 'NAQ_A', 'BRE_A', 'OCC_B', 'NOR_D', 'OCC_A',\n",
       "       'GES_C', 'GES_C', 'NAQ_F', 'OCC_A', 'NAQ_F', 'GES_C', 'HDF_D',\n",
       "       'NAQ_C', 'GES_C', 'ARA_A', 'NAQ_D', 'CVL_B', 'HDF_D', 'NAQ_A',\n",
       "       'NAQ_C', 'OCC_A', 'NAQ_A', 'NAQ_F', 'GES_C', 'NAQ_A', 'HDF_A',\n",
       "       'ARA_A', 'ARA_A', 'HDF_D', 'GES_C', 'NAQ_C', 'GES_C', 'ARA_A',\n",
       "       'NAQ_A', 'NOR_A', 'CVL_A', 'NOR_A', 'NAQ_A', 'CVL_B', 'NAQ_A',\n",
       "       'CVL_A', 'PDL_B', 'NAQ_A', 'CVL_B', 'OCC_A', 'CVL_B', 'GES_C',\n",
       "       'OCC_A', 'GES_C', 'NAQ_A', 'BRE_A', 'NAQ_F', 'CVL_A', 'CVL_B',\n",
       "       'HDF_D', 'NAQ_A', 'CVL_B', 'NAQ_A', 'CVL_B', 'NAQ_A', 'GES_C',\n",
       "       'HDF_D', 'CVL_B', 'NOR_A', 'GES_C', 'NOR_A', 'NAQ_C', 'GES_C',\n",
       "       'GES_C', 'CVL_B', 'NAQ_D', 'GES_C', 'OCC_D', 'GES_C', 'ARA_B',\n",
       "       'GES_C', 'NAQ_D', 'GES_C', 'CVL_B', 'ARA_A', 'NAQ_C', 'ARA_B',\n",
       "       'GES_C', 'NOR_D', 'NOR_A', 'CVL_B', 'CVL_B', 'GES_C', 'NOR_A',\n",
       "       'GES_C', 'NOR_A', 'CVL_B', 'GES_C', 'GES_C', 'BRE_A', 'OCC_A',\n",
       "       'NAQ_A', 'NAQ_A', 'CVL_B', 'CVL_B', 'NAQ_A', 'GES_C', 'NAQ_F',\n",
       "       'HDF_D', 'CVL_B', 'GES_C', 'CVL_A', 'NAQ_F', 'GES_C', 'GES_C',\n",
       "       'BRE_A', 'NAQ_A', 'GES_C', 'NAQ_A', 'NAQ_A', 'NAQ_C', 'OCC_B',\n",
       "       'CVL_B', 'GES_C', 'GES_C', 'NOR_D', 'ARA_A', 'GES_C', 'ARA_A',\n",
       "       'CVL_B', 'OCC_A', 'GES_C', 'GES_C', 'GES_C', 'OCC_A', 'GES_C',\n",
       "       'GES_C', 'CVL_B', 'NAQ_F', 'NOR_A', 'NOR_D', 'GES_C', 'NAQ_C',\n",
       "       'NAQ_A', 'NAQ_A', 'OCC_B', 'GES_C', 'NOR_A', 'GES_C', 'CVL_B',\n",
       "       'NAQ_D', 'CVL_B', 'CVL_B', 'OCC_B', 'ARA_B', 'CVL_B', 'NAQ_D',\n",
       "       'ARA_B', 'OCC_A', 'CVL_B', 'CVL_B', 'CVL_B', 'ARA_B', 'GES_C',\n",
       "       'HDF_D', 'NOR_D', 'PDL_A', 'HDF_D', 'NAQ_A', 'GES_C', 'CVL_B',\n",
       "       'NAQ_A', 'NAQ_F', 'NAQ_F', 'NAQ_A', 'NAQ_D', 'GES_C', 'NOR_A',\n",
       "       'NAQ_D', 'NOR_A', 'NAQ_F', 'GES_C', 'GES_C', 'CVL_A', 'GES_C',\n",
       "       'NAQ_A', 'NAQ_A', 'OCC_A', 'CVL_B', 'GES_C', 'NAQ_A', 'NAQ_A',\n",
       "       'NAQ_A', 'BRE_A', 'OCC_B', 'NAQ_D', 'NAQ_F', 'CVL_A', 'GES_C',\n",
       "       'PDL_B', 'GES_C', 'NOR_A', 'GES_C', 'CVL_B', 'GES_C', 'BRE_A',\n",
       "       'NOR_A', 'ARA_A', 'GES_C', 'CVL_A', 'NOR_A', 'NOR_A', 'GES_C',\n",
       "       'GES_C', 'NAQ_F', 'GES_C', 'NOR_A', 'BRE_A', 'NAQ_C', 'GES_C',\n",
       "       'HDF_D', 'NAQ_C', 'ARA_B', 'ARA_A', 'HDF_D', 'GES_C', 'NAQ_F',\n",
       "       'GES_C', 'NAQ_A', 'BRE_A', 'GES_C', 'CVL_B', 'NOR_A', 'NOR_D',\n",
       "       'CVL_A', 'NAQ_A', 'GES_C', 'HDF_D', 'CVL_A', 'OCC_B', 'NAQ_A',\n",
       "       'NAQ_A', 'NOR_A', 'GES_C', 'NAQ_A', 'NAQ_A', 'GES_C', 'CVL_A',\n",
       "       'OCC_B', 'CVL_B', 'CVL_B', 'NAQ_D', 'NAQ_F', 'CVL_B', 'GES_C',\n",
       "       'GES_C', 'GES_C', 'GES_C', 'ARA_A', 'BRE_A', 'CVL_B', 'GES_C',\n",
       "       'NOR_A', 'GES_C', 'OCC_A', 'CVL_B', 'CVL_B', 'BRE_A', 'NAQ_A',\n",
       "       'HDF_D', 'GES_C', 'NAQ_F', 'OCC_B', 'NAQ_A', 'HDF_D', 'HDF_D',\n",
       "       'NOR_A', 'NAQ_A', 'NAQ_A', 'NAQ_F', 'NOR_A', 'GES_C', 'NAQ_F',\n",
       "       'HDF_D', 'NAQ_A', 'NAQ_A', 'NAQ_A', 'HDF_A', 'GES_C', 'NAQ_F',\n",
       "       'GES_C', 'ARA_A', 'NAQ_F', 'NAQ_A', 'NAQ_C', 'HDF_C', 'HDF_D',\n",
       "       'HDF_D', 'NAQ_F', 'BRE_A', 'NAQ_A', 'BRE_A', 'GES_C', 'NAQ_F',\n",
       "       'GES_C', 'NAQ_F', 'NOR_A', 'GES_C', 'HDF_D', 'NAQ_A', 'GES_C',\n",
       "       'GES_C', 'CVL_B', 'NAQ_D', 'CVL_B', 'NAQ_D', 'NAQ_A', 'NAQ_A',\n",
       "       'CVL_A', 'GES_C', 'CVL_A', 'BRE_A', 'NAQ_A', 'GES_C', 'GES_C',\n",
       "       'CVL_B', 'NAQ_A', 'GES_C', 'NAQ_A', 'CVL_A', 'GES_C', 'HDF_D',\n",
       "       'NAQ_A', 'HDF_A', 'ARA_B', 'NAQ_D', 'GES_C', 'CVL_B', 'GES_C',\n",
       "       'GES_C', 'NAQ_D', 'PDL_A', 'CVL_A', 'NAQ_F', 'CVL_B', 'ARA_B',\n",
       "       'GES_C', 'NAQ_F', 'NAQ_D', 'CVL_A', 'CVL_B', 'NAQ_D', 'CVL_A',\n",
       "       'NAQ_F', 'GES_C', 'NAQ_A', 'NAQ_A', 'GES_C', 'GES_C', 'NAQ_A',\n",
       "       'NAQ_A', 'GES_C', 'NAQ_A', 'GES_C', 'CVL_B', 'CVL_B', 'NOR_A',\n",
       "       'HDF_D', 'CVL_B', 'NAQ_D', 'HDF_D', 'NAQ_A', 'ARA_A', 'GES_C',\n",
       "       'GES_C', 'CVL_B', 'GES_C', 'NAQ_F', 'HDF_D', 'NAQ_D', 'NAQ_F',\n",
       "       'NAQ_C', 'ARA_A', 'ARA_B', 'NAQ_A', 'ARA_B', 'GES_C', 'NOR_A',\n",
       "       'ARA_A', 'GES_C', 'GES_C', 'GES_C', 'GES_C', 'NAQ_A', 'NAQ_C',\n",
       "       'CVL_A', 'NAQ_F', 'NAQ_A', 'GES_C', 'NAQ_F', 'OCC_A', 'CVL_B',\n",
       "       'BRE_A', 'GES_C', 'NOR_D', 'GES_C', 'NAQ_A', 'CVL_A', 'GES_C',\n",
       "       'NAQ_A', 'NAQ_F', 'BRE_A', 'NAQ_A', 'GES_C', 'NAQ_F', 'BRE_A',\n",
       "       'NAQ_A', 'GES_C', 'ARA_A', 'NAQ_C', 'GES_C', 'CVL_B', 'GES_C',\n",
       "       'OCC_A', 'ARA_B', 'CVL_B', 'BRE_A', 'PDL_A', 'ARA_A', 'CVL_A',\n",
       "       'GES_C', 'NAQ_D', 'NAQ_D', 'CVL_B', 'NAQ_F', 'NAQ_F', 'ARA_A',\n",
       "       'CVL_B', 'HDF_D', 'NAQ_F', 'GES_C', 'OCC_A', 'NAQ_A', 'BRE_A',\n",
       "       'NAQ_C', 'GES_C', 'NAQ_D', 'HDF_A', 'ARA_B', 'NAQ_A', 'ARA_A',\n",
       "       'GES_C', 'NOR_D', 'CVL_B', 'NAQ_A', 'HDF_D', 'GES_C', 'GES_C',\n",
       "       'NAQ_D', 'NAQ_F', 'HDF_D', 'OCC_B', 'CVL_B', 'CVL_B', 'NOR_A',\n",
       "       'NAQ_F', 'NAQ_C', 'NAQ_A', 'GES_C', 'CVL_A', 'NOR_A', 'HDF_A',\n",
       "       'NAQ_F', 'GES_C', 'CVL_B', 'GES_C', 'CVL_A', 'NAQ_C', 'NAQ_A',\n",
       "       'GES_C', 'NOR_D', 'BRE_A', 'GES_C', 'HDF_D', 'NAQ_A', 'ARA_A',\n",
       "       'NAQ_F', 'GES_C', 'CVL_A', 'HDF_D', 'CVL_B', 'NAQ_C', 'HDF_D',\n",
       "       'GES_C', 'CVL_B', 'GES_C', 'BRE_A', 'NAQ_D', 'GES_C', 'GES_C',\n",
       "       'NAQ_A', 'HDF_D', 'NAQ_F', 'NAQ_A', 'BRE_A', 'GES_C', 'GES_C',\n",
       "       'CVL_A', 'OCC_A', 'CVL_B', 'NAQ_A', 'GES_C', 'GES_C', 'NAQ_A',\n",
       "       'GES_C', 'GES_C', 'NAQ_D', 'GES_C', 'ARA_B', 'HDF_D', 'NAQ_A',\n",
       "       'ARA_A', 'BRE_A', 'BRE_A', 'NAQ_D', 'BRE_A', 'GES_C', 'CVL_B',\n",
       "       'NOR_A', 'NAQ_F', 'ARA_B', 'CVL_A', 'NOR_D', 'HDF_D', 'ARA_A',\n",
       "       'ARA_B', 'NAQ_A', 'CVL_A', 'GES_C', 'NAQ_C', 'NAQ_C', 'NAQ_A',\n",
       "       'NAQ_A', 'NAQ_A', 'ARA_B', 'GES_C', 'GES_C', 'GES_C', 'NOR_A',\n",
       "       'NAQ_F', 'NAQ_C', 'GES_C', 'GES_C', 'GES_C', 'BRE_A', 'GES_C',\n",
       "       'NOR_A', 'HDF_D', 'GES_C', 'GES_C', 'NAQ_D', 'NAQ_A', 'NAQ_D',\n",
       "       'HDF_D', 'ARA_A', 'GES_C', 'CVL_B', 'GES_C', 'NOR_A', 'GES_C',\n",
       "       'GES_C', 'GES_C', 'NAQ_F', 'CVL_A', 'NOR_A', 'HDF_D', 'CVL_A',\n",
       "       'HDF_D', 'BRE_A', 'GES_C', 'NAQ_D', 'HDF_D', 'CVL_B', 'CVL_B',\n",
       "       'HDF_D', 'CVL_B', 'NAQ_A', 'CVL_B', 'HDF_D', 'GES_C', 'NAQ_D',\n",
       "       'NAQ_F', 'ARA_A', 'HDF_D', 'GES_C', 'CVL_B', 'BRE_A', 'BRE_A',\n",
       "       'HDF_D', 'NAQ_C', 'NAQ_D', 'NOR_D', 'GES_C', 'NAQ_F', 'NAQ_A',\n",
       "       'OCC_B', 'NAQ_A', 'CVL_B', 'GES_C', 'NAQ_A', 'GES_C', 'GES_C',\n",
       "       'BRE_A', 'ARA_A', 'GES_C', 'GES_C', 'NAQ_D', 'ARA_B', 'NAQ_A',\n",
       "       'CVL_A', 'NAQ_A', 'CVL_B', 'GES_C', 'CVL_B', 'GES_C', 'NAQ_F',\n",
       "       'GES_C', 'CVL_B', 'GES_C', 'BRE_A', 'NAQ_A', 'ARA_B', 'GES_C',\n",
       "       'NOR_D', 'NAQ_A', 'GES_C', 'CVL_B', 'HDF_D', 'NAQ_F', 'ARA_A',\n",
       "       'OCC_A', 'NAQ_A', 'CVL_B', 'NAQ_D', 'CVL_A', 'CVL_A', 'NAQ_F',\n",
       "       'NAQ_F', 'GES_C', 'NOR_A', 'CVL_A', 'OCC_A', 'NAQ_A', 'CVL_B',\n",
       "       'NAQ_F', 'NAQ_D', 'HDF_D', 'NOR_D', 'GES_C', 'GES_C', 'NAQ_F',\n",
       "       'CVL_B', 'HDF_D', 'NOR_A', 'OCC_A', 'NAQ_A', 'GES_C', 'CVL_B',\n",
       "       'HDF_D', 'GES_C', 'CVL_B', 'GES_C', 'NAQ_C', 'CVL_B', 'NOR_A',\n",
       "       'OCC_B', 'GES_C', 'NAQ_A', 'NAQ_F', 'NAQ_D', 'NAQ_C', 'GES_C',\n",
       "       'NAQ_F', 'HDF_D', 'GES_C', 'BRE_A', 'NAQ_A', 'GES_C', 'NAQ_A',\n",
       "       'NOR_D', 'HDF_D', 'CVL_B', 'GES_C', 'ARA_A', 'OCC_A', 'GES_C',\n",
       "       'CVL_A', 'GES_C', 'GES_C', 'NOR_D', 'GES_C', 'NAQ_C', 'GES_C',\n",
       "       'CVL_B', 'OCC_B', 'CVL_B', 'BRE_A', 'GES_C', 'GES_C', 'NAQ_A',\n",
       "       'GES_C', 'NAQ_F', 'NAQ_A', 'CVL_B', 'CVL_B', 'GES_C', 'NAQ_C',\n",
       "       'GES_C', 'GES_C', 'HDF_A', 'NAQ_A', 'NAQ_A', 'NAQ_D', 'CVL_A',\n",
       "       'NOR_A', 'ARA_B', 'NAQ_D', 'ARA_A', 'CVL_B', 'GES_C', 'HDF_D',\n",
       "       'HDF_D', 'GES_C', 'OCC_B', 'GES_C', 'GES_C', 'GES_C', 'NAQ_D',\n",
       "       'GES_C', 'GES_C', 'HDF_A', 'GES_C', 'GES_C', 'NAQ_F', 'CVL_B',\n",
       "       'OCC_A', 'GES_C', 'ARA_A', 'NAQ_A', 'NAQ_A', 'GES_C', 'NAQ_F',\n",
       "       'GES_C', 'GES_C', 'NAQ_A', 'NOR_A', 'CVL_B', 'NOR_D', 'NAQ_A',\n",
       "       'NOR_A', 'GES_C', 'GES_C', 'GES_C', 'HDF_D', 'GES_C', 'OCC_A',\n",
       "       'NOR_A', 'NAQ_A', 'GES_C', 'NOR_A', 'NAQ_A', 'HDF_D', 'NAQ_F',\n",
       "       'GES_C', 'CVL_B', 'NAQ_D', 'NAQ_F', 'GES_C', 'ARA_A', 'OCC_A',\n",
       "       'BRE_A', 'NAQ_A'], dtype=object)"
      ]
     },
     "execution_count": 166,
     "metadata": {},
     "output_type": "execute_result"
    }
   ],
   "source": [
    "model.predict(X_train_encoded)"
   ]
  },
  {
   "cell_type": "markdown",
   "id": "3358e3dd",
   "metadata": {},
   "source": [
    "## Pipeline"
   ]
  },
  {
   "cell_type": "code",
   "execution_count": null,
   "id": "3a54ed7d",
   "metadata": {},
   "outputs": [],
   "source": []
  },
  {
   "cell_type": "code",
   "execution_count": null,
   "id": "240bf73b",
   "metadata": {},
   "outputs": [],
   "source": []
  },
  {
   "cell_type": "code",
   "execution_count": null,
   "id": "0535b7fd",
   "metadata": {},
   "outputs": [],
   "source": []
  },
  {
   "cell_type": "code",
   "execution_count": null,
   "id": "b63dbaeb",
   "metadata": {},
   "outputs": [],
   "source": []
  },
  {
   "cell_type": "code",
   "execution_count": null,
   "id": "73fe0cfc",
   "metadata": {},
   "outputs": [],
   "source": []
  },
  {
   "cell_type": "code",
   "execution_count": null,
   "id": "3c6d783d",
   "metadata": {},
   "outputs": [],
   "source": []
  },
  {
   "cell_type": "code",
   "execution_count": 110,
   "id": "7e2d5a1d",
   "metadata": {},
   "outputs": [
    {
     "data": {
      "text/plain": [
       "<AxesSubplot:xlabel='NatureEH', ylabel='cluster_kmeans'>"
      ]
     },
     "execution_count": 110,
     "metadata": {},
     "output_type": "execute_result"
    },
    {
     "data": {
      "image/png": "[encoded data removed]",
      "text/plain": [
       "<Figure size 432x864 with 2 Axes>"
      ]
     },
     "metadata": {
      "needs_background": "light"
     },
     "output_type": "display_data"
    }
   ],
   "source": [
    "plt.figure(figsize=(6,12))\n",
    "sns.heatmap(pd.crosstab(data.cluster_kmeans, data.NatureEH, normalize=\"index\"))"
   ]
  },
  {
   "cell_type": "code",
   "execution_count": null,
   "id": "7d76dfce",
   "metadata": {},
   "outputs": [],
   "source": []
  },
  {
   "cell_type": "code",
   "execution_count": null,
   "id": "4343f0cf",
   "metadata": {},
   "outputs": [],
   "source": []
  },
  {
   "cell_type": "code",
   "execution_count": null,
   "id": "7442252e",
   "metadata": {},
   "outputs": [],
   "source": []
  },
  {
   "cell_type": "code",
   "execution_count": null,
   "id": "cc46b59a",
   "metadata": {},
   "outputs": [],
   "source": []
  },
  {
   "cell_type": "markdown",
   "id": "3ee4ee0b",
   "metadata": {},
   "source": [
    "# Import de la table des clusters et code_bss"
   ]
  },
  {
   "cell_type": "code",
   "execution_count": 44,
   "id": "8ea62ff0",
   "metadata": {},
   "outputs": [
    {
     "name": "stdout",
     "output_type": "stream",
     "text": [
      "Connexion réussie à SQLite\n",
      "Connexion SQLite est fermée\n"
     ]
    }
   ],
   "source": [
    "requete = \"\"\"\n",
    "        SELECT *\n",
    "        FROM flagship_piezo_FRANCE\n",
    "\"\"\"\n",
    "liste = pd.DataFrame(f_requete_sql(requete))\n",
    "liste.columns = [\"cluster\", \"code_bss\"]\n",
    "liste.set_index(\"cluster\", inplace=True)"
   ]
  },
  {
   "cell_type": "markdown",
   "id": "273e490c",
   "metadata": {},
   "source": [
    "## Ajout champ level en fonction du nom de cluster"
   ]
  },
  {
   "cell_type": "code",
   "execution_count": 56,
   "id": "5721526f",
   "metadata": {},
   "outputs": [
    {
     "data": {
      "text/html": [
       "<div>\n",
       "<style scoped>\n",
       "    .dataframe tbody tr th:only-of-type {\n",
       "        vertical-align: middle;\n",
       "    }\n",
       "\n",
       "    .dataframe tbody tr th {\n",
       "        vertical-align: top;\n",
       "    }\n",
       "\n",
       "    .dataframe thead th {\n",
       "        text-align: right;\n",
       "    }\n",
       "</style>\n",
       "<table border=\"1\" class=\"dataframe\">\n",
       "  <thead>\n",
       "    <tr style=\"text-align: right;\">\n",
       "      <th></th>\n",
       "      <th>code_bss</th>\n",
       "      <th>level</th>\n",
       "    </tr>\n",
       "    <tr>\n",
       "      <th>cluster</th>\n",
       "      <th></th>\n",
       "      <th></th>\n",
       "    </tr>\n",
       "  </thead>\n",
       "  <tbody>\n",
       "    <tr>\n",
       "      <th>FRANCE_1</th>\n",
       "      <td>00801X0005_S1</td>\n",
       "      <td>1</td>\n",
       "    </tr>\n",
       "    <tr>\n",
       "      <th>FRANCE_2</th>\n",
       "      <td>09668X0106_16</td>\n",
       "      <td>1</td>\n",
       "    </tr>\n",
       "    <tr>\n",
       "      <th>FRANCE_3</th>\n",
       "      <td>07545X0002_F1</td>\n",
       "      <td>1</td>\n",
       "    </tr>\n",
       "    <tr>\n",
       "      <th>FRANCE_11</th>\n",
       "      <td>04851X0091_PZ</td>\n",
       "      <td>2</td>\n",
       "    </tr>\n",
       "    <tr>\n",
       "      <th>FRANCE_12</th>\n",
       "      <td>01815X0006_FAEP</td>\n",
       "      <td>2</td>\n",
       "    </tr>\n",
       "    <tr>\n",
       "      <th>FRANCE_21</th>\n",
       "      <td>03795X0037_55</td>\n",
       "      <td>2</td>\n",
       "    </tr>\n",
       "    <tr>\n",
       "      <th>FRANCE_22</th>\n",
       "      <td>07208X0197_F1C</td>\n",
       "      <td>2</td>\n",
       "    </tr>\n",
       "    <tr>\n",
       "      <th>FRANCE_31</th>\n",
       "      <td>07545X0002_F1</td>\n",
       "      <td>2</td>\n",
       "    </tr>\n",
       "    <tr>\n",
       "      <th>FRANCE_111</th>\n",
       "      <td>00263X0006_P1</td>\n",
       "      <td>3</td>\n",
       "    </tr>\n",
       "    <tr>\n",
       "      <th>FRANCE_112</th>\n",
       "      <td>09258X0005_F</td>\n",
       "      <td>3</td>\n",
       "    </tr>\n",
       "  </tbody>\n",
       "</table>\n",
       "</div>"
      ],
      "text/plain": [
       "                   code_bss  level\n",
       "cluster                           \n",
       "FRANCE_1      00801X0005_S1      1\n",
       "FRANCE_2      09668X0106_16      1\n",
       "FRANCE_3      07545X0002_F1      1\n",
       "FRANCE_11     04851X0091_PZ      2\n",
       "FRANCE_12   01815X0006_FAEP      2\n",
       "FRANCE_21     03795X0037_55      2\n",
       "FRANCE_22    07208X0197_F1C      2\n",
       "FRANCE_31     07545X0002_F1      2\n",
       "FRANCE_111    00263X0006_P1      3\n",
       "FRANCE_112     09258X0005_F      3"
      ]
     },
     "execution_count": 56,
     "metadata": {},
     "output_type": "execute_result"
    }
   ],
   "source": [
    "liste[\"level\"] = [len(cluster[1]) for cluster in liste.index.str.split(\"_\")]\n",
    "liste.head(10)"
   ]
  },
  {
   "cell_type": "code",
   "execution_count": 57,
   "id": "f4de3aad",
   "metadata": {},
   "outputs": [],
   "source": [
    "level = 2"
   ]
  },
  {
   "cell_type": "code",
   "execution_count": 58,
   "id": "342eae55",
   "metadata": {},
   "outputs": [],
   "source": [
    "custom_date_parser = lambda x: datetime.strptime(x, \"%Y-%m-%d\")\n",
    "\n",
    "liste_piezo = liste.loc[(liste.level == level),\"code_bss\"].values\n",
    "\n",
    "chroniques = pd.read_csv(f\"./data/piezo/{liste_piezo[0]}.csv\", sep = \";\", parse_dates=True, date_parser=custom_date_parser, index_col=\"date_mesure\")\n",
    "chroniques.columns = [liste_piezo[0]]"
   ]
  },
  {
   "cell_type": "code",
   "execution_count": 59,
   "id": "72bc9684",
   "metadata": {},
   "outputs": [
    {
     "data": {
      "text/html": [
       "<div>\n",
       "<style scoped>\n",
       "    .dataframe tbody tr th:only-of-type {\n",
       "        vertical-align: middle;\n",
       "    }\n",
       "\n",
       "    .dataframe tbody tr th {\n",
       "        vertical-align: top;\n",
       "    }\n",
       "\n",
       "    .dataframe thead th {\n",
       "        text-align: right;\n",
       "    }\n",
       "</style>\n",
       "<table border=\"1\" class=\"dataframe\">\n",
       "  <thead>\n",
       "    <tr style=\"text-align: right;\">\n",
       "      <th></th>\n",
       "      <th>04851X0091_PZ</th>\n",
       "      <th>01815X0006_FAEP</th>\n",
       "      <th>03795X0037_55</th>\n",
       "      <th>07208X0197_F1C</th>\n",
       "      <th>07545X0002_F1</th>\n",
       "    </tr>\n",
       "    <tr>\n",
       "      <th>date_mesure</th>\n",
       "      <th></th>\n",
       "      <th></th>\n",
       "      <th></th>\n",
       "      <th></th>\n",
       "      <th></th>\n",
       "    </tr>\n",
       "  </thead>\n",
       "  <tbody>\n",
       "    <tr>\n",
       "      <th>2021-11-04</th>\n",
       "      <td>-16.588571</td>\n",
       "      <td>-15.022857</td>\n",
       "      <td>-6.99</td>\n",
       "      <td>-13.314286</td>\n",
       "      <td>-1.644286</td>\n",
       "    </tr>\n",
       "    <tr>\n",
       "      <th>2021-11-11</th>\n",
       "      <td>-16.597143</td>\n",
       "      <td>-15.072857</td>\n",
       "      <td>-7.07</td>\n",
       "      <td>-13.314286</td>\n",
       "      <td>-1.638571</td>\n",
       "    </tr>\n",
       "    <tr>\n",
       "      <th>2021-11-18</th>\n",
       "      <td>-16.600000</td>\n",
       "      <td>-15.188571</td>\n",
       "      <td>-7.11</td>\n",
       "      <td>-13.314286</td>\n",
       "      <td>-1.648571</td>\n",
       "    </tr>\n",
       "    <tr>\n",
       "      <th>2021-11-25</th>\n",
       "      <td>-16.605714</td>\n",
       "      <td>-15.132857</td>\n",
       "      <td>-7.19</td>\n",
       "      <td>-13.314286</td>\n",
       "      <td>-1.602857</td>\n",
       "    </tr>\n",
       "    <tr>\n",
       "      <th>2021-12-02</th>\n",
       "      <td>-16.607143</td>\n",
       "      <td>-15.184286</td>\n",
       "      <td>-7.25</td>\n",
       "      <td>-13.307143</td>\n",
       "      <td>-1.513333</td>\n",
       "    </tr>\n",
       "    <tr>\n",
       "      <th>2021-12-09</th>\n",
       "      <td>-16.607143</td>\n",
       "      <td>-15.150000</td>\n",
       "      <td>-7.32</td>\n",
       "      <td>-13.332857</td>\n",
       "      <td>-1.142857</td>\n",
       "    </tr>\n",
       "    <tr>\n",
       "      <th>2021-12-16</th>\n",
       "      <td>-16.610000</td>\n",
       "      <td>-15.075714</td>\n",
       "      <td>-7.35</td>\n",
       "      <td>-13.330000</td>\n",
       "      <td>-1.151429</td>\n",
       "    </tr>\n",
       "    <tr>\n",
       "      <th>2021-12-23</th>\n",
       "      <td>-16.598571</td>\n",
       "      <td>-14.952857</td>\n",
       "      <td>-7.39</td>\n",
       "      <td>-13.334286</td>\n",
       "      <td>-1.130000</td>\n",
       "    </tr>\n",
       "    <tr>\n",
       "      <th>2021-12-30</th>\n",
       "      <td>-16.570000</td>\n",
       "      <td>-14.861429</td>\n",
       "      <td>-7.36</td>\n",
       "      <td>-13.331429</td>\n",
       "      <td>-1.011429</td>\n",
       "    </tr>\n",
       "    <tr>\n",
       "      <th>2022-01-06</th>\n",
       "      <td>-16.532857</td>\n",
       "      <td>-14.711429</td>\n",
       "      <td>-7.42</td>\n",
       "      <td>-13.344286</td>\n",
       "      <td>-0.992857</td>\n",
       "    </tr>\n",
       "    <tr>\n",
       "      <th>2022-01-13</th>\n",
       "      <td>-16.515714</td>\n",
       "      <td>-14.344286</td>\n",
       "      <td>-7.48</td>\n",
       "      <td>-13.347143</td>\n",
       "      <td>-0.975714</td>\n",
       "    </tr>\n",
       "    <tr>\n",
       "      <th>2022-01-20</th>\n",
       "      <td>-16.504286</td>\n",
       "      <td>-14.087143</td>\n",
       "      <td>-7.51</td>\n",
       "      <td>-13.355714</td>\n",
       "      <td>-1.045714</td>\n",
       "    </tr>\n",
       "    <tr>\n",
       "      <th>2022-01-27</th>\n",
       "      <td>-16.500000</td>\n",
       "      <td>-13.902857</td>\n",
       "      <td>NaN</td>\n",
       "      <td>-13.355714</td>\n",
       "      <td>-1.100000</td>\n",
       "    </tr>\n",
       "    <tr>\n",
       "      <th>2022-02-03</th>\n",
       "      <td>-16.502857</td>\n",
       "      <td>-13.871429</td>\n",
       "      <td>NaN</td>\n",
       "      <td>-13.351429</td>\n",
       "      <td>-1.121429</td>\n",
       "    </tr>\n",
       "    <tr>\n",
       "      <th>2022-02-10</th>\n",
       "      <td>-16.512857</td>\n",
       "      <td>-13.697143</td>\n",
       "      <td>NaN</td>\n",
       "      <td>-13.348571</td>\n",
       "      <td>-1.138571</td>\n",
       "    </tr>\n",
       "    <tr>\n",
       "      <th>2022-02-17</th>\n",
       "      <td>-16.517143</td>\n",
       "      <td>-13.668571</td>\n",
       "      <td>NaN</td>\n",
       "      <td>-13.364286</td>\n",
       "      <td>-0.984286</td>\n",
       "    </tr>\n",
       "    <tr>\n",
       "      <th>2022-02-24</th>\n",
       "      <td>-16.520000</td>\n",
       "      <td>-13.570000</td>\n",
       "      <td>NaN</td>\n",
       "      <td>-13.367143</td>\n",
       "      <td>-1.057143</td>\n",
       "    </tr>\n",
       "    <tr>\n",
       "      <th>2022-03-03</th>\n",
       "      <td>-16.521429</td>\n",
       "      <td>-13.622857</td>\n",
       "      <td>NaN</td>\n",
       "      <td>-13.377143</td>\n",
       "      <td>-1.122857</td>\n",
       "    </tr>\n",
       "    <tr>\n",
       "      <th>2022-03-10</th>\n",
       "      <td>-16.521429</td>\n",
       "      <td>-13.608571</td>\n",
       "      <td>NaN</td>\n",
       "      <td>-13.381429</td>\n",
       "      <td>-1.065714</td>\n",
       "    </tr>\n",
       "    <tr>\n",
       "      <th>2022-03-17</th>\n",
       "      <td>-16.530000</td>\n",
       "      <td>-13.737143</td>\n",
       "      <td>NaN</td>\n",
       "      <td>-13.384286</td>\n",
       "      <td>-1.065714</td>\n",
       "    </tr>\n",
       "    <tr>\n",
       "      <th>2022-03-24</th>\n",
       "      <td>-16.530000</td>\n",
       "      <td>-13.797143</td>\n",
       "      <td>NaN</td>\n",
       "      <td>-13.380000</td>\n",
       "      <td>-1.170000</td>\n",
       "    </tr>\n",
       "    <tr>\n",
       "      <th>2022-03-31</th>\n",
       "      <td>-16.537143</td>\n",
       "      <td>-13.910000</td>\n",
       "      <td>NaN</td>\n",
       "      <td>-13.397143</td>\n",
       "      <td>-1.232857</td>\n",
       "    </tr>\n",
       "    <tr>\n",
       "      <th>2022-04-07</th>\n",
       "      <td>-16.538571</td>\n",
       "      <td>-13.841429</td>\n",
       "      <td>NaN</td>\n",
       "      <td>-13.397143</td>\n",
       "      <td>-1.148571</td>\n",
       "    </tr>\n",
       "    <tr>\n",
       "      <th>2022-04-14</th>\n",
       "      <td>-16.545714</td>\n",
       "      <td>-13.817143</td>\n",
       "      <td>NaN</td>\n",
       "      <td>-13.402857</td>\n",
       "      <td>-1.217143</td>\n",
       "    </tr>\n",
       "    <tr>\n",
       "      <th>2022-04-21</th>\n",
       "      <td>-16.547143</td>\n",
       "      <td>-13.750000</td>\n",
       "      <td>NaN</td>\n",
       "      <td>-13.410000</td>\n",
       "      <td>-1.042857</td>\n",
       "    </tr>\n",
       "    <tr>\n",
       "      <th>2022-04-28</th>\n",
       "      <td>-16.561429</td>\n",
       "      <td>-13.898571</td>\n",
       "      <td>NaN</td>\n",
       "      <td>-13.414286</td>\n",
       "      <td>-1.070000</td>\n",
       "    </tr>\n",
       "    <tr>\n",
       "      <th>2022-05-05</th>\n",
       "      <td>-16.574286</td>\n",
       "      <td>-13.912857</td>\n",
       "      <td>NaN</td>\n",
       "      <td>-13.420000</td>\n",
       "      <td>-1.212857</td>\n",
       "    </tr>\n",
       "    <tr>\n",
       "      <th>2022-05-12</th>\n",
       "      <td>-16.585714</td>\n",
       "      <td>-13.978571</td>\n",
       "      <td>NaN</td>\n",
       "      <td>-13.420000</td>\n",
       "      <td>-1.325714</td>\n",
       "    </tr>\n",
       "    <tr>\n",
       "      <th>2022-05-19</th>\n",
       "      <td>-16.598571</td>\n",
       "      <td>-14.012857</td>\n",
       "      <td>NaN</td>\n",
       "      <td>NaN</td>\n",
       "      <td>-1.375714</td>\n",
       "    </tr>\n",
       "    <tr>\n",
       "      <th>2022-05-26</th>\n",
       "      <td>NaN</td>\n",
       "      <td>-14.104000</td>\n",
       "      <td>NaN</td>\n",
       "      <td>NaN</td>\n",
       "      <td>-1.382500</td>\n",
       "    </tr>\n",
       "  </tbody>\n",
       "</table>\n",
       "</div>"
      ],
      "text/plain": [
       "             04851X0091_PZ  01815X0006_FAEP  03795X0037_55  07208X0197_F1C  \\\n",
       "date_mesure                                                                  \n",
       "2021-11-04      -16.588571       -15.022857          -6.99      -13.314286   \n",
       "2021-11-11      -16.597143       -15.072857          -7.07      -13.314286   \n",
       "2021-11-18      -16.600000       -15.188571          -7.11      -13.314286   \n",
       "2021-11-25      -16.605714       -15.132857          -7.19      -13.314286   \n",
       "2021-12-02      -16.607143       -15.184286          -7.25      -13.307143   \n",
       "2021-12-09      -16.607143       -15.150000          -7.32      -13.332857   \n",
       "2021-12-16      -16.610000       -15.075714          -7.35      -13.330000   \n",
       "2021-12-23      -16.598571       -14.952857          -7.39      -13.334286   \n",
       "2021-12-30      -16.570000       -14.861429          -7.36      -13.331429   \n",
       "2022-01-06      -16.532857       -14.711429          -7.42      -13.344286   \n",
       "2022-01-13      -16.515714       -14.344286          -7.48      -13.347143   \n",
       "2022-01-20      -16.504286       -14.087143          -7.51      -13.355714   \n",
       "2022-01-27      -16.500000       -13.902857            NaN      -13.355714   \n",
       "2022-02-03      -16.502857       -13.871429            NaN      -13.351429   \n",
       "2022-02-10      -16.512857       -13.697143            NaN      -13.348571   \n",
       "2022-02-17      -16.517143       -13.668571            NaN      -13.364286   \n",
       "2022-02-24      -16.520000       -13.570000            NaN      -13.367143   \n",
       "2022-03-03      -16.521429       -13.622857            NaN      -13.377143   \n",
       "2022-03-10      -16.521429       -13.608571            NaN      -13.381429   \n",
       "2022-03-17      -16.530000       -13.737143            NaN      -13.384286   \n",
       "2022-03-24      -16.530000       -13.797143            NaN      -13.380000   \n",
       "2022-03-31      -16.537143       -13.910000            NaN      -13.397143   \n",
       "2022-04-07      -16.538571       -13.841429            NaN      -13.397143   \n",
       "2022-04-14      -16.545714       -13.817143            NaN      -13.402857   \n",
       "2022-04-21      -16.547143       -13.750000            NaN      -13.410000   \n",
       "2022-04-28      -16.561429       -13.898571            NaN      -13.414286   \n",
       "2022-05-05      -16.574286       -13.912857            NaN      -13.420000   \n",
       "2022-05-12      -16.585714       -13.978571            NaN      -13.420000   \n",
       "2022-05-19      -16.598571       -14.012857            NaN             NaN   \n",
       "2022-05-26             NaN       -14.104000            NaN             NaN   \n",
       "\n",
       "             07545X0002_F1  \n",
       "date_mesure                 \n",
       "2021-11-04       -1.644286  \n",
       "2021-11-11       -1.638571  \n",
       "2021-11-18       -1.648571  \n",
       "2021-11-25       -1.602857  \n",
       "2021-12-02       -1.513333  \n",
       "2021-12-09       -1.142857  \n",
       "2021-12-16       -1.151429  \n",
       "2021-12-23       -1.130000  \n",
       "2021-12-30       -1.011429  \n",
       "2022-01-06       -0.992857  \n",
       "2022-01-13       -0.975714  \n",
       "2022-01-20       -1.045714  \n",
       "2022-01-27       -1.100000  \n",
       "2022-02-03       -1.121429  \n",
       "2022-02-10       -1.138571  \n",
       "2022-02-17       -0.984286  \n",
       "2022-02-24       -1.057143  \n",
       "2022-03-03       -1.122857  \n",
       "2022-03-10       -1.065714  \n",
       "2022-03-17       -1.065714  \n",
       "2022-03-24       -1.170000  \n",
       "2022-03-31       -1.232857  \n",
       "2022-04-07       -1.148571  \n",
       "2022-04-14       -1.217143  \n",
       "2022-04-21       -1.042857  \n",
       "2022-04-28       -1.070000  \n",
       "2022-05-05       -1.212857  \n",
       "2022-05-12       -1.325714  \n",
       "2022-05-19       -1.375714  \n",
       "2022-05-26       -1.382500  "
      ]
     },
     "execution_count": 59,
     "metadata": {},
     "output_type": "execute_result"
    }
   ],
   "source": [
    "custom_date_parser = lambda x: datetime.strptime(x, \"%Y-%m-%d\")\n",
    "\n",
    "liste_piezo = liste.loc[(liste.level == level),\"code_bss\"].values\n",
    "\n",
    "chroniques = pd.read_csv(f\"./data/piezo/{liste_piezo[0]}.csv\", sep = \";\", parse_dates=True, date_parser=custom_date_parser, index_col=\"date_mesure\")\n",
    "chroniques.columns = [liste_piezo[0]]\n",
    "chroniques = chroniques.resample('7D', origin =\"epoch\").mean()\n",
    "\n",
    "for piezo in liste_piezo[1:]:\n",
    "    df = pd.read_csv(f\"./data/piezo/{piezo}.csv\", sep=\";\",  index_col=0, parse_dates=True, date_parser=custom_date_parser)\n",
    "    df = df.resample('7D', origin =\"epoch\").mean()\n",
    "    df.rename(columns={\"piezo\":f\"{piezo}\"}, inplace=True)\n",
    "    chroniques = pd.merge(chroniques,df,left_index=True, right_index=True,how='outer')\n",
    "chroniques.tail(30)"
   ]
  },
  {
   "cell_type": "code",
   "execution_count": 60,
   "id": "c1de7d6f",
   "metadata": {},
   "outputs": [
    {
     "data": {
      "image/png": "[encoded data removed]",
      "text/plain": [
       "<Figure size 1080x1080 with 5 Axes>"
      ]
     },
     "metadata": {
      "needs_background": "light"
     },
     "output_type": "display_data"
    }
   ],
   "source": [
    "fig, ax = plt.subplots(nrows=len(liste_piezo), ncols=1, figsize=(15,15))\n",
    "for index, piezo in enumerate (liste_piezo):\n",
    "    chroniques.loc[:,piezo].plot(ax=ax[index])"
   ]
  },
  {
   "cell_type": "code",
   "execution_count": 66,
   "id": "b588e5d4",
   "metadata": {},
   "outputs": [],
   "source": [
    "first_date = chroniques.apply(lambda col: col.first_valid_index()).max()\n",
    "last_date = chroniques.apply(lambda col: col.last_valid_index()).min()"
   ]
  },
  {
   "cell_type": "code",
   "execution_count": 70,
   "id": "ad6f4262",
   "metadata": {},
   "outputs": [],
   "source": [
    "chroniques = chroniques.loc[first_date : ]"
   ]
  },
  {
   "cell_type": "code",
   "execution_count": 71,
   "id": "f31559fc",
   "metadata": {},
   "outputs": [
    {
     "data": {
      "text/plain": [
       "<AxesSubplot:xlabel='date_mesure'>"
      ]
     },
     "execution_count": 71,
     "metadata": {},
     "output_type": "execute_result"
    },
    {
     "data": {
      "image/png": "[encoded data removed]",
      "text/plain": [
       "<Figure size 432x288 with 1 Axes>"
      ]
     },
     "metadata": {
      "needs_background": "light"
     },
     "output_type": "display_data"
    }
   ],
   "source": [
    "chroniques.plot()"
   ]
  },
  {
   "cell_type": "markdown",
   "id": "9c3373a2",
   "metadata": {},
   "source": [
    "# Nettoyage des chroniques"
   ]
  },
  {
   "cell_type": "code",
   "execution_count": null,
   "id": "e2826f37",
   "metadata": {},
   "outputs": [],
   "source": []
  },
  {
   "cell_type": "markdown",
   "id": "484226b7",
   "metadata": {},
   "source": [
    "# Stationnarité"
   ]
  },
  {
   "cell_type": "markdown",
   "id": "12c297e1",
   "metadata": {},
   "source": [
    "Le test de Dickey-Fuller augmenté peut être utilisé pour tester une racine unitaire dans un processus univarié en présence d'une corrélation sérielle.  \n",
    "\n",
    "L'hypothèse nulle du Dickey-Fuller augmenté est qu'il existe une racine unitaire, avec l'alternative qu'il n'y a pas de racine unitaire. Si la pvalue est supérieure à une taille critique, nous ne pouvons pas rejeter l'existence d'une racine unitaire.\n",
    "\n",
    "Les valeurs de p sont obtenues par approximation de surface de régression à partir de MacKinnon 1994, mais en utilisant les tables mises à jour de 2010. Si la valeur de p est proche de la signification, les valeurs critiques doivent être utilisées pour déterminer s'il faut rejeter la valeur nulle.\n",
    "\n",
    "L'hypothèse nulle est que la série n'est pas stationnaire"
   ]
  },
  {
   "cell_type": "code",
   "execution_count": null,
   "id": "63e91d10",
   "metadata": {},
   "outputs": [],
   "source": [
    "def tsplot(y, lags=None, figsize=(12, 7), syle='bmh'):\n",
    "    \n",
    "    if not isinstance(y, pd.Series):\n",
    "        y = pd.Series(y)\n",
    "        \n",
    "    with plt.style.context(style='bmh'):\n",
    "        fig = plt.figure(figsize=figsize)\n",
    "        layout = (2,2)\n",
    "        ts_ax = plt.subplot2grid(layout, (0,0), colspan=2)\n",
    "        acf_ax = plt.subplot2grid(layout, (1,0))\n",
    "        pacf_ax = plt.subplot2grid(layout, (1,1))\n",
    "        \n",
    "        y.plot(ax=ts_ax)\n",
    "        p_value = sm.tsa.stattools.adfuller(y)[1]\n",
    "        ts_ax.set_title(f'Time Series Analysis Plots\\n Dickey-Fuller: p={0:.5f}'.format(p_value))\n",
    "        smt.graphics.plot_acf(y, lags=lags, ax=acf_ax)\n",
    "        smt.graphics.plot_pacf(y, lags=lags, ax=pacf_ax, method='ywm')\n",
    "        plt.tight_layout()\n",
    "    \n",
    "    return p_value"
   ]
  },
  {
   "cell_type": "code",
   "execution_count": null,
   "id": "d620b347",
   "metadata": {},
   "outputs": [],
   "source": [
    "data"
   ]
  },
  {
   "cell_type": "code",
   "execution_count": null,
   "id": "047c83eb",
   "metadata": {
    "scrolled": false
   },
   "outputs": [],
   "source": [
    "Analyse_cluster = pd.DataFrame(columns=[\"adfuller\"], index=data.columns, dtype=float)\n",
    "for cluster in data.columns :\n",
    "    p_value = tsplot(data[cluster], lags=50)\n",
    "    Analyse_cluster.loc[cluster, \"adfuller\"] = p_value"
   ]
  },
  {
   "cell_type": "code",
   "execution_count": null,
   "id": "aca510a9",
   "metadata": {},
   "outputs": [],
   "source": [
    "Analyse_cluster"
   ]
  },
  {
   "cell_type": "code",
   "execution_count": null,
   "id": "3300642e",
   "metadata": {},
   "outputs": [],
   "source": []
  }
 ],
 "metadata": {
  "kernelspec": {
   "display_name": "Python 3.10.4 64-bit",
   "language": "python",
   "name": "python3"
  },
  "language_info": {
   "codemirror_mode": {
    "name": "ipython",
    "version": 3
   },
   "file_extension": ".py",
   "mimetype": "text/x-python",
   "name": "python",
   "nbconvert_exporter": "python",
   "pygments_lexer": "ipython3",
   "version": "3.10.4"
  },
  "toc": {
   "base_numbering": 1,
   "nav_menu": {},
   "number_sections": true,
   "sideBar": true,
   "skip_h1_title": false,
   "title_cell": "Table of Contents",
   "title_sidebar": "Contents",
   "toc_cell": false,
   "toc_position": {},
   "toc_section_display": true,
   "toc_window_display": false
  },
  "varInspector": {
   "cols": {
    "lenName": 16,
    "lenType": 16,
    "lenVar": 40
   },
   "kernels_config": {
    "python": {
     "delete_cmd_postfix": "",
     "delete_cmd_prefix": "del ",
     "library": "var_list.py",
     "varRefreshCmd": "print(var_dic_list())"
    },
    "r": {
     "delete_cmd_postfix": ") ",
     "delete_cmd_prefix": "rm(",
     "library": "var_list.r",
     "varRefreshCmd": "cat(var_dic_list()) "
    }
   },
   "types_to_exclude": [
    "module",
    "function",
    "builtin_function_or_method",
    "instance",
    "_Feature"
   ],
   "window_display": false
  },
  "vscode": {
   "interpreter": {
    "hash": "72fbbd9d8cf6dba12e3d195fbec14fc9c7e4871b10f32d2d7f39d599a44fa0d8"
   }
  }
 },
 "nbformat": 4,
 "nbformat_minor": 5
}
