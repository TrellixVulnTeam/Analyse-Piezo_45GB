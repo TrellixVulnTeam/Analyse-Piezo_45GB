{
 "cells": [
  {
   "cell_type": "code",
   "execution_count": 1,
   "id": "68e496b9",
   "metadata": {},
   "outputs": [],
   "source": [
    "import requests\n",
    "import pandas as pd\n",
    "import xarray as xr\n",
    "import sqlite3\n",
    "from sqlalchemy import create_engine \n",
    "import os"
   ]
  },
  {
   "cell_type": "code",
   "execution_count": null,
   "id": "e821ceb3",
   "metadata": {},
   "outputs": [],
   "source": []
  },
  {
   "cell_type": "code",
   "execution_count": 6,
   "id": "fcd31261",
   "metadata": {},
   "outputs": [
    {
     "name": "stdout",
     "output_type": "stream",
     "text": [
      "https://hubeau.eaufrance.fr/api/v1/niveaux_nappes/stations?code_departement=45045045&format=json&size=10000\n"
     ]
    }
   ],
   "source": [
    "departement = [\"45\"]\n",
    "for dpt in departement:\n",
    "    if len(dpt) < 10 :\n",
    "        requete_dpt += '0' + str(dpt) + '%2C'\n",
    "    else :\n",
    "        requete_dpt += str(dpt) + '%2C'\n",
    "requete_dpt = requete_dpt[0:-3]    \n",
    "\n",
    "url = f\"https://hubeau.eaufrance.fr/api/v1/niveaux_nappes/stations?code_departement={requete_dpt}&format=json&size=10000\"\n",
    "print(url)\n",
    "get= requests.get(f\"{url}\")"
   ]
  },
  {
   "cell_type": "code",
   "execution_count": null,
   "id": "f18e73f7",
   "metadata": {},
   "outputs": [],
   "source": []
  },
  {
   "cell_type": "markdown",
   "id": "03e95ffc",
   "metadata": {},
   "source": [
    "# Récupération des données"
   ]
  },
  {
   "cell_type": "markdown",
   "id": "74e12ffd",
   "metadata": {},
   "source": [
    "## Requête API et création du dataframe"
   ]
  },
  {
   "cell_type": "code",
   "execution_count": 249,
   "id": "9382031d",
   "metadata": {},
   "outputs": [],
   "source": [
    "def f_list_piezzo(departement:list, nbre_mesures:int=50) -> list:\n",
    "    \"\"\"\n",
    "    departement : liste des départements recherchés\n",
    "    date : date au format Y-m-d (2022-05-19)\n",
    "    return : liste des code_bss et autres informations\n",
    "    \"\"\"\n",
    "    requete_dpt = \"\"\n",
    "    for dpt in departement:\n",
    "        if dpt < 10 :\n",
    "            requete_dpt += '0' + str(dpt) + '%2C'\n",
    "        else :\n",
    "            requete_dpt += str(dpt) + '%2C'\n",
    "    requete_dpt = requete_dpt[0:-3]    \n",
    "        \n",
    "    url = f\"https://hubeau.eaufrance.fr/api/v1/niveaux_nappes/stations?code_departement={requete_dpt}&format=json&nb_mesures_piezo_min={nbre_mesures}&size=10000\"\n",
    "    print(url)\n",
    "    get= requests.get(f\"{url}\")\n",
    "    data_piezo = pd.DataFrame(columns=['code_bss',\n",
    "                                       'date_debut',\n",
    "                                      'date_fin',\n",
    "                                       'nb_mesures_piezo',\n",
    "                                       'code_dpt',\n",
    "                                      'code_commune_insee',\n",
    "                                      'nom_commune',\n",
    "                                      'latitude',\n",
    "                                      'longitude',\n",
    "                                      'altitude_station',\n",
    "                                      'profondeur_investigation',\n",
    "                                      \"codes_bdlisa\",\n",
    "                                      \"libelle_pe\",\n",
    "                                      \"codes_masse_eau_edl\",\n",
    "                                      \"noms_masse_eau_edl\"])\n",
    "    data_piezo[\"code_bss\"] = [x['code_bss'].replace(\"/\",\"_\") for x in get.json()['data']]\n",
    "    data_piezo[\"date_debut\"] = [pd.to_datetime(x['date_debut_mesure'], format=\"%Y/%m/%d\") for x in get.json()['data']]\n",
    "    data_piezo[\"date_fin\"] = [pd.to_datetime(x['date_fin_mesure'], format=\"%Y/%m/%d\") for x in get.json()['data']]\n",
    "    data_piezo[\"nb_mesures_piezo\"] = [x['nb_mesures_piezo'] for x in get.json()['data']]    \n",
    "    data_piezo[\"code_dpt\"] = [x['code_departement'] for x in get.json()['data']]    \n",
    "    data_piezo[\"code_commune_insee\"] = [x['code_commune_insee'] for x in get.json()['data']]\n",
    "    data_piezo[\"nom_commune\"] = [x['nom_commune'] for x in get.json()['data']]\n",
    "    data_piezo[\"latitude\"] = [x['y'] for x in get.json()['data']]\n",
    "    data_piezo[\"longitude\"] = [x['x'] for x in get.json()['data']]\n",
    "    data_piezo[\"altitude_station\"] = [float(x['altitude_station']) for x in get.json()['data']]\n",
    "    data_piezo[\"profondeur_investigation\"] = [x['profondeur_investigation'] for x in get.json()['data']] \n",
    "    \n",
    "    # Gestion du format tableau et des Nan pour les colonnes suivantes :\n",
    "    data_piezo[\"codes_bdlisa\"] = [x['codes_bdlisa'] for x in get.json()['data']]\n",
    "    bdlisa = []\n",
    "    for item in list(data_piezo[\"codes_bdlisa\"]):\n",
    "        if item == None:\n",
    "            bdlisa.append(None)\n",
    "        else :\n",
    "            bdlisa.append(item[0])\n",
    "    data_piezo[\"codes_bdlisa\"] = np.array(bdlisa)\n",
    "    \n",
    "    data_piezo[\"libelle_pe\"] = [x['libelle_pe'] for x in get.json()['data']]\n",
    "    libelle_pe = []\n",
    "    for item in list(data_piezo[\"libelle_pe\"]):\n",
    "        if item == None:\n",
    "            libelle_pe.append(None)\n",
    "        else :\n",
    "            libelle_pe.append(item[0])\n",
    "    data_piezo[\"libelle_pe\"] = np.array(libelle_pe)\n",
    "    \n",
    "    data_piezo[\"codes_masse_eau_edl\"] = [x['codes_masse_eau_edl'] for x in get.json()['data']]\n",
    "    codes_masse_eau_edl = []\n",
    "    for item in list(data_piezo[\"codes_masse_eau_edl\"]):\n",
    "        if item == None:\n",
    "            codes_masse_eau_edl.append(None)\n",
    "        else :\n",
    "            codes_masse_eau_edl.append(item[0])\n",
    "    data_piezo[\"codes_masse_eau_edl\"] = np.array(codes_masse_eau_edl)\n",
    "    \n",
    "    \n",
    "    data_piezo[\"noms_masse_eau_edl\"] = [x['noms_masse_eau_edl'] for x in get.json()['data']]\n",
    "    noms_masse_eau_edl = []\n",
    "    for item in list(data_piezo[\"noms_masse_eau_edl\"]):\n",
    "        if item == None:\n",
    "            noms_masse_eau_edl.append(None)\n",
    "        else :\n",
    "            noms_masse_eau_edl.append(item[0])\n",
    "    data_piezo[\"noms_masse_eau_edl\"] = np.array(noms_masse_eau_edl)\n",
    "    \n",
    "    return data_piezo\n"
   ]
  },
  {
   "cell_type": "code",
   "execution_count": null,
   "id": "1c37001f",
   "metadata": {},
   "outputs": [],
   "source": []
  },
  {
   "cell_type": "code",
   "execution_count": 250,
   "id": "f5430b94",
   "metadata": {},
   "outputs": [
    {
     "name": "stdout",
     "output_type": "stream",
     "text": [
      "https://hubeau.eaufrance.fr/api/v1/niveaux_nappes/stations?code_departement=01%2C02%2C03%2C04%2C05%2C06%2C07%2C08%2C09%2C10%2C11%2C12%2C13%2C14%2C15%2C16%2C17%2C18%2C19%2C20%2C21%2C22%2C23%2C24%2C25%2C26%2C27%2C28%2C29%2C30%2C31%2C32%2C33%2C34%2C35%2C36%2C37%2C38%2C39%2C40%2C41%2C42%2C43%2C44%2C45%2C46%2C47%2C48%2C49%2C50%2C51%2C52%2C53%2C54%2C55%2C56%2C57%2C58%2C59%2C60%2C61%2C62%2C63%2C64%2C65%2C66%2C67%2C68%2C69%2C70%2C71%2C72%2C73%2C74%2C75%2C76%2C77%2C78%2C79%2C80%2C81%2C82%2C83%2C84%2C85%2C86%2C87%2C88%2C89%2C90%2C91%2C92%2C93%2C94%2C95&format=json&nb_mesures_piezo_min=50&size=10000\n"
     ]
    },
    {
     "data": {
      "text/html": [
       "<div>\n",
       "<style scoped>\n",
       "    .dataframe tbody tr th:only-of-type {\n",
       "        vertical-align: middle;\n",
       "    }\n",
       "\n",
       "    .dataframe tbody tr th {\n",
       "        vertical-align: top;\n",
       "    }\n",
       "\n",
       "    .dataframe thead th {\n",
       "        text-align: right;\n",
       "    }\n",
       "</style>\n",
       "<table border=\"1\" class=\"dataframe\">\n",
       "  <thead>\n",
       "    <tr style=\"text-align: right;\">\n",
       "      <th></th>\n",
       "      <th>date_debut</th>\n",
       "      <th>date_fin</th>\n",
       "      <th>nb_mesures_piezo</th>\n",
       "      <th>code_dpt</th>\n",
       "      <th>code_commune_insee</th>\n",
       "      <th>nom_commune</th>\n",
       "      <th>latitude</th>\n",
       "      <th>longitude</th>\n",
       "      <th>altitude_station</th>\n",
       "      <th>profondeur_investigation</th>\n",
       "      <th>codes_bdlisa</th>\n",
       "      <th>libelle_pe</th>\n",
       "      <th>codes_masse_eau_edl</th>\n",
       "      <th>noms_masse_eau_edl</th>\n",
       "    </tr>\n",
       "    <tr>\n",
       "      <th>code_bss</th>\n",
       "      <th></th>\n",
       "      <th></th>\n",
       "      <th></th>\n",
       "      <th></th>\n",
       "      <th></th>\n",
       "      <th></th>\n",
       "      <th></th>\n",
       "      <th></th>\n",
       "      <th></th>\n",
       "      <th></th>\n",
       "      <th></th>\n",
       "      <th></th>\n",
       "      <th></th>\n",
       "      <th></th>\n",
       "    </tr>\n",
       "  </thead>\n",
       "  <tbody>\n",
       "    <tr>\n",
       "      <th>08272X0745_PZ-</th>\n",
       "      <td>1994-01-21</td>\n",
       "      <td>2004-06-21</td>\n",
       "      <td>125</td>\n",
       "      <td>33</td>\n",
       "      <td>33039</td>\n",
       "      <td>Bègles</td>\n",
       "      <td>44.812534</td>\n",
       "      <td>-0.564909</td>\n",
       "      <td>7.47</td>\n",
       "      <td>6.0</td>\n",
       "      <td>None</td>\n",
       "      <td>None</td>\n",
       "      <td>None</td>\n",
       "      <td>None</td>\n",
       "    </tr>\n",
       "    <tr>\n",
       "      <th>04454X0089_PK11.0</th>\n",
       "      <td>1966-11-15</td>\n",
       "      <td>1973-12-27</td>\n",
       "      <td>70</td>\n",
       "      <td>68</td>\n",
       "      <td>68163</td>\n",
       "      <td>Kembs</td>\n",
       "      <td>47.699312</td>\n",
       "      <td>7.507685</td>\n",
       "      <td>232.12</td>\n",
       "      <td>NaN</td>\n",
       "      <td>221AA17</td>\n",
       "      <td>None</td>\n",
       "      <td>CG101</td>\n",
       "      <td>Nappe d’Alsace, Pliocène de Haguenau et Oligocène</td>\n",
       "    </tr>\n",
       "    <tr>\n",
       "      <th>04134X0057_PK23.0</th>\n",
       "      <td>1968-03-22</td>\n",
       "      <td>1973-12-12</td>\n",
       "      <td>52</td>\n",
       "      <td>68</td>\n",
       "      <td>68253</td>\n",
       "      <td>Ottmarsheim</td>\n",
       "      <td>47.797436</td>\n",
       "      <td>7.530655</td>\n",
       "      <td>216.84</td>\n",
       "      <td>NaN</td>\n",
       "      <td>221AA17</td>\n",
       "      <td>None</td>\n",
       "      <td>CG101</td>\n",
       "      <td>Nappe d’Alsace, Pliocène de Haguenau et Oligocène</td>\n",
       "    </tr>\n",
       "    <tr>\n",
       "      <th>04454X0064_PK3.0</th>\n",
       "      <td>1966-11-15</td>\n",
       "      <td>1973-12-27</td>\n",
       "      <td>65</td>\n",
       "      <td>68</td>\n",
       "      <td>68286</td>\n",
       "      <td>Rosenau</td>\n",
       "      <td>47.634317</td>\n",
       "      <td>7.546158</td>\n",
       "      <td>245.98</td>\n",
       "      <td>NaN</td>\n",
       "      <td>221AA17</td>\n",
       "      <td>None</td>\n",
       "      <td>CG101</td>\n",
       "      <td>Nappe d’Alsace, Pliocène de Haguenau et Oligocène</td>\n",
       "    </tr>\n",
       "    <tr>\n",
       "      <th>04138X0071_PK14.0</th>\n",
       "      <td>1966-11-15</td>\n",
       "      <td>1973-12-27</td>\n",
       "      <td>58</td>\n",
       "      <td>68</td>\n",
       "      <td>68254</td>\n",
       "      <td>Petit-Landau</td>\n",
       "      <td>47.721099</td>\n",
       "      <td>7.530516</td>\n",
       "      <td>232.23</td>\n",
       "      <td>NaN</td>\n",
       "      <td>221AA17</td>\n",
       "      <td>None</td>\n",
       "      <td>CG101</td>\n",
       "      <td>Nappe d’Alsace, Pliocène de Haguenau et Oligocène</td>\n",
       "    </tr>\n",
       "  </tbody>\n",
       "</table>\n",
       "</div>"
      ],
      "text/plain": [
       "                  date_debut   date_fin  nb_mesures_piezo code_dpt  \\\n",
       "code_bss                                                             \n",
       "08272X0745_PZ-    1994-01-21 2004-06-21               125       33   \n",
       "04454X0089_PK11.0 1966-11-15 1973-12-27                70       68   \n",
       "04134X0057_PK23.0 1968-03-22 1973-12-12                52       68   \n",
       "04454X0064_PK3.0  1966-11-15 1973-12-27                65       68   \n",
       "04138X0071_PK14.0 1966-11-15 1973-12-27                58       68   \n",
       "\n",
       "                  code_commune_insee   nom_commune   latitude  longitude  \\\n",
       "code_bss                                                                   \n",
       "08272X0745_PZ-                 33039        Bègles  44.812534  -0.564909   \n",
       "04454X0089_PK11.0              68163         Kembs  47.699312   7.507685   \n",
       "04134X0057_PK23.0              68253   Ottmarsheim  47.797436   7.530655   \n",
       "04454X0064_PK3.0               68286       Rosenau  47.634317   7.546158   \n",
       "04138X0071_PK14.0              68254  Petit-Landau  47.721099   7.530516   \n",
       "\n",
       "                   altitude_station  profondeur_investigation codes_bdlisa  \\\n",
       "code_bss                                                                     \n",
       "08272X0745_PZ-                 7.47                       6.0         None   \n",
       "04454X0089_PK11.0            232.12                       NaN      221AA17   \n",
       "04134X0057_PK23.0            216.84                       NaN      221AA17   \n",
       "04454X0064_PK3.0             245.98                       NaN      221AA17   \n",
       "04138X0071_PK14.0            232.23                       NaN      221AA17   \n",
       "\n",
       "                  libelle_pe codes_masse_eau_edl  \\\n",
       "code_bss                                           \n",
       "08272X0745_PZ-          None                None   \n",
       "04454X0089_PK11.0       None               CG101   \n",
       "04134X0057_PK23.0       None               CG101   \n",
       "04454X0064_PK3.0        None               CG101   \n",
       "04138X0071_PK14.0       None               CG101   \n",
       "\n",
       "                                                  noms_masse_eau_edl  \n",
       "code_bss                                                              \n",
       "08272X0745_PZ-                                                  None  \n",
       "04454X0089_PK11.0  Nappe d’Alsace, Pliocène de Haguenau et Oligocène  \n",
       "04134X0057_PK23.0  Nappe d’Alsace, Pliocène de Haguenau et Oligocène  \n",
       "04454X0064_PK3.0   Nappe d’Alsace, Pliocène de Haguenau et Oligocène  \n",
       "04138X0071_PK14.0  Nappe d’Alsace, Pliocène de Haguenau et Oligocène  "
      ]
     },
     "execution_count": 250,
     "metadata": {},
     "output_type": "execute_result"
    }
   ],
   "source": [
    "liste = [_ for _ in range(1,96)]\n",
    "df_piezo = f_list_piezzo(liste, nbre_mesures=50).set_index('code_bss')\n",
    "df_piezo.head()"
   ]
  },
  {
   "cell_type": "markdown",
   "id": "7e803b08",
   "metadata": {},
   "source": [
    "## Recherche d'un piezo en particulier"
   ]
  },
  {
   "cell_type": "code",
   "execution_count": 252,
   "id": "32e41475",
   "metadata": {},
   "outputs": [
    {
     "name": "stdout",
     "output_type": "stream",
     "text": [
      "code_bss\n",
      "04994X0528_FPZ    Alluvions nappe de Dijon sud (superficielle et...\n",
      "Name: noms_masse_eau_edl, dtype: object\n"
     ]
    }
   ],
   "source": [
    "print(df_piezo.loc[df_piezo.index==\"04994X0528_FPZ\",\"noms_masse_eau_edl\"])"
   ]
  },
  {
   "cell_type": "markdown",
   "id": "b4320d26",
   "metadata": {},
   "source": [
    "# Création de la base de données"
   ]
  },
  {
   "cell_type": "markdown",
   "id": "5b42096c",
   "metadata": {},
   "source": [
    "## Création directe à partir du dataframe avec sqlalchemy"
   ]
  },
  {
   "cell_type": "code",
   "execution_count": 253,
   "id": "6d177e9d",
   "metadata": {},
   "outputs": [
    {
     "data": {
      "text/plain": [
       "Index(['date_debut', 'date_fin', 'nb_mesures_piezo', 'code_dpt',\n",
       "       'code_commune_insee', 'nom_commune', 'latitude', 'longitude',\n",
       "       'altitude_station', 'profondeur_investigation', 'codes_bdlisa',\n",
       "       'libelle_pe', 'codes_masse_eau_edl', 'noms_masse_eau_edl'],\n",
       "      dtype='object')"
      ]
     },
     "execution_count": 253,
     "metadata": {},
     "output_type": "execute_result"
    }
   ],
   "source": [
    "df_piezo.columns"
   ]
  },
  {
   "cell_type": "code",
   "execution_count": 254,
   "id": "693eb6c6",
   "metadata": {},
   "outputs": [
    {
     "name": "stdout",
     "output_type": "stream",
     "text": [
      "La base de données liste_piezos existe déjà.\n"
     ]
    }
   ],
   "source": [
    "# Création de la base\n",
    "engine = create_engine('sqlite:///D:\\Documents\\daranlot\\Travail\\Analyse Piezo\\data\\liste_piezos.db',  \n",
    "                   echo = False, encoding='utf8')\n",
    "\n",
    "if not os.path.isfile(\"./data/liste_piezos.db\"):\n",
    "    try : \n",
    "        engine.execute(\"\"\"\n",
    "                        CREATE TABLE IF NOT EXISTS data_piezo (\n",
    "                        code_bss TEXT PRIMARY KEY ON CONFLICT IGNORE,\n",
    "                        date_debut DATE,\n",
    "                        date_fin DATE,\n",
    "                        nb_mesures_piezo MEDIUMINT,\n",
    "                        code_dpt VARCHAR(3),\n",
    "                        code_commune_insee VARCHAR (6),\n",
    "                        nom_commune VARCHAR(50),\n",
    "                        latitude FLOAT,\n",
    "                        longitude FLOAT,\n",
    "                        altitude_station FLOAT,\n",
    "                        profondeur_investigation FLOAT,\n",
    "                        codes_bdlisa VARCHAR(50),\n",
    "                        libelle_pe VARCHAR (250),\n",
    "                        codes_masse_eau_edl VARCHAR (20),\n",
    "                        noms_masse_eau_edl TEXT,           \n",
    "                        fichier_piezo TINYINT DEFAULT 0,\n",
    "                        fichier_era5 TINYINT DEFAULT 0,\n",
    "                        fichier_combined TINYINT DEFAULT 0,\n",
    "                        commentaire TEXT\n",
    "                        )\n",
    "                        \"\"\")\n",
    "        print(\"La base de données liste_piezos a été créée.\")\n",
    "    except InterfaceError as e :\n",
    "        print(\"Problème durant la création : \", e)\n",
    "else :\n",
    "    print(\"La base de données liste_piezos existe déjà.\")"
   ]
  },
  {
   "cell_type": "code",
   "execution_count": 255,
   "id": "629b4b72",
   "metadata": {
    "scrolled": false
   },
   "outputs": [
    {
     "name": "stdout",
     "output_type": "stream",
     "text": [
      "La base de données contient 7908 lignes.\n"
     ]
    }
   ],
   "source": [
    "df_piezo.to_sql('data_piezo', \n",
    "                con = engine,\n",
    "                if_exists='append')\n",
    "\n",
    "nb_lignes = engine.execute(\"SELECT COUNT (*) FROM data_piezo\").fetchall()[0][0]\n",
    "print(f\"La base de données contient {nb_lignes} lignes.\")\n",
    "engine.dispose()"
   ]
  },
  {
   "cell_type": "markdown",
   "id": "f3b37259",
   "metadata": {},
   "source": [
    "## Jointure avec les données BDLISA"
   ]
  },
  {
   "cell_type": "code",
   "execution_count": null,
   "id": "8735fa37",
   "metadata": {},
   "outputs": [],
   "source": []
  },
  {
   "cell_type": "code",
   "execution_count": null,
   "id": "8aca2f1e",
   "metadata": {},
   "outputs": [],
   "source": []
  },
  {
   "cell_type": "markdown",
   "id": "1f5b0391",
   "metadata": {},
   "source": [
    "## Fichiers disponibles pour les piezos ?"
   ]
  },
  {
   "cell_type": "code",
   "execution_count": 15,
   "id": "094af20c",
   "metadata": {},
   "outputs": [],
   "source": [
    "def requete_sql (requete) :\n",
    "    try:\n",
    "        connexion = sqlite3.connect('./data/liste_piezos.db')\n",
    "        curseur = connexion.cursor()\n",
    "        print(\"Connexion réussie à SQLite\")\n",
    "        curseur.execute(requete)\n",
    "        connexion.commit()\n",
    "        resultat = curseur.fetchall()\n",
    "        curseur.close()\n",
    "        connexion.close()\n",
    "        print(\"Connexion SQLite est fermée\")\n",
    "        return resultat\n",
    "    except sqlite3.Error as error:\n",
    "        print(\"Erreur lors du mis à jour dans la table\", error)"
   ]
  },
  {
   "cell_type": "code",
   "execution_count": 257,
   "id": "e9db42ea",
   "metadata": {},
   "outputs": [
    {
     "name": "stdout",
     "output_type": "stream",
     "text": [
      "Connexion réussie à SQLite\n",
      "Connexion SQLite est fermée\n",
      "Connexion réussie à SQLite\n",
      "Connexion SQLite est fermée\n",
      "Connexion réussie à SQLite\n",
      "Connexion SQLite est fermée\n"
     ]
    },
    {
     "data": {
      "text/plain": [
       "[]"
      ]
     },
     "execution_count": 257,
     "metadata": {},
     "output_type": "execute_result"
    }
   ],
   "source": [
    "bss_piezo = pd.Series([_.replace(\".csv\",\"\") for _ in os.listdir(r\"./data/piezo\") if _.endswith(r\".csv\")], name=\"piezo\")    \n",
    "bss_era5 = pd.Series([_.replace(\".pkl\",\"\") for _ in os.listdir(r\"./data/era5\") if _.endswith(r\".pkl\")], name=\"era5\")\n",
    "bss_combined = np.array([_[5:-4] for _ in os.listdir(r\"./data/combined_data/\") if _.endswith(r\".csv\")])\n",
    "    \n",
    "requete_fichier_piezo = f\"\"\"\n",
    "        UPDATE data_piezo\n",
    "        SET fichier_piezo = 1\n",
    "        WHERE code_bss IN {tuple(bss_piezo)}\n",
    "         \"\"\"\n",
    "requete_sql(requete_fichier_piezo)\n",
    "\n",
    "requete_fichier_era5 = f\"\"\"\n",
    "        UPDATE data_piezo\n",
    "        SET fichier_era5 = 1\n",
    "        WHERE code_bss IN {tuple(bss_era5)}\n",
    "         \"\"\"\n",
    "requete_sql(requete_fichier_era5)\n",
    "\n",
    "requete_fichier_combined = f\"\"\"\n",
    "        UPDATE data_piezo\n",
    "        SET fichier_combined = 1\n",
    "        WHERE code_bss IN {tuple(bss_combined)}\n",
    "         \"\"\"\n",
    "requete_sql(requete_fichier_combined)"
   ]
  },
  {
   "cell_type": "code",
   "execution_count": 258,
   "id": "1fcdc39a",
   "metadata": {},
   "outputs": [
    {
     "name": "stdout",
     "output_type": "stream",
     "text": [
      "Connexion réussie à SQLite\n",
      "Connexion SQLite est fermée\n"
     ]
    },
    {
     "data": {
      "text/plain": [
       "[(96,)]"
      ]
     },
     "execution_count": 258,
     "metadata": {},
     "output_type": "execute_result"
    }
   ],
   "source": [
    "requete = f\"\"\"\n",
    "        SELECT COUNT(*)\n",
    "        FROM data_piezo\n",
    "        WHERE fichier_combined IS 1\n",
    "        \"\"\"\n",
    "\n",
    "requete_sql(requete)"
   ]
  },
  {
   "cell_type": "markdown",
   "id": "285f24a5",
   "metadata": {},
   "source": [
    "# Table Départements et régions"
   ]
  },
  {
   "cell_type": "code",
   "execution_count": 10,
   "id": "3fbf1ed0",
   "metadata": {},
   "outputs": [],
   "source": [
    "df = pd.read_csv(\"./data/DPT_REG.csv\", sep=\";\", index_col=\"departement\")"
   ]
  },
  {
   "cell_type": "code",
   "execution_count": 11,
   "id": "5599d716",
   "metadata": {},
   "outputs": [
    {
     "data": {
      "text/html": [
       "<div>\n",
       "<style scoped>\n",
       "    .dataframe tbody tr th:only-of-type {\n",
       "        vertical-align: middle;\n",
       "    }\n",
       "\n",
       "    .dataframe tbody tr th {\n",
       "        vertical-align: top;\n",
       "    }\n",
       "\n",
       "    .dataframe thead th {\n",
       "        text-align: right;\n",
       "    }\n",
       "</style>\n",
       "<table border=\"1\" class=\"dataframe\">\n",
       "  <thead>\n",
       "    <tr style=\"text-align: right;\">\n",
       "      <th></th>\n",
       "      <th>code_region</th>\n",
       "    </tr>\n",
       "    <tr>\n",
       "      <th>departement</th>\n",
       "      <th></th>\n",
       "    </tr>\n",
       "  </thead>\n",
       "  <tbody>\n",
       "    <tr>\n",
       "      <th>1</th>\n",
       "      <td>ARA</td>\n",
       "    </tr>\n",
       "    <tr>\n",
       "      <th>2</th>\n",
       "      <td>HDF</td>\n",
       "    </tr>\n",
       "    <tr>\n",
       "      <th>3</th>\n",
       "      <td>ARA</td>\n",
       "    </tr>\n",
       "    <tr>\n",
       "      <th>4</th>\n",
       "      <td>PAC</td>\n",
       "    </tr>\n",
       "    <tr>\n",
       "      <th>5</th>\n",
       "      <td>PAC</td>\n",
       "    </tr>\n",
       "  </tbody>\n",
       "</table>\n",
       "</div>"
      ],
      "text/plain": [
       "            code_region\n",
       "departement            \n",
       "1                   ARA\n",
       "2                   HDF\n",
       "3                   ARA\n",
       "4                   PAC\n",
       "5                   PAC"
      ]
     },
     "execution_count": 11,
     "metadata": {},
     "output_type": "execute_result"
    }
   ],
   "source": [
    "df.head()"
   ]
  },
  {
   "cell_type": "code",
   "execution_count": 21,
   "id": "1efc4547",
   "metadata": {},
   "outputs": [
    {
     "data": {
      "text/plain": [
       "95"
      ]
     },
     "execution_count": 21,
     "metadata": {},
     "output_type": "execute_result"
    }
   ],
   "source": [
    "connexion = sqlite3.connect('./data/liste_piezos.db')\n",
    "df.to_sql(\"code_region\", connexion, if_exists='replace', index=True)"
   ]
  },
  {
   "cell_type": "code",
   "execution_count": null,
   "id": "e8a6baed",
   "metadata": {},
   "outputs": [],
   "source": []
  },
  {
   "cell_type": "code",
   "execution_count": null,
   "id": "dea2dcb9",
   "metadata": {},
   "outputs": [],
   "source": []
  },
  {
   "cell_type": "code",
   "execution_count": null,
   "id": "eef342dd",
   "metadata": {},
   "outputs": [],
   "source": []
  },
  {
   "cell_type": "code",
   "execution_count": null,
   "id": "868f96cc",
   "metadata": {},
   "outputs": [],
   "source": []
  },
  {
   "cell_type": "code",
   "execution_count": null,
   "id": "f388cbe5",
   "metadata": {},
   "outputs": [],
   "source": []
  },
  {
   "cell_type": "code",
   "execution_count": null,
   "id": "266cb194",
   "metadata": {},
   "outputs": [],
   "source": []
  },
  {
   "cell_type": "code",
   "execution_count": null,
   "id": "9da8ddfc",
   "metadata": {},
   "outputs": [],
   "source": []
  },
  {
   "cell_type": "code",
   "execution_count": null,
   "id": "cd562a61",
   "metadata": {},
   "outputs": [],
   "source": []
  },
  {
   "cell_type": "code",
   "execution_count": null,
   "id": "9657331a",
   "metadata": {},
   "outputs": [],
   "source": []
  }
 ],
 "metadata": {
  "kernelspec": {
   "display_name": "Python 3.10.4 64-bit",
   "language": "python",
   "name": "python3"
  },
  "language_info": {
   "codemirror_mode": {
    "name": "ipython",
    "version": 3
   },
   "file_extension": ".py",
   "mimetype": "text/x-python",
   "name": "python",
   "nbconvert_exporter": "python",
   "pygments_lexer": "ipython3",
   "version": "3.10.4"
  },
  "toc": {
   "base_numbering": 1,
   "nav_menu": {},
   "number_sections": true,
   "sideBar": true,
   "skip_h1_title": false,
   "title_cell": "Table of Contents",
   "title_sidebar": "Contents",
   "toc_cell": false,
   "toc_position": {
    "height": "calc(100% - 180px)",
    "left": "10px",
    "top": "150px",
    "width": "237px"
   },
   "toc_section_display": true,
   "toc_window_display": true
  },
  "varInspector": {
   "cols": {
    "lenName": 16,
    "lenType": 16,
    "lenVar": 40
   },
   "kernels_config": {
    "python": {
     "delete_cmd_postfix": "",
     "delete_cmd_prefix": "del ",
     "library": "var_list.py",
     "varRefreshCmd": "print(var_dic_list())"
    },
    "r": {
     "delete_cmd_postfix": ") ",
     "delete_cmd_prefix": "rm(",
     "library": "var_list.r",
     "varRefreshCmd": "cat(var_dic_list()) "
    }
   },
   "types_to_exclude": [
    "module",
    "function",
    "builtin_function_or_method",
    "instance",
    "_Feature"
   ],
   "window_display": false
  },
  "vscode": {
   "interpreter": {
    "hash": "72fbbd9d8cf6dba12e3d195fbec14fc9c7e4871b10f32d2d7f39d599a44fa0d8"
   }
  }
 },
 "nbformat": 4,
 "nbformat_minor": 5
}
