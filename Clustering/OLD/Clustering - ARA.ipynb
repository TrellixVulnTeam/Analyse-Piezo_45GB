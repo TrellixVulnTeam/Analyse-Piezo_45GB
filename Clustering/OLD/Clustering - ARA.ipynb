{
 "cells": [
  {
   "cell_type": "code",
   "execution_count": null,
   "id": "95ff2c23",
   "metadata": {
    "scrolled": true
   },
   "outputs": [],
   "source": [
    "import os\n",
    "from datetime import datetime\n",
    "# Essential Libraries\n",
    "import pandas as pd\n",
    "import matplotlib.pyplot as plt\n",
    "import seaborn as sns\n",
    "import numpy as np\n",
    "from sklearn.cluster import KMeans\n",
    "from sklearn.metrics import r2_score\n",
    "import sqlite3"
   ]
  },
  {
   "cell_type": "markdown",
   "id": "e3d97b6e",
   "metadata": {},
   "source": [
    "# Liste des fonctions"
   ]
  },
  {
   "cell_type": "markdown",
   "id": "f788b8b7",
   "metadata": {},
   "source": [
    "## f_requete_sql - Requete SQL"
   ]
  },
  {
   "cell_type": "code",
   "execution_count": null,
   "id": "7e7cb1fd",
   "metadata": {
    "scrolled": true
   },
   "outputs": [],
   "source": [
    "def f_requete_sql (requete) :\n",
    "    try:\n",
    "        connexion = sqlite3.connect('./data/liste_piezos.db')\n",
    "        curseur = connexion.cursor()\n",
    "        print(\"Connexion réussie à SQLite\")\n",
    "        curseur.execute(requete)\n",
    "        connexion.commit()\n",
    "        resultat = curseur.fetchall()\n",
    "        curseur.close()\n",
    "        connexion.close()\n",
    "        print(\"Connexion SQLite est fermée\")\n",
    "        return resultat\n",
    "    except sqlite3.Error as error:\n",
    "        print(\"Erreur lors du mis à jour dans la table\", error)"
   ]
  },
  {
   "cell_type": "markdown",
   "id": "1b19b870",
   "metadata": {},
   "source": [
    "## f_clusters_transform - Fonction conversion df en np.array"
   ]
  },
  {
   "cell_type": "code",
   "execution_count": null,
   "id": "6e9e2fad",
   "metadata": {
    "scrolled": true
   },
   "outputs": [],
   "source": [
    "def f_clusters_transform (df):\n",
    "    \"\"\"\n",
    "    df : dataframe pandas\n",
    "    \"\"\"\n",
    "    data = df.values.T\n",
    "    names = df.columns\n",
    "    return(data, names)"
   ]
  },
  {
   "cell_type": "markdown",
   "id": "450d9c75",
   "metadata": {},
   "source": [
    "## f_clusters_coude - Fonction d'affichage de l'inertie en fonction du nombre de clusters"
   ]
  },
  {
   "cell_type": "code",
   "execution_count": null,
   "id": "ee9171e5",
   "metadata": {
    "scrolled": true
   },
   "outputs": [],
   "source": [
    "def f_clusters_coude (df, k_max:int=15):\n",
    "    \"\"\"\n",
    "    k_max : entier représentant le nombre max de clusters à tracer\n",
    "    \"\"\"\n",
    "    data, names = f_clusters_transform(df)\n",
    "    Sum_of_squared_distances = [] \n",
    "    K = range(1,30) \n",
    "    for k in K : \n",
    "        km = KMeans(n_clusters=k) \n",
    "        km = km.fit(data) \n",
    "        Sum_of_squared_distances.append(km.inertia_)\n",
    "\n",
    "    plt.plot(K, Sum_of_squared_distances, 'bx-') \n",
    "    plt.xlabel('k') \n",
    "    plt.ylabel('Sum_of_squared_distances') \n",
    "    plt.title('Méthode du coude pour k optimal') \n",
    "    plt.show()"
   ]
  },
  {
   "cell_type": "markdown",
   "id": "022552f3",
   "metadata": {},
   "source": [
    "## f_clusters_fit - Fonction entrainement du modèle, retour des labels et profils clusters"
   ]
  },
  {
   "cell_type": "code",
   "execution_count": null,
   "id": "37fbdc25",
   "metadata": {
    "scrolled": true
   },
   "outputs": [],
   "source": [
    "def f_clusters_fit (df, k:int = 4, n_init:int = 200, max_iter:int = 1000):\n",
    "    \"\"\"\n",
    "    Entrainement et affichage de la distribution dans les clusters\n",
    "    return :\n",
    "    - cluster_table : df bss - cluster - r2\n",
    "    - df_clusters_centers : df série temporelle des clusters\n",
    "    \"\"\"\n",
    "    data, names = f_clusters_transform (df)\n",
    "    km = KMeans(n_clusters=k, n_init=200, max_iter=1000)\n",
    "    # Entraînement du modèle\n",
    "    km.fit(data)\n",
    "    # Définition des numéros de cluster\n",
    "    labels = km.labels_+1\n",
    "    # Profils des clusters\n",
    "    cluster_centers = np.array(km.cluster_centers_)\n",
    "    df_cluster_centers = pd.DataFrame(cluster_centers.T, index=df.index)\n",
    "    for cluster in range(df_cluster_centers.shape[1]):\n",
    "        df_cluster_centers.rename(columns = {cluster:f\"cluster_{cluster+1}\"}, inplace=True)\n",
    "    \n",
    "    # Création du dataframe de résultats\n",
    "    cluster_table = pd.DataFrame()\n",
    "    cluster_table[\"code_bss\"] = names\n",
    "    cluster_table.set_index(\"code_bss\", inplace=True)\n",
    "    cluster_table[\"cluster\"] = labels\n",
    "    for piezo in cluster_table.index :\n",
    "        cluster_table.loc[piezo, \"r2\"] = r2_score(df.loc[:,piezo], cluster_centers[cluster_table.loc[piezo, \"cluster\"]-1])\n",
    "    \n",
    "    return cluster_table, df_cluster_centers"
   ]
  },
  {
   "cell_type": "markdown",
   "id": "cb608bcf",
   "metadata": {},
   "source": [
    "## f_plot_clusters - Fonction d'affichage des chroniques par cluster"
   ]
  },
  {
   "cell_type": "code",
   "execution_count": null,
   "id": "f9b49b12",
   "metadata": {
    "scrolled": true
   },
   "outputs": [],
   "source": [
    "def f_plot_clusters (df, cluster_table, cluster_centers):\n",
    "    \n",
    "    data, names = f_clusters_transform (df)\n",
    "    \n",
    "    labels = cluster_table[\"cluster\"]\n",
    "    \n",
    "    fig, axs = plt.subplots(len(set(labels)),1,figsize=(20,25))\n",
    "    row_i=0\n",
    "\n",
    "    for label in set(labels):\n",
    "        for i in range(len(labels)):\n",
    "            if(labels[i]==label):\n",
    "                axs[row_i].plot(df.iloc[:,i],alpha=0.4)\n",
    "\n",
    "        axs[row_i].plot(cluster_centers.iloc[:,label-1],c=\"red\")\n",
    "        axs[row_i].set_title(\"Cluster \"+str(row_i+1))\n",
    "        row_i+=1\n",
    "    plt.show()"
   ]
  },
  {
   "cell_type": "markdown",
   "id": "3a68e750",
   "metadata": {},
   "source": [
    "## f_plot_all - Fonction d'affichage individuel des chroniques et leur cluster associé"
   ]
  },
  {
   "cell_type": "code",
   "execution_count": null,
   "id": "93f13fa8",
   "metadata": {
    "scrolled": true
   },
   "outputs": [],
   "source": [
    "def f_plot_all (df, cluster_table, df_cluster_centers) :\n",
    "\n",
    "    data, names = f_clusters_transform (df)\n",
    "\n",
    "    if df.shape[1]%4 == 0:\n",
    "        nbre_lignes = df.shape[1]//4\n",
    "    else : \n",
    "        nbre_lignes = df.shape[1]//4 + 1\n",
    "\n",
    "    fig, axs = plt.subplots(nbre_lignes,4,figsize=(25,200))\n",
    "    #fig.suptitle('Series')\n",
    "    for i in range(nbre_lignes):\n",
    "        for j in range(4):\n",
    "            if i*4+j+1>df.shape[1]: # pass the others that we can't fill\n",
    "                continue\n",
    "            axs[i, j].plot(df.iloc[:,i*4+j])\n",
    "            axs[i, j].plot(df_cluster_centers.iloc[:,cluster_table.iloc[i*4+j,0]-1])\n",
    "            \n",
    "            axs[i, j].set_title(df.columns[i*4+j] + f\" - r² = {round(cluster_table.loc[df.columns[i*4+j],'r2'],2)}\")\n",
    "            \n",
    "    plt.show()"
   ]
  },
  {
   "cell_type": "markdown",
   "id": "c7a287ec",
   "metadata": {},
   "source": [
    "## f_r2min - Fonction de calcul du seuil minimal r2"
   ]
  },
  {
   "cell_type": "code",
   "execution_count": null,
   "id": "51af3b2f",
   "metadata": {
    "scrolled": true
   },
   "outputs": [],
   "source": [
    "def f_r2min (cluster_table):\n",
    "    # Calcul de r2min\n",
    "\n",
    "    Q1 = cluster_table[\"r2\"].quantile(0.25, \"higher\")\n",
    "    Q3 = cluster_table[\"r2\"].quantile(0.75, \"lower\")\n",
    "\n",
    "    # Ecart inter-quartile\n",
    "    IQM = (Q3-Q1)\n",
    "\n",
    "    # Seuil minimal de conservation des chroniques (Q1-1.5*IQM)\n",
    "\n",
    "    r2min = Q1-1.5*IQM\n",
    "    return r2min"
   ]
  },
  {
   "cell_type": "markdown",
   "id": "5e011cb3",
   "metadata": {},
   "source": [
    "# Exploitation"
   ]
  },
  {
   "cell_type": "markdown",
   "id": "d9f15d5d",
   "metadata": {},
   "source": [
    "## Chargement des données"
   ]
  },
  {
   "cell_type": "code",
   "execution_count": null,
   "id": "7e9d1115",
   "metadata": {
    "scrolled": true
   },
   "outputs": [],
   "source": [
    "region = \"ARA\"\n",
    "\n",
    "# Import du csv et conversion en dataframe\n",
    "custom_date_parser = lambda x: datetime.strptime(x, \"%Y-%m-%d\")\n",
    "data = pd.read_csv(f\"./data/piezo_clustering/{region}.csv\", sep = \";\", parse_dates=True, index_col=\"date_mesure\", date_parser=custom_date_parser)"
   ]
  },
  {
   "cell_type": "markdown",
   "id": "a340cd43",
   "metadata": {},
   "source": [
    "## Analyse du nombre optimal de clusters"
   ]
  },
  {
   "cell_type": "code",
   "execution_count": null,
   "id": "7dae3817",
   "metadata": {
    "scrolled": false
   },
   "outputs": [],
   "source": [
    "f_clusters_coude(data)"
   ]
  },
  {
   "cell_type": "code",
   "execution_count": null,
   "id": "f7bb641b",
   "metadata": {},
   "outputs": [],
   "source": [
    "nbre_clusters = 6"
   ]
  },
  {
   "cell_type": "markdown",
   "id": "594bc1ba",
   "metadata": {},
   "source": [
    "## Création des clusters"
   ]
  },
  {
   "cell_type": "code",
   "execution_count": null,
   "id": "9f25b30a",
   "metadata": {
    "scrolled": true
   },
   "outputs": [],
   "source": [
    "cluster_table, cluster_centers = f_clusters_fit(data, nbre_clusters, 1000, 8000)"
   ]
  },
  {
   "cell_type": "code",
   "execution_count": null,
   "id": "4f72fe0b",
   "metadata": {
    "scrolled": true
   },
   "outputs": [],
   "source": [
    "sns.countplot(cluster_table.cluster)"
   ]
  },
  {
   "cell_type": "markdown",
   "id": "995636a8",
   "metadata": {},
   "source": [
    "## Affichage des clusters"
   ]
  },
  {
   "cell_type": "code",
   "execution_count": null,
   "id": "a5051214",
   "metadata": {
    "scrolled": true
   },
   "outputs": [],
   "source": [
    "f_plot_clusters(data, cluster_table, cluster_centers)"
   ]
  },
  {
   "cell_type": "code",
   "execution_count": null,
   "id": "49637978",
   "metadata": {
    "scrolled": true
   },
   "outputs": [],
   "source": [
    "f_plot_all(data, cluster_table, cluster_centers)"
   ]
  },
  {
   "cell_type": "markdown",
   "id": "cae0426b",
   "metadata": {},
   "source": [
    "## Analyse r2"
   ]
  },
  {
   "cell_type": "code",
   "execution_count": null,
   "id": "af14b391",
   "metadata": {
    "scrolled": true
   },
   "outputs": [],
   "source": [
    "plt.plot(cluster_table[\"r2\"].sort_values())"
   ]
  },
  {
   "cell_type": "markdown",
   "id": "9cd11a65",
   "metadata": {},
   "source": [
    "## Filtre des chroniques avec score insuffisant"
   ]
  },
  {
   "cell_type": "code",
   "execution_count": null,
   "id": "ca202eb7",
   "metadata": {},
   "outputs": [],
   "source": [
    "# nbre de chroniques sous le seuil\n",
    "r2min = f_r2min(cluster_table)\n",
    "nbre_elim = cluster_table.loc[cluster_table.r2 < r2min, 'r2'].count()\n",
    "iteration = 1\n",
    "\n",
    "while nbre_elim != 0 :\n",
    "    # chroniques sous le seuil passées à cluster 0\n",
    "    r2min = f_r2min(cluster_table)\n",
    "    cluster_table.loc[cluster_table.r2 < r2min, \"cluster\"] = 0\n",
    "    \n",
    "    # Selection des clusters non zéro\n",
    "    data = data.loc[:,cluster_table.loc[cluster_table.cluster != 0].index]\n",
    "    \n",
    "    # Nouveau clustering\n",
    "    cluster_table, cluster_centers = f_clusters_fit(data, nbre_clusters, 1000, 8000)\n",
    "    \n",
    "    nbre_elim = cluster_table.loc[cluster_table.r2 < r2min, 'r2'].count()\n",
    "    \n",
    "    print(f\"Itération {iteration} : {nbre_elim} chronique(s) éliminée(s).\")\n",
    "    iteration += 1\n",
    "    "
   ]
  },
  {
   "cell_type": "code",
   "execution_count": null,
   "id": "70a589c1",
   "metadata": {},
   "outputs": [],
   "source": [
    "plt.plot(cluster_table[\"r2\"].sort_values())"
   ]
  },
  {
   "cell_type": "code",
   "execution_count": null,
   "id": "3585e2a2",
   "metadata": {},
   "outputs": [],
   "source": [
    "f_plot_clusters(data, cluster_table, cluster_centers)"
   ]
  },
  {
   "cell_type": "code",
   "execution_count": null,
   "id": "a704d48c",
   "metadata": {},
   "outputs": [],
   "source": [
    "cluster_table.sort_values(by='r2').head()"
   ]
  },
  {
   "cell_type": "code",
   "execution_count": null,
   "id": "3e66b88a",
   "metadata": {},
   "outputs": [],
   "source": []
  },
  {
   "cell_type": "markdown",
   "id": "3ea38c5f",
   "metadata": {},
   "source": [
    "# Ajout à la bdd"
   ]
  },
  {
   "cell_type": "code",
   "execution_count": null,
   "id": "47f12e64",
   "metadata": {},
   "outputs": [],
   "source": [
    "# On renomme les noms de cluster par rapport à la région\n",
    "for index, column in enumerate (cluster_centers.columns):\n",
    "    cluster_centers.rename(columns={column : f\"{region}_{index+1}\"}, inplace=True)"
   ]
  },
  {
   "cell_type": "code",
   "execution_count": null,
   "id": "0aa57f24",
   "metadata": {},
   "outputs": [],
   "source": [
    "data.to_csv(f\"./data/piezo_clustering/{region}.csv\", sep = \";\")"
   ]
  },
  {
   "cell_type": "code",
   "execution_count": null,
   "id": "750bf360",
   "metadata": {},
   "outputs": [],
   "source": [
    "cluster_centers.to_csv(f\"./data/piezo_clustering/{region}_clusters.csv\", sep = \";\")"
   ]
  },
  {
   "cell_type": "code",
   "execution_count": null,
   "id": "514b9a96",
   "metadata": {},
   "outputs": [],
   "source": [
    "requete = \"\"\"\n",
    "                    ALTER TABLE data_piezo\n",
    "                    ADD cluster_sklearn_kmeans_5_v1 VARCHAR(6) DEFAULT NULL\n",
    "                    \"\"\"\n",
    "f_requete_sql(requete)"
   ]
  },
  {
   "cell_type": "code",
   "execution_count": null,
   "id": "822a4b5f",
   "metadata": {},
   "outputs": [],
   "source": [
    "# Création de listes de nuéro de cluster avec le nom des piezos\n",
    "# Ajout dans la bdd\n",
    "for label in set(cluster_table.cluster):\n",
    "    exec(f'cluster = tuple(cluster_table.loc[cluster_table.cluster == {label}, \"cluster\"].index.to_list())')\n",
    "    requete = f\"\"\"\n",
    "        UPDATE data_piezo\n",
    "        SET cluster_sklearn_kmeans_5_v1 = '{region + \"_\" + str(label)}'\n",
    "        WHERE code_bss IN {cluster}\n",
    "        \"\"\"\n",
    "    f_requete_sql(requete)"
   ]
  },
  {
   "cell_type": "code",
   "execution_count": null,
   "id": "d32efb62",
   "metadata": {},
   "outputs": [],
   "source": []
  },
  {
   "cell_type": "code",
   "execution_count": null,
   "id": "b22c5232",
   "metadata": {},
   "outputs": [],
   "source": []
  },
  {
   "cell_type": "markdown",
   "id": "050bfbb3",
   "metadata": {},
   "source": [
    "## Suppresion colonne"
   ]
  },
  {
   "cell_type": "markdown",
   "id": "c9052d9a",
   "metadata": {},
   "source": [
    "requete = \"\"\"\n",
    "                    ALTER TABLE data_piezo\n",
    "                    DROP cluster_sklearn_kmeans_5_v1\n",
    "                    \"\"\"\n",
    "f_requete_sql(requete)"
   ]
  },
  {
   "cell_type": "code",
   "execution_count": null,
   "id": "2e2f25bf",
   "metadata": {},
   "outputs": [],
   "source": []
  }
 ],
 "metadata": {
  "kernelspec": {
   "display_name": "Python 3 (ipykernel)",
   "language": "python",
   "name": "python3"
  },
  "language_info": {
   "codemirror_mode": {
    "name": "ipython",
    "version": 3
   },
   "file_extension": ".py",
   "mimetype": "text/x-python",
   "name": "python",
   "nbconvert_exporter": "python",
   "pygments_lexer": "ipython3",
   "version": "3.9.12"
  },
  "toc": {
   "base_numbering": 1,
   "nav_menu": {},
   "number_sections": true,
   "sideBar": true,
   "skip_h1_title": false,
   "title_cell": "Table of Contents",
   "title_sidebar": "Contents",
   "toc_cell": false,
   "toc_position": {
    "height": "calc(100% - 180px)",
    "left": "10px",
    "top": "150px",
    "width": "330px"
   },
   "toc_section_display": true,
   "toc_window_display": true
  },
  "varInspector": {
   "cols": {
    "lenName": 16,
    "lenType": 16,
    "lenVar": 40
   },
   "kernels_config": {
    "python": {
     "delete_cmd_postfix": "",
     "delete_cmd_prefix": "del ",
     "library": "var_list.py",
     "varRefreshCmd": "print(var_dic_list())"
    },
    "r": {
     "delete_cmd_postfix": ") ",
     "delete_cmd_prefix": "rm(",
     "library": "var_list.r",
     "varRefreshCmd": "cat(var_dic_list()) "
    }
   },
   "position": {
    "height": "628.844px",
    "left": "1550px",
    "right": "20px",
    "top": "120px",
    "width": "350px"
   },
   "types_to_exclude": [
    "module",
    "function",
    "builtin_function_or_method",
    "instance",
    "_Feature"
   ],
   "window_display": false
  }
 },
 "nbformat": 4,
 "nbformat_minor": 5
}
