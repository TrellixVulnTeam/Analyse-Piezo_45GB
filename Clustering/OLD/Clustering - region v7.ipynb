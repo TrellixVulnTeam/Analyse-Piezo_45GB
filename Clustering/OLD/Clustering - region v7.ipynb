{
 "cells": [
  {
   "cell_type": "code",
   "execution_count": 2,
   "id": "5cb0e5d4",
   "metadata": {
    "scrolled": true
   },
   "outputs": [],
   "source": [
    "#import os\n",
    "import sqlite3\n",
    "from datetime import datetime\n",
    "import warnings\n",
    "from tqdm import tqdm\n",
    "\n",
    "import pandas as pd\n",
    "import numpy as np\n",
    "\n",
    "import matplotlib.pyplot as plt\n",
    "from mpl_toolkits.axes_grid1.inset_locator import (inset_axes, InsetPosition,\n",
    "                                                  mark_inset)\n",
    "#from matplotlib.colors import LinearSegmentedColormap\n",
    "#from matplotlib import colors as mcolors\n",
    "import seaborn as sns\n",
    "\n",
    "from sklearn.cluster import KMeans\n",
    "from sklearn.metrics import mean_squared_error\n",
    "from sklearn.preprocessing import StandardScaler, MinMaxScaler\n",
    "from scipy.cluster import hierarchy\n",
    "from statsmodels.nonparametric.kernel_regression import KernelReg\n",
    "\n",
    "\n",
    "# Suppression warnings KMeans\n",
    "warnings.filterwarnings(action='ignore', \n",
    "                        message='KMeans is known to have a memory leak on Windows with MKL, when there are less chunks than available threads. You can avoid it by setting the environment variable OMP_NUM_THREADS=1.')\n",
    "warnings.filterwarnings(action='ignore', \n",
    "                        message='KMeans is known to have a memory leak on Windows with MKL, when there are less chunks than available threads. You can avoid it by setting the environment variable OMP_NUM_THREADS=2.')\n",
    "warnings.filterwarnings(action='ignore', \n",
    "                        message = 'DataFrame is highly fragmented.  This is usually the result of calling `frame.insert` many times, which has poor performance.  Consider joining all columns at once using pd.concat(axis=1) instead. To get a de-fragmented frame, use `newframe = frame.copy()')\n",
    "\n",
    "\n",
    "# Liste des fonctions\n",
    "\n",
    "def f_requete_sql (requete) :\n",
    "    try:\n",
    "        connexion = sqlite3.connect('../data/liste_piezos.db')\n",
    "        curseur = connexion.cursor()\n",
    "        print(\"Connexion réussie à SQLite\")\n",
    "        curseur.execute(requete)\n",
    "        connexion.commit()\n",
    "        resultat = curseur.fetchall()\n",
    "        curseur.close()\n",
    "        connexion.close()\n",
    "        print(\"Connexion SQLite est fermée\")\n",
    "        return resultat\n",
    "    except sqlite3.Error as error:\n",
    "        print(\"Erreur lors du mis à jour dans la table\", error)\n",
    "        \n",
    "def f_clusters_transform (df):\n",
    "    \"\"\"\n",
    "    df : dataframe pandas\n",
    "    \"\"\"\n",
    "    data = df.values.T\n",
    "    names = df.columns\n",
    "    return(data, names)\n",
    "\n",
    "\n",
    "\n",
    "def f_clusters_coude (df, n_init:int=100, plage:tuple = (3,20)) :\n",
    "    \"\"\"\n",
    "    df : dataframe à entrer\n",
    "    n_init : nombre de configuration de départ pour les centroïdes     \n",
    "    \"\"\"   \n",
    "    \n",
    "    # Transformation du dataframe d'entrée pour analyse\n",
    "    data, names = f_clusters_transform(df)\n",
    "\n",
    "    amplitude_data = range(1,data.shape[0]+1)\n",
    "    results = pd.DataFrame(index=amplitude_data, columns=[\"inertia\", \"b_min\"], dtype='float')\n",
    "\n",
    "    km = KMeans(n_clusters=1, n_init=1) \n",
    "    km = km.fit(data)\n",
    "    inertie = km.inertia_\n",
    "    results.loc[1,\"inertia\"] = inertie\n",
    "    results.loc[amplitude_data[-1], \"inertia\"] = 0\n",
    "\n",
    "    # Calcul de a\n",
    "    a = (0 - inertie) / (amplitude_data[-1] - 1)\n",
    "\n",
    "    # Amplitude de calcul d k optimal\n",
    "    ks = range(plage[0],plage[1])\n",
    "\n",
    "    for k in tqdm (ks,\n",
    "                    desc=\"Calcul de l'inertie\",  \n",
    "                    ascii=False, ncols=100) :\n",
    "        km = KMeans(n_clusters=k, n_init=n_init) \n",
    "        km = km.fit(data)\n",
    "        inertie = km.inertia_\n",
    "        results.loc[k, \"inertia\"] = inertie\n",
    "        results.loc[k, \"b_min\"] = inertie - k*a\n",
    "\n",
    "    best_k = results.b_min.idxmin()\n",
    "\n",
    "    fig, ax1 = plt.subplots(figsize=(12,8))\n",
    "\n",
    "    fig.suptitle(f\"Nombre de cluster optimal : {best_k}\")\n",
    "\n",
    "    ax1.plot(results.dropna(axis=0, how='all'))\n",
    "    ax1.scatter(best_k, results.loc[best_k,\"inertia\"],s=100, c='red', marker='X')\n",
    "    ax1.axvline(x=best_k, ymax = results.loc[best_k,\"inertia\"]/results.loc[1,\"inertia\"], color='gray',linestyle='--')\n",
    "    ax1.set_xlabel('nombre de clusters')\n",
    "    ax1.set_ylabel('inertie')\n",
    "    ax1.legend([\"inertie\", \"b_min\", 'k_opt'], bbox_to_anchor=(1.05, 1.0), loc='upper left')\n",
    "\n",
    "\n",
    "    ax2 = plt.axes([0,0,1,1])\n",
    "    # Manually set the position and relative size of the inset axes within ax1\n",
    "    ip = InsetPosition(ax1, [0.45,0.45,0.5,0.5])\n",
    "    ax2.set_axes_locator(ip)\n",
    "    # Mark the region corresponding to the inset axes on ax1 and draw lines\n",
    "    # in grey linking the two axes.\n",
    "    ax2.plot(results.dropna(axis=0, how='all'))\n",
    "    ax2.scatter(best_k, results.loc[best_k,\"inertia\"],s=100, c='red', marker='X')\n",
    "    ax2.axvline(x=best_k, ymax = results.loc[ks[0],\"inertia\"]/results.loc[ks[-1],\"inertia\"] , color='gray',linestyle='--')\n",
    "    ax2.set_xlabel('nombre de clusters')\n",
    "    ax2.set_ylabel('inertie')\n",
    "    ax2.set_xlim(ks[0], ks[-1])\n",
    "    _=ax2.set_ylim(results.loc[:, \"b_min\"].min(), results.loc[ks[0], \"b_min\"])   \n",
    "\n",
    "    return best_k, results\n",
    "    \n",
    "    \n",
    "    \n",
    "def f_clusters_fit (df, k:int = 4, n_init:int = 100, max_iter:int = 2000):\n",
    "    \n",
    "    \"\"\"\n",
    "    Entrainement et affichage de la distribution dans les clusters\n",
    "    return :\n",
    "    - cluster_table : df bss - cluster - MSE\n",
    "    - df_clusters_centers : df série temporelle des clusters\n",
    "    - metric : \"euclidean\" / \"dtw\" / \"softdtw\"\n",
    "    \"\"\"\n",
    "    \n",
    "    data, names = f_clusters_transform(df)\n",
    "    # Initilialisation du modèle\n",
    "    km = KMeans(n_clusters=k, n_init=n_init, max_iter=max_iter, random_state=2022)\n",
    "    # Entraînement du modèle\n",
    "    km.fit(data)\n",
    "    # Définition des numéros de cluster\n",
    "    labels = km.labels_+1 \n",
    "    # Profils des clusters\n",
    "    cluster_centers = np.array(km.cluster_centers_)\n",
    "    df_cluster_centers = pd.DataFrame(cluster_centers.T, index=df.index)\n",
    "    for cluster in range(df_cluster_centers.shape[1]):\n",
    "        df_cluster_centers.rename(columns = {cluster:f\"cluster_{cluster+1}\"}, inplace=True)\n",
    "    \n",
    "    # Création du dataframe de résultats\n",
    "    cluster_table = pd.DataFrame()\n",
    "    cluster_table[\"code_bss\"] = names\n",
    "    cluster_table.set_index(\"code_bss\", inplace=True)\n",
    "    cluster_table[\"cluster\"] = labels\n",
    "    for piezo in cluster_table.index :\n",
    "        cluster_table.loc[piezo, \"MSE\"] = mean_squared_error(df.loc[:,piezo], cluster_centers[cluster_table.loc[piezo, \"cluster\"]-1])\n",
    "    \n",
    "    return cluster_table, df_cluster_centers\n",
    "\n",
    "def f_plot_clusters (df, cluster_table, cluster_centers, plot_mean:bool = True):\n",
    "    \n",
    "    data, names = f_clusters_transform (df)\n",
    "    \n",
    "    labels = cluster_table[\"cluster\"]\n",
    "    \n",
    "    fig, axs = plt.subplots(len(set(labels)),1,figsize=(20,4*cluster_centers.shape[1]))\n",
    "    row_i=0\n",
    "\n",
    "    for label in set(labels):\n",
    "        for i in range(len(labels)):\n",
    "            if(labels[i]==label):\n",
    "                axs[row_i].plot(df.iloc[:,i],alpha=0.4)\n",
    "        if plot_mean:\n",
    "            axs[row_i].plot(cluster_centers.iloc[:,label-1],c=\"red\")\n",
    "        axs[row_i].set_title(\"Cluster \"+str(row_i+1))\n",
    "        row_i+=1\n",
    "    plt.show()\n",
    "    \n",
    "def f_plot_all (df, cluster_table, df_cluster_centers) :\n",
    "\n",
    "    if df.shape[1]%4 == 0:\n",
    "        nbre_lignes = df.shape[1]//4\n",
    "    else : \n",
    "        nbre_lignes = df.shape[1]//4 + 1\n",
    "\n",
    "    fig, axs = plt.subplots(nbre_lignes,4,figsize=(25,200))\n",
    "    #fig.suptitle('Series')\n",
    "    for i in range(nbre_lignes):\n",
    "        for j in range(4):\n",
    "            if i*4+j+1>df.shape[1]: # pass the others that we can't fill\n",
    "                continue\n",
    "            axs[i, j].plot(df.iloc[:,i*4+j])\n",
    "            axs[i, j].plot(df_cluster_centers.iloc[:,cluster_table.iloc[i*4+j,0]-1])\n",
    "            \n",
    "            axs[i, j].set_title(df.columns[i*4+j] + f\" - MSE = {round(cluster_table.loc[df.columns[i*4+j],'MSE'],2)}\")\n",
    "            \n",
    "    plt.show()\n",
    "    \n",
    "\n",
    "def f_MSEmax (cluster_table):\n",
    "    # Calcul de MSEmin\n",
    "\n",
    "    Q1 = cluster_table[\"MSE\"].quantile(0.25, \"higher\")\n",
    "    Q3 = cluster_table[\"MSE\"].quantile(0.75, \"lower\")\n",
    "\n",
    "    # Ecart inter-quartile\n",
    "    IQM = abs(Q3-Q1)\n",
    "\n",
    "    # Seuil minimal de conservation des chroniques (Q3+1.5*IQM)\n",
    "\n",
    "    MSEmin = Q3+1.5*IQM\n",
    "    return MSEmin"
   ]
  },
  {
   "cell_type": "markdown",
   "id": "2afcb532",
   "metadata": {},
   "source": [
    "# Chargement des données"
   ]
  },
  {
   "cell_type": "code",
   "execution_count": 305,
   "id": "85e60e4a",
   "metadata": {
    "scrolled": true
   },
   "outputs": [],
   "source": [
    "region = \"ARA\""
   ]
  },
  {
   "cell_type": "code",
   "execution_count": 306,
   "id": "95ff2c23",
   "metadata": {
    "scrolled": false
   },
   "outputs": [
    {
     "name": "stdout",
     "output_type": "stream",
     "text": [
      "Il y a 111 piezos pour le clustering dans le dataframe.\n"
     ]
    }
   ],
   "source": [
    "# Import du csv et conversion en dataframe\n",
    "custom_date_parser = lambda x: datetime.strptime(x, \"%Y-%m-%d\")\n",
    "data = pd.read_csv(f\"./data/{region}.csv\", sep = \";\", parse_dates=True, index_col=\"date_mesure\", date_parser=custom_date_parser)\n",
    "\n",
    "print(f\"Il y a {data.shape[1]} piezos pour le clustering dans le dataframe.\")"
   ]
  },
  {
   "cell_type": "markdown",
   "id": "244d0bc2",
   "metadata": {},
   "source": [
    "## Analyse du nombre optimal de clusters"
   ]
  },
  {
   "cell_type": "code",
   "execution_count": 152,
   "id": "5e580290",
   "metadata": {},
   "outputs": [
    {
     "name": "stderr",
     "output_type": "stream",
     "text": [
      "Calcul de l'inertie: 100%|████████████████████████████████████████| 398/398 [01:57<00:00,  3.39it/s]\n"
     ]
    },
    {
     "data": {
      "image/png": "[encoded data removed]",
      "text/plain": [
       "<Figure size 864x576 with 2 Axes>"
      ]
     },
     "metadata": {
      "needs_background": "light"
     },
     "output_type": "display_data"
    }
   ],
   "source": [
    "k_opt, results = f_clusters_coude(data, n_init=5, plage=(2,400))"
   ]
  },
  {
   "cell_type": "markdown",
   "id": "69b47612",
   "metadata": {},
   "source": [
    "## Création des clusters"
   ]
  },
  {
   "cell_type": "code",
   "execution_count": 150,
   "id": "3d18591f",
   "metadata": {
    "scrolled": true
   },
   "outputs": [],
   "source": [
    "# Choix du nombre de clusters à créer\n",
    "nbre_clusters = 424"
   ]
  },
  {
   "cell_type": "code",
   "execution_count": 151,
   "id": "a347dbf2",
   "metadata": {
    "scrolled": false
   },
   "outputs": [
    {
     "ename": "KeyboardInterrupt",
     "evalue": "",
     "output_type": "error",
     "traceback": [
      "\u001b[1;31m---------------------------------------------------------------------------\u001b[0m",
      "\u001b[1;31mKeyboardInterrupt\u001b[0m                         Traceback (most recent call last)",
      "File \u001b[1;32m<__array_function__ internals>:2\u001b[0m, in \u001b[0;36mwhere\u001b[1;34m(*args, **kwargs)\u001b[0m\n",
      "\u001b[1;31mKeyboardInterrupt\u001b[0m: "
     ]
    },
    {
     "name": "stderr",
     "output_type": "stream",
     "text": [
      "Exception ignored in: 'sklearn.cluster._k_means_common._relocate_empty_clusters_dense'\n",
      "Traceback (most recent call last):\n",
      "  File \"<__array_function__ internals>\", line 2, in where\n",
      "KeyboardInterrupt: \n"
     ]
    },
    {
     "ename": "KeyboardInterrupt",
     "evalue": "",
     "output_type": "error",
     "traceback": [
      "\u001b[1;31m---------------------------------------------------------------------------\u001b[0m",
      "\u001b[1;31mKeyboardInterrupt\u001b[0m                         Traceback (most recent call last)",
      "Input \u001b[1;32mIn [151]\u001b[0m, in \u001b[0;36m<cell line: 2>\u001b[1;34m()\u001b[0m\n\u001b[0;32m      1\u001b[0m \u001b[38;5;66;03m# Entrainement\u001b[39;00m\n\u001b[1;32m----> 2\u001b[0m cluster_table, cluster_centers \u001b[38;5;241m=\u001b[39m \u001b[43mf_clusters_fit\u001b[49m\u001b[43m(\u001b[49m\u001b[43mdata\u001b[49m\u001b[43m,\u001b[49m\u001b[43m \u001b[49m\u001b[43mnbre_clusters\u001b[49m\u001b[43m,\u001b[49m\u001b[43m \u001b[49m\u001b[43mn_init\u001b[49m\u001b[43m \u001b[49m\u001b[38;5;241;43m=\u001b[39;49m\u001b[43m \u001b[49m\u001b[38;5;241;43m2000\u001b[39;49m\u001b[43m,\u001b[49m\u001b[43m \u001b[49m\u001b[43mmax_iter\u001b[49m\u001b[43m \u001b[49m\u001b[38;5;241;43m=\u001b[39;49m\u001b[43m \u001b[49m\u001b[38;5;241;43m500\u001b[39;49m\u001b[43m)\u001b[49m\n\u001b[0;32m      4\u001b[0m \u001b[38;5;66;03m# répartition des piezos dans les clusters\u001b[39;00m\n\u001b[0;32m      5\u001b[0m sns\u001b[38;5;241m.\u001b[39mcountplot(data \u001b[38;5;241m=\u001b[39m cluster_table, x \u001b[38;5;241m=\u001b[39m \u001b[38;5;124m\"\u001b[39m\u001b[38;5;124mcluster\u001b[39m\u001b[38;5;124m\"\u001b[39m)\n",
      "Input \u001b[1;32mIn [2]\u001b[0m, in \u001b[0;36mf_clusters_fit\u001b[1;34m(df, k, n_init, max_iter)\u001b[0m\n\u001b[0;32m    137\u001b[0m km \u001b[38;5;241m=\u001b[39m KMeans(n_clusters\u001b[38;5;241m=\u001b[39mk, n_init\u001b[38;5;241m=\u001b[39mn_init, max_iter\u001b[38;5;241m=\u001b[39mmax_iter, random_state\u001b[38;5;241m=\u001b[39m\u001b[38;5;241m2022\u001b[39m)\n\u001b[0;32m    138\u001b[0m \u001b[38;5;66;03m# Entraînement du modèle\u001b[39;00m\n\u001b[1;32m--> 139\u001b[0m \u001b[43mkm\u001b[49m\u001b[38;5;241;43m.\u001b[39;49m\u001b[43mfit\u001b[49m\u001b[43m(\u001b[49m\u001b[43mdata\u001b[49m\u001b[43m)\u001b[49m\n\u001b[0;32m    140\u001b[0m \u001b[38;5;66;03m# Définition des numéros de cluster\u001b[39;00m\n\u001b[0;32m    141\u001b[0m labels \u001b[38;5;241m=\u001b[39m km\u001b[38;5;241m.\u001b[39mlabels_\u001b[38;5;241m+\u001b[39m\u001b[38;5;241m1\u001b[39m \n",
      "File \u001b[1;32m~\\Anaconda3\\envs\\Environnement\\lib\\site-packages\\sklearn\\cluster\\_kmeans.py:1179\u001b[0m, in \u001b[0;36mKMeans.fit\u001b[1;34m(self, X, y, sample_weight)\u001b[0m\n\u001b[0;32m   1175\u001b[0m best_inertia, best_labels \u001b[38;5;241m=\u001b[39m \u001b[38;5;28;01mNone\u001b[39;00m, \u001b[38;5;28;01mNone\u001b[39;00m\n\u001b[0;32m   1177\u001b[0m \u001b[38;5;28;01mfor\u001b[39;00m i \u001b[38;5;129;01min\u001b[39;00m \u001b[38;5;28mrange\u001b[39m(\u001b[38;5;28mself\u001b[39m\u001b[38;5;241m.\u001b[39m_n_init):\n\u001b[0;32m   1178\u001b[0m     \u001b[38;5;66;03m# Initialize centers\u001b[39;00m\n\u001b[1;32m-> 1179\u001b[0m     centers_init \u001b[38;5;241m=\u001b[39m \u001b[38;5;28;43mself\u001b[39;49m\u001b[38;5;241;43m.\u001b[39;49m\u001b[43m_init_centroids\u001b[49m\u001b[43m(\u001b[49m\n\u001b[0;32m   1180\u001b[0m \u001b[43m        \u001b[49m\u001b[43mX\u001b[49m\u001b[43m,\u001b[49m\u001b[43m \u001b[49m\u001b[43mx_squared_norms\u001b[49m\u001b[38;5;241;43m=\u001b[39;49m\u001b[43mx_squared_norms\u001b[49m\u001b[43m,\u001b[49m\u001b[43m \u001b[49m\u001b[43minit\u001b[49m\u001b[38;5;241;43m=\u001b[39;49m\u001b[43minit\u001b[49m\u001b[43m,\u001b[49m\u001b[43m \u001b[49m\u001b[43mrandom_state\u001b[49m\u001b[38;5;241;43m=\u001b[39;49m\u001b[43mrandom_state\u001b[49m\n\u001b[0;32m   1181\u001b[0m \u001b[43m    \u001b[49m\u001b[43m)\u001b[49m\n\u001b[0;32m   1182\u001b[0m     \u001b[38;5;28;01mif\u001b[39;00m \u001b[38;5;28mself\u001b[39m\u001b[38;5;241m.\u001b[39mverbose:\n\u001b[0;32m   1183\u001b[0m         \u001b[38;5;28mprint\u001b[39m(\u001b[38;5;124m\"\u001b[39m\u001b[38;5;124mInitialization complete\u001b[39m\u001b[38;5;124m\"\u001b[39m)\n",
      "File \u001b[1;32m~\\Anaconda3\\envs\\Environnement\\lib\\site-packages\\sklearn\\cluster\\_kmeans.py:1090\u001b[0m, in \u001b[0;36mKMeans._init_centroids\u001b[1;34m(self, X, x_squared_norms, init, random_state, init_size)\u001b[0m\n\u001b[0;32m   1087\u001b[0m     n_samples \u001b[38;5;241m=\u001b[39m X\u001b[38;5;241m.\u001b[39mshape[\u001b[38;5;241m0\u001b[39m]\n\u001b[0;32m   1089\u001b[0m \u001b[38;5;28;01mif\u001b[39;00m \u001b[38;5;28misinstance\u001b[39m(init, \u001b[38;5;28mstr\u001b[39m) \u001b[38;5;129;01mand\u001b[39;00m init \u001b[38;5;241m==\u001b[39m \u001b[38;5;124m\"\u001b[39m\u001b[38;5;124mk-means++\u001b[39m\u001b[38;5;124m\"\u001b[39m:\n\u001b[1;32m-> 1090\u001b[0m     centers, _ \u001b[38;5;241m=\u001b[39m \u001b[43m_kmeans_plusplus\u001b[49m\u001b[43m(\u001b[49m\n\u001b[0;32m   1091\u001b[0m \u001b[43m        \u001b[49m\u001b[43mX\u001b[49m\u001b[43m,\u001b[49m\n\u001b[0;32m   1092\u001b[0m \u001b[43m        \u001b[49m\u001b[43mn_clusters\u001b[49m\u001b[43m,\u001b[49m\n\u001b[0;32m   1093\u001b[0m \u001b[43m        \u001b[49m\u001b[43mrandom_state\u001b[49m\u001b[38;5;241;43m=\u001b[39;49m\u001b[43mrandom_state\u001b[49m\u001b[43m,\u001b[49m\n\u001b[0;32m   1094\u001b[0m \u001b[43m        \u001b[49m\u001b[43mx_squared_norms\u001b[49m\u001b[38;5;241;43m=\u001b[39;49m\u001b[43mx_squared_norms\u001b[49m\u001b[43m,\u001b[49m\n\u001b[0;32m   1095\u001b[0m \u001b[43m    \u001b[49m\u001b[43m)\u001b[49m\n\u001b[0;32m   1096\u001b[0m \u001b[38;5;28;01melif\u001b[39;00m \u001b[38;5;28misinstance\u001b[39m(init, \u001b[38;5;28mstr\u001b[39m) \u001b[38;5;129;01mand\u001b[39;00m init \u001b[38;5;241m==\u001b[39m \u001b[38;5;124m\"\u001b[39m\u001b[38;5;124mrandom\u001b[39m\u001b[38;5;124m\"\u001b[39m:\n\u001b[0;32m   1097\u001b[0m     seeds \u001b[38;5;241m=\u001b[39m random_state\u001b[38;5;241m.\u001b[39mpermutation(n_samples)[:n_clusters]\n",
      "File \u001b[1;32m~\\Anaconda3\\envs\\Environnement\\lib\\site-packages\\sklearn\\cluster\\_kmeans.py:218\u001b[0m, in \u001b[0;36m_kmeans_plusplus\u001b[1;34m(X, n_clusters, x_squared_norms, random_state, n_local_trials)\u001b[0m\n\u001b[0;32m    215\u001b[0m np\u001b[38;5;241m.\u001b[39mclip(candidate_ids, \u001b[38;5;28;01mNone\u001b[39;00m, closest_dist_sq\u001b[38;5;241m.\u001b[39msize \u001b[38;5;241m-\u001b[39m \u001b[38;5;241m1\u001b[39m, out\u001b[38;5;241m=\u001b[39mcandidate_ids)\n\u001b[0;32m    217\u001b[0m \u001b[38;5;66;03m# Compute distances to center candidates\u001b[39;00m\n\u001b[1;32m--> 218\u001b[0m distance_to_candidates \u001b[38;5;241m=\u001b[39m \u001b[43m_euclidean_distances\u001b[49m\u001b[43m(\u001b[49m\n\u001b[0;32m    219\u001b[0m \u001b[43m    \u001b[49m\u001b[43mX\u001b[49m\u001b[43m[\u001b[49m\u001b[43mcandidate_ids\u001b[49m\u001b[43m]\u001b[49m\u001b[43m,\u001b[49m\u001b[43m \u001b[49m\u001b[43mX\u001b[49m\u001b[43m,\u001b[49m\u001b[43m \u001b[49m\u001b[43mY_norm_squared\u001b[49m\u001b[38;5;241;43m=\u001b[39;49m\u001b[43mx_squared_norms\u001b[49m\u001b[43m,\u001b[49m\u001b[43m \u001b[49m\u001b[43msquared\u001b[49m\u001b[38;5;241;43m=\u001b[39;49m\u001b[38;5;28;43;01mTrue\u001b[39;49;00m\n\u001b[0;32m    220\u001b[0m \u001b[43m\u001b[49m\u001b[43m)\u001b[49m\n\u001b[0;32m    222\u001b[0m \u001b[38;5;66;03m# update closest distances squared and potential for each candidate\u001b[39;00m\n\u001b[0;32m    223\u001b[0m np\u001b[38;5;241m.\u001b[39mminimum(closest_dist_sq, distance_to_candidates, out\u001b[38;5;241m=\u001b[39mdistance_to_candidates)\n",
      "File \u001b[1;32m~\\Anaconda3\\envs\\Environnement\\lib\\site-packages\\sklearn\\metrics\\pairwise.py:350\u001b[0m, in \u001b[0;36m_euclidean_distances\u001b[1;34m(X, Y, X_norm_squared, Y_norm_squared, squared)\u001b[0m\n\u001b[0;32m    348\u001b[0m     XX \u001b[38;5;241m=\u001b[39m \u001b[38;5;28;01mNone\u001b[39;00m\n\u001b[0;32m    349\u001b[0m \u001b[38;5;28;01melse\u001b[39;00m:\n\u001b[1;32m--> 350\u001b[0m     XX \u001b[38;5;241m=\u001b[39m \u001b[43mrow_norms\u001b[49m\u001b[43m(\u001b[49m\u001b[43mX\u001b[49m\u001b[43m,\u001b[49m\u001b[43m \u001b[49m\u001b[43msquared\u001b[49m\u001b[38;5;241;43m=\u001b[39;49m\u001b[38;5;28;43;01mTrue\u001b[39;49;00m\u001b[43m)\u001b[49m[:, np\u001b[38;5;241m.\u001b[39mnewaxis]\n\u001b[0;32m    352\u001b[0m \u001b[38;5;28;01mif\u001b[39;00m Y \u001b[38;5;129;01mis\u001b[39;00m X:\n\u001b[0;32m    353\u001b[0m     YY \u001b[38;5;241m=\u001b[39m \u001b[38;5;28;01mNone\u001b[39;00m \u001b[38;5;28;01mif\u001b[39;00m XX \u001b[38;5;129;01mis\u001b[39;00m \u001b[38;5;28;01mNone\u001b[39;00m \u001b[38;5;28;01melse\u001b[39;00m XX\u001b[38;5;241m.\u001b[39mT\n",
      "File \u001b[1;32m~\\Anaconda3\\envs\\Environnement\\lib\\site-packages\\sklearn\\utils\\extmath.py:76\u001b[0m, in \u001b[0;36mrow_norms\u001b[1;34m(X, squared)\u001b[0m\n\u001b[0;32m     74\u001b[0m     norms \u001b[38;5;241m=\u001b[39m csr_row_norms(X)\n\u001b[0;32m     75\u001b[0m \u001b[38;5;28;01melse\u001b[39;00m:\n\u001b[1;32m---> 76\u001b[0m     norms \u001b[38;5;241m=\u001b[39m \u001b[43mnp\u001b[49m\u001b[38;5;241;43m.\u001b[39;49m\u001b[43meinsum\u001b[49m\u001b[43m(\u001b[49m\u001b[38;5;124;43m\"\u001b[39;49m\u001b[38;5;124;43mij,ij->i\u001b[39;49m\u001b[38;5;124;43m\"\u001b[39;49m\u001b[43m,\u001b[49m\u001b[43m \u001b[49m\u001b[43mX\u001b[49m\u001b[43m,\u001b[49m\u001b[43m \u001b[49m\u001b[43mX\u001b[49m\u001b[43m)\u001b[49m\n\u001b[0;32m     78\u001b[0m \u001b[38;5;28;01mif\u001b[39;00m \u001b[38;5;129;01mnot\u001b[39;00m squared:\n\u001b[0;32m     79\u001b[0m     np\u001b[38;5;241m.\u001b[39msqrt(norms, norms)\n",
      "File \u001b[1;32m<__array_function__ internals>:5\u001b[0m, in \u001b[0;36meinsum\u001b[1;34m(*args, **kwargs)\u001b[0m\n",
      "File \u001b[1;32m~\\Anaconda3\\envs\\Environnement\\lib\\site-packages\\numpy\\core\\einsumfunc.py:1359\u001b[0m, in \u001b[0;36meinsum\u001b[1;34m(out, optimize, *operands, **kwargs)\u001b[0m\n\u001b[0;32m   1357\u001b[0m     \u001b[38;5;28;01mif\u001b[39;00m specified_out:\n\u001b[0;32m   1358\u001b[0m         kwargs[\u001b[38;5;124m'\u001b[39m\u001b[38;5;124mout\u001b[39m\u001b[38;5;124m'\u001b[39m] \u001b[38;5;241m=\u001b[39m out\n\u001b[1;32m-> 1359\u001b[0m     \u001b[38;5;28;01mreturn\u001b[39;00m c_einsum(\u001b[38;5;241m*\u001b[39moperands, \u001b[38;5;241m*\u001b[39m\u001b[38;5;241m*\u001b[39mkwargs)\n\u001b[0;32m   1361\u001b[0m \u001b[38;5;66;03m# Check the kwargs to avoid a more cryptic error later, without having to\u001b[39;00m\n\u001b[0;32m   1362\u001b[0m \u001b[38;5;66;03m# repeat default values here\u001b[39;00m\n\u001b[0;32m   1363\u001b[0m valid_einsum_kwargs \u001b[38;5;241m=\u001b[39m [\u001b[38;5;124m'\u001b[39m\u001b[38;5;124mdtype\u001b[39m\u001b[38;5;124m'\u001b[39m, \u001b[38;5;124m'\u001b[39m\u001b[38;5;124morder\u001b[39m\u001b[38;5;124m'\u001b[39m, \u001b[38;5;124m'\u001b[39m\u001b[38;5;124mcasting\u001b[39m\u001b[38;5;124m'\u001b[39m]\n",
      "\u001b[1;31mKeyboardInterrupt\u001b[0m: "
     ]
    }
   ],
   "source": [
    "# Entrainement\n",
    "cluster_table, cluster_centers = f_clusters_fit(data, nbre_clusters, n_init = 2000, max_iter = 500)\n",
    "\n",
    "# répartition des piezos dans les clusters\n",
    "sns.countplot(data = cluster_table, x = \"cluster\")"
   ]
  },
  {
   "cell_type": "code",
   "execution_count": null,
   "id": "7721ebcd",
   "metadata": {},
   "outputs": [],
   "source": [
    "cluster_centers.head()"
   ]
  },
  {
   "cell_type": "code",
   "execution_count": null,
   "id": "850c53d2",
   "metadata": {},
   "outputs": [],
   "source": [
    "cluster_table.head()"
   ]
  },
  {
   "cell_type": "markdown",
   "id": "ce7ba0e8",
   "metadata": {},
   "source": [
    "## Affichage des clusters"
   ]
  },
  {
   "cell_type": "code",
   "execution_count": null,
   "id": "ddf8379a",
   "metadata": {
    "scrolled": false
   },
   "outputs": [],
   "source": [
    "f_plot_clusters(data, cluster_table, cluster_centers)\n",
    "#cluster_table.groupby(\"cluster\").mean()"
   ]
  },
  {
   "cell_type": "code",
   "execution_count": null,
   "id": "8f576d1f",
   "metadata": {
    "scrolled": false
   },
   "outputs": [],
   "source": [
    "#f_plot_all(data, cluster_table, cluster_centers)"
   ]
  },
  {
   "cell_type": "markdown",
   "id": "aa68a489",
   "metadata": {},
   "source": [
    "## Filtre des chroniques avec score insuffisant"
   ]
  },
  {
   "cell_type": "code",
   "execution_count": null,
   "id": "0d3fda98",
   "metadata": {
    "scrolled": true
   },
   "outputs": [],
   "source": [
    "plt.figure(figsize=(8, 6))\n",
    "ax = cluster_table[\"MSE\"].sort_values().plot(title = \"MSE chronique / centroïde\")\n",
    "ax.set_xlabel(\"\")\n",
    "ax.set_ylabel(\"MSE\")\n",
    "ax.tick_params(left = True, right = False , labelleft = True ,\n",
    "                labelbottom = False, bottom = False)\n",
    "plt.show()\n"
   ]
  },
  {
   "cell_type": "code",
   "execution_count": null,
   "id": "c32d3509",
   "metadata": {
    "scrolled": false
   },
   "outputs": [],
   "source": [
    "# nbre de chroniques sous le seuil\n",
    "MSEmax = f_MSEmax(cluster_table)\n",
    "cluster_table.loc[cluster_table.MSE > MSEmax, \"cluster\"] = 0\n",
    "\n",
    "nbre_elim_total = 0\n",
    "nbre_elim = cluster_table.loc[cluster_table.MSE > MSEmax, 'MSE'].count()\n",
    "nbre_elim_total += nbre_elim\n",
    "\n",
    "iteration = 1\n",
    "print(f\"Itération {iteration} : {nbre_elim} chronique(s) éliminée(s).\")\n",
    "\n",
    "data_opt = data.copy()\n",
    "\n",
    "while nbre_elim != 0 :\n",
    "    \n",
    "    # Selection des clusters non zéro\n",
    "    data_opt = data.copy().loc[:,cluster_table.loc[cluster_table.cluster != 0].index]\n",
    "    \n",
    "    # Nouveau clustering\n",
    "    cluster_table, cluster_centers = f_clusters_fit(data_opt, nbre_clusters, n_init = 2000, max_iter = 500)\n",
    "\n",
    "    # chroniques sous le seuil passées à cluster 0\n",
    "    MSEmax = f_MSEmax(cluster_table)\n",
    "    nbre_elim = cluster_table.loc[cluster_table.MSE > MSEmax, 'MSE'].count()   \n",
    "    nbre_elim_total += nbre_elim\n",
    "    \n",
    "\n",
    "    cluster_table.loc[cluster_table.MSE > MSEmax, \"cluster\"] = 0\n",
    "    iteration += 1\n",
    "    print(f\"Itération {iteration} : {nbre_elim} chronique(s) éliminée(s).\")\n",
    "\n",
    "    \n",
    "for index, column in enumerate (cluster_centers.columns):\n",
    "    cluster_centers.rename(columns={column : f\"{index+1}\"}, inplace=True)    \n",
    "    \n",
    "print(f\"Nombre total de chroniques éliminées : {nbre_elim_total}\")\n",
    "\n",
    "plt.figure(figsize=(8, 6))\n",
    "ax = cluster_table[\"MSE\"].sort_values().plot(title = \"MSE chronique / centroïde\")\n",
    "ax.set_xlabel(\"\")\n",
    "ax.set_ylabel(\"MSE\")\n",
    "ax.tick_params(left = True, right = False , labelleft = True ,\n",
    "                labelbottom = False, bottom = False)\n",
    "plt.show()\n"
   ]
  },
  {
   "cell_type": "code",
   "execution_count": null,
   "id": "d653650e",
   "metadata": {
    "scrolled": false
   },
   "outputs": [],
   "source": [
    "f_plot_clusters(data_opt, cluster_table, cluster_centers)"
   ]
  },
  {
   "cell_type": "code",
   "execution_count": null,
   "id": "a7f4d460",
   "metadata": {
    "scrolled": true
   },
   "outputs": [],
   "source": [
    "sns.countplot(data = cluster_table, x = \"cluster\")"
   ]
  },
  {
   "cell_type": "markdown",
   "id": "4888860c",
   "metadata": {},
   "source": [
    "## Sous-clusters - linkage / dendogramme"
   ]
  },
  {
   "cell_type": "code",
   "execution_count": null,
   "id": "171f5b46",
   "metadata": {},
   "outputs": [],
   "source": [
    "Z = hierarchy.linkage(cluster_centers.T, method='ward', optimal_ordering=True)\n",
    "plt.figure()\n",
    "dn = hierarchy.dendrogram(Z, \n",
    "                          labels=list(cluster_centers.columns),\n",
    "                          count_sort = 'descending',\n",
    "                          distance_sort = 'ascending',\n",
    "                          get_leaves =True,\n",
    "                          show_leaf_counts = True,\n",
    "                          color_threshold = max(Z[:,2])*0.6)\n",
    "\n",
    "cluster_order = dn.get('ivl')\n",
    "codes_couleur = dn.get('leaves_color_list')\n",
    "codes_couleur"
   ]
  },
  {
   "cell_type": "code",
   "execution_count": null,
   "id": "e58d2e2c",
   "metadata": {},
   "outputs": [],
   "source": [
    "# Décompte du nombre d'une même couleur présente consécutivement\n",
    "compteur = [1]\n",
    "index_compteur = 0\n",
    "for index in range (1,len(codes_couleur)) :\n",
    "    if codes_couleur[index] == codes_couleur[index-1] :\n",
    "        compteur[index_compteur] += 1\n",
    "    else :\n",
    "        index_compteur += 1\n",
    "        compteur.append(1)\n",
    "        \n",
    "ch = \"A\"\n",
    "new_codes_couleur = []\n",
    "\n",
    "for index, number in enumerate (compteur) :\n",
    "    if number == 1 :\n",
    "        new_codes_couleur.append(ch)\n",
    "    else :\n",
    "        for num_sc in range (1,number+1):\n",
    "            new_codes_couleur.append(ch + str(num_sc))\n",
    "    ch = chr(ord(ch)+1)\n",
    "new_codes_couleur"
   ]
  },
  {
   "cell_type": "code",
   "execution_count": null,
   "id": "9ba06739",
   "metadata": {},
   "outputs": [],
   "source": [
    "#new_codes_couleur = ['A1', 'A2', 'B', 'C', 'D']"
   ]
  },
  {
   "cell_type": "markdown",
   "id": "3ca2d8eb",
   "metadata": {},
   "source": [
    "### Modification des libellés"
   ]
  },
  {
   "cell_type": "code",
   "execution_count": null,
   "id": "dd3476b3",
   "metadata": {},
   "outputs": [],
   "source": [
    "# Conversion nom numérique en nom littéral\n",
    "\n",
    "# - Cluster table\n",
    "cluster_table.replace(list(map(int, cluster_order)), new_codes_couleur, inplace=True)\n",
    "\n",
    "# - Cluster centers\n",
    "dict_rename = dict(zip(cluster_order, new_codes_couleur))\n",
    "cluster_centers.rename(columns=dict_rename, inplace=True)"
   ]
  },
  {
   "cell_type": "code",
   "execution_count": null,
   "id": "5bd6ce8c",
   "metadata": {},
   "outputs": [],
   "source": [
    "cluster_table.head()"
   ]
  },
  {
   "cell_type": "code",
   "execution_count": null,
   "id": "33158732",
   "metadata": {},
   "outputs": [],
   "source": [
    "cluster_centers.head()"
   ]
  },
  {
   "cell_type": "markdown",
   "id": "61821fda",
   "metadata": {},
   "source": [
    "# Enregistrement des profils des clusters"
   ]
  },
  {
   "cell_type": "code",
   "execution_count": null,
   "id": "144e5af4",
   "metadata": {
    "scrolled": true
   },
   "outputs": [],
   "source": [
    "cluster_centers.to_csv(f\"./data/{region}_clusters.csv\")"
   ]
  },
  {
   "cell_type": "markdown",
   "id": "a771be96",
   "metadata": {},
   "source": [
    "# Ajout à la bdd"
   ]
  },
  {
   "cell_type": "code",
   "execution_count": null,
   "id": "693ee741",
   "metadata": {
    "scrolled": true
   },
   "outputs": [],
   "source": [
    "# Nom de la table\n",
    "table = \"cluster_kmeans\""
   ]
  },
  {
   "cell_type": "code",
   "execution_count": null,
   "id": "ff99a566",
   "metadata": {
    "scrolled": true
   },
   "outputs": [],
   "source": [
    "# Création de la table\n",
    "requete = f\"\"\"\n",
    "                    ALTER TABLE data_piezo\n",
    "                    ADD {table} VARCHAR(6) DEFAULT NULL\n",
    "                    \"\"\"\n",
    "f_requete_sql(requete)"
   ]
  },
  {
   "cell_type": "code",
   "execution_count": null,
   "id": "1ae915e4",
   "metadata": {
    "scrolled": true
   },
   "outputs": [],
   "source": [
    "# Création de listes de nuéro de cluster avec le nom des piezos\n",
    "# Ajout dans la bdd\n",
    "for label in set(cluster_table.cluster):\n",
    "    cluster = tuple(cluster_table.loc[cluster_table.cluster == label, 'cluster'].index.to_list())\n",
    "    requete = f\"\"\"\n",
    "        UPDATE data_piezo\n",
    "        SET {table} = '{region}_{label}'\n",
    "        WHERE code_bss IN {cluster}\n",
    "        \"\"\"\n",
    "    f_requete_sql(requete)"
   ]
  },
  {
   "cell_type": "markdown",
   "id": "03eab55f",
   "metadata": {},
   "source": [
    "## Suppresion colonne"
   ]
  },
  {
   "cell_type": "markdown",
   "id": "86d4625c",
   "metadata": {},
   "source": [
    "requete = \"\"\"\n",
    "                    ALTER TABLE data_piezo\n",
    "                    DROP cluster_kmeans\n",
    "                    \"\"\"\n",
    "f_requete_sql(requete)"
   ]
  },
  {
   "cell_type": "markdown",
   "id": "ec89a672",
   "metadata": {},
   "source": [
    "# Chronique caractéristique des clusters"
   ]
  },
  {
   "cell_type": "code",
   "execution_count": null,
   "id": "c41ced49",
   "metadata": {},
   "outputs": [],
   "source": [
    "# Recherche du code_bss avec la valeur MSE la plus faible\n",
    "liste_top_bss = []\n",
    "for cluster in cluster_table.cluster.unique() :\n",
    "    liste_top_bss.append(cluster_table.loc[cluster_table.cluster == cluster].sort_values(\"MSE\").index[0])\n",
    "df_top = pd.DataFrame(liste_top_bss, cluster_table.cluster.unique(), columns=[\"code_bss\"])\n",
    "\n",
    "df_top = df_top.sort_index()"
   ]
  },
  {
   "cell_type": "code",
   "execution_count": null,
   "id": "84980eb7",
   "metadata": {},
   "outputs": [],
   "source": [
    "fig, axs = plt.subplots(len(df_top),1,figsize=(10,40))\n",
    "for i in range (len(df_top)):\n",
    "    cluster = df_top.index[i]\n",
    "    bss = df_top.code_bss[i]\n",
    "    axs[i].plot(cluster_centers.loc[:,cluster], 'red')\n",
    "    axs[i].plot(data_opt.loc[:,bss])\n",
    "    axs[i].set_title(\"Cluster \"+ cluster + \" - \" + bss)    \n",
    "                "
   ]
  },
  {
   "cell_type": "markdown",
   "id": "961ea5dc",
   "metadata": {},
   "source": [
    "## Ajout à la bdd"
   ]
  },
  {
   "cell_type": "code",
   "execution_count": null,
   "id": "c6a5a312",
   "metadata": {},
   "outputs": [],
   "source": [
    "code_cluster = tuple(region + \"_\" +  df_top.index)\n",
    "code_bss = tuple(df_top.index)\n",
    "tableau = list(np.stack((code_cluster,code_bss), axis=1))\n",
    "for index, line in enumerate(tableau):\n",
    "    tableau[index] = tuple(line)"
   ]
  },
  {
   "cell_type": "code",
   "execution_count": null,
   "id": "a1361767",
   "metadata": {},
   "outputs": [],
   "source": [
    "# Création de la table\n",
    "requete = f\"\"\"\n",
    "            CREATE TABLE IF NOT EXISTS flagship_piezo (\n",
    "            code_cluster VARCHAR(8) PRIMARY KEY ON CONFLICT IGNORE,\n",
    "            code_bss VARCHAR(8)\n",
    "            )\n",
    "            \"\"\"\n",
    "f_requete_sql(requete)"
   ]
  },
  {
   "cell_type": "code",
   "execution_count": null,
   "id": "c2395d6e",
   "metadata": {},
   "outputs": [],
   "source": [
    "requete = f\"INSERT INTO flagship_piezo (code_cluster, code_bss) VALUES (?,?)\"\n",
    "\n",
    "try:\n",
    "    connexion = sqlite3.connect('../data/liste_piezos.db')\n",
    "    curseur = connexion.cursor()\n",
    "    print(\"Connexion réussie à SQLite\")\n",
    "    curseur.executemany(requete, tableau)\n",
    "    connexion.commit()\n",
    "    resultat = curseur.fetchall()\n",
    "    curseur.close()\n",
    "    connexion.close()\n",
    "    print(\"Connexion SQLite est fermée\")\n",
    "except sqlite3.Error as error:\n",
    "    print(\"Erreur lors du mis à jour dans la table : \", error)"
   ]
  },
  {
   "cell_type": "markdown",
   "id": "d0e22384",
   "metadata": {},
   "source": [
    "### Suppression données region"
   ]
  },
  {
   "cell_type": "markdown",
   "id": "4f3b72f4",
   "metadata": {},
   "source": [
    "# Création de la table\n",
    "requete = f\"\"\"\n",
    "            DELETE FROM flagship_piezo\n",
    "            WHERE code_cluster LIKE '{region}%'\n",
    "            \"\"\"\n",
    "f_requete_sql(requete)"
   ]
  },
  {
   "cell_type": "code",
   "execution_count": null,
   "id": "51f62886",
   "metadata": {},
   "outputs": [],
   "source": []
  },
  {
   "cell_type": "code",
   "execution_count": 296,
   "id": "ac592101",
   "metadata": {},
   "outputs": [],
   "source": [
    "data, names = f_clusters_transform(data)"
   ]
  },
  {
   "cell_type": "code",
   "execution_count": null,
   "id": "4b2a2c6e",
   "metadata": {},
   "outputs": [],
   "source": []
  },
  {
   "cell_type": "code",
   "execution_count": null,
   "id": "609156fb",
   "metadata": {},
   "outputs": [],
   "source": []
  },
  {
   "cell_type": "code",
   "execution_count": null,
   "id": "c1c953bd",
   "metadata": {},
   "outputs": [],
   "source": []
  },
  {
   "cell_type": "code",
   "execution_count": null,
   "id": "094ed165",
   "metadata": {},
   "outputs": [],
   "source": []
  },
  {
   "cell_type": "code",
   "execution_count": null,
   "id": "89a444f0",
   "metadata": {},
   "outputs": [],
   "source": []
  },
  {
   "cell_type": "code",
   "execution_count": 258,
   "id": "823bda33",
   "metadata": {},
   "outputs": [
    {
     "name": "stderr",
     "output_type": "stream",
     "text": [
      "Calcul de l'inertie: 100%|██████████████████████████████████████████| 48/48 [00:35<00:00,  1.37it/s]\n"
     ]
    },
    {
     "data": {
      "image/png": "[encoded data removed]",
      "text/plain": [
       "<Figure size 864x576 with 2 Axes>"
      ]
     },
     "metadata": {
      "needs_background": "light"
     },
     "output_type": "display_data"
    }
   ],
   "source": [
    "amplitude_data = range(1,data.shape[0]+1)\n",
    "results = pd.DataFrame(index=amplitude_data, columns=[\"inertia\", \"b_min\"], dtype='float')\n",
    "\n",
    "km = KMeans(n_clusters=1, n_init=1) \n",
    "km = km.fit(data)\n",
    "inertie = km.inertia_\n",
    "results.loc[1,\"inertia\"] = inertie\n",
    "results.loc[amplitude_data[-1], \"inertia\"] = 0\n",
    "\n",
    "# Calcul de a\n",
    "a = (0 - inertie) / (amplitude_data[-1] - 1)\n",
    "\n",
    "# Amplitude de calcul d k optimal\n",
    "ks = range(plage[0],plage[1])\n",
    "\n",
    "for k in tqdm (ks,\n",
    "                desc=\"Calcul de l'inertie\",  \n",
    "                ascii=False, ncols=100) :\n",
    "    km = KMeans(n_clusters=k, n_init=n_init) \n",
    "    km = km.fit(data)\n",
    "    inertie = km.inertia_\n",
    "    results.loc[k, \"inertia\"] = inertie\n",
    "    results.loc[k, \"b_min\"] = inertie - k*a\n",
    "\n",
    "best_k = results.b_min.idxmin()\n",
    "\n",
    "fig, ax1 = plt.subplots(figsize=(12,8))\n",
    "\n",
    "fig.suptitle(f\"Nombre de cluster optimal : {best_k}\")\n",
    "\n",
    "ax1.plot(results.dropna(axis=0, how='all'))\n",
    "ax1.scatter(best_k, results.loc[best_k,\"inertia\"],s=100, c='red', marker='X')\n",
    "ax1.axvline(x=best_k, ymax = results.loc[best_k,\"inertia\"]/results.loc[1,\"inertia\"], color='gray',linestyle='--')\n",
    "ax1.set_xlabel('nombre de clusters')\n",
    "ax1.set_ylabel('inertie')\n",
    "ax1.legend([\"inertie\", \"b_min\", 'k_opt'], bbox_to_anchor=(1.05, 1.0), loc='upper left')\n",
    "\n",
    "\n",
    "ax2 = plt.axes([0,0,1,1])\n",
    "# Manually set the position and relative size of the inset axes within ax1\n",
    "ip = InsetPosition(ax1, [0.45,0.45,0.5,0.5])\n",
    "ax2.set_axes_locator(ip)\n",
    "# Mark the region corresponding to the inset axes on ax1 and draw lines\n",
    "# in grey linking the two axes.\n",
    "ax2.plot(results.dropna(axis=0, how='all'))\n",
    "ax2.scatter(best_k, results.loc[best_k,\"inertia\"],s=100, c='red', marker='X')\n",
    "ax2.axvline(x=best_k, ymax = results.loc[ks[0],\"inertia\"]/results.loc[ks[-1],\"inertia\"] , color='gray',linestyle='--')\n",
    "ax2.set_xlabel('nombre de clusters')\n",
    "ax2.set_ylabel('inertie')\n",
    "ax2.set_xlim(ks[0], ks[-1])\n",
    "_=ax2.set_ylim(results.loc[:, \"b_min\"].min(), results.loc[ks[0], \"b_min\"])"
   ]
  },
  {
   "cell_type": "code",
   "execution_count": null,
   "id": "131e3010",
   "metadata": {},
   "outputs": [],
   "source": []
  },
  {
   "cell_type": "code",
   "execution_count": 307,
   "id": "4d401238",
   "metadata": {},
   "outputs": [],
   "source": [
    "data, names = f_clusters_transform(data)"
   ]
  },
  {
   "cell_type": "code",
   "execution_count": null,
   "id": "839ad20f",
   "metadata": {},
   "outputs": [],
   "source": []
  },
  {
   "cell_type": "code",
   "execution_count": 316,
   "id": "8f8dc9fa",
   "metadata": {},
   "outputs": [
    {
     "name": "stderr",
     "output_type": "stream",
     "text": [
      "Calcul de l'inertie: 100%|██████████████████████████████████████████| 11/11 [00:16<00:00,  1.46s/it]\n"
     ]
    }
   ],
   "source": [
    "plage = (1,12)\n",
    "\n",
    "k_mesure = range(plage[0], plage[1])\n",
    "\n",
    "results = pd.DataFrame(index=k_mesure, columns=[\"inertia\"], dtype='float')\n",
    "\n",
    "for k in tqdm (k_mesure,\n",
    "                desc=\"Calcul de l'inertie\",  \n",
    "                ascii=False, ncols=100) :\n",
    "    km = KMeans(n_clusters=k, n_init=500) \n",
    "    km = km.fit(data)\n",
    "    inertie = km.inertia_\n",
    "    results.loc[k,\"inertia\"] = inertie"
   ]
  },
  {
   "cell_type": "code",
   "execution_count": 317,
   "id": "56123de2",
   "metadata": {},
   "outputs": [
    {
     "data": {
      "text/plain": [
       "<AxesSubplot:>"
      ]
     },
     "execution_count": 317,
     "metadata": {},
     "output_type": "execute_result"
    },
    {
     "data": {
      "image/png": "[encoded data removed]",
      "text/plain": [
       "<Figure size 432x288 with 1 Axes>"
      ]
     },
     "metadata": {
      "needs_background": "light"
     },
     "output_type": "display_data"
    }
   ],
   "source": [
    "results.plot()"
   ]
  },
  {
   "cell_type": "code",
   "execution_count": 318,
   "id": "6d4a1ce4",
   "metadata": {},
   "outputs": [
    {
     "data": {
      "text/html": [
       "<div>\n",
       "<style scoped>\n",
       "    .dataframe tbody tr th:only-of-type {\n",
       "        vertical-align: middle;\n",
       "    }\n",
       "\n",
       "    .dataframe tbody tr th {\n",
       "        vertical-align: top;\n",
       "    }\n",
       "\n",
       "    .dataframe thead th {\n",
       "        text-align: right;\n",
       "    }\n",
       "</style>\n",
       "<table border=\"1\" class=\"dataframe\">\n",
       "  <thead>\n",
       "    <tr style=\"text-align: right;\">\n",
       "      <th></th>\n",
       "      <th>inertia</th>\n",
       "    </tr>\n",
       "  </thead>\n",
       "  <tbody>\n",
       "    <tr>\n",
       "      <th>1</th>\n",
       "      <td>33164.807045</td>\n",
       "    </tr>\n",
       "    <tr>\n",
       "      <th>2</th>\n",
       "      <td>26276.809668</td>\n",
       "    </tr>\n",
       "    <tr>\n",
       "      <th>3</th>\n",
       "      <td>22648.090461</td>\n",
       "    </tr>\n",
       "    <tr>\n",
       "      <th>4</th>\n",
       "      <td>20835.727390</td>\n",
       "    </tr>\n",
       "    <tr>\n",
       "      <th>5</th>\n",
       "      <td>19258.601328</td>\n",
       "    </tr>\n",
       "  </tbody>\n",
       "</table>\n",
       "</div>"
      ],
      "text/plain": [
       "        inertia\n",
       "1  33164.807045\n",
       "2  26276.809668\n",
       "3  22648.090461\n",
       "4  20835.727390\n",
       "5  19258.601328"
      ]
     },
     "execution_count": 318,
     "metadata": {},
     "output_type": "execute_result"
    }
   ],
   "source": [
    "results.head()"
   ]
  },
  {
   "cell_type": "code",
   "execution_count": 319,
   "id": "6ca1984d",
   "metadata": {},
   "outputs": [],
   "source": [
    "results[\"deriv\"] = np.NaN\n",
    "for k in results.index.values:\n",
    "    try : \n",
    "        results.loc[k, \"deriv\"] = (results.loc[k+1, \"inertia\"] - results.loc[k, \"inertia\"]) / ((k+1) - k)\n",
    "    except:\n",
    "        pass"
   ]
  },
  {
   "cell_type": "code",
   "execution_count": 320,
   "id": "a7a2e80d",
   "metadata": {},
   "outputs": [],
   "source": [
    "results[\"deriv_2\"] = np.NaN\n",
    "for k in results.index.values:\n",
    "    try : \n",
    "        results.loc[k, \"deriv_2\"] = (results.loc[k+1, \"deriv\"] - results.loc[k, \"deriv\"]) / ((k+1) - k)\n",
    "    except:\n",
    "        pass"
   ]
  },
  {
   "cell_type": "code",
   "execution_count": 321,
   "id": "bc3efc69",
   "metadata": {},
   "outputs": [
    {
     "data": {
      "text/plain": [
       "<AxesSubplot:>"
      ]
     },
     "execution_count": 321,
     "metadata": {},
     "output_type": "execute_result"
    },
    {
     "data": {
      "image/png": "[encoded data removed]",
      "text/plain": [
       "<Figure size 432x288 with 1 Axes>"
      ]
     },
     "metadata": {
      "needs_background": "light"
     },
     "output_type": "display_data"
    }
   ],
   "source": [
    "results[\"deriv\"].plot()"
   ]
  },
  {
   "cell_type": "code",
   "execution_count": 322,
   "id": "ea347ddf",
   "metadata": {},
   "outputs": [
    {
     "data": {
      "text/plain": [
       "<AxesSubplot:>"
      ]
     },
     "execution_count": 322,
     "metadata": {},
     "output_type": "execute_result"
    },
    {
     "data": {
      "image/png": "[encoded data removed]",
      "text/plain": [
       "<Figure size 432x288 with 1 Axes>"
      ]
     },
     "metadata": {
      "needs_background": "light"
     },
     "output_type": "display_data"
    }
   ],
   "source": [
    "results[\"deriv_2\"].plot()"
   ]
  },
  {
   "cell_type": "code",
   "execution_count": 323,
   "id": "04ed4ace",
   "metadata": {},
   "outputs": [
    {
     "data": {
      "text/html": [
       "<div>\n",
       "<style scoped>\n",
       "    .dataframe tbody tr th:only-of-type {\n",
       "        vertical-align: middle;\n",
       "    }\n",
       "\n",
       "    .dataframe tbody tr th {\n",
       "        vertical-align: top;\n",
       "    }\n",
       "\n",
       "    .dataframe thead th {\n",
       "        text-align: right;\n",
       "    }\n",
       "</style>\n",
       "<table border=\"1\" class=\"dataframe\">\n",
       "  <thead>\n",
       "    <tr style=\"text-align: right;\">\n",
       "      <th></th>\n",
       "      <th>inertia</th>\n",
       "      <th>deriv</th>\n",
       "      <th>deriv_2</th>\n",
       "    </tr>\n",
       "  </thead>\n",
       "  <tbody>\n",
       "    <tr>\n",
       "      <th>1</th>\n",
       "      <td>33164.807045</td>\n",
       "      <td>-6887.997377</td>\n",
       "      <td>3259.278170</td>\n",
       "    </tr>\n",
       "    <tr>\n",
       "      <th>2</th>\n",
       "      <td>26276.809668</td>\n",
       "      <td>-3628.719207</td>\n",
       "      <td>1816.356135</td>\n",
       "    </tr>\n",
       "    <tr>\n",
       "      <th>3</th>\n",
       "      <td>22648.090461</td>\n",
       "      <td>-1812.363072</td>\n",
       "      <td>235.237010</td>\n",
       "    </tr>\n",
       "    <tr>\n",
       "      <th>4</th>\n",
       "      <td>20835.727390</td>\n",
       "      <td>-1577.126062</td>\n",
       "      <td>163.638481</td>\n",
       "    </tr>\n",
       "    <tr>\n",
       "      <th>5</th>\n",
       "      <td>19258.601328</td>\n",
       "      <td>-1413.487580</td>\n",
       "      <td>148.885272</td>\n",
       "    </tr>\n",
       "    <tr>\n",
       "      <th>6</th>\n",
       "      <td>17845.113748</td>\n",
       "      <td>-1264.602308</td>\n",
       "      <td>239.072326</td>\n",
       "    </tr>\n",
       "    <tr>\n",
       "      <th>7</th>\n",
       "      <td>16580.511439</td>\n",
       "      <td>-1025.529982</td>\n",
       "      <td>384.903974</td>\n",
       "    </tr>\n",
       "    <tr>\n",
       "      <th>8</th>\n",
       "      <td>15554.981457</td>\n",
       "      <td>-640.626008</td>\n",
       "      <td>19.788873</td>\n",
       "    </tr>\n",
       "    <tr>\n",
       "      <th>9</th>\n",
       "      <td>14914.355449</td>\n",
       "      <td>-620.837135</td>\n",
       "      <td>232.580574</td>\n",
       "    </tr>\n",
       "    <tr>\n",
       "      <th>10</th>\n",
       "      <td>14293.518315</td>\n",
       "      <td>-388.256561</td>\n",
       "      <td>NaN</td>\n",
       "    </tr>\n",
       "  </tbody>\n",
       "</table>\n",
       "</div>"
      ],
      "text/plain": [
       "         inertia        deriv      deriv_2\n",
       "1   33164.807045 -6887.997377  3259.278170\n",
       "2   26276.809668 -3628.719207  1816.356135\n",
       "3   22648.090461 -1812.363072   235.237010\n",
       "4   20835.727390 -1577.126062   163.638481\n",
       "5   19258.601328 -1413.487580   148.885272\n",
       "6   17845.113748 -1264.602308   239.072326\n",
       "7   16580.511439 -1025.529982   384.903974\n",
       "8   15554.981457  -640.626008    19.788873\n",
       "9   14914.355449  -620.837135   232.580574\n",
       "10  14293.518315  -388.256561          NaN"
      ]
     },
     "execution_count": 323,
     "metadata": {},
     "output_type": "execute_result"
    }
   ],
   "source": [
    "results.head(10)"
   ]
  },
  {
   "cell_type": "code",
   "execution_count": null,
   "id": "3880868f",
   "metadata": {},
   "outputs": [],
   "source": []
  },
  {
   "cell_type": "code",
   "execution_count": null,
   "id": "241b0baa",
   "metadata": {},
   "outputs": [],
   "source": []
  }
 ],
 "metadata": {
  "kernelspec": {
   "display_name": "Python 3 (ipykernel)",
   "language": "python",
   "name": "python3"
  },
  "language_info": {
   "codemirror_mode": {
    "name": "ipython",
    "version": 3
   },
   "file_extension": ".py",
   "mimetype": "text/x-python",
   "name": "python",
   "nbconvert_exporter": "python",
   "pygments_lexer": "ipython3",
   "version": "3.9.12"
  },
  "toc": {
   "base_numbering": 1,
   "nav_menu": {},
   "number_sections": true,
   "sideBar": true,
   "skip_h1_title": false,
   "title_cell": "Table of Contents",
   "title_sidebar": "Contents",
   "toc_cell": false,
   "toc_position": {
    "height": "calc(100% - 180px)",
    "left": "10px",
    "top": "150px",
    "width": "333.963px"
   },
   "toc_section_display": true,
   "toc_window_display": true
  },
  "varInspector": {
   "cols": {
    "lenName": 16,
    "lenType": 16,
    "lenVar": 40
   },
   "kernels_config": {
    "python": {
     "delete_cmd_postfix": "",
     "delete_cmd_prefix": "del ",
     "library": "var_list.py",
     "varRefreshCmd": "print(var_dic_list())"
    },
    "r": {
     "delete_cmd_postfix": ") ",
     "delete_cmd_prefix": "rm(",
     "library": "var_list.r",
     "varRefreshCmd": "cat(var_dic_list()) "
    }
   },
   "position": {
    "height": "628.835px",
    "left": "1255.99px",
    "right": "20px",
    "top": "100.997px",
    "width": "464.006px"
   },
   "types_to_exclude": [
    "module",
    "function",
    "builtin_function_or_method",
    "instance",
    "_Feature"
   ],
   "window_display": false
  }
 },
 "nbformat": 4,
 "nbformat_minor": 5
}
