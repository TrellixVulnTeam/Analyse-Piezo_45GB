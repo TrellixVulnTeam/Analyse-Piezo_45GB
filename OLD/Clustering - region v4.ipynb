{
 "cells": [
  {
   "cell_type": "markdown",
   "id": "d49aea39",
   "metadata": {},
   "source": [
    "#### Estimation par dérivée seconde"
   ]
  },
  {
   "cell_type": "code",
   "execution_count": null,
   "id": "d08bbb03",
   "metadata": {},
   "outputs": [],
   "source": [
    "data, names = f_clusters_transform(data)"
   ]
  },
  {
   "cell_type": "code",
   "execution_count": null,
   "id": "41053ee8",
   "metadata": {},
   "outputs": [],
   "source": [
    "results = pd.DataFrame(columns=[\"Sum_of_squared_distances\"], index=np.arange(1,40+1))\n",
    "\n",
    "\n",
    "\n",
    "K = np.arange(1,50+1)\n",
    "for k in tqdm (K,  \n",
    "           desc=\"Calcul de l'inertie\",  \n",
    "           ascii=False, ncols=100) : \n",
    "    km = KMeans(n_clusters=k, n_init=100) \n",
    "    km = km.fit(data) \n",
    "    results.loc[k,\"Sum_of_squared_distances\"] = km.inertia_    "
   ]
  },
  {
   "cell_type": "code",
   "execution_count": null,
   "id": "30514a7c",
   "metadata": {},
   "outputs": [],
   "source": [
    "for line in range (2, len(results)):\n",
    "    results.loc[line, \"sec_deriv\"] = results.loc[line-1, \"Sum_of_squared_distances\"] +  results.loc[line+1, \"Sum_of_squared_distances\"] - 2*results.loc[line, \"Sum_of_squared_distances\"]"
   ]
  },
  {
   "cell_type": "code",
   "execution_count": null,
   "id": "559d398f",
   "metadata": {},
   "outputs": [],
   "source": [
    "results.head(10)"
   ]
  },
  {
   "cell_type": "code",
   "execution_count": null,
   "id": "171fa7fc",
   "metadata": {},
   "outputs": [],
   "source": [
    "plt.figure(figsize=(8, 6))\n",
    "ax = results.Sum_of_squared_distances.plot(title=\"Evolution de l'inertie en fonction du nombre de clusters créés\")\n",
    "ax.set_xlabel(\"Nombre de clusters\")\n",
    "ax.set_ylabel(\"Inertie\")\n",
    "plt.show()"
   ]
  },
  {
   "cell_type": "code",
   "execution_count": null,
   "id": "ee7e65bb",
   "metadata": {},
   "outputs": [],
   "source": [
    "plt.figure(figsize=(8, 6))\n",
    "ax = results.loc[2:,\"sec_deriv\"].plot(title=\"Dérivée seconde discrete\")\n",
    "ax.set_xlabel(\"Nombre de clusters\")\n",
    "ax.set_ylabel(\"Dérivée seconde\")\n",
    "plt.show()"
   ]
  },
  {
   "cell_type": "code",
   "execution_count": null,
   "id": "12f11847",
   "metadata": {},
   "outputs": [],
   "source": []
  },
  {
   "cell_type": "code",
   "execution_count": null,
   "id": "63d46f3b",
   "metadata": {},
   "outputs": [],
   "source": []
  },
  {
   "cell_type": "code",
   "execution_count": null,
   "id": "2423d688",
   "metadata": {},
   "outputs": [],
   "source": []
  },
  {
   "cell_type": "code",
   "execution_count": null,
   "id": "8fd842c6",
   "metadata": {},
   "outputs": [],
   "source": []
  },
  {
   "cell_type": "code",
   "execution_count": null,
   "id": "74479b65",
   "metadata": {},
   "outputs": [],
   "source": []
  },
  {
   "cell_type": "code",
   "execution_count": null,
   "id": "2cb15e3c",
   "metadata": {},
   "outputs": [],
   "source": []
  },
  {
   "cell_type": "code",
   "execution_count": null,
   "id": "e0f7e01e",
   "metadata": {},
   "outputs": [],
   "source": []
  },
  {
   "cell_type": "code",
   "execution_count": null,
   "id": "e0ac40fd",
   "metadata": {},
   "outputs": [],
   "source": []
  },
  {
   "cell_type": "code",
   "execution_count": null,
   "id": "3af1fcb6",
   "metadata": {},
   "outputs": [],
   "source": []
  },
  {
   "cell_type": "code",
   "execution_count": null,
   "id": "e2faaf78",
   "metadata": {},
   "outputs": [],
   "source": []
  },
  {
   "cell_type": "code",
   "execution_count": null,
   "id": "79be8b03",
   "metadata": {},
   "outputs": [],
   "source": []
  },
  {
   "cell_type": "code",
   "execution_count": null,
   "id": "6c2cd00f",
   "metadata": {},
   "outputs": [],
   "source": []
  },
  {
   "cell_type": "code",
   "execution_count": null,
   "id": "af3a359b",
   "metadata": {},
   "outputs": [],
   "source": []
  },
  {
   "cell_type": "code",
   "execution_count": 19,
   "id": "5cb0e5d4",
   "metadata": {
    "scrolled": true
   },
   "outputs": [],
   "source": [
    "import os\n",
    "from datetime import datetime\n",
    "import pandas as pd\n",
    "import matplotlib.pyplot as plt\n",
    "from matplotlib.colors import LinearSegmentedColormap\n",
    "from matplotlib import colors as mcolors\n",
    "import seaborn as sns\n",
    "import numpy as np\n",
    "from sklearn.cluster import KMeans\n",
    "from sklearn.metrics import mean_squared_error\n",
    "import sqlite3\n",
    "from sklearn.preprocessing import StandardScaler, MinMaxScaler\n",
    "from tslearn.clustering import TimeSeriesKMeans\n",
    "import sys\n",
    "from tqdm import tqdm\n",
    "import warnings\n",
    "\n",
    "# Suppression warnings KMeans\n",
    "warnings.filterwarnings(action='ignore', \n",
    "                        message='KMeans is known to have a memory leak on Windows with MKL, when there are less chunks than available threads. You can avoid it by setting the environment variable OMP_NUM_THREADS=1.')\n",
    "# Liste des fonctions\n",
    "\n",
    "def f_requete_sql (requete) :\n",
    "    try:\n",
    "        connexion = sqlite3.connect('../data/liste_piezos.db')\n",
    "        curseur = connexion.cursor()\n",
    "        print(\"Connexion réussie à SQLite\")\n",
    "        curseur.execute(requete)\n",
    "        connexion.commit()\n",
    "        resultat = curseur.fetchall()\n",
    "        curseur.close()\n",
    "        connexion.close()\n",
    "        print(\"Connexion SQLite est fermée\")\n",
    "        return resultat\n",
    "    except sqlite3.Error as error:\n",
    "        print(\"Erreur lors du mis à jour dans la table\", error)\n",
    "        \n",
    "def f_clusters_transform (df):\n",
    "    \"\"\"\n",
    "    df : dataframe pandas\n",
    "    \"\"\"\n",
    "    data = df.values.T\n",
    "    names = df.columns\n",
    "    return(data, names)\n",
    "\n",
    "\n",
    "\n",
    "def f_clusters_coude (df, k_fine:int=15, k_seuil:int=15, k_end:int=50, n_init:int=10) :\n",
    "    \"\"\"\n",
    "    df : dataframe à entrer\n",
    "    k_fine : dernier point à calculer avec n_init\n",
    "    k_seuil : point à partir duquel est calculé k_opt (premier point à tracer avec k=1)\n",
    "    k_end : dernier point à calculer. De k_fine+1 à k_end, n_init=n_init//2      \n",
    "    \"\"\"   \n",
    "    data, names = f_clusters_transform(df)\n",
    "    \n",
    "    if k_fine >= data.shape[0] // 2 :\n",
    "        k_fine = data.shape[0] // 2\n",
    "\n",
    "    if k_end > data.shape[0]:\n",
    "        k_end = data.shape[0]\n",
    "\n",
    "    results = pd.DataFrame(columns=[\"Sum_of_squared_distances\"], index=np.arange(1,k_end+1))\n",
    "\n",
    "    K = np.arange(1,k_fine+1)\n",
    "    for k in tqdm (K,  \n",
    "               desc=\"Calcul de l'inertie\",  \n",
    "               ascii=False, ncols=100) : \n",
    "        km = KMeans(n_clusters=k, n_init=n_init) \n",
    "        km = km.fit(data) \n",
    "        results.loc[k,\"Sum_of_squared_distances\"] = km.inertia_\n",
    "\n",
    "    K_seuil = np.arange(k_fine, k_end+1)\n",
    "    for k in tqdm (K_seuil,  \n",
    "               desc=\"Calcul du seuil…\",  \n",
    "               ascii=False, ncols=100) : \n",
    "        km = KMeans(n_clusters=k, n_init=n_init//2) \n",
    "        km = km.fit(data) \n",
    "        results.loc[k,\"Sum_of_squared_distances\"] = km.inertia_\n",
    "\n",
    "    # Normalisation de Sum_of_squared_distances entre 1 et k_fine pour avoir un graph orthonormé\n",
    "    scaler = MinMaxScaler(feature_range=(0,k_end-1))\n",
    "    results[\"score_norm\"] = scaler.fit_transform(results[\"Sum_of_squared_distances\"].values.reshape(-1,1))\n",
    "\n",
    "    # Liste vide pour les valeurs k_opt pour chaque calcul entre k_fine et k_fine+1\n",
    "    k_opt_list=[]\n",
    "\n",
    "    fig = plt.figure(figsize=(16, 7))\n",
    "    ax1 = fig.add_subplot(121)\n",
    "    ax2 = fig.add_subplot(122)\n",
    "\n",
    "    # Calcul de \n",
    "    for k in range(k_seuil, k_end+1,2) :\n",
    "\n",
    "        a = (results.loc[k,\"score_norm\"] - results.loc[1,\"score_norm\"]) / (k-1)\n",
    "        b = results.loc[1,\"score_norm\"] - a\n",
    "\n",
    "        distance = []\n",
    "        for point in range(2,k):\n",
    "            p_a = -1 / a\n",
    "            p_b = results.loc[point,\"score_norm\"]-point*p_a\n",
    "            x_intersec = (p_b-b)/(a-p_a)\n",
    "            distance.append(np.sqrt((x_intersec-point)**2 + (a*x_intersec+b - results.loc[point,\"score_norm\"])**2))\n",
    "        distance = np.array(distance) \n",
    "        k_opt = np.where(distance == distance.max())[0][0]+2\n",
    "\n",
    "        p_b_max = results.loc[k_opt,\"score_norm\"]-k_opt*p_a\n",
    "        x_intersec = (p_b_max-b)/(a-p_a)\n",
    "        y_intersec = p_a*x_intersec + p_b_max\n",
    "\n",
    "        k_opt_list.append(k_opt)\n",
    "        ax1.plot([1,k], [a*1+b , a*k+b])\n",
    "        ax1.plot([k_opt, x_intersec], [results.loc[k_opt,\"score_norm\"], y_intersec] )\n",
    "\n",
    "    sns.countplot(x= k_opt_list)    \n",
    "    k_opt = pd.Series(k_opt_list).value_counts().index[0]\n",
    "\n",
    "    ax1.plot(results.score_norm)\n",
    "    ax1.scatter(k_opt, results.loc[k_opt,\"score_norm\"],s=100, c='red', marker='X')    \n",
    "    ax1.axvline(x=k_opt, ymax = results.loc[k_opt,\"score_norm\"]/results.loc[1,\"score_norm\"] , color='gray',linestyle='--')\n",
    "    _=fig.suptitle(f\"Nombre de cluster optimal : {k_opt}\")  \n",
    " \n",
    "    return k_opt, results.score_norm\n",
    "    \n",
    "    \n",
    "def f_clusters_fit (df, k:int = 4, n_init:int = 100, max_iter:int = 2000):\n",
    "    \n",
    "    \"\"\"\n",
    "    Entrainement et affichage de la distribution dans les clusters\n",
    "    return :\n",
    "    - cluster_table : df bss - cluster - MSE\n",
    "    - df_clusters_centers : df série temporelle des clusters\n",
    "    - metric : \"euclidean\" / \"dtw\" / \"softdtw\"\n",
    "    \"\"\"\n",
    "    \n",
    "    data, names = f_clusters_transform(df)\n",
    "    # Initilialisation du modèle\n",
    "    km = KMeans(n_clusters=k, n_init=n_init, max_iter=max_iter, random_state=2022)\n",
    "    # Entraînement du modèle\n",
    "    km.fit(data)\n",
    "    # Définition des numéros de cluster\n",
    "    labels = km.labels_+1 \n",
    "    # Profils des clusters\n",
    "    cluster_centers = np.array(km.cluster_centers_)\n",
    "    df_cluster_centers = pd.DataFrame(cluster_centers.T, index=df.index)\n",
    "    for cluster in range(df_cluster_centers.shape[1]):\n",
    "        df_cluster_centers.rename(columns = {cluster:f\"cluster_{cluster+1}\"}, inplace=True)\n",
    "    \n",
    "    # Création du dataframe de résultats\n",
    "    cluster_table = pd.DataFrame()\n",
    "    cluster_table[\"code_bss\"] = names\n",
    "    cluster_table.set_index(\"code_bss\", inplace=True)\n",
    "    cluster_table[\"cluster\"] = labels\n",
    "    for piezo in cluster_table.index :\n",
    "        cluster_table.loc[piezo, \"MSE\"] = mean_squared_error(df.loc[:,piezo], cluster_centers[cluster_table.loc[piezo, \"cluster\"]-1])\n",
    "    \n",
    "    return cluster_table, df_cluster_centers\n",
    "\n",
    "def f_plot_clusters (df, cluster_table, cluster_centers, plot_mean:bool = True):\n",
    "    \n",
    "    data, names = f_clusters_transform (df)\n",
    "    \n",
    "    labels = cluster_table[\"cluster\"]\n",
    "    \n",
    "    fig, axs = plt.subplots(len(set(labels)),1,figsize=(20,4*cluster_centers.shape[1]))\n",
    "    row_i=0\n",
    "\n",
    "    for label in set(labels):\n",
    "        for i in range(len(labels)):\n",
    "            if(labels[i]==label):\n",
    "                axs[row_i].plot(df.iloc[:,i],alpha=0.4)\n",
    "        if plot_mean:\n",
    "            axs[row_i].plot(cluster_centers.iloc[:,label-1],c=\"red\")\n",
    "        axs[row_i].set_title(\"Cluster \"+str(row_i+1))\n",
    "        row_i+=1\n",
    "    plt.show()\n",
    "    \n",
    "def f_plot_all (df, cluster_table, df_cluster_centers) :\n",
    "\n",
    "    if df.shape[1]%4 == 0:\n",
    "        nbre_lignes = df.shape[1]//4\n",
    "    else : \n",
    "        nbre_lignes = df.shape[1]//4 + 1\n",
    "\n",
    "    fig, axs = plt.subplots(nbre_lignes,4,figsize=(25,200))\n",
    "    #fig.suptitle('Series')\n",
    "    for i in range(nbre_lignes):\n",
    "        for j in range(4):\n",
    "            if i*4+j+1>df.shape[1]: # pass the others that we can't fill\n",
    "                continue\n",
    "            axs[i, j].plot(df.iloc[:,i*4+j])\n",
    "            axs[i, j].plot(df_cluster_centers.iloc[:,cluster_table.iloc[i*4+j,0]-1])\n",
    "            \n",
    "            axs[i, j].set_title(df.columns[i*4+j] + f\" - MSE = {round(cluster_table.loc[df.columns[i*4+j],'MSE'],2)}\")\n",
    "            \n",
    "    plt.show()\n",
    "    \n",
    "def f_MSEmax (cluster_table):\n",
    "    # Calcul de MSEmin\n",
    "\n",
    "    Q1 = cluster_table[\"MSE\"].quantile(0.25, \"higher\")\n",
    "    Q3 = cluster_table[\"MSE\"].quantile(0.75, \"lower\")\n",
    "\n",
    "    # Ecart inter-quartile\n",
    "    IQM = abs(Q3-Q1)\n",
    "\n",
    "    # Seuil minimal de conservation des chroniques (Q3+1.5*IQM)\n",
    "\n",
    "    MSEmin = Q3+1.5*IQM\n",
    "    return MSEmin"
   ]
  },
  {
   "cell_type": "markdown",
   "id": "2afcb532",
   "metadata": {},
   "source": [
    "# Chargement des données"
   ]
  },
  {
   "cell_type": "code",
   "execution_count": 4,
   "id": "85e60e4a",
   "metadata": {
    "scrolled": true
   },
   "outputs": [],
   "source": [
    "region = \"HDF\""
   ]
  },
  {
   "cell_type": "code",
   "execution_count": 5,
   "id": "95ff2c23",
   "metadata": {
    "scrolled": false
   },
   "outputs": [
    {
     "name": "stdout",
     "output_type": "stream",
     "text": [
      "Il y a 120 piezos pour le clustering dans le dataframe.\n"
     ]
    }
   ],
   "source": [
    "# Import du csv et conversion en dataframe\n",
    "custom_date_parser = lambda x: datetime.strptime(x, \"%Y-%m-%d\")\n",
    "data = pd.read_csv(f\"./data/{region}.csv\", sep = \";\", parse_dates=True, index_col=\"date_mesure\", date_parser=custom_date_parser)\n",
    "\n",
    "print(f\"Il y a {data.shape[1]} piezos pour le clustering dans le dataframe.\")"
   ]
  },
  {
   "cell_type": "markdown",
   "id": "244d0bc2",
   "metadata": {},
   "source": [
    "## Analyse du nombre optimal de clusters"
   ]
  },
  {
   "cell_type": "code",
   "execution_count": 23,
   "id": "5e580290",
   "metadata": {},
   "outputs": [
    {
     "name": "stderr",
     "output_type": "stream",
     "text": [
      "Calcul de l'inertie: 100%|██████████████████████████████████████████| 15/15 [00:02<00:00,  5.80it/s]\n",
      "Calcul du seuil…: 100%|█████████████████████████████████████████████| 76/76 [00:20<00:00,  3.64it/s]\n"
     ]
    },
    {
     "data": {
      "image/png": "[encoded data removed]",
      "text/plain": [
       "<Figure size 1152x504 with 2 Axes>"
      ]
     },
     "metadata": {
      "needs_background": "light"
     },
     "output_type": "display_data"
    }
   ],
   "source": [
    "k_calc, results = f_clusters_coude(data, k_seuil=10, k_end=90, n_init=50)\n"
   ]
  },
  {
   "cell_type": "code",
   "execution_count": 14,
   "id": "8d78e81a",
   "metadata": {
    "scrolled": false
   },
   "outputs": [
    {
     "data": {
      "text/plain": [
       "11    8\n",
       "10    5\n",
       "8     4\n",
       "12    3\n",
       "7     2\n",
       "13    1\n",
       "4     1\n",
       "9     1\n",
       "dtype: int64"
      ]
     },
     "execution_count": 14,
     "metadata": {},
     "output_type": "execute_result"
    }
   ],
   "source": [
    "pd.Series(coude).value_counts()"
   ]
  },
  {
   "cell_type": "markdown",
   "id": "69b47612",
   "metadata": {},
   "source": [
    "## Création des clusters"
   ]
  },
  {
   "cell_type": "code",
   "execution_count": 15,
   "id": "3d18591f",
   "metadata": {
    "scrolled": true
   },
   "outputs": [],
   "source": [
    "# Choix du nombre de clusters à créer\n",
    "nbre_clusters = 11"
   ]
  },
  {
   "cell_type": "code",
   "execution_count": null,
   "id": "a347dbf2",
   "metadata": {
    "scrolled": false
   },
   "outputs": [],
   "source": [
    "# Entrainement\n",
    "cluster_table, cluster_centers = f_clusters_fit(data, nbre_clusters, n_init = 200, max_iter = 500)\n",
    "\n",
    "# répartition des piezos dans les clusters\n",
    "sns.countplot(data = cluster_table, x = \"cluster\")\n",
    "# On renomme les noms de cluster par rapport à la région\n",
    "for index, column in enumerate (cluster_centers.columns):\n",
    "    cluster_centers.rename(columns={column : f\"{region}_{index+1}\"}, inplace=True)"
   ]
  },
  {
   "cell_type": "markdown",
   "id": "ce7ba0e8",
   "metadata": {},
   "source": [
    "## Affichage des clusters"
   ]
  },
  {
   "cell_type": "code",
   "execution_count": null,
   "id": "ddf8379a",
   "metadata": {
    "scrolled": false
   },
   "outputs": [],
   "source": [
    "f_plot_clusters(data, cluster_table, cluster_centers)\n",
    "#cluster_table.groupby(\"cluster\").mean()"
   ]
  },
  {
   "cell_type": "code",
   "execution_count": null,
   "id": "8f576d1f",
   "metadata": {
    "scrolled": false
   },
   "outputs": [],
   "source": [
    "#f_plot_all(data, cluster_table, cluster_centers)"
   ]
  },
  {
   "cell_type": "markdown",
   "id": "aa68a489",
   "metadata": {},
   "source": [
    "## Filtre des chroniques avec score insuffisant"
   ]
  },
  {
   "cell_type": "code",
   "execution_count": null,
   "id": "0d3fda98",
   "metadata": {
    "scrolled": true
   },
   "outputs": [],
   "source": [
    "plt.plot(cluster_table[\"MSE\"].sort_values())"
   ]
  },
  {
   "cell_type": "code",
   "execution_count": null,
   "id": "c32d3509",
   "metadata": {
    "scrolled": true
   },
   "outputs": [],
   "source": [
    "# nbre de chroniques sous le seuil\n",
    "MSEmax = f_MSEmax(cluster_table)\n",
    "cluster_table.loc[cluster_table.MSE > MSEmax, \"cluster\"] = 0\n",
    "\n",
    "nbre_elim_total = 0\n",
    "nbre_elim = cluster_table.loc[cluster_table.MSE > MSEmax, 'MSE'].count()\n",
    "nbre_elim_total += nbre_elim\n",
    "\n",
    "iteration = 0\n",
    "print(f\"Itération {iteration} : {nbre_elim} chronique(s) éliminée(s).\")\n",
    "\n",
    "data_opt = data.copy()\n",
    "\n",
    "while nbre_elim != 0 :\n",
    "    \n",
    "    # Selection des clusters non zéro\n",
    "    data_opt = data.copy().loc[:,cluster_table.loc[cluster_table.cluster != 0].index]\n",
    "    \n",
    "    # Nouveau clustering\n",
    "    cluster_table, cluster_centers = f_clusters_fit(data_opt, nbre_clusters, n_init = 100, max_iter = 2000)\n",
    "\n",
    "    # chroniques sous le seuil passées à cluster 0\n",
    "    MSEmax = f_MSEmax(cluster_table)\n",
    "    nbre_elim = cluster_table.loc[cluster_table.MSE > MSEmax, 'MSE'].count()   \n",
    "    nbre_elim_total += nbre_elim\n",
    "    \n",
    "\n",
    "    cluster_table.loc[cluster_table.MSE > MSEmax, \"cluster\"] = 0\n",
    "\n",
    "    print(f\"Itération {iteration} : {nbre_elim} chronique(s) éliminée(s).\")\n",
    "    iteration += 1\n",
    "    \n",
    "for index, column in enumerate (cluster_centers.columns):\n",
    "    cluster_centers.rename(columns={column : f\"{region}_{index+1}\"}, inplace=True)    \n",
    "    \n",
    "print(f\"Nombre total de chroniques éliminées : {nbre_elim_total}\")\n",
    "    \n",
    "plt.plot(cluster_table[\"MSE\"].sort_values())"
   ]
  },
  {
   "cell_type": "code",
   "execution_count": null,
   "id": "d653650e",
   "metadata": {
    "scrolled": false
   },
   "outputs": [],
   "source": [
    "f_plot_clusters(data_opt, cluster_table, cluster_centers)"
   ]
  },
  {
   "cell_type": "code",
   "execution_count": null,
   "id": "a7f4d460",
   "metadata": {
    "scrolled": true
   },
   "outputs": [],
   "source": [
    "sns.countplot(data = cluster_table, x = \"cluster\")"
   ]
  },
  {
   "cell_type": "code",
   "execution_count": null,
   "id": "56f7377b",
   "metadata": {
    "scrolled": true
   },
   "outputs": [],
   "source": [
    "#cluster_table.groupby(\"cluster\").mean()"
   ]
  },
  {
   "cell_type": "markdown",
   "id": "fadce98a",
   "metadata": {},
   "source": [
    "## Contrôle du nombre de clusters après éliminant des chroniques hors clusters"
   ]
  },
  {
   "cell_type": "code",
   "execution_count": null,
   "id": "067b1bfa",
   "metadata": {},
   "outputs": [],
   "source": [
    "coude, df = f_clusters_coude(data_opt, k_seuil=10, k_end=90, n_init=30)"
   ]
  },
  {
   "cell_type": "code",
   "execution_count": null,
   "id": "fcc3342a",
   "metadata": {},
   "outputs": [],
   "source": [
    "nbre_clusters = 11\n",
    "# Entrainement\n",
    "cluster_table, cluster_centers = f_clusters_fit(data_opt, nbre_clusters, n_init = 200, max_iter = 500)\n",
    "\n",
    "# répartition des piezos dans les clusters\n",
    "sns.countplot(data = cluster_table, x = \"cluster\")\n",
    "# On renomme les noms de cluster par rapport à la région\n",
    "for index, column in enumerate (cluster_centers.columns):\n",
    "    cluster_centers.rename(columns={column : f\"{region}_{index+1}\"}, inplace=True)\n",
    "MSEmax = f_MSEmax(cluster_table)\n",
    "cluster_table.loc[cluster_table.MSE > MSEmax, \"cluster\"] = 0\n",
    "\n",
    "nbre_elim_total = 0\n",
    "nbre_elim = cluster_table.loc[cluster_table.MSE > MSEmax, 'MSE'].count()\n",
    "nbre_elim_total += nbre_elim\n",
    "\n",
    "iteration = 0\n",
    "print(f\"Itération {iteration} : {nbre_elim} chronique(s) éliminée(s).\")\n",
    "\n",
    "data_opt = data.copy()\n",
    "\n",
    "while nbre_elim != 0 :\n",
    "    \n",
    "    # Selection des clusters non zéro\n",
    "    data_opt = data.copy().loc[:,cluster_table.loc[cluster_table.cluster != 0].index]\n",
    "    \n",
    "    # Nouveau clustering\n",
    "    cluster_table, cluster_centers = f_clusters_fit(data_opt, nbre_clusters, n_init = 100, max_iter = 2000)\n",
    "\n",
    "    # chroniques sous le seuil passées à cluster 0\n",
    "    MSEmax = f_MSEmax(cluster_table)\n",
    "    nbre_elim = cluster_table.loc[cluster_table.MSE > MSEmax, 'MSE'].count()   \n",
    "    nbre_elim_total += nbre_elim\n",
    "    \n",
    "\n",
    "    cluster_table.loc[cluster_table.MSE > MSEmax, \"cluster\"] = 0\n",
    "\n",
    "    print(f\"Itération {iteration} : {nbre_elim} chronique(s) éliminée(s).\")\n",
    "    iteration += 1\n",
    "    \n",
    "for index, column in enumerate (cluster_centers.columns):\n",
    "    cluster_centers.rename(columns={column : f\"{region}_{index+1}\"}, inplace=True)    \n",
    "    \n",
    "print(f\"Nombre total de chroniques éliminées : {nbre_elim_total}\")"
   ]
  },
  {
   "cell_type": "code",
   "execution_count": null,
   "id": "9e7b5dc9",
   "metadata": {},
   "outputs": [],
   "source": []
  },
  {
   "cell_type": "code",
   "execution_count": null,
   "id": "ca2878cb",
   "metadata": {},
   "outputs": [],
   "source": []
  },
  {
   "cell_type": "code",
   "execution_count": null,
   "id": "b265711e",
   "metadata": {},
   "outputs": [],
   "source": []
  },
  {
   "cell_type": "markdown",
   "id": "4888860c",
   "metadata": {},
   "source": [
    "## Sous-clusters - SCORING"
   ]
  },
  {
   "cell_type": "code",
   "execution_count": null,
   "id": "e78cec13",
   "metadata": {},
   "outputs": [],
   "source": [
    "scoring = pd.DataFrame(columns=cluster_centers.columns, index=cluster_centers.columns)\n",
    "scoring = scoring.fillna(0)\n",
    "\n",
    "# Itération du clustering en fonction de nbre_clusters\n",
    "for iteration in range (2, nbre_clusters) :\n",
    "    cluster_table_2, cluster_centers_2 = f_clusters_fit(cluster_centers, iteration)\n",
    "    for line in cluster_table_2.index:\n",
    "        for colonne in cluster_table_2.index:\n",
    "            if line == colonne :\n",
    "                pass\n",
    "            elif cluster_table_2.cluster[line] == cluster_table_2.cluster[colonne]:\n",
    "                scoring.loc[line, colonne] += ((iteration-1))\n",
    "                \n",
    "# Il y a nbre_clusters -3 itérations.\n",
    "# Le score max est donc la suite 1+2+...+(nbre_clusters-2) = (nbre_clusters-2)*(nbre_clusters-2+1)/2)\n",
    "scoring_pourc = round(scoring / ((nbre_clusters-2)*(nbre_clusters-1)/2),2)"
   ]
  },
  {
   "cell_type": "code",
   "execution_count": null,
   "id": "bd4b153c",
   "metadata": {},
   "outputs": [],
   "source": [
    "colors = [\"snow\", \"mistyrose\", \"lightgreen\", \"limegreen\", \"darkgreen\"]\n",
    "colors = [mcolors.to_rgba(color) for color in colors]\n",
    "\n",
    "custom_cmap = LinearSegmentedColormap.from_list('Custom', colors, len(colors))\n",
    "\n",
    "_=sns.heatmap(scoring_pourc, cmap=custom_cmap, square=True, vmin=0, vmax=1)\n",
    "cluster_table.cluster.value_counts()"
   ]
  },
  {
   "cell_type": "markdown",
   "id": "5f40c801",
   "metadata": {},
   "source": [
    "### Création des listes de sous-clusters"
   ]
  },
  {
   "cell_type": "code",
   "execution_count": null,
   "id": "02f97fcf",
   "metadata": {
    "scrolled": true
   },
   "outputs": [],
   "source": [
    "# Sous clusterisation\n",
    "\n",
    "# Liste des listes de clusters\n",
    "liste_liste = []\n",
    "# Liste des clusters déjà affectés\n",
    "list_inList = []\n",
    "\n",
    "# Parcourt des clusters par nombre d'occurences dans les piezos\n",
    "for line in cluster_table.cluster.value_counts().index:\n",
    "    # liste pour le cluster/line en cours\n",
    "    liste = []\n",
    "    if line in list_inList :\n",
    "        pass\n",
    "    else :\n",
    "        list_inList.append(line)\n",
    "        liste.append(line)\n",
    "        \n",
    "        for colonne in cluster_table.cluster.value_counts().index:\n",
    "            if colonne in list_inList :\n",
    "                pass\n",
    "            elif scoring_pourc.loc[f\"{region}_{line}\", f\"{region}_{colonne}\"] > 0.4 :\n",
    "                liste.append(colonne)\n",
    "                list_inList.append(colonne)\n",
    "                \n",
    "                # Boucle d'association secondaire si un cluster est éligible au cluster 2 (colonne) mais mais au cluster 1 (line)\n",
    "                for colonne_2 in cluster_table.cluster.value_counts().index:\n",
    "                    if colonne_2 in list_inList :\n",
    "                        pass\n",
    "                    elif scoring_pourc.loc[f\"{region}_{colonne}\", f\"{region}_{colonne_2}\"] > 0.4 :\n",
    "                        liste.append(colonne_2)\n",
    "                        list_inList.append(colonne_2)\n",
    "                \n",
    "        liste_liste.append(liste)\n",
    "liste_liste"
   ]
  },
  {
   "cell_type": "markdown",
   "id": "3ca2d8eb",
   "metadata": {},
   "source": [
    "### Modification des libellés"
   ]
  },
  {
   "cell_type": "code",
   "execution_count": null,
   "id": "a3ba7f24",
   "metadata": {
    "scrolled": true
   },
   "outputs": [],
   "source": [
    "# Pour incrémentation littéraire\n",
    "ch = \"A\"\n",
    "\n",
    "liste_liste_2 = liste_liste.copy()\n",
    "\n",
    "for index_sous_cluster, sous_cluster in enumerate (liste_liste):\n",
    "    for index_cluster, cluster in enumerate (sous_cluster) :\n",
    "        if len(sous_cluster) > 1:\n",
    "            liste_liste_2[index_sous_cluster][index_cluster] = chr(ord(ch)+index_sous_cluster) + str(index_cluster+1)\n",
    "        else :\n",
    "            liste_liste_2[index_sous_cluster][index_cluster] = chr(ord(ch)+index_sous_cluster)\n",
    "\n",
    "liste_liste_2_flat = []            \n",
    "for index_sous_cluster in liste_liste_2 :\n",
    "    liste_liste_2_flat += index_sous_cluster\n",
    "\n",
    "for index, label in enumerate(liste_liste_2_flat) :\n",
    "    liste_liste_2_flat[index] = f\"{region}_\" + liste_liste_2_flat[index]\n",
    "    \n",
    "# Liste des clusters d'ogine\n",
    "liste_clusters = list(cluster_table.cluster.value_counts().index)\n",
    "    \n",
    "# Renommage    \n",
    "cluster_table.replace(liste_clusters, liste_liste_2_flat, inplace=True)    "
   ]
  },
  {
   "cell_type": "code",
   "execution_count": null,
   "id": "54259065",
   "metadata": {
    "scrolled": true
   },
   "outputs": [],
   "source": [
    "liste_liste_2"
   ]
  },
  {
   "cell_type": "code",
   "execution_count": null,
   "id": "293cbcfc",
   "metadata": {},
   "outputs": [],
   "source": [
    "liste_liste_2_flat"
   ]
  },
  {
   "cell_type": "markdown",
   "id": "f9b5814b",
   "metadata": {},
   "source": [
    "## Sous-clusters - Dendogramme"
   ]
  },
  {
   "cell_type": "code",
   "execution_count": null,
   "id": "3b4f8c76",
   "metadata": {},
   "outputs": [],
   "source": [
    "from scipy.cluster import hierarchy"
   ]
  },
  {
   "cell_type": "code",
   "execution_count": null,
   "id": "980a5587",
   "metadata": {},
   "outputs": [],
   "source": [
    "Z = hierarchy.linkage(cluster_centers.T, method='ward')\n",
    "plt.figure()\n",
    "dn = hierarchy.dendrogram(Z)"
   ]
  },
  {
   "cell_type": "code",
   "execution_count": null,
   "id": "e1786811",
   "metadata": {},
   "outputs": [],
   "source": []
  },
  {
   "cell_type": "code",
   "execution_count": null,
   "id": "4b760bb0",
   "metadata": {},
   "outputs": [],
   "source": []
  },
  {
   "cell_type": "code",
   "execution_count": null,
   "id": "ee442f25",
   "metadata": {},
   "outputs": [],
   "source": []
  },
  {
   "cell_type": "code",
   "execution_count": null,
   "id": "9472a7f9",
   "metadata": {},
   "outputs": [],
   "source": []
  },
  {
   "cell_type": "code",
   "execution_count": null,
   "id": "243d1dfb",
   "metadata": {},
   "outputs": [],
   "source": []
  },
  {
   "cell_type": "code",
   "execution_count": null,
   "id": "89df1b5e",
   "metadata": {},
   "outputs": [],
   "source": []
  },
  {
   "cell_type": "code",
   "execution_count": null,
   "id": "4ac0a635",
   "metadata": {},
   "outputs": [],
   "source": []
  },
  {
   "cell_type": "code",
   "execution_count": null,
   "id": "6a19df6e",
   "metadata": {},
   "outputs": [],
   "source": []
  },
  {
   "cell_type": "code",
   "execution_count": null,
   "id": "2e19364d",
   "metadata": {},
   "outputs": [],
   "source": []
  },
  {
   "cell_type": "code",
   "execution_count": null,
   "id": "d29728ba",
   "metadata": {},
   "outputs": [],
   "source": []
  },
  {
   "cell_type": "code",
   "execution_count": null,
   "id": "c99344f0",
   "metadata": {},
   "outputs": [],
   "source": []
  },
  {
   "cell_type": "code",
   "execution_count": null,
   "id": "828a01a7",
   "metadata": {},
   "outputs": [],
   "source": []
  },
  {
   "cell_type": "code",
   "execution_count": null,
   "id": "e083f6c4",
   "metadata": {},
   "outputs": [],
   "source": []
  },
  {
   "cell_type": "markdown",
   "id": "61821fda",
   "metadata": {},
   "source": [
    "# Enregistrement des profils des clusters"
   ]
  },
  {
   "cell_type": "code",
   "execution_count": null,
   "id": "144e5af4",
   "metadata": {
    "scrolled": true
   },
   "outputs": [],
   "source": [
    "cluster_centers.columns = liste_liste_2_flat\n",
    "cluster_centers.to_csv(f\"./data/{region}_clusters.csv\")"
   ]
  },
  {
   "cell_type": "markdown",
   "id": "a771be96",
   "metadata": {},
   "source": [
    "# Ajout à la bdd"
   ]
  },
  {
   "cell_type": "code",
   "execution_count": null,
   "id": "693ee741",
   "metadata": {
    "scrolled": true
   },
   "outputs": [],
   "source": [
    "# Nom de la table\n",
    "table = \"cluster_kmeans\""
   ]
  },
  {
   "cell_type": "code",
   "execution_count": null,
   "id": "ff99a566",
   "metadata": {
    "scrolled": true
   },
   "outputs": [],
   "source": [
    "# Création de la table\n",
    "requete = f\"\"\"\n",
    "                    ALTER TABLE data_piezo\n",
    "                    ADD {table} VARCHAR(6) DEFAULT NULL\n",
    "                    \"\"\"\n",
    "f_requete_sql(requete)"
   ]
  },
  {
   "cell_type": "code",
   "execution_count": null,
   "id": "1ae915e4",
   "metadata": {
    "scrolled": true
   },
   "outputs": [],
   "source": [
    "# Création de listes de nuéro de cluster avec le nom des piezos\n",
    "# Ajout dans la bdd\n",
    "for label in set(cluster_table.cluster):\n",
    "    cluster = tuple(cluster_table.loc[cluster_table.cluster == label, 'cluster'].index.to_list())\n",
    "    requete = f\"\"\"\n",
    "        UPDATE data_piezo\n",
    "        SET {table} = '{label}'\n",
    "        WHERE code_bss IN {cluster}\n",
    "        \"\"\"\n",
    "    f_requete_sql(requete)"
   ]
  },
  {
   "cell_type": "code",
   "execution_count": null,
   "id": "c73e80b8",
   "metadata": {
    "scrolled": true
   },
   "outputs": [],
   "source": []
  },
  {
   "cell_type": "markdown",
   "id": "03eab55f",
   "metadata": {},
   "source": [
    "## Suppresion colonne"
   ]
  },
  {
   "cell_type": "markdown",
   "id": "fe3eeda7",
   "metadata": {},
   "source": [
    "requete = \"\"\"\n",
    "                    ALTER TABLE data_piezo\n",
    "                    DROP cluster_kmeans\n",
    "                    \"\"\"\n",
    "f_requete_sql(requete)"
   ]
  },
  {
   "cell_type": "code",
   "execution_count": null,
   "id": "473f4fed",
   "metadata": {
    "scrolled": true
   },
   "outputs": [],
   "source": []
  }
 ],
 "metadata": {
  "kernelspec": {
   "display_name": "Python 3 (ipykernel)",
   "language": "python",
   "name": "python3"
  },
  "language_info": {
   "codemirror_mode": {
    "name": "ipython",
    "version": 3
   },
   "file_extension": ".py",
   "mimetype": "text/x-python",
   "name": "python",
   "nbconvert_exporter": "python",
   "pygments_lexer": "ipython3",
   "version": "3.9.12"
  },
  "toc": {
   "base_numbering": 1,
   "nav_menu": {},
   "number_sections": true,
   "sideBar": true,
   "skip_h1_title": false,
   "title_cell": "Table of Contents",
   "title_sidebar": "Contents",
   "toc_cell": false,
   "toc_position": {
    "height": "calc(100% - 180px)",
    "left": "10px",
    "top": "150px",
    "width": "334px"
   },
   "toc_section_display": true,
   "toc_window_display": true
  },
  "varInspector": {
   "cols": {
    "lenName": 16,
    "lenType": 16,
    "lenVar": 40
   },
   "kernels_config": {
    "python": {
     "delete_cmd_postfix": "",
     "delete_cmd_prefix": "del ",
     "library": "var_list.py",
     "varRefreshCmd": "print(var_dic_list())"
    },
    "r": {
     "delete_cmd_postfix": ") ",
     "delete_cmd_prefix": "rm(",
     "library": "var_list.r",
     "varRefreshCmd": "cat(var_dic_list()) "
    }
   },
   "position": {
    "height": "628.844px",
    "left": "1468px",
    "right": "20px",
    "top": "145px",
    "width": "350px"
   },
   "types_to_exclude": [
    "module",
    "function",
    "builtin_function_or_method",
    "instance",
    "_Feature"
   ],
   "window_display": false
  }
 },
 "nbformat": 4,
 "nbformat_minor": 5
}
