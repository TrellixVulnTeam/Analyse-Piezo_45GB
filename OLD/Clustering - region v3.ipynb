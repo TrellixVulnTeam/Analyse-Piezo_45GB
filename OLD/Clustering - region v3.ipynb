{
 "cells": [
  {
   "cell_type": "code",
   "execution_count": 8,
   "id": "c8389fcc",
   "metadata": {},
   "outputs": [
    {
     "data": {
      "text/plain": [
       "array([[ 1.68178927,  1.66070344,  1.67651782, ..., -1.39114824,\n",
       "        -1.07808816, -1.9344312 ],\n",
       "       [ 2.10957922,  2.08067654,  2.06863376, ...,  1.0814268 ,\n",
       "         1.05222306,  1.00818089],\n",
       "       [ 0.1763523 ,  0.10722043, -0.43963036, ..., -1.49876601,\n",
       "        -1.43495197, -1.66893675],\n",
       "       ...,\n",
       "       [ 1.60316958,  1.6079687 ,  1.61156805, ..., -1.58927796,\n",
       "        -1.6129308 , -1.66126486],\n",
       "       [ 2.26814059,  2.2471811 ,  2.23188633, ...,  1.25399241,\n",
       "         1.2025243 ,  1.13357647],\n",
       "       [-0.29324838, -0.33058769, -0.33058769, ...,  1.37338852,\n",
       "         1.31708322,  1.08593514]])"
      ]
     },
     "execution_count": 8,
     "metadata": {},
     "output_type": "execute_result"
    }
   ],
   "source": [
    "data, names = f_clusters_transform(data)\n",
    "data"
   ]
  },
  {
   "cell_type": "code",
   "execution_count": null,
   "id": "d08bbb03",
   "metadata": {},
   "outputs": [],
   "source": []
  },
  {
   "cell_type": "code",
   "execution_count": null,
   "id": "01dd4a85",
   "metadata": {},
   "outputs": [],
   "source": []
  },
  {
   "cell_type": "code",
   "execution_count": 9,
   "id": "25b22699",
   "metadata": {},
   "outputs": [
    {
     "name": "stderr",
     "output_type": "stream",
     "text": [
      "Calcul de l'inertie: 100%|██████████████████████████████████████████| 15/15 [00:00<00:00, 21.34it/s]\n",
      "Calcul du seuil…: 100%|█████████████████████████████████████████████| 16/16 [00:00<00:00, 20.50it/s]\n"
     ]
    }
   ],
   "source": [
    "k_max = 15\n",
    "n_init = 10\n",
    "    \n",
    "results = pd.DataFrame(columns=[\"Sum_of_squared_distances\",\"gain\"], index=np.arange(1,k_max*2))\n",
    "\n",
    "K = np.arange(1,k_max+1)\n",
    "for k in tqdm (K,  \n",
    "           desc=\"Calcul de l'inertie\",  \n",
    "           ascii=False, ncols=100) : \n",
    "    km = KMeans(n_clusters=k, n_init=n_init) \n",
    "    km = km.fit(data) \n",
    "    results.loc[k,\"Sum_of_squared_distances\"] = km.inertia_\n",
    "\n",
    "K_seuil = np.arange(k_max, (k_max*2)+1)\n",
    "for k in tqdm (K_seuil,  \n",
    "           desc=\"Calcul du seuil…\",  \n",
    "           ascii=False, ncols=100) : \n",
    "    km = KMeans(n_clusters=k, n_init=n_init//2) \n",
    "    km = km.fit(data) \n",
    "    results.loc[k,\"Sum_of_squared_distances\"] = km.inertia_\n",
    "\n",
    "results[\"gain\"] = -results[\"Sum_of_squared_distances\"].diff(1)/results[\"Sum_of_squared_distances\"]"
   ]
  },
  {
   "cell_type": "code",
   "execution_count": 10,
   "id": "9eb30835",
   "metadata": {},
   "outputs": [
    {
     "data": {
      "text/html": [
       "<div>\n",
       "<style scoped>\n",
       "    .dataframe tbody tr th:only-of-type {\n",
       "        vertical-align: middle;\n",
       "    }\n",
       "\n",
       "    .dataframe tbody tr th {\n",
       "        vertical-align: top;\n",
       "    }\n",
       "\n",
       "    .dataframe thead th {\n",
       "        text-align: right;\n",
       "    }\n",
       "</style>\n",
       "<table border=\"1\" class=\"dataframe\">\n",
       "  <thead>\n",
       "    <tr style=\"text-align: right;\">\n",
       "      <th></th>\n",
       "      <th>Sum_of_squared_distances</th>\n",
       "      <th>gain</th>\n",
       "    </tr>\n",
       "  </thead>\n",
       "  <tbody>\n",
       "    <tr>\n",
       "      <th>1</th>\n",
       "      <td>41107.566407</td>\n",
       "      <td>NaN</td>\n",
       "    </tr>\n",
       "    <tr>\n",
       "      <th>2</th>\n",
       "      <td>24785.566559</td>\n",
       "      <td>0.658528</td>\n",
       "    </tr>\n",
       "    <tr>\n",
       "      <th>3</th>\n",
       "      <td>21607.830741</td>\n",
       "      <td>0.147064</td>\n",
       "    </tr>\n",
       "    <tr>\n",
       "      <th>4</th>\n",
       "      <td>19148.725173</td>\n",
       "      <td>0.128421</td>\n",
       "    </tr>\n",
       "    <tr>\n",
       "      <th>5</th>\n",
       "      <td>17069.012492</td>\n",
       "      <td>0.121841</td>\n",
       "    </tr>\n",
       "    <tr>\n",
       "      <th>6</th>\n",
       "      <td>15316.039508</td>\n",
       "      <td>0.114453</td>\n",
       "    </tr>\n",
       "    <tr>\n",
       "      <th>7</th>\n",
       "      <td>14402.523226</td>\n",
       "      <td>0.063428</td>\n",
       "    </tr>\n",
       "    <tr>\n",
       "      <th>8</th>\n",
       "      <td>13635.263996</td>\n",
       "      <td>0.05627</td>\n",
       "    </tr>\n",
       "    <tr>\n",
       "      <th>9</th>\n",
       "      <td>12964.345076</td>\n",
       "      <td>0.051751</td>\n",
       "    </tr>\n",
       "    <tr>\n",
       "      <th>10</th>\n",
       "      <td>12572.457858</td>\n",
       "      <td>0.03117</td>\n",
       "    </tr>\n",
       "  </tbody>\n",
       "</table>\n",
       "</div>"
      ],
      "text/plain": [
       "   Sum_of_squared_distances      gain\n",
       "1              41107.566407       NaN\n",
       "2              24785.566559  0.658528\n",
       "3              21607.830741  0.147064\n",
       "4              19148.725173  0.128421\n",
       "5              17069.012492  0.121841\n",
       "6              15316.039508  0.114453\n",
       "7              14402.523226  0.063428\n",
       "8              13635.263996   0.05627\n",
       "9              12964.345076  0.051751\n",
       "10             12572.457858   0.03117"
      ]
     },
     "execution_count": 10,
     "metadata": {},
     "output_type": "execute_result"
    }
   ],
   "source": [
    "results.head(10)"
   ]
  },
  {
   "cell_type": "code",
   "execution_count": 11,
   "id": "1b888fca",
   "metadata": {},
   "outputs": [],
   "source": [
    "mean_gain = []\n",
    "for k in np.arange(1, 2*k_max) :\n",
    "    mean_gain.append(results.gain.loc[k:k+10].mean())\n",
    "\n",
    "mean_gain = np.array(mean_gain)\n",
    "index_min = np.where(mean_gain == mean_gain.min())[0]"
   ]
  },
  {
   "cell_type": "code",
   "execution_count": 15,
   "id": "817933fb",
   "metadata": {},
   "outputs": [
    {
     "data": {
      "image/png": "[encoded data removed]",
      "text/plain": [
       "<Figure size 1080x432 with 2 Axes>"
      ]
     },
     "metadata": {
      "needs_background": "light"
     },
     "output_type": "display_data"
    },
    {
     "name": "stdout",
     "output_type": "stream",
     "text": [
      "Le nombre de clusters recommandé est de 7.\n"
     ]
    }
   ],
   "source": [
    "Q1 = np.quantile(mean_gain,0.25)\n",
    "M = np.quantile(mean_gain,0.50)\n",
    "Q3 = np.quantile(mean_gain,0.75)\n",
    "#seuil = Q3 + 1.5 * (Q3-Q1)\n",
    "seuil = M*2\n",
    "k_opt = results.loc[results[\"gain\"]<seuil].index.min()-1\n",
    "\n",
    "# Affichage des graphs  \n",
    "fig = plt.figure(figsize=(15, 6))\n",
    "\n",
    "ax = fig.add_subplot(121)\n",
    "ax2 = fig.add_subplot(122)\n",
    "\n",
    "ax.plot(K, results.iloc[:k_max,0], 'bx-')\n",
    "ax.plot(k_opt, results.loc[k_opt,\"Sum_of_squared_distances\"], linestyle = 'none', marker = 'X', c = 'r', markersize=15)\n",
    "ax.set_xlabel(\"k\")\n",
    "ax.set_ylabel('Sum_of_squared_distances') \n",
    "ax.set_title('Méthode du coude pour k optimal') \n",
    "ax.set_xticks(K)\n",
    "\n",
    "ax2.plot(results.gain[:-2])\n",
    "ax2.fill_between(np.arange(1,index_min+15), 0, seuil, color='lightcoral')\n",
    "ax2.axvline(k_opt,color='red')\n",
    "ax2.axhline(results.loc[k_opt,\"gain\"],color='red')\n",
    "ax2.set_xlabel('k') \n",
    "ax2.set_ylabel('gain') \n",
    "ax2.set_title('Evolution du gain avec k+1') \n",
    "plt.show()\n",
    "\n",
    "print(f\"Le nombre de clusters recommandé est de {k_opt}.\")"
   ]
  },
  {
   "cell_type": "code",
   "execution_count": null,
   "id": "74479b65",
   "metadata": {},
   "outputs": [],
   "source": []
  },
  {
   "cell_type": "code",
   "execution_count": null,
   "id": "2cb15e3c",
   "metadata": {},
   "outputs": [],
   "source": []
  },
  {
   "cell_type": "code",
   "execution_count": null,
   "id": "e0f7e01e",
   "metadata": {},
   "outputs": [],
   "source": []
  },
  {
   "cell_type": "code",
   "execution_count": null,
   "id": "e0ac40fd",
   "metadata": {},
   "outputs": [],
   "source": []
  },
  {
   "cell_type": "code",
   "execution_count": null,
   "id": "3af1fcb6",
   "metadata": {},
   "outputs": [],
   "source": []
  },
  {
   "cell_type": "code",
   "execution_count": null,
   "id": "e2faaf78",
   "metadata": {},
   "outputs": [],
   "source": []
  },
  {
   "cell_type": "code",
   "execution_count": null,
   "id": "79be8b03",
   "metadata": {},
   "outputs": [],
   "source": []
  },
  {
   "cell_type": "code",
   "execution_count": null,
   "id": "6c2cd00f",
   "metadata": {},
   "outputs": [],
   "source": []
  },
  {
   "cell_type": "code",
   "execution_count": null,
   "id": "af3a359b",
   "metadata": {},
   "outputs": [],
   "source": []
  },
  {
   "cell_type": "code",
   "execution_count": 5,
   "id": "5cb0e5d4",
   "metadata": {
    "scrolled": true
   },
   "outputs": [],
   "source": [
    "import os\n",
    "from datetime import datetime\n",
    "import pandas as pd\n",
    "import matplotlib.pyplot as plt\n",
    "from matplotlib.colors import LinearSegmentedColormap\n",
    "from matplotlib import colors as mcolors\n",
    "import seaborn as sns\n",
    "import numpy as np\n",
    "from sklearn.cluster import KMeans\n",
    "from sklearn.metrics import mean_squared_error\n",
    "import sqlite3\n",
    "from sklearn.preprocessing import StandardScaler\n",
    "from tslearn.clustering import TimeSeriesKMeans\n",
    "import sys\n",
    "from tqdm import tqdm\n",
    "import warnings\n",
    "\n",
    "# Suppression warnings KMeans\n",
    "warnings.filterwarnings(action='ignore', \n",
    "                        message='KMeans is known to have a memory leak on Windows with MKL, when there are less chunks than available threads. You can avoid it by setting the environment variable OMP_NUM_THREADS=1.')\n",
    "# Liste des fonctions\n",
    "\n",
    "def f_requete_sql (requete) :\n",
    "    try:\n",
    "        connexion = sqlite3.connect('../data/liste_piezos.db')\n",
    "        curseur = connexion.cursor()\n",
    "        print(\"Connexion réussie à SQLite\")\n",
    "        curseur.execute(requete)\n",
    "        connexion.commit()\n",
    "        resultat = curseur.fetchall()\n",
    "        curseur.close()\n",
    "        connexion.close()\n",
    "        print(\"Connexion SQLite est fermée\")\n",
    "        return resultat\n",
    "    except sqlite3.Error as error:\n",
    "        print(\"Erreur lors du mis à jour dans la table\", error)\n",
    "        \n",
    "def f_clusters_transform (df):\n",
    "    \"\"\"\n",
    "    df : dataframe pandas\n",
    "    \"\"\"\n",
    "    data = df.values.T\n",
    "    names = df.columns\n",
    "    return(data, names)\n",
    "\n",
    "\n",
    "\n",
    "def f_clusters_coude (df, k_max:int=15, n_init:int=100):\n",
    "    \n",
    "    \"\"\"\n",
    "    k_max : entier représentant le nombre max de clusters à tracer\n",
    "    plage_seuil : liste de deux valeurs pour début et fin de la plage de nombre de clusters\n",
    "    \n",
    "    \"\"\"\n",
    "    # Transformation du dataframe en liste numpy\n",
    "    data, names = f_clusters_transform(df)\n",
    "        \n",
    "    results = pd.DataFrame(columns=[\"Sum_of_squared_distances\",\"gain\"], index=np.arange(1,k_max*2))\n",
    "\n",
    "    K = np.arange(1,k_max+1)\n",
    "    for k in tqdm (K,  \n",
    "               desc=\"Calcul de l'inertie\",  \n",
    "               ascii=False, ncols=100) : \n",
    "        km = KMeans(n_clusters=k, n_init=n_init) \n",
    "        km = km.fit(data) \n",
    "        results.loc[k,\"Sum_of_squared_distances\"] = km.inertia_\n",
    "\n",
    "    K_seuil = np.arange(k_max, (k_max*2)+1)\n",
    "    for k in tqdm (K_seuil,  \n",
    "               desc=\"Calcul du seuil…\",  \n",
    "               ascii=False, ncols=100) : \n",
    "        km = KMeans(n_clusters=k, n_init=n_init//2) \n",
    "        km = km.fit(data) \n",
    "        results.loc[k,\"Sum_of_squared_distances\"] = km.inertia_\n",
    "\n",
    "    results[\"gain\"] = -results[\"Sum_of_squared_distances\"].diff(1)/results[\"Sum_of_squared_distances\"]\n",
    "\n",
    "    mean_gain = []\n",
    "    for k in K_seuil[:-10] :\n",
    "        mean_gain.append(results.gain.loc[k:k+10].mean())\n",
    "        start_index = min(mean_gain)\n",
    "\n",
    "    results[\"gain\"] = -results[\"Sum_of_squared_distances\"].diff(1)/results[\"Sum_of_squared_distances\"]\n",
    "\n",
    "    gain_min_list = results.loc[start_index:start_index+10, \"gain\"].values\n",
    "    \n",
    "    Q1 = np.quantile(gain_min_list,0.25)\n",
    "    Q3 = np.quantile(gain_min_list,0.75)\n",
    "    seuil = Q3 + 1.5 * (Q3-Q1)\n",
    "    k_opt = results.loc[results[\"gain\"]<seuil].index.min()-1\n",
    "\n",
    "    # Affichage des graphs  \n",
    "    fig = plt.figure(figsize=(15, 6))\n",
    "\n",
    "    ax = fig.add_subplot(121)\n",
    "    ax2 = fig.add_subplot(122)\n",
    "\n",
    "    ax.plot(K, results.iloc[:k_max,0], 'bx-')\n",
    "    ax.plot(k_opt, results.loc[k_opt,\"Sum_of_squared_distances\"], linestyle = 'none', marker = 'X', c = 'r', markersize=15)\n",
    "    ax.set_xlabel(\"k\")\n",
    "    ax.set_ylabel('Sum_of_squared_distances') \n",
    "    ax.set_title('Méthode du coude pour k optimal') \n",
    "    ax.set_xticks(K)\n",
    "\n",
    "    ax2.plot(results.gain[:-2])\n",
    "    ax2.fill_between(np.arange(1,start_index+15), 0, seuil, color='lightcoral')\n",
    "    ax2.axvline(k_opt,color='red')\n",
    "    ax2.axhline(results.loc[k_opt,\"gain\"],color='red')\n",
    "    ax2.set_xlabel('k') \n",
    "    ax2.set_ylabel('gain') \n",
    "    ax2.set_title('Evolution du gain avec k+1') \n",
    "    plt.show()\n",
    "\n",
    "    print(f\"Le nombre de clusters recommandé est de {k_opt}.\")\n",
    "\n",
    " \n",
    "    \n",
    "    \n",
    "def f_clusters_fit (df, k:int = 4, n_init:int = 100, max_iter:int = 2000):\n",
    "    \n",
    "    \"\"\"\n",
    "    Entrainement et affichage de la distribution dans les clusters\n",
    "    return :\n",
    "    - cluster_table : df bss - cluster - MSE\n",
    "    - df_clusters_centers : df série temporelle des clusters\n",
    "    - metric : \"euclidean\" / \"dtw\" / \"softdtw\"\n",
    "    \"\"\"\n",
    "    \n",
    "    data, names = f_clusters_transform(df)\n",
    "    # Initilialisation du modèle\n",
    "    km = KMeans(n_clusters=k, n_init=n_init, max_iter=max_iter, random_state=2022)\n",
    "    # Entraînement du modèle\n",
    "    km.fit(data)\n",
    "    # Définition des numéros de cluster\n",
    "    labels = km.labels_+1 \n",
    "    # Profils des clusters\n",
    "    cluster_centers = np.array(km.cluster_centers_)\n",
    "    df_cluster_centers = pd.DataFrame(cluster_centers.T, index=df.index)\n",
    "    for cluster in range(df_cluster_centers.shape[1]):\n",
    "        df_cluster_centers.rename(columns = {cluster:f\"cluster_{cluster+1}\"}, inplace=True)\n",
    "    \n",
    "    # Création du dataframe de résultats\n",
    "    cluster_table = pd.DataFrame()\n",
    "    cluster_table[\"code_bss\"] = names\n",
    "    cluster_table.set_index(\"code_bss\", inplace=True)\n",
    "    cluster_table[\"cluster\"] = labels\n",
    "    for piezo in cluster_table.index :\n",
    "        cluster_table.loc[piezo, \"MSE\"] = mean_squared_error(df.loc[:,piezo], cluster_centers[cluster_table.loc[piezo, \"cluster\"]-1])\n",
    "    \n",
    "    return cluster_table, df_cluster_centers\n",
    "\n",
    "def f_plot_clusters (df, cluster_table, cluster_centers, plot_mean:bool = True):\n",
    "    \n",
    "    data, names = f_clusters_transform (df)\n",
    "    \n",
    "    labels = cluster_table[\"cluster\"]\n",
    "    \n",
    "    fig, axs = plt.subplots(len(set(labels)),1,figsize=(20,4*cluster_centers.shape[1]))\n",
    "    row_i=0\n",
    "\n",
    "    for label in set(labels):\n",
    "        for i in range(len(labels)):\n",
    "            if(labels[i]==label):\n",
    "                axs[row_i].plot(df.iloc[:,i],alpha=0.4)\n",
    "        if plot_mean:\n",
    "            axs[row_i].plot(cluster_centers.iloc[:,label-1],c=\"red\")\n",
    "        axs[row_i].set_title(\"Cluster \"+str(row_i+1))\n",
    "        row_i+=1\n",
    "    plt.show()\n",
    "    \n",
    "def f_plot_all (df, cluster_table, df_cluster_centers) :\n",
    "\n",
    "    if df.shape[1]%4 == 0:\n",
    "        nbre_lignes = df.shape[1]//4\n",
    "    else : \n",
    "        nbre_lignes = df.shape[1]//4 + 1\n",
    "\n",
    "    fig, axs = plt.subplots(nbre_lignes,4,figsize=(25,200))\n",
    "    #fig.suptitle('Series')\n",
    "    for i in range(nbre_lignes):\n",
    "        for j in range(4):\n",
    "            if i*4+j+1>df.shape[1]: # pass the others that we can't fill\n",
    "                continue\n",
    "            axs[i, j].plot(df.iloc[:,i*4+j])\n",
    "            axs[i, j].plot(df_cluster_centers.iloc[:,cluster_table.iloc[i*4+j,0]-1])\n",
    "            \n",
    "            axs[i, j].set_title(df.columns[i*4+j] + f\" - MSE = {round(cluster_table.loc[df.columns[i*4+j],'MSE'],2)}\")\n",
    "            \n",
    "    plt.show()\n",
    "    \n",
    "def f_MSEmax (cluster_table):\n",
    "    # Calcul de MSEmin\n",
    "\n",
    "    Q1 = cluster_table[\"MSE\"].quantile(0.25, \"higher\")\n",
    "    Q3 = cluster_table[\"MSE\"].quantile(0.75, \"lower\")\n",
    "\n",
    "    # Ecart inter-quartile\n",
    "    IQM = abs(Q3-Q1)\n",
    "\n",
    "    # Seuil minimal de conservation des chroniques (Q3+1.5*IQM)\n",
    "\n",
    "    MSEmin = Q3+1.5*IQM\n",
    "    return MSEmin"
   ]
  },
  {
   "cell_type": "markdown",
   "id": "2afcb532",
   "metadata": {},
   "source": [
    "# Chargement des données"
   ]
  },
  {
   "cell_type": "code",
   "execution_count": 6,
   "id": "85e60e4a",
   "metadata": {
    "scrolled": true
   },
   "outputs": [],
   "source": [
    "region = \"CVL\""
   ]
  },
  {
   "cell_type": "code",
   "execution_count": 7,
   "id": "95ff2c23",
   "metadata": {
    "scrolled": false
   },
   "outputs": [
    {
     "name": "stdout",
     "output_type": "stream",
     "text": [
      "Il y a 121 piezos pour le clustering dans le dataframe.\n"
     ]
    }
   ],
   "source": [
    "# Import du csv et conversion en dataframe\n",
    "custom_date_parser = lambda x: datetime.strptime(x, \"%Y-%m-%d\")\n",
    "data = pd.read_csv(f\"./data/{region}.csv\", sep = \";\", parse_dates=True, index_col=\"date_mesure\", date_parser=custom_date_parser)\n",
    "\n",
    "print(f\"Il y a {data.shape[1]} piezos pour le clustering dans le dataframe.\")"
   ]
  },
  {
   "cell_type": "markdown",
   "id": "244d0bc2",
   "metadata": {},
   "source": [
    "## Analyse du nombre optimal de clusters"
   ]
  },
  {
   "cell_type": "code",
   "execution_count": null,
   "id": "8d78e81a",
   "metadata": {
    "scrolled": false
   },
   "outputs": [],
   "source": [
    "coude = f_clusters_coude(data, k_max=15, n_init=2)"
   ]
  },
  {
   "cell_type": "markdown",
   "id": "69b47612",
   "metadata": {},
   "source": [
    "## Création des clusters"
   ]
  },
  {
   "cell_type": "code",
   "execution_count": null,
   "id": "3d18591f",
   "metadata": {
    "scrolled": true
   },
   "outputs": [],
   "source": [
    "# Choix du nombre de clusters à créer\n",
    "nbre_clusters = 8"
   ]
  },
  {
   "cell_type": "code",
   "execution_count": null,
   "id": "a347dbf2",
   "metadata": {
    "scrolled": false
   },
   "outputs": [],
   "source": [
    "# Entrainement\n",
    "cluster_table, cluster_centers = f_clusters_fit(data, nbre_clusters, n_init = 2000, max_iter = 5000)\n",
    "\n",
    "# répartition des piezos dans les clusters\n",
    "sns.countplot(data = cluster_table, x = \"cluster\")\n",
    "# On renomme les noms de cluster par rapport à la région\n",
    "for index, column in enumerate (cluster_centers.columns):\n",
    "    cluster_centers.rename(columns={column : f\"{region}_{index+1}\"}, inplace=True)"
   ]
  },
  {
   "cell_type": "markdown",
   "id": "ce7ba0e8",
   "metadata": {},
   "source": [
    "## Affichage des clusters"
   ]
  },
  {
   "cell_type": "code",
   "execution_count": null,
   "id": "ddf8379a",
   "metadata": {
    "scrolled": false
   },
   "outputs": [],
   "source": [
    "f_plot_clusters(data, cluster_table, cluster_centers)\n",
    "cluster_table.groupby(\"cluster\").mean()"
   ]
  },
  {
   "cell_type": "code",
   "execution_count": null,
   "id": "8f576d1f",
   "metadata": {
    "scrolled": false
   },
   "outputs": [],
   "source": [
    "#f_plot_all(data, cluster_table, cluster_centers)"
   ]
  },
  {
   "cell_type": "markdown",
   "id": "aa68a489",
   "metadata": {},
   "source": [
    "## Filtre des chroniques avec score insuffisant"
   ]
  },
  {
   "cell_type": "code",
   "execution_count": null,
   "id": "0d3fda98",
   "metadata": {
    "scrolled": true
   },
   "outputs": [],
   "source": [
    "plt.plot(cluster_table[\"MSE\"].sort_values())"
   ]
  },
  {
   "cell_type": "code",
   "execution_count": null,
   "id": "c32d3509",
   "metadata": {
    "scrolled": true
   },
   "outputs": [],
   "source": [
    "# nbre de chroniques sous le seuil\n",
    "MSEmax = f_MSEmax(cluster_table)\n",
    "cluster_table.loc[cluster_table.MSE > MSEmax, \"cluster\"] = 0\n",
    "\n",
    "nbre_elim_total = 0\n",
    "nbre_elim = cluster_table.loc[cluster_table.MSE > MSEmax, 'MSE'].count()\n",
    "nbre_elim_total += nbre_elim\n",
    "\n",
    "iteration = 0\n",
    "print(f\"Itération {iteration} : {nbre_elim} chronique(s) éliminée(s).\")\n",
    "\n",
    "data_opt = data.copy()\n",
    "\n",
    "while nbre_elim != 0 :\n",
    "    \n",
    "    # Selection des clusters non zéro\n",
    "    data_opt = data.copy().loc[:,cluster_table.loc[cluster_table.cluster != 0].index]\n",
    "    \n",
    "    # Nouveau clustering\n",
    "    cluster_table, cluster_centers = f_clusters_fit(data_opt, nbre_clusters, n_init = 100, max_iter = 2000)\n",
    "\n",
    "    # chroniques sous le seuil passées à cluster 0\n",
    "    MSEmax = f_MSEmax(cluster_table)\n",
    "    nbre_elim = cluster_table.loc[cluster_table.MSE > MSEmax, 'MSE'].count()   \n",
    "    nbre_elim_total += nbre_elim\n",
    "    \n",
    "\n",
    "    cluster_table.loc[cluster_table.MSE > MSEmax, \"cluster\"] = 0\n",
    "\n",
    "    print(f\"Itération {iteration} : {nbre_elim} chronique(s) éliminée(s).\")\n",
    "    iteration += 1\n",
    "    \n",
    "for index, column in enumerate (cluster_centers.columns):\n",
    "    cluster_centers.rename(columns={column : f\"{region}_{index+1}\"}, inplace=True)    \n",
    "    \n",
    "print(f\"Nombre total de chroniques éliminées : {nbre_elim_total}\")\n",
    "    \n",
    "plt.plot(cluster_table[\"MSE\"].sort_values())"
   ]
  },
  {
   "cell_type": "code",
   "execution_count": null,
   "id": "d653650e",
   "metadata": {
    "scrolled": false
   },
   "outputs": [],
   "source": [
    "f_plot_clusters(data_opt, cluster_table, cluster_centers)"
   ]
  },
  {
   "cell_type": "code",
   "execution_count": null,
   "id": "a7f4d460",
   "metadata": {
    "scrolled": true
   },
   "outputs": [],
   "source": [
    "sns.countplot(data = cluster_table, x = \"cluster\")"
   ]
  },
  {
   "cell_type": "code",
   "execution_count": null,
   "id": "56f7377b",
   "metadata": {
    "scrolled": true
   },
   "outputs": [],
   "source": [
    "cluster_table.groupby(\"cluster\").mean()"
   ]
  },
  {
   "cell_type": "markdown",
   "id": "4888860c",
   "metadata": {},
   "source": [
    "## Sous-clusters"
   ]
  },
  {
   "cell_type": "code",
   "execution_count": null,
   "id": "e78cec13",
   "metadata": {},
   "outputs": [],
   "source": [
    "scoring = pd.DataFrame(columns=cluster_centers.columns, index=cluster_centers.columns)\n",
    "scoring = scoring.fillna(0)\n",
    "\n",
    "# Itération du clustering en fonction de nbre_clusters\n",
    "for iteration in range (2, nbre_clusters) :\n",
    "    cluster_table_2, cluster_centers_2 = f_clusters_fit(cluster_centers, iteration)\n",
    "    for line in cluster_table_2.index:\n",
    "        for colonne in cluster_table_2.index:\n",
    "            if line == colonne :\n",
    "                pass\n",
    "            elif cluster_table_2.cluster[line] == cluster_table_2.cluster[colonne]:\n",
    "                scoring.loc[line, colonne] += ((iteration-1))\n",
    "                \n",
    "# Il y a nbre_clusters -3 itérations.\n",
    "# Le score max est donc la suite 1+2+...+(nbre_clusters-2) = (nbre_clusters-2)*(nbre_clusters-2+1)/2)\n",
    "scoring_pourc = round(scoring / ((nbre_clusters-2)*(nbre_clusters-1)/2),2)"
   ]
  },
  {
   "cell_type": "code",
   "execution_count": null,
   "id": "bd4b153c",
   "metadata": {},
   "outputs": [],
   "source": [
    "colors = [\"snow\", \"mistyrose\", \"lightgreen\", \"limegreen\", \"darkgreen\"]\n",
    "colors = [mcolors.to_rgba(color) for color in colors]\n",
    "\n",
    "custom_cmap = LinearSegmentedColormap.from_list('Custom', colors, len(colors))\n",
    "\n",
    "_=sns.heatmap(scoring_pourc, cmap=custom_cmap, square=True, vmin=0, vmax=1)\n",
    "cluster_table.cluster.value_counts()"
   ]
  },
  {
   "cell_type": "markdown",
   "id": "5f40c801",
   "metadata": {},
   "source": [
    "### Création des listes de sous-clusters"
   ]
  },
  {
   "cell_type": "code",
   "execution_count": null,
   "id": "02f97fcf",
   "metadata": {
    "scrolled": true
   },
   "outputs": [],
   "source": [
    "# Sous clusterisation\n",
    "\n",
    "# Liste des listes de clusters\n",
    "liste_liste = []\n",
    "# Liste des clusters déjà affectés\n",
    "list_inList = []\n",
    "\n",
    "# Parcourt des clusters par nombre d'occurences dans les piezos\n",
    "for line in cluster_table.cluster.value_counts().index:\n",
    "    # liste pour le cluster/line en cours\n",
    "    liste = []\n",
    "    if line in list_inList :\n",
    "        pass\n",
    "    else :\n",
    "        list_inList.append(line)\n",
    "        liste.append(line)\n",
    "        \n",
    "        for colonne in cluster_table.cluster.value_counts().index:\n",
    "            if colonne in list_inList :\n",
    "                pass\n",
    "            elif scoring_pourc.loc[f\"{region}_{line}\", f\"{region}_{colonne}\"] > 0.4 :\n",
    "                liste.append(colonne)\n",
    "                list_inList.append(colonne)\n",
    "                \n",
    "                # Boucle d'association secondaire si un cluster est éligible au cluster 2 (colonne) mais mais au cluster 1 (line)\n",
    "                for colonne_2 in cluster_table.cluster.value_counts().index:\n",
    "                    if colonne_2 in list_inList :\n",
    "                        pass\n",
    "                    elif scoring_pourc.loc[f\"{region}_{colonne}\", f\"{region}_{colonne_2}\"] > 0.4 :\n",
    "                        liste.append(colonne_2)\n",
    "                        list_inList.append(colonne_2)\n",
    "                \n",
    "        liste_liste.append(liste)\n",
    "liste_liste"
   ]
  },
  {
   "cell_type": "markdown",
   "id": "3ca2d8eb",
   "metadata": {},
   "source": [
    "### Modification des libellés"
   ]
  },
  {
   "cell_type": "code",
   "execution_count": null,
   "id": "a3ba7f24",
   "metadata": {
    "scrolled": true
   },
   "outputs": [],
   "source": [
    "# Pour incrémentation littéraire\n",
    "ch = \"A\"\n",
    "\n",
    "liste_liste_2 = liste_liste.copy()\n",
    "\n",
    "for index_sous_cluster, sous_cluster in enumerate (liste_liste):\n",
    "    for index_cluster, cluster in enumerate (sous_cluster) :\n",
    "        if len(sous_cluster) > 1:\n",
    "            liste_liste_2[index_sous_cluster][index_cluster] = chr(ord(ch)+index_sous_cluster) + str(index_cluster+1)\n",
    "        else :\n",
    "            liste_liste_2[index_sous_cluster][index_cluster] = chr(ord(ch)+index_sous_cluster)\n",
    "\n",
    "liste_liste_2_flat = []            \n",
    "for index_sous_cluster in liste_liste_2 :\n",
    "    liste_liste_2_flat += index_sous_cluster\n",
    "\n",
    "for index, label in enumerate(liste_liste_2_flat) :\n",
    "    liste_liste_2_flat[index] = f\"{region}_\" + liste_liste_2_flat[index]\n",
    "    \n",
    "# Liste des clusters d'ogine\n",
    "liste_clusters = list(cluster_table.cluster.value_counts().index)\n",
    "    \n",
    "# Renommage    \n",
    "cluster_table.replace(liste_clusters, liste_liste_2_flat, inplace=True)    "
   ]
  },
  {
   "cell_type": "code",
   "execution_count": null,
   "id": "54259065",
   "metadata": {
    "scrolled": true
   },
   "outputs": [],
   "source": [
    "liste_liste_2"
   ]
  },
  {
   "cell_type": "code",
   "execution_count": null,
   "id": "293cbcfc",
   "metadata": {},
   "outputs": [],
   "source": [
    "liste_liste_2_flat"
   ]
  },
  {
   "cell_type": "code",
   "execution_count": null,
   "id": "664b7f3c",
   "metadata": {},
   "outputs": [],
   "source": []
  },
  {
   "cell_type": "markdown",
   "id": "61821fda",
   "metadata": {},
   "source": [
    "# Enregistrement des profils des clusters"
   ]
  },
  {
   "cell_type": "code",
   "execution_count": null,
   "id": "144e5af4",
   "metadata": {
    "scrolled": true
   },
   "outputs": [],
   "source": [
    "cluster_centers.columns = liste_liste_2_flat\n",
    "cluster_centers.to_csv(f\"./data/{region}_clusters.csv\")"
   ]
  },
  {
   "cell_type": "markdown",
   "id": "a771be96",
   "metadata": {},
   "source": [
    "# Ajout à la bdd"
   ]
  },
  {
   "cell_type": "code",
   "execution_count": null,
   "id": "693ee741",
   "metadata": {
    "scrolled": true
   },
   "outputs": [],
   "source": [
    "# Nom de la table\n",
    "table = \"cluster_kmeans\""
   ]
  },
  {
   "cell_type": "code",
   "execution_count": null,
   "id": "ff99a566",
   "metadata": {
    "scrolled": true
   },
   "outputs": [],
   "source": [
    "# Création de la table\n",
    "requete = f\"\"\"\n",
    "                    ALTER TABLE data_piezo\n",
    "                    ADD {table} VARCHAR(6) DEFAULT NULL\n",
    "                    \"\"\"\n",
    "f_requete_sql(requete)"
   ]
  },
  {
   "cell_type": "code",
   "execution_count": null,
   "id": "1ae915e4",
   "metadata": {
    "scrolled": true
   },
   "outputs": [],
   "source": [
    "# Création de listes de nuéro de cluster avec le nom des piezos\n",
    "# Ajout dans la bdd\n",
    "for label in set(cluster_table.cluster):\n",
    "    cluster = tuple(cluster_table.loc[cluster_table.cluster == label, 'cluster'].index.to_list())\n",
    "    requete = f\"\"\"\n",
    "        UPDATE data_piezo\n",
    "        SET {table} = '{label}'\n",
    "        WHERE code_bss IN {cluster}\n",
    "        \"\"\"\n",
    "    f_requete_sql(requete)"
   ]
  },
  {
   "cell_type": "code",
   "execution_count": null,
   "id": "c73e80b8",
   "metadata": {
    "scrolled": true
   },
   "outputs": [],
   "source": []
  },
  {
   "cell_type": "markdown",
   "id": "03eab55f",
   "metadata": {},
   "source": [
    "## Suppresion colonne"
   ]
  },
  {
   "cell_type": "code",
   "execution_count": null,
   "id": "f9910b9f",
   "metadata": {},
   "outputs": [],
   "source": [
    "requete = \"\"\"\n",
    "                    ALTER TABLE data_piezo\n",
    "                    DROP cluster_kmeans\n",
    "                    \"\"\"\n",
    "f_requete_sql(requete)"
   ]
  },
  {
   "cell_type": "code",
   "execution_count": null,
   "id": "473f4fed",
   "metadata": {
    "scrolled": true
   },
   "outputs": [],
   "source": []
  }
 ],
 "metadata": {
  "kernelspec": {
   "display_name": "Python 3 (ipykernel)",
   "language": "python",
   "name": "python3"
  },
  "language_info": {
   "codemirror_mode": {
    "name": "ipython",
    "version": 3
   },
   "file_extension": ".py",
   "mimetype": "text/x-python",
   "name": "python",
   "nbconvert_exporter": "python",
   "pygments_lexer": "ipython3",
   "version": "3.9.12"
  },
  "toc": {
   "base_numbering": 1,
   "nav_menu": {},
   "number_sections": true,
   "sideBar": true,
   "skip_h1_title": false,
   "title_cell": "Table of Contents",
   "title_sidebar": "Contents",
   "toc_cell": false,
   "toc_position": {
    "height": "calc(100% - 180px)",
    "left": "10px",
    "top": "150px",
    "width": "334px"
   },
   "toc_section_display": true,
   "toc_window_display": true
  },
  "varInspector": {
   "cols": {
    "lenName": 16,
    "lenType": 16,
    "lenVar": 40
   },
   "kernels_config": {
    "python": {
     "delete_cmd_postfix": "",
     "delete_cmd_prefix": "del ",
     "library": "var_list.py",
     "varRefreshCmd": "print(var_dic_list())"
    },
    "r": {
     "delete_cmd_postfix": ") ",
     "delete_cmd_prefix": "rm(",
     "library": "var_list.r",
     "varRefreshCmd": "cat(var_dic_list()) "
    }
   },
   "position": {
    "height": "628.844px",
    "left": "1468px",
    "right": "20px",
    "top": "145px",
    "width": "350px"
   },
   "types_to_exclude": [
    "module",
    "function",
    "builtin_function_or_method",
    "instance",
    "_Feature"
   ],
   "window_display": false
  }
 },
 "nbformat": 4,
 "nbformat_minor": 5
}
