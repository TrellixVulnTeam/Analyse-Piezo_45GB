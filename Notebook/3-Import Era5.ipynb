{
 "cells": [
  {
   "cell_type": "code",
   "execution_count": 16,
   "id": "c26f94a7",
   "metadata": {},
   "outputs": [],
   "source": [
    "import requests\n",
    "import pandas as pd\n",
    "import numpy as np\n",
    "import xarray as xr\n",
    "import sqlite3\n",
    "import os\n",
    "from datetime import datetime\n",
    "import cdsapi\n",
    "import csv"
   ]
  },
  {
   "cell_type": "code",
   "execution_count": 17,
   "id": "4f820390",
   "metadata": {},
   "outputs": [],
   "source": [
    "def requete_sql (requete) :\n",
    "    try:\n",
    "        connexion = sqlite3.connect('../data/liste_piezos.db')\n",
    "        curseur = connexion.cursor()\n",
    "        print(\"Connexion réussie à SQLite\")\n",
    "        curseur.execute(requete)\n",
    "        connexion.commit()\n",
    "        resultat = curseur.fetchall()\n",
    "        curseur.close()\n",
    "        connexion.close()\n",
    "        print(\"Connexion SQLite est fermée\")\n",
    "        return resultat\n",
    "    except sqlite3.Error as error:\n",
    "        print(\"Erreur lors du mis à jour dans la table : \", error)"
   ]
  },
  {
   "cell_type": "markdown",
   "id": "db7a3d04",
   "metadata": {},
   "source": [
    "# Fonction pour lancer les requêtes"
   ]
  },
  {
   "cell_type": "code",
   "execution_count": 18,
   "id": "4c81e2f6",
   "metadata": {},
   "outputs": [],
   "source": [
    "def get_on_cds_api(dataframe_piezo, piezo, path):\n",
    "    # Initialisation de la connexion à l'API CDS\n",
    "    # wait_until_complete = False : le programme Python n'attend pas que l'API réponde (issu de la libraie asyncio)\n",
    "    # delete = False : le fichier créé sur le serveur source n'est pas supprimé automatiquement \n",
    "    \n",
    "    date_debut = dataframe_piezo.loc[piezo,'date_debut'].year\n",
    "    date_fin = dataframe_piezo.loc[piezo,'date_fin'].year\n",
    "    \n",
    "    # La limite du nombre de données est de 120000. Avec 10 variables, 31 jours, et 12 mois, on n epeut récupérer que 32 années.\n",
    "    # Si l'interval d'année est supérieur à 32, on réduit la plage de temps à date de fin - 31 ans pour avoir 32 années max.\n",
    "    if date_fin - date_debut >= 32:\n",
    "        date_debut = date_fin - 31\n",
    "    \n",
    "    c = cdsapi.Client(wait_until_complete=False, delete=False)\n",
    "    \n",
    "    # Données à récupérer auprès de l'API\n",
    "    r = c.retrieve(\n",
    "            'reanalysis-era5-single-levels',\n",
    "            {\n",
    "                'product_type': 'reanalysis',\n",
    "                'format': 'netcdf',\n",
    "                'variable': [\n",
    "                    '2m_temperature', 'convective_precipitation', 'convective_rain_rate',\n",
    "                    'convective_snowfall', 'large_scale_rain_rate', 'large_scale_snowfall', 'snowfall',\n",
    "                    'large_scale_snowfall_rate_water_equivalent', 'potential_evaporation',\n",
    "                    'total_precipitation',\n",
    "                ],\n",
    "                'year': [str(date) for date in (np.arange(date_debut, date_fin))],\n",
    "                'month': [\n",
    "                    '01', '02', '03',\n",
    "                    '04', '05', '06',\n",
    "                    '07', '08', '09',\n",
    "                    '10', '11', '12',\n",
    "                ],\n",
    "                'day': [\n",
    "                    '01', '02', '03',\n",
    "                    '04', '05', '06',\n",
    "                    '07', '08', '09',\n",
    "                    '10', '11', '12',\n",
    "                    '13', '14', '15',\n",
    "                    '16', '17', '18',\n",
    "                    '19', '20', '21',\n",
    "                    '22', '23', '24',\n",
    "                    '25', '26', '27',\n",
    "                    '28', '29', '30',\n",
    "                    '31',\n",
    "                ],\n",
    "                'time': '00:00',\n",
    "                'area': [\n",
    "                    dataframe_piezo.loc[piezo,\"latitude\"], dataframe_piezo.loc[piezo,\"longitude\"], dataframe_piezo.loc[piezo,\"latitude\"], dataframe_piezo.loc[piezo,\"longitude\"],\n",
    "                ],\n",
    "            })    \n",
    "    return r"
   ]
  },
  {
   "cell_type": "markdown",
   "id": "6e076217",
   "metadata": {},
   "source": [
    "# Connexion à la bdd piezo\n",
    "Construction d'un dataframe 'df_piezo' à partir de la requête sur la bdd"
   ]
  },
  {
   "cell_type": "code",
   "execution_count": 19,
   "id": "9069958b",
   "metadata": {},
   "outputs": [],
   "source": [
    "region = \"BRE\""
   ]
  },
  {
   "cell_type": "code",
   "execution_count": 20,
   "id": "4d1b59ae",
   "metadata": {},
   "outputs": [
    {
     "data": {
      "text/html": [
       "<div>\n",
       "<style scoped>\n",
       "    .dataframe tbody tr th:only-of-type {\n",
       "        vertical-align: middle;\n",
       "    }\n",
       "\n",
       "    .dataframe tbody tr th {\n",
       "        vertical-align: top;\n",
       "    }\n",
       "\n",
       "    .dataframe thead th {\n",
       "        text-align: right;\n",
       "    }\n",
       "</style>\n",
       "<table border=\"1\" class=\"dataframe\">\n",
       "  <thead>\n",
       "    <tr style=\"text-align: right;\">\n",
       "      <th></th>\n",
       "      <th>date_debut</th>\n",
       "      <th>date_fin</th>\n",
       "      <th>nb_mesures_piezo</th>\n",
       "      <th>latitude</th>\n",
       "      <th>longitude</th>\n",
       "    </tr>\n",
       "    <tr>\n",
       "      <th>code_bss</th>\n",
       "      <th></th>\n",
       "      <th></th>\n",
       "      <th></th>\n",
       "      <th></th>\n",
       "      <th></th>\n",
       "    </tr>\n",
       "  </thead>\n",
       "  <tbody>\n",
       "    <tr>\n",
       "      <th>02388X0060_F1</th>\n",
       "      <td>1993-07-29</td>\n",
       "      <td>2022-05-15</td>\n",
       "      <td>9747</td>\n",
       "      <td>48.459156</td>\n",
       "      <td>-4.350352</td>\n",
       "    </tr>\n",
       "    <tr>\n",
       "      <th>03851X0021_S2</th>\n",
       "      <td>1989-01-10</td>\n",
       "      <td>2022-05-15</td>\n",
       "      <td>10130</td>\n",
       "      <td>47.790161</td>\n",
       "      <td>-2.817043</td>\n",
       "    </tr>\n",
       "    <tr>\n",
       "      <th>03454X0070_F</th>\n",
       "      <td>1993-08-03</td>\n",
       "      <td>2022-05-15</td>\n",
       "      <td>8593</td>\n",
       "      <td>48.000530</td>\n",
       "      <td>-4.335488</td>\n",
       "    </tr>\n",
       "    <tr>\n",
       "      <th>03128X0011_F</th>\n",
       "      <td>1980-02-01</td>\n",
       "      <td>2022-05-16</td>\n",
       "      <td>13601</td>\n",
       "      <td>48.089266</td>\n",
       "      <td>-3.276193</td>\n",
       "    </tr>\n",
       "    <tr>\n",
       "      <th>02442X0111_F</th>\n",
       "      <td>2004-11-18</td>\n",
       "      <td>2022-05-15</td>\n",
       "      <td>5959</td>\n",
       "      <td>48.521916</td>\n",
       "      <td>-2.418250</td>\n",
       "    </tr>\n",
       "  </tbody>\n",
       "</table>\n",
       "</div>"
      ],
      "text/plain": [
       "              date_debut   date_fin  nb_mesures_piezo   latitude  longitude\n",
       "code_bss                                                                   \n",
       "02388X0060_F1 1993-07-29 2022-05-15              9747  48.459156  -4.350352\n",
       "03851X0021_S2 1989-01-10 2022-05-15             10130  47.790161  -2.817043\n",
       "03454X0070_F  1993-08-03 2022-05-15              8593  48.000530  -4.335488\n",
       "03128X0011_F  1980-02-01 2022-05-16             13601  48.089266  -3.276193\n",
       "02442X0111_F  2004-11-18 2022-05-15              5959  48.521916  -2.418250"
      ]
     },
     "execution_count": 20,
     "metadata": {},
     "output_type": "execute_result"
    }
   ],
   "source": [
    "connexion = sqlite3.connect('../data/liste_piezos.db')\n",
    "curseur = connexion.cursor()\n",
    "requete = f\"\"\"\n",
    "    SELECT code_bss, date_debut, date_fin, nb_mesures_piezo, latitude, longitude \n",
    "        FROM data_piezo\n",
    "    INNER JOIN code_region\n",
    "    ON code_dpt = departement\n",
    "    WHERE code_region IS '{region}'\n",
    "    AND date_debut < '2010-07-01'\n",
    "    AND date_fin > '2010-07-01'\n",
    "\"\"\"\n",
    "\n",
    "df_piezo = pd.read_sql_query(requete, connexion, index_col='code_bss')\n",
    "curseur.close()\n",
    "connexion.close()\n",
    "\n",
    "# Conversion des dates\n",
    "df_piezo[\"date_debut\"] = pd.to_datetime(df_piezo[\"date_debut\"])\n",
    "df_piezo[\"date_fin\"] = pd.to_datetime(df_piezo[\"date_fin\"])\n",
    "df_piezo.head()"
   ]
  },
  {
   "cell_type": "markdown",
   "id": "aa65468a",
   "metadata": {},
   "source": [
    "## Lancer les requêtes auprès de l'API\n",
    "!!! NE LANCER QU'UNE SEULE FOIS POUR NE PAS CREER DES DOUBLONS DE REQUETES !!!"
   ]
  },
  {
   "cell_type": "markdown",
   "id": "8bb5016a",
   "metadata": {},
   "source": [
    "Un dictionnaire est créé avec en clé le code_bss du piezo et en valeur l'id de la requête"
   ]
  },
  {
   "cell_type": "markdown",
   "id": "fbb5d266",
   "metadata": {},
   "source": [
    "Ne pas lancer la cellule ci-dessous si des requetes sont en cours. "
   ]
  },
  {
   "cell_type": "code",
   "execution_count": 21,
   "id": "f2853b94",
   "metadata": {},
   "outputs": [
    {
     "name": "stderr",
     "output_type": "stream",
     "text": [
      "2022-07-29 13:15:20,150 INFO Welcome to the CDS\n",
      "2022-07-29 13:15:20,151 INFO Sending request to https://cds.climate.copernicus.eu/api/v2/resources/reanalysis-era5-single-levels\n",
      "2022-07-29 13:15:20,242 INFO Welcome to the CDS\n",
      "2022-07-29 13:15:20,243 INFO Sending request to https://cds.climate.copernicus.eu/api/v2/resources/reanalysis-era5-single-levels\n",
      "2022-07-29 13:15:20,330 INFO Welcome to the CDS\n",
      "2022-07-29 13:15:20,331 INFO Sending request to https://cds.climate.copernicus.eu/api/v2/resources/reanalysis-era5-single-levels\n"
     ]
    },
    {
     "name": "stdout",
     "output_type": "stream",
     "text": [
      "2022-07-29 13:15:20.200332 : chargement du fichier 02388X0060_F1.nc en cours (036c89bf-b5c7-43ed-8aa6-a87ab5ad0f66).\n",
      "2022-07-29 13:15:20.290059 : chargement du fichier 03851X0021_S2.nc en cours (a03fa8a5-3606-4c5b-952d-e4695d45746f).\n",
      "2022-07-29 13:15:20.391684 : chargement du fichier 03454X0070_F.nc en cours (d632345f-2c57-46d8-b9f1-66d947dbd963).\n"
     ]
    },
    {
     "name": "stderr",
     "output_type": "stream",
     "text": [
      "2022-07-29 13:15:20,435 INFO Welcome to the CDS\n",
      "2022-07-29 13:15:20,436 INFO Sending request to https://cds.climate.copernicus.eu/api/v2/resources/reanalysis-era5-single-levels\n",
      "2022-07-29 13:15:20,552 INFO Welcome to the CDS\n",
      "2022-07-29 13:15:20,553 INFO Sending request to https://cds.climate.copernicus.eu/api/v2/resources/reanalysis-era5-single-levels\n",
      "2022-07-29 13:15:20,637 INFO Welcome to the CDS\n",
      "2022-07-29 13:15:20,638 INFO Sending request to https://cds.climate.copernicus.eu/api/v2/resources/reanalysis-era5-single-levels\n",
      "2022-07-29 13:15:20,722 INFO Welcome to the CDS\n"
     ]
    },
    {
     "name": "stdout",
     "output_type": "stream",
     "text": [
      "2022-07-29 13:15:20.513054 : chargement du fichier 03128X0011_F.nc en cours (bffa3546-b5de-4f96-a664-77b25f86f2b3).\n",
      "2022-07-29 13:15:20.598098 : chargement du fichier 02442X0111_F.nc en cours (df7ad847-b081-4404-8866-f5e5d177715a).\n",
      "2022-07-29 13:15:20.683432 : chargement du fichier 03822X0021_F.nc en cours (40512165-d955-404a-804d-99b5bd7493fd).\n"
     ]
    },
    {
     "name": "stderr",
     "output_type": "stream",
     "text": [
      "2022-07-29 13:15:20,723 INFO Sending request to https://cds.climate.copernicus.eu/api/v2/resources/reanalysis-era5-single-levels\n",
      "2022-07-29 13:15:20,822 INFO Welcome to the CDS\n",
      "2022-07-29 13:15:20,823 INFO Sending request to https://cds.climate.copernicus.eu/api/v2/resources/reanalysis-era5-single-levels\n",
      "2022-07-29 13:15:20,925 INFO Welcome to the CDS\n",
      "2022-07-29 13:15:20,926 INFO Sending request to https://cds.climate.copernicus.eu/api/v2/resources/reanalysis-era5-single-levels\n"
     ]
    },
    {
     "name": "stdout",
     "output_type": "stream",
     "text": [
      "2022-07-29 13:15:20.782625 : chargement du fichier 03113X0031_F.nc en cours (45a78694-14f8-4437-bf8f-bc9b9cb3d8eb).\n",
      "2022-07-29 13:15:20.886401 : chargement du fichier 02465X0061_F.nc en cours (3197b6b9-8a79-4634-878a-d5a26864719f).\n",
      "2022-07-29 13:15:20.972022 : chargement du fichier 03493X0013_F.nc en cours (cc53dc45-df19-468d-8489-955b0e580ff6).\n"
     ]
    },
    {
     "name": "stderr",
     "output_type": "stream",
     "text": [
      "2022-07-29 13:15:21,012 INFO Welcome to the CDS\n",
      "2022-07-29 13:15:21,013 INFO Sending request to https://cds.climate.copernicus.eu/api/v2/resources/reanalysis-era5-single-levels\n",
      "2022-07-29 13:15:21,098 INFO Welcome to the CDS\n",
      "2022-07-29 13:15:21,099 INFO Sending request to https://cds.climate.copernicus.eu/api/v2/resources/reanalysis-era5-single-levels\n",
      "2022-07-29 13:15:21,189 INFO Welcome to the CDS\n",
      "2022-07-29 13:15:21,190 INFO Sending request to https://cds.climate.copernicus.eu/api/v2/resources/reanalysis-era5-single-levels\n"
     ]
    },
    {
     "name": "stdout",
     "output_type": "stream",
     "text": [
      "2022-07-29 13:15:21.058089 : chargement du fichier 02451X0023_F.nc en cours (82e74bb6-7321-4121-bd85-648e8f6c7e52).\n",
      "2022-07-29 13:15:21.144600 : chargement du fichier 03114X0023_F.nc en cours (5d05601a-8c9f-4bfa-8094-bcaf2479a765).\n",
      "2022-07-29 13:15:21.236649 : chargement du fichier 03462X0043_F.nc en cours (298b54a4-158a-4e5f-bcb1-2cee5cd42b30).\n"
     ]
    },
    {
     "name": "stderr",
     "output_type": "stream",
     "text": [
      "2022-07-29 13:15:21,276 INFO Welcome to the CDS\n",
      "2022-07-29 13:15:21,277 INFO Sending request to https://cds.climate.copernicus.eu/api/v2/resources/reanalysis-era5-single-levels\n",
      "2022-07-29 13:15:21,361 INFO Welcome to the CDS\n",
      "2022-07-29 13:15:21,362 INFO Sending request to https://cds.climate.copernicus.eu/api/v2/resources/reanalysis-era5-single-levels\n"
     ]
    },
    {
     "name": "stdout",
     "output_type": "stream",
     "text": [
      "2022-07-29 13:15:21.321885 : chargement du fichier 03885X0034_F.nc en cours (3dfcab63-a1b4-4117-bdcc-e4becba5843b).\n"
     ]
    },
    {
     "name": "stderr",
     "output_type": "stream",
     "text": [
      "2022-07-29 13:15:21,569 INFO Welcome to the CDS\n",
      "2022-07-29 13:15:21,569 INFO Sending request to https://cds.climate.copernicus.eu/api/v2/resources/reanalysis-era5-single-levels\n",
      "2022-07-29 13:15:21,655 INFO Welcome to the CDS\n",
      "2022-07-29 13:15:21,655 INFO Sending request to https://cds.climate.copernicus.eu/api/v2/resources/reanalysis-era5-single-levels\n"
     ]
    },
    {
     "name": "stdout",
     "output_type": "stream",
     "text": [
      "2022-07-29 13:15:21.521674 : chargement du fichier 04184X0035_F.nc en cours (827b6b68-fea0-4159-a6bf-8791b74a41a4).\n",
      "2022-07-29 13:15:21.615688 : chargement du fichier 02431X0106_F.nc en cours (9e4d998d-f2fe-42f4-9e92-86abd73e2a49).\n",
      "2022-07-29 13:15:21.700929 : chargement du fichier 03514X0106_F.nc en cours (cb311d24-7bd3-4c9f-96a8-7294448208fe).\n"
     ]
    },
    {
     "name": "stderr",
     "output_type": "stream",
     "text": [
      "2022-07-29 13:15:21,740 INFO Welcome to the CDS\n",
      "2022-07-29 13:15:21,741 INFO Sending request to https://cds.climate.copernicus.eu/api/v2/resources/reanalysis-era5-single-levels\n",
      "2022-07-29 13:15:21,834 INFO Welcome to the CDS\n",
      "2022-07-29 13:15:21,835 INFO Sending request to https://cds.climate.copernicus.eu/api/v2/resources/reanalysis-era5-single-levels\n",
      "2022-07-29 13:15:21,935 INFO Welcome to the CDS\n",
      "2022-07-29 13:15:21,937 INFO Sending request to https://cds.climate.copernicus.eu/api/v2/resources/reanalysis-era5-single-levels\n"
     ]
    },
    {
     "name": "stdout",
     "output_type": "stream",
     "text": [
      "2022-07-29 13:15:21.794681 : chargement du fichier 03871X0016_F.nc en cours (01ed937d-74f0-48af-8c00-e407b00c03c1).\n",
      "2022-07-29 13:15:21.896523 : chargement du fichier 02408X0016_F.nc en cours (e1c6b9ff-095b-4ec7-93a6-5b75c423d275).\n"
     ]
    },
    {
     "name": "stderr",
     "output_type": "stream",
     "text": [
      "2022-07-29 13:15:22,028 INFO Welcome to the CDS\n",
      "2022-07-29 13:15:22,029 INFO Sending request to https://cds.climate.copernicus.eu/api/v2/resources/reanalysis-era5-single-levels\n",
      "2022-07-29 13:15:22,179 INFO Welcome to the CDS\n"
     ]
    },
    {
     "name": "stdout",
     "output_type": "stream",
     "text": [
      "2022-07-29 13:15:21.988313 : chargement du fichier 03546X0017_F.nc en cours (e6c8f3cc-70f8-4b0a-aa9d-976dc5cbe72e).\n",
      "2022-07-29 13:15:22.139380 : chargement du fichier 03152X0027_F.nc en cours (19f0606f-37a6-46e5-8798-bcf4752a15ce).\n"
     ]
    },
    {
     "name": "stderr",
     "output_type": "stream",
     "text": [
      "2022-07-29 13:15:22,180 INFO Sending request to https://cds.climate.copernicus.eu/api/v2/resources/reanalysis-era5-single-levels\n",
      "2022-07-29 13:15:22,267 INFO Welcome to the CDS\n",
      "2022-07-29 13:15:22,267 INFO Sending request to https://cds.climate.copernicus.eu/api/v2/resources/reanalysis-era5-single-levels\n",
      "2022-07-29 13:15:22,354 INFO Welcome to the CDS\n",
      "2022-07-29 13:15:22,354 INFO Sending request to https://cds.climate.copernicus.eu/api/v2/resources/reanalysis-era5-single-levels\n"
     ]
    },
    {
     "name": "stdout",
     "output_type": "stream",
     "text": [
      "2022-07-29 13:15:22.227358 : chargement du fichier 03107X0008_F.nc en cours (ac0ec535-ab05-46d3-b767-8c5d0c1229f5).\n",
      "2022-07-29 13:15:22.314648 : chargement du fichier 03124X0088_F.nc en cours (ad0422c7-f01b-4aaa-9def-daba90dd649f).\n",
      "2022-07-29 13:15:22.419097 : chargement du fichier 02394X0019_F.nc en cours (7134ce00-a6db-4dd6-9358-4583d306889a).\n"
     ]
    },
    {
     "name": "stderr",
     "output_type": "stream",
     "text": [
      "2022-07-29 13:15:22,464 INFO Welcome to the CDS\n",
      "2022-07-29 13:15:22,464 INFO Sending request to https://cds.climate.copernicus.eu/api/v2/resources/reanalysis-era5-single-levels\n",
      "2022-07-29 13:15:22,549 INFO Welcome to the CDS\n",
      "2022-07-29 13:15:22,550 INFO Sending request to https://cds.climate.copernicus.eu/api/v2/resources/reanalysis-era5-single-levels\n",
      "2022-07-29 13:15:22,690 INFO Welcome to the CDS\n"
     ]
    },
    {
     "name": "stdout",
     "output_type": "stream",
     "text": [
      "2022-07-29 13:15:22.509395 : chargement du fichier 03506X0059_F.nc en cours (af324d5f-2be9-440c-8d47-03e241a2dce5).\n",
      "2022-07-29 13:15:22.642233 : chargement du fichier 03884X0021_TF1PR.nc en cours (2fbd4dcc-df18-4da7-bc99-22502c5237d8).\n"
     ]
    },
    {
     "name": "stderr",
     "output_type": "stream",
     "text": [
      "2022-07-29 13:15:22,691 INFO Sending request to https://cds.climate.copernicus.eu/api/v2/resources/reanalysis-era5-single-levels\n",
      "2022-07-29 13:15:22,782 INFO Welcome to the CDS\n",
      "2022-07-29 13:15:22,783 INFO Sending request to https://cds.climate.copernicus.eu/api/v2/resources/reanalysis-era5-single-levels\n",
      "2022-07-29 13:15:22,890 INFO Welcome to the CDS\n",
      "2022-07-29 13:15:22,890 INFO Sending request to https://cds.climate.copernicus.eu/api/v2/resources/reanalysis-era5-single-levels\n"
     ]
    },
    {
     "name": "stdout",
     "output_type": "stream",
     "text": [
      "2022-07-29 13:15:22.744318 : chargement du fichier 02396X0030_PZ.nc en cours (aef22767-4b2e-467d-bfab-a248fcfda935).\n",
      "2022-07-29 13:15:22.848152 : chargement du fichier 03843X0021_PZ.nc en cours (f6eeb5ee-168c-472a-b180-095d681e1f43).\n",
      "2022-07-29 13:15:22.937057 : chargement du fichier 03514X0081_PZ.nc en cours (edacc5f2-342c-47c1-b6d6-991620fa174f).\n"
     ]
    },
    {
     "name": "stderr",
     "output_type": "stream",
     "text": [
      "2022-07-29 13:15:22,985 INFO Welcome to the CDS\n",
      "2022-07-29 13:15:22,986 INFO Sending request to https://cds.climate.copernicus.eu/api/v2/resources/reanalysis-era5-single-levels\n",
      "2022-07-29 13:15:23,071 INFO Welcome to the CDS\n",
      "2022-07-29 13:15:23,072 INFO Sending request to https://cds.climate.copernicus.eu/api/v2/resources/reanalysis-era5-single-levels\n",
      "2022-07-29 13:15:23,169 INFO Welcome to the CDS\n",
      "2022-07-29 13:15:23,169 INFO Sending request to https://cds.climate.copernicus.eu/api/v2/resources/reanalysis-era5-single-levels\n"
     ]
    },
    {
     "name": "stdout",
     "output_type": "stream",
     "text": [
      "2022-07-29 13:15:23.031398 : chargement du fichier 03486X0022_PZ.nc en cours (2e6e65c7-1daf-406e-a707-78ca48e1e6d8).\n",
      "2022-07-29 13:15:23.128703 : chargement du fichier 02478X0122_PZ.nc en cours (3d0b5bff-5b01-4900-a05e-cfd85cef4c3e).\n",
      "2022-07-29 13:15:23.216372 : chargement du fichier 02761X0032_PZ.nc en cours (6f8ac09f-a370-48bf-8012-69fc3ee76ea8).\n"
     ]
    },
    {
     "name": "stderr",
     "output_type": "stream",
     "text": [
      "2022-07-29 13:15:23,255 INFO Welcome to the CDS\n",
      "2022-07-29 13:15:23,255 INFO Sending request to https://cds.climate.copernicus.eu/api/v2/resources/reanalysis-era5-single-levels\n",
      "2022-07-29 13:15:23,341 INFO Welcome to the CDS\n",
      "2022-07-29 13:15:23,341 INFO Sending request to https://cds.climate.copernicus.eu/api/v2/resources/reanalysis-era5-single-levels\n",
      "2022-07-29 13:15:23,428 INFO Welcome to the CDS\n",
      "2022-07-29 13:15:23,428 INFO Sending request to https://cds.climate.copernicus.eu/api/v2/resources/reanalysis-era5-single-levels\n"
     ]
    },
    {
     "name": "stdout",
     "output_type": "stream",
     "text": [
      "2022-07-29 13:15:23.302142 : chargement du fichier 03506X0032_PZ.nc en cours (3c0839b9-3cd0-484d-90f0-6a25b52ddb43).\n",
      "2022-07-29 13:15:23.388910 : chargement du fichier 02047X0072_PZ.nc en cours (3897ae47-ace6-4714-9943-a81f6e9a4e12).\n"
     ]
    },
    {
     "name": "stderr",
     "output_type": "stream",
     "text": [
      "2022-07-29 13:15:23,544 INFO Welcome to the CDS\n",
      "2022-07-29 13:15:23,545 INFO Sending request to https://cds.climate.copernicus.eu/api/v2/resources/reanalysis-era5-single-levels\n",
      "2022-07-29 13:15:23,629 INFO Welcome to the CDS\n",
      "2022-07-29 13:15:23,630 INFO Sending request to https://cds.climate.copernicus.eu/api/v2/resources/reanalysis-era5-single-levels\n",
      "2022-07-29 13:15:23,713 INFO Welcome to the CDS\n"
     ]
    },
    {
     "name": "stdout",
     "output_type": "stream",
     "text": [
      "2022-07-29 13:15:23.505731 : chargement du fichier 02034X0082_PZ.nc en cours (6a0f74bc-1a9c-4c8c-87b2-fc615c83f6ef).\n",
      "2022-07-29 13:15:23.590268 : chargement du fichier 03101X0023_PZ.nc en cours (0328a878-aea4-4aab-858a-fa6badb547dc).\n",
      "2022-07-29 13:15:23.674430 : chargement du fichier 03535X0043_PZ.nc en cours (8b2c00eb-19c8-49fb-b0ed-68a50c880287).\n"
     ]
    },
    {
     "name": "stderr",
     "output_type": "stream",
     "text": [
      "2022-07-29 13:15:23,714 INFO Sending request to https://cds.climate.copernicus.eu/api/v2/resources/reanalysis-era5-single-levels\n",
      "2022-07-29 13:15:23,805 INFO Welcome to the CDS\n",
      "2022-07-29 13:15:23,806 INFO Sending request to https://cds.climate.copernicus.eu/api/v2/resources/reanalysis-era5-single-levels\n",
      "2022-07-29 13:15:23,889 INFO Welcome to the CDS\n",
      "2022-07-29 13:15:23,889 INFO Sending request to https://cds.climate.copernicus.eu/api/v2/resources/reanalysis-era5-single-levels\n"
     ]
    },
    {
     "name": "stdout",
     "output_type": "stream",
     "text": [
      "2022-07-29 13:15:23.767441 : chargement du fichier 02794X0063_PZ.nc en cours (20135736-0c9a-46f0-ac8e-0ca52f028398).\n",
      "2022-07-29 13:15:23.852617 : chargement du fichier 02796X0044_PZ.nc en cours (5055213a-3e61-417e-ad68-4696fc6f9e13).\n",
      "2022-07-29 13:15:23.947663 : chargement du fichier 04173X0045_PZ.nc en cours (fd3e64eb-363d-443c-aabf-6bddc3e945c7).\n"
     ]
    },
    {
     "name": "stderr",
     "output_type": "stream",
     "text": [
      "2022-07-29 13:15:23,985 INFO Welcome to the CDS\n",
      "2022-07-29 13:15:23,985 INFO Sending request to https://cds.climate.copernicus.eu/api/v2/resources/reanalysis-era5-single-levels\n",
      "2022-07-29 13:15:24,069 INFO Welcome to the CDS\n",
      "2022-07-29 13:15:24,069 INFO Sending request to https://cds.climate.copernicus.eu/api/v2/resources/reanalysis-era5-single-levels\n",
      "2022-07-29 13:15:24,190 INFO Welcome to the CDS\n",
      "2022-07-29 13:15:24,191 INFO Sending request to https://cds.climate.copernicus.eu/api/v2/resources/reanalysis-era5-single-levels\n"
     ]
    },
    {
     "name": "stdout",
     "output_type": "stream",
     "text": [
      "2022-07-29 13:15:24.030891 : chargement du fichier 02835X0055_PZ.nc en cours (99de5f10-ed49-476d-8c86-9cc601166d49).\n",
      "2022-07-29 13:15:24.152424 : chargement du fichier 02413X0065_PZ.nc en cours (f61596c5-78a8-419c-a14a-022369864925).\n",
      "2022-07-29 13:15:24.237198 : chargement du fichier 03137X0026_PZ.nc en cours (2ea0329b-b444-477c-bd9e-bb264fb1741a).\n"
     ]
    },
    {
     "name": "stderr",
     "output_type": "stream",
     "text": [
      "2022-07-29 13:15:24,276 INFO Welcome to the CDS\n",
      "2022-07-29 13:15:24,277 INFO Sending request to https://cds.climate.copernicus.eu/api/v2/resources/reanalysis-era5-single-levels\n",
      "2022-07-29 13:15:24,362 INFO Welcome to the CDS\n",
      "2022-07-29 13:15:24,363 INFO Sending request to https://cds.climate.copernicus.eu/api/v2/resources/reanalysis-era5-single-levels\n",
      "2022-07-29 13:15:24,447 INFO Welcome to the CDS\n",
      "2022-07-29 13:15:24,447 INFO Sending request to https://cds.climate.copernicus.eu/api/v2/resources/reanalysis-era5-single-levels\n",
      "2022-07-29 13:15:24,531 INFO Welcome to the CDS\n"
     ]
    },
    {
     "name": "stdout",
     "output_type": "stream",
     "text": [
      "2022-07-29 13:15:24.323967 : chargement du fichier 02803X0036_PZ.nc en cours (795bd77a-aebd-4296-9be9-8210bf8fc472).\n",
      "2022-07-29 13:15:24.407358 : chargement du fichier 03516X0036_PZ.nc en cours (d6dc5017-3c59-443b-a21d-2ff34ce81f8f).\n",
      "2022-07-29 13:15:24.491636 : chargement du fichier 02385X0046_PZ.nc en cours (3ac4dd05-d115-4d8e-bc03-8ba21dd09501).\n"
     ]
    },
    {
     "name": "stderr",
     "output_type": "stream",
     "text": [
      "2022-07-29 13:15:24,531 INFO Sending request to https://cds.climate.copernicus.eu/api/v2/resources/reanalysis-era5-single-levels\n",
      "2022-07-29 13:15:24,616 INFO Welcome to the CDS\n",
      "2022-07-29 13:15:24,616 INFO Sending request to https://cds.climate.copernicus.eu/api/v2/resources/reanalysis-era5-single-levels\n",
      "2022-07-29 13:15:24,700 INFO Welcome to the CDS\n",
      "2022-07-29 13:15:24,700 INFO Sending request to https://cds.climate.copernicus.eu/api/v2/resources/reanalysis-era5-single-levels\n"
     ]
    },
    {
     "name": "stdout",
     "output_type": "stream",
     "text": [
      "2022-07-29 13:15:24.576193 : chargement du fichier 02478X0156_PZ.nc en cours (bef816aa-c7f6-4fca-a9d1-daddb9049ebe).\n",
      "2022-07-29 13:15:24.660894 : chargement du fichier 03182X0027_PZ.nc en cours (1b52814a-1ec8-4d4e-9b44-c4e5f452a2d6).\n",
      "2022-07-29 13:15:24.746944 : chargement du fichier 02782X0047_PZ.nc en cours (c07d30d5-a5e4-40f6-b0b6-314a462cd46e).\n"
     ]
    },
    {
     "name": "stderr",
     "output_type": "stream",
     "text": [
      "2022-07-29 13:15:24,785 INFO Welcome to the CDS\n",
      "2022-07-29 13:15:24,786 INFO Sending request to https://cds.climate.copernicus.eu/api/v2/resources/reanalysis-era5-single-levels\n",
      "2022-07-29 13:15:24,881 INFO Welcome to the CDS\n",
      "2022-07-29 13:15:24,882 INFO Sending request to https://cds.climate.copernicus.eu/api/v2/resources/reanalysis-era5-single-levels\n"
     ]
    },
    {
     "name": "stdout",
     "output_type": "stream",
     "text": [
      "2022-07-29 13:15:24.842688 : chargement du fichier 03103X0047_PZ.nc en cours (1d0f63ca-c245-4235-ac54-bd93b83e7826).\n",
      "2022-07-29 13:15:24.927460 : chargement du fichier 03862X0057_PZ.nc en cours (0c29318c-15d3-4cdb-ac38-37e9a4a787fa).\n"
     ]
    },
    {
     "name": "stderr",
     "output_type": "stream",
     "text": [
      "2022-07-29 13:15:25,037 INFO Welcome to the CDS\n",
      "2022-07-29 13:15:25,038 INFO Sending request to https://cds.climate.copernicus.eu/api/v2/resources/reanalysis-era5-single-levels\n",
      "2022-07-29 13:15:25,096 INFO Welcome to the CDS\n",
      "2022-07-29 13:15:25,097 INFO Sending request to https://cds.climate.copernicus.eu/api/v2/resources/reanalysis-era5-single-levels\n",
      "2022-07-29 13:15:25,168 INFO Welcome to the CDS\n",
      "2022-07-29 13:15:25,169 INFO Sending request to https://cds.climate.copernicus.eu/api/v2/resources/reanalysis-era5-single-levels\n",
      "2022-07-29 13:15:25,237 INFO Welcome to the CDS\n",
      "2022-07-29 13:15:25,238 INFO Sending request to https://cds.climate.copernicus.eu/api/v2/resources/reanalysis-era5-single-levels\n"
     ]
    },
    {
     "name": "stdout",
     "output_type": "stream",
     "text": [
      "2022-07-29 13:15:25.070225 : chargement du fichier 02812X0238_PZ.nc en cours (a7ee34b2-5633-4518-b0e7-6dc8d1afa59c).\n",
      "2022-07-29 13:15:25.140777 : chargement du fichier 03175X0338_PZ.nc en cours (fa7aa9a2-b52d-42c3-9447-c9ec95ebf6ef).\n",
      "2022-07-29 13:15:25.209593 : chargement du fichier 03172X0088_PZ.nc en cours (0aa9d7ca-b89d-48c3-a3cc-3af7a16cab66).\n",
      "2022-07-29 13:15:25.270408 : chargement du fichier 03473X0029_PZ.nc en cours (f6a5890d-d48f-489e-ad9c-7cdfbc0d5fb5).\n"
     ]
    },
    {
     "name": "stderr",
     "output_type": "stream",
     "text": [
      "2022-07-29 13:15:25,296 INFO Welcome to the CDS\n",
      "2022-07-29 13:15:25,296 INFO Sending request to https://cds.climate.copernicus.eu/api/v2/resources/reanalysis-era5-single-levels\n",
      "2022-07-29 13:15:25,355 INFO Welcome to the CDS\n",
      "2022-07-29 13:15:25,356 INFO Sending request to https://cds.climate.copernicus.eu/api/v2/resources/reanalysis-era5-single-levels\n"
     ]
    },
    {
     "name": "stdout",
     "output_type": "stream",
     "text": [
      "2022-07-29 13:15:25.329251 : chargement du fichier 03162X0049_PZ.nc en cours (c4aa347a-47cb-4a9b-8871-0cab88890291).\n",
      "2022-07-29 13:15:25.389092 : chargement du fichier 03834X0049_PZ.nc en cours (53168ea3-3619-4118-aad8-57650813c2df).\n"
     ]
    }
   ],
   "source": [
    "# Parcourir les codes_bss des piezos dans la liste précédemment créé :\n",
    "dict_bss = {}\n",
    "\n",
    "go_requete = input(\"\"\"\n",
    "            Voulez-vous lancer une série de nouvelles requêtes ? /n \n",
    "            Des requêtes pourraient se retrouver en double. /n \n",
    "            Pour lancer les requêtes entrez 'req' et entrée. /n\n",
    "            Sinon, appuyez simplement sur entrée.\n",
    "\"\"\")\n",
    "                   \n",
    "if go_requete == 'req' :\n",
    "                      \n",
    "    for piezo in df_piezo.index:\n",
    "        path_piezo = f'../data/era5/{piezo}'\n",
    "        path_nc = f\"{path_piezo}.nc\"\n",
    "        path_pkl = f\"{path_piezo}.pkl\"\n",
    "\n",
    "        if os.path.isfile(path_nc) : #si le fichier nc existe on le converti en pkl\n",
    "            print(f\"Le fichier {path_nc} existe.\")\n",
    "            df = xr.open_dataset(path_nc).to_dataframe().reset_index().to_pickle(path=path_pkl)\n",
    "            print(f\"Fichier {piezo}.nc converti en fichier pickle\")\n",
    "            os.remove(path_nc)\n",
    "            print(f\"Fichier {path_nc} supprimé\")\n",
    "\n",
    "        elif os.path.isfile(path_pkl) : #si le fichier pkl existe, on affiche qu'il existe\n",
    "            print(f\"Le fichier {piezo}.pkl existe déjà.\")\n",
    "            # puis on le supprime de la liste\n",
    "            df_piezo.drop(index=piezo, axis=1)\n",
    "\n",
    "        else : # Sinon on lance une requête auprès de l'API\n",
    "            result = get_on_cds_api(df_piezo, piezo, path_nc)\n",
    "            # récupération de l'id de la requête\n",
    "            dict_bss[piezo] = result.reply[\"request_id\"]\n",
    "            print(f\"{datetime.now()} : chargement du fichier {piezo}.nc en cours ({dict_bss[piezo]}).\")\n",
    "            \n",
    "            # Enregistrement de l'id de requete dans un fichier csv\n",
    "            if os.path.isfile('../data/hist_requetes.csv'): # Si le fichier existe                \n",
    "                with open('../data/hist_requetes.csv', 'a', encoding='utf-8', newline='') as f:  \n",
    "                    writer = csv.writer(f, delimiter = \";\")\n",
    "                    for k, v in dict_bss.items():\n",
    "                        writer.writerow((k, v))\n",
    "            else : # Si le fichier n'existe pas\n",
    "                with open('../data/hist_requetes.csv', 'w', encoding='utf-8', newline='') as f:  \n",
    "                    writer = csv.writer(f, delimiter = \";\")\n",
    "                    writer.writerow([\"code_bss\", \"id_requete\"])\n",
    "                    for k, v in dict_bss.items():\n",
    "                        writer.writerow((k, v))\n",
    "else : \n",
    "    print(\"Aucune requête n'a été lancée.\")"
   ]
  },
  {
   "cell_type": "markdown",
   "id": "7dd081e4",
   "metadata": {},
   "source": [
    "## Récupérer automatiquement les requêtes abouties \n",
    "Peut être lancé à tout moment pour récupérer des fichiers téléchargés "
   ]
  },
  {
   "cell_type": "code",
   "execution_count": 7,
   "id": "1c3b02b5",
   "metadata": {},
   "outputs": [
    {
     "name": "stderr",
     "output_type": "stream",
     "text": [
      "2022-07-29 13:07:25,995 INFO Downloading https://download-0002-clone.copernicus-climate.eu/cache-compute-0002/cache/data0/adaptor.mars.internal-1658993601.577793-28585-11-f497fb76-830b-4230-8924-7a2db35b8c9a.nc to ./../data/era5/02516X0071_P3-90.nc (200.3K)\n",
      "2022-07-29 13:07:26,199 INFO Downloading https://download-0001-clone.copernicus-climate.eu/cache-compute-0001/cache/data8/adaptor.mars.internal-1658993831.2944443-22766-4-ec86c08f-f5fc-4e6f-b859-be066db0f422.nc to ./../data/era5/01446X0005_S3-91.nc (174.6K)\n",
      "2022-07-29 13:07:26,446 INFO Download rate 710K/s\n",
      "2022-07-29 13:07:26,498 INFO Downloading https://download-0014-clone.copernicus-climate.eu/cache-compute-0014/cache/data0/adaptor.mars.internal-1658993831.2872121-15104-19-38fbb010-068a-48a5-9e24-baa0cfbb9bc4.nc to ./../data/era5/01506X0016_P1.nc (183.2K)\n"
     ]
    },
    {
     "name": "stdout",
     "output_type": "stream",
     "text": [
      "2022-07-29 13:07:26.446779 : Fichier 01446X0005_S3-91.nc téléchargé.\n",
      "Fichier 01446X0005_S3-91.nc converti en fichier pickle\n",
      "Fichier ./../data/era5/01446X0005_S3-91.nc.nc supprimé\n"
     ]
    },
    {
     "name": "stderr",
     "output_type": "stream",
     "text": [
      "2022-07-29 13:07:26,761 INFO Download rate 698.7K/s\n",
      "2022-07-29 13:07:26,809 INFO Downloading https://download-0008-clone.copernicus-climate.eu/cache-compute-0008/cache/data9/adaptor.mars.internal-1658993302.577787-12118-18-811f0cda-9493-4759-bd79-16a8b64b7b24.nc to ./../data/era5/01474X0048_P1.nc (149K)\n"
     ]
    },
    {
     "name": "stdout",
     "output_type": "stream",
     "text": [
      "2022-07-29 13:07:26.762230 : Fichier 01506X0016_P1.nc téléchargé.\n",
      "Fichier 01506X0016_P1.nc converti en fichier pickle\n",
      "Fichier ./../data/era5/01506X0016_P1.nc.nc supprimé\n"
     ]
    },
    {
     "name": "stderr",
     "output_type": "stream",
     "text": [
      "2022-07-29 13:07:26,981 INFO Downloading https://download-0015-clone.copernicus-climate.eu/cache-compute-0015/cache/data8/adaptor.mars.internal-1658994565.1918485-22626-10-e4e8efe0-5fc6-4127-ba5c-e12696757db9.nc to ./../data/era5/01801X0010_S1.nc (268.8K)\n",
      "2022-07-29 13:07:27,171 INFO Downloading https://download-0000-clone.copernicus-climate.eu/cache-compute-0000/cache/data0/adaptor.mars.internal-1658997391.0878623-25423-11-6588043d-9e69-4c1e-b2d8-bd6d566e5997.nc to ./../data/era5/00572X0010_S1.nc (268.8K)\n",
      "2022-07-29 13:07:27,433 INFO Downloading https://download-0017.copernicus-climate.eu/cache-compute-0017/cache/data4/adaptor.mars.internal-1659003012.3050609-15051-15-59fee1dd-2011-4b2d-a0b1-94fea191ca85.nc to ./../data/era5/01245X0010_S1.nc (268.8K)\n",
      "2022-07-29 13:07:27,587 INFO Downloading https://download-0002-clone.copernicus-climate.eu/cache-compute-0002/cache/data5/adaptor.mars.internal-1659002240.5829-18625-10-f21fc929-3d07-48d3-9a30-089a02ab80b5.nc to ./../data/era5/02151X0030_S1.nc (268.8K)\n",
      "2022-07-29 13:07:27,782 INFO Downloading https://download-0004-clone.copernicus-climate.eu/cache-compute-0004/cache/data1/adaptor.mars.internal-1659002116.0017922-23078-16-28941f33-f469-43b5-bb31-925999476b62.nc to ./../data/era5/00753X0030_S1.nc (268.8K)\n",
      "2022-07-29 13:07:27,999 INFO Downloading https://download-0014-clone.copernicus-climate.eu/cache-compute-0014/cache/data4/adaptor.mars.internal-1659003012.0656416-28242-1-8dbf9226-c204-42ae-ae11-1748b5119067.nc to ./../data/era5/00985X0040_S1.nc (268.8K)\n",
      "2022-07-29 13:07:28,067 INFO Downloading https://download-0015-clone.copernicus-climate.eu/cache-compute-0015/cache/data1/adaptor.mars.internal-1658997934.0102682-18244-16-03ccfbcf-bf2d-4243-9a6b-bb8ab99ff797.nc to ./../data/era5/00592X0001_S1.nc (268.8K)\n",
      "2022-07-29 13:07:28,268 INFO Downloading https://download-0004-clone.copernicus-climate.eu/cache-compute-0004/cache/data3/adaptor.mars.internal-1659003012.061125-16616-17-aadc1bbb-6544-4c57-b7a2-e05dab49bcab.nc to ./../data/era5/01487X0001_S1.nc (268.8K)\n",
      "2022-07-29 13:07:28,554 INFO Download rate 942.3K/s\n",
      "2022-07-29 13:07:28,602 INFO Downloading https://download-0011-clone.copernicus-climate.eu/cache-compute-0011/cache/data3/adaptor.mars.internal-1658997936.3599265-6641-3-1814986d-768c-4dcf-bc83-9fd9b51c29a9.nc to ./../data/era5/01252X0011_S1.nc (268.8K)\n"
     ]
    },
    {
     "name": "stdout",
     "output_type": "stream",
     "text": [
      "2022-07-29 13:07:28.555239 : Fichier 01487X0001_S1.nc téléchargé.\n",
      "Fichier 01487X0001_S1.nc converti en fichier pickle\n",
      "Fichier ./../data/era5/01487X0001_S1.nc.nc supprimé\n"
     ]
    },
    {
     "name": "stderr",
     "output_type": "stream",
     "text": [
      "2022-07-29 13:07:28,842 INFO Download rate 1.1M/s\n",
      "2022-07-29 13:07:28,896 INFO Downloading https://download-0002-clone.copernicus-climate.eu/cache-compute-0002/cache/data8/adaptor.mars.internal-1658997933.9682949-24015-1-1e6cc0ec-f9b4-4c5f-8cd3-dedb789d8c27.nc to ./../data/era5/01795X0011_S1.nc (268.8K)\n"
     ]
    },
    {
     "name": "stdout",
     "output_type": "stream",
     "text": [
      "2022-07-29 13:07:28.843327 : Fichier 01252X0011_S1.nc téléchargé.\n",
      "Fichier 01252X0011_S1.nc converti en fichier pickle\n",
      "Fichier ./../data/era5/01252X0011_S1.nc.nc supprimé\n"
     ]
    },
    {
     "name": "stderr",
     "output_type": "stream",
     "text": [
      "2022-07-29 13:07:29,213 INFO Download rate 848.7K/s\n",
      "2022-07-29 13:07:29,262 INFO Downloading https://download-0007-clone.copernicus-climate.eu/cache-compute-0007/cache/data8/adaptor.mars.internal-1658997933.6326725-20074-8-0ac7b618-21fe-452c-8dbb-048ad485de49.nc to ./../data/era5/01184X0021_S1.nc (268.8K)\n"
     ]
    },
    {
     "name": "stdout",
     "output_type": "stream",
     "text": [
      "2022-07-29 13:07:29.214942 : Fichier 01795X0011_S1.nc téléchargé.\n",
      "Fichier 01795X0011_S1.nc converti en fichier pickle\n",
      "Fichier ./../data/era5/01795X0011_S1.nc.nc supprimé\n"
     ]
    },
    {
     "name": "stderr",
     "output_type": "stream",
     "text": [
      "2022-07-29 13:07:29,484 INFO Downloading https://download-0015-clone.copernicus-climate.eu/cache-compute-0015/cache/data9/adaptor.mars.internal-1659006739.30103-27908-9-79f52433-b057-47b4-9d62-3806e0768d6e.nc to ./../data/era5/01807X0051_S1.nc (268.8K)\n",
      "2022-07-29 13:07:29,752 INFO Download rate 1006.1K/s\n",
      "2022-07-29 13:07:29,815 INFO Downloading https://download-0021.copernicus-climate.eu/cache-compute-0021/cache/data7/adaptor.mars.internal-1659008448.5867398-31573-18-4ab73381-a90c-44e6-8396-2cfb7b561b35.nc to ./../data/era5/01232X0002_S1.nc (268.8K)\n"
     ]
    },
    {
     "name": "stdout",
     "output_type": "stream",
     "text": [
      "2022-07-29 13:07:29.754972 : Fichier 01807X0051_S1.nc téléchargé.\n",
      "Fichier 01807X0051_S1.nc converti en fichier pickle\n",
      "Fichier ./../data/era5/01807X0051_S1.nc.nc supprimé\n"
     ]
    },
    {
     "name": "stderr",
     "output_type": "stream",
     "text": [
      "2022-07-29 13:07:29,985 INFO Downloading https://download-0015-clone.copernicus-climate.eu/cache-compute-0015/cache/data9/adaptor.mars.internal-1659007434.7194116-28893-9-9041a3d3-3261-4114-8360-7da8b1d7d00d.nc to ./../data/era5/00773X0002_S1.nc (268.8K)\n",
      "2022-07-29 13:07:30,084 INFO Download rate 2.7M/s\n",
      "2022-07-29 13:07:30,134 INFO Downloading https://download-0013-clone.copernicus-climate.eu/cache-compute-0013/cache/data1/adaptor.mars.internal-1659012829.7143655-14361-2-a7fd3a00-cf41-471d-a3ba-abf455e6d199.nc to ./../data/era5/00993X0002_S1.nc (268.8K)\n"
     ]
    },
    {
     "name": "stdout",
     "output_type": "stream",
     "text": [
      "2022-07-29 13:07:30.085126 : Fichier 00773X0002_S1.nc téléchargé.\n",
      "Fichier 00773X0002_S1.nc converti en fichier pickle\n",
      "Fichier ./../data/era5/00773X0002_S1.nc.nc supprimé\n"
     ]
    },
    {
     "name": "stderr",
     "output_type": "stream",
     "text": [
      "2022-07-29 13:07:30,411 INFO Download rate 973.9K/s\n",
      "2022-07-29 13:07:30,464 INFO Downloading https://download-0017.copernicus-climate.eu/cache-compute-0017/cache/data5/adaptor.mars.internal-1659012829.5771804-19252-6-e761663e-303f-4a9d-9e7a-3c951b5e1921.nc to ./../data/era5/01256X0002_S1.nc (268.8K)\n"
     ]
    },
    {
     "name": "stdout",
     "output_type": "stream",
     "text": [
      "2022-07-29 13:07:30.412598 : Fichier 00993X0002_S1.nc téléchargé.\n",
      "Fichier 00993X0002_S1.nc converti en fichier pickle\n",
      "Fichier ./../data/era5/00993X0002_S1.nc.nc supprimé\n"
     ]
    },
    {
     "name": "stderr",
     "output_type": "stream",
     "text": [
      "2022-07-29 13:07:30,794 INFO Download rate 819.4K/s\n",
      "2022-07-29 13:07:30,880 INFO Downloading https://download-0020.copernicus-climate.eu/cache-compute-0020/cache/data3/adaptor.mars.internal-1659009975.839943-26934-7-b8eb8b61-c3f2-48d1-a289-072038cb3eca.nc to ./../data/era5/00578X0002_S1.nc (268.8K)\n"
     ]
    },
    {
     "name": "stdout",
     "output_type": "stream",
     "text": [
      "2022-07-29 13:07:30.797535 : Fichier 01256X0002_S1.nc téléchargé.\n",
      "Fichier 01256X0002_S1.nc converti en fichier pickle\n",
      "Fichier ./../data/era5/01256X0002_S1.nc.nc supprimé\n"
     ]
    },
    {
     "name": "stderr",
     "output_type": "stream",
     "text": [
      "2022-07-29 13:07:31,060 INFO Downloading https://download-0003-clone.copernicus-climate.eu/cache-compute-0003/cache/data4/adaptor.mars.internal-1659012829.540125-26409-5-2aeb25fc-6893-4c66-a2ad-9691ef152544.nc to ./../data/era5/01198X0002_S1.nc (268.8K)\n",
      "2022-07-29 13:07:31,234 INFO Downloading https://download-0021.copernicus-climate.eu/cache-compute-0021/cache/data3/adaptor.mars.internal-1659011861.8717082-7024-2-38660850-a006-4c49-b204-7d83c66e650f.nc to ./../data/era5/01461X0012_S1.nc (268.8K)\n",
      "2022-07-29 13:07:31,428 INFO Downloading https://download-0001-clone.copernicus-climate.eu/cache-compute-0001/cache/data7/adaptor.mars.internal-1659007850.7109978-16006-11-b9614af6-847e-40ff-b534-7372596338e1.nc to ./../data/era5/01492X0012_S1.nc (268.8K)\n",
      "2022-07-29 13:07:31,685 INFO Download rate 1M/s\n",
      "2022-07-29 13:07:31,734 INFO Downloading https://download-0011-clone.copernicus-climate.eu/cache-compute-0011/cache/data7/adaptor.mars.internal-1659005738.610625-14129-9-b94ba44b-6867-4b45-a720-75aeb271cae9.nc to ./../data/era5/02535X0012_S1.nc (174.6K)\n"
     ]
    },
    {
     "name": "stdout",
     "output_type": "stream",
     "text": [
      "2022-07-29 13:07:31.686963 : Fichier 01492X0012_S1.nc téléchargé.\n",
      "Fichier 01492X0012_S1.nc converti en fichier pickle\n",
      "Fichier ./../data/era5/01492X0012_S1.nc.nc supprimé\n"
     ]
    },
    {
     "name": "stderr",
     "output_type": "stream",
     "text": [
      "2022-07-29 13:07:31,961 INFO Download rate 772.8K/s\n",
      "2022-07-29 13:07:32,012 INFO Downloading https://download-0002-clone.copernicus-climate.eu/cache-compute-0002/cache/data5/adaptor.mars.internal-1659023030.4057283-25696-10-e0a2417a-b8bc-4fbe-b8bb-23737dea6d81.nc to ./../data/era5/01462X0072_S1.nc (268.8K)\n"
     ]
    },
    {
     "name": "stdout",
     "output_type": "stream",
     "text": [
      "2022-07-29 13:07:31.962812 : Fichier 02535X0012_S1.nc téléchargé.\n",
      "Fichier 02535X0012_S1.nc converti en fichier pickle\n",
      "Fichier ./../data/era5/02535X0012_S1.nc.nc supprimé\n"
     ]
    },
    {
     "name": "stderr",
     "output_type": "stream",
     "text": [
      "2022-07-29 13:07:32,203 INFO Downloading https://download-0013-clone.copernicus-climate.eu/cache-compute-0013/cache/data3/adaptor.mars.internal-1659023030.4023862-32123-10-e7d0f0bb-2acb-4379-9da4-9652da2313e0.nc to ./../data/era5/01002X0003_S1.nc (268.8K)\n",
      "2022-07-29 13:07:32,380 INFO Download rate 1.5M/s \n",
      "2022-07-29 13:07:32,428 INFO Downloading https://download-0020.copernicus-climate.eu/cache-compute-0020/cache/data6/adaptor.mars.internal-1659023030.4585521-9853-9-e6f659f0-a612-44d9-8fe2-dab1a201250c.nc to ./../data/era5/00603X0003_S1.nc (268.8K)\n"
     ]
    },
    {
     "name": "stdout",
     "output_type": "stream",
     "text": [
      "2022-07-29 13:07:32.380378 : Fichier 01002X0003_S1.nc téléchargé.\n",
      "Fichier 01002X0003_S1.nc converti en fichier pickle\n",
      "Fichier ./../data/era5/01002X0003_S1.nc.nc supprimé\n"
     ]
    },
    {
     "name": "stderr",
     "output_type": "stream",
     "text": [
      "2022-07-29 13:07:32,785 INFO Download rate 757K/s\n",
      "2022-07-29 13:07:32,854 INFO Downloading https://download-0020.copernicus-climate.eu/cache-compute-0020/cache/data8/adaptor.mars.internal-1659016127.682785-14265-6-ff253081-3bc1-4ff9-a3af-cdb3714b3bfa.nc to ./../data/era5/01004X0003_S1.nc (268.8K)\n"
     ]
    },
    {
     "name": "stdout",
     "output_type": "stream",
     "text": [
      "2022-07-29 13:07:32.786053 : Fichier 00603X0003_S1.nc téléchargé.\n",
      "Fichier 00603X0003_S1.nc converti en fichier pickle\n",
      "Fichier ./../data/era5/00603X0003_S1.nc.nc supprimé\n"
     ]
    },
    {
     "name": "stderr",
     "output_type": "stream",
     "text": [
      "2022-07-29 13:07:33,036 INFO Download rate 1.5M/s\n",
      "2022-07-29 13:07:33,105 INFO Downloading https://download-0017.copernicus-climate.eu/cache-compute-0017/cache/data3/adaptor.mars.internal-1659017585.608605-20521-12-f726801b-1fe2-4524-90b3-db0e00bf3928.nc to ./../data/era5/01463X0103_S1.nc (268.8K)\n",
      "2022-07-29 13:07:33,181 INFO Downloading https://download-0021.copernicus-climate.eu/cache-compute-0021/cache/data2/adaptor.mars.internal-1659017948.5722306-13304-16-99397b68-2545-4e78-8775-3ad283112fc3.nc to ./../data/era5/00955X0023_S1.nc (268.8K)\n"
     ]
    },
    {
     "name": "stdout",
     "output_type": "stream",
     "text": [
      "2022-07-29 13:07:33.036483 : Fichier 01004X0003_S1.nc téléchargé.\n",
      "Fichier 01004X0003_S1.nc converti en fichier pickle\n",
      "Fichier ./../data/era5/01004X0003_S1.nc.nc supprimé\n"
     ]
    },
    {
     "name": "stderr",
     "output_type": "stream",
     "text": [
      "2022-07-29 13:07:33,341 INFO Downloading https://download-0019.copernicus-climate.eu/cache-compute-0019/cache/data7/adaptor.mars.internal-1659013848.7810292-6286-15-d85243ff-da11-485d-969f-de0d6bdc13e8.nc to ./../data/era5/01508X0133_S1.nc (268.8K)\n",
      "2022-07-29 13:07:33,617 INFO Download rate 977.9K/s\n",
      "2022-07-29 13:07:33,672 INFO Downloading https://download-0014-clone.copernicus-climate.eu/cache-compute-0014/cache/data7/adaptor.mars.internal-1659018083.401764-31073-5-ea2449ae-f63c-4c74-a139-850c1da2efee.nc to ./../data/era5/01192X0043_S1.nc (268.8K)\n"
     ]
    },
    {
     "name": "stdout",
     "output_type": "stream",
     "text": [
      "2022-07-29 13:07:33.618199 : Fichier 01508X0133_S1.nc téléchargé.\n",
      "Fichier 01508X0133_S1.nc converti en fichier pickle\n",
      "Fichier ./../data/era5/01508X0133_S1.nc.nc supprimé\n"
     ]
    },
    {
     "name": "stderr",
     "output_type": "stream",
     "text": [
      "2022-07-29 13:07:33,908 INFO Download rate 1.1M/s\n",
      "2022-07-29 13:07:33,965 INFO Downloading https://download-0017.copernicus-climate.eu/cache-compute-0017/cache/data3/adaptor.mars.internal-1659023030.4109857-28831-12-b67483d8-7041-4a2c-9833-3b4b12594e3a.nc to ./../data/era5/00578X0043_S1.nc (268.8K)\n"
     ]
    },
    {
     "name": "stdout",
     "output_type": "stream",
     "text": [
      "2022-07-29 13:07:33.909535 : Fichier 01192X0043_S1.nc téléchargé.\n",
      "Fichier 01192X0043_S1.nc converti en fichier pickle\n",
      "Fichier ./../data/era5/01192X0043_S1.nc.nc supprimé\n"
     ]
    },
    {
     "name": "stderr",
     "output_type": "stream",
     "text": [
      "2022-07-29 13:07:34,195 INFO Downloading https://download-0018.copernicus-climate.eu/cache-compute-0018/cache/data1/adaptor.mars.internal-1659018846.0141392-28686-10-abfbbe28-0260-4a30-b471-03a51ed1e66e.nc to ./../data/era5/00751X0004_S1.nc (268.8K)\n",
      "2022-07-29 13:07:34,468 INFO Download rate 986.8K/s\n",
      "2022-07-29 13:07:34,519 INFO Downloading https://download-0011-clone.copernicus-climate.eu/cache-compute-0011/cache/data9/adaptor.mars.internal-1659021284.6549459-5467-7-fc0bb419-520b-468c-9bbc-8b3a721bc399.nc to ./../data/era5/01191X0004_S1.nc (268.8K)\n"
     ]
    },
    {
     "name": "stdout",
     "output_type": "stream",
     "text": [
      "2022-07-29 13:07:34.468145 : Fichier 00751X0004_S1.nc téléchargé.\n",
      "Fichier 00751X0004_S1.nc converti en fichier pickle\n",
      "Fichier ./../data/era5/00751X0004_S1.nc.nc supprimé\n"
     ]
    },
    {
     "name": "stderr",
     "output_type": "stream",
     "text": [
      "2022-07-29 13:07:34,674 INFO Download rate 1.7M/s \n",
      "2022-07-29 13:07:34,726 INFO Downloading https://download-0012-clone.copernicus-climate.eu/cache-compute-0012/cache/data9/adaptor.mars.internal-1659031879.8860633-24959-1-62184184-2b4c-4ccd-ab0b-1491486dfbda.nc to ./../data/era5/00762X0004_S1.nc (268.8K)\n"
     ]
    },
    {
     "name": "stdout",
     "output_type": "stream",
     "text": [
      "2022-07-29 13:07:34.675825 : Fichier 01191X0004_S1.nc téléchargé.\n",
      "Fichier 01191X0004_S1.nc converti en fichier pickle\n",
      "Fichier ./../data/era5/01191X0004_S1.nc.nc supprimé\n"
     ]
    },
    {
     "name": "stderr",
     "output_type": "stream",
     "text": [
      "2022-07-29 13:07:35,053 INFO Download rate 826.6K/s\n",
      "2022-07-29 13:07:35,105 INFO Downloading https://download-0002-clone.copernicus-climate.eu/cache-compute-0002/cache/data0/adaptor.mars.internal-1659026022.7982948-18897-5-257748c2-81e2-49af-a768-0c1fc0a9e8f4.nc to ./../data/era5/01013X0004_S1.nc (268.8K)\n"
     ]
    },
    {
     "name": "stdout",
     "output_type": "stream",
     "text": [
      "2022-07-29 13:07:35.053708 : Fichier 00762X0004_S1.nc téléchargé.\n",
      "Fichier 00762X0004_S1.nc converti en fichier pickle\n",
      "Fichier ./../data/era5/00762X0004_S1.nc.nc supprimé\n"
     ]
    },
    {
     "name": "stderr",
     "output_type": "stream",
     "text": [
      "2022-07-29 13:07:35,331 INFO Downloading https://download-0014-clone.copernicus-climate.eu/cache-compute-0014/cache/data3/adaptor.mars.internal-1659033173.7250595-29907-3-c510ad5a-9d58-4306-98a2-e7b0bd83ebbc.nc to ./../data/era5/00766X0004_S1.nc (268.8K)\n",
      "2022-07-29 13:07:35,394 INFO Downloading https://download-0005-clone.copernicus-climate.eu/cache-compute-0005/cache/data0/adaptor.mars.internal-1659033180.2308617-16393-3-87aad22f-61d0-4e30-9963-7183a52971cf.nc to ./../data/era5/00604X0224_S1.nc (268.8K)\n",
      "2022-07-29 13:07:35,562 INFO Downloading https://download-0003-clone.copernicus-climate.eu/cache-compute-0003/cache/data5/adaptor.mars.internal-1659027988.0567644-21986-15-47effe2a-5a24-4877-bf15-4b8ff98added.nc to ./../data/era5/01251X0044_S1.nc (268.8K)\n",
      "2022-07-29 13:07:35,772 INFO Downloading https://download-0001-clone.copernicus-climate.eu/cache-compute-0001/cache/data9/adaptor.mars.internal-1659033181.9765892-26993-13-cd6643ee-a9fc-4e65-b49f-80f76c1e7cb7.nc to ./../data/era5/01193X0044_S1.nc (268.8K)\n",
      "2022-07-29 13:07:35,950 INFO Downloading https://download-0000-clone.copernicus-climate.eu/cache-compute-0000/cache/data7/adaptor.mars.internal-1659027987.9615812-8781-17-7189678e-4ae7-4101-9d4b-03c187d05cf9.nc to ./../data/era5/01017X0074_S1.nc (268.8K)\n",
      "2022-07-29 13:07:36,271 INFO Download rate 838.7K/s\n",
      "2022-07-29 13:07:36,320 INFO Downloading https://download-0004-clone.copernicus-climate.eu/cache-compute-0004/cache/data9/adaptor.mars.internal-1659027988.1255038-13399-9-5658bff1-6a1a-4666-99c0-7f78f5cbb2c1.nc to ./../data/era5/00583X0005_S1.nc (268.8K)\n"
     ]
    },
    {
     "name": "stdout",
     "output_type": "stream",
     "text": [
      "2022-07-29 13:07:36.271124 : Fichier 01017X0074_S1.nc téléchargé.\n",
      "Fichier 01017X0074_S1.nc converti en fichier pickle\n",
      "Fichier ./../data/era5/01017X0074_S1.nc.nc supprimé\n"
     ]
    },
    {
     "name": "stderr",
     "output_type": "stream",
     "text": [
      "2022-07-29 13:07:36,617 INFO Download rate 906.9K/s\n",
      "2022-07-29 13:07:36,667 INFO Downloading https://download-0015-clone.copernicus-climate.eu/cache-compute-0015/cache/data7/adaptor.mars.internal-1659027988.0546663-19646-5-1d996c36-c4f8-48c1-b7d2-d369495143fe.nc to ./../data/era5/02144X0005_S1.nc (268.8K)\n"
     ]
    },
    {
     "name": "stdout",
     "output_type": "stream",
     "text": [
      "2022-07-29 13:07:36.617670 : Fichier 00583X0005_S1.nc téléchargé.\n",
      "Fichier 00583X0005_S1.nc converti en fichier pickle\n",
      "Fichier ./../data/era5/00583X0005_S1.nc.nc supprimé\n"
     ]
    },
    {
     "name": "stderr",
     "output_type": "stream",
     "text": [
      "2022-07-29 13:07:37,039 INFO Download rate 725.4K/s\n",
      "2022-07-29 13:07:37,089 INFO Downloading https://download-0007-clone.copernicus-climate.eu/cache-compute-0007/cache/data9/adaptor.mars.internal-1659033198.0612178-8509-14-ae045b0a-7a94-47fa-a310-65d4ff2ec76d.nc to ./../data/era5/00957X0005_S1.nc (268.8K)\n"
     ]
    },
    {
     "name": "stdout",
     "output_type": "stream",
     "text": [
      "2022-07-29 13:07:37.040130 : Fichier 02144X0005_S1.nc téléchargé.\n",
      "Fichier 02144X0005_S1.nc converti en fichier pickle\n",
      "Fichier ./../data/era5/02144X0005_S1.nc.nc supprimé\n"
     ]
    },
    {
     "name": "stderr",
     "output_type": "stream",
     "text": [
      "2022-07-29 13:07:37,311 INFO Downloading https://download-0008-clone.copernicus-climate.eu/cache-compute-0008/cache/data6/adaptor.mars.internal-1659042114.2152405-21331-6-a09d070f-0bf8-44a1-a42b-77ee871f684c.nc to ./../data/era5/01515X2015_S1.nc (268.8K)\n",
      "2022-07-29 13:07:37,587 INFO Download rate 978.8K/s\n",
      "2022-07-29 13:07:37,647 INFO Downloading https://download-0008-clone.copernicus-climate.eu/cache-compute-0008/cache/data7/adaptor.mars.internal-1659037637.4879348-13091-5-bc8038b8-829a-4240-b3f9-b746f6098f67.nc to ./../data/era5/01794X0035_S1.nc (268.8K)\n"
     ]
    },
    {
     "name": "stdout",
     "output_type": "stream",
     "text": [
      "2022-07-29 13:07:37.588309 : Fichier 01515X2015_S1.nc téléchargé.\n",
      "Fichier 01515X2015_S1.nc converti en fichier pickle\n",
      "Fichier ./../data/era5/01515X2015_S1.nc.nc supprimé\n"
     ]
    },
    {
     "name": "stderr",
     "output_type": "stream",
     "text": [
      "2022-07-29 13:07:37,727 INFO Download rate 3.3M/s\n",
      "2022-07-29 13:07:37,779 INFO Downloading https://download-0006-clone.copernicus-climate.eu/cache-compute-0006/cache/data0/adaptor.mars.internal-1659037635.1089125-12675-3-b19fcbfc-6c92-4c8b-981f-e96b42f5ed7a.nc to ./../data/era5/00956X0055_S1.nc (268.8K)\n"
     ]
    },
    {
     "name": "stdout",
     "output_type": "stream",
     "text": [
      "2022-07-29 13:07:37.728594 : Fichier 01794X0035_S1.nc téléchargé.\n",
      "Fichier 01794X0035_S1.nc converti en fichier pickle\n",
      "Fichier ./../data/era5/01794X0035_S1.nc.nc supprimé\n"
     ]
    },
    {
     "name": "stderr",
     "output_type": "stream",
     "text": [
      "2022-07-29 13:07:38,083 INFO Download rate 885.5K/s\n",
      "2022-07-29 13:07:38,135 INFO Downloading https://download-0016.copernicus-climate.eu/cache-compute-0016/cache/data5/adaptor.mars.internal-1659042114.5415506-22443-8-60a5c9c9-16ed-4886-a471-586564a237ee.nc to ./../data/era5/00755X0006_S1.nc (268.8K)\n"
     ]
    },
    {
     "name": "stdout",
     "output_type": "stream",
     "text": [
      "2022-07-29 13:07:38.083993 : Fichier 00956X0055_S1.nc téléchargé.\n",
      "Fichier 00956X0055_S1.nc converti en fichier pickle\n",
      "Fichier ./../data/era5/00956X0055_S1.nc.nc supprimé\n"
     ]
    },
    {
     "name": "stderr",
     "output_type": "stream",
     "text": [
      "2022-07-29 13:07:38,494 INFO Download rate 751.7K/s\n",
      "2022-07-29 13:07:38,552 INFO Downloading https://download-0014-clone.copernicus-climate.eu/cache-compute-0014/cache/data3/adaptor.mars.internal-1659037635.0059028-9689-7-0620e7a5-5766-4497-b76e-bdc7f0363731.nc to ./../data/era5/00608X0206_S1.nc (268.8K)\n"
     ]
    },
    {
     "name": "stdout",
     "output_type": "stream",
     "text": [
      "2022-07-29 13:07:38.495939 : Fichier 00755X0006_S1.nc téléchargé.\n",
      "Fichier 00755X0006_S1.nc converti en fichier pickle\n",
      "Fichier ./../data/era5/00755X0006_S1.nc.nc supprimé\n"
     ]
    },
    {
     "name": "stderr",
     "output_type": "stream",
     "text": [
      "2022-07-29 13:07:38,872 INFO Download rate 844.4K/s\n",
      "2022-07-29 13:07:38,921 INFO Downloading https://download-0012-clone.copernicus-climate.eu/cache-compute-0012/cache/data8/adaptor.mars.internal-1659036437.2553482-25498-15-1a33d433-9422-45e1-a26a-cb8c737034c3.nc to ./../data/era5/01805X0036_S1.nc (268.8K)\n"
     ]
    },
    {
     "name": "stdout",
     "output_type": "stream",
     "text": [
      "2022-07-29 13:07:38.872223 : Fichier 00608X0206_S1.nc téléchargé.\n",
      "Fichier 00608X0206_S1.nc converti en fichier pickle\n",
      "Fichier ./../data/era5/00608X0206_S1.nc.nc supprimé\n"
     ]
    },
    {
     "name": "stderr",
     "output_type": "stream",
     "text": [
      "2022-07-29 13:07:39,091 INFO Downloading https://download-0016.copernicus-climate.eu/cache-compute-0016/cache/data4/adaptor.mars.internal-1659041046.0793576-7671-16-f66e92e1-1cec-48dc-81bc-a7c86411b67d.nc to ./../data/era5/01213X0166_S1.nc (268.8K)\n",
      "2022-07-29 13:07:39,157 INFO Downloading https://download-0005-clone.copernicus-climate.eu/cache-compute-0005/cache/data1/adaptor.mars.internal-1659037635.0424645-16484-2-4804d4c1-bd01-42d5-9a7b-cde42ccd77e7.nc to ./../data/era5/01216X0086_S1.nc (268.8K)\n",
      "2022-07-29 13:07:39,352 INFO Downloading https://download-0007-clone.copernicus-climate.eu/cache-compute-0007/cache/data7/adaptor.mars.internal-1659042115.8589256-13915-12-5518cb54-ae5d-476a-9d5c-7b63e9b4366d.nc to ./../data/era5/00776X0096_S1.nc (268.8K)\n",
      "2022-07-29 13:07:39,599 INFO Download rate 1.1M/s\n",
      "2022-07-29 13:07:39,648 INFO Downloading https://download-0000-clone.copernicus-climate.eu/cache-compute-0000/cache/data3/adaptor.mars.internal-1659046736.6702714-10766-3-130b7a3b-49c6-4371-abdf-19bd318ceab0.nc to ./../data/era5/00597X0007_S1.nc (268.8K)\n"
     ]
    },
    {
     "name": "stdout",
     "output_type": "stream",
     "text": [
      "2022-07-29 13:07:39.599201 : Fichier 00776X0096_S1.nc téléchargé.\n",
      "Fichier 00776X0096_S1.nc converti en fichier pickle\n",
      "Fichier ./../data/era5/00776X0096_S1.nc.nc supprimé\n"
     ]
    },
    {
     "name": "stderr",
     "output_type": "stream",
     "text": [
      "2022-07-29 13:07:39,929 INFO Download rate 959.3K/s\n",
      "2022-07-29 13:07:39,984 INFO Downloading https://download-0018.copernicus-climate.eu/cache-compute-0018/cache/data6/adaptor.mars.internal-1659050832.0634022-12203-4-3520e4c1-d603-426d-adf3-b95a48e487fa.nc to ./../data/era5/01211X0037_S1.nc (268.8K)\n"
     ]
    },
    {
     "name": "stdout",
     "output_type": "stream",
     "text": [
      "2022-07-29 13:07:39.930297 : Fichier 00597X0007_S1.nc téléchargé.\n",
      "Fichier 00597X0007_S1.nc converti en fichier pickle\n",
      "Fichier ./../data/era5/00597X0007_S1.nc.nc supprimé\n"
     ]
    },
    {
     "name": "stderr",
     "output_type": "stream",
     "text": [
      "2022-07-29 13:07:40,285 INFO Download rate 890.6K/s\n",
      "2022-07-29 13:07:40,333 INFO Downloading https://download-0017.copernicus-climate.eu/cache-compute-0017/cache/data3/adaptor.mars.internal-1659045798.9902215-17783-8-be4c014f-4b76-4ed9-93b4-bc212775b914.nc to ./../data/era5/01473X0087_S1.nc (268.8K)\n"
     ]
    },
    {
     "name": "stdout",
     "output_type": "stream",
     "text": [
      "2022-07-29 13:07:40.285986 : Fichier 01211X0037_S1.nc téléchargé.\n",
      "Fichier 01211X0037_S1.nc converti en fichier pickle\n",
      "Fichier ./../data/era5/01211X0037_S1.nc.nc supprimé\n"
     ]
    },
    {
     "name": "stderr",
     "output_type": "stream",
     "text": [
      "2022-07-29 13:07:40,550 INFO Download rate 1.2M/s\n",
      "2022-07-29 13:07:40,600 INFO Downloading https://download-0006-clone.copernicus-climate.eu/cache-compute-0006/cache/data8/adaptor.mars.internal-1659046739.436769-15608-12-5917304a-d118-4970-8a40-44691833a85f.nc to ./../data/era5/01003X0008_S1.nc (268.8K)\n"
     ]
    },
    {
     "name": "stdout",
     "output_type": "stream",
     "text": [
      "2022-07-29 13:07:40.550435 : Fichier 01473X0087_S1.nc téléchargé.\n",
      "Fichier 01473X0087_S1.nc converti en fichier pickle\n",
      "Fichier ./../data/era5/01473X0087_S1.nc.nc supprimé\n"
     ]
    },
    {
     "name": "stderr",
     "output_type": "stream",
     "text": [
      "2022-07-29 13:07:40,784 INFO Download rate 1.4M/s \n",
      "2022-07-29 13:07:40,833 INFO Downloading https://download-0019.copernicus-climate.eu/cache-compute-0019/cache/data6/adaptor.mars.internal-1659048873.4293869-23107-2-c4d84f47-72d5-4468-96f2-0c16a8daabbe.nc to ./../data/era5/01756X0008_S1.nc (217.4K)\n"
     ]
    },
    {
     "name": "stdout",
     "output_type": "stream",
     "text": [
      "2022-07-29 13:07:40.785488 : Fichier 01003X0008_S1.nc téléchargé.\n",
      "Fichier 01003X0008_S1.nc converti en fichier pickle\n",
      "Fichier ./../data/era5/01003X0008_S1.nc.nc supprimé\n"
     ]
    },
    {
     "name": "stderr",
     "output_type": "stream",
     "text": [
      "2022-07-29 13:07:41,038 INFO Download rate 1M/s\n",
      "2022-07-29 13:07:41,094 INFO Downloading https://download-0010-clone.copernicus-climate.eu/cache-compute-0010/cache/data1/adaptor.mars.internal-1659042113.0732706-20343-11-d639df7a-d212-4455-a6ed-570475d01284.nc to ./../data/era5/00777X0008_S1.nc (268.8K)\n"
     ]
    },
    {
     "name": "stdout",
     "output_type": "stream",
     "text": [
      "2022-07-29 13:07:41.038727 : Fichier 01756X0008_S1.nc téléchargé.\n",
      "Fichier 01756X0008_S1.nc converti en fichier pickle\n",
      "Fichier ./../data/era5/01756X0008_S1.nc.nc supprimé\n"
     ]
    },
    {
     "name": "stderr",
     "output_type": "stream",
     "text": [
      "2022-07-29 13:07:41,376 INFO Download rate 951.2K/s\n",
      "2022-07-29 13:07:41,427 INFO Downloading https://download-0013-clone.copernicus-climate.eu/cache-compute-0013/cache/data6/adaptor.mars.internal-1659046741.0684423-22275-1-26fd59c4-5412-4dc2-8489-8ca8829e684a.nc to ./../data/era5/00748X0008_S1.nc (268.8K)\n"
     ]
    },
    {
     "name": "stdout",
     "output_type": "stream",
     "text": [
      "2022-07-29 13:07:41.377904 : Fichier 00777X0008_S1.nc téléchargé.\n",
      "Fichier 00777X0008_S1.nc converti en fichier pickle\n",
      "Fichier ./../data/era5/00777X0008_S1.nc.nc supprimé\n"
     ]
    },
    {
     "name": "stderr",
     "output_type": "stream",
     "text": [
      "2022-07-29 13:07:41,682 INFO Download rate 1M/s\n",
      "2022-07-29 13:07:41,738 INFO Downloading https://download-0013-clone.copernicus-climate.eu/cache-compute-0013/cache/data6/adaptor.mars.internal-1659050832.2729774-28924-1-4a5c6404-7bc9-487e-9700-5e76771fdab1.nc to ./../data/era5/01201X0108_S1.nc (268.8K)\n"
     ]
    },
    {
     "name": "stdout",
     "output_type": "stream",
     "text": [
      "2022-07-29 13:07:41.683720 : Fichier 00748X0008_S1.nc téléchargé.\n",
      "Fichier 00748X0008_S1.nc converti en fichier pickle\n",
      "Fichier ./../data/era5/00748X0008_S1.nc.nc supprimé\n"
     ]
    },
    {
     "name": "stderr",
     "output_type": "stream",
     "text": [
      "2022-07-29 13:07:41,832 INFO Download rate 2.8M/s\n",
      "2022-07-29 13:07:41,881 INFO Downloading https://download-0020.copernicus-climate.eu/cache-compute-0020/cache/data3/adaptor.mars.internal-1659050831.9693465-4360-7-8a32a9cb-3678-4a76-ada1-e35f448cfeec.nc to ./../data/era5/01008X0018_S1.nc (268.8K)\n"
     ]
    },
    {
     "name": "stdout",
     "output_type": "stream",
     "text": [
      "2022-07-29 13:07:41.833481 : Fichier 01201X0108_S1.nc téléchargé.\n",
      "Fichier 01201X0108_S1.nc converti en fichier pickle\n",
      "Fichier ./../data/era5/01201X0108_S1.nc.nc supprimé\n"
     ]
    },
    {
     "name": "stderr",
     "output_type": "stream",
     "text": [
      "2022-07-29 13:07:42,122 INFO Download rate 1.1M/s\n",
      "2022-07-29 13:07:42,200 INFO Downloading https://download-0004-clone.copernicus-climate.eu/cache-compute-0004/cache/data9/adaptor.mars.internal-1659050770.7775211-5510-9-7757373f-e896-470e-9484-a1e7031278bc.nc to ./../data/era5/00992X0058_S1.nc (268.8K)\n"
     ]
    },
    {
     "name": "stdout",
     "output_type": "stream",
     "text": [
      "2022-07-29 13:07:42.123294 : Fichier 01008X0018_S1.nc téléchargé.\n",
      "Fichier 01008X0018_S1.nc converti en fichier pickle\n",
      "Fichier ./../data/era5/01008X0018_S1.nc.nc supprimé\n"
     ]
    },
    {
     "name": "stderr",
     "output_type": "stream",
     "text": [
      "2022-07-29 13:07:42,516 INFO Download rate 850.5K/s\n",
      "2022-07-29 13:07:42,565 INFO Downloading https://download-0001-clone.copernicus-climate.eu/cache-compute-0001/cache/data9/adaptor.mars.internal-1659046737.588654-13945-12-6e458268-4c56-420f-abbc-435b0f3a7120.nc to ./../data/era5/01491X0009_S1.nc (268.8K)\n"
     ]
    },
    {
     "name": "stdout",
     "output_type": "stream",
     "text": [
      "2022-07-29 13:07:42.517149 : Fichier 00992X0058_S1.nc téléchargé.\n",
      "Fichier 00992X0058_S1.nc converti en fichier pickle\n",
      "Fichier ./../data/era5/00992X0058_S1.nc.nc supprimé\n"
     ]
    },
    {
     "name": "stderr",
     "output_type": "stream",
     "text": [
      "2022-07-29 13:07:42,760 INFO Downloading https://download-0014-clone.copernicus-climate.eu/cache-compute-0014/cache/data4/adaptor.mars.internal-1659054711.4956162-18195-8-7ba88317-13b9-4747-9f8b-f39dc57b2e31.nc to ./../data/era5/01206X0009_S1.nc (268.8K)\n",
      "2022-07-29 13:07:43,024 INFO Download rate 1021.4K/s\n",
      "2022-07-29 13:07:43,076 INFO Downloading https://download-0001-clone.copernicus-climate.eu/cache-compute-0001/cache/data1/adaptor.mars.internal-1659055140.038516-29772-9-a9f7b27d-436a-422e-b090-f7bd2a65fb1c.nc to ./../data/era5/02527X0009_S1.nc (191.8K)\n"
     ]
    },
    {
     "name": "stdout",
     "output_type": "stream",
     "text": [
      "2022-07-29 13:07:43.024422 : Fichier 01206X0009_S1.nc téléchargé.\n",
      "Fichier 01206X0009_S1.nc converti en fichier pickle\n",
      "Fichier ./../data/era5/01206X0009_S1.nc.nc supprimé\n"
     ]
    },
    {
     "name": "stderr",
     "output_type": "stream",
     "text": [
      "2022-07-29 13:07:43,351 INFO Download rate 702.4K/s\n",
      "2022-07-29 13:07:43,399 INFO Downloading https://download-0015-clone.copernicus-climate.eu/cache-compute-0015/cache/data4/adaptor.mars.internal-1659058792.1842551-20886-6-af8c41ea-c4f0-47b7-83fa-c477756196f4.nc to ./../data/era5/00987X0009_S1.nc (268.8K)\n"
     ]
    },
    {
     "name": "stdout",
     "output_type": "stream",
     "text": [
      "2022-07-29 13:07:43.351390 : Fichier 02527X0009_S1.nc téléchargé.\n",
      "Fichier 02527X0009_S1.nc converti en fichier pickle\n",
      "Fichier ./../data/era5/02527X0009_S1.nc.nc supprimé\n"
     ]
    },
    {
     "name": "stderr",
     "output_type": "stream",
     "text": [
      "2022-07-29 13:07:43,720 INFO Download rate 839.6K/s\n",
      "2022-07-29 13:07:43,770 INFO Downloading https://download-0012-clone.copernicus-climate.eu/cache-compute-0012/cache/data8/adaptor.mars.internal-1659052458.3088076-4701-6-f6c010eb-f5d8-45c8-91d1-3b3ddf3d694f.nc to ./../data/era5/01205X0229_S1.nc (268.8K)\n"
     ]
    },
    {
     "name": "stdout",
     "output_type": "stream",
     "text": [
      "2022-07-29 13:07:43.721466 : Fichier 00987X0009_S1.nc téléchargé.\n",
      "Fichier 00987X0009_S1.nc converti en fichier pickle\n",
      "Fichier ./../data/era5/00987X0009_S1.nc.nc supprimé\n"
     ]
    },
    {
     "name": "stderr",
     "output_type": "stream",
     "text": [
      "2022-07-29 13:07:43,948 INFO Downloading https://download-0014-clone.copernicus-climate.eu/cache-compute-0014/cache/data8/adaptor.mars.internal-1659054782.9049067-11900-12-00d14aef-0181-4ca7-a07a-6650c8d20172.nc to ./../data/era5/01194X0069_S1.nc (268.8K)\n",
      "2022-07-29 13:07:44,121 INFO Download rate 1.5M/s \n",
      "2022-07-29 13:07:44,170 INFO Downloading https://download-0016.copernicus-climate.eu/cache-compute-0016/cache/data8/adaptor.mars.internal-1659055899.2674925-9622-4-cbfab9a6-954c-4739-830a-46114f52c73c.nc to ./../data/era5/01462X0079_S1.nc (268.8K)\n"
     ]
    },
    {
     "name": "stdout",
     "output_type": "stream",
     "text": [
      "2022-07-29 13:07:44.121099 : Fichier 01194X0069_S1.nc téléchargé.\n",
      "Fichier 01194X0069_S1.nc converti en fichier pickle\n",
      "Fichier ./../data/era5/01194X0069_S1.nc.nc supprimé\n"
     ]
    },
    {
     "name": "stderr",
     "output_type": "stream",
     "text": [
      "2022-07-29 13:07:44,579 INFO Download rate 659.1K/s\n",
      "2022-07-29 13:07:44,629 INFO Downloading https://download-0000-clone.copernicus-climate.eu/cache-compute-0000/cache/data0/adaptor.mars.internal-1659056981.7632048-30314-11-c4d5d406-e98d-44f8-a27b-e5635595159a.nc to ./../data/era5/00435X0079_S1.nc (268.8K)\n"
     ]
    },
    {
     "name": "stdout",
     "output_type": "stream",
     "text": [
      "2022-07-29 13:07:44.580784 : Fichier 01462X0079_S1.nc téléchargé.\n",
      "Fichier 01462X0079_S1.nc converti en fichier pickle\n",
      "Fichier ./../data/era5/01462X0079_S1.nc.nc supprimé\n"
     ]
    },
    {
     "name": "stderr",
     "output_type": "stream",
     "text": [
      "2022-07-29 13:07:44,897 INFO Download rate 1005.1K/s\n",
      "2022-07-29 13:07:44,949 INFO Downloading https://download-0018.copernicus-climate.eu/cache-compute-0018/cache/data4/adaptor.mars.internal-1659052808.193386-7427-7-3f9ad9c3-70d7-4a4a-9aff-5eaef761fbca.nc to ./../data/era5/02516X0516_PZ1.nc (97.6K)\n"
     ]
    },
    {
     "name": "stdout",
     "output_type": "stream",
     "text": [
      "2022-07-29 13:07:44.898832 : Fichier 00435X0079_S1.nc téléchargé.\n",
      "Fichier 00435X0079_S1.nc converti en fichier pickle\n",
      "Fichier ./../data/era5/00435X0079_S1.nc.nc supprimé\n"
     ]
    },
    {
     "name": "stderr",
     "output_type": "stream",
     "text": [
      "2022-07-29 13:07:45,134 INFO Downloading https://download-0001-clone.copernicus-climate.eu/cache-compute-0001/cache/data9/adaptor.mars.internal-1659053468.5405107-13366-13-42a8b33b-e90f-44c4-a1ff-a4469ee82d69.nc to ./../data/era5/00941X0034_S-2.nc (183.2K)\n",
      "2022-07-29 13:07:45,277 INFO Download rate 1.3M/s\n",
      "2022-07-29 13:07:45,327 INFO Downloading https://download-0013-clone.copernicus-climate.eu/cache-compute-0013/cache/data3/adaptor.mars.internal-1659059471.5227392-27607-10-3af6abbb-e80b-432f-b340-815ae0171360.nc to ./../data/era5/01227X0038_S22.nc (268.8K)\n"
     ]
    },
    {
     "name": "stdout",
     "output_type": "stream",
     "text": [
      "2022-07-29 13:07:45.277798 : Fichier 00941X0034_S-2.nc téléchargé.\n",
      "Fichier 00941X0034_S-2.nc converti en fichier pickle\n",
      "Fichier ./../data/era5/00941X0034_S-2.nc.nc supprimé\n"
     ]
    },
    {
     "name": "stderr",
     "output_type": "stream",
     "text": [
      "2022-07-29 13:07:45,564 INFO Download rate 1.1M/s\n",
      "2022-07-29 13:07:45,617 INFO Downloading https://download-0017.copernicus-climate.eu/cache-compute-0017/cache/data5/adaptor.mars.internal-1659059715.4535992-18077-6-64d251be-b988-4bc4-b07f-0da0904534a0.nc to ./../data/era5/02895X0004_FE1-92.nc (191.8K)\n"
     ]
    },
    {
     "name": "stdout",
     "output_type": "stream",
     "text": [
      "2022-07-29 13:07:45.565059 : Fichier 01227X0038_S22.nc téléchargé.\n",
      "Fichier 01227X0038_S22.nc converti en fichier pickle\n",
      "Fichier ./../data/era5/01227X0038_S22.nc.nc supprimé\n"
     ]
    },
    {
     "name": "stderr",
     "output_type": "stream",
     "text": [
      "2022-07-29 13:07:45,919 INFO Download rate 636.1K/s\n",
      "2022-07-29 13:07:45,970 INFO Downloading https://download-0021.copernicus-climate.eu/cache-compute-0021/cache/data3/adaptor.mars.internal-1659058612.6990426-8825-9-b8b84261-b44a-4081-b9b5-b64db936637f.nc to ./../data/era5/02133X0008_S1-92.nc (217.4K)\n"
     ]
    },
    {
     "name": "stdout",
     "output_type": "stream",
     "text": [
      "2022-07-29 13:07:45.920513 : Fichier 02895X0004_FE1-92.nc téléchargé.\n",
      "Fichier 02895X0004_FE1-92.nc converti en fichier pickle\n",
      "Fichier ./../data/era5/02895X0004_FE1-92.nc.nc supprimé\n"
     ]
    },
    {
     "name": "stderr",
     "output_type": "stream",
     "text": [
      "2022-07-29 13:07:46,300 INFO Download rate 657.8K/s\n",
      "2022-07-29 13:07:46,352 INFO Downloading https://download-0008-clone.copernicus-climate.eu/cache-compute-0008/cache/data9/adaptor.mars.internal-1659062495.4774113-15729-18-72efd8eb-696c-4d35-88d3-5a83a64c887d.nc to ./../data/era5/02883X0018_FE2.nc (208.9K)\n"
     ]
    },
    {
     "name": "stdout",
     "output_type": "stream",
     "text": [
      "2022-07-29 13:07:46.301953 : Fichier 02133X0008_S1-92.nc téléchargé.\n",
      "Fichier 02133X0008_S1-92.nc converti en fichier pickle\n",
      "Fichier ./../data/era5/02133X0008_S1-92.nc.nc supprimé\n"
     ]
    },
    {
     "name": "stderr",
     "output_type": "stream",
     "text": [
      "2022-07-29 13:07:46,628 INFO Download rate 757.8K/s\n",
      "2022-07-29 13:07:46,677 INFO Downloading https://download-0018.copernicus-climate.eu/cache-compute-0018/cache/data3/adaptor.mars.internal-1659060426.253733-29430-11-6e83ffcc-0b4a-4532-a9d8-aed6033c3e3e.nc to ./../data/era5/01195X0200_F2.nc (140.4K)\n"
     ]
    },
    {
     "name": "stdout",
     "output_type": "stream",
     "text": [
      "2022-07-29 13:07:46.628717 : Fichier 02883X0018_FE2.nc téléchargé.\n",
      "Fichier 02883X0018_FE2.nc converti en fichier pickle\n",
      "Fichier ./../data/era5/02883X0018_FE2.nc.nc supprimé\n"
     ]
    },
    {
     "name": "stderr",
     "output_type": "stream",
     "text": [
      "2022-07-29 13:07:46,966 INFO Download rate 487.7K/s\n",
      "2022-07-29 13:07:47,014 INFO Downloading https://download-0004-clone.copernicus-climate.eu/cache-compute-0004/cache/data7/adaptor.mars.internal-1659061455.3457575-14143-1-012cd77d-8035-4fbd-9a05-4f3b60b2efee.nc to ./../data/era5/01234X0297_F2.nc (131.9K)\n"
     ]
    },
    {
     "name": "stdout",
     "output_type": "stream",
     "text": [
      "2022-07-29 13:07:46.967457 : Fichier 01195X0200_F2.nc téléchargé.\n",
      "Fichier 01195X0200_F2.nc converti en fichier pickle\n",
      "Fichier ./../data/era5/01195X0200_F2.nc.nc supprimé\n"
     ]
    },
    {
     "name": "stderr",
     "output_type": "stream",
     "text": [
      "2022-07-29 13:07:47,235 INFO Download rate 598.6K/s\n",
      "2022-07-29 13:07:47,298 INFO Downloading https://download-0020.copernicus-climate.eu/cache-compute-0020/cache/data5/adaptor.mars.internal-1659063626.3137012-31249-11-d26ffc4e-3399-4118-a824-f0d9f7f79fc0.nc to ./../data/era5/02523X0002_S2.nc (268.8K)\n"
     ]
    },
    {
     "name": "stdout",
     "output_type": "stream",
     "text": [
      "2022-07-29 13:07:47.237978 : Fichier 01234X0297_F2.nc téléchargé.\n",
      "Fichier 01234X0297_F2.nc converti en fichier pickle\n",
      "Fichier ./../data/era5/01234X0297_F2.nc.nc supprimé\n"
     ]
    },
    {
     "name": "stderr",
     "output_type": "stream",
     "text": [
      "2022-07-29 13:07:47,581 INFO Download rate 951.8K/s\n",
      "2022-07-29 13:07:47,639 INFO Downloading https://download-0009-clone.copernicus-climate.eu/cache-compute-0009/cache/data3/adaptor.mars.internal-1659059715.3802917-7487-3-25ca58ac-b3c2-48b6-b910-5c7178abfb99.nc to ./../data/era5/01768X0022_S2.nc (217.4K)\n"
     ]
    },
    {
     "name": "stdout",
     "output_type": "stream",
     "text": [
      "2022-07-29 13:07:47.582488 : Fichier 02523X0002_S2.nc téléchargé.\n",
      "Fichier 02523X0002_S2.nc converti en fichier pickle\n",
      "Fichier ./../data/era5/02523X0002_S2.nc.nc supprimé\n"
     ]
    },
    {
     "name": "stderr",
     "output_type": "stream",
     "text": [
      "2022-07-29 13:07:47,981 INFO Download rate 639K/s\n",
      "2022-07-29 13:07:48,030 INFO Downloading https://download-0014-clone.copernicus-climate.eu/cache-compute-0014/cache/data8/adaptor.mars.internal-1659057460.6318476-12467-12-a3fa40ff-eeff-4bc0-a2c1-fd68936815d0.nc to ./../data/era5/00765X0124_BT2.nc (149K)\n"
     ]
    },
    {
     "name": "stdout",
     "output_type": "stream",
     "text": [
      "2022-07-29 13:07:47.981790 : Fichier 01768X0022_S2.nc téléchargé.\n",
      "Fichier 01768X0022_S2.nc converti en fichier pickle\n",
      "Fichier ./../data/era5/01768X0022_S2.nc.nc supprimé\n"
     ]
    },
    {
     "name": "stderr",
     "output_type": "stream",
     "text": [
      "2022-07-29 13:07:48,246 INFO Download rate 692.9K/s\n",
      "2022-07-29 13:07:48,297 INFO Downloading https://download-0017.copernicus-climate.eu/cache-compute-0017/cache/data3/adaptor.mars.internal-1659062439.4506621-10849-5-99235f86-f983-436a-aa42-2a6a8e6bb14d.nc to ./../data/era5/01792X0020_PZ2.nc (166.1K)\n"
     ]
    },
    {
     "name": "stdout",
     "output_type": "stream",
     "text": [
      "2022-07-29 13:07:48.247747 : Fichier 00765X0124_BT2.nc téléchargé.\n",
      "Fichier 00765X0124_BT2.nc converti en fichier pickle\n",
      "Fichier ./../data/era5/00765X0124_BT2.nc.nc supprimé\n"
     ]
    },
    {
     "name": "stderr",
     "output_type": "stream",
     "text": [
      "2022-07-29 13:07:48,481 INFO Download rate 904.2K/s\n",
      "2022-07-29 13:07:48,540 INFO Downloading https://download-0019.copernicus-climate.eu/cache-compute-0019/cache/data4/adaptor.mars.internal-1659061562.948103-21021-4-63f6a900-51b2-420d-9059-bf7ac975ad68.nc to ./../data/era5/02535X0018_FE1-93.nc (191.8K)\n"
     ]
    },
    {
     "name": "stdout",
     "output_type": "stream",
     "text": [
      "2022-07-29 13:07:48.482289 : Fichier 01792X0020_PZ2.nc téléchargé.\n",
      "Fichier 01792X0020_PZ2.nc converti en fichier pickle\n",
      "Fichier ./../data/era5/01792X0020_PZ2.nc.nc supprimé\n"
     ]
    },
    {
     "name": "stderr",
     "output_type": "stream",
     "text": [
      "2022-07-29 13:07:48,913 INFO Download rate 513.4K/s\n",
      "2022-07-29 13:07:48,963 INFO Downloading https://download-0010-clone.copernicus-climate.eu/cache-compute-0010/cache/data8/adaptor.mars.internal-1659064338.6236665-19456-15-1aabba0c-a935-4f60-b392-521b43bc3b81.nc to ./../data/era5/01764X0012_F3.nc (131.9K)\n"
     ]
    },
    {
     "name": "stdout",
     "output_type": "stream",
     "text": [
      "2022-07-29 13:07:48.913860 : Fichier 02535X0018_FE1-93.nc téléchargé.\n",
      "Fichier 02535X0018_FE1-93.nc converti en fichier pickle\n",
      "Fichier ./../data/era5/02535X0018_FE1-93.nc.nc supprimé\n"
     ]
    },
    {
     "name": "stderr",
     "output_type": "stream",
     "text": [
      "2022-07-29 13:07:49,151 INFO Download rate 705.7K/s\n",
      "2022-07-29 13:07:49,203 INFO Downloading https://download-0012-clone.copernicus-climate.eu/cache-compute-0012/cache/data6/adaptor.mars.internal-1659064173.6207588-15378-19-1f92047d-77d4-4071-a990-3300d74913a2.nc to ./../data/era5/02883X0017_F3.nc (200.3K)\n"
     ]
    },
    {
     "name": "stdout",
     "output_type": "stream",
     "text": [
      "2022-07-29 13:07:49.151033 : Fichier 01764X0012_F3.nc téléchargé.\n",
      "Fichier 01764X0012_F3.nc converti en fichier pickle\n",
      "Fichier ./../data/era5/01764X0012_F3.nc.nc supprimé\n"
     ]
    },
    {
     "name": "stderr",
     "output_type": "stream",
     "text": [
      "2022-07-29 13:07:49,567 INFO Download rate 553.5K/s\n",
      "2022-07-29 13:07:49,616 INFO Downloading https://download-0000-clone.copernicus-climate.eu/cache-compute-0000/cache/data9/adaptor.mars.internal-1659065953.863737-21230-7-35669ab4-7363-44dc-bdb2-0d02fc44ca0d.nc to ./../data/era5/01242X0530_FN3.nc (123.3K)\n"
     ]
    },
    {
     "name": "stdout",
     "output_type": "stream",
     "text": [
      "2022-07-29 13:07:49.567741 : Fichier 02883X0017_F3.nc téléchargé.\n",
      "Fichier 02883X0017_F3.nc converti en fichier pickle\n",
      "Fichier ./../data/era5/02883X0017_F3.nc.nc supprimé\n"
     ]
    },
    {
     "name": "stderr",
     "output_type": "stream",
     "text": [
      "2022-07-29 13:07:49,940 INFO Download rate 381.2K/s\n",
      "2022-07-29 13:07:49,989 INFO Downloading https://download-0014-clone.copernicus-climate.eu/cache-compute-0014/cache/data8/adaptor.mars.internal-1659065925.973966-12286-12-a94fe01f-8201-466a-b421-59e1138e9beb.nc to ./../data/era5/00775X0099_F14.nc (268.8K)\n"
     ]
    },
    {
     "name": "stdout",
     "output_type": "stream",
     "text": [
      "2022-07-29 13:07:49.940912 : Fichier 01242X0530_FN3.nc téléchargé.\n",
      "Fichier 01242X0530_FN3.nc converti en fichier pickle\n",
      "Fichier ./../data/era5/01242X0530_FN3.nc.nc supprimé\n"
     ]
    },
    {
     "name": "stderr",
     "output_type": "stream",
     "text": [
      "2022-07-29 13:07:50,138 INFO Download rate 1.8M/s \n",
      "2022-07-29 13:07:50,187 INFO Downloading https://download-0004-clone.copernicus-climate.eu/cache-compute-0004/cache/data6/adaptor.mars.internal-1659064338.6299605-28111-1-0983523c-e50c-4ce7-a348-2023f7a2480e.nc to ./../data/era5/00937X0030_F4.nc (183.2K)\n"
     ]
    },
    {
     "name": "stdout",
     "output_type": "stream",
     "text": [
      "2022-07-29 13:07:50.138515 : Fichier 00775X0099_F14.nc téléchargé.\n",
      "Fichier 00775X0099_F14.nc converti en fichier pickle\n",
      "Fichier ./../data/era5/00775X0099_F14.nc.nc supprimé\n"
     ]
    },
    {
     "name": "stderr",
     "output_type": "stream",
     "text": [
      "2022-07-29 13:07:50,350 INFO Download rate 1.1M/s\n",
      "2022-07-29 13:07:50,401 INFO Downloading https://download-0005-clone.copernicus-climate.eu/cache-compute-0005/cache/data7/adaptor.mars.internal-1659065927.941878-23513-7-900acf8d-6121-4afa-9e2e-215ef7c8cd64.nc to ./../data/era5/01423X0044_F4.nc (149K)\n"
     ]
    },
    {
     "name": "stdout",
     "output_type": "stream",
     "text": [
      "2022-07-29 13:07:50.351153 : Fichier 00937X0030_F4.nc téléchargé.\n",
      "Fichier 00937X0030_F4.nc converti en fichier pickle\n",
      "Fichier ./../data/era5/00937X0030_F4.nc.nc supprimé\n"
     ]
    },
    {
     "name": "stderr",
     "output_type": "stream",
     "text": [
      "2022-07-29 13:07:50,694 INFO Download rate 507.1K/s\n",
      "2022-07-29 13:07:50,744 INFO Downloading https://download-0004-clone.copernicus-climate.eu/cache-compute-0004/cache/data8/adaptor.mars.internal-1659066406.7896595-9582-13-afc91bc5-5f32-4803-ab71-05fffd16ecad.nc to ./../data/era5/02135X0016_S4.nc (183.2K)\n"
     ]
    },
    {
     "name": "stdout",
     "output_type": "stream",
     "text": [
      "2022-07-29 13:07:50.694755 : Fichier 01423X0044_F4.nc téléchargé.\n",
      "Fichier 01423X0044_F4.nc converti en fichier pickle\n",
      "Fichier ./../data/era5/01423X0044_F4.nc.nc supprimé\n"
     ]
    },
    {
     "name": "stderr",
     "output_type": "stream",
     "text": [
      "2022-07-29 13:07:50,879 INFO Download rate 1.3M/s\n",
      "2022-07-29 13:07:50,934 INFO Downloading https://download-0005-clone.copernicus-climate.eu/cache-compute-0005/cache/data0/adaptor.mars.internal-1659067110.846636-28763-4-e9b50375-3e9c-4249-bd45-86fac2ec8371.nc to ./../data/era5/02131X0018_S4.nc (217.4K)\n"
     ]
    },
    {
     "name": "stdout",
     "output_type": "stream",
     "text": [
      "2022-07-29 13:07:50.880078 : Fichier 02135X0016_S4.nc téléchargé.\n",
      "Fichier 02135X0016_S4.nc converti en fichier pickle\n",
      "Fichier ./../data/era5/02135X0016_S4.nc.nc supprimé\n"
     ]
    },
    {
     "name": "stderr",
     "output_type": "stream",
     "text": [
      "2022-07-29 13:07:51,052 INFO Download rate 1.8M/s\n"
     ]
    },
    {
     "name": "stdout",
     "output_type": "stream",
     "text": [
      "2022-07-29 13:07:51.053952 : Fichier 02131X0018_S4.nc téléchargé.\n",
      "Fichier 02131X0018_S4.nc converti en fichier pickle\n"
     ]
    },
    {
     "name": "stderr",
     "output_type": "stream",
     "text": [
      "2022-07-29 13:07:51,105 INFO Downloading https://download-0006-clone.copernicus-climate.eu/cache-compute-0006/cache/data7/adaptor.mars.internal-1659069439.956028-10622-15-786e790b-d70e-46be-ae28-729855435feb.nc to ./../data/era5/01194X0149_FEA7.nc (268.8K)\n"
     ]
    },
    {
     "name": "stdout",
     "output_type": "stream",
     "text": [
      "Fichier ./../data/era5/02131X0018_S4.nc.nc supprimé\n"
     ]
    },
    {
     "name": "stderr",
     "output_type": "stream",
     "text": [
      "2022-07-29 13:07:51,369 INFO Download rate 1023K/s\n",
      "2022-07-29 13:07:51,419 INFO Downloading https://download-0003-clone.copernicus-climate.eu/cache-compute-0003/cache/data5/adaptor.mars.internal-1659067535.6581728-29117-15-9044db03-341f-445a-9db3-c6506bc1c46e.nc to ./../data/era5/00974X0128_PZ1908.nc (149K)\n"
     ]
    },
    {
     "name": "stdout",
     "output_type": "stream",
     "text": [
      "2022-07-29 13:07:51.370604 : Fichier 01194X0149_FEA7.nc téléchargé.\n",
      "Fichier 01194X0149_FEA7.nc converti en fichier pickle\n",
      "Fichier ./../data/era5/01194X0149_FEA7.nc.nc supprimé\n"
     ]
    },
    {
     "name": "stderr",
     "output_type": "stream",
     "text": [
      "2022-07-29 13:07:51,676 INFO Download rate 581.5K/s\n",
      "2022-07-29 13:07:51,726 INFO Downloading https://download-0007-clone.copernicus-climate.eu/cache-compute-0007/cache/data1/adaptor.mars.internal-1659069280.504579-14724-3-072e2e39-6fc1-493e-a927-3880fdfa6450.nc to ./../data/era5/02131X0019_S8.nc (217.4K)\n"
     ]
    },
    {
     "name": "stdout",
     "output_type": "stream",
     "text": [
      "2022-07-29 13:07:51.677012 : Fichier 00974X0128_PZ1908.nc téléchargé.\n",
      "Fichier 00974X0128_PZ1908.nc converti en fichier pickle\n",
      "Fichier ./../data/era5/00974X0128_PZ1908.nc.nc supprimé\n"
     ]
    },
    {
     "name": "stderr",
     "output_type": "stream",
     "text": [
      "2022-07-29 13:07:51,964 INFO Download rate 916K/s\n",
      "2022-07-29 13:07:52,116 INFO Downloading https://download-0012-clone.copernicus-climate.eu/cache-compute-0012/cache/data4/adaptor.mars.internal-1659072838.8372204-8188-4-1099c016-7c54-4485-8ae9-d1aa98ffe840.nc to ./../data/era5/01198X0029_S8.nc (268.8K)\n"
     ]
    },
    {
     "name": "stdout",
     "output_type": "stream",
     "text": [
      "2022-07-29 13:07:51.964805 : Fichier 02131X0019_S8.nc téléchargé.\n",
      "Fichier 02131X0019_S8.nc converti en fichier pickle\n",
      "Fichier ./../data/era5/02131X0019_S8.nc.nc supprimé\n"
     ]
    },
    {
     "name": "stderr",
     "output_type": "stream",
     "text": [
      "2022-07-29 13:07:52,394 INFO Download rate 970.8K/s\n",
      "2022-07-29 13:07:52,445 INFO Downloading https://download-0019.copernicus-climate.eu/cache-compute-0019/cache/data2/adaptor.mars.internal-1659069178.0402632-25984-15-2e4c8aef-50dc-4fc6-91d8-727c7f008b22.nc to ./../data/era5/02155X1040_F.nc (174.7K)\n"
     ]
    },
    {
     "name": "stdout",
     "output_type": "stream",
     "text": [
      "2022-07-29 13:07:52.394721 : Fichier 01198X0029_S8.nc téléchargé.\n",
      "Fichier 01198X0029_S8.nc converti en fichier pickle\n",
      "Fichier ./../data/era5/01198X0029_S8.nc.nc supprimé\n"
     ]
    },
    {
     "name": "stderr",
     "output_type": "stream",
     "text": [
      "2022-07-29 13:07:52,667 INFO Download rate 791.3K/s\n",
      "2022-07-29 13:07:52,731 INFO Downloading https://download-0017.copernicus-climate.eu/cache-compute-0017/cache/data4/adaptor.mars.internal-1659070164.2171304-21326-13-d891a02f-c845-44a6-81e4-0058d56d9c82.nc to ./../data/era5/02531X0001_F.nc (268.8K)\n"
     ]
    },
    {
     "name": "stdout",
     "output_type": "stream",
     "text": [
      "2022-07-29 13:07:52.669300 : Fichier 02155X1040_F.nc téléchargé.\n",
      "Fichier 02155X1040_F.nc converti en fichier pickle\n",
      "Fichier ./../data/era5/02155X1040_F.nc.nc supprimé\n"
     ]
    },
    {
     "name": "stderr",
     "output_type": "stream",
     "text": [
      "2022-07-29 13:07:53,061 INFO Download rate 820.4K/s\n",
      "2022-07-29 13:07:53,110 INFO Downloading https://download-0013-clone.copernicus-climate.eu/cache-compute-0013/cache/data5/adaptor.mars.internal-1659070007.8960748-29950-8-3ea74d5e-0609-4bb0-b34e-9db7d552a66b.nc to ./../data/era5/01176X0061_F.nc (183.2K)\n"
     ]
    },
    {
     "name": "stdout",
     "output_type": "stream",
     "text": [
      "2022-07-29 13:07:53.062303 : Fichier 02531X0001_F.nc téléchargé.\n",
      "Fichier 02531X0001_F.nc converti en fichier pickle\n",
      "Fichier ./../data/era5/02531X0001_F.nc.nc supprimé\n"
     ]
    },
    {
     "name": "stderr",
     "output_type": "stream",
     "text": [
      "2022-07-29 13:07:53,458 INFO Download rate 530.8K/s\n",
      "2022-07-29 13:07:53,507 INFO Downloading https://download-0015-clone.copernicus-climate.eu/cache-compute-0015/cache/data8/adaptor.mars.internal-1659071025.731866-11023-3-2ae4e99a-3dea-4a54-9a97-8774d037c99a.nc to ./../data/era5/00765X0003_F.nc (157.5K)\n"
     ]
    },
    {
     "name": "stdout",
     "output_type": "stream",
     "text": [
      "2022-07-29 13:07:53.458045 : Fichier 01176X0061_F.nc téléchargé.\n",
      "Fichier 01176X0061_F.nc converti en fichier pickle\n",
      "Fichier ./../data/era5/01176X0061_F.nc.nc supprimé\n"
     ]
    },
    {
     "name": "stderr",
     "output_type": "stream",
     "text": [
      "2022-07-29 13:07:53,820 INFO Download rate 504.3K/s\n",
      "2022-07-29 13:07:53,869 INFO Downloading https://download-0001-clone.copernicus-climate.eu/cache-compute-0001/cache/data4/adaptor.mars.internal-1659068175.2525992-12590-7-3133983a-f35c-4df5-9448-24d3b6418067.nc to ./../data/era5/00945X0064_F.nc (131.9K)\n"
     ]
    },
    {
     "name": "stdout",
     "output_type": "stream",
     "text": [
      "2022-07-29 13:07:53.821173 : Fichier 00765X0003_F.nc téléchargé.\n",
      "Fichier 00765X0003_F.nc converti en fichier pickle\n",
      "Fichier ./../data/era5/00765X0003_F.nc.nc supprimé\n"
     ]
    },
    {
     "name": "stderr",
     "output_type": "stream",
     "text": [
      "2022-07-29 13:07:54,066 INFO Download rate 669.1K/s\n",
      "2022-07-29 13:07:54,115 INFO Downloading https://download-0011-clone.copernicus-climate.eu/cache-compute-0011/cache/data3/adaptor.mars.internal-1659073022.4848847-14311-3-0c852fba-b116-4736-b827-39f285bab014.nc to ./../data/era5/01778X0015_F.nc (183.2K)\n"
     ]
    },
    {
     "name": "stdout",
     "output_type": "stream",
     "text": [
      "2022-07-29 13:07:54.067088 : Fichier 00945X0064_F.nc téléchargé.\n",
      "Fichier 00945X0064_F.nc converti en fichier pickle\n",
      "Fichier ./../data/era5/00945X0064_F.nc.nc supprimé\n"
     ]
    },
    {
     "name": "stderr",
     "output_type": "stream",
     "text": [
      "2022-07-29 13:07:54,360 INFO Download rate 750.2K/s\n",
      "2022-07-29 13:07:54,410 INFO Downloading https://download-0014-clone.copernicus-climate.eu/cache-compute-0014/cache/data3/adaptor.mars.internal-1659074520.639054-7995-7-fd4b4837-f61e-4bcd-9385-42efc228e64a.nc to ./../data/era5/01511X0188_F.nc (123.3K)\n"
     ]
    },
    {
     "name": "stdout",
     "output_type": "stream",
     "text": [
      "2022-07-29 13:07:54.361906 : Fichier 01778X0015_F.nc téléchargé.\n",
      "Fichier 01778X0015_F.nc converti en fichier pickle\n",
      "Fichier ./../data/era5/01778X0015_F.nc.nc supprimé\n"
     ]
    },
    {
     "name": "stderr",
     "output_type": "stream",
     "text": [
      "2022-07-29 13:07:54,638 INFO Download rate 543.5K/s\n",
      "2022-07-29 13:07:54,697 INFO Downloading https://download-0016.copernicus-climate.eu/cache-compute-0016/cache/data9/adaptor.mars.internal-1659074226.379641-16504-15-929262c7-1ca8-41bb-b6cf-03b13e5ca7e0.nc to ./../data/era5/02503X0011_FO.nc (208.9K)\n"
     ]
    },
    {
     "name": "stdout",
     "output_type": "stream",
     "text": [
      "2022-07-29 13:07:54.639563 : Fichier 01511X0188_F.nc téléchargé.\n",
      "Fichier 01511X0188_F.nc converti en fichier pickle\n",
      "Fichier ./../data/era5/01511X0188_F.nc.nc supprimé\n"
     ]
    },
    {
     "name": "stderr",
     "output_type": "stream",
     "text": [
      "2022-07-29 13:07:54,995 INFO Download rate 701.1K/s\n",
      "2022-07-29 13:07:55,051 INFO Downloading https://download-0007-clone.copernicus-climate.eu/cache-compute-0007/cache/data2/adaptor.mars.internal-1659073067.8313448-12650-4-37ca5dec-e36a-459f-9605-8db3d46990cb.nc to ./../data/era5/01508X0100_P.nc (174.6K)\n"
     ]
    },
    {
     "name": "stdout",
     "output_type": "stream",
     "text": [
      "2022-07-29 13:07:54.996956 : Fichier 02503X0011_FO.nc téléchargé.\n",
      "Fichier 02503X0011_FO.nc converti en fichier pickle\n",
      "Fichier ./../data/era5/02503X0011_FO.nc.nc supprimé\n"
     ]
    },
    {
     "name": "stderr",
     "output_type": "stream",
     "text": [
      "2022-07-29 13:07:55,336 INFO Download rate 615.6K/s\n",
      "2022-07-29 13:07:55,386 INFO Downloading https://download-0008-clone.copernicus-climate.eu/cache-compute-0008/cache/data1/adaptor.mars.internal-1659071892.2120678-11362-3-06e01591-7f05-481d-9d2f-733cca823750.nc to ./../data/era5/00584X0020_P.nc (140.4K)\n"
     ]
    },
    {
     "name": "stdout",
     "output_type": "stream",
     "text": [
      "2022-07-29 13:07:55.336379 : Fichier 01508X0100_P.nc téléchargé.\n",
      "Fichier 01508X0100_P.nc converti en fichier pickle\n",
      "Fichier ./../data/era5/01508X0100_P.nc.nc supprimé\n"
     ]
    },
    {
     "name": "stderr",
     "output_type": "stream",
     "text": [
      "2022-07-29 13:07:55,580 INFO Download rate 725.6K/s\n",
      "2022-07-29 13:07:55,628 INFO Downloading https://download-0008-clone.copernicus-climate.eu/cache-compute-0008/cache/data7/adaptor.mars.internal-1659074999.4588718-30859-5-8922d360-bc57-406b-aa44-4b0f896bf665.nc to ./../data/era5/00771X0030_P.nc (183.2K)\n"
     ]
    },
    {
     "name": "stdout",
     "output_type": "stream",
     "text": [
      "2022-07-29 13:07:55.580727 : Fichier 00584X0020_P.nc téléchargé.\n",
      "Fichier 00584X0020_P.nc converti en fichier pickle\n",
      "Fichier ./../data/era5/00584X0020_P.nc.nc supprimé\n"
     ]
    },
    {
     "name": "stderr",
     "output_type": "stream",
     "text": [
      "2022-07-29 13:07:55,695 INFO Download rate 2.7M/s\n",
      "2022-07-29 13:07:55,774 INFO Downloading https://download-0001-clone.copernicus-climate.eu/cache-compute-0001/cache/data9/adaptor.mars.internal-1659075001.597745-12151-12-f4f9c29d-6a84-4fa5-986d-6085b6d076ac.nc to ./../data/era5/01493X0001_P.nc (268.8K)\n"
     ]
    },
    {
     "name": "stdout",
     "output_type": "stream",
     "text": [
      "2022-07-29 13:07:55.696551 : Fichier 00771X0030_P.nc téléchargé.\n",
      "Fichier 00771X0030_P.nc converti en fichier pickle\n",
      "Fichier ./../data/era5/00771X0030_P.nc.nc supprimé\n"
     ]
    },
    {
     "name": "stderr",
     "output_type": "stream",
     "text": [
      "2022-07-29 13:07:55,916 INFO Download rate 1.8M/s\n",
      "2022-07-29 13:07:55,967 INFO Downloading https://download-0018.copernicus-climate.eu/cache-compute-0018/cache/data4/adaptor.mars.internal-1659071892.2278225-22837-7-5d364b92-1776-4de1-806c-f371b1ecdd58.nc to ./../data/era5/02152X0051_P.nc (131.9K)\n"
     ]
    },
    {
     "name": "stdout",
     "output_type": "stream",
     "text": [
      "2022-07-29 13:07:55.917911 : Fichier 01493X0001_P.nc téléchargé.\n",
      "Fichier 01493X0001_P.nc converti en fichier pickle\n",
      "Fichier ./../data/era5/01493X0001_P.nc.nc supprimé\n"
     ]
    },
    {
     "name": "stderr",
     "output_type": "stream",
     "text": [
      "2022-07-29 13:07:56,150 INFO Download rate 726.1K/s\n",
      "2022-07-29 13:07:56,196 INFO Downloading https://download-0000-clone.copernicus-climate.eu/cache-compute-0000/cache/data7/adaptor.mars.internal-1659078084.0646312-22036-1-26555e11-e951-4357-bd95-762c68d0f1d7.nc to ./../data/era5/01227X0022_P.nc (183.2K)\n"
     ]
    },
    {
     "name": "stdout",
     "output_type": "stream",
     "text": [
      "2022-07-29 13:07:56.150373 : Fichier 02152X0051_P.nc téléchargé.\n",
      "Fichier 02152X0051_P.nc converti en fichier pickle\n",
      "Fichier ./../data/era5/02152X0051_P.nc.nc supprimé\n"
     ]
    },
    {
     "name": "stderr",
     "output_type": "stream",
     "text": [
      "2022-07-29 13:07:56,533 INFO Download rate 544.6K/s\n",
      "2022-07-29 13:07:56,583 INFO Downloading https://download-0014-clone.copernicus-climate.eu/cache-compute-0014/cache/data4/adaptor.mars.internal-1659076340.641761-29497-1-da3259df-5bc3-4537-a1ce-1ff0de930176.nc to ./../data/era5/00732X0032_P.nc (131.9K)\n"
     ]
    },
    {
     "name": "stdout",
     "output_type": "stream",
     "text": [
      "2022-07-29 13:07:56.533619 : Fichier 01227X0022_P.nc téléchargé.\n",
      "Fichier 01227X0022_P.nc converti en fichier pickle\n",
      "Fichier ./../data/era5/01227X0022_P.nc.nc supprimé\n"
     ]
    },
    {
     "name": "stderr",
     "output_type": "stream",
     "text": [
      "2022-07-29 13:07:56,741 INFO Download rate 839.7K/s\n",
      "2022-07-29 13:07:56,789 INFO Downloading https://download-0000-clone.copernicus-climate.eu/cache-compute-0000/cache/data9/adaptor.mars.internal-1659075005.6239936-25295-4-ecb1ff26-2703-43e8-a8f4-1af5699f0c62.nc to ./../data/era5/01776X0023_P.nc (140.4K)\n"
     ]
    },
    {
     "name": "stdout",
     "output_type": "stream",
     "text": [
      "2022-07-29 13:07:56.742505 : Fichier 00732X0032_P.nc téléchargé.\n",
      "Fichier 00732X0032_P.nc converti en fichier pickle\n",
      "Fichier ./../data/era5/00732X0032_P.nc.nc supprimé\n"
     ]
    },
    {
     "name": "stderr",
     "output_type": "stream",
     "text": [
      "2022-07-29 13:07:56,887 INFO Download rate 1.4M/s\n",
      "2022-07-29 13:07:56,936 INFO Downloading https://download-0018.copernicus-climate.eu/cache-compute-0018/cache/data1/adaptor.mars.internal-1659077694.1954956-32679-17-04f7db79-de6c-4e02-99e6-ec1c1f719b67.nc to ./../data/era5/00576X0033_P.nc (131.9K)\n"
     ]
    },
    {
     "name": "stdout",
     "output_type": "stream",
     "text": [
      "2022-07-29 13:07:56.888086 : Fichier 01776X0023_P.nc téléchargé.\n",
      "Fichier 01776X0023_P.nc converti en fichier pickle\n",
      "Fichier ./../data/era5/01776X0023_P.nc.nc supprimé\n"
     ]
    },
    {
     "name": "stderr",
     "output_type": "stream",
     "text": [
      "2022-07-29 13:07:57,056 INFO Download rate 1.1M/s\n"
     ]
    },
    {
     "name": "stdout",
     "output_type": "stream",
     "text": [
      "2022-07-29 13:07:57.057827 : Fichier 00576X0033_P.nc téléchargé.\n",
      "Fichier 00576X0033_P.nc converti en fichier pickle\n"
     ]
    },
    {
     "name": "stderr",
     "output_type": "stream",
     "text": [
      "2022-07-29 13:07:57,105 INFO Downloading https://download-0002-clone.copernicus-climate.eu/cache-compute-0002/cache/data7/adaptor.mars.internal-1659076331.4576263-4480-1-0e830c98-9eb9-40a0-9975-142eca663680.nc to ./../data/era5/01803X0004_P.nc (174.6K)\n"
     ]
    },
    {
     "name": "stdout",
     "output_type": "stream",
     "text": [
      "Fichier ./../data/era5/00576X0033_P.nc.nc supprimé\n"
     ]
    },
    {
     "name": "stderr",
     "output_type": "stream",
     "text": [
      "2022-07-29 13:07:57,455 INFO Download rate 500.1K/s\n",
      "2022-07-29 13:07:57,511 INFO Downloading https://download-0011-clone.copernicus-climate.eu/cache-compute-0011/cache/data2/adaptor.mars.internal-1659076338.918712-31543-6-eebc7156-0da8-4017-9763-6688b9eb5302.nc to ./../data/era5/02101X0044_P.nc (131.9K)\n"
     ]
    },
    {
     "name": "stdout",
     "output_type": "stream",
     "text": [
      "2022-07-29 13:07:57.455950 : Fichier 01803X0004_P.nc téléchargé.\n",
      "Fichier 01803X0004_P.nc converti en fichier pickle\n",
      "Fichier ./../data/era5/01803X0004_P.nc.nc supprimé\n"
     ]
    },
    {
     "name": "stderr",
     "output_type": "stream",
     "text": [
      "2022-07-29 13:07:57,630 INFO Download rate 1.1M/s\n"
     ]
    },
    {
     "name": "stdout",
     "output_type": "stream",
     "text": [
      "2022-07-29 13:07:57.630818 : Fichier 02101X0044_P.nc téléchargé.\n",
      "Fichier 02101X0044_P.nc converti en fichier pickle\n"
     ]
    },
    {
     "name": "stderr",
     "output_type": "stream",
     "text": [
      "2022-07-29 13:07:57,680 INFO Downloading https://download-0021.copernicus-climate.eu/cache-compute-0021/cache/data3/adaptor.mars.internal-1659077474.6429214-7143-9-032b74ad-5ead-446e-a9be-a0ca9a3d2f4c.nc to ./../data/era5/00581X0015_P.nc (183.2K)\n"
     ]
    },
    {
     "name": "stdout",
     "output_type": "stream",
     "text": [
      "Fichier ./../data/era5/02101X0044_P.nc.nc supprimé\n"
     ]
    },
    {
     "name": "stderr",
     "output_type": "stream",
     "text": [
      "2022-07-29 13:07:57,910 INFO Download rate 796.1K/s\n",
      "2022-07-29 13:07:57,959 INFO Downloading https://download-0017.copernicus-climate.eu/cache-compute-0017/cache/data3/adaptor.mars.internal-1659076331.581254-19320-8-1a3752ad-2b57-4aad-aa2e-e50d2e4fffb1.nc to ./../data/era5/01011X0045_P.nc (174.6K)\n"
     ]
    },
    {
     "name": "stdout",
     "output_type": "stream",
     "text": [
      "2022-07-29 13:07:57.911806 : Fichier 00581X0015_P.nc téléchargé.\n",
      "Fichier 00581X0015_P.nc converti en fichier pickle\n",
      "Fichier ./../data/era5/00581X0015_P.nc.nc supprimé\n"
     ]
    },
    {
     "name": "stderr",
     "output_type": "stream",
     "text": [
      "2022-07-29 13:07:58,246 INFO Download rate 611.2K/s\n",
      "2022-07-29 13:07:58,295 INFO Downloading https://download-0006-clone.copernicus-climate.eu/cache-compute-0006/cache/data9/adaptor.mars.internal-1659078085.5737166-23966-2-db2b906c-5b90-4122-98a8-76ea7082bfdc.nc to ./../data/era5/01482X0055_P.nc (166.1K)\n"
     ]
    },
    {
     "name": "stdout",
     "output_type": "stream",
     "text": [
      "2022-07-29 13:07:58.247029 : Fichier 01011X0045_P.nc téléchargé.\n",
      "Fichier 01011X0045_P.nc converti en fichier pickle\n",
      "Fichier ./../data/era5/01011X0045_P.nc.nc supprimé\n"
     ]
    },
    {
     "name": "stderr",
     "output_type": "stream",
     "text": [
      "2022-07-29 13:07:58,596 INFO Download rate 553K/s\n",
      "2022-07-29 13:07:58,647 INFO Downloading https://download-0004-clone.copernicus-climate.eu/cache-compute-0004/cache/data1/adaptor.mars.internal-1659077919.0628417-8848-11-05542d60-1462-4c95-95b0-a214dca2dfed.nc to ./../data/era5/01168X0065_P.nc (149K)\n"
     ]
    },
    {
     "name": "stdout",
     "output_type": "stream",
     "text": [
      "2022-07-29 13:07:58.596586 : Fichier 01482X0055_P.nc téléchargé.\n",
      "Fichier 01482X0055_P.nc converti en fichier pickle\n",
      "Fichier ./../data/era5/01482X0055_P.nc.nc supprimé\n"
     ]
    },
    {
     "name": "stderr",
     "output_type": "stream",
     "text": [
      "2022-07-29 13:07:58,898 INFO Download rate 595.1K/s\n",
      "2022-07-29 13:07:58,953 INFO Downloading https://download-0012-clone.copernicus-climate.eu/cache-compute-0012/cache/data8/adaptor.mars.internal-1659079718.26175-12180-11-81a97f8f-8eb1-4ae4-b26c-40e57034ecc5.nc to ./../data/era5/01232X0006_P.nc (140.4K)\n"
     ]
    },
    {
     "name": "stdout",
     "output_type": "stream",
     "text": [
      "2022-07-29 13:07:58.899753 : Fichier 01168X0065_P.nc téléchargé.\n",
      "Fichier 01168X0065_P.nc converti en fichier pickle\n",
      "Fichier ./../data/era5/01168X0065_P.nc.nc supprimé\n"
     ]
    },
    {
     "name": "stderr",
     "output_type": "stream",
     "text": [
      "2022-07-29 13:07:59,269 INFO Download rate 444.9K/s\n",
      "2022-07-29 13:07:59,317 INFO Downloading https://download-0016.copernicus-climate.eu/cache-compute-0016/cache/data4/adaptor.mars.internal-1659079722.200983-485-20-06c06289-8fc7-4c09-984f-9da1449de09d.nc to ./../data/era5/00445X0006_P.nc (174.6K)\n"
     ]
    },
    {
     "name": "stdout",
     "output_type": "stream",
     "text": [
      "2022-07-29 13:07:59.270537 : Fichier 01232X0006_P.nc téléchargé.\n",
      "Fichier 01232X0006_P.nc converti en fichier pickle\n",
      "Fichier ./../data/era5/01232X0006_P.nc.nc supprimé\n"
     ]
    },
    {
     "name": "stderr",
     "output_type": "stream",
     "text": [
      "2022-07-29 13:07:59,612 INFO Download rate 594.7K/s\n",
      "2022-07-29 13:07:59,659 INFO Downloading https://download-0012-clone.copernicus-climate.eu/cache-compute-0012/cache/data3/adaptor.mars.internal-1659079067.9167004-3770-10-f14e2cbd-3cb9-42c3-9e8e-43b017e49ab0.nc to ./../data/era5/00606X0086_P.nc (140.4K)\n"
     ]
    },
    {
     "name": "stdout",
     "output_type": "stream",
     "text": [
      "2022-07-29 13:07:59.612305 : Fichier 00445X0006_P.nc téléchargé.\n",
      "Fichier 00445X0006_P.nc converti en fichier pickle\n",
      "Fichier ./../data/era5/00445X0006_P.nc.nc supprimé\n"
     ]
    },
    {
     "name": "stderr",
     "output_type": "stream",
     "text": [
      "2022-07-29 13:07:59,752 INFO Download rate 1.5M/s\n",
      "2022-07-29 13:07:59,800 INFO Downloading https://download-0003-clone.copernicus-climate.eu/cache-compute-0003/cache/data5/adaptor.mars.internal-1659081073.2755494-13059-3-385d0f3f-15c5-48c4-8364-ea2f7bf56cee.nc to ./../data/era5/00441X0007_P.nc (183.2K)\n"
     ]
    },
    {
     "name": "stdout",
     "output_type": "stream",
     "text": [
      "2022-07-29 13:07:59.752197 : Fichier 00606X0086_P.nc téléchargé.\n",
      "Fichier 00606X0086_P.nc converti en fichier pickle\n",
      "Fichier ./../data/era5/00606X0086_P.nc.nc supprimé\n"
     ]
    },
    {
     "name": "stderr",
     "output_type": "stream",
     "text": [
      "2022-07-29 13:08:00,067 INFO Download rate 689.3K/s\n",
      "2022-07-29 13:08:00,120 INFO Downloading https://download-0001-clone.copernicus-climate.eu/cache-compute-0001/cache/data9/adaptor.mars.internal-1659079727.2831326-540-8-3598d178-18f4-48f0-9214-2649718f261f.nc to ./../data/era5/01186X0007_P.nc (131.8K)\n"
     ]
    },
    {
     "name": "stdout",
     "output_type": "stream",
     "text": [
      "2022-07-29 13:08:00.068018 : Fichier 00441X0007_P.nc téléchargé.\n",
      "Fichier 00441X0007_P.nc converti en fichier pickle\n",
      "Fichier ./../data/era5/00441X0007_P.nc.nc supprimé\n"
     ]
    },
    {
     "name": "stderr",
     "output_type": "stream",
     "text": [
      "2022-07-29 13:08:00,395 INFO Download rate 482.2K/s\n",
      "2022-07-29 13:08:00,447 INFO Downloading https://download-0010-clone.copernicus-climate.eu/cache-compute-0010/cache/data2/adaptor.mars.internal-1659078914.0469048-21823-7-791daccb-bf67-4148-9f1e-c97fa4f38622.nc to ./../data/era5/02473X0037_P.nc (131.9K)\n"
     ]
    },
    {
     "name": "stdout",
     "output_type": "stream",
     "text": [
      "2022-07-29 13:08:00.396150 : Fichier 01186X0007_P.nc téléchargé.\n",
      "Fichier 01186X0007_P.nc converti en fichier pickle\n",
      "Fichier ./../data/era5/01186X0007_P.nc.nc supprimé\n"
     ]
    },
    {
     "name": "stderr",
     "output_type": "stream",
     "text": [
      "2022-07-29 13:08:00,650 INFO Download rate 649.5K/s\n",
      "2022-07-29 13:08:00,722 INFO Downloading https://download-0005-clone.copernicus-climate.eu/cache-compute-0005/cache/data1/adaptor.mars.internal-1659081792.849775-19216-2-4f1e15f4-29ca-4054-a5f7-e9bd4db008ef.nc to ./../data/era5/00588X0037_P.nc (174.6K)\n"
     ]
    },
    {
     "name": "stdout",
     "output_type": "stream",
     "text": [
      "2022-07-29 13:08:00.650013 : Fichier 02473X0037_P.nc téléchargé.\n",
      "Fichier 02473X0037_P.nc converti en fichier pickle\n",
      "Fichier ./../data/era5/02473X0037_P.nc.nc supprimé\n"
     ]
    },
    {
     "name": "stderr",
     "output_type": "stream",
     "text": [
      "2022-07-29 13:08:01,173 INFO Download rate 389.6K/s\n",
      "2022-07-29 13:08:01,229 INFO Downloading https://download-0016.copernicus-climate.eu/cache-compute-0016/cache/data0/adaptor.mars.internal-1659082457.9813473-5014-3-4105a590-2be4-470c-86be-657b133b03ee.nc to ./../data/era5/01465X0067_P.nc (123.3K)\n"
     ]
    },
    {
     "name": "stdout",
     "output_type": "stream",
     "text": [
      "2022-07-29 13:08:01.173144 : Fichier 00588X0037_P.nc téléchargé.\n",
      "Fichier 00588X0037_P.nc converti en fichier pickle\n",
      "Fichier ./../data/era5/00588X0037_P.nc.nc supprimé\n"
     ]
    },
    {
     "name": "stderr",
     "output_type": "stream",
     "text": [
      "2022-07-29 13:08:01,441 INFO Download rate 587.1K/s\n",
      "2022-07-29 13:08:01,507 INFO Downloading https://download-0019.copernicus-climate.eu/cache-compute-0019/cache/data1/adaptor.mars.internal-1659081794.666023-8022-17-b449e05a-1359-407c-ad4d-ea16e0c4ebdf.nc to ./../data/era5/01004X0019_P.nc (157.5K)\n"
     ]
    },
    {
     "name": "stdout",
     "output_type": "stream",
     "text": [
      "2022-07-29 13:08:01.444278 : Fichier 01465X0067_P.nc téléchargé.\n",
      "Fichier 01465X0067_P.nc converti en fichier pickle\n",
      "Fichier ./../data/era5/01465X0067_P.nc.nc supprimé\n"
     ]
    },
    {
     "name": "stderr",
     "output_type": "stream",
     "text": [
      "2022-07-29 13:08:01,726 INFO Download rate 718.9K/s\n",
      "2022-07-29 13:08:01,776 INFO Downloading https://download-0018.copernicus-climate.eu/cache-compute-0018/cache/data3/adaptor.mars.internal-1659084755.5609818-17720-13-7809edfe-42da-4647-9b52-42bb4f240403.nc to ./../data/era5/02523X0029_P.nc (217.4K)\n"
     ]
    },
    {
     "name": "stdout",
     "output_type": "stream",
     "text": [
      "2022-07-29 13:08:01.726604 : Fichier 01004X0019_P.nc téléchargé.\n",
      "Fichier 01004X0019_P.nc converti en fichier pickle\n",
      "Fichier ./../data/era5/01004X0019_P.nc.nc supprimé\n"
     ]
    },
    {
     "name": "stderr",
     "output_type": "stream",
     "text": [
      "2022-07-29 13:08:02,048 INFO Download rate 798.2K/s\n",
      "2022-07-29 13:08:02,097 INFO Downloading https://download-0021.copernicus-climate.eu/cache-compute-0021/cache/data2/adaptor.mars.internal-1659083427.876573-17538-16-8eabfd7b-da58-46d4-ad98-58d8f32e5159.nc to ./../data/era5/00582X0069_P.nc (174.6K)\n"
     ]
    },
    {
     "name": "stdout",
     "output_type": "stream",
     "text": [
      "2022-07-29 13:08:02.048729 : Fichier 02523X0029_P.nc téléchargé.\n",
      "Fichier 02523X0029_P.nc converti en fichier pickle\n",
      "Fichier ./../data/era5/02523X0029_P.nc.nc supprimé\n"
     ]
    },
    {
     "name": "stderr",
     "output_type": "stream",
     "text": [
      "2022-07-29 13:08:02,357 INFO Download rate 671.6K/s\n",
      "2022-07-29 13:08:02,405 INFO Downloading https://download-0018.copernicus-climate.eu/cache-compute-0018/cache/data3/adaptor.mars.internal-1659083240.9481626-23993-1-3bfcc43c-6fa2-4bc2-850c-f77cd61ba516.nc to ./../data/era5/BSS003UJSA_X.nc (114.7K)\n"
     ]
    },
    {
     "name": "stdout",
     "output_type": "stream",
     "text": [
      "2022-07-29 13:08:02.358551 : Fichier 00582X0069_P.nc téléchargé.\n",
      "Fichier 00582X0069_P.nc converti en fichier pickle\n",
      "Fichier ./../data/era5/00582X0069_P.nc.nc supprimé\n"
     ]
    },
    {
     "name": "stderr",
     "output_type": "stream",
     "text": [
      "2022-07-29 13:08:02,486 INFO Download rate 1.4M/s\n",
      "2022-07-29 13:08:02,536 INFO Downloading https://download-0017.copernicus-climate.eu/cache-compute-0017/cache/data0/adaptor.mars.internal-1659081541.7727437-23819-10-695b7182-22fd-42ae-bb63-e1fe9cc7a469.nc to ./../data/era5/BSS003XOOC_X.nc (149K)\n"
     ]
    },
    {
     "name": "stdout",
     "output_type": "stream",
     "text": [
      "2022-07-29 13:08:02.486612 : Fichier BSS003UJSA_X.nc téléchargé.\n",
      "Fichier BSS003UJSA_X.nc converti en fichier pickle\n",
      "Fichier ./../data/era5/BSS003UJSA_X.nc.nc supprimé\n"
     ]
    },
    {
     "name": "stderr",
     "output_type": "stream",
     "text": [
      "2022-07-29 13:08:02,755 INFO Download rate 683.7K/s\n",
      "2022-07-29 13:08:02,816 INFO Downloading https://download-0016.copernicus-climate.eu/cache-compute-0016/cache/data6/adaptor.mars.internal-1659080519.0982833-18730-1-5f69afd8-cb2f-40b3-a11e-850354d89172.nc to ./../data/era5/BSS003UKQC_X.nc (114.7K)\n"
     ]
    },
    {
     "name": "stdout",
     "output_type": "stream",
     "text": [
      "2022-07-29 13:08:02.756600 : Fichier BSS003XOOC_X.nc téléchargé.\n",
      "Fichier BSS003XOOC_X.nc converti en fichier pickle\n",
      "Fichier ./../data/era5/BSS003XOOC_X.nc.nc supprimé\n"
     ]
    },
    {
     "name": "stderr",
     "output_type": "stream",
     "text": [
      "2022-07-29 13:08:03,036 INFO Download rate 521.3K/s\n",
      "2022-07-29 13:08:03,086 INFO Downloading https://download-0017.copernicus-climate.eu/cache-compute-0017/cache/data3/adaptor.mars.internal-1659082124.2859788-31160-12-91756780-aebe-45e7-9e8a-2ec231b35300.nc to ./../data/era5/BSS003UJFE_X.nc (174.7K)\n"
     ]
    },
    {
     "name": "stdout",
     "output_type": "stream",
     "text": [
      "2022-07-29 13:08:03.036457 : Fichier BSS003UKQC_X.nc téléchargé.\n",
      "Fichier BSS003UKQC_X.nc converti en fichier pickle\n",
      "Fichier ./../data/era5/BSS003UKQC_X.nc.nc supprimé\n"
     ]
    },
    {
     "name": "stderr",
     "output_type": "stream",
     "text": [
      "2022-07-29 13:08:03,173 INFO Download rate 2M/s\n",
      "2022-07-29 13:08:03,221 INFO Downloading https://download-0019.copernicus-climate.eu/cache-compute-0019/cache/data3/adaptor.mars.internal-1659084663.406376-12562-3-43eda6fd-7bda-4a8d-9f0a-e244a6258aec.nc to ./../data/era5/BSS003UKJE_X.nc (114.7K)\n"
     ]
    },
    {
     "name": "stdout",
     "output_type": "stream",
     "text": [
      "2022-07-29 13:08:03.174067 : Fichier BSS003UJFE_X.nc téléchargé.\n",
      "Fichier BSS003UJFE_X.nc converti en fichier pickle\n",
      "Fichier ./../data/era5/BSS003UJFE_X.nc.nc supprimé\n"
     ]
    },
    {
     "name": "stderr",
     "output_type": "stream",
     "text": [
      "2022-07-29 13:08:03,382 INFO Download rate 712.7K/s\n",
      "2022-07-29 13:08:03,464 INFO Downloading https://download-0016.copernicus-climate.eu/cache-compute-0016/cache/data4/adaptor.mars.internal-1659083808.7510839-7819-16-e6ccc622-257c-43f0-bf5e-2be68db46b62.nc to ./../data/era5/BSS003VETE_X.nc (123.3K)\n"
     ]
    },
    {
     "name": "stdout",
     "output_type": "stream",
     "text": [
      "2022-07-29 13:08:03.383901 : Fichier BSS003UKJE_X.nc téléchargé.\n",
      "Fichier BSS003UKJE_X.nc converti en fichier pickle\n",
      "Fichier ./../data/era5/BSS003UKJE_X.nc.nc supprimé\n"
     ]
    },
    {
     "name": "stderr",
     "output_type": "stream",
     "text": [
      "2022-07-29 13:08:03,611 INFO Download rate 846.4K/s\n",
      "2022-07-29 13:08:03,662 INFO Downloading https://download-0020.copernicus-climate.eu/cache-compute-0020/cache/data8/adaptor.mars.internal-1659086953.6730316-7361-6-bb72771f-a30a-446d-913d-a3a0cbb76c35.nc to ./../data/era5/BSS003VFXE_X.nc (183.2K)\n"
     ]
    },
    {
     "name": "stdout",
     "output_type": "stream",
     "text": [
      "2022-07-29 13:08:03.612660 : Fichier BSS003VETE_X.nc téléchargé.\n",
      "Fichier BSS003VETE_X.nc converti en fichier pickle\n",
      "Fichier ./../data/era5/BSS003VETE_X.nc.nc supprimé\n"
     ]
    },
    {
     "name": "stderr",
     "output_type": "stream",
     "text": [
      "2022-07-29 13:08:04,014 INFO Download rate 522.3K/s\n",
      "2022-07-29 13:08:04,063 INFO Downloading https://download-0014-clone.copernicus-climate.eu/cache-compute-0014/cache/data3/adaptor.mars.internal-1659086113.3782172-9046-6-c171f45f-c454-49b5-9f17-3bd47bb30d8d.nc to ./../data/era5/BSS003UJOK_X.nc (131.9K)\n"
     ]
    },
    {
     "name": "stdout",
     "output_type": "stream",
     "text": [
      "2022-07-29 13:08:04.015258 : Fichier BSS003VFXE_X.nc téléchargé.\n",
      "Fichier BSS003VFXE_X.nc converti en fichier pickle\n",
      "Fichier ./../data/era5/BSS003VFXE_X.nc.nc supprimé\n"
     ]
    },
    {
     "name": "stderr",
     "output_type": "stream",
     "text": [
      "2022-07-29 13:08:04,312 INFO Download rate 533.6K/s\n",
      "2022-07-29 13:08:04,360 INFO Downloading https://download-0013-clone.copernicus-climate.eu/cache-compute-0013/cache/data3/adaptor.mars.internal-1659084957.8842995-28882-18-cab13c99-2b67-4a26-b2b1-6e196e812085.nc to ./../data/era5/BSS003VEVM_X.nc (123.3K)\n"
     ]
    },
    {
     "name": "stdout",
     "output_type": "stream",
     "text": [
      "2022-07-29 13:08:04.313099 : Fichier BSS003UJOK_X.nc téléchargé.\n",
      "Fichier BSS003UJOK_X.nc converti en fichier pickle\n",
      "Fichier ./../data/era5/BSS003UJOK_X.nc.nc supprimé\n"
     ]
    },
    {
     "name": "stderr",
     "output_type": "stream",
     "text": [
      "2022-07-29 13:08:04,580 INFO Download rate 563.3K/s\n",
      "2022-07-29 13:08:04,631 INFO Downloading https://download-0001-clone.copernicus-climate.eu/cache-compute-0001/cache/data4/adaptor.mars.internal-1659084598.8546584-15594-1-796dff5a-ce09-48b3-8be8-27a96c61dbb4.nc to ./../data/era5/BSS003UJHQ_X.nc (89.1K)\n"
     ]
    },
    {
     "name": "stdout",
     "output_type": "stream",
     "text": [
      "2022-07-29 13:08:04.581436 : Fichier BSS003VEVM_X.nc téléchargé.\n",
      "Fichier BSS003VEVM_X.nc converti en fichier pickle\n",
      "Fichier ./../data/era5/BSS003VEVM_X.nc.nc supprimé\n"
     ]
    },
    {
     "name": "stderr",
     "output_type": "stream",
     "text": [
      "2022-07-29 13:08:04,827 INFO Download rate 457.1K/s\n",
      "2022-07-29 13:08:04,875 INFO Downloading https://download-0001-clone.copernicus-climate.eu/cache-compute-0001/cache/data1/adaptor.mars.internal-1659083722.1115837-29508-9-cfd94504-65be-48f2-8fc6-4e1ae423e1ae.nc to ./../data/era5/BSS003VEUS_X.nc (123.3K)\n"
     ]
    },
    {
     "name": "stdout",
     "output_type": "stream",
     "text": [
      "2022-07-29 13:08:04.827327 : Fichier BSS003UJHQ_X.nc téléchargé.\n",
      "Fichier BSS003UJHQ_X.nc converti en fichier pickle\n",
      "Fichier ./../data/era5/BSS003UJHQ_X.nc.nc supprimé\n"
     ]
    },
    {
     "name": "stderr",
     "output_type": "stream",
     "text": [
      "2022-07-29 13:08:04,960 INFO Download rate 1.4M/s\n",
      "2022-07-29 13:08:05,031 INFO Downloading https://download-0013-clone.copernicus-climate.eu/cache-compute-0013/cache/data5/adaptor.mars.internal-1659084579.7956202-21184-17-b3488232-daff-41ab-875b-629ac35e82f2.nc to ./../data/era5/BSS003UKJY_X.nc (106.2K)\n"
     ]
    },
    {
     "name": "stdout",
     "output_type": "stream",
     "text": [
      "2022-07-29 13:08:04.962513 : Fichier BSS003VEUS_X.nc téléchargé.\n",
      "Fichier BSS003VEUS_X.nc converti en fichier pickle\n",
      "Fichier ./../data/era5/BSS003VEUS_X.nc.nc supprimé\n"
     ]
    },
    {
     "name": "stderr",
     "output_type": "stream",
     "text": [
      "2022-07-29 13:08:05,171 INFO Download rate 769K/s\n",
      "2022-07-29 13:08:05,230 INFO Downloading https://download-0015-clone.copernicus-climate.eu/cache-compute-0015/cache/data8/adaptor.mars.internal-1659087569.4310803-6255-10-bcf67594-85db-41e2-966b-f9a50124d883.nc to ./../data/era5/BSS003VETY_X.nc (208.9K)\n"
     ]
    },
    {
     "name": "stdout",
     "output_type": "stream",
     "text": [
      "2022-07-29 13:08:05.171369 : Fichier BSS003UKJY_X.nc téléchargé.\n",
      "Fichier BSS003UKJY_X.nc converti en fichier pickle\n",
      "Fichier ./../data/era5/BSS003UKJY_X.nc.nc supprimé\n"
     ]
    },
    {
     "name": "stderr",
     "output_type": "stream",
     "text": [
      "2022-07-29 13:08:05,593 INFO Download rate 576.6K/s\n",
      "2022-07-29 13:08:05,644 INFO Downloading https://download-0019.copernicus-climate.eu/cache-compute-0019/cache/data7/adaptor.mars.internal-1659087263.63589-14552-15-b7c1b811-178d-4a70-8d6c-9bbfb95902e2.nc to ./../data/era5/BSS003VFXY_X.nc (174.6K)\n"
     ]
    },
    {
     "name": "stdout",
     "output_type": "stream",
     "text": [
      "2022-07-29 13:08:05.594515 : Fichier BSS003VETY_X.nc téléchargé.\n",
      "Fichier BSS003VETY_X.nc converti en fichier pickle\n",
      "Fichier ./../data/era5/BSS003VETY_X.nc.nc supprimé\n"
     ]
    },
    {
     "name": "stderr",
     "output_type": "stream",
     "text": [
      "2022-07-29 13:08:05,810 INFO Download rate 1M/s\n",
      "2022-07-29 13:08:05,867 INFO Downloading https://download-0012-clone.copernicus-climate.eu/cache-compute-0012/cache/data8/adaptor.mars.internal-1659088573.481709-22828-11-290f62a8-c135-4362-bae9-87dde5cf0782.nc to ./../data/era5/00955X0066_PZ.nc (114.7K)\n"
     ]
    },
    {
     "name": "stdout",
     "output_type": "stream",
     "text": [
      "2022-07-29 13:08:05.810642 : Fichier BSS003VFXY_X.nc téléchargé.\n",
      "Fichier BSS003VFXY_X.nc converti en fichier pickle\n",
      "Fichier ./../data/era5/BSS003VFXY_X.nc.nc supprimé\n"
     ]
    },
    {
     "name": "stderr",
     "output_type": "stream",
     "text": [
      "2022-07-29 13:08:06,114 INFO Download rate 464.1K/s\n",
      "2022-07-29 13:08:06,161 INFO Downloading https://download-0009-clone.copernicus-climate.eu/cache-compute-0009/cache/data8/adaptor.mars.internal-1659087773.26424-1127-7-5dfff1cc-7a70-47c9-a995-e302f3f7062f.nc to ./../data/era5/02891X0007_PZ.nc (157.5K)\n"
     ]
    },
    {
     "name": "stdout",
     "output_type": "stream",
     "text": [
      "2022-07-29 13:08:06.115666 : Fichier 00955X0066_PZ.nc téléchargé.\n",
      "Fichier 00955X0066_PZ.nc converti en fichier pickle\n",
      "Fichier ./../data/era5/00955X0066_PZ.nc.nc supprimé\n"
     ]
    },
    {
     "name": "stderr",
     "output_type": "stream",
     "text": [
      "2022-07-29 13:08:06,506 INFO Download rate 458.2K/s\n",
      "2022-07-29 13:08:06,583 INFO Downloading https://download-0009-clone.copernicus-climate.eu/cache-compute-0009/cache/data3/adaptor.mars.internal-1659087673.5172863-26173-3-dc4b6bae-e625-46bf-b5fa-0fab9fdf7540.nc to ./../data/era5/02531X0029_PZ.nc (183.2K)\n"
     ]
    },
    {
     "name": "stdout",
     "output_type": "stream",
     "text": [
      "2022-07-29 13:08:06.507276 : Fichier 02891X0007_PZ.nc téléchargé.\n",
      "Fichier 02891X0007_PZ.nc converti en fichier pickle\n",
      "Fichier ./../data/era5/02891X0007_PZ.nc.nc supprimé\n"
     ]
    },
    {
     "name": "stderr",
     "output_type": "stream",
     "text": [
      "2022-07-29 13:08:06,687 INFO Download rate 1.7M/s\n"
     ]
    },
    {
     "name": "stdout",
     "output_type": "stream",
     "text": [
      "2022-07-29 13:08:06.689588 : Fichier 02531X0029_PZ.nc téléchargé.\n",
      "Fichier 02531X0029_PZ.nc converti en fichier pickle\n",
      "Fichier ./../data/era5/02531X0029_PZ.nc.nc supprimé\n",
      "149 fichiers ont été téléchargés.\n",
      "Connexion réussie à SQLite\n",
      "Connexion SQLite est fermée\n",
      "Base de données à jour\n"
     ]
    }
   ],
   "source": [
    "# Chargement du dictionnaire à partir du csv d'historiques de requetes\n",
    "with open('../data/hist_requetes.csv', mode='r') as f:\n",
    "    reader = csv.reader(f, delimiter=\";\")\n",
    "    # Permet de sortir la ligne d'en-tête du dictionnaire\n",
    "    headings = next(reader)\n",
    "    dict_bss_from_csv = {rows[0]:rows[1] for rows in reader}\n",
    "\n",
    "nbre_fichier_OK = 0\n",
    "\n",
    "    \n",
    "for piezo in dict_bss_from_csv.copy().keys():\n",
    "    path_piezo = '../data/era5/' + piezo\n",
    "    path_nc = f\"./{path_piezo}.nc\"\n",
    "    path_pkl = f\"{path_piezo}.pkl\"\n",
    "\n",
    "    if not os.path.isfile(path_nc) :\n",
    "        try:\n",
    "            reply = dict(request_id=dict_bss_from_csv[piezo]) # request_id from above\n",
    "            new_client = cdsapi.Client(wait_until_complete=False, delete=False)\n",
    "            result = cdsapi.api.Result(new_client, reply)\n",
    "            result.update()\n",
    "            reply = result.reply\n",
    "            if reply['state'] == 'completed':\n",
    "                nbre_fichier_OK += 1\n",
    "                result.download(path_nc)\n",
    "                print(f\"{datetime.now()} : Fichier {piezo}.nc téléchargé.\")\n",
    "                df = xr.open_dataset(path_nc).to_dataframe().reset_index().to_pickle(path=path_pkl)\n",
    "                print(f\"Fichier {piezo}.nc converti en fichier pickle\")\n",
    "                os.remove(path_nc)\n",
    "                print(f\"Fichier {path_nc}.nc supprimé\")\n",
    "                # Si le fichier a été téléchargé on le supprime de la liste du dictionnaire\n",
    "                del dict_bss[piezo]\n",
    "        except:\n",
    "            #print(f\"Récupération de l'ID {dict_bss_from_csv[piezo]} impossible.\")\n",
    "            pass\n",
    "if nbre_fichier_OK == 0:\n",
    "    print(\"Aucun fichier de récupéré.\")\n",
    "else :\n",
    "    print(f\"{nbre_fichier_OK} fichiers ont été téléchargés.\")\n",
    "\n",
    "# Mise à jour de la base de donnéees (champ fichier_ERA5)\n",
    "bss_era5 = pd.Series([_.replace(\".pkl\",\"\") for _ in os.listdir(r\"../data/era5\") if _.endswith(r\".pkl\")], name=\"era5\")\n",
    "requete_fichier_era5 = f\"\"\"\n",
    "        UPDATE data_piezo\n",
    "        SET fichier_era5 =\n",
    "        (CASE WHEN code_bss IN {tuple(bss_era5)}\n",
    "        THEN 1 ELSE 0 END)\n",
    "        \"\"\"\n",
    "requete_sql(requete_fichier_era5)\n",
    "print(\"Base de données à jour\")"
   ]
  },
  {
   "cell_type": "markdown",
   "id": "af78191b",
   "metadata": {},
   "source": [
    "## Jointure era5 et piezo"
   ]
  },
  {
   "cell_type": "code",
   "execution_count": 8,
   "id": "2354dde5",
   "metadata": {},
   "outputs": [
    {
     "name": "stdout",
     "output_type": "stream",
     "text": [
      "Le fichier comb_00435X0079_S1.csv a été créé et contient 11323 obseravtions.\n",
      "Le fichier comb_00441X0007_P.csv a été créé et contient 7522 obseravtions.\n",
      "Le fichier comb_00445X0006_P.csv a été créé et contient 7248 obseravtions.\n",
      "Le fichier comb_00576X0033_P.csv a été créé et contient 5185 obseravtions.\n",
      "Le fichier comb_00581X0015_P.csv a été créé et contient 7606 obseravtions.\n",
      "Le fichier comb_00582X0069_P.csv a été créé et contient 7158 obseravtions.\n",
      "Le fichier comb_00583X0005_S1.csv a été créé et contient 11323 obseravtions.\n",
      "Le fichier comb_00584X0020_P.csv a été créé et contient 5784 obseravtions.\n",
      "Le fichier comb_00588X0037_P.csv a été créé et contient 7262 obseravtions.\n",
      "Le fichier comb_00597X0007_S1.csv a été créé et contient 11323 obseravtions.\n",
      "Le fichier comb_00603X0003_S1.csv a été créé et contient 11323 obseravtions.\n",
      "Le fichier comb_00606X0086_P.csv a été créé et contient 5744 obseravtions.\n",
      "Le fichier comb_00608X0206_S1.csv a été créé et contient 11323 obseravtions.\n",
      "Le fichier comb_00732X0032_P.csv a été créé et contient 5440 obseravtions.\n",
      "Le fichier comb_00748X0008_S1.csv a été créé et contient 11323 obseravtions.\n",
      "Le fichier comb_00751X0004_S1.csv a été créé et contient 11323 obseravtions.\n",
      "Le fichier comb_00755X0006_S1.csv a été créé et contient 11323 obseravtions.\n",
      "Le fichier comb_00762X0004_S1.csv a été créé et contient 11323 obseravtions.\n",
      "Le fichier comb_00765X0003_F.csv a été créé et contient 6531 obseravtions.\n",
      "Le fichier comb_00765X0124_BT2.csv a été créé et contient 5870 obseravtions.\n",
      "Le fichier comb_00771X0030_P.csv a été créé et contient 7358 obseravtions.\n",
      "Le fichier comb_00773X0002_S1.csv a été créé et contient 11323 obseravtions.\n",
      "Le fichier comb_00775X0099_F14.csv a été créé et contient 11323 obseravtions.\n",
      "Le fichier comb_00776X0096_S1.csv a été créé et contient 11323 obseravtions.\n",
      "Le fichier comb_00777X0008_S1.csv a été créé et contient 11323 obseravtions.\n",
      "Le fichier comb_00937X0030_F4.csv a été créé et contient 7344 obseravtions.\n",
      "Le fichier comb_00941X0034_S-2.csv a été créé et contient 7344 obseravtions.\n",
      "Le fichier comb_00945X0064_F.csv a été créé et contient 5468 obseravtions.\n",
      "Le fichier comb_00955X0066_PZ.csv a été créé et contient 4505 obseravtions.\n",
      "Le fichier comb_00956X0055_S1.csv a été créé et contient 11323 obseravtions.\n",
      "Le fichier comb_00974X0128_PZ1908.csv a été créé et contient 5870 obseravtions.\n",
      "Le fichier comb_00987X0009_S1.csv a été créé et contient 11323 obseravtions.\n",
      "Le fichier comb_00992X0058_S1.csv a été créé et contient 11323 obseravtions.\n",
      "Le fichier comb_00993X0002_S1.csv a été créé et contient 11323 obseravtions.\n",
      "Le fichier comb_01002X0003_S1.csv a été créé et contient 11323 obseravtions.\n",
      "Le fichier comb_01003X0008_S1.csv a été créé et contient 11323 obseravtions.\n",
      "Le fichier comb_01004X0003_S1.csv a été créé et contient 11323 obseravtions.\n",
      "Le fichier comb_01004X0019_P.csv a été créé et contient 6562 obseravtions.\n",
      "Le fichier comb_01008X0018_S1.csv a été créé et contient 11323 obseravtions.\n",
      "Le fichier comb_01011X0045_P.csv a été créé et contient 7262 obseravtions.\n",
      "Le fichier comb_01017X0074_S1.csv a été créé et contient 11323 obseravtions.\n",
      "Le fichier comb_01168X0065_P.csv a été créé et contient 6126 obseravtions.\n",
      "Le fichier comb_01176X0061_F.csv a été créé et contient 7317 obseravtions.\n",
      "Le fichier comb_01186X0007_P.csv a été créé et contient 5458 obseravtions.\n",
      "Le fichier comb_01191X0004_S1.csv a été créé et contient 11323 obseravtions.\n",
      "Le fichier comb_01192X0043_S1.csv a été créé et contient 11323 obseravtions.\n",
      "Le fichier comb_01194X0069_S1.csv a été créé et contient 11323 obseravtions.\n",
      "Le fichier comb_01194X0149_FEA7.csv a été créé et contient 11323 obseravtions.\n",
      "Le fichier comb_01195X0200_F2.csv a été créé et contient 5665 obseravtions.\n",
      "Le fichier comb_01198X0029_S8.csv a été créé et contient 11323 obseravtions.\n",
      "Le fichier comb_01201X0108_S1.csv a été créé et contient 11323 obseravtions.\n",
      "Le fichier comb_01206X0009_S1.csv a été créé et contient 11322 obseravtions.\n",
      "Le fichier comb_01211X0037_S1.csv a été créé et contient 11323 obseravtions.\n",
      "Le fichier comb_01227X0022_P.csv a été créé et contient 7576 obseravtions.\n",
      "Le fichier comb_01227X0038_S22.csv a été créé et contient 11323 obseravtions.\n",
      "Le fichier comb_01232X0006_P.csv a été créé et contient 5784 obseravtions.\n",
      "Le fichier comb_01234X0297_F2.csv a été créé et contient 5310 obseravtions.\n",
      "Le fichier comb_01242X0530_FN3.csv a été créé et contient 5105 obseravtions.\n",
      "Le fichier comb_01252X0011_S1.csv a été créé et contient 11323 obseravtions.\n",
      "Le fichier comb_01256X0002_S1.csv a été créé et contient 11323 obseravtions.\n",
      "Le fichier comb_01423X0044_F4.csv a été créé et contient 6078 obseravtions.\n",
      "Le fichier comb_01446X0005_S3-91.csv a été créé et contient 7219 obseravtions.\n",
      "Le fichier comb_01462X0079_S1.csv a été créé et contient 11323 obseravtions.\n",
      "Le fichier comb_01465X0067_P.csv a été créé et contient 5015 obseravtions.\n",
      "Le fichier comb_01473X0087_S1.csv a été créé et contient 11323 obseravtions.\n",
      "Le fichier comb_01482X0055_P.csv a été créé et contient 6920 obseravtions.\n",
      "Le fichier comb_01487X0001_S1.csv a été créé et contient 11323 obseravtions.\n",
      "Le fichier comb_01492X0012_S1.csv a été créé et contient 11322 obseravtions.\n",
      "Le fichier comb_01493X0001_P.csv a été créé et contient 11323 obseravtions.\n",
      "Le fichier comb_01506X0016_P1.csv a été créé et contient 7345 obseravtions.\n",
      "Le fichier comb_01508X0100_P.csv a été créé et contient 7285 obseravtions.\n",
      "Le fichier comb_01508X0133_S1.csv a été créé et contient 11323 obseravtions.\n",
      "Le fichier comb_01511X0188_F.csv a été créé et contient 4775 obseravtions.\n",
      "Le fichier comb_01515X2015_S1.csv a été créé et contient 11323 obseravtions.\n",
      "Le fichier comb_01756X0008_S1.csv a été créé et contient 8959 obseravtions.\n",
      "Le fichier comb_01764X0012_F3.csv a été créé et contient 5363 obseravtions.\n",
      "Le fichier comb_01768X0022_S2.csv a été créé et contient 8783 obseravtions.\n",
      "Le fichier comb_01776X0023_P.csv a été créé et contient 5785 obseravtions.\n",
      "Le fichier comb_01778X0015_F.csv a été créé et contient 7636 obseravtions.\n",
      "Le fichier comb_01792X0020_PZ2.csv a été créé et contient 6918 obseravtions.\n",
      "Le fichier comb_01794X0035_S1.csv a été créé et contient 11323 obseravtions.\n",
      "Le fichier comb_01795X0011_S1.csv a été créé et contient 11323 obseravtions.\n",
      "Le fichier comb_01803X0004_P.csv a été créé et contient 7157 obseravtions.\n",
      "Le fichier comb_01807X0051_S1.csv a été créé et contient 11323 obseravtions.\n",
      "Le fichier comb_02101X0044_P.csv a été créé et contient 5402 obseravtions.\n",
      "Le fichier comb_02131X0018_S4.csv a été créé et contient 9029 obseravtions.\n",
      "Le fichier comb_02131X0019_S8.csv a été créé et contient 9037 obseravtions.\n",
      "Le fichier comb_02133X0008_S1-92.csv a été créé et contient 9029 obseravtions.\n",
      "Le fichier comb_02135X0016_S4.csv a été créé et contient 7362 obseravtions.\n",
      "Le fichier comb_02144X0005_S1.csv a été créé et contient 11323 obseravtions.\n",
      "Le fichier comb_02152X0051_P.csv a été créé et contient 5426 obseravtions.\n",
      "Le fichier comb_02155X1040_F.csv a été créé et contient 7222 obseravtions.\n",
      "Le fichier comb_02473X0037_P.csv a été créé et contient 5457 obseravtions.\n",
      "Le fichier comb_02503X0011_FO.csv a été créé et contient 8534 obseravtions.\n",
      "Le fichier comb_02523X0002_S2.csv a été créé et contient 11323 obseravtions.\n",
      "Le fichier comb_02523X0029_P.csv a été créé et contient 9029 obseravtions.\n",
      "Le fichier comb_02527X0009_S1.csv a été créé et contient 7729 obseravtions.\n",
      "Le fichier comb_02531X0001_F.csv a été créé et contient 11323 obseravtions.\n",
      "Le fichier comb_02531X0029_PZ.csv a été créé et contient 7575 obseravtions.\n",
      "Le fichier comb_02535X0012_S1.csv a été créé et contient 7182 obseravtions.\n",
      "Le fichier comb_02535X0018_FE1-93.csv a été créé et contient 7902 obseravtions.\n",
      "Le fichier comb_02883X0017_F3.csv a été créé et contient 8143 obseravtions.\n",
      "Le fichier comb_02883X0018_FE2.csv a été créé et contient 8693 obseravtions.\n",
      "Le fichier comb_02891X0007_PZ.csv a été créé et contient 6347 obseravtions.\n",
      "Le fichier comb_02895X0004_FE1-92.csv a été créé et contient 7946 obseravtions.\n",
      "Le fichier comb_BSS003UJFE_X.csv a été créé et contient 7202 obseravtions.\n",
      "Le fichier comb_BSS003UJHQ_X.csv a été créé et contient 3351 obseravtions.\n",
      "Le fichier comb_BSS003UJOK_X.csv a été créé et contient 5382 obseravtions.\n",
      "Le fichier comb_BSS003UJSA_X.csv a été créé et contient 4605 obseravtions.\n",
      "Le fichier comb_BSS003UKJE_X.csv a été créé et contient 4403 obseravtions.\n",
      "Le fichier comb_BSS003UKJY_X.csv a été créé et contient 4038 obseravtions.\n",
      "Le fichier comb_BSS003UKQC_X.csv a été créé et contient 4605 obseravtions.\n",
      "Le fichier comb_BSS003VETE_X.csv a été créé et contient 4817 obseravtions.\n",
      "Le fichier comb_BSS003VETY_X.csv a été créé et contient 8715 obseravtions.\n",
      "Le fichier comb_BSS003VEUS_X.csv a été créé et contient 5080 obseravtions.\n",
      "Le fichier comb_BSS003VEVM_X.csv a été créé et contient 4985 obseravtions.\n",
      "Le fichier comb_BSS003VFXE_X.csv a été créé et contient 7393 obseravtions.\n",
      "Le fichier comb_BSS003VFXY_X.csv a été créé et contient 7069 obseravtions.\n",
      "Le fichier comb_BSS003XOOC_X.csv a été créé et contient 5872 obseravtions.\n",
      "Connexion réussie à SQLite\n",
      "Connexion SQLite est fermée\n",
      "Base de données à jour\n"
     ]
    }
   ],
   "source": [
    "bss_era5 = pd.Series([_.replace(\".pkl\",\"\") for _ in os.listdir(r\"../data/era5\") if _.endswith(r\".pkl\")], name=\"era5\")\n",
    "bss_piezo = pd.Series([_.replace(\".csv\",\"\") for _ in os.listdir(r\"../data/piezo\") if _.endswith(r\".csv\")], name=\"piezo\")\n",
    "piezos_communs = np.intersect1d(bss_era5, bss_piezo)\n",
    "\n",
    "path = \"../data/combined_data/\"\n",
    "# Le fichier doit avoir un minimum de 100 mesures\n",
    "nb_min_val_com = 100\n",
    "\n",
    "for piezo in piezos_communs :\n",
    "    if not os.path.isfile(f'{path}/comb_{piezo}.csv') : #si le fichier n'existe pas \n",
    "        df_piezo = pd.read_csv(f\"../data/piezo/{piezo}.csv\", sep = \";\", index_col=0, parse_dates=True)\n",
    "        # Group_by date_mesure dans le cas de plusieurs mesures le même jour ce qui provoquerait une erreur\n",
    "        df_piezo = pd.DataFrame(df_piezo.groupby(\"date_mesure\").mean())\n",
    "        df_piezo = df_piezo.resample('1D').asfreq()\n",
    "        df_era5 = pd.read_pickle(f\"../data/era5/{piezo}.pkl\").set_index('time').drop([\"latitude\", \"longitude\"], axis=1)\n",
    "        if \"expver\" in df_era5.columns :\n",
    "            df_era5 = df_era5.loc[df_era5[\"expver\"]==1,:].drop(\"expver\", axis=1)\n",
    "        df = pd.merge(df_piezo, df_era5, how='inner', left_index=True, right_index=True)\n",
    "        nb_com_obs = df.shape[0]\n",
    "        if nb_com_obs >= nb_min_val_com :\n",
    "            df.to_csv(f\"../data/combined_data/comb_{piezo}.csv\" ,sep=\";\", index=True)\n",
    "            print(f\"Le fichier comb_{piezo}.csv a été créé et contient {nb_com_obs} obseravtions.\")\n",
    "        else :\n",
    "            print(f\"Le piezo {piezo} ne contient pas assez de données (seulement {nb_com_obs}).\")\n",
    "    else : \n",
    "        #print(f\"Le fichier comb_{piezo}.csv existe déjà.\")\n",
    "        pass\n",
    "        \n",
    "# Mise à jour bdd\n",
    "requete_fichier_combined = f\"\"\"\n",
    "        UPDATE data_piezo\n",
    "        SET fichier_combined =\n",
    "        (CASE WHEN code_bss IN {tuple(piezos_communs)}\n",
    "        THEN 1 ELSE 0 END)\n",
    "        \"\"\"\n",
    "requete_sql(requete_fichier_combined)\n",
    "print(\"Base de données à jour\")"
   ]
  },
  {
   "cell_type": "markdown",
   "id": "3bae835b",
   "metadata": {},
   "source": [
    "# Récupération manuelle"
   ]
  },
  {
   "cell_type": "code",
   "execution_count": null,
   "id": "62b4b001",
   "metadata": {},
   "outputs": [],
   "source": [
    "reply = dict(request_id=\"54c52ee3-eee4-481d-b72e-fecd315085cb\")\n",
    "new_client = cdsapi.Client(wait_until_complete=False, delete=False)\n",
    "result = cdsapi.api.Result(new_client, reply)\n",
    "result.update()\n",
    "reply = result.reply\n",
    "if reply['state'] == 'completed':\n",
    "    result.download('file.nc')"
   ]
  },
  {
   "cell_type": "code",
   "execution_count": null,
   "id": "f6167cbe",
   "metadata": {},
   "outputs": [],
   "source": []
  },
  {
   "cell_type": "code",
   "execution_count": null,
   "id": "29a97bed",
   "metadata": {},
   "outputs": [],
   "source": []
  },
  {
   "cell_type": "code",
   "execution_count": null,
   "id": "65078627",
   "metadata": {},
   "outputs": [],
   "source": []
  },
  {
   "cell_type": "code",
   "execution_count": null,
   "id": "eb0c36e3",
   "metadata": {},
   "outputs": [],
   "source": []
  },
  {
   "cell_type": "code",
   "execution_count": null,
   "id": "6415ca95",
   "metadata": {},
   "outputs": [],
   "source": [
    "requete_fichier_era5 = f\"\"\"\n",
    "        UPDATE data_piezo\n",
    "        SET fichier_era5 =\n",
    "        (CASE WHEN code_bss IN {tuple(bss_era5)}\n",
    "        THEN 1 ELSE 0 END)\n",
    "        \"\"\"\n",
    "requete_sql(requete_fichier_era5)"
   ]
  },
  {
   "cell_type": "code",
   "execution_count": null,
   "id": "29e4abf1",
   "metadata": {},
   "outputs": [],
   "source": [
    "update table set\n",
    "    columnx = (case when condition then 25 else columnx end)"
   ]
  }
 ],
 "metadata": {
  "kernelspec": {
   "display_name": "Python 3.9.12 ('Environnement')",
   "language": "python",
   "name": "python3"
  },
  "language_info": {
   "codemirror_mode": {
    "name": "ipython",
    "version": 3
   },
   "file_extension": ".py",
   "mimetype": "text/x-python",
   "name": "python",
   "nbconvert_exporter": "python",
   "pygments_lexer": "ipython3",
   "version": "3.9.12"
  },
  "toc": {
   "base_numbering": 1,
   "nav_menu": {},
   "number_sections": true,
   "sideBar": true,
   "skip_h1_title": false,
   "title_cell": "Table of Contents",
   "title_sidebar": "Contents",
   "toc_cell": false,
   "toc_position": {},
   "toc_section_display": true,
   "toc_window_display": true
  },
  "varInspector": {
   "cols": {
    "lenName": 16,
    "lenType": 16,
    "lenVar": 40
   },
   "kernels_config": {
    "python": {
     "delete_cmd_postfix": "",
     "delete_cmd_prefix": "del ",
     "library": "var_list.py",
     "varRefreshCmd": "print(var_dic_list())"
    },
    "r": {
     "delete_cmd_postfix": ") ",
     "delete_cmd_prefix": "rm(",
     "library": "var_list.r",
     "varRefreshCmd": "cat(var_dic_list()) "
    }
   },
   "position": {
    "height": "144.83px",
    "left": "1377.45px",
    "right": "20px",
    "top": "119px",
    "width": "350px"
   },
   "types_to_exclude": [
    "module",
    "function",
    "builtin_function_or_method",
    "instance",
    "_Feature"
   ],
   "window_display": false
  },
  "vscode": {
   "interpreter": {
    "hash": "2dfb2cdc5a66704987030b4dc23d2cd5620135f4594b4dd478fbde6022de787c"
   }
  }
 },
 "nbformat": 4,
 "nbformat_minor": 5
}
