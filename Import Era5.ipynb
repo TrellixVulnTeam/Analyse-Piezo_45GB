{
 "cells": [
  {
   "cell_type": "code",
   "execution_count": 1,
   "id": "c26f94a7",
   "metadata": {},
   "outputs": [],
   "source": [
    "import requests\n",
    "import pandas as pd\n",
    "import numpy as np\n",
    "import xarray as xr\n",
    "import sqlite3\n",
    "import os\n",
    "from datetime import datetime\n",
    "import cdsapi\n",
    "import csv"
   ]
  },
  {
   "cell_type": "code",
   "execution_count": 2,
   "id": "4f820390",
   "metadata": {},
   "outputs": [],
   "source": [
    "def requete_sql (requete) :\n",
    "    try:\n",
    "        connexion = sqlite3.connect('./data/liste_piezos.db')\n",
    "        curseur = connexion.cursor()\n",
    "        print(\"Connexion réussie à SQLite\")\n",
    "        curseur.execute(requete)\n",
    "        connexion.commit()\n",
    "        resultat = curseur.fetchall()\n",
    "        curseur.close()\n",
    "        connexion.close()\n",
    "        print(\"Connexion SQLite est fermée\")\n",
    "        return resultat\n",
    "    except sqlite3.Error as error:\n",
    "        print(\"Erreur lors du mis à jour dans la table : \", error)"
   ]
  },
  {
   "cell_type": "markdown",
   "id": "db7a3d04",
   "metadata": {},
   "source": [
    "# Fonction pour lancer les requêtes"
   ]
  },
  {
   "cell_type": "code",
   "execution_count": 10,
   "id": "4c81e2f6",
   "metadata": {},
   "outputs": [],
   "source": [
    "def get_on_cds_api(dataframe_piezo, piezo, path):\n",
    "    # Initialisation de la connexion à l'API CDS\n",
    "    # wait_until_complete = False : le programme Python n'attend pas que l'API réponde (issu de la libraie asyncio)\n",
    "    # delete = False : le fichier créé sur le serveur source n'est pas supprimé automatiquement \n",
    "    \n",
    "    date_debut = dataframe_piezo.loc[piezo,'date_debut'].year\n",
    "    date_fin = dataframe_piezo.loc[piezo,'date_fin'].year\n",
    "    \n",
    "    # La limite du nombre de données est de 120000. Avec 10 variables, 31 jours, et 12 mois, on n epeut récupérer que 32 années.\n",
    "    # Si l'interval d'année est supérieur à 32, on réduit la plage de temps à date de fin - 31 ans pour avoir 32 années max.\n",
    "    if date_fin - date_debut >= 32:\n",
    "        date_debut = date_fin - 31\n",
    "    \n",
    "    c = cdsapi.Client(wait_until_complete=False, delete=False)\n",
    "    \n",
    "    # Données à récupérer auprès de l'API\n",
    "    r = c.retrieve(\n",
    "            'reanalysis-era5-single-levels',\n",
    "            {\n",
    "                'product_type': 'reanalysis',\n",
    "                'format': 'netcdf',\n",
    "                'variable': [\n",
    "                    '2m_temperature', 'convective_precipitation', 'convective_rain_rate',\n",
    "                    'convective_snowfall', 'large_scale_rain_rate', 'large_scale_snowfall', 'snowfall',\n",
    "                    'large_scale_snowfall_rate_water_equivalent', 'potential_evaporation',\n",
    "                    'total_precipitation',\n",
    "                ],\n",
    "                'year': [str(date) for date in (np.arange(date_debut, date_fin))],\n",
    "                'month': [\n",
    "                    '01', '02', '03',\n",
    "                    '04', '05', '06',\n",
    "                    '07', '08', '09',\n",
    "                    '10', '11', '12',\n",
    "                ],\n",
    "                'day': [\n",
    "                    '01', '02', '03',\n",
    "                    '04', '05', '06',\n",
    "                    '07', '08', '09',\n",
    "                    '10', '11', '12',\n",
    "                    '13', '14', '15',\n",
    "                    '16', '17', '18',\n",
    "                    '19', '20', '21',\n",
    "                    '22', '23', '24',\n",
    "                    '25', '26', '27',\n",
    "                    '28', '29', '30',\n",
    "                    '31',\n",
    "                ],\n",
    "                'time': '00:00',\n",
    "                'area': [\n",
    "                    df_piezo.loc[piezo,\"latitude\"], df_piezo.loc[piezo,\"longitude\"], df_piezo.loc[piezo,\"latitude\"], df_piezo.loc[piezo,\"longitude\"],\n",
    "                ],\n",
    "            })    \n",
    "    return r"
   ]
  },
  {
   "cell_type": "markdown",
   "id": "6e076217",
   "metadata": {},
   "source": [
    "# Connexion à la bdd piezo\n",
    "Construction d'un dataframe 'df_piezo' à partir de la requête sur la bdd"
   ]
  },
  {
   "cell_type": "code",
   "execution_count": 11,
   "id": "9069958b",
   "metadata": {},
   "outputs": [],
   "source": [
    "region = \"NOR\""
   ]
  },
  {
   "cell_type": "code",
   "execution_count": 12,
   "id": "4d1b59ae",
   "metadata": {},
   "outputs": [],
   "source": [
    "connexion = sqlite3.connect('./data/liste_piezos.db')\n",
    "curseur = connexion.cursor()\n",
    "requete = f\"\"\"\n",
    "    SELECT code_bss, date_debut, date_fin, nb_mesures_piezo, latitude, longitude \n",
    "        FROM data_piezo\n",
    "    INNER JOIN code_region\n",
    "    ON code_dpt = departement\n",
    "    WHERE code_region IS '{region}'\n",
    "    AND date_debut < '2010-07-01'\n",
    "    AND date_fin > '2010-07-01'\n",
    "\"\"\"\n",
    "\n",
    "df_piezo = pd.read_sql_query(requete, connexion, index_col='code_bss')\n",
    "curseur.close()\n",
    "connexion.close()\n",
    "\n",
    "# Conversion des dates\n",
    "df_piezo[\"date_debut\"] = pd.to_datetime(df_piezo[\"date_debut\"])\n",
    "df_piezo[\"date_fin\"] = pd.to_datetime(df_piezo[\"date_fin\"])"
   ]
  },
  {
   "cell_type": "code",
   "execution_count": 13,
   "id": "d9dce6b6",
   "metadata": {},
   "outputs": [
    {
     "data": {
      "text/html": [
       "<div>\n",
       "<style scoped>\n",
       "    .dataframe tbody tr th:only-of-type {\n",
       "        vertical-align: middle;\n",
       "    }\n",
       "\n",
       "    .dataframe tbody tr th {\n",
       "        vertical-align: top;\n",
       "    }\n",
       "\n",
       "    .dataframe thead th {\n",
       "        text-align: right;\n",
       "    }\n",
       "</style>\n",
       "<table border=\"1\" class=\"dataframe\">\n",
       "  <thead>\n",
       "    <tr style=\"text-align: right;\">\n",
       "      <th></th>\n",
       "      <th>date_debut</th>\n",
       "      <th>date_fin</th>\n",
       "      <th>nb_mesures_piezo</th>\n",
       "      <th>latitude</th>\n",
       "      <th>longitude</th>\n",
       "    </tr>\n",
       "    <tr>\n",
       "      <th>code_bss</th>\n",
       "      <th></th>\n",
       "      <th></th>\n",
       "      <th></th>\n",
       "      <th></th>\n",
       "      <th></th>\n",
       "    </tr>\n",
       "  </thead>\n",
       "  <tbody>\n",
       "    <tr>\n",
       "      <th>02516X0071_P3-90</th>\n",
       "      <td>1997-09-15</td>\n",
       "      <td>2020-06-24</td>\n",
       "      <td>8176</td>\n",
       "      <td>48.439666</td>\n",
       "      <td>0.119902</td>\n",
       "    </tr>\n",
       "    <tr>\n",
       "      <th>01446X0005_S3-91</th>\n",
       "      <td>2002-03-28</td>\n",
       "      <td>2022-05-23</td>\n",
       "      <td>7129</td>\n",
       "      <td>48.977692</td>\n",
       "      <td>-0.907758</td>\n",
       "    </tr>\n",
       "    <tr>\n",
       "      <th>01506X0016_P1</th>\n",
       "      <td>2001-11-22</td>\n",
       "      <td>2022-05-17</td>\n",
       "      <td>5782</td>\n",
       "      <td>49.003128</td>\n",
       "      <td>1.249032</td>\n",
       "    </tr>\n",
       "    <tr>\n",
       "      <th>01474X0048_P1</th>\n",
       "      <td>2005-06-30</td>\n",
       "      <td>2022-05-19</td>\n",
       "      <td>5793</td>\n",
       "      <td>49.053115</td>\n",
       "      <td>0.297654</td>\n",
       "    </tr>\n",
       "    <tr>\n",
       "      <th>01801X0010_S1</th>\n",
       "      <td>1985-05-09</td>\n",
       "      <td>2022-05-23</td>\n",
       "      <td>9792</td>\n",
       "      <td>48.881863</td>\n",
       "      <td>1.086499</td>\n",
       "    </tr>\n",
       "    <tr>\n",
       "      <th>...</th>\n",
       "      <td>...</td>\n",
       "      <td>...</td>\n",
       "      <td>...</td>\n",
       "      <td>...</td>\n",
       "      <td>...</td>\n",
       "    </tr>\n",
       "    <tr>\n",
       "      <th>BSS003VETY_X</th>\n",
       "      <td>1995-02-21</td>\n",
       "      <td>2019-06-20</td>\n",
       "      <td>7624</td>\n",
       "      <td>48.730723</td>\n",
       "      <td>0.005066</td>\n",
       "    </tr>\n",
       "    <tr>\n",
       "      <th>BSS003VFXY_X</th>\n",
       "      <td>2000-08-24</td>\n",
       "      <td>2020-03-13</td>\n",
       "      <td>6779</td>\n",
       "      <td>48.505098</td>\n",
       "      <td>-0.071441</td>\n",
       "    </tr>\n",
       "    <tr>\n",
       "      <th>00955X0066_PZ</th>\n",
       "      <td>2009-09-01</td>\n",
       "      <td>2022-05-23</td>\n",
       "      <td>4406</td>\n",
       "      <td>49.333927</td>\n",
       "      <td>-1.076711</td>\n",
       "    </tr>\n",
       "    <tr>\n",
       "      <th>02891X0007_PZ</th>\n",
       "      <td>2001-08-16</td>\n",
       "      <td>2019-12-12</td>\n",
       "      <td>6394</td>\n",
       "      <td>48.379310</td>\n",
       "      <td>0.681278</td>\n",
       "    </tr>\n",
       "    <tr>\n",
       "      <th>02531X0029_PZ</th>\n",
       "      <td>1999-04-06</td>\n",
       "      <td>2020-05-18</td>\n",
       "      <td>8326</td>\n",
       "      <td>48.579033</td>\n",
       "      <td>0.800910</td>\n",
       "    </tr>\n",
       "  </tbody>\n",
       "</table>\n",
       "<p>149 rows × 5 columns</p>\n",
       "</div>"
      ],
      "text/plain": [
       "                 date_debut   date_fin  nb_mesures_piezo   latitude  longitude\n",
       "code_bss                                                                      \n",
       "02516X0071_P3-90 1997-09-15 2020-06-24              8176  48.439666   0.119902\n",
       "01446X0005_S3-91 2002-03-28 2022-05-23              7129  48.977692  -0.907758\n",
       "01506X0016_P1    2001-11-22 2022-05-17              5782  49.003128   1.249032\n",
       "01474X0048_P1    2005-06-30 2022-05-19              5793  49.053115   0.297654\n",
       "01801X0010_S1    1985-05-09 2022-05-23              9792  48.881863   1.086499\n",
       "...                     ...        ...               ...        ...        ...\n",
       "BSS003VETY_X     1995-02-21 2019-06-20              7624  48.730723   0.005066\n",
       "BSS003VFXY_X     2000-08-24 2020-03-13              6779  48.505098  -0.071441\n",
       "00955X0066_PZ    2009-09-01 2022-05-23              4406  49.333927  -1.076711\n",
       "02891X0007_PZ    2001-08-16 2019-12-12              6394  48.379310   0.681278\n",
       "02531X0029_PZ    1999-04-06 2020-05-18              8326  48.579033   0.800910\n",
       "\n",
       "[149 rows x 5 columns]"
      ]
     },
     "execution_count": 13,
     "metadata": {},
     "output_type": "execute_result"
    }
   ],
   "source": [
    "df_piezo"
   ]
  },
  {
   "cell_type": "markdown",
   "id": "aa65468a",
   "metadata": {},
   "source": [
    "## Lancer les requêtes auprès de l'API\n",
    "!!! NE LANCER QU'UNE SEULE FOIS POUR NE PAS CREER DES DOUBLONS DE REQUETES !!!"
   ]
  },
  {
   "cell_type": "markdown",
   "id": "8bb5016a",
   "metadata": {},
   "source": [
    "Un dictionnaire est créé avec en clé le code_bss du piezo et en valeur l'id de la requête"
   ]
  },
  {
   "cell_type": "markdown",
   "id": "fbb5d266",
   "metadata": {},
   "source": [
    "Ne pas lancer la cellule ci-dessous si des requetes sont en cours. "
   ]
  },
  {
   "cell_type": "code",
   "execution_count": 14,
   "id": "413b3c0e",
   "metadata": {},
   "outputs": [],
   "source": [
    "# Parcourir les codes_bss des piezos dans la liste précédemment créé :\n",
    "dict_bss = {}"
   ]
  },
  {
   "cell_type": "code",
   "execution_count": 15,
   "id": "f2853b94",
   "metadata": {},
   "outputs": [
    {
     "name": "stdout",
     "output_type": "stream",
     "text": [
      "\n",
      "            Voulez-vous lancer une série de nouvelles requêtes ? /n \n",
      "            Des requêtes pourraient se retrouver en double. /n \n",
      "            Pour lancer les requêtes entrez 'req' et entrée. /n\n",
      "            Sinon, appuyez simplement sur entrée.\n",
      "req\n"
     ]
    },
    {
     "name": "stderr",
     "output_type": "stream",
     "text": [
      "2022-07-28 08:52:55,542 INFO Welcome to the CDS\n",
      "2022-07-28 08:52:55,542 INFO Sending request to https://cds.climate.copernicus.eu/api/v2/resources/reanalysis-era5-single-levels\n",
      "2022-07-28 08:52:55,650 INFO Welcome to the CDS\n",
      "2022-07-28 08:52:55,650 INFO Sending request to https://cds.climate.copernicus.eu/api/v2/resources/reanalysis-era5-single-levels\n",
      "2022-07-28 08:52:55,742 INFO Welcome to the CDS\n",
      "2022-07-28 08:52:55,758 INFO Sending request to https://cds.climate.copernicus.eu/api/v2/resources/reanalysis-era5-single-levels\n"
     ]
    },
    {
     "name": "stdout",
     "output_type": "stream",
     "text": [
      "2022-07-28 08:52:55.619921 : chargement du fichier 02516X0071_P3-90.nc en cours (f497fb76-830b-4230-8924-7a2db35b8c9a).\n",
      "2022-07-28 08:52:55.716643 : chargement du fichier 01446X0005_S3-91.nc en cours (ec86c08f-f5fc-4e6f-b859-be066db0f422).\n"
     ]
    },
    {
     "name": "stderr",
     "output_type": "stream",
     "text": [
      "2022-07-28 08:52:55,867 INFO Welcome to the CDS\n",
      "2022-07-28 08:52:55,868 INFO Sending request to https://cds.climate.copernicus.eu/api/v2/resources/reanalysis-era5-single-levels\n",
      "2022-07-28 08:52:55,933 INFO Welcome to the CDS\n",
      "2022-07-28 08:52:55,933 INFO Sending request to https://cds.climate.copernicus.eu/api/v2/resources/reanalysis-era5-single-levels\n"
     ]
    },
    {
     "name": "stdout",
     "output_type": "stream",
     "text": [
      "2022-07-28 08:52:55.831179 : chargement du fichier 01506X0016_P1.nc en cours (38fbb010-068a-48a5-9e24-baa0cfbb9bc4).\n",
      "2022-07-28 08:52:55.908613 : chargement du fichier 01474X0048_P1.nc en cours (811f0cda-9493-4759-bd79-16a8b64b7b24).\n",
      "2022-07-28 08:52:56.016188 : chargement du fichier 01801X0010_S1.nc en cours (e4e8efe0-5fc6-4127-ba5c-e12696757db9).\n"
     ]
    },
    {
     "name": "stderr",
     "output_type": "stream",
     "text": [
      "2022-07-28 08:52:56,063 INFO Welcome to the CDS\n",
      "2022-07-28 08:52:56,064 INFO Sending request to https://cds.climate.copernicus.eu/api/v2/resources/reanalysis-era5-single-levels\n",
      "2022-07-28 08:52:56,198 INFO Welcome to the CDS\n",
      "2022-07-28 08:52:56,198 INFO Sending request to https://cds.climate.copernicus.eu/api/v2/resources/reanalysis-era5-single-levels\n",
      "2022-07-28 08:52:56,328 INFO Welcome to the CDS\n"
     ]
    },
    {
     "name": "stdout",
     "output_type": "stream",
     "text": [
      "2022-07-28 08:52:56.146175 : chargement du fichier 00572X0010_S1.nc en cours (6588043d-9e69-4c1e-b2d8-bd6d566e5997).\n",
      "2022-07-28 08:52:56.294982 : chargement du fichier 01245X0010_S1.nc en cours (59fee1dd-2011-4b2d-a0b1-94fea191ca85).\n"
     ]
    },
    {
     "name": "stderr",
     "output_type": "stream",
     "text": [
      "2022-07-28 08:52:56,329 INFO Sending request to https://cds.climate.copernicus.eu/api/v2/resources/reanalysis-era5-single-levels\n",
      "2022-07-28 08:52:56,416 INFO Welcome to the CDS\n",
      "2022-07-28 08:52:56,416 INFO Sending request to https://cds.climate.copernicus.eu/api/v2/resources/reanalysis-era5-single-levels\n",
      "2022-07-28 08:52:56,559 INFO Welcome to the CDS\n",
      "2022-07-28 08:52:56,560 INFO Sending request to https://cds.climate.copernicus.eu/api/v2/resources/reanalysis-era5-single-levels\n"
     ]
    },
    {
     "name": "stdout",
     "output_type": "stream",
     "text": [
      "2022-07-28 08:52:56.386306 : chargement du fichier 02151X0030_S1.nc en cours (f21fc929-3d07-48d3-9a30-089a02ab80b5).\n",
      "2022-07-28 08:52:56.522708 : chargement du fichier 00753X0030_S1.nc en cours (28941f33-f469-43b5-bb31-925999476b62).\n"
     ]
    },
    {
     "name": "stderr",
     "output_type": "stream",
     "text": [
      "2022-07-28 08:52:56,634 INFO Welcome to the CDS\n",
      "2022-07-28 08:52:56,635 INFO Sending request to https://cds.climate.copernicus.eu/api/v2/resources/reanalysis-era5-single-levels\n",
      "2022-07-28 08:52:56,722 INFO Welcome to the CDS\n",
      "2022-07-28 08:52:56,723 INFO Sending request to https://cds.climate.copernicus.eu/api/v2/resources/reanalysis-era5-single-levels\n",
      "2022-07-28 08:52:56,821 INFO Welcome to the CDS\n",
      "2022-07-28 08:52:56,822 INFO Sending request to https://cds.climate.copernicus.eu/api/v2/resources/reanalysis-era5-single-levels\n"
     ]
    },
    {
     "name": "stdout",
     "output_type": "stream",
     "text": [
      "2022-07-28 08:52:56.601261 : chargement du fichier 00985X0040_S1.nc en cours (8dbf9226-c204-42ae-ae11-1748b5119067).\n",
      "2022-07-28 08:52:56.689067 : chargement du fichier 00592X0001_S1.nc en cours (03ccfbcf-bf2d-4243-9a6b-bb8ab99ff797).\n",
      "2022-07-28 08:52:56.788428 : chargement du fichier 01487X0001_S1.nc en cours (aadc1bbb-6544-4c57-b7a2-e05dab49bcab).\n"
     ]
    },
    {
     "name": "stderr",
     "output_type": "stream",
     "text": [
      "2022-07-28 08:52:56,956 INFO Welcome to the CDS\n",
      "2022-07-28 08:52:56,957 INFO Sending request to https://cds.climate.copernicus.eu/api/v2/resources/reanalysis-era5-single-levels\n",
      "2022-07-28 08:52:57,017 INFO Welcome to the CDS\n",
      "2022-07-28 08:52:57,017 INFO Sending request to https://cds.climate.copernicus.eu/api/v2/resources/reanalysis-era5-single-levels\n",
      "2022-07-28 08:52:57,100 INFO Welcome to the CDS\n",
      "2022-07-28 08:52:57,100 INFO Sending request to https://cds.climate.copernicus.eu/api/v2/resources/reanalysis-era5-single-levels\n"
     ]
    },
    {
     "name": "stdout",
     "output_type": "stream",
     "text": [
      "2022-07-28 08:52:56.922896 : chargement du fichier 01252X0011_S1.nc en cours (1814986d-768c-4dcf-bc83-9fd9b51c29a9).\n",
      "2022-07-28 08:52:56.997707 : chargement du fichier 01795X0011_S1.nc en cours (1e6cc0ec-f9b4-4c5f-8cd3-dedb789d8c27).\n",
      "2022-07-28 08:52:57.077733 : chargement du fichier 01184X0021_S1.nc en cours (0ac7b618-21fe-452c-8dbb-048ad485de49).\n"
     ]
    },
    {
     "name": "stderr",
     "output_type": "stream",
     "text": [
      "2022-07-28 08:52:57,185 INFO Welcome to the CDS\n",
      "2022-07-28 08:52:57,187 INFO Sending request to https://cds.climate.copernicus.eu/api/v2/resources/reanalysis-era5-single-levels\n",
      "2022-07-28 08:52:57,266 INFO Welcome to the CDS\n",
      "2022-07-28 08:52:57,266 INFO Sending request to https://cds.climate.copernicus.eu/api/v2/resources/reanalysis-era5-single-levels\n"
     ]
    },
    {
     "name": "stdout",
     "output_type": "stream",
     "text": [
      "2022-07-28 08:52:57.152040 : chargement du fichier 01807X0051_S1.nc en cours (79f52433-b057-47b4-9d62-3806e0768d6e).\n",
      "2022-07-28 08:52:57.233360 : chargement du fichier 01232X0002_S1.nc en cours (4ab73381-a90c-44e6-8396-2cfb7b561b35).\n",
      "2022-07-28 08:52:57.332936 : chargement du fichier 00773X0002_S1.nc en cours (9041a3d3-3261-4114-8360-7da8b1d7d00d).\n"
     ]
    },
    {
     "name": "stderr",
     "output_type": "stream",
     "text": [
      "2022-07-28 08:52:57,375 INFO Welcome to the CDS\n",
      "2022-07-28 08:52:57,376 INFO Sending request to https://cds.climate.copernicus.eu/api/v2/resources/reanalysis-era5-single-levels\n",
      "2022-07-28 08:52:57,482 INFO Welcome to the CDS\n",
      "2022-07-28 08:52:57,482 INFO Sending request to https://cds.climate.copernicus.eu/api/v2/resources/reanalysis-era5-single-levels\n",
      "2022-07-28 08:52:57,561 INFO Welcome to the CDS\n",
      "2022-07-28 08:52:57,562 INFO Sending request to https://cds.climate.copernicus.eu/api/v2/resources/reanalysis-era5-single-levels\n"
     ]
    },
    {
     "name": "stdout",
     "output_type": "stream",
     "text": [
      "2022-07-28 08:52:57.451344 : chargement du fichier 00993X0002_S1.nc en cours (a7fd3a00-cf41-471d-a3ba-abf455e6d199).\n",
      "2022-07-28 08:52:57.528382 : chargement du fichier 01256X0002_S1.nc en cours (e761663e-303f-4a9d-9e7a-3c951b5e1921).\n"
     ]
    },
    {
     "name": "stderr",
     "output_type": "stream",
     "text": [
      "2022-07-28 08:52:57,733 INFO Welcome to the CDS\n",
      "2022-07-28 08:52:57,733 INFO Sending request to https://cds.climate.copernicus.eu/api/v2/resources/reanalysis-era5-single-levels\n",
      "2022-07-28 08:52:57,847 INFO Welcome to the CDS\n",
      "2022-07-28 08:52:57,847 INFO Sending request to https://cds.climate.copernicus.eu/api/v2/resources/reanalysis-era5-single-levels\n"
     ]
    },
    {
     "name": "stdout",
     "output_type": "stream",
     "text": [
      "2022-07-28 08:52:57.703533 : chargement du fichier 00578X0002_S1.nc en cours (b8eb8b61-c3f2-48d1-a289-072038cb3eca).\n",
      "2022-07-28 08:52:57.817708 : chargement du fichier 01198X0002_S1.nc en cours (2aeb25fc-6893-4c66-a2ad-9691ef152544).\n"
     ]
    },
    {
     "name": "stderr",
     "output_type": "stream",
     "text": [
      "2022-07-28 08:52:57,938 INFO Welcome to the CDS\n",
      "2022-07-28 08:52:57,938 INFO Sending request to https://cds.climate.copernicus.eu/api/v2/resources/reanalysis-era5-single-levels\n",
      "2022-07-28 08:52:58,017 INFO Welcome to the CDS\n",
      "2022-07-28 08:52:58,032 INFO Sending request to https://cds.climate.copernicus.eu/api/v2/resources/reanalysis-era5-single-levels\n"
     ]
    },
    {
     "name": "stdout",
     "output_type": "stream",
     "text": [
      "2022-07-28 08:52:57.904754 : chargement du fichier 01461X0012_S1.nc en cours (38660850-a006-4c49-b204-7d83c66e650f).\n",
      "2022-07-28 08:52:57.998479 : chargement du fichier 01492X0012_S1.nc en cours (b9614af6-847e-40ff-b534-7372596338e1).\n",
      "2022-07-28 08:52:58.080383 : chargement du fichier 02535X0012_S1.nc en cours (b94ba44b-6867-4b45-a720-75aeb271cae9).\n"
     ]
    },
    {
     "name": "stderr",
     "output_type": "stream",
     "text": [
      "2022-07-28 08:52:58,114 INFO Welcome to the CDS\n",
      "2022-07-28 08:52:58,115 INFO Sending request to https://cds.climate.copernicus.eu/api/v2/resources/reanalysis-era5-single-levels\n",
      "2022-07-28 08:52:58,231 INFO Welcome to the CDS\n",
      "2022-07-28 08:52:58,231 INFO Sending request to https://cds.climate.copernicus.eu/api/v2/resources/reanalysis-era5-single-levels\n",
      "2022-07-28 08:52:58,316 INFO Welcome to the CDS\n",
      "2022-07-28 08:52:58,316 INFO Sending request to https://cds.climate.copernicus.eu/api/v2/resources/reanalysis-era5-single-levels\n"
     ]
    },
    {
     "name": "stdout",
     "output_type": "stream",
     "text": [
      "2022-07-28 08:52:58.200044 : chargement du fichier 01462X0072_S1.nc en cours (e0a2417a-b8bc-4fbe-b8bb-23737dea6d81).\n",
      "2022-07-28 08:52:58.290934 : chargement du fichier 01002X0003_S1.nc en cours (e7d0f0bb-2acb-4379-9da4-9652da2313e0).\n",
      "2022-07-28 08:52:58.391126 : chargement du fichier 00603X0003_S1.nc en cours (e6f659f0-a612-44d9-8fe2-dab1a201250c).\n"
     ]
    },
    {
     "name": "stderr",
     "output_type": "stream",
     "text": [
      "2022-07-28 08:52:58,428 INFO Welcome to the CDS\n",
      "2022-07-28 08:52:58,429 INFO Sending request to https://cds.climate.copernicus.eu/api/v2/resources/reanalysis-era5-single-levels\n",
      "2022-07-28 08:52:58,516 INFO Welcome to the CDS\n",
      "2022-07-28 08:52:58,516 INFO Sending request to https://cds.climate.copernicus.eu/api/v2/resources/reanalysis-era5-single-levels\n",
      "2022-07-28 08:52:58,600 INFO Welcome to the CDS\n",
      "2022-07-28 08:52:58,600 INFO Sending request to https://cds.climate.copernicus.eu/api/v2/resources/reanalysis-era5-single-levels\n",
      "2022-07-28 08:52:58,666 INFO Welcome to the CDS\n"
     ]
    },
    {
     "name": "stdout",
     "output_type": "stream",
     "text": [
      "2022-07-28 08:52:58.483480 : chargement du fichier 01004X0003_S1.nc en cours (ff253081-3bc1-4ff9-a3af-cdb3714b3bfa).\n",
      "2022-07-28 08:52:58.567916 : chargement du fichier 01463X0103_S1.nc en cours (f726801b-1fe2-4524-90b3-db0e00bf3928).\n",
      "2022-07-28 08:52:58.642189 : chargement du fichier 00955X0023_S1.nc en cours (99397b68-2545-4e78-8775-3ad283112fc3).\n"
     ]
    },
    {
     "name": "stderr",
     "output_type": "stream",
     "text": [
      "2022-07-28 08:52:58,666 INFO Sending request to https://cds.climate.copernicus.eu/api/v2/resources/reanalysis-era5-single-levels\n",
      "2022-07-28 08:52:58,765 INFO Welcome to the CDS\n",
      "2022-07-28 08:52:58,766 INFO Sending request to https://cds.climate.copernicus.eu/api/v2/resources/reanalysis-era5-single-levels\n",
      "2022-07-28 08:52:58,882 INFO Welcome to the CDS\n",
      "2022-07-28 08:52:58,882 INFO Sending request to https://cds.climate.copernicus.eu/api/v2/resources/reanalysis-era5-single-levels\n"
     ]
    },
    {
     "name": "stdout",
     "output_type": "stream",
     "text": [
      "2022-07-28 08:52:58.731041 : chargement du fichier 01508X0133_S1.nc en cours (d85243ff-da11-485d-969f-de0d6bdc13e8).\n",
      "2022-07-28 08:52:58.849760 : chargement du fichier 01192X0043_S1.nc en cours (ea2449ae-f63c-4c74-a139-850c1da2efee).\n"
     ]
    },
    {
     "name": "stderr",
     "output_type": "stream",
     "text": [
      "2022-07-28 08:52:58,965 INFO Welcome to the CDS\n",
      "2022-07-28 08:52:58,966 INFO Sending request to https://cds.climate.copernicus.eu/api/v2/resources/reanalysis-era5-single-levels\n",
      "2022-07-28 08:52:59,049 INFO Welcome to the CDS\n",
      "2022-07-28 08:52:59,049 INFO Sending request to https://cds.climate.copernicus.eu/api/v2/resources/reanalysis-era5-single-levels\n"
     ]
    },
    {
     "name": "stdout",
     "output_type": "stream",
     "text": [
      "2022-07-28 08:52:58.930196 : chargement du fichier 00578X0043_S1.nc en cours (b67483d8-7041-4a2c-9833-3b4b12594e3a).\n",
      "2022-07-28 08:52:59.023352 : chargement du fichier 00751X0004_S1.nc en cours (abfbbe28-0260-4a30-b471-03a51ed1e66e).\n",
      "2022-07-28 08:52:59.113669 : chargement du fichier 01191X0004_S1.nc en cours (fc0bb419-520b-468c-9bbc-8b3a721bc399).\n"
     ]
    },
    {
     "name": "stderr",
     "output_type": "stream",
     "text": [
      "2022-07-28 08:52:59,150 INFO Welcome to the CDS\n",
      "2022-07-28 08:52:59,151 INFO Sending request to https://cds.climate.copernicus.eu/api/v2/resources/reanalysis-era5-single-levels\n",
      "2022-07-28 08:52:59,233 INFO Welcome to the CDS\n",
      "2022-07-28 08:52:59,233 INFO Sending request to https://cds.climate.copernicus.eu/api/v2/resources/reanalysis-era5-single-levels\n",
      "2022-07-28 08:52:59,331 INFO Welcome to the CDS\n",
      "2022-07-28 08:52:59,331 INFO Sending request to https://cds.climate.copernicus.eu/api/v2/resources/reanalysis-era5-single-levels\n"
     ]
    },
    {
     "name": "stdout",
     "output_type": "stream",
     "text": [
      "2022-07-28 08:52:59.203599 : chargement du fichier 00762X0004_S1.nc en cours (62184184-2b4c-4ccd-ab0b-1491486dfbda).\n",
      "2022-07-28 08:52:59.300460 : chargement du fichier 01013X0004_S1.nc en cours (257748c2-81e2-49af-a768-0c1fc0a9e8f4).\n",
      "2022-07-28 08:52:59.386257 : chargement du fichier 00766X0004_S1.nc en cours (c510ad5a-9d58-4306-98a2-e7b0bd83ebbc).\n"
     ]
    },
    {
     "name": "stderr",
     "output_type": "stream",
     "text": [
      "2022-07-28 08:52:59,421 INFO Welcome to the CDS\n",
      "2022-07-28 08:52:59,422 INFO Sending request to https://cds.climate.copernicus.eu/api/v2/resources/reanalysis-era5-single-levels\n",
      "2022-07-28 08:52:59,500 INFO Welcome to the CDS\n",
      "2022-07-28 08:52:59,500 INFO Sending request to https://cds.climate.copernicus.eu/api/v2/resources/reanalysis-era5-single-levels\n",
      "2022-07-28 08:52:59,583 INFO Welcome to the CDS\n",
      "2022-07-28 08:52:59,599 INFO Sending request to https://cds.climate.copernicus.eu/api/v2/resources/reanalysis-era5-single-levels\n"
     ]
    },
    {
     "name": "stdout",
     "output_type": "stream",
     "text": [
      "2022-07-28 08:52:59.474337 : chargement du fichier 00604X0224_S1.nc en cours (87aad22f-61d0-4e30-9963-7183a52971cf).\n",
      "2022-07-28 08:52:59.564577 : chargement du fichier 01251X0044_S1.nc en cours (47effe2a-5a24-4877-bf15-4b8ff98added).\n",
      "2022-07-28 08:52:59.658647 : chargement du fichier 01193X0044_S1.nc en cours (cd6643ee-a9fc-4e65-b49f-80f76c1e7cb7).\n"
     ]
    },
    {
     "name": "stderr",
     "output_type": "stream",
     "text": [
      "2022-07-28 08:52:59,693 INFO Welcome to the CDS\n",
      "2022-07-28 08:52:59,694 INFO Sending request to https://cds.climate.copernicus.eu/api/v2/resources/reanalysis-era5-single-levels\n",
      "2022-07-28 08:52:59,798 INFO Welcome to the CDS\n",
      "2022-07-28 08:52:59,798 INFO Sending request to https://cds.climate.copernicus.eu/api/v2/resources/reanalysis-era5-single-levels\n",
      "2022-07-28 08:52:59,899 INFO Welcome to the CDS\n",
      "2022-07-28 08:52:59,899 INFO Sending request to https://cds.climate.copernicus.eu/api/v2/resources/reanalysis-era5-single-levels\n"
     ]
    },
    {
     "name": "stdout",
     "output_type": "stream",
     "text": [
      "2022-07-28 08:52:59.767292 : chargement du fichier 01017X0074_S1.nc en cours (7189678e-4ae7-4101-9d4b-03c187d05cf9).\n",
      "2022-07-28 08:52:59.870455 : chargement du fichier 00583X0005_S1.nc en cours (5658bff1-6a1a-4666-99c0-7f78f5cbb2c1).\n",
      "2022-07-28 08:52:59.963916 : chargement du fichier 02144X0005_S1.nc en cours (1d996c36-c4f8-48c1-b7d2-d369495143fe).\n"
     ]
    },
    {
     "name": "stderr",
     "output_type": "stream",
     "text": [
      "2022-07-28 08:52:59,997 INFO Welcome to the CDS\n",
      "2022-07-28 08:52:59,998 INFO Sending request to https://cds.climate.copernicus.eu/api/v2/resources/reanalysis-era5-single-levels\n",
      "2022-07-28 08:53:00,098 INFO Welcome to the CDS\n",
      "2022-07-28 08:53:00,098 INFO Sending request to https://cds.climate.copernicus.eu/api/v2/resources/reanalysis-era5-single-levels\n",
      "2022-07-28 08:53:00,183 INFO Welcome to the CDS\n",
      "2022-07-28 08:53:00,183 INFO Sending request to https://cds.climate.copernicus.eu/api/v2/resources/reanalysis-era5-single-levels\n"
     ]
    },
    {
     "name": "stdout",
     "output_type": "stream",
     "text": [
      "2022-07-28 08:53:00.066878 : chargement du fichier 00957X0005_S1.nc en cours (ae045b0a-7a94-47fa-a310-65d4ff2ec76d).\n",
      "2022-07-28 08:53:00.151822 : chargement du fichier 01515X2015_S1.nc en cours (a09d070f-0bf8-44a1-a42b-77ee871f684c).\n",
      "2022-07-28 08:53:00.267858 : chargement du fichier 01794X0035_S1.nc en cours (bc8038b8-829a-4240-b3f9-b746f6098f67).\n"
     ]
    },
    {
     "name": "stderr",
     "output_type": "stream",
     "text": [
      "2022-07-28 08:53:00,307 INFO Welcome to the CDS\n",
      "2022-07-28 08:53:00,308 INFO Sending request to https://cds.climate.copernicus.eu/api/v2/resources/reanalysis-era5-single-levels\n",
      "2022-07-28 08:53:00,430 INFO Welcome to the CDS\n",
      "2022-07-28 08:53:00,430 INFO Sending request to https://cds.climate.copernicus.eu/api/v2/resources/reanalysis-era5-single-levels\n"
     ]
    },
    {
     "name": "stdout",
     "output_type": "stream",
     "text": [
      "2022-07-28 08:53:00.383546 : chargement du fichier 00956X0055_S1.nc en cours (b19fcbfc-6c92-4c8b-981f-e96b42f5ed7a).\n",
      "2022-07-28 08:53:00.519066 : chargement du fichier 00755X0006_S1.nc en cours (60a5c9c9-16ed-4886-a471-586564a237ee).\n"
     ]
    },
    {
     "name": "stderr",
     "output_type": "stream",
     "text": [
      "2022-07-28 08:53:00,655 INFO Welcome to the CDS\n",
      "2022-07-28 08:53:00,655 INFO Sending request to https://cds.climate.copernicus.eu/api/v2/resources/reanalysis-era5-single-levels\n",
      "2022-07-28 08:53:00,756 INFO Welcome to the CDS\n",
      "2022-07-28 08:53:00,757 INFO Sending request to https://cds.climate.copernicus.eu/api/v2/resources/reanalysis-era5-single-levels\n",
      "2022-07-28 08:53:00,856 INFO Welcome to the CDS\n",
      "2022-07-28 08:53:00,856 INFO Sending request to https://cds.climate.copernicus.eu/api/v2/resources/reanalysis-era5-single-levels\n",
      "2022-07-28 08:53:00,926 INFO Welcome to the CDS\n"
     ]
    },
    {
     "name": "stdout",
     "output_type": "stream",
     "text": [
      "2022-07-28 08:53:00.725168 : chargement du fichier 00608X0206_S1.nc en cours (0620e7a5-5766-4497-b76e-bdc7f0363731).\n",
      "2022-07-28 08:53:00.825233 : chargement du fichier 01805X0036_S1.nc en cours (1a33d433-9422-45e1-a26a-cb8c737034c3).\n",
      "2022-07-28 08:53:00.894135 : chargement du fichier 01213X0166_S1.nc en cours (f66e92e1-1cec-48dc-81bc-a7c86411b67d).\n"
     ]
    },
    {
     "name": "stderr",
     "output_type": "stream",
     "text": [
      "2022-07-28 08:53:00,926 INFO Sending request to https://cds.climate.copernicus.eu/api/v2/resources/reanalysis-era5-single-levels\n",
      "2022-07-28 08:53:01,014 INFO Welcome to the CDS\n",
      "2022-07-28 08:53:01,014 INFO Sending request to https://cds.climate.copernicus.eu/api/v2/resources/reanalysis-era5-single-levels\n",
      "2022-07-28 08:53:01,115 INFO Welcome to the CDS\n",
      "2022-07-28 08:53:01,115 INFO Sending request to https://cds.climate.copernicus.eu/api/v2/resources/reanalysis-era5-single-levels\n"
     ]
    },
    {
     "name": "stdout",
     "output_type": "stream",
     "text": [
      "2022-07-28 08:53:00.983490 : chargement du fichier 01216X0086_S1.nc en cours (4804d4c1-bd01-42d5-9a7b-cde42ccd77e7).\n",
      "2022-07-28 08:53:01.084458 : chargement du fichier 00776X0096_S1.nc en cours (5518cb54-ae5d-476a-9d5c-7b63e9b4366d).\n",
      "2022-07-28 08:53:01.174992 : chargement du fichier 00597X0007_S1.nc en cours (130b7a3b-49c6-4371-abdf-19bd318ceab0).\n"
     ]
    },
    {
     "name": "stderr",
     "output_type": "stream",
     "text": [
      "2022-07-28 08:53:01,206 INFO Welcome to the CDS\n",
      "2022-07-28 08:53:01,207 INFO Sending request to https://cds.climate.copernicus.eu/api/v2/resources/reanalysis-era5-single-levels\n",
      "2022-07-28 08:53:01,290 INFO Welcome to the CDS\n",
      "2022-07-28 08:53:01,290 INFO Sending request to https://cds.climate.copernicus.eu/api/v2/resources/reanalysis-era5-single-levels\n",
      "2022-07-28 08:53:01,388 INFO Welcome to the CDS\n",
      "2022-07-28 08:53:01,388 INFO Sending request to https://cds.climate.copernicus.eu/api/v2/resources/reanalysis-era5-single-levels\n",
      "2022-07-28 08:53:01,458 INFO Welcome to the CDS\n"
     ]
    },
    {
     "name": "stdout",
     "output_type": "stream",
     "text": [
      "2022-07-28 08:53:01.267277 : chargement du fichier 01211X0037_S1.nc en cours (3520e4c1-d603-426d-adf3-b95a48e487fa).\n",
      "2022-07-28 08:53:01.356781 : chargement du fichier 01473X0087_S1.nc en cours (be4c014f-4b76-4ed9-93b4-bc212775b914).\n",
      "2022-07-28 08:53:01.426779 : chargement du fichier 01003X0008_S1.nc en cours (5917304a-d118-4970-8a40-44691833a85f).\n"
     ]
    },
    {
     "name": "stderr",
     "output_type": "stream",
     "text": [
      "2022-07-28 08:53:01,458 INFO Sending request to https://cds.climate.copernicus.eu/api/v2/resources/reanalysis-era5-single-levels\n",
      "2022-07-28 08:53:01,535 INFO Welcome to the CDS\n",
      "2022-07-28 08:53:01,536 INFO Sending request to https://cds.climate.copernicus.eu/api/v2/resources/reanalysis-era5-single-levels\n",
      "2022-07-28 08:53:01,650 INFO Welcome to the CDS\n",
      "2022-07-28 08:53:01,650 INFO Sending request to https://cds.climate.copernicus.eu/api/v2/resources/reanalysis-era5-single-levels\n"
     ]
    },
    {
     "name": "stdout",
     "output_type": "stream",
     "text": [
      "2022-07-28 08:53:01.504465 : chargement du fichier 01756X0008_S1.nc en cours (c4d84f47-72d5-4468-96f2-0c16a8daabbe).\n",
      "2022-07-28 08:53:01.618519 : chargement du fichier 00777X0008_S1.nc en cours (d639df7a-d212-4455-a6ed-570475d01284).\n",
      "2022-07-28 08:53:01.703518 : chargement du fichier 00748X0008_S1.nc en cours (26fd59c4-5412-4dc2-8489-8ca8829e684a).\n"
     ]
    },
    {
     "name": "stderr",
     "output_type": "stream",
     "text": [
      "2022-07-28 08:53:01,736 INFO Welcome to the CDS\n",
      "2022-07-28 08:53:01,736 INFO Sending request to https://cds.climate.copernicus.eu/api/v2/resources/reanalysis-era5-single-levels\n",
      "2022-07-28 08:53:01,801 INFO Welcome to the CDS\n",
      "2022-07-28 08:53:01,801 INFO Sending request to https://cds.climate.copernicus.eu/api/v2/resources/reanalysis-era5-single-levels\n",
      "2022-07-28 08:53:01,971 INFO Welcome to the CDS\n"
     ]
    },
    {
     "name": "stdout",
     "output_type": "stream",
     "text": [
      "2022-07-28 08:53:01.782107 : chargement du fichier 01201X0108_S1.nc en cours (4a5c6404-7bc9-487e-9700-5e76771fdab1).\n",
      "2022-07-28 08:53:01.931610 : chargement du fichier 01008X0018_S1.nc en cours (8a32a9cb-3678-4a76-ada1-e35f448cfeec).\n"
     ]
    },
    {
     "name": "stderr",
     "output_type": "stream",
     "text": [
      "2022-07-28 08:53:01,971 INFO Sending request to https://cds.climate.copernicus.eu/api/v2/resources/reanalysis-era5-single-levels\n",
      "2022-07-28 08:53:02,056 INFO Welcome to the CDS\n",
      "2022-07-28 08:53:02,056 INFO Sending request to https://cds.climate.copernicus.eu/api/v2/resources/reanalysis-era5-single-levels\n",
      "2022-07-28 08:53:02,156 INFO Welcome to the CDS\n",
      "2022-07-28 08:53:02,156 INFO Sending request to https://cds.climate.copernicus.eu/api/v2/resources/reanalysis-era5-single-levels\n"
     ]
    },
    {
     "name": "stdout",
     "output_type": "stream",
     "text": [
      "2022-07-28 08:53:02.023958 : chargement du fichier 00992X0058_S1.nc en cours (7757373f-e896-470e-9484-a1e7031278bc).\n",
      "2022-07-28 08:53:02.117531 : chargement du fichier 01491X0009_S1.nc en cours (6e458268-4c56-420f-abbc-435b0f3a7120).\n",
      "2022-07-28 08:53:02.216851 : chargement du fichier 01206X0009_S1.nc en cours (7ba88317-13b9-4747-9f8b-f39dc57b2e31).\n"
     ]
    },
    {
     "name": "stderr",
     "output_type": "stream",
     "text": [
      "2022-07-28 08:53:02,253 INFO Welcome to the CDS\n",
      "2022-07-28 08:53:02,254 INFO Sending request to https://cds.climate.copernicus.eu/api/v2/resources/reanalysis-era5-single-levels\n",
      "2022-07-28 08:53:02,389 INFO Welcome to the CDS\n",
      "2022-07-28 08:53:02,405 INFO Sending request to https://cds.climate.copernicus.eu/api/v2/resources/reanalysis-era5-single-levels\n",
      "2022-07-28 08:53:02,499 INFO Welcome to the CDS\n"
     ]
    },
    {
     "name": "stdout",
     "output_type": "stream",
     "text": [
      "2022-07-28 08:53:02.305551 : chargement du fichier 02527X0009_S1.nc en cours (a9f7b27d-436a-422e-b090-f7bd2a65fb1c).\n",
      "2022-07-28 08:53:02.468337 : chargement du fichier 00987X0009_S1.nc en cours (af8c41ea-c4f0-47b7-83fa-c477756196f4).\n"
     ]
    },
    {
     "name": "stderr",
     "output_type": "stream",
     "text": [
      "2022-07-28 08:53:02,499 INFO Sending request to https://cds.climate.copernicus.eu/api/v2/resources/reanalysis-era5-single-levels\n",
      "2022-07-28 08:53:02,619 INFO Welcome to the CDS\n",
      "2022-07-28 08:53:02,619 INFO Sending request to https://cds.climate.copernicus.eu/api/v2/resources/reanalysis-era5-single-levels\n",
      "2022-07-28 08:53:02,738 INFO Welcome to the CDS\n",
      "2022-07-28 08:53:02,738 INFO Sending request to https://cds.climate.copernicus.eu/api/v2/resources/reanalysis-era5-single-levels\n"
     ]
    },
    {
     "name": "stdout",
     "output_type": "stream",
     "text": [
      "2022-07-28 08:53:02.584748 : chargement du fichier 01205X0229_S1.nc en cours (f6c010eb-f5d8-45c8-91d1-3b3ddf3d694f).\n",
      "2022-07-28 08:53:02.703585 : chargement du fichier 01194X0069_S1.nc en cours (00d14aef-0181-4ca7-a07a-6650c8d20172).\n"
     ]
    },
    {
     "name": "stderr",
     "output_type": "stream",
     "text": [
      "2022-07-28 08:53:02,834 INFO Welcome to the CDS\n",
      "2022-07-28 08:53:02,834 INFO Sending request to https://cds.climate.copernicus.eu/api/v2/resources/reanalysis-era5-single-levels\n",
      "2022-07-28 08:53:02,915 INFO Welcome to the CDS\n",
      "2022-07-28 08:53:02,915 INFO Sending request to https://cds.climate.copernicus.eu/api/v2/resources/reanalysis-era5-single-levels\n"
     ]
    },
    {
     "name": "stdout",
     "output_type": "stream",
     "text": [
      "2022-07-28 08:53:02.798720 : chargement du fichier 01462X0079_S1.nc en cours (cbfab9a6-954c-4739-830a-46114f52c73c).\n",
      "2022-07-28 08:53:02.881016 : chargement du fichier 00435X0079_S1.nc en cours (c4d5d406-e98d-44f8-a27b-e5635595159a).\n",
      "2022-07-28 08:53:02.968869 : chargement du fichier 02516X0516_PZ1.nc en cours (3f9ad9c3-70d7-4a4a-9aff-5eaef761fbca).\n"
     ]
    },
    {
     "name": "stderr",
     "output_type": "stream",
     "text": [
      "2022-07-28 08:53:03,005 INFO Welcome to the CDS\n",
      "2022-07-28 08:53:03,008 INFO Sending request to https://cds.climate.copernicus.eu/api/v2/resources/reanalysis-era5-single-levels\n",
      "2022-07-28 08:53:03,098 INFO Welcome to the CDS\n",
      "2022-07-28 08:53:03,098 INFO Sending request to https://cds.climate.copernicus.eu/api/v2/resources/reanalysis-era5-single-levels\n",
      "2022-07-28 08:53:03,216 INFO Welcome to the CDS\n",
      "2022-07-28 08:53:03,216 INFO Sending request to https://cds.climate.copernicus.eu/api/v2/resources/reanalysis-era5-single-levels\n"
     ]
    },
    {
     "name": "stdout",
     "output_type": "stream",
     "text": [
      "2022-07-28 08:53:03.065169 : chargement du fichier 00941X0034_S-2.nc en cours (42a8b33b-e90f-44c4-a1ff-a4469ee82d69).\n",
      "2022-07-28 08:53:03.189388 : chargement du fichier 01227X0038_S22.nc en cours (3af6abbb-e80b-432f-b340-815ae0171360).\n",
      "2022-07-28 08:53:03.274575 : chargement du fichier 02895X0004_FE1-92.nc en cours (64d251be-b988-4bc4-b07f-0da0904534a0).\n"
     ]
    },
    {
     "name": "stderr",
     "output_type": "stream",
     "text": [
      "2022-07-28 08:53:03,305 INFO Welcome to the CDS\n",
      "2022-07-28 08:53:03,305 INFO Sending request to https://cds.climate.copernicus.eu/api/v2/resources/reanalysis-era5-single-levels\n",
      "2022-07-28 08:53:03,405 INFO Welcome to the CDS\n",
      "2022-07-28 08:53:03,405 INFO Sending request to https://cds.climate.copernicus.eu/api/v2/resources/reanalysis-era5-single-levels\n",
      "2022-07-28 08:53:03,490 INFO Welcome to the CDS\n",
      "2022-07-28 08:53:03,490 INFO Sending request to https://cds.climate.copernicus.eu/api/v2/resources/reanalysis-era5-single-levels\n"
     ]
    },
    {
     "name": "stdout",
     "output_type": "stream",
     "text": [
      "2022-07-28 08:53:03.374531 : chargement du fichier 02133X0008_S1-92.nc en cours (b8b84261-b44a-4081-b9b5-b64db936637f).\n",
      "2022-07-28 08:53:03.458915 : chargement du fichier 02883X0018_FE2.nc en cours (72efd8eb-696c-4d35-88d3-5a83a64c887d).\n",
      "2022-07-28 08:53:03.540094 : chargement du fichier 01195X0200_F2.nc en cours (6e83ffcc-0b4a-4532-a9d8-aed6033c3e3e).\n"
     ]
    },
    {
     "name": "stderr",
     "output_type": "stream",
     "text": [
      "2022-07-28 08:53:03,574 INFO Welcome to the CDS\n",
      "2022-07-28 08:53:03,574 INFO Sending request to https://cds.climate.copernicus.eu/api/v2/resources/reanalysis-era5-single-levels\n",
      "2022-07-28 08:53:03,675 INFO Welcome to the CDS\n",
      "2022-07-28 08:53:03,675 INFO Sending request to https://cds.climate.copernicus.eu/api/v2/resources/reanalysis-era5-single-levels\n",
      "2022-07-28 08:53:03,775 INFO Welcome to the CDS\n",
      "2022-07-28 08:53:03,775 INFO Sending request to https://cds.climate.copernicus.eu/api/v2/resources/reanalysis-era5-single-levels\n"
     ]
    },
    {
     "name": "stdout",
     "output_type": "stream",
     "text": [
      "2022-07-28 08:53:03.656225 : chargement du fichier 01234X0297_F2.nc en cours (012cd77d-8035-4fbd-9a05-4f3b60b2efee).\n",
      "2022-07-28 08:53:03.737051 : chargement du fichier 02523X0002_S2.nc en cours (d26ffc4e-3399-4118-a824-f0d9f7f79fc0).\n",
      "2022-07-28 08:53:03.824425 : chargement du fichier 01768X0022_S2.nc en cours (25ca58ac-b3c2-48b6-b910-5c7178abfb99).\n"
     ]
    },
    {
     "name": "stderr",
     "output_type": "stream",
     "text": [
      "2022-07-28 08:53:03,875 INFO Welcome to the CDS\n",
      "2022-07-28 08:53:03,875 INFO Sending request to https://cds.climate.copernicus.eu/api/v2/resources/reanalysis-era5-single-levels\n",
      "2022-07-28 08:53:03,946 INFO Welcome to the CDS\n",
      "2022-07-28 08:53:03,946 INFO Sending request to https://cds.climate.copernicus.eu/api/v2/resources/reanalysis-era5-single-levels\n",
      "2022-07-28 08:53:04,050 INFO Welcome to the CDS\n",
      "2022-07-28 08:53:04,050 INFO Sending request to https://cds.climate.copernicus.eu/api/v2/resources/reanalysis-era5-single-levels\n"
     ]
    },
    {
     "name": "stdout",
     "output_type": "stream",
     "text": [
      "2022-07-28 08:53:03.914973 : chargement du fichier 00765X0124_BT2.nc en cours (a3fa40ff-eeff-4bc0-a2c1-fd68936815d0).\n",
      "2022-07-28 08:53:04.004280 : chargement du fichier 01792X0020_PZ2.nc en cours (99235f86-f983-436a-aa42-2a6a8e6bb14d).\n",
      "2022-07-28 08:53:04.101584 : chargement du fichier 02535X0018_FE1-93.nc en cours (63f6a900-51b2-420d-9059-bf7ac975ad68).\n"
     ]
    },
    {
     "name": "stderr",
     "output_type": "stream",
     "text": [
      "2022-07-28 08:53:04,152 INFO Welcome to the CDS\n",
      "2022-07-28 08:53:04,152 INFO Sending request to https://cds.climate.copernicus.eu/api/v2/resources/reanalysis-era5-single-levels\n",
      "2022-07-28 08:53:04,244 INFO Welcome to the CDS\n",
      "2022-07-28 08:53:04,244 INFO Sending request to https://cds.climate.copernicus.eu/api/v2/resources/reanalysis-era5-single-levels\n"
     ]
    },
    {
     "name": "stdout",
     "output_type": "stream",
     "text": [
      "2022-07-28 08:53:04.212819 : chargement du fichier 01764X0012_F3.nc en cours (1aabba0c-a935-4f60-b392-521b43bc3b81).\n",
      "2022-07-28 08:53:04.394970 : chargement du fichier 02883X0017_F3.nc en cours (1f92047d-77d4-4071-a990-3300d74913a2).\n"
     ]
    },
    {
     "name": "stderr",
     "output_type": "stream",
     "text": [
      "2022-07-28 08:53:04,424 INFO Welcome to the CDS\n",
      "2022-07-28 08:53:04,424 INFO Sending request to https://cds.climate.copernicus.eu/api/v2/resources/reanalysis-era5-single-levels\n",
      "2022-07-28 08:53:04,504 INFO Welcome to the CDS\n",
      "2022-07-28 08:53:04,504 INFO Sending request to https://cds.climate.copernicus.eu/api/v2/resources/reanalysis-era5-single-levels\n",
      "2022-07-28 08:53:04,623 INFO Welcome to the CDS\n",
      "2022-07-28 08:53:04,623 INFO Sending request to https://cds.climate.copernicus.eu/api/v2/resources/reanalysis-era5-single-levels\n"
     ]
    },
    {
     "name": "stdout",
     "output_type": "stream",
     "text": [
      "2022-07-28 08:53:04.473297 : chargement du fichier 01242X0530_FN3.nc en cours (35669ab4-7363-44dc-bdb2-0d02fc44ca0d).\n",
      "2022-07-28 08:53:04.592649 : chargement du fichier 00775X0099_F14.nc en cours (a94fe01f-8201-466a-b421-59e1138e9beb).\n"
     ]
    },
    {
     "name": "stderr",
     "output_type": "stream",
     "text": [
      "2022-07-28 08:53:04,792 INFO Welcome to the CDS\n",
      "2022-07-28 08:53:04,792 INFO Sending request to https://cds.climate.copernicus.eu/api/v2/resources/reanalysis-era5-single-levels\n",
      "2022-07-28 08:53:04,877 INFO Welcome to the CDS\n",
      "2022-07-28 08:53:04,877 INFO Sending request to https://cds.climate.copernicus.eu/api/v2/resources/reanalysis-era5-single-levels\n"
     ]
    },
    {
     "name": "stdout",
     "output_type": "stream",
     "text": [
      "2022-07-28 08:53:04.744387 : chargement du fichier 00937X0030_F4.nc en cours (0983523c-e50c-4ce7-a348-2023f7a2480e).\n",
      "2022-07-28 08:53:04.845981 : chargement du fichier 01423X0044_F4.nc en cours (900acf8d-6121-4afa-9e2e-215ef7c8cd64).\n",
      "2022-07-28 08:53:04.930070 : chargement du fichier 02135X0016_S4.nc en cours (afc91bc5-5f32-4803-ab71-05fffd16ecad).\n"
     ]
    },
    {
     "name": "stderr",
     "output_type": "stream",
     "text": [
      "2022-07-28 08:53:04,961 INFO Welcome to the CDS\n",
      "2022-07-28 08:53:04,961 INFO Sending request to https://cds.climate.copernicus.eu/api/v2/resources/reanalysis-era5-single-levels\n",
      "2022-07-28 08:53:05,077 INFO Welcome to the CDS\n",
      "2022-07-28 08:53:05,077 INFO Sending request to https://cds.climate.copernicus.eu/api/v2/resources/reanalysis-era5-single-levels\n",
      "2022-07-28 08:53:05,193 INFO Welcome to the CDS\n",
      "2022-07-28 08:53:05,193 INFO Sending request to https://cds.climate.copernicus.eu/api/v2/resources/reanalysis-era5-single-levels\n"
     ]
    },
    {
     "name": "stdout",
     "output_type": "stream",
     "text": [
      "2022-07-28 08:53:05.036840 : chargement du fichier 02131X0018_S4.nc en cours (e9b50375-3e9c-4249-bd45-86fac2ec8371).\n",
      "2022-07-28 08:53:05.154368 : chargement du fichier 01194X0149_FEA7.nc en cours (786e790b-d70e-46be-ae28-729855435feb).\n"
     ]
    },
    {
     "name": "stderr",
     "output_type": "stream",
     "text": [
      "2022-07-28 08:53:05,278 INFO Welcome to the CDS\n",
      "2022-07-28 08:53:05,278 INFO Sending request to https://cds.climate.copernicus.eu/api/v2/resources/reanalysis-era5-single-levels\n",
      "2022-07-28 08:53:05,362 INFO Welcome to the CDS\n",
      "2022-07-28 08:53:05,362 INFO Sending request to https://cds.climate.copernicus.eu/api/v2/resources/reanalysis-era5-single-levels\n"
     ]
    },
    {
     "name": "stdout",
     "output_type": "stream",
     "text": [
      "2022-07-28 08:53:05.242724 : chargement du fichier 00974X0128_PZ1908.nc en cours (9044db03-341f-445a-9db3-c6506bc1c46e).\n",
      "2022-07-28 08:53:05.319302 : chargement du fichier 02131X0019_S8.nc en cours (072e2e39-6fc1-493e-a927-3880fdfa6450).\n",
      "2022-07-28 08:53:05.425333 : chargement du fichier 01198X0029_S8.nc en cours (1099c016-7c54-4485-8ae9-d1aa98ffe840).\n"
     ]
    },
    {
     "name": "stderr",
     "output_type": "stream",
     "text": [
      "2022-07-28 08:53:05,475 INFO Welcome to the CDS\n",
      "2022-07-28 08:53:05,476 INFO Sending request to https://cds.climate.copernicus.eu/api/v2/resources/reanalysis-era5-single-levels\n",
      "2022-07-28 08:53:05,578 INFO Welcome to the CDS\n",
      "2022-07-28 08:53:05,578 INFO Sending request to https://cds.climate.copernicus.eu/api/v2/resources/reanalysis-era5-single-levels\n"
     ]
    },
    {
     "name": "stdout",
     "output_type": "stream",
     "text": [
      "2022-07-28 08:53:05.530943 : chargement du fichier 02155X1040_F.nc en cours (2e4c8aef-50dc-4fc6-91d8-727c7f008b22).\n",
      "2022-07-28 08:53:05.633052 : chargement du fichier 02531X0001_F.nc en cours (d891a02f-c845-44a6-81e4-0058d56d9c82).\n"
     ]
    },
    {
     "name": "stderr",
     "output_type": "stream",
     "text": [
      "2022-07-28 08:53:05,826 INFO Welcome to the CDS\n",
      "2022-07-28 08:53:05,826 INFO Sending request to https://cds.climate.copernicus.eu/api/v2/resources/reanalysis-era5-single-levels\n",
      "2022-07-28 08:53:05,941 INFO Welcome to the CDS\n",
      "2022-07-28 08:53:05,941 INFO Sending request to https://cds.climate.copernicus.eu/api/v2/resources/reanalysis-era5-single-levels\n",
      "2022-07-28 08:53:06,048 INFO Welcome to the CDS\n",
      "2022-07-28 08:53:06,048 INFO Sending request to https://cds.climate.copernicus.eu/api/v2/resources/reanalysis-era5-single-levels\n"
     ]
    },
    {
     "name": "stdout",
     "output_type": "stream",
     "text": [
      "2022-07-28 08:53:05.910354 : chargement du fichier 01176X0061_F.nc en cours (3ea74d5e-0609-4bb0-b34e-9db7d552a66b).\n",
      "2022-07-28 08:53:06.002035 : chargement du fichier 00765X0003_F.nc en cours (2ae4e99a-3dea-4a54-9a97-8774d037c99a).\n"
     ]
    },
    {
     "name": "stderr",
     "output_type": "stream",
     "text": [
      "2022-07-28 08:53:06,151 INFO Welcome to the CDS\n",
      "2022-07-28 08:53:06,151 INFO Sending request to https://cds.climate.copernicus.eu/api/v2/resources/reanalysis-era5-single-levels\n",
      "2022-07-28 08:53:06,280 INFO Welcome to the CDS\n",
      "2022-07-28 08:53:06,280 INFO Sending request to https://cds.climate.copernicus.eu/api/v2/resources/reanalysis-era5-single-levels\n"
     ]
    },
    {
     "name": "stdout",
     "output_type": "stream",
     "text": [
      "2022-07-28 08:53:06.120084 : chargement du fichier 00945X0064_F.nc en cours (3133983a-f35c-4df5-9448-24d3b6418067).\n",
      "2022-07-28 08:53:06.243188 : chargement du fichier 01778X0015_F.nc en cours (0c852fba-b116-4736-b827-39f285bab014).\n"
     ]
    },
    {
     "name": "stderr",
     "output_type": "stream",
     "text": [
      "2022-07-28 08:53:06,395 INFO Welcome to the CDS\n",
      "2022-07-28 08:53:06,395 INFO Sending request to https://cds.climate.copernicus.eu/api/v2/resources/reanalysis-era5-single-levels\n",
      "2022-07-28 08:53:06,527 INFO Welcome to the CDS\n",
      "2022-07-28 08:53:06,527 INFO Sending request to https://cds.climate.copernicus.eu/api/v2/resources/reanalysis-era5-single-levels\n"
     ]
    },
    {
     "name": "stdout",
     "output_type": "stream",
     "text": [
      "2022-07-28 08:53:06.349947 : chargement du fichier 01511X0188_F.nc en cours (fd4b4837-f61e-4bcd-9385-42efc228e64a).\n",
      "2022-07-28 08:53:06.493938 : chargement du fichier 02503X0011_FO.nc en cours (929262c7-1ca8-41bb-b6cf-03b13e5ca7e0).\n"
     ]
    },
    {
     "name": "stderr",
     "output_type": "stream",
     "text": [
      "2022-07-28 08:53:06,665 INFO Welcome to the CDS\n",
      "2022-07-28 08:53:06,665 INFO Sending request to https://cds.climate.copernicus.eu/api/v2/resources/reanalysis-era5-single-levels\n"
     ]
    },
    {
     "name": "stdout",
     "output_type": "stream",
     "text": [
      "2022-07-28 08:53:06.624146 : chargement du fichier 01508X0100_P.nc en cours (37ca5dec-e36a-459f-9605-8db3d46990cb).\n",
      "2022-07-28 08:53:06.796494 : chargement du fichier 00584X0020_P.nc en cours (06e01591-7f05-481d-9d2f-733cca823750).\n"
     ]
    },
    {
     "name": "stderr",
     "output_type": "stream",
     "text": [
      "2022-07-28 08:53:06,843 INFO Welcome to the CDS\n",
      "2022-07-28 08:53:06,843 INFO Sending request to https://cds.climate.copernicus.eu/api/v2/resources/reanalysis-era5-single-levels\n",
      "2022-07-28 08:53:06,934 INFO Welcome to the CDS\n",
      "2022-07-28 08:53:06,934 INFO Sending request to https://cds.climate.copernicus.eu/api/v2/resources/reanalysis-era5-single-levels\n",
      "2022-07-28 08:53:07,034 INFO Welcome to the CDS\n",
      "2022-07-28 08:53:07,035 INFO Sending request to https://cds.climate.copernicus.eu/api/v2/resources/reanalysis-era5-single-levels\n"
     ]
    },
    {
     "name": "stdout",
     "output_type": "stream",
     "text": [
      "2022-07-28 08:53:06.887681 : chargement du fichier 00771X0030_P.nc en cours (8922d360-bc57-406b-aa44-4b0f896bf665).\n",
      "2022-07-28 08:53:06.982289 : chargement du fichier 01493X0001_P.nc en cours (f4f9c29d-6a84-4fa5-986d-6085b6d076ac).\n"
     ]
    },
    {
     "name": "stderr",
     "output_type": "stream",
     "text": [
      "2022-07-28 08:53:07,169 INFO Welcome to the CDS\n",
      "2022-07-28 08:53:07,170 INFO Sending request to https://cds.climate.copernicus.eu/api/v2/resources/reanalysis-era5-single-levels\n",
      "2022-07-28 08:53:07,268 INFO Welcome to the CDS\n",
      "2022-07-28 08:53:07,269 INFO Sending request to https://cds.climate.copernicus.eu/api/v2/resources/reanalysis-era5-single-levels\n"
     ]
    },
    {
     "name": "stdout",
     "output_type": "stream",
     "text": [
      "2022-07-28 08:53:07.122558 : chargement du fichier 02152X0051_P.nc en cours (5d364b92-1776-4de1-806c-f371b1ecdd58).\n",
      "2022-07-28 08:53:07.230273 : chargement du fichier 01227X0022_P.nc en cours (26555e11-e951-4357-bd95-762c68d0f1d7).\n"
     ]
    },
    {
     "name": "stderr",
     "output_type": "stream",
     "text": [
      "2022-07-28 08:53:07,397 INFO Welcome to the CDS\n",
      "2022-07-28 08:53:07,398 INFO Sending request to https://cds.climate.copernicus.eu/api/v2/resources/reanalysis-era5-single-levels\n",
      "2022-07-28 08:53:07,544 INFO Welcome to the CDS\n"
     ]
    },
    {
     "name": "stdout",
     "output_type": "stream",
     "text": [
      "2022-07-28 08:53:07.350872 : chargement du fichier 00732X0032_P.nc en cours (da3259df-5bc3-4537-a1ce-1ff0de930176).\n",
      "2022-07-28 08:53:07.499321 : chargement du fichier 01776X0023_P.nc en cours (ecb1ff26-2703-43e8-a8f4-1af5699f0c62).\n"
     ]
    },
    {
     "name": "stderr",
     "output_type": "stream",
     "text": [
      "2022-07-28 08:53:07,544 INFO Sending request to https://cds.climate.copernicus.eu/api/v2/resources/reanalysis-era5-single-levels\n",
      "2022-07-28 08:53:07,652 INFO Welcome to the CDS\n",
      "2022-07-28 08:53:07,653 INFO Sending request to https://cds.climate.copernicus.eu/api/v2/resources/reanalysis-era5-single-levels\n",
      "2022-07-28 08:53:07,827 INFO Welcome to the CDS\n"
     ]
    },
    {
     "name": "stdout",
     "output_type": "stream",
     "text": [
      "2022-07-28 08:53:07.612116 : chargement du fichier 00576X0033_P.nc en cours (04f7db79-de6c-4e02-99e6-ec1c1f719b67).\n",
      "2022-07-28 08:53:07.779065 : chargement du fichier 01803X0004_P.nc en cours (0e830c98-9eb9-40a0-9975-142eca663680).\n"
     ]
    },
    {
     "name": "stderr",
     "output_type": "stream",
     "text": [
      "2022-07-28 08:53:07,828 INFO Sending request to https://cds.climate.copernicus.eu/api/v2/resources/reanalysis-era5-single-levels\n",
      "2022-07-28 08:53:07,934 INFO Welcome to the CDS\n",
      "2022-07-28 08:53:07,934 INFO Sending request to https://cds.climate.copernicus.eu/api/v2/resources/reanalysis-era5-single-levels\n",
      "2022-07-28 08:53:08,063 INFO Welcome to the CDS\n",
      "2022-07-28 08:53:08,064 INFO Sending request to https://cds.climate.copernicus.eu/api/v2/resources/reanalysis-era5-single-levels\n"
     ]
    },
    {
     "name": "stdout",
     "output_type": "stream",
     "text": [
      "2022-07-28 08:53:07.895703 : chargement du fichier 02101X0044_P.nc en cours (eebc7156-0da8-4017-9763-6688b9eb5302).\n",
      "2022-07-28 08:53:08.003327 : chargement du fichier 00581X0015_P.nc en cours (032b74ad-5ead-446e-a9be-a0ca9a3d2f4c).\n"
     ]
    },
    {
     "name": "stderr",
     "output_type": "stream",
     "text": [
      "2022-07-28 08:53:08,179 INFO Welcome to the CDS\n",
      "2022-07-28 08:53:08,180 INFO Sending request to https://cds.climate.copernicus.eu/api/v2/resources/reanalysis-era5-single-levels\n",
      "2022-07-28 08:53:08,277 INFO Welcome to the CDS\n",
      "2022-07-28 08:53:08,278 INFO Sending request to https://cds.climate.copernicus.eu/api/v2/resources/reanalysis-era5-single-levels\n"
     ]
    },
    {
     "name": "stdout",
     "output_type": "stream",
     "text": [
      "2022-07-28 08:53:08.137705 : chargement du fichier 01011X0045_P.nc en cours (1a3752ad-2b57-4aad-aa2e-e50d2e4fffb1).\n",
      "2022-07-28 08:53:08.231751 : chargement du fichier 01482X0055_P.nc en cours (db2b906c-5b90-4122-98a8-76ea7082bfdc).\n"
     ]
    },
    {
     "name": "stderr",
     "output_type": "stream",
     "text": [
      "2022-07-28 08:53:08,389 INFO Welcome to the CDS\n",
      "2022-07-28 08:53:08,390 INFO Sending request to https://cds.climate.copernicus.eu/api/v2/resources/reanalysis-era5-single-levels\n",
      "2022-07-28 08:53:08,520 INFO Welcome to the CDS\n",
      "2022-07-28 08:53:08,521 INFO Sending request to https://cds.climate.copernicus.eu/api/v2/resources/reanalysis-era5-single-levels\n"
     ]
    },
    {
     "name": "stdout",
     "output_type": "stream",
     "text": [
      "2022-07-28 08:53:08.348436 : chargement du fichier 01168X0065_P.nc en cours (05542d60-1462-4c95-95b0-a214dca2dfed).\n",
      "2022-07-28 08:53:08.474868 : chargement du fichier 01232X0006_P.nc en cours (81a97f8f-8eb1-4ae4-b26c-40e57034ecc5).\n"
     ]
    },
    {
     "name": "stderr",
     "output_type": "stream",
     "text": [
      "2022-07-28 08:53:08,647 INFO Welcome to the CDS\n",
      "2022-07-28 08:53:08,647 INFO Sending request to https://cds.climate.copernicus.eu/api/v2/resources/reanalysis-era5-single-levels\n",
      "2022-07-28 08:53:08,762 INFO Welcome to the CDS\n",
      "2022-07-28 08:53:08,762 INFO Sending request to https://cds.climate.copernicus.eu/api/v2/resources/reanalysis-era5-single-levels\n"
     ]
    },
    {
     "name": "stdout",
     "output_type": "stream",
     "text": [
      "2022-07-28 08:53:08.599087 : chargement du fichier 00445X0006_P.nc en cours (06c06289-8fc7-4c09-984f-9da1449de09d).\n",
      "2022-07-28 08:53:08.703804 : chargement du fichier 00606X0086_P.nc en cours (f14e2cbd-3cb9-42c3-9e8e-43b017e49ab0).\n"
     ]
    },
    {
     "name": "stderr",
     "output_type": "stream",
     "text": [
      "2022-07-28 08:53:08,860 INFO Welcome to the CDS\n",
      "2022-07-28 08:53:08,861 INFO Sending request to https://cds.climate.copernicus.eu/api/v2/resources/reanalysis-era5-single-levels\n"
     ]
    },
    {
     "name": "stdout",
     "output_type": "stream",
     "text": [
      "2022-07-28 08:53:08.821519 : chargement du fichier 00441X0007_P.nc en cours (385d0f3f-15c5-48c4-8364-ea2f7bf56cee).\n",
      "2022-07-28 08:53:08.972020 : chargement du fichier 01186X0007_P.nc en cours (3598d178-18f4-48f0-9214-2649718f261f).\n"
     ]
    },
    {
     "name": "stderr",
     "output_type": "stream",
     "text": [
      "2022-07-28 08:53:09,014 INFO Welcome to the CDS\n",
      "2022-07-28 08:53:09,016 INFO Sending request to https://cds.climate.copernicus.eu/api/v2/resources/reanalysis-era5-single-levels\n",
      "2022-07-28 08:53:09,155 INFO Welcome to the CDS\n",
      "2022-07-28 08:53:09,156 INFO Sending request to https://cds.climate.copernicus.eu/api/v2/resources/reanalysis-era5-single-levels\n",
      "2022-07-28 08:53:09,289 INFO Welcome to the CDS\n"
     ]
    },
    {
     "name": "stdout",
     "output_type": "stream",
     "text": [
      "2022-07-28 08:53:09.107963 : chargement du fichier 02473X0037_P.nc en cours (791daccb-bf67-4148-9f1e-c97fa4f38622).\n",
      "2022-07-28 08:53:09.245448 : chargement du fichier 00588X0037_P.nc en cours (4f1e15f4-29ca-4054-a5f7-e9bd4db008ef).\n"
     ]
    },
    {
     "name": "stderr",
     "output_type": "stream",
     "text": [
      "2022-07-28 08:53:09,290 INFO Sending request to https://cds.climate.copernicus.eu/api/v2/resources/reanalysis-era5-single-levels\n",
      "2022-07-28 08:53:09,396 INFO Welcome to the CDS\n",
      "2022-07-28 08:53:09,397 INFO Sending request to https://cds.climate.copernicus.eu/api/v2/resources/reanalysis-era5-single-levels\n",
      "2022-07-28 08:53:09,492 INFO Welcome to the CDS\n",
      "2022-07-28 08:53:09,494 INFO Sending request to https://cds.climate.copernicus.eu/api/v2/resources/reanalysis-era5-single-levels\n"
     ]
    },
    {
     "name": "stdout",
     "output_type": "stream",
     "text": [
      "2022-07-28 08:53:09.355677 : chargement du fichier 01465X0067_P.nc en cours (4105a590-2be4-470c-86be-657b133b03ee).\n",
      "2022-07-28 08:53:09.443816 : chargement du fichier 01004X0019_P.nc en cours (b449e05a-1359-407c-ad4d-ea16e0c4ebdf).\n",
      "2022-07-28 08:53:09.557741 : chargement du fichier 02523X0029_P.nc en cours (7809edfe-42da-4647-9b52-42bb4f240403).\n"
     ]
    },
    {
     "name": "stderr",
     "output_type": "stream",
     "text": [
      "2022-07-28 08:53:09,601 INFO Welcome to the CDS\n",
      "2022-07-28 08:53:09,602 INFO Sending request to https://cds.climate.copernicus.eu/api/v2/resources/reanalysis-era5-single-levels\n",
      "2022-07-28 08:53:09,724 INFO Welcome to the CDS\n",
      "2022-07-28 08:53:09,726 INFO Sending request to https://cds.climate.copernicus.eu/api/v2/resources/reanalysis-era5-single-levels\n",
      "2022-07-28 08:53:09,841 INFO Welcome to the CDS\n",
      "2022-07-28 08:53:09,842 INFO Sending request to https://cds.climate.copernicus.eu/api/v2/resources/reanalysis-era5-single-levels\n"
     ]
    },
    {
     "name": "stdout",
     "output_type": "stream",
     "text": [
      "2022-07-28 08:53:09.675193 : chargement du fichier 00582X0069_P.nc en cours (8eabfd7b-da58-46d4-ad98-58d8f32e5159).\n",
      "2022-07-28 08:53:09.800964 : chargement du fichier BSS003UJSA_X.nc en cours (3bfcc43c-6fa2-4bc2-850c-f77cd61ba516).\n"
     ]
    },
    {
     "name": "stderr",
     "output_type": "stream",
     "text": [
      "2022-07-28 08:53:09,955 INFO Welcome to the CDS\n",
      "2022-07-28 08:53:09,956 INFO Sending request to https://cds.climate.copernicus.eu/api/v2/resources/reanalysis-era5-single-levels\n",
      "2022-07-28 08:53:10,050 INFO Welcome to the CDS\n",
      "2022-07-28 08:53:10,051 INFO Sending request to https://cds.climate.copernicus.eu/api/v2/resources/reanalysis-era5-single-levels\n"
     ]
    },
    {
     "name": "stdout",
     "output_type": "stream",
     "text": [
      "2022-07-28 08:53:09.917629 : chargement du fichier BSS003XOOC_X.nc en cours (695b7182-22fd-42ae-bb63-e1fe9cc7a469).\n",
      "2022-07-28 08:53:10.009387 : chargement du fichier BSS003UKQC_X.nc en cours (5f69afd8-cb2f-40b3-a11e-850354d89172).\n"
     ]
    },
    {
     "name": "stderr",
     "output_type": "stream",
     "text": [
      "2022-07-28 08:53:10,180 INFO Welcome to the CDS\n",
      "2022-07-28 08:53:10,181 INFO Sending request to https://cds.climate.copernicus.eu/api/v2/resources/reanalysis-era5-single-levels\n",
      "2022-07-28 08:53:10,293 INFO Welcome to the CDS\n",
      "2022-07-28 08:53:10,294 INFO Sending request to https://cds.climate.copernicus.eu/api/v2/resources/reanalysis-era5-single-levels\n"
     ]
    },
    {
     "name": "stdout",
     "output_type": "stream",
     "text": [
      "2022-07-28 08:53:10.135057 : chargement du fichier BSS003UJFE_X.nc en cours (91756780-aebe-45e7-9e8a-2ec231b35300).\n",
      "2022-07-28 08:53:10.250752 : chargement du fichier BSS003UKJE_X.nc en cours (43eda6fd-7bda-4a8d-9f0a-e244a6258aec).\n"
     ]
    },
    {
     "name": "stderr",
     "output_type": "stream",
     "text": [
      "2022-07-28 08:53:10,399 INFO Welcome to the CDS\n",
      "2022-07-28 08:53:10,400 INFO Sending request to https://cds.climate.copernicus.eu/api/v2/resources/reanalysis-era5-single-levels\n",
      "2022-07-28 08:53:10,550 INFO Welcome to the CDS\n"
     ]
    },
    {
     "name": "stdout",
     "output_type": "stream",
     "text": [
      "2022-07-28 08:53:10.353547 : chargement du fichier BSS003VETE_X.nc en cours (e6ccc622-257c-43f0-bf5e-2be68db46b62).\n",
      "2022-07-28 08:53:10.511531 : chargement du fichier BSS003VFXE_X.nc en cours (bb72771f-a30a-446d-913d-a3a0cbb76c35).\n"
     ]
    },
    {
     "name": "stderr",
     "output_type": "stream",
     "text": [
      "2022-07-28 08:53:10,551 INFO Sending request to https://cds.climate.copernicus.eu/api/v2/resources/reanalysis-era5-single-levels\n",
      "2022-07-28 08:53:10,679 INFO Welcome to the CDS\n",
      "2022-07-28 08:53:10,680 INFO Sending request to https://cds.climate.copernicus.eu/api/v2/resources/reanalysis-era5-single-levels\n",
      "2022-07-28 08:53:10,780 INFO Welcome to the CDS\n",
      "2022-07-28 08:53:10,780 INFO Sending request to https://cds.climate.copernicus.eu/api/v2/resources/reanalysis-era5-single-levels\n"
     ]
    },
    {
     "name": "stdout",
     "output_type": "stream",
     "text": [
      "2022-07-28 08:53:10.640158 : chargement du fichier BSS003UJOK_X.nc en cours (c171f45f-c454-49b5-9f17-3bd47bb30d8d).\n",
      "2022-07-28 08:53:10.740893 : chargement du fichier BSS003VEVM_X.nc en cours (cab13c99-2b67-4a26-b2b1-6e196e812085).\n"
     ]
    },
    {
     "name": "stderr",
     "output_type": "stream",
     "text": [
      "2022-07-28 08:53:10,890 INFO Welcome to the CDS\n",
      "2022-07-28 08:53:10,890 INFO Sending request to https://cds.climate.copernicus.eu/api/v2/resources/reanalysis-era5-single-levels\n",
      "2022-07-28 08:53:11,020 INFO Welcome to the CDS\n",
      "2022-07-28 08:53:11,020 INFO Sending request to https://cds.climate.copernicus.eu/api/v2/resources/reanalysis-era5-single-levels\n"
     ]
    },
    {
     "name": "stdout",
     "output_type": "stream",
     "text": [
      "2022-07-28 08:53:10.850388 : chargement du fichier BSS003UJHQ_X.nc en cours (796dff5a-ce09-48b3-8be8-27a96c61dbb4).\n",
      "2022-07-28 08:53:10.981049 : chargement du fichier BSS003VEUS_X.nc en cours (cfd94504-65be-48f2-8fc6-4e1ae423e1ae).\n"
     ]
    },
    {
     "name": "stderr",
     "output_type": "stream",
     "text": [
      "2022-07-28 08:53:11,144 INFO Welcome to the CDS\n",
      "2022-07-28 08:53:11,144 INFO Sending request to https://cds.climate.copernicus.eu/api/v2/resources/reanalysis-era5-single-levels\n",
      "2022-07-28 08:53:11,258 INFO Welcome to the CDS\n",
      "2022-07-28 08:53:11,258 INFO Sending request to https://cds.climate.copernicus.eu/api/v2/resources/reanalysis-era5-single-levels\n"
     ]
    },
    {
     "name": "stdout",
     "output_type": "stream",
     "text": [
      "2022-07-28 08:53:11.103731 : chargement du fichier BSS003UKJY_X.nc en cours (b3488232-daff-41ab-875b-629ac35e82f2).\n",
      "2022-07-28 08:53:11.219389 : chargement du fichier BSS003VETY_X.nc en cours (bcf67594-85db-41e2-966b-f9a50124d883).\n"
     ]
    },
    {
     "name": "stderr",
     "output_type": "stream",
     "text": [
      "2022-07-28 08:53:11,422 INFO Welcome to the CDS\n",
      "2022-07-28 08:53:11,423 INFO Sending request to https://cds.climate.copernicus.eu/api/v2/resources/reanalysis-era5-single-levels\n",
      "2022-07-28 08:53:11,576 INFO Welcome to the CDS\n"
     ]
    },
    {
     "name": "stdout",
     "output_type": "stream",
     "text": [
      "2022-07-28 08:53:11.383958 : chargement du fichier BSS003VFXY_X.nc en cours (b7c1b811-178d-4a70-8d6c-9bbfb95902e2).\n",
      "2022-07-28 08:53:11.537670 : chargement du fichier 00955X0066_PZ.nc en cours (290f62a8-c135-4362-bae9-87dde5cf0782).\n"
     ]
    },
    {
     "name": "stderr",
     "output_type": "stream",
     "text": [
      "2022-07-28 08:53:11,577 INFO Sending request to https://cds.climate.copernicus.eu/api/v2/resources/reanalysis-era5-single-levels\n",
      "2022-07-28 08:53:11,713 INFO Welcome to the CDS\n",
      "2022-07-28 08:53:11,713 INFO Sending request to https://cds.climate.copernicus.eu/api/v2/resources/reanalysis-era5-single-levels\n"
     ]
    },
    {
     "name": "stdout",
     "output_type": "stream",
     "text": [
      "2022-07-28 08:53:11.673286 : chargement du fichier 02891X0007_PZ.nc en cours (5dfff1cc-7a70-47c9-a995-e302f3f7062f).\n",
      "2022-07-28 08:53:11.829875 : chargement du fichier 02531X0029_PZ.nc en cours (dc4b6bae-e625-46bf-b5fa-0fab9fdf7540).\n"
     ]
    }
   ],
   "source": [
    "go_requete = input(\"\"\"\n",
    "            Voulez-vous lancer une série de nouvelles requêtes ? /n \n",
    "            Des requêtes pourraient se retrouver en double. /n \n",
    "            Pour lancer les requêtes entrez 'req' et entrée. /n\n",
    "            Sinon, appuyez simplement sur entrée.\n",
    "\"\"\")\n",
    "                   \n",
    "if go_requete == 'req' :\n",
    "                      \n",
    "    for piezo in df_piezo.index:\n",
    "        path_piezo = 'data/era5/' + piezo\n",
    "        path_nc = f\"./{path_piezo}.nc\"\n",
    "        path_pkl = f\"{path_piezo}.pkl\"\n",
    "\n",
    "        if os.path.isfile(path_nc) : #si le fichier nc existe on le converti en pkl\n",
    "            print(f\"Le fichier {path_nc} existe.\")\n",
    "            df = xr.open_dataset(path_nc).to_dataframe().reset_index().to_pickle(path=path_pkl)\n",
    "            print(f\"Fichier {piezo}.nc converti en fichier pickle\")\n",
    "            os.remove(path_nc)\n",
    "            print(f\"Fichier {path_nc} supprimé\")\n",
    "\n",
    "        elif os.path.isfile(path_pkl) : #si le fichier pkl existe, on affiche qu'il existe\n",
    "            print(f\"Le fichier {piezo}.pkl existe déjà.\")\n",
    "            # puis on le supprime de la liste\n",
    "            df_piezo.drop(index=piezo, axis=1)\n",
    "\n",
    "        else : # Sinon on lance une requête auprès de l'API\n",
    "            result = get_on_cds_api(df_piezo, piezo, path_nc)\n",
    "            # récupération de l'id de la requête\n",
    "            dict_bss[piezo] = result.reply[\"request_id\"]\n",
    "            print(f\"{datetime.now()} : chargement du fichier {piezo}.nc en cours ({dict_bss[piezo]}).\")\n",
    "            \n",
    "            # Enregistrement de l'id de requete dans un fichier csv\n",
    "            if os.path.isfile('./data/hist_requetes.csv'): # Si le fichier existe                \n",
    "                with open('./data/hist_requetes.csv', 'a', encoding='utf-8', newline='') as f:  \n",
    "                    writer = csv.writer(f, delimiter = \";\")\n",
    "                    for k, v in dict_bss.items():\n",
    "                        writer.writerow((k, v))\n",
    "            else : # Si le fichier n'existe pas\n",
    "                with open('./data/hist_requetes.csv', 'w', encoding='utf-8', newline='') as f:  \n",
    "                    writer = csv.writer(f, delimiter = \";\")\n",
    "                    writer.writerow([\"code_bss\", \"id_requete\"])\n",
    "                    for k, v in dict_bss.items():\n",
    "                        writer.writerow((k, v))\n",
    "else : \n",
    "    print(\"Aucune requête n'a été lancée.\")"
   ]
  },
  {
   "cell_type": "markdown",
   "id": "7dd081e4",
   "metadata": {},
   "source": [
    "## Récupérer automatiquement les requêtes abouties \n",
    "Peut être lancé à tout moment pour récupérer des fichiers téléchargés "
   ]
  },
  {
   "cell_type": "code",
   "execution_count": 3,
   "id": "1c3b02b5",
   "metadata": {},
   "outputs": [
    {
     "name": "stderr",
     "output_type": "stream",
     "text": [
      "2022-07-28 08:51:10,352 INFO Downloading https://download-0018.copernicus-climate.eu/cache-compute-0018/cache/data5/adaptor.mars.internal-1658750584.5975208-32198-2-8920aaf5-1c5a-4add-82ed-67c578423c7a.nc to ./data/era5/09145X0057_N210.nc (174.6K)\n",
      "2022-07-28 08:51:10,684 INFO Downloading https://download-0020.copernicus-climate.eu/cache-compute-0020/cache/data5/adaptor.mars.internal-1658750584.637897-24257-20-37b83f68-a036-48f6-bea6-33ef2cab27e4.nc to ./data/era5/09406X0643_P130.nc (174.6K)\n",
      "2022-07-28 08:51:10,907 INFO Downloading https://download-0002-clone.copernicus-climate.eu/cache-compute-0002/cache/data7/adaptor.mars.internal-1658750584.7223244-748-17-f82677bd-9e72-4719-a6b6-34952bcfb414.nc to ./data/era5/09145X0059_N340.nc (174.6K)\n",
      "2022-07-28 08:51:11,154 INFO Downloading https://download-0006-clone.copernicus-climate.eu/cache-compute-0006/cache/data2/adaptor.mars.internal-1658749677.502755-29611-3-76c7cec4-9a15-46a5-8e1d-71f7b3f44100.nc to ./data/era5/09735X0070_P40.nc (114.7K)\n",
      "2022-07-28 08:51:11,392 INFO Downloading https://download-0006-clone.copernicus-climate.eu/cache-compute-0006/cache/data8/adaptor.mars.internal-1658750584.6087332-30587-2-6d718716-0f14-43ac-9b83-5255d64e4ee9.nc to ./data/era5/09662X0038_F41.nc (166.1K)\n",
      "2022-07-28 08:51:11,585 INFO Downloading https://download-0008-clone.copernicus-climate.eu/cache-compute-0008/cache/data8/adaptor.mars.internal-1658754565.2844687-18943-3-f51f84d3-cf6e-449a-806c-906aadd02184.nc to ./data/era5/09141X0092_N381.nc (174.6K)\n",
      "2022-07-28 08:51:11,795 INFO Downloading https://download-0017.copernicus-climate.eu/cache-compute-0017/cache/data6/adaptor.mars.internal-1658752564.6065798-16548-14-a0ab0098-ec70-4e09-be7d-eb3cd3f6ee75.nc to ./data/era5/09411X0235_PC1.nc (71.9K)\n",
      "2022-07-28 08:51:12,028 INFO Downloading https://download-0018.copernicus-climate.eu/cache-compute-0018/cache/data6/adaptor.mars.internal-1658753511.9509945-19070-9-35b3d619-32f6-4ab4-bd4a-1f483d769a64.nc to ./data/era5/10462X0117_F1.nc (191.8K)\n",
      "2022-07-28 08:51:12,245 INFO Downloading https://download-0012-clone.copernicus-climate.eu/cache-compute-0012/cache/data4/adaptor.mars.internal-1658752654.1094189-27091-11-f05820c3-5ae0-4d8d-b4ef-8fe9bc18b34a.nc to ./data/era5/09988X0069_F1.nc (149K)\n",
      "2022-07-28 08:51:12,441 INFO Downloading https://download-0014-clone.copernicus-climate.eu/cache-compute-0014/cache/data9/adaptor.mars.internal-1658752223.1596806-31072-9-dac98577-e7ce-41da-934a-ea16b307a3a0.nc to ./data/era5/09993X0229_PZ_L1.nc (114.7K)\n",
      "2022-07-28 08:51:12,695 INFO Downloading https://download-0013-clone.copernicus-climate.eu/cache-compute-0013/cache/data7/adaptor.mars.internal-1658753511.929316-16709-4-d981b497-dd46-4268-ad15-9d759823cfc8.nc to ./data/era5/10212X0029_P1.nc (208.9K)\n",
      "2022-07-28 08:51:12,924 INFO Downloading https://download-0005-clone.copernicus-climate.eu/cache-compute-0005/cache/data5/adaptor.mars.internal-1658751443.425391-27753-2-41c95db5-3568-4b3e-a2f0-21b5650470ee.nc to ./data/era5/09143X0128_PT1.nc (157.5K)\n",
      "2022-07-28 08:51:13,157 INFO Downloading https://download-0004-clone.copernicus-climate.eu/cache-compute-0004/cache/data8/adaptor.mars.internal-1658761780.7460227-5615-20-451e9efc-8e09-4859-8433-e63158912a3e.nc to ./data/era5/09951X0065_P12.nc (268.8K)\n",
      "2022-07-28 08:51:14,178 INFO Downloading https://download-0016.copernicus-climate.eu/cache-compute-0016/cache/data4/adaptor.mars.internal-1658760099.8145125-29081-18-589c0076-1dd7-457f-a6dd-f7aba35c5791.nc to ./data/era5/09954X0146_F2.nc (268.8K)\n",
      "2022-07-28 08:51:14,417 INFO Downloading https://download-0003-clone.copernicus-climate.eu/cache-compute-0003/cache/data9/adaptor.mars.internal-1658757489.3354306-23601-4-b4d7d42b-6af6-4889-b8f6-e353757c7d92.nc to ./data/era5/10202X0117_PN2.nc (166.1K)\n",
      "2022-07-28 08:51:14,602 INFO Downloading https://download-0010-clone.copernicus-climate.eu/cache-compute-0010/cache/data1/adaptor.mars.internal-1658758545.0389996-32309-11-69a7c039-5a33-4c3e-b1eb-6f47383df76a.nc to ./data/era5/09724X0023_P2.nc (268.8K)\n",
      "2022-07-28 08:51:14,962 INFO Download rate 748.2K/s                                                                    \n"
     ]
    },
    {
     "name": "stdout",
     "output_type": "stream",
     "text": [
      "2022-07-28 08:51:14.963081 : Fichier 09724X0023_P2.nc téléchargé.\n",
      "Fichier 09724X0023_P2.nc converti en fichier pickle\n",
      "Fichier ./data/era5/09724X0023_P2.nc.nc supprimé\n"
     ]
    },
    {
     "name": "stderr",
     "output_type": "stream",
     "text": [
      "2022-07-28 08:51:15,167 INFO Downloading https://download-0021.copernicus-climate.eu/cache-compute-0021/cache/data1/adaptor.mars.internal-1658755720.8252316-20710-15-bfdeaa4f-ff3e-4c1a-bfae-374289f3c386.nc to ./data/era5/09675X0123_P2.nc (140.4K)\n",
      "2022-07-28 08:51:15,361 INFO Downloading https://download-0011-clone.copernicus-climate.eu/cache-compute-0011/cache/data9/adaptor.mars.internal-1658757864.438635-15785-18-d08a6f82-eada-4c63-b4f0-ba065ddf5370.nc to ./data/era5/09665X0073_203.nc (268.8K)\n",
      "2022-07-28 08:51:15,616 INFO Downloading https://download-0021.copernicus-climate.eu/cache-compute-0021/cache/data1/adaptor.mars.internal-1658754400.1862056-13003-17-9f7f29ce-f2c3-4766-9b7c-0f1242640969.nc to ./data/era5/09724X0034_P53.nc (106.2K)\n",
      "2022-07-28 08:51:15,820 INFO Downloading https://download-0001-clone.copernicus-climate.eu/cache-compute-0001/cache/data7/adaptor.mars.internal-1658756363.3723745-30582-9-3b7cbb4f-ec60-40f3-80e8-4786721af4f4.nc to ./data/era5/09951X0068_F3.nc (268.8K)\n",
      "2022-07-28 08:51:16,051 INFO Downloading https://download-0000-clone.copernicus-climate.eu/cache-compute-0000/cache/data5/adaptor.mars.internal-1658767032.5059497-22323-2-d012a1ca-154e-4787-a04f-806fedec945b.nc to ./data/era5/10447X0195_P3.nc (268.8K)\n",
      "2022-07-28 08:51:16,292 INFO Downloading https://download-0015-clone.copernicus-climate.eu/cache-compute-0015/cache/data8/adaptor.mars.internal-1658765118.8301313-27699-4-e9ebb7f0-6aeb-470d-bdae-80023c4e1df0.nc to ./data/era5/09664X0207_F44.nc (174.6K)\n",
      "2022-07-28 08:51:16,552 INFO Downloading https://download-0006-clone.copernicus-climate.eu/cache-compute-0006/cache/data7/adaptor.mars.internal-1658764640.740867-9362-6-e0287d64-62cf-48e8-8fa5-7ab6d125f96a.nc to ./data/era5/09146X0240_N184.nc (174.6K)\n",
      "2022-07-28 08:51:16,768 INFO Downloading https://download-0020.copernicus-climate.eu/cache-compute-0020/cache/data4/adaptor.mars.internal-1658763271.687443-25097-9-99387f90-aa04-4ac4-b63a-675921f4c2cd.nc to ./data/era5/09728X0032_P15.nc (114.7K)\n",
      "2022-07-28 08:51:17,006 INFO Downloading https://download-0001-clone.copernicus-climate.eu/cache-compute-0001/cache/data2/adaptor.mars.internal-1658765110.443157-10177-16-5c1cdaff-d121-4b45-afdc-d1475445c4a5.nc to ./data/era5/10475X0083_MGR15.nc (268.8K)\n",
      "2022-07-28 08:51:17,264 INFO Downloading https://download-0005-clone.copernicus-climate.eu/cache-compute-0005/cache/data2/adaptor.mars.internal-1658761447.149454-8844-9-8dee8916-1bea-434c-bae0-a95ff34f18ab.nc to ./data/era5/09994X0399_P-35.nc (114.7K)\n",
      "2022-07-28 08:51:17,438 INFO Downloading https://download-0018.copernicus-climate.eu/cache-compute-0018/cache/data7/adaptor.mars.internal-1658761780.8745902-20464-8-de2b22c9-780f-47f2-b5a3-235c13893140.nc to ./data/era5/09402X0244_P185.nc (174.6K)\n",
      "2022-07-28 08:51:17,635 INFO Downloading https://download-0000-clone.copernicus-climate.eu/cache-compute-0000/cache/data0/adaptor.mars.internal-1658761781.0257568-8874-12-05eed5df-335a-49e2-bc9b-9a60cf220b29.nc to ./data/era5/10453X0295_P4795.nc (268.8K)\n",
      "2022-07-28 08:51:17,841 INFO Downloading https://download-0001-clone.copernicus-climate.eu/cache-compute-0001/cache/data2/adaptor.mars.internal-1658771565.718271-1181-1-ba74d6f5-7a9f-4d5e-9a48-eb4441dfbb4d.nc to ./data/era5/09663X0260_PA5.nc (268.8K)\n",
      "2022-07-28 08:51:18,024 INFO Downloading https://download-0006-clone.copernicus-climate.eu/cache-compute-0006/cache/data8/adaptor.mars.internal-1658769493.8888516-29352-2-ddfe2405-9816-4b08-aff6-e90b96300fa5.nc to ./data/era5/08465X0019_S5.nc (149K)\n",
      "2022-07-28 08:51:18,224 INFO Downloading https://download-0016.copernicus-climate.eu/cache-compute-0016/cache/data3/adaptor.mars.internal-1658774503.1371992-29504-8-b6b574ef-bbfb-4051-b6d7-8ad055e677ae.nc to ./data/era5/09668X0106_16.nc (268.8K)\n",
      "2022-07-28 08:51:18,509 INFO Download rate 944.3K/s                                                                    \n",
      "2022-07-28 08:51:18,559 INFO Downloading https://download-0015-clone.copernicus-climate.eu/cache-compute-0015/cache/data1/adaptor.mars.internal-1658770366.69315-23663-9-8033a709-c99c-4e7a-983a-4d44cf9972d6.nc to ./data/era5/09994X0191_P16.nc (268.8K)\n"
     ]
    },
    {
     "name": "stdout",
     "output_type": "stream",
     "text": [
      "2022-07-28 08:51:18.509320 : Fichier 09668X0106_16.nc téléchargé.\n",
      "Fichier 09668X0106_16.nc converti en fichier pickle\n",
      "Fichier ./data/era5/09668X0106_16.nc.nc supprimé\n"
     ]
    },
    {
     "name": "stderr",
     "output_type": "stream",
     "text": [
      "2022-07-28 08:51:18,721 INFO Downloading https://download-0015-clone.copernicus-climate.eu/cache-compute-0015/cache/data8/adaptor.mars.internal-1658767139.815615-21372-4-c5aa49d8-da1a-4049-8d6d-0a90b5b13fdd.nc to ./data/era5/09994X0400_P-36.nc (114.7K)\n",
      "2022-07-28 08:51:18,926 INFO Downloading https://download-0002-clone.copernicus-climate.eu/cache-compute-0002/cache/data9/adaptor.mars.internal-1658767204.951801-31369-15-a5deaff2-5a6c-409f-8348-daab4b791f47.nc to ./data/era5/09145X0058_N256.nc (174.6K)\n",
      "2022-07-28 08:51:19,126 INFO Downloading https://download-0005-clone.copernicus-climate.eu/cache-compute-0005/cache/data5/adaptor.mars.internal-1658767203.8048234-27135-5-b02f1ffb-02f3-4ce5-ab9f-cc087c2cc616.nc to ./data/era5/08465X0020_S6.nc (149K)\n",
      "2022-07-28 08:51:19,327 INFO Downloading https://download-0004-clone.copernicus-climate.eu/cache-compute-0004/cache/data9/adaptor.mars.internal-1658765027.8783553-6024-1-b169bf8a-702c-4d93-bb44-08ff4f53c8dd.nc to ./data/era5/09724X0028_P37.nc (114.7K)\n",
      "2022-07-28 08:51:19,527 INFO Downloading https://download-0005-clone.copernicus-climate.eu/cache-compute-0005/cache/data2/adaptor.mars.internal-1658774395.092888-17524-15-32f03f74-863c-4cec-b6ae-614d160d5e6a.nc to ./data/era5/09728X0151_P57.nc (114.7K)\n",
      "2022-07-28 08:51:19,759 INFO Downloading https://download-0004-clone.copernicus-climate.eu/cache-compute-0004/cache/data7/adaptor.mars.internal-1658774503.1337337-4005-9-b6922567-fa4e-4353-985c-6d5c1a285087.nc to ./data/era5/09407X0392_156038.nc (174.6K)\n",
      "2022-07-28 08:51:19,912 INFO Downloading https://download-0001-clone.copernicus-climate.eu/cache-compute-0001/cache/data3/adaptor.mars.internal-1658774134.461261-6214-3-7e340c56-d0d4-4d24-92a8-bb234b5a4ded.nc to ./data/era5/09728X0099_P38.nc (114.7K)\n",
      "2022-07-28 08:51:20,128 INFO Downloading https://download-0007-clone.copernicus-climate.eu/cache-compute-0007/cache/data9/adaptor.mars.internal-1658774503.2524726-28102-2-ce07156f-fbc9-42fc-ad2f-00c1933110e0.nc to ./data/era5/09407X0393_P259.nc (174.6K)\n",
      "2022-07-28 08:51:20,344 INFO Downloading https://download-0011-clone.copernicus-climate.eu/cache-compute-0011/cache/data3/adaptor.mars.internal-1658772567.5638247-18921-9-2c726166-bfa6-48d4-b8dc-7c7c801b2e4f.nc to ./data/era5/09728X0168_PZS10A.nc (106.2K)\n",
      "2022-07-28 08:51:20,614 INFO Downloading https://download-0002-clone.copernicus-climate.eu/cache-compute-0002/cache/data2/adaptor.mars.internal-1658771799.6130564-10996-6-120772f7-5ec3-4089-8280-45ac640cbd68.nc to ./data/era5/09994X0535_PZ_ASA.nc (114.7K)\n",
      "2022-07-28 08:51:20,847 INFO Downloading https://download-0010-clone.copernicus-climate.eu/cache-compute-0010/cache/data8/adaptor.mars.internal-1658772226.262864-6371-15-0932f89f-b5bf-460a-ad55-eb0df750828d.nc to ./data/era5/10192X0095_P21B.nc (174.6K)\n",
      "2022-07-28 08:51:21,045 INFO Downloading https://download-0002-clone.copernicus-climate.eu/cache-compute-0002/cache/data9/adaptor.mars.internal-1658770595.3935313-29276-2-9e8e5768-e267-4868-9ce9-69d598027736.nc to ./data/era5/09938X0164_P12B.nc (166.1K)\n",
      "2022-07-28 08:51:21,279 INFO Downloading https://download-0021.copernicus-climate.eu/cache-compute-0021/cache/data9/adaptor.mars.internal-1658778800.23263-4087-7-606e0db5-dcb0-41ec-b898-35c38dc53612.nc to ./data/era5/09937X0133_P42B.nc (174.6K)\n",
      "2022-07-28 08:51:21,462 INFO Downloading https://download-0003-clone.copernicus-climate.eu/cache-compute-0003/cache/data8/adaptor.mars.internal-1658777796.9564602-18692-5-9603a73b-58a8-4be1-9cb5-63f509e6ca6e.nc to ./data/era5/09937X0135_P23B.nc (166.1K)\n",
      "2022-07-28 08:51:21,679 INFO Downloading https://download-0009-clone.copernicus-climate.eu/cache-compute-0009/cache/data3/adaptor.mars.internal-1658778721.7742746-19977-5-9f464889-c66d-43f6-beea-d4706d85ff16.nc to ./data/era5/10651X0293_P134B.nc (268.8K)\n",
      "2022-07-28 08:51:21,897 INFO Downloading https://download-0020.copernicus-climate.eu/cache-compute-0020/cache/data7/adaptor.mars.internal-1658778721.510718-32326-2-abf9a34c-4900-4053-83d3-5c00a48da3ca.nc to ./data/era5/09994X0521_P4B.nc (268.8K)\n",
      "2022-07-28 08:51:22,133 INFO Downloading https://download-0015-clone.copernicus-climate.eu/cache-compute-0015/cache/data7/adaptor.mars.internal-1658776813.811688-22810-11-eb11663b-accb-4fbb-b3c6-34ff5f99aa41.nc to ./data/era5/09934X0087_P18B.nc (166.1K)\n",
      "2022-07-28 08:51:22,365 INFO Downloading https://download-0001-clone.copernicus-climate.eu/cache-compute-0001/cache/data0/adaptor.mars.internal-1658776669.4439118-10428-12-2807b599-004d-4343-84ec-1d86fe96095f.nc to ./data/era5/10193X0151_P29B.nc (174.7K)\n",
      "2022-07-28 08:51:22,566 INFO Downloading https://download-0008-clone.copernicus-climate.eu/cache-compute-0008/cache/data3/adaptor.mars.internal-1658784409.3830194-20844-4-027e8f22-626f-40ab-bc3d-6c9dbaa624a5.nc to ./data/era5/09952X0082_F9B.nc (268.8K)\n",
      "2022-07-28 08:51:22,809 INFO Downloading https://download-0003-clone.copernicus-climate.eu/cache-compute-0003/cache/data1/adaptor.mars.internal-1658781108.3585572-13408-13-2e48b068-1318-4c9f-b742-88b845b79c52.nc to ./data/era5/09993X0232_PZ_MAD.nc (106.2K)\n",
      "2022-07-28 08:51:22,992 INFO Downloading https://download-0002-clone.copernicus-climate.eu/cache-compute-0002/cache/data1/adaptor.mars.internal-1658781000.67489-11802-10-6c67561d-c405-404c-a94f-a9bbd19a4440.nc to ./data/era5/09998X0199_PZ_PID.nc (114.7K)\n",
      "2022-07-28 08:51:23,201 INFO Downloading https://download-0005-clone.copernicus-climate.eu/cache-compute-0005/cache/data5/adaptor.mars.internal-1658781741.238159-5571-6-8fea4b70-0770-432b-9fe0-e8cd3b1f5ed5.nc to ./data/era5/10241X0173_F.nc (226K)\n",
      "2022-07-28 08:51:23,363 INFO Downloading https://download-0006-clone.copernicus-climate.eu/cache-compute-0006/cache/data9/adaptor.mars.internal-1658782370.6123924-12889-10-f2a84988-a008-487b-9d1c-2572f672da35.nc to ./data/era5/10241X0154_F.nc (268.8K)\n",
      "2022-07-28 08:51:23,568 INFO Downloading https://download-0018.copernicus-climate.eu/cache-compute-0018/cache/data0/adaptor.mars.internal-1658780478.9093874-5576-15-bf09ab58-6202-43aa-abfb-08790c9523bc.nc to ./data/era5/10192X0094_F.nc (200.3K)\n",
      "2022-07-28 08:51:23,693 INFO Downloading https://download-0010-clone.copernicus-climate.eu/cache-compute-0010/cache/data3/adaptor.mars.internal-1658778721.239972-27524-16-c8b539ab-818d-4ba9-a9ac-739d533348ca.nc to ./data/era5/10218X0195_F.nc (149K)\n",
      "2022-07-28 08:51:23,871 INFO Downloading https://download-0008-clone.copernicus-climate.eu/cache-compute-0008/cache/data8/adaptor.mars.internal-1658787867.3763046-19596-1-4d77c1ba-f637-4bbf-b93b-df5506341e7b.nc to ./data/era5/10475X0046_F.nc (268.8K)\n",
      "2022-07-28 08:51:24,100 INFO Downloading https://download-0021.copernicus-climate.eu/cache-compute-0021/cache/data8/adaptor.mars.internal-1658785062.3271565-6534-5-07f81c62-f226-4d73-8eb5-d75f7a545cd8.nc to ./data/era5/09662X0246_F.nc (149K)\n",
      "2022-07-28 08:51:24,270 INFO Downloading https://download-0020.copernicus-climate.eu/cache-compute-0020/cache/data9/adaptor.mars.internal-1658785671.2226207-22522-1-3223464f-4706-4b7c-ba45-a53d6f06c46e.nc to ./data/era5/09995X0028_F.nc (268.8K)\n",
      "2022-07-28 08:51:24,439 INFO Downloading https://download-0012-clone.copernicus-climate.eu/cache-compute-0012/cache/data4/adaptor.mars.internal-1658784165.4508388-15132-19-18b5b5ba-7902-4f1a-84ab-d9b0c935457f.nc to ./data/era5/09933X0088_F.nc (149K)\n",
      "2022-07-28 08:51:24,570 INFO Downloading https://download-0013-clone.copernicus-climate.eu/cache-compute-0013/cache/data2/adaptor.mars.internal-1658785062.157253-19429-3-abc6c125-b843-407e-899b-bf5d0858a6ed.nc to ./data/era5/10446X0239_F.nc (217.4K)\n",
      "2022-07-28 08:51:24,770 INFO Downloading https://download-0000-clone.copernicus-climate.eu/cache-compute-0000/cache/data7/adaptor.mars.internal-1658782386.7628834-28812-8-74f54fb9-5c0f-4e9d-a24d-062127d79301.nc to ./data/era5/10225X0089_F.nc (97.6K)\n",
      "2022-07-28 08:51:24,939 INFO Downloading https://download-0003-clone.copernicus-climate.eu/cache-compute-0003/cache/data1/adaptor.mars.internal-1658782308.6799-29567-1-22e73b64-9757-4846-9429-6686cb423370.nc to ./data/era5/09994X0538_PZ_PLF.nc (106.2K)\n",
      "2022-07-28 08:51:25,071 INFO Downloading https://download-0006-clone.copernicus-climate.eu/cache-compute-0006/cache/data7/adaptor.mars.internal-1658790346.5764399-13181-9-4ba33648-87ff-4775-96f5-d24be5167c2d.nc to ./data/era5/09434X0030_2PMI.nc (268.8K)\n"
     ]
    },
    {
     "name": "stderr",
     "output_type": "stream",
     "text": [
      "2022-07-28 08:51:25,256 INFO Downloading https://download-0001-clone.copernicus-climate.eu/cache-compute-0001/cache/data6/adaptor.mars.internal-1658786425.8538263-581-6-8e9d35a0-6a20-4e99-98f5-bb658029084d.nc to ./data/era5/09994X0548_PZ_SAL.nc (106.2K)\n",
      "2022-07-28 08:51:25,425 INFO Downloading https://download-0013-clone.copernicus-climate.eu/cache-compute-0013/cache/data7/adaptor.mars.internal-1658788487.6123636-30583-4-e9db0827-da30-410d-9bc7-dca9fd6a548a.nc to ./data/era5/09994X0534_PZ_COL.nc (71.9K)\n",
      "2022-07-28 08:51:25,587 INFO Downloading https://download-0014-clone.copernicus-climate.eu/cache-compute-0014/cache/data3/adaptor.mars.internal-1658787801.1312878-11075-11-ef2e3547-4c63-4e11-87ae-1da3118b0c7e.nc to ./data/era5/09735X0214_PZS9AM.nc (106.2K)\n",
      "2022-07-28 08:51:25,772 INFO Downloading https://download-0014-clone.copernicus-climate.eu/cache-compute-0014/cache/data9/adaptor.mars.internal-1658787629.8350523-10131-9-e8390db6-d1b3-405b-823d-575f20f3d872.nc to ./data/era5/09993X0230_PZ_BAM.nc (97.6K)\n",
      "2022-07-28 08:51:25,941 INFO Downloading https://download-0019.copernicus-climate.eu/cache-compute-0019/cache/data3/adaptor.mars.internal-1658786758.555409-18450-13-02abe400-8509-4767-9be0-4b24ece21aca.nc to ./data/era5/09735X0217_PZ_BRO.nc (106.2K)\n",
      "2022-07-28 08:51:26,119 INFO Downloading https://download-0004-clone.copernicus-climate.eu/cache-compute-0004/cache/data9/adaptor.mars.internal-1658786888.377807-10651-7-3710441b-b198-4433-a803-2a3264c90c44.nc to ./data/era5/09994X0536_PZ_CRO.nc (114.7K)\n",
      "2022-07-28 08:51:26,304 INFO Downloading https://download-0017.copernicus-climate.eu/cache-compute-0017/cache/data6/adaptor.mars.internal-1658788859.7318203-24998-16-bfc6779d-b8fd-4bc7-b20f-0758e0c28cf3.nc to ./data/era5/09408X0182_P.nc (157.5K)\n",
      "2022-07-28 08:51:26,541 INFO Downloading https://download-0008-clone.copernicus-climate.eu/cache-compute-0008/cache/data2/adaptor.mars.internal-1658793977.7036448-3714-13-101ed67a-3aae-43a1-8fd4-8dfa63278c94.nc to ./data/era5/09172X0094_P.nc (268.8K)\n",
      "2022-07-28 08:51:26,969 INFO Download rate 629K/s                                                                      \n",
      "2022-07-28 08:51:27,048 INFO Downloading https://download-0014-clone.copernicus-climate.eu/cache-compute-0014/cache/data5/adaptor.mars.internal-1658793495.6042352-905-7-ca20ed88-3204-4e5f-abf3-424c54c885ee.nc to ./data/era5/09432X0005_P.nc (268.8K)\n"
     ]
    },
    {
     "name": "stdout",
     "output_type": "stream",
     "text": [
      "2022-07-28 08:51:26.970011 : Fichier 09172X0094_P.nc téléchargé.\n",
      "Fichier 09172X0094_P.nc converti en fichier pickle\n",
      "Fichier ./data/era5/09172X0094_P.nc.nc supprimé\n"
     ]
    },
    {
     "name": "stderr",
     "output_type": "stream",
     "text": [
      "2022-07-28 08:51:27,381 INFO Download rate 810.8K/s                                                                    \n",
      "2022-07-28 08:51:27,463 INFO Downloading https://download-0002-clone.copernicus-climate.eu/cache-compute-0002/cache/data8/adaptor.mars.internal-1658792989.7178867-3285-14-98e05e81-d11e-435c-a449-305eb1fa03bf.nc to ./data/era5/10247X0096_P.nc (131.9K)\n"
     ]
    },
    {
     "name": "stdout",
     "output_type": "stream",
     "text": [
      "2022-07-28 08:51:27.382395 : Fichier 09432X0005_P.nc téléchargé.\n",
      "Fichier 09432X0005_P.nc converti en fichier pickle\n",
      "Fichier ./data/era5/09432X0005_P.nc.nc supprimé\n"
     ]
    },
    {
     "name": "stderr",
     "output_type": "stream",
     "text": [
      "2022-07-28 08:51:27,794 INFO Download rate 397.6K/s                                                                    \n",
      "2022-07-28 08:51:27,844 INFO Downloading https://download-0011-clone.copernicus-climate.eu/cache-compute-0011/cache/data5/adaptor.mars.internal-1658789347.3003356-17368-14-6419cf77-a847-445f-87f1-366d6c02c066.nc to ./data/era5/09172X0078_P.nc (140.4K)\n"
     ]
    },
    {
     "name": "stdout",
     "output_type": "stream",
     "text": [
      "2022-07-28 08:51:27.794691 : Fichier 10247X0096_P.nc téléchargé.\n",
      "Fichier 10247X0096_P.nc converti en fichier pickle\n",
      "Fichier ./data/era5/10247X0096_P.nc.nc supprimé\n"
     ]
    },
    {
     "name": "stderr",
     "output_type": "stream",
     "text": [
      "2022-07-28 08:51:28,050 INFO Downloading https://download-0011-clone.copernicus-climate.eu/cache-compute-0011/cache/data1/adaptor.mars.internal-1658791861.0741184-24920-16-4315712b-06a1-41bb-8a3b-ca3e861694af.nc to ./data/era5/09436X0138_1P.nc (268.8K)\n",
      "2022-07-28 08:51:28,259 INFO Downloading https://download-0018.copernicus-climate.eu/cache-compute-0018/cache/data5/adaptor.mars.internal-1658789809.1595438-16743-13-72688901-462d-4e30-a88e-ff02e8ccb22a.nc to ./data/era5/09994X0533_PZ_GDP.nc (114.7K)\n",
      "2022-07-28 08:51:28,459 INFO Downloading https://download-0011-clone.copernicus-climate.eu/cache-compute-0011/cache/data5/adaptor.mars.internal-1658790209.454544-28593-11-010d69af-42dd-4a70-90df-2b940784f6de.nc to ./data/era5/09998X0197_PZ_HIP.nc (106.2K)\n",
      "2022-07-28 08:51:28,659 INFO Downloading https://download-0010-clone.copernicus-climate.eu/cache-compute-0010/cache/data5/adaptor.mars.internal-1658791715.0813882-7322-4-61a04755-8e4d-466c-9fdc-9f479ba82fc0.nc to ./data/era5/09975X0009_FR.nc (191.8K)\n",
      "2022-07-28 08:51:28,822 INFO Downloading https://download-0016.copernicus-climate.eu/cache-compute-0016/cache/data5/adaptor.mars.internal-1658794703.0312967-15279-11-5bcd1e66-7e5c-483e-8aac-a7225de149e2.nc to ./data/era5/09994X0539_PZ_SOR.nc (37.7K)\n",
      "2022-07-28 08:51:29,044 INFO Downloading https://download-0012-clone.copernicus-climate.eu/cache-compute-0012/cache/data2/adaptor.mars.internal-1658796420.6634007-21919-17-70dacc9d-4974-4493-a620-b489ba60c7a9.nc to ./data/era5/09942X0048_S.nc (166.1K)\n",
      "2022-07-28 08:51:29,245 INFO Downloading https://download-0004-clone.copernicus-climate.eu/cache-compute-0004/cache/data3/adaptor.mars.internal-1658795575.1197693-4915-18-5f866f44-7f7e-4626-8d19-70ae064476aa.nc to ./data/era5/09735X0161_P33BIS.nc (114.7K)\n",
      "2022-07-28 08:51:29,430 INFO Downloading https://download-0008-clone.copernicus-climate.eu/cache-compute-0008/cache/data6/adaptor.mars.internal-1658794117.9810371-13425-12-32db582e-8f94-4b62-b3c9-3bd0d2f57437.nc to ./data/era5/09735X0149_P34BIS.nc (114.7K)\n",
      "2022-07-28 08:51:29,496 INFO Downloading https://download-0003-clone.copernicus-climate.eu/cache-compute-0003/cache/data8/adaptor.mars.internal-1658796364.9267776-21448-6-8c92fa41-3627-4f1d-9bd7-fc2355c836cd.nc to ./data/era5/09954X0144_P5T.nc (268.8K)\n",
      "2022-07-28 08:51:29,676 INFO Downloading https://download-0004-clone.copernicus-climate.eu/cache-compute-0004/cache/data0/adaptor.mars.internal-1658793977.6779854-18214-17-40658754-e749-48dc-89a4-8a2807d68ccf.nc to ./data/era5/09937X0134_P19T.nc (166.1K)\n",
      "2022-07-28 08:51:29,910 INFO Downloading https://download-0009-clone.copernicus-climate.eu/cache-compute-0009/cache/data8/adaptor.mars.internal-1658795160.9504125-4810-7-79ea330f-d260-4df3-9b73-d333ad876ddc.nc to ./data/era5/09998X0196_PZ_VAU.nc (46.3K)\n",
      "2022-07-28 08:51:30,108 INFO Downloading https://download-0000-clone.copernicus-climate.eu/cache-compute-0000/cache/data8/adaptor.mars.internal-1658797554.6915967-10369-5-1f4a3a6b-374d-4274-a913-a1ece839e8e9.nc to ./data/era5/09404X0219_MONTEU.nc (217.4K)\n",
      "2022-07-28 08:51:30,294 INFO Downloading https://download-0021.copernicus-climate.eu/cache-compute-0021/cache/data9/adaptor.mars.internal-1658798148.4262316-11961-8-f8fcf65e-9284-49ee-9e6f-657817b5a22f.nc to ./data/era5/09998X0198_PZ_MOU.nc (106.2K)\n",
      "2022-07-28 08:51:30,525 INFO Downloading https://download-0006-clone.copernicus-climate.eu/cache-compute-0006/cache/data3/adaptor.mars.internal-1658799200.0569115-29057-18-60b2f079-fa0e-4926-a3cb-ef6697d67270.nc to ./data/era5/09994X0537_PZ_ROU.nc (106.2K)\n",
      "2022-07-28 08:51:30,797 INFO Download rate 390.6K/s                                                                    \n",
      "2022-07-28 08:51:30,861 INFO Downloading https://download-0013-clone.copernicus-climate.eu/cache-compute-0013/cache/data1/adaptor.mars.internal-1658800716.9097562-9775-12-f0bed2a5-c3fa-4a57-9e2f-c2e465bc9ff8.nc to ./data/era5/09408X0052_PU.nc (268.8K)\n"
     ]
    },
    {
     "name": "stdout",
     "output_type": "stream",
     "text": [
      "2022-07-28 08:51:30.797517 : Fichier 09994X0537_PZ_ROU.nc téléchargé.\n",
      "Fichier 09994X0537_PZ_ROU.nc converti en fichier pickle\n",
      "Fichier ./data/era5/09994X0537_PZ_ROU.nc.nc supprimé\n"
     ]
    },
    {
     "name": "stderr",
     "output_type": "stream",
     "text": [
      "2022-07-28 08:51:31,050 INFO Downloading https://download-0017.copernicus-climate.eu/cache-compute-0017/cache/data9/adaptor.mars.internal-1658800523.6146288-6711-12-db94a5e4-6fc5-4bd1-9728-9d0bc8a6b114.nc to ./data/era5/09146X0074_PU.nc (268.8K)\n",
      "2022-07-28 08:51:31,265 INFO Downloading https://download-0014-clone.copernicus-climate.eu/cache-compute-0014/cache/data1/adaptor.mars.internal-1658796837.1501489-24744-5-9ea49222-a767-44f8-8afa-04c05c211370.nc to ./data/era5/09735X0224_PZS10V.nc (46.2K)\n",
      "2022-07-28 08:51:31,502 INFO Downloading https://download-0017.copernicus-climate.eu/cache-compute-0017/cache/data2/adaptor.mars.internal-1658796878.0729573-8914-3-89689476-d9cb-410b-af1a-12dbd65330a7.nc to ./data/era5/09735X0215_PZS9AV.nc (106.2K)\n",
      "2022-07-28 08:51:31,681 INFO Downloading https://download-0021.copernicus-climate.eu/cache-compute-0021/cache/data9/adaptor.mars.internal-1658796282.988017-32193-14-9f60916f-c38a-4101-8c14-66e925fa69dc.nc to ./data/era5/09994X0532_PZ_VAV.nc (114.7K)\n",
      "2022-07-28 08:51:31,882 INFO Downloading https://download-0003-clone.copernicus-climate.eu/cache-compute-0003/cache/data7/adaptor.mars.internal-1658798998.5294716-12220-15-84a2c925-ea7b-4115-b370-57c77ca00a17.nc to ./data/era5/10443X0301_PIEZ.nc (183.2K)\n",
      "2022-07-28 08:51:32,099 INFO Downloading https://download-0009-clone.copernicus-climate.eu/cache-compute-0009/cache/data1/adaptor.mars.internal-1658803411.4634063-20683-11-9f803088-c0d4-421d-8210-995fedf9fe8a.nc to ./data/era5/09952X0093_PIEZ.nc (183.2K)\n",
      "2022-07-28 08:51:32,297 INFO Downloading https://download-0012-clone.copernicus-climate.eu/cache-compute-0012/cache/data2/adaptor.mars.internal-1658800542.0488236-26276-5-90d2b2ff-cec2-4167-b39e-e0ebf8ba85d7.nc to ./data/era5/09695X0205_PIEZ.nc (183.2K)\n",
      "2022-07-28 08:51:32,496 INFO Downloading https://download-0010-clone.copernicus-climate.eu/cache-compute-0010/cache/data9/adaptor.mars.internal-1658801456.4488087-20400-16-bed2e3ec-58bc-4af1-9a5b-643e1e94bfcb.nc to ./data/era5/09675X0115_PIEZ.nc (183.2K)\n",
      "2022-07-28 08:51:32,638 INFO Downloading https://download-0019.copernicus-climate.eu/cache-compute-0019/cache/data3/adaptor.mars.internal-1658803413.9987025-17637-10-8ff6c84e-fd79-4421-9e3b-a8b6071f00c1.nc to ./data/era5/10446X0267_PIEZ.nc (183.2K)\n",
      "2022-07-28 08:51:32,897 INFO Downloading https://download-0016.copernicus-climate.eu/cache-compute-0016/cache/data1/adaptor.mars.internal-1658800580.9971435-16483-20-e957759d-003c-48bf-a53c-c2951616c9ca.nc to ./data/era5/10475X0098_PIEZ.nc (114.7K)\n",
      "2022-07-28 08:51:33,068 INFO Downloading https://download-0019.copernicus-climate.eu/cache-compute-0019/cache/data1/adaptor.mars.internal-1658803411.5061393-32096-2-162f9b71-2c70-479e-8a71-be3b47b0a2fe.nc to ./data/era5/10195X0041_PZ.nc (123.3K)\n",
      "2022-07-28 08:51:33,269 INFO Downloading https://download-0000-clone.copernicus-climate.eu/cache-compute-0000/cache/data4/adaptor.mars.internal-1658802196.7090385-18500-20-aa35d41d-1943-4dea-bbcf-9825b8cd6f71.nc to ./data/era5/09924X0114_PZ.nc (123.3K)\n"
     ]
    },
    {
     "name": "stdout",
     "output_type": "stream",
     "text": [
      "103 fichiers ont été téléchargés.\n",
      "Connexion réussie à SQLite\n",
      "Connexion SQLite est fermée\n",
      "Base de données à jour\n"
     ]
    }
   ],
   "source": [
    "# Chargement du dictionnaire à partir du csv d'historiques de requetes\n",
    "with open('./data/hist_requetes.csv', mode='r') as f:\n",
    "    reader = csv.reader(f, delimiter=\";\")\n",
    "    # Permet de sortir la ligne d'en-tête du dictionnaire\n",
    "    headings = next(reader)\n",
    "    dict_bss_from_csv = {rows[0]:rows[1] for rows in reader}\n",
    "\n",
    "nbre_fichier_OK = 0\n",
    "\n",
    "    \n",
    "for piezo in dict_bss_from_csv.copy().keys():\n",
    "    path_piezo = 'data/era5/' + piezo\n",
    "    path_nc = f\"./{path_piezo}.nc\"\n",
    "    path_pkl = f\"{path_piezo}.pkl\"\n",
    "\n",
    "    if not os.path.isfile(path_nc) :\n",
    "        try:\n",
    "            reply = dict(request_id=dict_bss_from_csv[piezo]) # request_id from above\n",
    "            new_client = cdsapi.Client(wait_until_complete=False, delete=False)\n",
    "            result = cdsapi.api.Result(new_client, reply)\n",
    "            result.update()\n",
    "            reply = result.reply\n",
    "            if reply['state'] == 'completed':\n",
    "                nbre_fichier_OK += 1\n",
    "                result.download(path_nc)\n",
    "                print(f\"{datetime.now()} : Fichier {piezo}.nc téléchargé.\")\n",
    "                df = xr.open_dataset(path_nc).to_dataframe().reset_index().to_pickle(path=path_pkl)\n",
    "                print(f\"Fichier {piezo}.nc converti en fichier pickle\")\n",
    "                os.remove(path_nc)\n",
    "                print(f\"Fichier {path_nc}.nc supprimé\")\n",
    "                # Si le fichier a été téléchargé on le supprime de la liste du dictionnaire\n",
    "                del dict_bss[piezo]\n",
    "        except:\n",
    "            #print(f\"Récupération de l'ID {dict_bss_from_csv[piezo]} impossible.\")\n",
    "            pass\n",
    "if nbre_fichier_OK == 0:\n",
    "    print(\"Aucun fichier de récupéré.\")\n",
    "else :\n",
    "    print(f\"{nbre_fichier_OK} fichiers ont été téléchargés.\")\n",
    "\n",
    "# Mise à jour de la base de donnéees (champ fichier_ERA5)\n",
    "bss_era5 = pd.Series([_.replace(\".pkl\",\"\") for _ in os.listdir(r\"./data/era5\") if _.endswith(r\".pkl\")], name=\"era5\")\n",
    "requete_fichier_era5 = f\"\"\"\n",
    "        UPDATE data_piezo\n",
    "        SET fichier_era5 =\n",
    "        (CASE WHEN code_bss IN {tuple(bss_era5)}\n",
    "        THEN 1 ELSE 0 END)\n",
    "        \"\"\"\n",
    "requete_sql(requete_fichier_era5)\n",
    "print(\"Base de données à jour\")"
   ]
  },
  {
   "cell_type": "markdown",
   "id": "af78191b",
   "metadata": {},
   "source": [
    "## Jointure era5 et piezo"
   ]
  },
  {
   "cell_type": "code",
   "execution_count": 4,
   "id": "2354dde5",
   "metadata": {},
   "outputs": [
    {
     "name": "stdout",
     "output_type": "stream",
     "text": [
      "Le fichier comb_09172X0094_P.csv a été créé et contient 11323 obseravtions.\n",
      "Le fichier comb_09432X0005_P.csv a été créé et contient 11323 obseravtions.\n",
      "Le fichier comb_09668X0106_16.csv a été créé et contient 11323 obseravtions.\n",
      "Le fichier comb_09724X0023_P2.csv a été créé et contient 11323 obseravtions.\n",
      "Le fichier comb_09994X0537_PZ_ROU.csv a été créé et contient 4318 obseravtions.\n",
      "Le fichier comb_10247X0096_P.csv a été créé et contient 5467 obseravtions.\n",
      "Connexion réussie à SQLite\n",
      "Connexion SQLite est fermée\n",
      "Base de données à jour\n"
     ]
    }
   ],
   "source": [
    "bss_era5 = pd.Series([_.replace(\".pkl\",\"\") for _ in os.listdir(r\"./data/era5\") if _.endswith(r\".pkl\")], name=\"era5\")\n",
    "bss_piezo = pd.Series([_.replace(\".csv\",\"\") for _ in os.listdir(r\"./data/piezo\") if _.endswith(r\".csv\")], name=\"piezo\")\n",
    "piezos_communs = np.intersect1d(bss_era5, bss_piezo)\n",
    "\n",
    "path = \"./data/combined_data/\"\n",
    "# Le fichier doit avoir un minimum de 100 mesures\n",
    "nb_min_val_com = 100\n",
    "\n",
    "for piezo in piezos_communs :\n",
    "    if not os.path.isfile(f'{path}/comb_{piezo}.csv') : #si le fichier n'existe pas \n",
    "        df_piezo = pd.read_csv(f\"./data/piezo/{piezo}.csv\", sep = \";\", index_col=0, parse_dates=True)\n",
    "        # Group_by date_mesure dans le cas de plusieurs mesures le même jour ce qui provoquerait une erreur\n",
    "        df_piezo = pd.DataFrame(df_piezo.groupby(\"date_mesure\").mean())\n",
    "        df_piezo = df_piezo.resample('1D').asfreq()\n",
    "        df_era5 = pd.read_pickle(f\"./data/era5/{piezo}.pkl\").set_index('time').drop([\"latitude\", \"longitude\"], axis=1)\n",
    "        if \"expver\" in df_era5.columns :\n",
    "            df_era5 = df_era5.loc[df_era5[\"expver\"]==1,:].drop(\"expver\", axis=1)\n",
    "        df = pd.merge(df_piezo, df_era5, how='inner', left_index=True, right_index=True)\n",
    "        nb_com_obs = df.shape[0]\n",
    "        if nb_com_obs >= nb_min_val_com :\n",
    "            df.to_csv(f\"data/combined_data/comb_{piezo}.csv\" ,sep=\";\", index=True)\n",
    "            print(f\"Le fichier comb_{piezo}.csv a été créé et contient {nb_com_obs} obseravtions.\")\n",
    "        else :\n",
    "            print(f\"Le piezo {piezo} ne contient pas assez de données (seulement {nb_com_obs}).\")\n",
    "    else : \n",
    "        #print(f\"Le fichier comb_{piezo}.csv existe déjà.\")\n",
    "        pass\n",
    "        \n",
    "# Mise à jour bdd\n",
    "requete_fichier_combined = f\"\"\"\n",
    "        UPDATE data_piezo\n",
    "        SET fichier_combined =\n",
    "        (CASE WHEN code_bss IN {tuple(piezos_communs)}\n",
    "        THEN 1 ELSE 0 END)\n",
    "        \"\"\"\n",
    "requete_sql(requete_fichier_combined)\n",
    "print(\"Base de données à jour\")"
   ]
  },
  {
   "cell_type": "code",
   "execution_count": null,
   "id": "bdde5112",
   "metadata": {},
   "outputs": [],
   "source": []
  },
  {
   "cell_type": "code",
   "execution_count": null,
   "id": "6465464e",
   "metadata": {},
   "outputs": [],
   "source": []
  },
  {
   "cell_type": "code",
   "execution_count": null,
   "id": "8c474373",
   "metadata": {},
   "outputs": [],
   "source": []
  },
  {
   "cell_type": "markdown",
   "id": "3bae835b",
   "metadata": {},
   "source": [
    "# Récupération manuelle"
   ]
  },
  {
   "cell_type": "code",
   "execution_count": null,
   "id": "62b4b001",
   "metadata": {},
   "outputs": [],
   "source": [
    "reply = dict(request_id=\"54c52ee3-eee4-481d-b72e-fecd315085cb\")\n",
    "new_client = cdsapi.Client(wait_until_complete=False, delete=False)\n",
    "result = cdsapi.api.Result(new_client, reply)\n",
    "result.update()\n",
    "reply = result.reply\n",
    "if reply['state'] == 'completed':\n",
    "    result.download('file.nc')"
   ]
  },
  {
   "cell_type": "code",
   "execution_count": null,
   "id": "f6167cbe",
   "metadata": {},
   "outputs": [],
   "source": []
  },
  {
   "cell_type": "code",
   "execution_count": null,
   "id": "29a97bed",
   "metadata": {},
   "outputs": [],
   "source": []
  },
  {
   "cell_type": "code",
   "execution_count": null,
   "id": "65078627",
   "metadata": {},
   "outputs": [],
   "source": []
  },
  {
   "cell_type": "code",
   "execution_count": null,
   "id": "eb0c36e3",
   "metadata": {},
   "outputs": [],
   "source": []
  },
  {
   "cell_type": "code",
   "execution_count": null,
   "id": "6415ca95",
   "metadata": {},
   "outputs": [],
   "source": [
    "requete_fichier_era5 = f\"\"\"\n",
    "        UPDATE data_piezo\n",
    "        SET fichier_era5 =\n",
    "        (CASE WHEN code_bss IN {tuple(bss_era5)}\n",
    "        THEN 1 ELSE 0 END)\n",
    "        \"\"\"\n",
    "requete_sql(requete_fichier_era5)"
   ]
  },
  {
   "cell_type": "code",
   "execution_count": null,
   "id": "29e4abf1",
   "metadata": {},
   "outputs": [],
   "source": [
    "update table set\n",
    "    columnx = (case when condition then 25 else columnx end)"
   ]
  }
 ],
 "metadata": {
  "kernelspec": {
   "display_name": "Python 3 (ipykernel)",
   "language": "python",
   "name": "python3"
  },
  "language_info": {
   "codemirror_mode": {
    "name": "ipython",
    "version": 3
   },
   "file_extension": ".py",
   "mimetype": "text/x-python",
   "name": "python",
   "nbconvert_exporter": "python",
   "pygments_lexer": "ipython3",
   "version": "3.9.12"
  },
  "toc": {
   "base_numbering": 1,
   "nav_menu": {},
   "number_sections": true,
   "sideBar": true,
   "skip_h1_title": false,
   "title_cell": "Table of Contents",
   "title_sidebar": "Contents",
   "toc_cell": false,
   "toc_position": {},
   "toc_section_display": true,
   "toc_window_display": true
  },
  "varInspector": {
   "cols": {
    "lenName": 16,
    "lenType": 16,
    "lenVar": 40
   },
   "kernels_config": {
    "python": {
     "delete_cmd_postfix": "",
     "delete_cmd_prefix": "del ",
     "library": "var_list.py",
     "varRefreshCmd": "print(var_dic_list())"
    },
    "r": {
     "delete_cmd_postfix": ") ",
     "delete_cmd_prefix": "rm(",
     "library": "var_list.r",
     "varRefreshCmd": "cat(var_dic_list()) "
    }
   },
   "position": {
    "height": "144.83px",
    "left": "1377.45px",
    "right": "20px",
    "top": "119px",
    "width": "350px"
   },
   "types_to_exclude": [
    "module",
    "function",
    "builtin_function_or_method",
    "instance",
    "_Feature"
   ],
   "window_display": false
  }
 },
 "nbformat": 4,
 "nbformat_minor": 5
}
