{
 "cells": [
  {
   "cell_type": "code",
   "execution_count": 1,
   "id": "c26f94a7",
   "metadata": {},
   "outputs": [],
   "source": [
    "import requests\n",
    "import pandas as pd\n",
    "import numpy as np\n",
    "import xarray as xr\n",
    "import sqlite3\n",
    "import os\n",
    "from datetime import datetime\n",
    "import cdsapi\n",
    "import csv"
   ]
  },
  {
   "cell_type": "code",
   "execution_count": 2,
   "id": "4f820390",
   "metadata": {},
   "outputs": [],
   "source": [
    "def requete_sql (requete) :\n",
    "    try:\n",
    "        connexion = sqlite3.connect('./data/liste_piezos.db')\n",
    "        curseur = connexion.cursor()\n",
    "        print(\"Connexion réussie à SQLite\")\n",
    "        curseur.execute(requete)\n",
    "        connexion.commit()\n",
    "        resultat = curseur.fetchall()\n",
    "        curseur.close()\n",
    "        connexion.close()\n",
    "        print(\"Connexion SQLite est fermée\")\n",
    "        return resultat\n",
    "    except sqlite3.Error as error:\n",
    "        print(\"Erreur lors du mis à jour dans la table : \", error)"
   ]
  },
  {
   "cell_type": "markdown",
   "id": "6e076217",
   "metadata": {},
   "source": [
    "# Connexion à la bdd piezo\n",
    "Construction d'un dataframe 'df_piezo' à partir de la requête sur la bdd"
   ]
  },
  {
   "cell_type": "code",
   "execution_count": 9,
   "id": "9069958b",
   "metadata": {},
   "outputs": [],
   "source": [
    "region = \"PAC\""
   ]
  },
  {
   "cell_type": "code",
   "execution_count": 10,
   "id": "4d1b59ae",
   "metadata": {},
   "outputs": [],
   "source": [
    "connexion = sqlite3.connect('./data/liste_piezos.db')\n",
    "curseur = connexion.cursor()\n",
    "requete = f\"\"\"\n",
    "    SELECT code_bss, date_debut, date_fin, nb_mesures_piezo, latitude, longitude \n",
    "        FROM data_piezo\n",
    "    INNER JOIN code_region\n",
    "    ON code_dpt = departement\n",
    "    WHERE code_region IS '{region}'\n",
    "    AND date_debut < '2010-07-01'\n",
    "    AND date_fin > '2010-07-01'\n",
    "\"\"\"\n",
    "\n",
    "df_piezo = pd.read_sql_query(requete, connexion, index_col='code_bss')\n",
    "curseur.close()\n",
    "connexion.close()\n",
    "\n",
    "# Conversion des dates\n",
    "df_piezo[\"date_debut\"] = pd.to_datetime(df_piezo[\"date_debut\"])\n",
    "df_piezo[\"date_fin\"] = pd.to_datetime(df_piezo[\"date_fin\"])"
   ]
  },
  {
   "cell_type": "code",
   "execution_count": 11,
   "id": "d9dce6b6",
   "metadata": {},
   "outputs": [
    {
     "data": {
      "text/html": [
       "<div>\n",
       "<style scoped>\n",
       "    .dataframe tbody tr th:only-of-type {\n",
       "        vertical-align: middle;\n",
       "    }\n",
       "\n",
       "    .dataframe tbody tr th {\n",
       "        vertical-align: top;\n",
       "    }\n",
       "\n",
       "    .dataframe thead th {\n",
       "        text-align: right;\n",
       "    }\n",
       "</style>\n",
       "<table border=\"1\" class=\"dataframe\">\n",
       "  <thead>\n",
       "    <tr style=\"text-align: right;\">\n",
       "      <th></th>\n",
       "      <th>date_debut</th>\n",
       "      <th>date_fin</th>\n",
       "      <th>nb_mesures_piezo</th>\n",
       "      <th>latitude</th>\n",
       "      <th>longitude</th>\n",
       "    </tr>\n",
       "    <tr>\n",
       "      <th>code_bss</th>\n",
       "      <th></th>\n",
       "      <th></th>\n",
       "      <th></th>\n",
       "      <th></th>\n",
       "      <th></th>\n",
       "    </tr>\n",
       "  </thead>\n",
       "  <tbody>\n",
       "    <tr>\n",
       "      <th>09145X0057_N210</th>\n",
       "      <td>2002-01-09</td>\n",
       "      <td>2022-05-22</td>\n",
       "      <td>7248</td>\n",
       "      <td>44.110203</td>\n",
       "      <td>4.751991</td>\n",
       "    </tr>\n",
       "    <tr>\n",
       "      <th>09406X0643_P130</th>\n",
       "      <td>2002-09-01</td>\n",
       "      <td>2022-05-23</td>\n",
       "      <td>6643</td>\n",
       "      <td>43.968625</td>\n",
       "      <td>4.830824</td>\n",
       "    </tr>\n",
       "    <tr>\n",
       "      <th>09145X0059_N340</th>\n",
       "      <td>2002-09-03</td>\n",
       "      <td>2022-05-19</td>\n",
       "      <td>6792</td>\n",
       "      <td>44.178827</td>\n",
       "      <td>4.735269</td>\n",
       "    </tr>\n",
       "    <tr>\n",
       "      <th>09735X0070_P40</th>\n",
       "      <td>2008-06-25</td>\n",
       "      <td>2021-11-30</td>\n",
       "      <td>4397</td>\n",
       "      <td>43.786135</td>\n",
       "      <td>7.217691</td>\n",
       "    </tr>\n",
       "    <tr>\n",
       "      <th>08472X0007_F-1</th>\n",
       "      <td>1987-10-01</td>\n",
       "      <td>2022-05-23</td>\n",
       "      <td>7218</td>\n",
       "      <td>44.738691</td>\n",
       "      <td>6.582662</td>\n",
       "    </tr>\n",
       "    <tr>\n",
       "      <th>...</th>\n",
       "      <td>...</td>\n",
       "      <td>...</td>\n",
       "      <td>...</td>\n",
       "      <td>...</td>\n",
       "      <td>...</td>\n",
       "    </tr>\n",
       "    <tr>\n",
       "      <th>09675X0115_PIEZ</th>\n",
       "      <td>2001-11-20</td>\n",
       "      <td>2022-05-18</td>\n",
       "      <td>6964</td>\n",
       "      <td>43.790683</td>\n",
       "      <td>5.066672</td>\n",
       "    </tr>\n",
       "    <tr>\n",
       "      <th>10446X0267_PIEZ</th>\n",
       "      <td>2001-04-10</td>\n",
       "      <td>2022-05-23</td>\n",
       "      <td>6887</td>\n",
       "      <td>43.287758</td>\n",
       "      <td>5.528774</td>\n",
       "    </tr>\n",
       "    <tr>\n",
       "      <th>10475X0098_PIEZ</th>\n",
       "      <td>2009-12-08</td>\n",
       "      <td>2022-05-22</td>\n",
       "      <td>3903</td>\n",
       "      <td>43.274616</td>\n",
       "      <td>6.565508</td>\n",
       "    </tr>\n",
       "    <tr>\n",
       "      <th>10195X0041_PZ</th>\n",
       "      <td>2008-06-04</td>\n",
       "      <td>2022-05-23</td>\n",
       "      <td>4863</td>\n",
       "      <td>43.440650</td>\n",
       "      <td>4.756835</td>\n",
       "    </tr>\n",
       "    <tr>\n",
       "      <th>09924X0114_PZ</th>\n",
       "      <td>2008-06-04</td>\n",
       "      <td>2022-05-23</td>\n",
       "      <td>4942</td>\n",
       "      <td>43.709449</td>\n",
       "      <td>4.627642</td>\n",
       "    </tr>\n",
       "  </tbody>\n",
       "</table>\n",
       "<p>119 rows × 5 columns</p>\n",
       "</div>"
      ],
      "text/plain": [
       "                date_debut   date_fin  nb_mesures_piezo   latitude  longitude\n",
       "code_bss                                                                     \n",
       "09145X0057_N210 2002-01-09 2022-05-22              7248  44.110203   4.751991\n",
       "09406X0643_P130 2002-09-01 2022-05-23              6643  43.968625   4.830824\n",
       "09145X0059_N340 2002-09-03 2022-05-19              6792  44.178827   4.735269\n",
       "09735X0070_P40  2008-06-25 2021-11-30              4397  43.786135   7.217691\n",
       "08472X0007_F-1  1987-10-01 2022-05-23              7218  44.738691   6.582662\n",
       "...                    ...        ...               ...        ...        ...\n",
       "09675X0115_PIEZ 2001-11-20 2022-05-18              6964  43.790683   5.066672\n",
       "10446X0267_PIEZ 2001-04-10 2022-05-23              6887  43.287758   5.528774\n",
       "10475X0098_PIEZ 2009-12-08 2022-05-22              3903  43.274616   6.565508\n",
       "10195X0041_PZ   2008-06-04 2022-05-23              4863  43.440650   4.756835\n",
       "09924X0114_PZ   2008-06-04 2022-05-23              4942  43.709449   4.627642\n",
       "\n",
       "[119 rows x 5 columns]"
      ]
     },
     "execution_count": 11,
     "metadata": {},
     "output_type": "execute_result"
    }
   ],
   "source": [
    "df_piezo"
   ]
  },
  {
   "cell_type": "markdown",
   "id": "f7d3720d",
   "metadata": {},
   "source": [
    "# Fonction pour lancer les requêtes"
   ]
  },
  {
   "cell_type": "code",
   "execution_count": 12,
   "id": "d46ba37a",
   "metadata": {},
   "outputs": [],
   "source": [
    "def get_on_cds_api(dataframe_piezo, piezo, path):\n",
    "    # Initialisation de la connexion à l'API CDS\n",
    "    # wait_until_complete = False : le programme Python n'attend pas que l'API réponde (issu de la libraie asyncio)\n",
    "    # delete = False : le fichier créé sur le serveur source n'est pas supprimé automatiquement \n",
    "    \n",
    "    date_debut = dataframe_piezo.loc[piezo,'date_debut'].year\n",
    "    date_fin = dataframe_piezo.loc[piezo,'date_fin'].year\n",
    "    \n",
    "    # La limite du nombre de données est de 120000. Avec 10 variables, 31 jours, et 12 mois, on n epeut récupérer que 32 années.\n",
    "    # Si l'interval d'année est supérieur à 32, on réduit la plage de temps à date de fin - 31 ans pour avoir 32 années max.\n",
    "    if date_fin - date_debut >= 32:\n",
    "        date_debut = date_fin - 31\n",
    "    \n",
    "    c = cdsapi.Client(wait_until_complete=False, delete=False)\n",
    "    \n",
    "    # Données à récupérer auprès de l'API\n",
    "    r = c.retrieve(\n",
    "            'reanalysis-era5-single-levels',\n",
    "            {\n",
    "                'product_type': 'reanalysis',\n",
    "                'format': 'netcdf',\n",
    "                'variable': [\n",
    "                    '2m_temperature', 'convective_precipitation', 'convective_rain_rate',\n",
    "                    'convective_snowfall', 'large_scale_rain_rate', 'large_scale_snowfall', 'snowfall',\n",
    "                    'large_scale_snowfall_rate_water_equivalent', 'potential_evaporation',\n",
    "                    'total_precipitation',\n",
    "                ],\n",
    "                'year': [str(date) for date in (np.arange(date_debut, date_fin))],\n",
    "                'month': [\n",
    "                    '01', '02', '03',\n",
    "                    '04', '05', '06',\n",
    "                    '07', '08', '09',\n",
    "                    '10', '11', '12',\n",
    "                ],\n",
    "                'day': [\n",
    "                    '01', '02', '03',\n",
    "                    '04', '05', '06',\n",
    "                    '07', '08', '09',\n",
    "                    '10', '11', '12',\n",
    "                    '13', '14', '15',\n",
    "                    '16', '17', '18',\n",
    "                    '19', '20', '21',\n",
    "                    '22', '23', '24',\n",
    "                    '25', '26', '27',\n",
    "                    '28', '29', '30',\n",
    "                    '31',\n",
    "                ],\n",
    "                'time': '00:00',\n",
    "                'area': [\n",
    "                    df_piezo.loc[piezo,\"latitude\"], df_piezo.loc[piezo,\"longitude\"], df_piezo.loc[piezo,\"latitude\"], df_piezo.loc[piezo,\"longitude\"],\n",
    "                ],\n",
    "            })    \n",
    "    return r"
   ]
  },
  {
   "cell_type": "markdown",
   "id": "aa65468a",
   "metadata": {},
   "source": [
    "## Lancer les requêtes auprès de l'API\n",
    "!!! NE LANCER QU'UNE SEULE FOIS POUR NE PAS CREER DES DOUBLONS DE REQUETES !!!"
   ]
  },
  {
   "cell_type": "markdown",
   "id": "8bb5016a",
   "metadata": {},
   "source": [
    "Un dictionnaire est créé avec en clé le code_bss du piezo et en valeur l'id de la requête"
   ]
  },
  {
   "cell_type": "markdown",
   "id": "fbb5d266",
   "metadata": {},
   "source": [
    "Ne pas lancer la cellule ci-dessous si des requetes sont en cours. "
   ]
  },
  {
   "cell_type": "code",
   "execution_count": 13,
   "id": "413b3c0e",
   "metadata": {},
   "outputs": [],
   "source": [
    "# Parcourir les codes_bss des piezos dans la liste précédemment créé :\n",
    "dict_bss = {}"
   ]
  },
  {
   "cell_type": "code",
   "execution_count": 14,
   "id": "f2853b94",
   "metadata": {},
   "outputs": [
    {
     "name": "stdout",
     "output_type": "stream",
     "text": [
      "\n",
      "            Voulez-vous lancer une série de nouvelles requêtes ? /n \n",
      "            Des requêtes pourraient se retrouver en double. /n \n",
      "            Pour lancer les requêtes entrez 'req' et entrée. /n\n",
      "            Sinon, appuyez simplement sur entrée.\n",
      "req\n"
     ]
    },
    {
     "name": "stderr",
     "output_type": "stream",
     "text": [
      "2022-07-25 13:17:50,970 INFO Welcome to the CDS\n",
      "2022-07-25 13:17:50,970 INFO Sending request to https://cds.climate.copernicus.eu/api/v2/resources/reanalysis-era5-single-levels\n",
      "2022-07-25 13:17:51,115 INFO Welcome to the CDS\n",
      "2022-07-25 13:17:51,116 INFO Sending request to https://cds.climate.copernicus.eu/api/v2/resources/reanalysis-era5-single-levels\n",
      "2022-07-25 13:17:51,240 INFO Welcome to the CDS\n"
     ]
    },
    {
     "name": "stdout",
     "output_type": "stream",
     "text": [
      "2022-07-25 13:17:51.060285 : chargement du fichier 09145X0057_N210.nc en cours (8920aaf5-1c5a-4add-82ed-67c578423c7a).\n",
      "2022-07-25 13:17:51.178780 : chargement du fichier 09406X0643_P130.nc en cours (37b83f68-a036-48f6-bea6-33ef2cab27e4).\n"
     ]
    },
    {
     "name": "stderr",
     "output_type": "stream",
     "text": [
      "2022-07-25 13:17:51,240 INFO Sending request to https://cds.climate.copernicus.eu/api/v2/resources/reanalysis-era5-single-levels\n",
      "2022-07-25 13:17:51,356 INFO Welcome to the CDS\n",
      "2022-07-25 13:17:51,356 INFO Sending request to https://cds.climate.copernicus.eu/api/v2/resources/reanalysis-era5-single-levels\n",
      "2022-07-25 13:17:51,491 INFO Welcome to the CDS\n"
     ]
    },
    {
     "name": "stdout",
     "output_type": "stream",
     "text": [
      "2022-07-25 13:17:51.309218 : chargement du fichier 09145X0059_N340.nc en cours (f82677bd-9e72-4719-a6b6-34952bcfb414).\n",
      "2022-07-25 13:17:51.425170 : chargement du fichier 09735X0070_P40.nc en cours (76c7cec4-9a15-46a5-8e1d-71f7b3f44100).\n",
      "Le fichier 08472X0007_F-1.pkl existe déjà.\n"
     ]
    },
    {
     "name": "stderr",
     "output_type": "stream",
     "text": [
      "2022-07-25 13:17:51,491 INFO Sending request to https://cds.climate.copernicus.eu/api/v2/resources/reanalysis-era5-single-levels\n",
      "2022-07-25 13:17:51,625 INFO Welcome to the CDS\n",
      "2022-07-25 13:17:51,625 INFO Sending request to https://cds.climate.copernicus.eu/api/v2/resources/reanalysis-era5-single-levels\n",
      "2022-07-25 13:17:51,759 INFO Welcome to the CDS\n"
     ]
    },
    {
     "name": "stdout",
     "output_type": "stream",
     "text": [
      "2022-07-25 13:17:51.579000 : chargement du fichier 09662X0038_F41.nc en cours (6d718716-0f14-43ac-9b83-5255d64e4ee9).\n",
      "2022-07-25 13:17:51.704013 : chargement du fichier 09141X0092_N381.nc en cours (f51f84d3-cf6e-449a-806c-906aadd02184).\n"
     ]
    },
    {
     "name": "stderr",
     "output_type": "stream",
     "text": [
      "2022-07-25 13:17:51,760 INFO Sending request to https://cds.climate.copernicus.eu/api/v2/resources/reanalysis-era5-single-levels\n",
      "2022-07-25 13:17:51,887 INFO Welcome to the CDS\n",
      "2022-07-25 13:17:51,889 INFO Sending request to https://cds.climate.copernicus.eu/api/v2/resources/reanalysis-era5-single-levels\n",
      "2022-07-25 13:17:52,009 INFO Welcome to the CDS\n"
     ]
    },
    {
     "name": "stdout",
     "output_type": "stream",
     "text": [
      "2022-07-25 13:17:51.826870 : chargement du fichier 09411X0235_PC1.nc en cours (a0ab0098-ec70-4e09-be7d-eb3cd3f6ee75).\n",
      "2022-07-25 13:17:51.953422 : chargement du fichier 10462X0117_F1.nc en cours (35b3d619-32f6-4ab4-bd4a-1f483d769a64).\n"
     ]
    },
    {
     "name": "stderr",
     "output_type": "stream",
     "text": [
      "2022-07-25 13:17:52,011 INFO Sending request to https://cds.climate.copernicus.eu/api/v2/resources/reanalysis-era5-single-levels\n",
      "2022-07-25 13:17:52,126 INFO Welcome to the CDS\n",
      "2022-07-25 13:17:52,126 INFO Sending request to https://cds.climate.copernicus.eu/api/v2/resources/reanalysis-era5-single-levels\n",
      "2022-07-25 13:17:52,258 INFO Welcome to the CDS\n"
     ]
    },
    {
     "name": "stdout",
     "output_type": "stream",
     "text": [
      "2022-07-25 13:17:52.077269 : chargement du fichier 09988X0069_F1.nc en cours (f05820c3-5ae0-4d8d-b4ef-8fe9bc18b34a).\n",
      "2022-07-25 13:17:52.196289 : chargement du fichier 09993X0229_PZ_L1.nc en cours (dac98577-e7ce-41da-934a-ea16b307a3a0).\n",
      "Le fichier 09441X0013_P1.pkl existe déjà.\n"
     ]
    },
    {
     "name": "stderr",
     "output_type": "stream",
     "text": [
      "2022-07-25 13:17:52,259 INFO Sending request to https://cds.climate.copernicus.eu/api/v2/resources/reanalysis-era5-single-levels\n",
      "2022-07-25 13:17:52,385 INFO Welcome to the CDS\n",
      "2022-07-25 13:17:52,385 INFO Sending request to https://cds.climate.copernicus.eu/api/v2/resources/reanalysis-era5-single-levels\n",
      "2022-07-25 13:17:52,510 INFO Welcome to the CDS\n"
     ]
    },
    {
     "name": "stdout",
     "output_type": "stream",
     "text": [
      "2022-07-25 13:17:52.326099 : chargement du fichier 10212X0029_P1.nc en cours (d981b497-dd46-4268-ad15-9d759823cfc8).\n",
      "Le fichier 08466X0021_S1.pkl existe déjà.\n",
      "2022-07-25 13:17:52.445327 : chargement du fichier 09143X0128_PT1.nc en cours (41c95db5-3568-4b3e-a2f0-21b5650470ee).\n",
      "Le fichier 09964X0020_PZ1.pkl existe déjà.\n",
      "Le fichier 08688X0023_PZ1.pkl existe déjà.\n"
     ]
    },
    {
     "name": "stderr",
     "output_type": "stream",
     "text": [
      "2022-07-25 13:17:52,510 INFO Sending request to https://cds.climate.copernicus.eu/api/v2/resources/reanalysis-era5-single-levels\n",
      "2022-07-25 13:17:52,633 INFO Welcome to the CDS\n",
      "2022-07-25 13:17:52,633 INFO Sending request to https://cds.climate.copernicus.eu/api/v2/resources/reanalysis-era5-single-levels\n",
      "2022-07-25 13:17:52,751 INFO Welcome to the CDS\n"
     ]
    },
    {
     "name": "stdout",
     "output_type": "stream",
     "text": [
      "2022-07-25 13:17:52.576120 : chargement du fichier 09951X0065_P12.nc en cours (451e9efc-8e09-4859-8433-e63158912a3e).\n",
      "2022-07-25 13:17:52.694289 : chargement du fichier 09954X0146_F2.nc en cours (589c0076-1dd7-457f-a6dd-f7aba35c5791).\n",
      "Le fichier 08466X0009_F2.pkl existe déjà.\n"
     ]
    },
    {
     "name": "stderr",
     "output_type": "stream",
     "text": [
      "2022-07-25 13:17:52,752 INFO Sending request to https://cds.climate.copernicus.eu/api/v2/resources/reanalysis-era5-single-levels\n",
      "2022-07-25 13:17:52,862 INFO Welcome to the CDS\n",
      "2022-07-25 13:17:52,862 INFO Sending request to https://cds.climate.copernicus.eu/api/v2/resources/reanalysis-era5-single-levels\n",
      "2022-07-25 13:17:52,992 INFO Welcome to the CDS\n",
      "2022-07-25 13:17:52,992 INFO Sending request to https://cds.climate.copernicus.eu/api/v2/resources/reanalysis-era5-single-levels\n"
     ]
    },
    {
     "name": "stdout",
     "output_type": "stream",
     "text": [
      "2022-07-25 13:17:52.814817 : chargement du fichier 10202X0117_PN2.nc en cours (b4d7d42b-6af6-4889-b8f6-e353757c7d92).\n",
      "2022-07-25 13:17:52.940969 : chargement du fichier 09724X0023_P2.nc en cours (69a7c039-5a33-4c3e-b1eb-6f47383df76a).\n"
     ]
    },
    {
     "name": "stderr",
     "output_type": "stream",
     "text": [
      "2022-07-25 13:17:53,110 INFO Welcome to the CDS\n",
      "2022-07-25 13:17:53,110 INFO Sending request to https://cds.climate.copernicus.eu/api/v2/resources/reanalysis-era5-single-levels\n",
      "2022-07-25 13:17:53,228 INFO Welcome to the CDS\n",
      "2022-07-25 13:17:53,228 INFO Sending request to https://cds.climate.copernicus.eu/api/v2/resources/reanalysis-era5-single-levels\n"
     ]
    },
    {
     "name": "stdout",
     "output_type": "stream",
     "text": [
      "2022-07-25 13:17:53.062426 : chargement du fichier 09675X0123_P2.nc en cours (bfdeaa4f-ff3e-4c1a-bfae-374289f3c386).\n",
      "Le fichier 08466X0022_S2.pkl existe déjà.\n",
      "Le fichier 09692X0128_PZ-3.pkl existe déjà.\n",
      "2022-07-25 13:17:53.178703 : chargement du fichier 09665X0073_203.nc en cours (d08a6f82-eada-4c63-b4f0-ba065ddf5370).\n"
     ]
    },
    {
     "name": "stderr",
     "output_type": "stream",
     "text": [
      "2022-07-25 13:17:53,344 INFO Welcome to the CDS\n",
      "2022-07-25 13:17:53,344 INFO Sending request to https://cds.climate.copernicus.eu/api/v2/resources/reanalysis-era5-single-levels\n",
      "2022-07-25 13:17:53,495 INFO Welcome to the CDS\n"
     ]
    },
    {
     "name": "stdout",
     "output_type": "stream",
     "text": [
      "2022-07-25 13:17:53.301317 : chargement du fichier 09724X0034_P53.nc en cours (9f7f29ce-f2c3-4766-9b7c-0f1242640969).\n",
      "2022-07-25 13:17:53.439453 : chargement du fichier 09951X0068_F3.nc en cours (3b7cbb4f-ec60-40f3-80e8-4786721af4f4).\n"
     ]
    },
    {
     "name": "stderr",
     "output_type": "stream",
     "text": [
      "2022-07-25 13:17:53,496 INFO Sending request to https://cds.climate.copernicus.eu/api/v2/resources/reanalysis-era5-single-levels\n",
      "2022-07-25 13:17:53,629 INFO Welcome to the CDS\n",
      "2022-07-25 13:17:53,631 INFO Sending request to https://cds.climate.copernicus.eu/api/v2/resources/reanalysis-era5-single-levels\n",
      "2022-07-25 13:17:53,755 INFO Welcome to the CDS\n"
     ]
    },
    {
     "name": "stdout",
     "output_type": "stream",
     "text": [
      "2022-07-25 13:17:53.559841 : chargement du fichier 10447X0195_P3.nc en cours (d012a1ca-154e-4787-a04f-806fedec945b).\n",
      "Le fichier 08466X0023_S3.pkl existe déjà.\n",
      "Le fichier 09445X0008_PZ-4.pkl existe déjà.\n",
      "2022-07-25 13:17:53.697388 : chargement du fichier 09664X0207_F44.nc en cours (e9ebb7f0-6aeb-470d-bdae-80023c4e1df0).\n"
     ]
    },
    {
     "name": "stderr",
     "output_type": "stream",
     "text": [
      "2022-07-25 13:17:53,756 INFO Sending request to https://cds.climate.copernicus.eu/api/v2/resources/reanalysis-era5-single-levels\n",
      "2022-07-25 13:17:53,876 INFO Welcome to the CDS\n",
      "2022-07-25 13:17:53,892 INFO Sending request to https://cds.climate.copernicus.eu/api/v2/resources/reanalysis-era5-single-levels\n",
      "2022-07-25 13:17:54,010 INFO Welcome to the CDS\n"
     ]
    },
    {
     "name": "stdout",
     "output_type": "stream",
     "text": [
      "2022-07-25 13:17:53.824452 : chargement du fichier 09146X0240_N184.nc en cours (e0287d64-62cf-48e8-8fa5-7ab6d125f96a).\n",
      "Le fichier 08466X0024_S4.pkl existe déjà.\n",
      "2022-07-25 13:17:53.959580 : chargement du fichier 09728X0032_P15.nc en cours (99387f90-aa04-4ac4-b63a-675921f4c2cd).\n"
     ]
    },
    {
     "name": "stderr",
     "output_type": "stream",
     "text": [
      "2022-07-25 13:17:54,010 INFO Sending request to https://cds.climate.copernicus.eu/api/v2/resources/reanalysis-era5-single-levels\n",
      "2022-07-25 13:17:54,130 INFO Welcome to the CDS\n",
      "2022-07-25 13:17:54,130 INFO Sending request to https://cds.climate.copernicus.eu/api/v2/resources/reanalysis-era5-single-levels\n",
      "2022-07-25 13:17:54,262 INFO Welcome to the CDS\n"
     ]
    },
    {
     "name": "stdout",
     "output_type": "stream",
     "text": [
      "2022-07-25 13:17:54.082534 : chargement du fichier 10475X0083_MGR15.nc en cours (5c1cdaff-d121-4b45-afdc-d1475445c4a5).\n",
      "2022-07-25 13:17:54.212393 : chargement du fichier 09994X0399_P-35.nc en cours (8dee8916-1bea-434c-bae0-a95ff34f18ab).\n"
     ]
    },
    {
     "name": "stderr",
     "output_type": "stream",
     "text": [
      "2022-07-25 13:17:54,277 INFO Sending request to https://cds.climate.copernicus.eu/api/v2/resources/reanalysis-era5-single-levels\n",
      "2022-07-25 13:17:54,410 INFO Welcome to the CDS\n",
      "2022-07-25 13:17:54,411 INFO Sending request to https://cds.climate.copernicus.eu/api/v2/resources/reanalysis-era5-single-levels\n",
      "2022-07-25 13:17:54,531 INFO Welcome to the CDS\n",
      "2022-07-25 13:17:54,532 INFO Sending request to https://cds.climate.copernicus.eu/api/v2/resources/reanalysis-era5-single-levels\n"
     ]
    },
    {
     "name": "stdout",
     "output_type": "stream",
     "text": [
      "2022-07-25 13:17:54.354324 : chargement du fichier 09402X0244_P185.nc en cours (de2b22c9-780f-47f2-b5a3-235c13893140).\n",
      "2022-07-25 13:17:54.475495 : chargement du fichier 10453X0295_P4795.nc en cours (05eed5df-335a-49e2-bc9b-9a60cf220b29).\n"
     ]
    },
    {
     "name": "stderr",
     "output_type": "stream",
     "text": [
      "2022-07-25 13:17:54,649 INFO Welcome to the CDS\n",
      "2022-07-25 13:17:54,650 INFO Sending request to https://cds.climate.copernicus.eu/api/v2/resources/reanalysis-era5-single-levels\n",
      "2022-07-25 13:17:54,771 INFO Welcome to the CDS\n"
     ]
    },
    {
     "name": "stdout",
     "output_type": "stream",
     "text": [
      "2022-07-25 13:17:54.592829 : chargement du fichier 09663X0260_PA5.nc en cours (ba74d6f5-7a9f-4d5e-9a48-eb4441dfbb4d).\n",
      "2022-07-25 13:17:54.713233 : chargement du fichier 08465X0019_S5.nc en cours (ddfe2405-9816-4b08-aff6-e90b96300fa5).\n"
     ]
    },
    {
     "name": "stderr",
     "output_type": "stream",
     "text": [
      "2022-07-25 13:17:54,772 INFO Sending request to https://cds.climate.copernicus.eu/api/v2/resources/reanalysis-era5-single-levels\n",
      "2022-07-25 13:17:54,903 INFO Welcome to the CDS\n",
      "2022-07-25 13:17:54,904 INFO Sending request to https://cds.climate.copernicus.eu/api/v2/resources/reanalysis-era5-single-levels\n",
      "2022-07-25 13:17:55,038 INFO Welcome to the CDS\n"
     ]
    },
    {
     "name": "stdout",
     "output_type": "stream",
     "text": [
      "2022-07-25 13:17:54.848092 : chargement du fichier 09668X0106_16.nc en cours (b6b574ef-bbfb-4051-b6d7-8ad055e677ae).\n",
      "2022-07-25 13:17:54.980814 : chargement du fichier 09994X0191_P16.nc en cours (8033a709-c99c-4e7a-983a-4d44cf9972d6).\n"
     ]
    },
    {
     "name": "stderr",
     "output_type": "stream",
     "text": [
      "2022-07-25 13:17:55,040 INFO Sending request to https://cds.climate.copernicus.eu/api/v2/resources/reanalysis-era5-single-levels\n",
      "2022-07-25 13:17:55,166 INFO Welcome to the CDS\n",
      "2022-07-25 13:17:55,167 INFO Sending request to https://cds.climate.copernicus.eu/api/v2/resources/reanalysis-era5-single-levels\n",
      "2022-07-25 13:17:55,283 INFO Welcome to the CDS\n",
      "2022-07-25 13:17:55,284 INFO Sending request to https://cds.climate.copernicus.eu/api/v2/resources/reanalysis-era5-single-levels\n"
     ]
    },
    {
     "name": "stdout",
     "output_type": "stream",
     "text": [
      "2022-07-25 13:17:55.112695 : chargement du fichier 09994X0400_P-36.nc en cours (c5aa49d8-da1a-4049-8d6d-0a90b5b13fdd).\n",
      "2022-07-25 13:17:55.227804 : chargement du fichier 09145X0058_N256.nc en cours (a5deaff2-5a6c-409f-8348-daab4b791f47).\n"
     ]
    },
    {
     "name": "stderr",
     "output_type": "stream",
     "text": [
      "2022-07-25 13:17:55,400 INFO Welcome to the CDS\n",
      "2022-07-25 13:17:55,401 INFO Sending request to https://cds.climate.copernicus.eu/api/v2/resources/reanalysis-era5-single-levels\n",
      "2022-07-25 13:17:55,524 INFO Welcome to the CDS\n"
     ]
    },
    {
     "name": "stdout",
     "output_type": "stream",
     "text": [
      "2022-07-25 13:17:55.344228 : chargement du fichier 08465X0020_S6.nc en cours (b02f1ffb-02f3-4ce5-ab9f-cc087c2cc616).\n",
      "2022-07-25 13:17:55.467280 : chargement du fichier 09724X0028_P37.nc en cours (b169bf8a-702c-4d93-bb44-08ff4f53c8dd).\n"
     ]
    },
    {
     "name": "stderr",
     "output_type": "stream",
     "text": [
      "2022-07-25 13:17:55,525 INFO Sending request to https://cds.climate.copernicus.eu/api/v2/resources/reanalysis-era5-single-levels\n",
      "2022-07-25 13:17:55,651 INFO Welcome to the CDS\n",
      "2022-07-25 13:17:55,652 INFO Sending request to https://cds.climate.copernicus.eu/api/v2/resources/reanalysis-era5-single-levels\n",
      "2022-07-25 13:17:55,776 INFO Welcome to the CDS\n"
     ]
    },
    {
     "name": "stdout",
     "output_type": "stream",
     "text": [
      "2022-07-25 13:17:55.589108 : chargement du fichier 09728X0151_P57.nc en cours (32f03f74-863c-4cec-b6ae-614d160d5e6a).\n",
      "2022-07-25 13:17:55.725458 : chargement du fichier 09407X0392_156038.nc en cours (b6922567-fa4e-4353-985c-6d5c1a285087).\n"
     ]
    },
    {
     "name": "stderr",
     "output_type": "stream",
     "text": [
      "2022-07-25 13:17:55,776 INFO Sending request to https://cds.climate.copernicus.eu/api/v2/resources/reanalysis-era5-single-levels\n",
      "2022-07-25 13:17:55,893 INFO Welcome to the CDS\n",
      "2022-07-25 13:17:55,908 INFO Sending request to https://cds.climate.copernicus.eu/api/v2/resources/reanalysis-era5-single-levels\n",
      "2022-07-25 13:17:56,029 INFO Welcome to the CDS\n",
      "2022-07-25 13:17:56,029 INFO Sending request to https://cds.climate.copernicus.eu/api/v2/resources/reanalysis-era5-single-levels\n"
     ]
    },
    {
     "name": "stdout",
     "output_type": "stream",
     "text": [
      "2022-07-25 13:17:55.844383 : chargement du fichier 09728X0099_P38.nc en cours (7e340c56-d0d4-4d24-92a8-bb234b5a4ded).\n",
      "2022-07-25 13:17:55.974613 : chargement du fichier 09407X0393_P259.nc en cours (ce07156f-fbc9-42fc-ad2f-00c1933110e0).\n"
     ]
    },
    {
     "name": "stderr",
     "output_type": "stream",
     "text": [
      "2022-07-25 13:17:56,167 INFO Welcome to the CDS\n",
      "2022-07-25 13:17:56,167 INFO Sending request to https://cds.climate.copernicus.eu/api/v2/resources/reanalysis-era5-single-levels\n",
      "2022-07-25 13:17:56,295 INFO Welcome to the CDS\n"
     ]
    },
    {
     "name": "stdout",
     "output_type": "stream",
     "text": [
      "2022-07-25 13:17:56.107454 : chargement du fichier 09728X0168_PZS10A.nc en cours (2c726166-bfa6-48d4-b8dc-7c7c801b2e4f).\n",
      "2022-07-25 13:17:56.240606 : chargement du fichier 09994X0535_PZ_ASA.nc en cours (120772f7-5ec3-4089-8280-45ac640cbd68).\n"
     ]
    },
    {
     "name": "stderr",
     "output_type": "stream",
     "text": [
      "2022-07-25 13:17:56,295 INFO Sending request to https://cds.climate.copernicus.eu/api/v2/resources/reanalysis-era5-single-levels\n",
      "2022-07-25 13:17:56,418 INFO Welcome to the CDS\n",
      "2022-07-25 13:17:56,418 INFO Sending request to https://cds.climate.copernicus.eu/api/v2/resources/reanalysis-era5-single-levels\n",
      "2022-07-25 13:17:56,537 INFO Welcome to the CDS\n"
     ]
    },
    {
     "name": "stdout",
     "output_type": "stream",
     "text": [
      "2022-07-25 13:17:56.352527 : chargement du fichier 10192X0095_P21B.nc en cours (0932f89f-b5bf-460a-ad55-eb0df750828d).\n",
      "2022-07-25 13:17:56.487457 : chargement du fichier 09938X0164_P12B.nc en cours (9e8e5768-e267-4868-9ce9-69d598027736).\n"
     ]
    },
    {
     "name": "stderr",
     "output_type": "stream",
     "text": [
      "2022-07-25 13:17:56,537 INFO Sending request to https://cds.climate.copernicus.eu/api/v2/resources/reanalysis-era5-single-levels\n",
      "2022-07-25 13:17:56,672 INFO Welcome to the CDS\n",
      "2022-07-25 13:17:56,672 INFO Sending request to https://cds.climate.copernicus.eu/api/v2/resources/reanalysis-era5-single-levels\n",
      "2022-07-25 13:17:56,800 INFO Welcome to the CDS\n"
     ]
    },
    {
     "name": "stdout",
     "output_type": "stream",
     "text": [
      "2022-07-25 13:17:56.617307 : chargement du fichier 09937X0133_P42B.nc en cours (606e0db5-dcb0-41ec-b898-35c38dc53612).\n",
      "2022-07-25 13:17:56.738084 : chargement du fichier 09937X0135_P23B.nc en cours (9603a73b-58a8-4be1-9cb5-63f509e6ca6e).\n"
     ]
    },
    {
     "name": "stderr",
     "output_type": "stream",
     "text": [
      "2022-07-25 13:17:56,800 INFO Sending request to https://cds.climate.copernicus.eu/api/v2/resources/reanalysis-era5-single-levels\n",
      "2022-07-25 13:17:56,920 INFO Welcome to the CDS\n",
      "2022-07-25 13:17:56,920 INFO Sending request to https://cds.climate.copernicus.eu/api/v2/resources/reanalysis-era5-single-levels\n",
      "2022-07-25 13:17:57,054 INFO Welcome to the CDS\n"
     ]
    },
    {
     "name": "stdout",
     "output_type": "stream",
     "text": [
      "2022-07-25 13:17:56.858016 : chargement du fichier 10651X0293_P134B.nc en cours (9f464889-c66d-43f6-beea-d4706d85ff16).\n",
      "2022-07-25 13:17:56.999684 : chargement du fichier 09994X0521_P4B.nc en cours (abf9a34c-4900-4053-83d3-5c00a48da3ca).\n"
     ]
    },
    {
     "name": "stderr",
     "output_type": "stream",
     "text": [
      "2022-07-25 13:17:57,057 INFO Sending request to https://cds.climate.copernicus.eu/api/v2/resources/reanalysis-era5-single-levels\n",
      "2022-07-25 13:17:57,170 INFO Welcome to the CDS\n",
      "2022-07-25 13:17:57,170 INFO Sending request to https://cds.climate.copernicus.eu/api/v2/resources/reanalysis-era5-single-levels\n"
     ]
    },
    {
     "name": "stdout",
     "output_type": "stream",
     "text": [
      "2022-07-25 13:17:57.121170 : chargement du fichier 09934X0087_P18B.nc en cours (eb11663b-accb-4fbb-b3c6-34ff5f99aa41).\n",
      "2022-07-25 13:17:57.239055 : chargement du fichier 10193X0151_P29B.nc en cours (2807b599-004d-4343-84ec-1d86fe96095f).\n"
     ]
    },
    {
     "name": "stderr",
     "output_type": "stream",
     "text": [
      "2022-07-25 13:17:57,486 INFO Welcome to the CDS\n",
      "2022-07-25 13:17:57,486 INFO Sending request to https://cds.climate.copernicus.eu/api/v2/resources/reanalysis-era5-single-levels\n",
      "2022-07-25 13:17:57,601 INFO Welcome to the CDS\n",
      "2022-07-25 13:17:57,601 INFO Sending request to https://cds.climate.copernicus.eu/api/v2/resources/reanalysis-era5-single-levels\n"
     ]
    },
    {
     "name": "stdout",
     "output_type": "stream",
     "text": [
      "2022-07-25 13:17:57.539504 : chargement du fichier 09952X0082_F9B.nc en cours (027e8f22-626f-40ab-bc3d-6c9dbaa624a5).\n",
      "2022-07-25 13:17:57.673502 : chargement du fichier 09993X0232_PZ_MAD.nc en cours (2e48b068-1318-4c9f-b742-88b845b79c52).\n"
     ]
    },
    {
     "name": "stderr",
     "output_type": "stream",
     "text": [
      "2022-07-25 13:17:57,739 INFO Welcome to the CDS\n",
      "2022-07-25 13:17:57,739 INFO Sending request to https://cds.climate.copernicus.eu/api/v2/resources/reanalysis-era5-single-levels\n",
      "2022-07-25 13:17:57,875 INFO Welcome to the CDS\n",
      "2022-07-25 13:17:57,875 INFO Sending request to https://cds.climate.copernicus.eu/api/v2/resources/reanalysis-era5-single-levels\n"
     ]
    },
    {
     "name": "stdout",
     "output_type": "stream",
     "text": [
      "2022-07-25 13:17:57.812075 : chargement du fichier 09998X0199_PZ_PID.nc en cours (6c67561d-c405-404c-a94f-a9bbd19a4440).\n",
      "2022-07-25 13:17:57.941945 : chargement du fichier 10241X0173_F.nc en cours (8fea4b70-0770-432b-9fe0-e8cd3b1f5ed5).\n"
     ]
    },
    {
     "name": "stderr",
     "output_type": "stream",
     "text": [
      "2022-07-25 13:17:58,008 INFO Welcome to the CDS\n",
      "2022-07-25 13:17:58,009 INFO Sending request to https://cds.climate.copernicus.eu/api/v2/resources/reanalysis-era5-single-levels\n",
      "2022-07-25 13:17:58,129 INFO Welcome to the CDS\n",
      "2022-07-25 13:17:58,130 INFO Sending request to https://cds.climate.copernicus.eu/api/v2/resources/reanalysis-era5-single-levels\n"
     ]
    },
    {
     "name": "stdout",
     "output_type": "stream",
     "text": [
      "2022-07-25 13:17:58.070298 : chargement du fichier 10241X0154_F.nc en cours (f2a84988-a008-487b-9d1c-2572f672da35).\n"
     ]
    },
    {
     "name": "stderr",
     "output_type": "stream",
     "text": [
      "2022-07-25 13:17:58,422 INFO Welcome to the CDS\n",
      "2022-07-25 13:17:58,424 INFO Sending request to https://cds.climate.copernicus.eu/api/v2/resources/reanalysis-era5-single-levels\n",
      "2022-07-25 13:17:58,570 INFO Welcome to the CDS\n"
     ]
    },
    {
     "name": "stdout",
     "output_type": "stream",
     "text": [
      "2022-07-25 13:17:58.367878 : chargement du fichier 10192X0094_F.nc en cours (bf09ab58-6202-43aa-abfb-08790c9523bc).\n",
      "2022-07-25 13:17:58.512888 : chargement du fichier 10218X0195_F.nc en cours (c8b539ab-818d-4ba9-a9ac-739d533348ca).\n"
     ]
    },
    {
     "name": "stderr",
     "output_type": "stream",
     "text": [
      "2022-07-25 13:17:58,570 INFO Sending request to https://cds.climate.copernicus.eu/api/v2/resources/reanalysis-era5-single-levels\n",
      "2022-07-25 13:17:58,788 INFO Welcome to the CDS\n",
      "2022-07-25 13:17:58,790 INFO Sending request to https://cds.climate.copernicus.eu/api/v2/resources/reanalysis-era5-single-levels\n"
     ]
    },
    {
     "name": "stdout",
     "output_type": "stream",
     "text": [
      "2022-07-25 13:17:58.711744 : chargement du fichier 10475X0046_F.nc en cours (4d77c1ba-f637-4bbf-b93b-df5506341e7b).\n",
      "2022-07-25 13:17:58.861362 : chargement du fichier 09662X0246_F.nc en cours (07f81c62-f226-4d73-8eb5-d75f7a545cd8).\n"
     ]
    },
    {
     "name": "stderr",
     "output_type": "stream",
     "text": [
      "2022-07-25 13:17:58,923 INFO Welcome to the CDS\n",
      "2022-07-25 13:17:58,923 INFO Sending request to https://cds.climate.copernicus.eu/api/v2/resources/reanalysis-era5-single-levels\n",
      "2022-07-25 13:17:59,061 INFO Welcome to the CDS\n",
      "2022-07-25 13:17:59,061 INFO Sending request to https://cds.climate.copernicus.eu/api/v2/resources/reanalysis-era5-single-levels\n",
      "2022-07-25 13:17:59,186 INFO Welcome to the CDS\n",
      "2022-07-25 13:17:59,187 INFO Sending request to https://cds.climate.copernicus.eu/api/v2/resources/reanalysis-era5-single-levels\n"
     ]
    },
    {
     "name": "stdout",
     "output_type": "stream",
     "text": [
      "2022-07-25 13:17:59.014659 : chargement du fichier 09995X0028_F.nc en cours (3223464f-4706-4b7c-ba45-a53d6f06c46e).\n",
      "2022-07-25 13:17:59.130609 : chargement du fichier 09933X0088_F.nc en cours (18b5b5ba-7902-4f1a-84ab-d9b0c935457f).\n"
     ]
    },
    {
     "name": "stderr",
     "output_type": "stream",
     "text": [
      "2022-07-25 13:17:59,309 INFO Welcome to the CDS\n",
      "2022-07-25 13:17:59,310 INFO Sending request to https://cds.climate.copernicus.eu/api/v2/resources/reanalysis-era5-single-levels\n",
      "2022-07-25 13:17:59,425 INFO Welcome to the CDS\n",
      "2022-07-25 13:17:59,426 INFO Sending request to https://cds.climate.copernicus.eu/api/v2/resources/reanalysis-era5-single-levels\n"
     ]
    },
    {
     "name": "stdout",
     "output_type": "stream",
     "text": [
      "2022-07-25 13:17:59.253777 : chargement du fichier 10446X0239_F.nc en cours (abc6c125-b843-407e-899b-bf5d0858a6ed).\n",
      "2022-07-25 13:17:59.370512 : chargement du fichier 10225X0089_F.nc en cours (74f54fb9-5c0f-4e9d-a24d-062127d79301).\n"
     ]
    },
    {
     "name": "stderr",
     "output_type": "stream",
     "text": [
      "2022-07-25 13:17:59,546 INFO Welcome to the CDS\n",
      "2022-07-25 13:17:59,548 INFO Sending request to https://cds.climate.copernicus.eu/api/v2/resources/reanalysis-era5-single-levels\n",
      "2022-07-25 13:17:59,691 INFO Welcome to the CDS\n"
     ]
    },
    {
     "name": "stdout",
     "output_type": "stream",
     "text": [
      "2022-07-25 13:17:59.489479 : chargement du fichier 09994X0538_PZ_PLF.nc en cours (22e73b64-9757-4846-9429-6686cb423370).\n",
      "2022-07-25 13:17:59.633519 : chargement du fichier 09434X0030_2PMI.nc en cours (4ba33648-87ff-4775-96f5-d24be5167c2d).\n"
     ]
    },
    {
     "name": "stderr",
     "output_type": "stream",
     "text": [
      "2022-07-25 13:17:59,693 INFO Sending request to https://cds.climate.copernicus.eu/api/v2/resources/reanalysis-era5-single-levels\n",
      "2022-07-25 13:17:59,818 INFO Welcome to the CDS\n",
      "2022-07-25 13:17:59,819 INFO Sending request to https://cds.climate.copernicus.eu/api/v2/resources/reanalysis-era5-single-levels\n",
      "2022-07-25 13:17:59,942 INFO Welcome to the CDS\n"
     ]
    },
    {
     "name": "stdout",
     "output_type": "stream",
     "text": [
      "2022-07-25 13:17:59.760357 : chargement du fichier 09994X0548_PZ_SAL.nc en cours (8e9d35a0-6a20-4e99-98f5-bb658029084d).\n",
      "2022-07-25 13:17:59.888001 : chargement du fichier 09994X0534_PZ_COL.nc en cours (e9db0827-da30-410d-9bc7-dca9fd6a548a).\n"
     ]
    },
    {
     "name": "stderr",
     "output_type": "stream",
     "text": [
      "2022-07-25 13:17:59,943 INFO Sending request to https://cds.climate.copernicus.eu/api/v2/resources/reanalysis-era5-single-levels\n",
      "2022-07-25 13:18:00,068 INFO Welcome to the CDS\n",
      "2022-07-25 13:18:00,068 INFO Sending request to https://cds.climate.copernicus.eu/api/v2/resources/reanalysis-era5-single-levels\n",
      "2022-07-25 13:18:00,181 INFO Welcome to the CDS\n",
      "2022-07-25 13:18:00,181 INFO Sending request to https://cds.climate.copernicus.eu/api/v2/resources/reanalysis-era5-single-levels\n"
     ]
    },
    {
     "name": "stdout",
     "output_type": "stream",
     "text": [
      "2022-07-25 13:18:00.012723 : chargement du fichier 09735X0214_PZS9AM.nc en cours (ef2e3547-4c63-4e11-87ae-1da3118b0c7e).\n",
      "2022-07-25 13:18:00.128060 : chargement du fichier 09993X0230_PZ_BAM.nc en cours (e8390db6-d1b3-405b-823d-575f20f3d872).\n"
     ]
    },
    {
     "name": "stderr",
     "output_type": "stream",
     "text": [
      "2022-07-25 13:18:00,295 INFO Welcome to the CDS\n",
      "2022-07-25 13:18:00,295 INFO Sending request to https://cds.climate.copernicus.eu/api/v2/resources/reanalysis-era5-single-levels\n",
      "2022-07-25 13:18:00,409 INFO Welcome to the CDS\n",
      "2022-07-25 13:18:00,409 INFO Sending request to https://cds.climate.copernicus.eu/api/v2/resources/reanalysis-era5-single-levels\n"
     ]
    },
    {
     "name": "stdout",
     "output_type": "stream",
     "text": [
      "2022-07-25 13:18:00.241408 : chargement du fichier 09735X0217_PZ_BRO.nc en cours (02abe400-8509-4767-9be0-4b24ece21aca).\n",
      "2022-07-25 13:18:00.345683 : chargement du fichier 09994X0536_PZ_CRO.nc en cours (3710441b-b198-4433-a803-2a3264c90c44).\n"
     ]
    },
    {
     "name": "stderr",
     "output_type": "stream",
     "text": [
      "2022-07-25 13:18:00,522 INFO Welcome to the CDS\n",
      "2022-07-25 13:18:00,522 INFO Sending request to https://cds.climate.copernicus.eu/api/v2/resources/reanalysis-era5-single-levels\n",
      "2022-07-25 13:18:00,646 INFO Welcome to the CDS\n"
     ]
    },
    {
     "name": "stdout",
     "output_type": "stream",
     "text": [
      "2022-07-25 13:18:00.460299 : chargement du fichier 09408X0182_P.nc en cours (bfc6779d-b8fd-4bc7-b20f-0758e0c28cf3).\n",
      "2022-07-25 13:18:00.586830 : chargement du fichier 09172X0094_P.nc en cours (101ed67a-3aae-43a1-8fd4-8dfa63278c94).\n"
     ]
    },
    {
     "name": "stderr",
     "output_type": "stream",
     "text": [
      "2022-07-25 13:18:00,646 INFO Sending request to https://cds.climate.copernicus.eu/api/v2/resources/reanalysis-era5-single-levels\n",
      "2022-07-25 13:18:00,797 INFO Welcome to the CDS\n",
      "2022-07-25 13:18:00,797 INFO Sending request to https://cds.climate.copernicus.eu/api/v2/resources/reanalysis-era5-single-levels\n",
      "2022-07-25 13:18:00,910 INFO Welcome to the CDS\n",
      "2022-07-25 13:18:00,911 INFO Sending request to https://cds.climate.copernicus.eu/api/v2/resources/reanalysis-era5-single-levels\n"
     ]
    },
    {
     "name": "stdout",
     "output_type": "stream",
     "text": [
      "2022-07-25 13:18:00.743214 : chargement du fichier 09432X0005_P.nc en cours (ca20ed88-3204-4e5f-abf3-424c54c885ee).\n",
      "2022-07-25 13:18:00.857909 : chargement du fichier 10247X0096_P.nc en cours (98e05e81-d11e-435c-a449-305eb1fa03bf).\n"
     ]
    },
    {
     "name": "stderr",
     "output_type": "stream",
     "text": [
      "2022-07-25 13:18:01,026 INFO Welcome to the CDS\n",
      "2022-07-25 13:18:01,026 INFO Sending request to https://cds.climate.copernicus.eu/api/v2/resources/reanalysis-era5-single-levels\n",
      "2022-07-25 13:18:01,140 INFO Welcome to the CDS\n",
      "2022-07-25 13:18:01,140 INFO Sending request to https://cds.climate.copernicus.eu/api/v2/resources/reanalysis-era5-single-levels\n"
     ]
    },
    {
     "name": "stdout",
     "output_type": "stream",
     "text": [
      "2022-07-25 13:18:00.972275 : chargement du fichier 09172X0078_P.nc en cours (6419cf77-a847-445f-87f1-366d6c02c066).\n",
      "Le fichier 09693X0029_P.pkl existe déjà.\n",
      "2022-07-25 13:18:01.086022 : chargement du fichier 09436X0138_1P.nc en cours (4315712b-06a1-41bb-8a3b-ca3e861694af).\n",
      "Le fichier 09437X0036_23P.pkl existe déjà.\n"
     ]
    },
    {
     "name": "stderr",
     "output_type": "stream",
     "text": [
      "2022-07-25 13:18:01,253 INFO Welcome to the CDS\n",
      "2022-07-25 13:18:01,254 INFO Sending request to https://cds.climate.copernicus.eu/api/v2/resources/reanalysis-era5-single-levels\n",
      "2022-07-25 13:18:01,366 INFO Welcome to the CDS\n",
      "2022-07-25 13:18:01,367 INFO Sending request to https://cds.climate.copernicus.eu/api/v2/resources/reanalysis-era5-single-levels\n"
     ]
    },
    {
     "name": "stdout",
     "output_type": "stream",
     "text": [
      "2022-07-25 13:18:01.201179 : chargement du fichier 09994X0533_PZ_GDP.nc en cours (72688901-462d-4e30-a88e-ff02e8ccb22a).\n",
      "2022-07-25 13:18:01.312391 : chargement du fichier 09998X0197_PZ_HIP.nc en cours (010d69af-42dd-4a70-90df-2b940784f6de).\n"
     ]
    },
    {
     "name": "stderr",
     "output_type": "stream",
     "text": [
      "2022-07-25 13:18:01,498 INFO Welcome to the CDS\n",
      "2022-07-25 13:18:01,498 INFO Sending request to https://cds.climate.copernicus.eu/api/v2/resources/reanalysis-era5-single-levels\n"
     ]
    },
    {
     "name": "stdout",
     "output_type": "stream",
     "text": [
      "2022-07-25 13:18:01.444476 : chargement du fichier 09975X0009_FR.nc en cours (61a04755-8e4d-466c-9fdc-9f479ba82fc0).\n",
      "2022-07-25 13:18:01.573068 : chargement du fichier 09994X0539_PZ_SOR.nc en cours (5bcd1e66-7e5c-483e-8aac-a7225de149e2).\n"
     ]
    },
    {
     "name": "stderr",
     "output_type": "stream",
     "text": [
      "2022-07-25 13:18:01,626 INFO Welcome to the CDS\n",
      "2022-07-25 13:18:01,626 INFO Sending request to https://cds.climate.copernicus.eu/api/v2/resources/reanalysis-era5-single-levels\n",
      "2022-07-25 13:18:01,750 INFO Welcome to the CDS\n",
      "2022-07-25 13:18:01,751 INFO Sending request to https://cds.climate.copernicus.eu/api/v2/resources/reanalysis-era5-single-levels\n",
      "2022-07-25 13:18:01,865 INFO Welcome to the CDS\n",
      "2022-07-25 13:18:01,866 INFO Sending request to https://cds.climate.copernicus.eu/api/v2/resources/reanalysis-era5-single-levels\n"
     ]
    },
    {
     "name": "stdout",
     "output_type": "stream",
     "text": [
      "2022-07-25 13:18:01.696778 : chargement du fichier 09942X0048_S.nc en cours (70dacc9d-4974-4493-a620-b489ba60c7a9).\n",
      "2022-07-25 13:18:01.812478 : chargement du fichier 09735X0161_P33BIS.nc en cours (5f866f44-7f7e-4626-8d19-70ae064476aa).\n"
     ]
    },
    {
     "name": "stderr",
     "output_type": "stream",
     "text": [
      "2022-07-25 13:18:01,980 INFO Welcome to the CDS\n",
      "2022-07-25 13:18:01,981 INFO Sending request to https://cds.climate.copernicus.eu/api/v2/resources/reanalysis-era5-single-levels\n",
      "2022-07-25 13:18:02,094 INFO Welcome to the CDS\n",
      "2022-07-25 13:18:02,094 INFO Sending request to https://cds.climate.copernicus.eu/api/v2/resources/reanalysis-era5-single-levels\n"
     ]
    },
    {
     "name": "stdout",
     "output_type": "stream",
     "text": [
      "2022-07-25 13:18:01.926597 : chargement du fichier 09735X0149_P34BIS.nc en cours (32db582e-8f94-4b62-b3c9-3bd0d2f57437).\n",
      "2022-07-25 13:18:02.040682 : chargement du fichier 09954X0144_P5T.nc en cours (8c92fa41-3627-4f1d-9bd7-fc2355c836cd).\n"
     ]
    },
    {
     "name": "stderr",
     "output_type": "stream",
     "text": [
      "2022-07-25 13:18:02,211 INFO Welcome to the CDS\n",
      "2022-07-25 13:18:02,212 INFO Sending request to https://cds.climate.copernicus.eu/api/v2/resources/reanalysis-era5-single-levels\n",
      "2022-07-25 13:18:02,330 INFO Welcome to the CDS\n"
     ]
    },
    {
     "name": "stdout",
     "output_type": "stream",
     "text": [
      "2022-07-25 13:18:02.156814 : chargement du fichier 09937X0134_P19T.nc en cours (40658754-e749-48dc-89a4-8a2807d68ccf).\n",
      "2022-07-25 13:18:02.273507 : chargement du fichier 09998X0196_PZ_VAU.nc en cours (79ea330f-d260-4df3-9b73-d333ad876ddc).\n"
     ]
    },
    {
     "name": "stderr",
     "output_type": "stream",
     "text": [
      "2022-07-25 13:18:02,331 INFO Sending request to https://cds.climate.copernicus.eu/api/v2/resources/reanalysis-era5-single-levels\n",
      "2022-07-25 13:18:02,451 INFO Welcome to the CDS\n",
      "2022-07-25 13:18:02,452 INFO Sending request to https://cds.climate.copernicus.eu/api/v2/resources/reanalysis-era5-single-levels\n",
      "2022-07-25 13:18:02,571 INFO Welcome to the CDS\n",
      "2022-07-25 13:18:02,572 INFO Sending request to https://cds.climate.copernicus.eu/api/v2/resources/reanalysis-era5-single-levels\n"
     ]
    },
    {
     "name": "stdout",
     "output_type": "stream",
     "text": [
      "2022-07-25 13:18:02.395610 : chargement du fichier 09404X0219_MONTEU.nc en cours (1f4a3a6b-374d-4274-a913-a1ece839e8e9).\n",
      "2022-07-25 13:18:02.517540 : chargement du fichier 09998X0198_PZ_MOU.nc en cours (f8fcf65e-9284-49ee-9e6f-657817b5a22f).\n"
     ]
    },
    {
     "name": "stderr",
     "output_type": "stream",
     "text": [
      "2022-07-25 13:18:02,688 INFO Welcome to the CDS\n",
      "2022-07-25 13:18:02,689 INFO Sending request to https://cds.climate.copernicus.eu/api/v2/resources/reanalysis-era5-single-levels\n",
      "2022-07-25 13:18:02,809 INFO Welcome to the CDS\n",
      "2022-07-25 13:18:02,810 INFO Sending request to https://cds.climate.copernicus.eu/api/v2/resources/reanalysis-era5-single-levels\n"
     ]
    },
    {
     "name": "stdout",
     "output_type": "stream",
     "text": [
      "2022-07-25 13:18:02.633290 : chargement du fichier 09994X0537_PZ_ROU.nc en cours (60b2f079-fa0e-4926-a3cb-ef6697d67270).\n",
      "2022-07-25 13:18:02.752836 : chargement du fichier 09408X0052_PU.nc en cours (f0bed2a5-c3fa-4a57-9e2f-c2e465bc9ff8).\n"
     ]
    },
    {
     "name": "stderr",
     "output_type": "stream",
     "text": [
      "2022-07-25 13:18:02,946 INFO Welcome to the CDS\n",
      "2022-07-25 13:18:02,947 INFO Sending request to https://cds.climate.copernicus.eu/api/v2/resources/reanalysis-era5-single-levels\n",
      "2022-07-25 13:18:03,071 INFO Welcome to the CDS\n"
     ]
    },
    {
     "name": "stdout",
     "output_type": "stream",
     "text": [
      "2022-07-25 13:18:02.889799 : chargement du fichier 09146X0074_PU.nc en cours (db94a5e4-6fc5-4bd1-9728-9d0bc8a6b114).\n",
      "2022-07-25 13:18:03.011313 : chargement du fichier 09735X0224_PZS10V.nc en cours (9ea49222-a767-44f8-8afa-04c05c211370).\n"
     ]
    },
    {
     "name": "stderr",
     "output_type": "stream",
     "text": [
      "2022-07-25 13:18:03,072 INFO Sending request to https://cds.climate.copernicus.eu/api/v2/resources/reanalysis-era5-single-levels\n",
      "2022-07-25 13:18:03,205 INFO Welcome to the CDS\n",
      "2022-07-25 13:18:03,206 INFO Sending request to https://cds.climate.copernicus.eu/api/v2/resources/reanalysis-era5-single-levels\n",
      "2022-07-25 13:18:03,322 INFO Welcome to the CDS\n",
      "2022-07-25 13:18:03,323 INFO Sending request to https://cds.climate.copernicus.eu/api/v2/resources/reanalysis-era5-single-levels\n"
     ]
    },
    {
     "name": "stdout",
     "output_type": "stream",
     "text": [
      "2022-07-25 13:18:03.150706 : chargement du fichier 09735X0215_PZS9AV.nc en cours (89689476-d9cb-410b-af1a-12dbd65330a7).\n",
      "2022-07-25 13:18:03.266371 : chargement du fichier 09994X0532_PZ_VAV.nc en cours (9f60916f-c38a-4101-8c14-66e925fa69dc).\n",
      "Le fichier 09691X0120_PIEZ.pkl existe déjà.\n"
     ]
    },
    {
     "name": "stderr",
     "output_type": "stream",
     "text": [
      "2022-07-25 13:18:03,448 INFO Welcome to the CDS\n",
      "2022-07-25 13:18:03,448 INFO Sending request to https://cds.climate.copernicus.eu/api/v2/resources/reanalysis-era5-single-levels\n",
      "2022-07-25 13:18:03,565 INFO Welcome to the CDS\n"
     ]
    },
    {
     "name": "stdout",
     "output_type": "stream",
     "text": [
      "2022-07-25 13:18:03.388662 : chargement du fichier 10443X0301_PIEZ.nc en cours (84a2c925-ea7b-4115-b370-57c77ca00a17).\n",
      "Le fichier 09692X0122_PIEZ.pkl existe déjà.\n",
      "Le fichier 09433X0162_PIEZ.pkl existe déjà.\n",
      "2022-07-25 13:18:03.509743 : chargement du fichier 09952X0093_PIEZ.nc en cours (9f803088-c0d4-421d-8210-995fedf9fe8a).\n"
     ]
    },
    {
     "name": "stderr",
     "output_type": "stream",
     "text": [
      "2022-07-25 13:18:03,566 INFO Sending request to https://cds.climate.copernicus.eu/api/v2/resources/reanalysis-era5-single-levels\n",
      "2022-07-25 13:18:03,680 INFO Welcome to the CDS\n",
      "2022-07-25 13:18:03,681 INFO Sending request to https://cds.climate.copernicus.eu/api/v2/resources/reanalysis-era5-single-levels\n",
      "2022-07-25 13:18:03,798 INFO Welcome to the CDS\n",
      "2022-07-25 13:18:03,799 INFO Sending request to https://cds.climate.copernicus.eu/api/v2/resources/reanalysis-era5-single-levels\n"
     ]
    },
    {
     "name": "stdout",
     "output_type": "stream",
     "text": [
      "2022-07-25 13:18:03.626495 : chargement du fichier 09695X0205_PIEZ.nc en cours (90d2b2ff-cec2-4167-b39e-e0ebf8ba85d7).\n",
      "2022-07-25 13:18:03.740933 : chargement du fichier 09675X0115_PIEZ.nc en cours (bed2e3ec-58bc-4af1-9a5b-643e1e94bfcb).\n",
      "2022-07-25 13:18:03.869309 : chargement du fichier 10446X0267_PIEZ.nc en cours (8ff6c84e-fd79-4421-9e3b-a8b6071f00c1).\n"
     ]
    },
    {
     "name": "stderr",
     "output_type": "stream",
     "text": [
      "2022-07-25 13:18:04,125 INFO Welcome to the CDS\n",
      "2022-07-25 13:18:04,126 INFO Sending request to https://cds.climate.copernicus.eu/api/v2/resources/reanalysis-era5-single-levels\n",
      "2022-07-25 13:18:04,259 INFO Welcome to the CDS\n",
      "2022-07-25 13:18:04,260 INFO Sending request to https://cds.climate.copernicus.eu/api/v2/resources/reanalysis-era5-single-levels\n",
      "2022-07-25 13:18:04,385 INFO Welcome to the CDS\n"
     ]
    },
    {
     "name": "stdout",
     "output_type": "stream",
     "text": [
      "2022-07-25 13:18:04.186949 : chargement du fichier 10475X0098_PIEZ.nc en cours (e957759d-003c-48bf-a53c-c2951616c9ca).\n",
      "2022-07-25 13:18:04.312253 : chargement du fichier 10195X0041_PZ.nc en cours (162f9b71-2c70-479e-8a71-be3b47b0a2fe).\n"
     ]
    },
    {
     "name": "stderr",
     "output_type": "stream",
     "text": [
      "2022-07-25 13:18:04,386 INFO Sending request to https://cds.climate.copernicus.eu/api/v2/resources/reanalysis-era5-single-levels\n"
     ]
    },
    {
     "name": "stdout",
     "output_type": "stream",
     "text": [
      "2022-07-25 13:18:04.455332 : chargement du fichier 09924X0114_PZ.nc en cours (aa35d41d-1943-4dea-bbcf-9825b8cd6f71).\n"
     ]
    }
   ],
   "source": [
    "go_requete = input(\"\"\"\n",
    "            Voulez-vous lancer une série de nouvelles requêtes ? /n \n",
    "            Des requêtes pourraient se retrouver en double. /n \n",
    "            Pour lancer les requêtes entrez 'req' et entrée. /n\n",
    "            Sinon, appuyez simplement sur entrée.\n",
    "\"\"\")\n",
    "                   \n",
    "if go_requete == 'req' :\n",
    "                      \n",
    "    for piezo in df_piezo.index:\n",
    "        path_piezo = 'data/era5/' + piezo\n",
    "        path_nc = f\"./{path_piezo}.nc\"\n",
    "        path_pkl = f\"{path_piezo}.pkl\"\n",
    "\n",
    "        if os.path.isfile(path_nc) : #si le fichier nc existe on le converti en pkl\n",
    "            print(f\"Le fichier {path_nc} existe.\")\n",
    "            df = xr.open_dataset(path_nc).to_dataframe().reset_index().to_pickle(path=path_pkl)\n",
    "            print(f\"Fichier {piezo}.nc converti en fichier pickle\")\n",
    "            os.remove(path_nc)\n",
    "            print(f\"Fichier {path_nc} supprimé\")\n",
    "\n",
    "        elif os.path.isfile(path_pkl) : #si le fichier pkl existe, on affiche qu'il existe\n",
    "            print(f\"Le fichier {piezo}.pkl existe déjà.\")\n",
    "            # puis on le supprime de la liste\n",
    "            df_piezo.drop(index=piezo, axis=1)\n",
    "\n",
    "        else : # Sinon on lance une requête auprès de l'API\n",
    "            result = get_on_cds_api(df_piezo, piezo, path_nc)\n",
    "            # récupération de l'id de la requête\n",
    "            dict_bss[piezo] = result.reply[\"request_id\"]\n",
    "            print(f\"{datetime.now()} : chargement du fichier {piezo}.nc en cours ({dict_bss[piezo]}).\")\n",
    "            \n",
    "            # Enregistrement de l'id de requete dans un fichier csv\n",
    "            if os.path.isfile('./data/hist_requetes.csv'): # Si le fichier existe                \n",
    "                with open('./data/hist_requetes.csv', 'a', encoding='utf-8', newline='') as f:  \n",
    "                    writer = csv.writer(f, delimiter = \";\")\n",
    "                    for k, v in dict_bss.items():\n",
    "                        writer.writerow((k, v))\n",
    "            else : # Si le fichier n'existe pas\n",
    "                with open('./data/hist_requetes.csv', 'w', encoding='utf-8', newline='') as f:  \n",
    "                    writer = csv.writer(f, delimiter = \";\")\n",
    "                    writer.writerow([\"code_bss\", \"id_requete\"])\n",
    "                    for k, v in dict_bss.items():\n",
    "                        writer.writerow((k, v))\n",
    "else : \n",
    "    print(\"Aucune requête n'a été lancée.\")"
   ]
  },
  {
   "cell_type": "markdown",
   "id": "7dd081e4",
   "metadata": {},
   "source": [
    "## Récupérer automatiquement les requêtes abouties \n",
    "Peut être lancé à tout moment pour récupérer des fichiers téléchargés "
   ]
  },
  {
   "cell_type": "code",
   "execution_count": 7,
   "id": "1c3b02b5",
   "metadata": {},
   "outputs": [
    {
     "name": "stderr",
     "output_type": "stream",
     "text": [
      "2022-07-25 13:04:16,167 INFO Downloading https://download-0016.copernicus-climate.eu/cache-compute-0016/cache/data4/adaptor.mars.internal-1658483723.6151054-32144-5-a338c757-0538-421c-90f3-af058578b4e1.nc to ./data/era5/09306X0286_F.nc (200.3K)\n",
      "2022-07-25 13:04:16,598 INFO Downloading https://download-0002-clone.copernicus-climate.eu/cache-compute-0002/cache/data2/adaptor.mars.internal-1658483766.8941596-31819-16-1b6e349f-a2b5-41d9-b58e-4a9ad57ad256.nc to ./data/era5/09838D0727_F.nc (217.4K)\n",
      "2022-07-25 13:04:16,869 INFO Downloading https://download-0007-clone.copernicus-climate.eu/cache-compute-0007/cache/data2/adaptor.mars.internal-1658483723.540129-25749-4-c569fdaa-c4d1-4b45-b20b-e2fd7695da51.nc to ./data/era5/09577X0047_F.nc (226K)\n",
      "2022-07-25 13:04:17,535 INFO Downloading https://download-0007-clone.copernicus-climate.eu/cache-compute-0007/cache/data2/adaptor.mars.internal-1658483723.6680422-22280-17-b9c5706a-4636-4821-b3a2-635aec36c922.nc to ./data/era5/09302X0139_F.nc (200.3K)\n",
      "2022-07-25 13:04:17,860 INFO Downloading https://download-0021.copernicus-climate.eu/cache-compute-0021/cache/data2/adaptor.mars.internal-1658491257.1220272-21435-7-90ab7b97-ff97-43ab-8f5c-9d5213ef94c1.nc to ./data/era5/09833C0249_F.nc (166.1K)\n",
      "2022-07-25 13:04:18,197 INFO Downloading https://download-0012-clone.copernicus-climate.eu/cache-compute-0012/cache/data5/adaptor.mars.internal-1658491709.4813154-4531-16-44b65358-94cc-442e-9bdb-74b240352770.nc to ./data/era5/10577X0159_F.nc (226K)\n",
      "2022-07-25 13:04:18,981 INFO Downloading https://download-0021.copernicus-climate.eu/cache-compute-0021/cache/data1/adaptor.mars.internal-1658490200.4277837-6722-2-72d16b42-874a-4029-a37c-f05fb296d03a.nc to ./data/era5/10345X0199_F.nc (226K)\n",
      "2022-07-25 13:04:19,262 INFO Downloading https://download-0002-clone.copernicus-climate.eu/cache-compute-0002/cache/data1/adaptor.mars.internal-1658491267.0769548-32310-1-7ce72d87-0b40-491d-a9b8-83b4da8d8c9e.nc to ./data/era5/10407X0071_GOLF.nc (268.8K)\n",
      "2022-07-25 13:04:19,538 INFO Downloading https://download-0017.copernicus-climate.eu/cache-compute-0017/cache/data4/adaptor.mars.internal-1658489452.0899591-2755-2-9a248238-406f-4fa1-b027-d2f715733c8a.nc to ./data/era5/10894X0013_RESURG.nc (174.6K)\n",
      "2022-07-25 13:04:19,834 INFO Downloading https://download-0017.copernicus-climate.eu/cache-compute-0017/cache/data4/adaptor.mars.internal-1658489172.4400039-2678-2-691d6d62-2d06-43ce-9505-e56c9887b43a.nc to ./data/era5/08866X0004_RESURG.nc (149K)\n",
      "2022-07-25 13:04:20,121 INFO Downloading https://download-0006-clone.copernicus-climate.eu/cache-compute-0006/cache/data1/adaptor.mars.internal-1658490018.4065478-3383-1-b2d36bdf-6a9a-4f09-85cb-350a9074ee05.nc to ./data/era5/10163X0156_SG.nc (217.4K)\n",
      "2022-07-25 13:04:20,425 INFO Downloading https://download-0014-clone.copernicus-climate.eu/cache-compute-0014/cache/data4/adaptor.mars.internal-1658489028.115565-9095-6-25a45ecc-dd16-4dce-9508-49c24a9fbe03.nc to ./data/era5/10154X0075_BELLUG.nc (149K)\n",
      "2022-07-25 13:04:20,725 INFO Downloading https://download-0002-clone.copernicus-climate.eu/cache-compute-0002/cache/data1/adaptor.mars.internal-1658491268.263783-535-1-2b0c1a5d-4125-4eb9-ae93-361842fa763c.nc to ./data/era5/10405X0095_GERMAI.nc (268.8K)\n",
      "2022-07-25 13:04:21,026 INFO Downloading https://download-0000-clone.copernicus-climate.eu/cache-compute-0000/cache/data3/adaptor.mars.internal-1658485495.2542796-8732-1-7067cb41-7879-4a6f-8349-63bccaa9a45e.nc to ./data/era5/09394X0003_FONTAI.nc (46.2K)\n",
      "2022-07-25 13:04:21,374 INFO Download rate 132.8K/s\n",
      "2022-07-25 13:04:21,487 INFO Downloading https://download-0005-clone.copernicus-climate.eu/cache-compute-0005/cache/data6/adaptor.mars.internal-1658494026.9856267-18479-19-e4da6ab7-bac3-4f60-9cf4-70d4e567df48.nc to ./data/era5/09898X0017_PESQUI.nc (131.9K)\n"
     ]
    },
    {
     "name": "stdout",
     "output_type": "stream",
     "text": [
      "2022-07-25 13:04:21.375412 : Fichier 09394X0003_FONTAI.nc téléchargé.\n",
      "Fichier 09394X0003_FONTAI.nc converti en fichier pickle\n",
      "Fichier ./data/era5/09394X0003_FONTAI.nc.nc supprimé\n"
     ]
    },
    {
     "name": "stderr",
     "output_type": "stream",
     "text": [
      "2022-07-25 13:04:21,819 INFO Downloading https://download-0021.copernicus-climate.eu/cache-compute-0021/cache/data6/adaptor.mars.internal-1658493038.9171891-25959-8-2feaf093-ea62-4c34-bab0-c886baa44e6d.nc to ./data/era5/09128X0053_CAL.nc (149K)\n",
      "2022-07-25 13:04:22,326 INFO Downloading https://download-0013-clone.copernicus-climate.eu/cache-compute-0013/cache/data0/adaptor.mars.internal-1658493034.177106-20713-8-55fdb396-6240-402c-84be-4b155b6527c9.nc to ./data/era5/08622X0027_GAL.nc (123.3K)\n",
      "2022-07-25 13:04:22,638 INFO Downloading https://download-0013-clone.copernicus-climate.eu/cache-compute-0013/cache/data9/adaptor.mars.internal-1658494640.7272131-2629-12-464f5783-7d40-4081-8d59-6cd6eb31c1d6.nc to ./data/era5/09905X0064_CMBSAL.nc (131.9K)\n",
      "2022-07-25 13:04:22,948 INFO Downloading https://download-0013-clone.copernicus-climate.eu/cache-compute-0013/cache/data1/adaptor.mars.internal-1658495913.0423882-2516-15-ba9987b8-11ba-4cb6-96ad-b0731b111dfe.nc to ./data/era5/10764X0043_OUSTAL.nc (217.4K)\n",
      "2022-07-25 13:04:23,247 INFO Downloading https://download-0002-clone.copernicus-climate.eu/cache-compute-0002/cache/data1/adaptor.mars.internal-1658496561.5833735-2784-1-8aa86459-2026-44e2-abaf-3028409f0a5d.nc to ./data/era5/10903X0034_PZSTGL.nc (157.5K)\n",
      "2022-07-25 13:04:23,567 INFO Downloading https://download-0018.copernicus-climate.eu/cache-compute-0018/cache/data8/adaptor.mars.internal-1658496521.8156927-3816-5-5b89b996-2461-4787-a671-6226e264c035.nc to ./data/era5/09656X0175_RODIL.nc (226K)\n",
      "2022-07-25 13:04:24,010 INFO Download rate 511.9K/s\n",
      "2022-07-25 13:04:24,096 INFO Downloading https://download-0007-clone.copernicus-climate.eu/cache-compute-0007/cache/data6/adaptor.mars.internal-1658492518.5327616-20295-13-94d7eceb-76b5-48a9-809c-1fc386e33cf4.nc to ./data/era5/10116X0237_TREVIL.nc (217.4K)\n"
     ]
    },
    {
     "name": "stdout",
     "output_type": "stream",
     "text": [
      "2022-07-25 13:04:24.010509 : Fichier 09656X0175_RODIL.nc téléchargé.\n",
      "Fichier 09656X0175_RODIL.nc converti en fichier pickle\n",
      "Fichier ./data/era5/09656X0175_RODIL.nc.nc supprimé\n"
     ]
    },
    {
     "name": "stderr",
     "output_type": "stream",
     "text": [
      "2022-07-25 13:04:24,346 INFO Downloading https://download-0000-clone.copernicus-climate.eu/cache-compute-0000/cache/data9/adaptor.mars.internal-1658495906.3505707-29805-13-c3531de1-e67f-479a-85c8-07c419ec3740.nc to ./data/era5/09398X0028_VALL.nc (157.5K)\n",
      "2022-07-25 13:04:24,464 INFO Downloading https://download-0000-clone.copernicus-climate.eu/cache-compute-0000/cache/data8/adaptor.mars.internal-1658494407.0805523-32634-8-0d582f01-ae36-47bd-bfe0-45686b22897d.nc to ./data/era5/10406X0077_ASL.nc (131.9K)\n",
      "2022-07-25 13:04:24,743 INFO Downloading https://download-0011-clone.copernicus-climate.eu/cache-compute-0011/cache/data5/adaptor.mars.internal-1658493028.9011672-7270-5-5b6cd4db-9477-408e-b3a2-ed653b3fe0b6.nc to ./data/era5/10904X0105_ROBOUL.nc (174.6K)\n",
      "2022-07-25 13:04:25,176 INFO Download rate 403.9K/s\n",
      "2022-07-25 13:04:25,257 INFO Downloading https://download-0014-clone.copernicus-climate.eu/cache-compute-0014/cache/data5/adaptor.mars.internal-1658498894.0992043-25722-9-0a88ef78-e103-41be-8f27-168021f04ed6.nc to ./data/era5/09125X0083_HBCM.nc (166.1K)\n"
     ]
    },
    {
     "name": "stdout",
     "output_type": "stream",
     "text": [
      "2022-07-25 13:04:25.176824 : Fichier 10904X0105_ROBOUL.nc téléchargé.\n",
      "Fichier 10904X0105_ROBOUL.nc converti en fichier pickle\n",
      "Fichier ./data/era5/10904X0105_ROBOUL.nc.nc supprimé\n"
     ]
    },
    {
     "name": "stderr",
     "output_type": "stream",
     "text": [
      "2022-07-25 13:04:25,502 INFO Downloading https://download-0008-clone.copernicus-climate.eu/cache-compute-0008/cache/data8/adaptor.mars.internal-1658501127.7904232-32752-14-12ba8428-90f3-4818-935a-7cf9b7588944.nc to ./data/era5/09917X0192_P5CEHM.nc (268.8K)\n",
      "2022-07-25 13:04:25,790 INFO Downloading https://download-0011-clone.copernicus-climate.eu/cache-compute-0011/cache/data9/adaptor.mars.internal-1658499358.396171-10253-16-8cb3408c-2f63-4ed2-8b95-fdc55a39bb98.nc to ./data/era5/09888X0111_LACAN.nc (149K)\n",
      "2022-07-25 13:04:26,031 INFO Download rate 618.6K/s\n",
      "2022-07-25 13:04:26,109 INFO Downloading https://download-0020.copernicus-climate.eu/cache-compute-0020/cache/data3/adaptor.mars.internal-1658500618.2485862-2449-11-86f92d27-71f4-4903-afa9-598b1ba851bf.nc to ./data/era5/10601X0027_COUMAN.nc (149K)\n"
     ]
    },
    {
     "name": "stdout",
     "output_type": "stream",
     "text": [
      "2022-07-25 13:04:26.031029 : Fichier 09888X0111_LACAN.nc téléchargé.\n",
      "Fichier 09888X0111_LACAN.nc converti en fichier pickle\n",
      "Fichier ./data/era5/09888X0111_LACAN.nc.nc supprimé\n"
     ]
    },
    {
     "name": "stderr",
     "output_type": "stream",
     "text": [
      "2022-07-25 13:04:26,391 INFO Downloading https://download-0007-clone.copernicus-climate.eu/cache-compute-0007/cache/data0/adaptor.mars.internal-1658498660.1151748-20869-15-eb623c81-5c42-4f82-aa75-b2b8ba3bcdbe.nc to ./data/era5/09635X0009_FONTAN.nc (226K)\n",
      "2022-07-25 13:04:26,775 INFO Download rate 590.4K/s\n",
      "2022-07-25 13:04:26,871 INFO Downloading https://download-0003-clone.copernicus-climate.eu/cache-compute-0003/cache/data2/adaptor.mars.internal-1658501127.7484195-17901-4-d49ddcb5-b3a6-4d7f-90df-1ec1c0d3658f.nc to ./data/era5/10388X0017_STALIN.nc (268.8K)\n"
     ]
    },
    {
     "name": "stdout",
     "output_type": "stream",
     "text": [
      "2022-07-25 13:04:26.777570 : Fichier 09635X0009_FONTAN.nc téléchargé.\n",
      "Fichier 09635X0009_FONTAN.nc converti en fichier pickle\n",
      "Fichier ./data/era5/09635X0009_FONTAN.nc.nc supprimé\n"
     ]
    },
    {
     "name": "stderr",
     "output_type": "stream",
     "text": [
      "2022-07-25 13:04:27,298 INFO Download rate 632.3K/s\n",
      "2022-07-25 13:04:27,374 INFO Downloading https://download-0016.copernicus-climate.eu/cache-compute-0016/cache/data9/adaptor.mars.internal-1658501127.8979647-7671-3-ee040351-18b8-43bf-b1b6-a739e7af08ad.nc to ./data/era5/09921X0055_CAMBON.nc (149K)\n"
     ]
    },
    {
     "name": "stdout",
     "output_type": "stream",
     "text": [
      "2022-07-25 13:04:27.298955 : Fichier 10388X0017_STALIN.nc téléchargé.\n",
      "Fichier 10388X0017_STALIN.nc converti en fichier pickle\n",
      "Fichier ./data/era5/10388X0017_STALIN.nc.nc supprimé\n"
     ]
    },
    {
     "name": "stderr",
     "output_type": "stream",
     "text": [
      "2022-07-25 13:04:27,846 INFO Download rate 316K/s \n",
      "2022-07-25 13:04:27,958 INFO Downloading https://download-0000-clone.copernicus-climate.eu/cache-compute-0000/cache/data2/adaptor.mars.internal-1658496433.128378-30903-17-acfe2e51-9ae1-4e7a-819b-3fd50c0e5520.nc to ./data/era5/09388X0114_MAISON.nc (191.8K)\n"
     ]
    },
    {
     "name": "stdout",
     "output_type": "stream",
     "text": [
      "2022-07-25 13:04:27.847343 : Fichier 09921X0055_CAMBON.nc téléchargé.\n",
      "Fichier 09921X0055_CAMBON.nc converti en fichier pickle\n",
      "Fichier ./data/era5/09921X0055_CAMBON.nc.nc supprimé\n"
     ]
    },
    {
     "name": "stderr",
     "output_type": "stream",
     "text": [
      "2022-07-25 13:04:28,415 INFO Download rate 419.7K/s\n",
      "2022-07-25 13:04:28,500 INFO Downloading https://download-0014-clone.copernicus-climate.eu/cache-compute-0014/cache/data4/adaptor.mars.internal-1658497640.2487981-23180-2-ea8bfe01-d60d-422f-a376-763f892a6a68.nc to ./data/era5/09912X0254_BRUN.nc (149K)\n"
     ]
    },
    {
     "name": "stdout",
     "output_type": "stream",
     "text": [
      "2022-07-25 13:04:28.415007 : Fichier 09388X0114_MAISON.nc téléchargé.\n",
      "Fichier 09388X0114_MAISON.nc converti en fichier pickle\n",
      "Fichier ./data/era5/09388X0114_MAISON.nc.nc supprimé\n"
     ]
    },
    {
     "name": "stderr",
     "output_type": "stream",
     "text": [
      "2022-07-25 13:04:28,825 INFO Downloading https://download-0006-clone.copernicus-climate.eu/cache-compute-0006/cache/data9/adaptor.mars.internal-1658501127.748811-18596-5-3487ce87-4cf2-4d2e-a842-fd05b61e6c3a.nc to ./data/era5/10782X0008_COUMBO.nc (157.5K)\n",
      "2022-07-25 13:04:29,105 INFO Downloading https://download-0004-clone.copernicus-climate.eu/cache-compute-0004/cache/data9/adaptor.mars.internal-1658498571.5710454-10423-10-a796e79a-fef0-473c-8f41-bfb7c42b9e68.nc to ./data/era5/08627X0010_SO.nc (149K)\n",
      "2022-07-25 13:04:29,411 INFO Downloading https://download-0015-clone.copernicus-climate.eu/cache-compute-0015/cache/data1/adaptor.mars.internal-1658495914.085079-2892-12-a6fdc422-b3f7-4f2e-9d3f-5bfc8d703428.nc to ./data/era5/09625X0234_SO.nc (114.7K)\n",
      "2022-07-25 13:04:29,727 INFO Downloading https://download-0001-clone.copernicus-climate.eu/cache-compute-0001/cache/data3/adaptor.mars.internal-1658496795.4519174-5276-8-49cf7ff4-f30d-4c59-a72a-c8ef682ed04b.nc to ./data/era5/10904X0104_PIEZO.nc (183.2K)\n",
      "2022-07-25 13:04:30,011 INFO Downloading https://download-0008-clone.copernicus-climate.eu/cache-compute-0008/cache/data7/adaptor.mars.internal-1658501127.7276819-15578-7-1b37a50a-6f40-4b96-98d5-dbe14fdfc27f.nc to ./data/era5/09392X0045_PIEZO.nc (166.1K)\n",
      "2022-07-25 13:04:30,346 INFO Downloading https://download-0021.copernicus-climate.eu/cache-compute-0021/cache/data9/adaptor.mars.internal-1658503935.5404131-29778-10-85b230cb-1270-4c6b-ad54-59bc6a72a607.nc to ./data/era5/09911X0303_BRES-P.nc (157.5K)\n",
      "2022-07-25 13:04:30,665 INFO Downloading https://download-0006-clone.copernicus-climate.eu/cache-compute-0006/cache/data3/adaptor.mars.internal-1658503979.450963-2965-13-7b3bc391-11b5-4d3d-bcc6-65d70481773e.nc to ./data/era5/09655X0107_P.nc (251.7K)\n",
      "2022-07-25 13:04:30,967 INFO Downloading https://download-0006-clone.copernicus-climate.eu/cache-compute-0006/cache/data0/adaptor.mars.internal-1658514187.446091-9349-14-54f15bb3-fa46-4e11-9445-966455a5fcea.nc to ./data/era5/10592X0012_AEP.nc (157.5K)\n",
      "2022-07-25 13:04:31,278 INFO Downloading https://download-0011-clone.copernicus-climate.eu/cache-compute-0011/cache/data9/adaptor.mars.internal-1658503935.515758-26986-16-5034c9fb-2b54-496d-86bc-88d9f423febb.nc to ./data/era5/10971X0198_LAFAR.nc (191.8K)\n",
      "2022-07-25 13:04:31,761 INFO Download rate 398.2K/s\n",
      "2022-07-25 13:04:31,829 INFO Downloading https://download-0015-clone.copernicus-climate.eu/cache-compute-0015/cache/data0/adaptor.mars.internal-1658514013.2191947-13480-2-331dab79-aba8-4c60-ba78-5a36b8c96261.nc to ./data/era5/09916X0098_LANSAR.nc (226K)\n"
     ]
    },
    {
     "name": "stdout",
     "output_type": "stream",
     "text": [
      "2022-07-25 13:04:31.761630 : Fichier 10971X0198_LAFAR.nc téléchargé.\n",
      "Fichier 10971X0198_LAFAR.nc converti en fichier pickle\n",
      "Fichier ./data/era5/10971X0198_LAFAR.nc.nc supprimé\n"
     ]
    },
    {
     "name": "stderr",
     "output_type": "stream",
     "text": [
      "2022-07-25 13:04:32,129 INFO Downloading https://download-0009-clone.copernicus-climate.eu/cache-compute-0009/cache/data9/adaptor.mars.internal-1658503935.5756283-32108-7-e487c18b-1c61-4713-9807-18d8d5721e7b.nc to ./data/era5/10908X0263_FIGUER.nc (268.8K)\n",
      "2022-07-25 13:04:32,415 INFO Downloading https://download-0016.copernicus-climate.eu/cache-compute-0016/cache/data4/adaptor.mars.internal-1658505260.7802665-5205-5-e2370abe-74f5-4820-96ae-f9f98746e608.nc to ./data/era5/09654X0575_MONTFR.nc (268.8K)\n",
      "2022-07-25 13:04:32,716 INFO Downloading https://download-0016.copernicus-climate.eu/cache-compute-0016/cache/data7/adaptor.mars.internal-1658506340.0090728-4751-14-4f9f21e7-483a-4281-b6d0-a1fc035c4514.nc to ./data/era5/BSS002PTEJ_MONTFR.nc (166.1K)\n",
      "2022-07-25 13:04:33,154 INFO Download rate 380K/s \n",
      "2022-07-25 13:04:33,225 INFO Downloading https://download-0002-clone.copernicus-climate.eu/cache-compute-0002/cache/data6/adaptor.mars.internal-1658505888.113702-21497-10-68877b67-fe03-461d-a028-37ee37bb2308.nc to ./data/era5/09378X0080_SOEUR.nc (131.9K)\n"
     ]
    },
    {
     "name": "stdout",
     "output_type": "stream",
     "text": [
      "2022-07-25 13:04:33.154265 : Fichier BSS002PTEJ_MONTFR.nc téléchargé.\n",
      "Fichier BSS002PTEJ_MONTFR.nc converti en fichier pickle\n",
      "Fichier ./data/era5/BSS002PTEJ_MONTFR.nc.nc supprimé\n"
     ]
    },
    {
     "name": "stderr",
     "output_type": "stream",
     "text": [
      "2022-07-25 13:04:33,524 INFO Downloading https://download-0010-clone.copernicus-climate.eu/cache-compute-0010/cache/data1/adaptor.mars.internal-1658511920.7832909-5449-18-38798cac-ef41-4553-9fac-5009e7cbccb6.nc to ./data/era5/10402X0046_BOUR.nc (200.3K)\n",
      "2022-07-25 13:04:33,856 INFO Downloading https://download-0003-clone.copernicus-climate.eu/cache-compute-0003/cache/data9/adaptor.mars.internal-1658511795.4219842-28227-4-362fe4f1-e801-4bab-b720-4088685a4a2e.nc to ./data/era5/09911X0302_BRES-S.nc (157.5K)\n",
      "2022-07-25 13:04:34,151 INFO Downloading https://download-0013-clone.copernicus-climate.eu/cache-compute-0013/cache/data3/adaptor.mars.internal-1658506177.2960005-10584-5-992d4f71-26e9-4a57-8009-791a09430343.nc to ./data/era5/10138X0010_S.nc (123.3K)\n",
      "2022-07-25 13:04:34,481 INFO Downloading https://download-0016.copernicus-climate.eu/cache-compute-0016/cache/data9/adaptor.mars.internal-1658503935.4872725-31542-3-1bd0b5e7-a81d-4406-b360-5d24c0d91dfe.nc to ./data/era5/10364X0001_S.nc (140.4K)\n",
      "2022-07-25 13:04:34,699 INFO Download rate 647.1K/s\n",
      "2022-07-25 13:04:34,782 INFO Downloading https://download-0008-clone.copernicus-climate.eu/cache-compute-0008/cache/data5/adaptor.mars.internal-1658515228.735526-10844-11-76b241d0-61b3-4d0e-a75e-984ae7bba6a7.nc to ./data/era5/10795X0001_S.nc (80.5K)\n"
     ]
    },
    {
     "name": "stdout",
     "output_type": "stream",
     "text": [
      "2022-07-25 13:04:34.712081 : Fichier 10364X0001_S.nc téléchargé.\n",
      "Fichier 10364X0001_S.nc converti en fichier pickle\n",
      "Fichier ./data/era5/10364X0001_S.nc.nc supprimé\n"
     ]
    },
    {
     "name": "stderr",
     "output_type": "stream",
     "text": [
      "2022-07-25 13:04:35,089 INFO Downloading https://download-0012-clone.copernicus-climate.eu/cache-compute-0012/cache/data3/adaptor.mars.internal-1658511404.0516617-6537-1-caa6b738-3706-4e14-a129-13798073029b.nc to ./data/era5/10402X0012_S.nc (268.8K)\n",
      "2022-07-25 13:04:35,582 INFO Downloading https://download-0004-clone.copernicus-climate.eu/cache-compute-0004/cache/data9/adaptor.mars.internal-1658511495.4202297-6388-1-9a0bc5cd-6433-45a3-ad0d-c7bd9d1b1501.nc to ./data/era5/10402X0044_S.nc (268.8K)\n",
      "2022-07-25 13:04:35,888 INFO Downloading https://download-0012-clone.copernicus-climate.eu/cache-compute-0012/cache/data4/adaptor.mars.internal-1658509605.6966574-6676-1-e012bc31-47d8-435a-85b7-0935425973b2.nc to ./data/era5/09894X0005_S.nc (157.5K)\n",
      "2022-07-25 13:04:36,700 INFO Downloading https://download-0012-clone.copernicus-climate.eu/cache-compute-0012/cache/data3/adaptor.mars.internal-1658515503.6991982-23993-11-506f62b1-ecc7-4593-80a4-2285a4811134.nc to ./data/era5/08854X0015_S.nc (149K)\n",
      "2022-07-25 13:04:37,066 INFO Downloading https://download-0004-clone.copernicus-climate.eu/cache-compute-0004/cache/data9/adaptor.mars.internal-1658511496.415142-5280-1-480faf4f-8fe2-4f87-8f86-dbfb534d9fd6.nc to ./data/era5/10403X0115_S.nc (268.8K)\n",
      "2022-07-25 13:04:37,365 INFO Downloading https://download-0017.copernicus-climate.eu/cache-compute-0017/cache/data8/adaptor.mars.internal-1658515811.7692287-8450-13-b7a1dbf0-cb0a-4189-b25e-e37a4d1a4c70.nc to ./data/era5/10401X0097_S.nc (268.8K)\n",
      "2022-07-25 13:04:37,809 INFO Download rate 606K/s \n",
      "2022-07-25 13:04:37,883 INFO Downloading https://download-0012-clone.copernicus-climate.eu/cache-compute-0012/cache/data4/adaptor.mars.internal-1658510359.5356278-6361-1-d717cc4a-9286-4f74-a940-597763909517.nc to ./data/era5/09651X0009_S.nc (208.9K)\n"
     ]
    },
    {
     "name": "stdout",
     "output_type": "stream",
     "text": [
      "2022-07-25 13:04:37.810202 : Fichier 10401X0097_S.nc téléchargé.\n",
      "Fichier 10401X0097_S.nc converti en fichier pickle\n",
      "Fichier ./data/era5/10401X0097_S.nc.nc supprimé\n"
     ]
    },
    {
     "name": "stderr",
     "output_type": "stream",
     "text": [
      "2022-07-25 13:04:38,385 INFO Downloading https://download-0017.copernicus-climate.eu/cache-compute-0017/cache/data9/adaptor.mars.internal-1658515811.8292112-26383-12-50143dc4-e8a7-4665-8b64-0f24722ea912.nc to ./data/era5/08854X0040_FREBAS.nc (149K)\n",
      "2022-07-25 13:04:38,509 INFO Downloading https://download-0012-clone.copernicus-climate.eu/cache-compute-0012/cache/data4/adaptor.mars.internal-1658509475.289182-6573-1-d6303bfb-5e6d-4de1-92dd-73df295fe2b2.nc to ./data/era5/09888X0094_JONCAS.nc (149K)\n",
      "2022-07-25 13:04:38,985 INFO Downloading https://download-0010-clone.copernicus-climate.eu/cache-compute-0010/cache/data0/adaptor.mars.internal-1658515811.7184758-14879-14-f7000cdf-4a94-4e03-8892-2d13e5ea0339.nc to ./data/era5/10405X0171_VALRAS.nc (268.8K)\n",
      "2022-07-25 13:04:39,285 INFO Downloading https://download-0010-clone.copernicus-climate.eu/cache-compute-0010/cache/data5/adaptor.mars.internal-1658515811.8522964-27584-11-074f5bf6-47c3-485b-a021-180b433d0673.nc to ./data/era5/09628X0043_BUEGES.nc (174.7K)\n",
      "2022-07-25 13:04:39,570 INFO Downloading https://download-0010-clone.copernicus-climate.eu/cache-compute-0010/cache/data1/adaptor.mars.internal-1658522960.4997294-28331-18-d62dfafe-04aa-4d6a-9fb1-4d363073512a.nc to ./data/era5/09915X0181_AUNES.nc (268.8K)\n",
      "2022-07-25 13:04:39,832 INFO Downloading https://download-0000-clone.copernicus-climate.eu/cache-compute-0000/cache/data8/adaptor.mars.internal-1658520513.8027494-29720-13-91dbf114-a775-4178-ab05-cb16aa4ff613.nc to ./data/era5/09888X0093_DOUZES.nc (140.4K)\n",
      "2022-07-25 13:04:40,145 INFO Downloading https://download-0020.copernicus-climate.eu/cache-compute-0020/cache/data2/adaptor.mars.internal-1658521642.8117213-26696-8-1d221c61-75f7-4587-888a-3e4918214dfc.nc to ./data/era5/09911X0317_P3BIS.nc (268.8K)\n",
      "2022-07-25 13:04:40,438 INFO Downloading https://download-0014-clone.copernicus-climate.eu/cache-compute-0014/cache/data8/adaptor.mars.internal-1658518806.8431892-30857-2-f1382735-f1ba-4114-8905-063f8b415ca2.nc to ./data/era5/09375X0010_ISIS.nc (131.9K)\n",
      "2022-07-25 13:04:40,742 INFO Downloading https://download-0008-clone.copernicus-climate.eu/cache-compute-0008/cache/data2/adaptor.mars.internal-1658520675.4733582-15707-13-419ebd46-7539-4541-8248-8cf0686daa22.nc to ./data/era5/09655X0265_CLOS.nc (251.7K)\n",
      "2022-07-25 13:04:41,046 INFO Downloading https://download-0002-clone.copernicus-climate.eu/cache-compute-0002/cache/data0/adaptor.mars.internal-1658517699.8778052-9463-17-edcc7c4e-7761-43d1-bfd3-9117322d510c.nc to ./data/era5/09906X0149_TOUAT.nc (80.5K)\n",
      "2022-07-25 13:04:41,323 INFO Downloading https://download-0007-clone.copernicus-climate.eu/cache-compute-0007/cache/data7/adaptor.mars.internal-1658523638.1559393-12076-10-b0bc18fb-e73f-4f41-a260-f48df0946beb.nc to ./data/era5/09914X0284_FAGET.nc (268.8K)\n",
      "2022-07-25 13:04:41,575 INFO Downloading https://download-0002-clone.copernicus-climate.eu/cache-compute-0002/cache/data1/adaptor.mars.internal-1658517927.3219757-9672-5-a8ebfab0-c228-46e1-ac20-355b1e322600.nc to ./data/era5/09634X0074_CLARET.nc (149K)\n",
      "2022-07-25 13:04:41,892 INFO Downloading https://download-0002-clone.copernicus-climate.eu/cache-compute-0002/cache/data9/adaptor.mars.internal-1658517310.79082-5706-15-ac806b15-c677-4ad2-a7ce-6e91b71f52e9.nc to ./data/era5/10776X0024_LAUZET.nc (114.7K)\n",
      "2022-07-25 13:04:42,193 INFO Downloading https://download-0019.copernicus-climate.eu/cache-compute-0019/cache/data8/adaptor.mars.internal-1658518806.8558984-7896-11-ca2f6a73-2424-43da-8a80-5458f652fed4.nc to ./data/era5/10972X0137_PONT.nc (268.8K)\n",
      "2022-07-25 13:04:42,538 INFO Downloading https://download-0017.copernicus-climate.eu/cache-compute-0017/cache/data8/adaptor.mars.internal-1658518807.3638158-27817-13-53e7a641-ac98-4031-a91b-f5ba45071d9f.nc to ./data/era5/09388X0052_VIGNOT.nc (268.8K)\n",
      "2022-07-25 13:04:42,940 INFO Download rate 668.8K/s\n",
      "2022-07-25 13:04:43,012 INFO Downloading https://download-0000-clone.copernicus-climate.eu/cache-compute-0000/cache/data0/adaptor.mars.internal-1658527015.9173665-6810-11-f94b4eb7-bd48-4adf-93c8-50a7b834a772.nc to ./data/era5/10154X0076_MAMERT.nc (149K)\n"
     ]
    },
    {
     "name": "stdout",
     "output_type": "stream",
     "text": [
      "2022-07-25 13:04:42.941881 : Fichier 09388X0052_VIGNOT.nc téléchargé.\n",
      "Fichier 09388X0052_VIGNOT.nc converti en fichier pickle\n",
      "Fichier ./data/era5/09388X0052_VIGNOT.nc.nc supprimé\n"
     ]
    },
    {
     "name": "stderr",
     "output_type": "stream",
     "text": [
      "2022-07-25 13:04:43,275 INFO Downloading https://download-0020.copernicus-climate.eu/cache-compute-0020/cache/data3/adaptor.mars.internal-1658526739.7026966-11882-5-145f0222-9d0e-42ee-9382-14d02bb23215.nc to ./data/era5/09876X0212_PORT.nc (149K)\n",
      "2022-07-25 13:04:43,560 INFO Downloading https://download-0015-clone.copernicus-climate.eu/cache-compute-0015/cache/data6/adaptor.mars.internal-1658526739.9242733-5826-17-83be31c3-1393-40cb-a07d-fb99def1ed8b.nc to ./data/era5/10976X0058_RIMBAU.nc (157.5K)\n",
      "2022-07-25 13:04:43,882 INFO Downloading https://download-0015-clone.copernicus-climate.eu/cache-compute-0015/cache/data6/adaptor.mars.internal-1658526341.13916-17470-11-348000ea-9bf6-4c27-ab1c-bb227aaa0aba.nc to ./data/era5/09882X0208_FONCAU.nc (149K)\n",
      "2022-07-25 13:04:44,219 INFO Downloading https://download-0001-clone.copernicus-climate.eu/cache-compute-0001/cache/data0/adaptor.mars.internal-1658527615.0461516-7109-4-8c140dd6-f2a8-4e50-9a8c-3c3be8481160.nc to ./data/era5/09908X0174_MASJAU.nc (268.8K)\n",
      "2022-07-25 13:04:44,582 INFO Downloading https://download-0010-clone.copernicus-climate.eu/cache-compute-0010/cache/data1/adaptor.mars.internal-1658527005.463557-16480-4-85d95462-ba40-4a73-b551-c7e8efeff4df.nc to ./data/era5/10963X0059_MEDALU.nc (260.2K)\n",
      "2022-07-25 13:04:44,854 INFO Downloading https://download-0018.copernicus-climate.eu/cache-compute-0018/cache/data6/adaptor.mars.internal-1658525359.8768783-32610-9-454ed0e7-8636-4424-9871-ba83f2dc4833.nc to ./data/era5/09892X0698_RVERNU.nc (123.3K)\n",
      "2022-07-25 13:04:45,168 INFO Downloading https://download-0002-clone.copernicus-climate.eu/cache-compute-0002/cache/data0/adaptor.mars.internal-1658525441.4716082-22933-17-ce090eca-fa3c-4ba6-b6e1-e59eefbf76b1.nc to ./data/era5/09645X0025_PEILOU.nc (157.5K)\n",
      "2022-07-25 13:04:45,491 INFO Downloading https://download-0018.copernicus-climate.eu/cache-compute-0018/cache/data5/adaptor.mars.internal-1658523780.4479992-24963-13-d3a869d3-4f12-40d4-ad7c-d447ecd8cad6.nc to ./data/era5/10405X0135_GUITOU.nc (97.6K)\n",
      "2022-07-25 13:04:45,766 INFO Downloading https://download-0017.copernicus-climate.eu/cache-compute-0017/cache/data4/adaptor.mars.internal-1658525441.4635897-19058-17-1bac6229-17e8-46fe-9388-5bec4ea2d1bb.nc to ./data/era5/10162X0226_V.nc (268.8K)\n",
      "2022-07-25 13:04:45,888 INFO Downloading https://download-0016.copernicus-climate.eu/cache-compute-0016/cache/data2/adaptor.mars.internal-1658524450.769389-22578-3-66bac16f-ad5e-456c-a49f-ad041ca71245.nc to ./data/era5/BSS003PAFM_X.nc (200.3K)\n",
      "2022-07-25 13:04:46,290 INFO Download rate 498.1K/s\n",
      "2022-07-25 13:04:46,362 INFO Downloading https://download-0012-clone.copernicus-climate.eu/cache-compute-0012/cache/data2/adaptor.mars.internal-1658524099.6342442-15462-20-d7a5cdfc-7432-4378-a850-38a990c3450b.nc to ./data/era5/BSS003PAFQ_X.nc (200.3K)\n"
     ]
    },
    {
     "name": "stdout",
     "output_type": "stream",
     "text": [
      "2022-07-25 13:04:46.291886 : Fichier BSS003PAFM_X.nc téléchargé.\n",
      "Fichier BSS003PAFM_X.nc converti en fichier pickle\n",
      "Fichier ./data/era5/BSS003PAFM_X.nc.nc supprimé\n"
     ]
    },
    {
     "name": "stderr",
     "output_type": "stream",
     "text": [
      "2022-07-25 13:04:46,698 INFO Downloading https://download-0007-clone.copernicus-climate.eu/cache-compute-0007/cache/data7/adaptor.mars.internal-1658521939.2463582-14574-15-0fbe163b-302a-4522-970b-ba4bdf9f839f.nc to ./data/era5/10882X0215_ADOUX.nc (106.2K)\n",
      "2022-07-25 13:04:47,028 INFO Downloading https://download-0003-clone.copernicus-climate.eu/cache-compute-0003/cache/data0/adaptor.mars.internal-1658521213.204858-31409-7-24fe87a3-85d3-49f4-837e-8ce4fbd41b88.nc to ./data/era5/09625X0231_LADOUX.nc (149K)\n",
      "2022-07-25 13:04:47,357 INFO Downloading https://download-0017.copernicus-climate.eu/cache-compute-0017/cache/data4/adaptor.mars.internal-1658528314.053892-18054-10-4a2ab5bd-d692-4ed0-b773-9d7f34422098.nc to ./data/era5/09126X0275_RABY.nc (106.2K)\n",
      "2022-07-25 13:04:47,674 INFO Downloading https://download-0020.copernicus-climate.eu/cache-compute-0020/cache/data2/adaptor.mars.internal-1658528077.291807-18398-11-f8d9c845-f14f-4581-b019-8317ef8efcc4.nc to ./data/era5/08576X0022_HY.nc (89K)\n",
      "2022-07-25 13:04:47,961 INFO Downloading https://download-0002-clone.copernicus-climate.eu/cache-compute-0002/cache/data2/adaptor.mars.internal-1658527878.6974857-15904-6-bf1e711b-7018-4e40-b203-0568fe291213.nc to ./data/era5/08577X0029_HY.nc (106.2K)\n",
      "2022-07-25 13:04:48,259 INFO Downloading https://download-0006-clone.copernicus-climate.eu/cache-compute-0006/cache/data2/adaptor.mars.internal-1658529332.2020495-7539-19-e4a81d22-7edf-4ce5-839a-5fef319a6cca.nc to ./data/era5/09635X0003_FHY.nc (217.4K)\n",
      "2022-07-25 13:04:48,571 INFO Downloading https://download-0015-clone.copernicus-climate.eu/cache-compute-0015/cache/data7/adaptor.mars.internal-1658528650.6361659-30742-5-980333d9-614c-43f6-a9ac-6758112e1536.nc to ./data/era5/10165X0021_CAUVY.nc (208.9K)\n",
      "2022-07-25 13:04:48,900 INFO Downloading https://download-0006-clone.copernicus-climate.eu/cache-compute-0006/cache/data0/adaptor.mars.internal-1658527159.7935567-1161-14-6571df72-4bc2-4af1-9742-d8cda20df656.nc to ./data/era5/10581X0201_SAGRAZ.nc (114.7K)\n"
     ]
    },
    {
     "name": "stdout",
     "output_type": "stream",
     "text": [
      "95 fichiers ont été téléchargés.\n",
      "Connexion réussie à SQLite\n",
      "Connexion SQLite est fermée\n",
      "Base de données à jour\n"
     ]
    }
   ],
   "source": [
    "# Chargement du dictionnaire à partir du csv d'historiques de requetes\n",
    "with open('./data/hist_requetes.csv', mode='r') as f:\n",
    "    reader = csv.reader(f, delimiter=\";\")\n",
    "    # Permet de sortir la ligne d'en-tête du dictionnaire\n",
    "    headings = next(reader)\n",
    "    dict_bss_from_csv = {rows[0]:rows[1] for rows in reader}\n",
    "\n",
    "nbre_fichier_OK = 0\n",
    "\n",
    "    \n",
    "for piezo in dict_bss_from_csv.copy().keys():\n",
    "    path_piezo = 'data/era5/' + piezo\n",
    "    path_nc = f\"./{path_piezo}.nc\"\n",
    "    path_pkl = f\"{path_piezo}.pkl\"\n",
    "\n",
    "    if not os.path.isfile(path_nc) :\n",
    "        try:\n",
    "            reply = dict(request_id=dict_bss_from_csv[piezo]) # request_id from above\n",
    "            new_client = cdsapi.Client(wait_until_complete=False, delete=False)\n",
    "            result = cdsapi.api.Result(new_client, reply)\n",
    "            result.update()\n",
    "            reply = result.reply\n",
    "            if reply['state'] == 'completed':\n",
    "                nbre_fichier_OK += 1\n",
    "                result.download(path_nc)\n",
    "                print(f\"{datetime.now()} : Fichier {piezo}.nc téléchargé.\")\n",
    "                df = xr.open_dataset(path_nc).to_dataframe().reset_index().to_pickle(path=path_pkl)\n",
    "                print(f\"Fichier {piezo}.nc converti en fichier pickle\")\n",
    "                os.remove(path_nc)\n",
    "                print(f\"Fichier {path_nc}.nc supprimé\")\n",
    "                # Si le fichier a été téléchargé on le supprime de la liste du dictionnaire\n",
    "                del dict_bss[piezo]\n",
    "        except:\n",
    "            #print(f\"Récupération de l'ID {dict_bss_from_csv[piezo]} impossible.\")\n",
    "            pass\n",
    "if nbre_fichier_OK == 0:\n",
    "    print(\"Aucun fichier de récupéré.\")\n",
    "else :\n",
    "    print(f\"{nbre_fichier_OK} fichiers ont été téléchargés.\")\n",
    "\n",
    "# Mise à jour de la base de donnéees (champ fichier_ERA5)\n",
    "bss_era5 = pd.Series([_.replace(\".pkl\",\"\") for _ in os.listdir(r\"./data/era5\") if _.endswith(r\".pkl\")], name=\"era5\")\n",
    "requete_fichier_era5 = f\"\"\"\n",
    "        UPDATE data_piezo\n",
    "        SET fichier_era5 =\n",
    "        (CASE WHEN code_bss IN {tuple(bss_era5)}\n",
    "        THEN 1 ELSE 0 END)\n",
    "        \"\"\"\n",
    "requete_sql(requete_fichier_era5)\n",
    "print(\"Base de données à jour\")"
   ]
  },
  {
   "cell_type": "markdown",
   "id": "af78191b",
   "metadata": {},
   "source": [
    "## Jointure era5 et piezo"
   ]
  },
  {
   "cell_type": "code",
   "execution_count": 8,
   "id": "2354dde5",
   "metadata": {},
   "outputs": [
    {
     "name": "stdout",
     "output_type": "stream",
     "text": [
      "Connexion réussie à SQLite\n",
      "Connexion SQLite est fermée\n",
      "Base de données à jour\n"
     ]
    }
   ],
   "source": [
    "bss_era5 = pd.Series([_.replace(\".pkl\",\"\") for _ in os.listdir(r\"./data/era5\") if _.endswith(r\".pkl\")], name=\"era5\")\n",
    "bss_piezo = pd.Series([_.replace(\".csv\",\"\") for _ in os.listdir(r\"./data/piezo\") if _.endswith(r\".csv\")], name=\"piezo\")\n",
    "piezos_communs = np.intersect1d(bss_era5, bss_piezo)\n",
    "\n",
    "path = \"./data/combined_data/\"\n",
    "# Le fichier doit avoir un minimum de 100 mesures\n",
    "nb_min_val_com = 100\n",
    "\n",
    "for piezo in piezos_communs :\n",
    "    if not os.path.isfile(f'{path}/comb_{piezo}.csv') : #si le fichier n'existe pas \n",
    "        df_piezo = pd.read_csv(f\"./data/piezo/{piezo}.csv\", sep = \";\", index_col=0, parse_dates=True)\n",
    "        # Group_by date_mesure dans le cas de plusieurs mesures le même jour ce qui provoquerait une erreur\n",
    "        df_piezo = pd.DataFrame(df_piezo.groupby(\"date_mesure\").mean())\n",
    "        df_piezo = df_piezo.resample('1D').asfreq()\n",
    "        df_era5 = pd.read_pickle(f\"./data/era5/{piezo}.pkl\").set_index('time').drop([\"latitude\", \"longitude\"], axis=1)\n",
    "        if \"expver\" in df_era5.columns :\n",
    "            df_era5 = df_era5.loc[df_era5[\"expver\"]==1,:].drop(\"expver\", axis=1)\n",
    "        df = pd.merge(df_piezo, df_era5, how='inner', left_index=True, right_index=True)\n",
    "        nb_com_obs = df.shape[0]\n",
    "        if nb_com_obs >= nb_min_val_com :\n",
    "            df.to_csv(f\"data/combined_data/comb_{piezo}.csv\" ,sep=\";\", index=True)\n",
    "            print(f\"Le fichier comb_{piezo}.csv a été créé et contient {nb_com_obs} obseravtions.\")\n",
    "        else :\n",
    "            print(f\"Le piezo {piezo} ne contient pas assez de données (seulement {nb_com_obs}).\")\n",
    "    else : \n",
    "        #print(f\"Le fichier comb_{piezo}.csv existe déjà.\")\n",
    "        pass\n",
    "        \n",
    "# Mise à jour bdd\n",
    "requete_fichier_combined = f\"\"\"\n",
    "        UPDATE data_piezo\n",
    "        SET fichier_combined =\n",
    "        (CASE WHEN code_bss IN {tuple(piezos_communs)}\n",
    "        THEN 1 ELSE 0 END)\n",
    "        \"\"\"\n",
    "requete_sql(requete_fichier_combined)\n",
    "print(\"Base de données à jour\")"
   ]
  },
  {
   "cell_type": "code",
   "execution_count": null,
   "id": "bdde5112",
   "metadata": {},
   "outputs": [],
   "source": []
  },
  {
   "cell_type": "code",
   "execution_count": null,
   "id": "6465464e",
   "metadata": {},
   "outputs": [],
   "source": []
  },
  {
   "cell_type": "code",
   "execution_count": null,
   "id": "8c474373",
   "metadata": {},
   "outputs": [],
   "source": []
  },
  {
   "cell_type": "markdown",
   "id": "3bae835b",
   "metadata": {},
   "source": [
    "# Récupération manuelle"
   ]
  },
  {
   "cell_type": "code",
   "execution_count": null,
   "id": "62b4b001",
   "metadata": {},
   "outputs": [],
   "source": [
    "reply = dict(request_id=\"54c52ee3-eee4-481d-b72e-fecd315085cb\")\n",
    "new_client = cdsapi.Client(wait_until_complete=False, delete=False)\n",
    "result = cdsapi.api.Result(new_client, reply)\n",
    "result.update()\n",
    "reply = result.reply\n",
    "if reply['state'] == 'completed':\n",
    "    result.download('file.nc')"
   ]
  },
  {
   "cell_type": "code",
   "execution_count": null,
   "id": "f6167cbe",
   "metadata": {},
   "outputs": [],
   "source": []
  },
  {
   "cell_type": "code",
   "execution_count": null,
   "id": "29a97bed",
   "metadata": {},
   "outputs": [],
   "source": []
  },
  {
   "cell_type": "code",
   "execution_count": null,
   "id": "65078627",
   "metadata": {},
   "outputs": [],
   "source": []
  },
  {
   "cell_type": "code",
   "execution_count": null,
   "id": "eb0c36e3",
   "metadata": {},
   "outputs": [],
   "source": []
  },
  {
   "cell_type": "code",
   "execution_count": null,
   "id": "6415ca95",
   "metadata": {},
   "outputs": [],
   "source": [
    "requete_fichier_era5 = f\"\"\"\n",
    "        UPDATE data_piezo\n",
    "        SET fichier_era5 =\n",
    "        (CASE WHEN code_bss IN {tuple(bss_era5)}\n",
    "        THEN 1 ELSE 0 END)\n",
    "        \"\"\"\n",
    "requete_sql(requete_fichier_era5)"
   ]
  },
  {
   "cell_type": "code",
   "execution_count": null,
   "id": "29e4abf1",
   "metadata": {},
   "outputs": [],
   "source": [
    "update table set\n",
    "    columnx = (case when condition then 25 else columnx end)"
   ]
  }
 ],
 "metadata": {
  "kernelspec": {
   "display_name": "Python 3 (ipykernel)",
   "language": "python",
   "name": "python3"
  },
  "language_info": {
   "codemirror_mode": {
    "name": "ipython",
    "version": 3
   },
   "file_extension": ".py",
   "mimetype": "text/x-python",
   "name": "python",
   "nbconvert_exporter": "python",
   "pygments_lexer": "ipython3",
   "version": "3.9.12"
  },
  "toc": {
   "base_numbering": 1,
   "nav_menu": {},
   "number_sections": true,
   "sideBar": true,
   "skip_h1_title": false,
   "title_cell": "Table of Contents",
   "title_sidebar": "Contents",
   "toc_cell": false,
   "toc_position": {},
   "toc_section_display": true,
   "toc_window_display": true
  },
  "varInspector": {
   "cols": {
    "lenName": 16,
    "lenType": 16,
    "lenVar": 40
   },
   "kernels_config": {
    "python": {
     "delete_cmd_postfix": "",
     "delete_cmd_prefix": "del ",
     "library": "var_list.py",
     "varRefreshCmd": "print(var_dic_list())"
    },
    "r": {
     "delete_cmd_postfix": ") ",
     "delete_cmd_prefix": "rm(",
     "library": "var_list.r",
     "varRefreshCmd": "cat(var_dic_list()) "
    }
   },
   "position": {
    "height": "144.83px",
    "left": "1377.45px",
    "right": "20px",
    "top": "119px",
    "width": "350px"
   },
   "types_to_exclude": [
    "module",
    "function",
    "builtin_function_or_method",
    "instance",
    "_Feature"
   ],
   "window_display": false
  }
 },
 "nbformat": 4,
 "nbformat_minor": 5
}
