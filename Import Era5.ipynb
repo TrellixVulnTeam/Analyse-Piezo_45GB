{
 "cells": [
  {
   "cell_type": "code",
   "execution_count": 18,
   "id": "c26f94a7",
   "metadata": {},
   "outputs": [],
   "source": [
    "import requests\n",
    "import pandas as pd\n",
    "import numpy as np\n",
    "import xarray as xr\n",
    "import sqlite3\n",
    "import os\n",
    "from datetime import datetime\n",
    "import cdsapi\n",
    "import csv"
   ]
  },
  {
   "cell_type": "code",
   "execution_count": 19,
   "id": "4f820390",
   "metadata": {},
   "outputs": [],
   "source": [
    "def requete_sql (requete) :\n",
    "    try:\n",
    "        connexion = sqlite3.connect('./data/liste_piezos.db')\n",
    "        curseur = connexion.cursor()\n",
    "        print(\"Connexion réussie à SQLite\")\n",
    "        curseur.execute(requete)\n",
    "        connexion.commit()\n",
    "        resultat = curseur.fetchall()\n",
    "        curseur.close()\n",
    "        connexion.close()\n",
    "        print(\"Connexion SQLite est fermée\")\n",
    "        return resultat\n",
    "    except sqlite3.Error as error:\n",
    "        print(\"Erreur lors du mis à jour dans la table : \", error)"
   ]
  },
  {
   "cell_type": "markdown",
   "id": "6e076217",
   "metadata": {},
   "source": [
    "# Connexion à la bdd piezo\n",
    "Construction d'un dataframe 'df_piezo' à partir de la requête sur la bdd"
   ]
  },
  {
   "cell_type": "code",
   "execution_count": 20,
   "id": "9069958b",
   "metadata": {},
   "outputs": [],
   "source": [
    "region = \"OCC\""
   ]
  },
  {
   "cell_type": "code",
   "execution_count": 21,
   "id": "4d1b59ae",
   "metadata": {},
   "outputs": [],
   "source": [
    "connexion = sqlite3.connect('./data/liste_piezos.db')\n",
    "curseur = connexion.cursor()\n",
    "requete = f\"\"\"\n",
    "    SELECT code_bss, date_debut, date_fin, nb_mesures_piezo, latitude, longitude \n",
    "        FROM data_piezo\n",
    "    INNER JOIN code_region\n",
    "    ON code_dpt = departement\n",
    "    WHERE code_region IS '{region}'\n",
    "    AND date_debut < '2010-07-01'\n",
    "    AND date_fin > '2010-07-01'\n",
    "\"\"\"\n",
    "\n",
    "df_piezo = pd.read_sql_query(requete, connexion, index_col='code_bss')\n",
    "curseur.close()\n",
    "connexion.close()\n",
    "\n",
    "# Conversion des dates\n",
    "df_piezo[\"date_debut\"] = pd.to_datetime(df_piezo[\"date_debut\"])\n",
    "df_piezo[\"date_fin\"] = pd.to_datetime(df_piezo[\"date_fin\"])"
   ]
  },
  {
   "cell_type": "code",
   "execution_count": 22,
   "id": "d9dce6b6",
   "metadata": {},
   "outputs": [
    {
     "data": {
      "text/html": [
       "<div>\n",
       "<style scoped>\n",
       "    .dataframe tbody tr th:only-of-type {\n",
       "        vertical-align: middle;\n",
       "    }\n",
       "\n",
       "    .dataframe tbody tr th {\n",
       "        vertical-align: top;\n",
       "    }\n",
       "\n",
       "    .dataframe thead th {\n",
       "        text-align: right;\n",
       "    }\n",
       "</style>\n",
       "<table border=\"1\" class=\"dataframe\">\n",
       "  <thead>\n",
       "    <tr style=\"text-align: right;\">\n",
       "      <th></th>\n",
       "      <th>date_debut</th>\n",
       "      <th>date_fin</th>\n",
       "      <th>nb_mesures_piezo</th>\n",
       "      <th>latitude</th>\n",
       "      <th>longitude</th>\n",
       "    </tr>\n",
       "    <tr>\n",
       "      <th>code_bss</th>\n",
       "      <th></th>\n",
       "      <th></th>\n",
       "      <th></th>\n",
       "      <th></th>\n",
       "      <th></th>\n",
       "    </tr>\n",
       "  </thead>\n",
       "  <tbody>\n",
       "    <tr>\n",
       "      <th>09654X0569_CNRP20</th>\n",
       "      <td>2004-03-14</td>\n",
       "      <td>2022-05-24</td>\n",
       "      <td>6243</td>\n",
       "      <td>43.848274</td>\n",
       "      <td>4.607080</td>\n",
       "    </tr>\n",
       "    <tr>\n",
       "      <th>08592X0175_FOR170</th>\n",
       "      <td>2008-11-17</td>\n",
       "      <td>2020-12-31</td>\n",
       "      <td>618</td>\n",
       "      <td>44.557278</td>\n",
       "      <td>2.251595</td>\n",
       "    </tr>\n",
       "    <tr>\n",
       "      <th>09892X0679_EXH70</th>\n",
       "      <td>2004-02-01</td>\n",
       "      <td>2022-05-24</td>\n",
       "      <td>6544</td>\n",
       "      <td>43.695576</td>\n",
       "      <td>3.327317</td>\n",
       "    </tr>\n",
       "    <tr>\n",
       "      <th>10615X0047_F0</th>\n",
       "      <td>2009-02-27</td>\n",
       "      <td>2022-04-07</td>\n",
       "      <td>4408</td>\n",
       "      <td>43.054528</td>\n",
       "      <td>2.921968</td>\n",
       "    </tr>\n",
       "    <tr>\n",
       "      <th>09648X0083_F90-1</th>\n",
       "      <td>1995-01-31</td>\n",
       "      <td>2022-05-02</td>\n",
       "      <td>7659</td>\n",
       "      <td>43.744145</td>\n",
       "      <td>4.230897</td>\n",
       "    </tr>\n",
       "    <tr>\n",
       "      <th>...</th>\n",
       "      <td>...</td>\n",
       "      <td>...</td>\n",
       "      <td>...</td>\n",
       "      <td>...</td>\n",
       "      <td>...</td>\n",
       "    </tr>\n",
       "    <tr>\n",
       "      <th>08576X0022_HY</th>\n",
       "      <td>2009-04-08</td>\n",
       "      <td>2019-06-04</td>\n",
       "      <td>3398</td>\n",
       "      <td>44.506078</td>\n",
       "      <td>1.654776</td>\n",
       "    </tr>\n",
       "    <tr>\n",
       "      <th>08577X0029_HY</th>\n",
       "      <td>2009-04-08</td>\n",
       "      <td>2021-01-04</td>\n",
       "      <td>4291</td>\n",
       "      <td>44.521516</td>\n",
       "      <td>1.668573</td>\n",
       "    </tr>\n",
       "    <tr>\n",
       "      <th>09635X0003_FHY</th>\n",
       "      <td>1997-06-01</td>\n",
       "      <td>2022-05-24</td>\n",
       "      <td>8323</td>\n",
       "      <td>43.759836</td>\n",
       "      <td>3.624061</td>\n",
       "    </tr>\n",
       "    <tr>\n",
       "      <th>10165X0021_CAUVY</th>\n",
       "      <td>1998-06-26</td>\n",
       "      <td>2022-05-20</td>\n",
       "      <td>6538</td>\n",
       "      <td>43.440756</td>\n",
       "      <td>3.677098</td>\n",
       "    </tr>\n",
       "    <tr>\n",
       "      <th>10581X0201_SAGRAZ</th>\n",
       "      <td>2009-11-25</td>\n",
       "      <td>2022-04-11</td>\n",
       "      <td>4369</td>\n",
       "      <td>43.174401</td>\n",
       "      <td>1.863341</td>\n",
       "    </tr>\n",
       "  </tbody>\n",
       "</table>\n",
       "<p>280 rows × 5 columns</p>\n",
       "</div>"
      ],
      "text/plain": [
       "                  date_debut   date_fin  nb_mesures_piezo   latitude  \\\n",
       "code_bss                                                               \n",
       "09654X0569_CNRP20 2004-03-14 2022-05-24              6243  43.848274   \n",
       "08592X0175_FOR170 2008-11-17 2020-12-31               618  44.557278   \n",
       "09892X0679_EXH70  2004-02-01 2022-05-24              6544  43.695576   \n",
       "10615X0047_F0     2009-02-27 2022-04-07              4408  43.054528   \n",
       "09648X0083_F90-1  1995-01-31 2022-05-02              7659  43.744145   \n",
       "...                      ...        ...               ...        ...   \n",
       "08576X0022_HY     2009-04-08 2019-06-04              3398  44.506078   \n",
       "08577X0029_HY     2009-04-08 2021-01-04              4291  44.521516   \n",
       "09635X0003_FHY    1997-06-01 2022-05-24              8323  43.759836   \n",
       "10165X0021_CAUVY  1998-06-26 2022-05-20              6538  43.440756   \n",
       "10581X0201_SAGRAZ 2009-11-25 2022-04-11              4369  43.174401   \n",
       "\n",
       "                   longitude  \n",
       "code_bss                      \n",
       "09654X0569_CNRP20   4.607080  \n",
       "08592X0175_FOR170   2.251595  \n",
       "09892X0679_EXH70    3.327317  \n",
       "10615X0047_F0       2.921968  \n",
       "09648X0083_F90-1    4.230897  \n",
       "...                      ...  \n",
       "08576X0022_HY       1.654776  \n",
       "08577X0029_HY       1.668573  \n",
       "09635X0003_FHY      3.624061  \n",
       "10165X0021_CAUVY    3.677098  \n",
       "10581X0201_SAGRAZ   1.863341  \n",
       "\n",
       "[280 rows x 5 columns]"
      ]
     },
     "execution_count": 22,
     "metadata": {},
     "output_type": "execute_result"
    }
   ],
   "source": [
    "df_piezo"
   ]
  },
  {
   "cell_type": "markdown",
   "id": "f7d3720d",
   "metadata": {},
   "source": [
    "# Fonction pour lancer les requêtes"
   ]
  },
  {
   "cell_type": "code",
   "execution_count": 23,
   "id": "d46ba37a",
   "metadata": {},
   "outputs": [],
   "source": [
    "def get_on_cds_api(dataframe_piezo, piezo, path):\n",
    "    # Initialisation de la connexion à l'API CDS\n",
    "    # wait_until_complete = False : le programme Python n'attend pas que l'API réponde (issu de la libraie asyncio)\n",
    "    # delete = False : le fichier créé sur le serveur source n'est pas supprimé automatiquement \n",
    "    \n",
    "    date_debut = dataframe_piezo.loc[piezo,'date_debut'].year\n",
    "    date_fin = dataframe_piezo.loc[piezo,'date_fin'].year\n",
    "    \n",
    "    # La limite du nombre de données est de 120000. Avec 10 variables, 31 jours, et 12 mois, on n epeut récupérer que 32 années.\n",
    "    # Si l'interval d'année est supérieur à 32, on réduit la plage de temps à date de fin - 31 ans pour avoir 32 années max.\n",
    "    if date_fin - date_debut >= 32:\n",
    "        date_debut = date_fin - 31\n",
    "    \n",
    "    c = cdsapi.Client(wait_until_complete=False, delete=False)\n",
    "    \n",
    "    # Données à récupérer auprès de l'API\n",
    "    r = c.retrieve(\n",
    "            'reanalysis-era5-single-levels',\n",
    "            {\n",
    "                'product_type': 'reanalysis',\n",
    "                'format': 'netcdf',\n",
    "                'variable': [\n",
    "                    '2m_temperature', 'convective_precipitation', 'convective_rain_rate',\n",
    "                    'convective_snowfall', 'large_scale_rain_rate', 'large_scale_snowfall', 'snowfall',\n",
    "                    'large_scale_snowfall_rate_water_equivalent', 'potential_evaporation',\n",
    "                    'total_precipitation',\n",
    "                ],\n",
    "                'year': [str(date) for date in (np.arange(date_debut, date_fin))],\n",
    "                'month': [\n",
    "                    '01', '02', '03',\n",
    "                    '04', '05', '06',\n",
    "                    '07', '08', '09',\n",
    "                    '10', '11', '12',\n",
    "                ],\n",
    "                'day': [\n",
    "                    '01', '02', '03',\n",
    "                    '04', '05', '06',\n",
    "                    '07', '08', '09',\n",
    "                    '10', '11', '12',\n",
    "                    '13', '14', '15',\n",
    "                    '16', '17', '18',\n",
    "                    '19', '20', '21',\n",
    "                    '22', '23', '24',\n",
    "                    '25', '26', '27',\n",
    "                    '28', '29', '30',\n",
    "                    '31',\n",
    "                ],\n",
    "                'time': '00:00',\n",
    "                'area': [\n",
    "                    df_piezo.loc[piezo,\"latitude\"], df_piezo.loc[piezo,\"longitude\"], df_piezo.loc[piezo,\"latitude\"], df_piezo.loc[piezo,\"longitude\"],\n",
    "                ],\n",
    "            })    \n",
    "    return r"
   ]
  },
  {
   "cell_type": "markdown",
   "id": "aa65468a",
   "metadata": {},
   "source": [
    "## Lancer les requêtes auprès de l'API\n",
    "!!! NE LANCER QU'UNE SEULE FOIS POUR NE PAS CREER DES DOUBLONS DE REQUETES !!!"
   ]
  },
  {
   "cell_type": "markdown",
   "id": "8bb5016a",
   "metadata": {},
   "source": [
    "Un dictionnaire est créé avec en clé le code_bss du piezo et en valeur l'id de la requête"
   ]
  },
  {
   "cell_type": "markdown",
   "id": "fbb5d266",
   "metadata": {},
   "source": [
    "Ne pas lancer la cellule ci-dessous si des requetes sont en cours. "
   ]
  },
  {
   "cell_type": "code",
   "execution_count": 24,
   "id": "413b3c0e",
   "metadata": {},
   "outputs": [],
   "source": [
    "# Parcourir les codes_bss des piezos dans la liste précédemment créé :\n",
    "dict_bss = {}"
   ]
  },
  {
   "cell_type": "code",
   "execution_count": 25,
   "id": "f2853b94",
   "metadata": {},
   "outputs": [
    {
     "name": "stdout",
     "output_type": "stream",
     "text": [
      "\n",
      "            Voulez-vous lancer une série de nouvelles requêtes ? /n \n",
      "            Des requêtes pourraient se retrouver en double. /n \n",
      "            Pour lancer les requêtes entrez 'req' et entrée. /n\n",
      "            Sinon, appuyez simplement sur entrée.\n",
      "req\n"
     ]
    },
    {
     "name": "stderr",
     "output_type": "stream",
     "text": [
      "2022-07-21 13:33:45,391 INFO Welcome to the CDS\n",
      "2022-07-21 13:33:45,391 INFO Sending request to https://cds.climate.copernicus.eu/api/v2/resources/reanalysis-era5-single-levels\n",
      "2022-07-21 13:33:45,468 INFO Welcome to the CDS\n",
      "2022-07-21 13:33:45,469 INFO Sending request to https://cds.climate.copernicus.eu/api/v2/resources/reanalysis-era5-single-levels\n",
      "2022-07-21 13:33:45,530 INFO Welcome to the CDS\n",
      "2022-07-21 13:33:45,531 INFO Sending request to https://cds.climate.copernicus.eu/api/v2/resources/reanalysis-era5-single-levels\n",
      "2022-07-21 13:33:45,591 INFO Welcome to the CDS\n",
      "2022-07-21 13:33:45,593 INFO Sending request to https://cds.climate.copernicus.eu/api/v2/resources/reanalysis-era5-single-levels\n"
     ]
    },
    {
     "name": "stdout",
     "output_type": "stream",
     "text": [
      "2022-07-21 13:33:45.431814 : chargement du fichier 09654X0569_CNRP20.nc en cours (14e7b9c4-eae1-401c-ad9c-46363f9a7347).\n",
      "2022-07-21 13:33:45.502896 : chargement du fichier 08592X0175_FOR170.nc en cours (8c0fdca8-d253-4caa-b7e5-9968f12913c0).\n",
      "2022-07-21 13:33:45.563774 : chargement du fichier 09892X0679_EXH70.nc en cours (d9b727dc-2adb-441b-9b39-7b2768d8616c).\n"
     ]
    },
    {
     "name": "stderr",
     "output_type": "stream",
     "text": [
      "2022-07-21 13:33:45,677 INFO Welcome to the CDS\n",
      "2022-07-21 13:33:45,679 INFO Sending request to https://cds.climate.copernicus.eu/api/v2/resources/reanalysis-era5-single-levels\n",
      "2022-07-21 13:33:45,740 INFO Welcome to the CDS\n",
      "2022-07-21 13:33:45,742 INFO Sending request to https://cds.climate.copernicus.eu/api/v2/resources/reanalysis-era5-single-levels\n"
     ]
    },
    {
     "name": "stdout",
     "output_type": "stream",
     "text": [
      "2022-07-21 13:33:45.651273 : chargement du fichier 10615X0047_F0.nc en cours (236db60c-c39b-4415-96bf-a105f6a832e3).\n",
      "2022-07-21 13:33:45.712718 : chargement du fichier 09648X0083_F90-1.nc en cours (30f5a1d4-c96c-47e9-8eea-a3bf82fa6ef6).\n",
      "2022-07-21 13:33:45.779320 : chargement du fichier 10906X0039_C2-1.nc en cours (6020aefe-70e0-496c-85ff-77cc5be4a0c9).\n"
     ]
    },
    {
     "name": "stderr",
     "output_type": "stream",
     "text": [
      "2022-07-21 13:33:45,885 INFO Welcome to the CDS\n",
      "2022-07-21 13:33:45,886 INFO Sending request to https://cds.climate.copernicus.eu/api/v2/resources/reanalysis-era5-single-levels\n",
      "2022-07-21 13:33:45,969 INFO Welcome to the CDS\n",
      "2022-07-21 13:33:45,970 INFO Sending request to https://cds.climate.copernicus.eu/api/v2/resources/reanalysis-era5-single-levels\n",
      "2022-07-21 13:33:46,030 INFO Welcome to the CDS\n",
      "2022-07-21 13:33:46,031 INFO Sending request to https://cds.climate.copernicus.eu/api/v2/resources/reanalysis-era5-single-levels\n",
      "2022-07-21 13:33:46,102 INFO Welcome to the CDS\n",
      "2022-07-21 13:33:46,103 INFO Sending request to https://cds.climate.copernicus.eu/api/v2/resources/reanalysis-era5-single-levels\n"
     ]
    },
    {
     "name": "stdout",
     "output_type": "stream",
     "text": [
      "2022-07-21 13:33:45.942183 : chargement du fichier 10964X0119_NYLS-1.nc en cours (2f199ef6-6f93-4597-9449-b48a9668cf35).\n",
      "2022-07-21 13:33:46.003711 : chargement du fichier 10602X0001_111111.nc en cours (a55ad3f1-362b-4d3c-9e4e-16aa0cfddb9b).\n",
      "2022-07-21 13:33:46.075031 : chargement du fichier 10398X0063_111111.nc en cours (f02fa2b5-811d-45c9-9972-215d66d9a800).\n",
      "2022-07-21 13:33:46.149947 : chargement du fichier 10383X0025_111111.nc en cours (021747cc-a1e1-4bf7-a66b-02ad74f4e43e).\n"
     ]
    },
    {
     "name": "stderr",
     "output_type": "stream",
     "text": [
      "2022-07-21 13:33:46,177 INFO Welcome to the CDS\n",
      "2022-07-21 13:33:46,178 INFO Sending request to https://cds.climate.copernicus.eu/api/v2/resources/reanalysis-era5-single-levels\n",
      "2022-07-21 13:33:46,276 INFO Welcome to the CDS\n",
      "2022-07-21 13:33:46,277 INFO Sending request to https://cds.climate.copernicus.eu/api/v2/resources/reanalysis-era5-single-levels\n",
      "2022-07-21 13:33:46,335 INFO Welcome to the CDS\n",
      "2022-07-21 13:33:46,337 INFO Sending request to https://cds.climate.copernicus.eu/api/v2/resources/reanalysis-era5-single-levels\n",
      "2022-07-21 13:33:46,397 INFO Welcome to the CDS\n",
      "2022-07-21 13:33:46,398 INFO Sending request to https://cds.climate.copernicus.eu/api/v2/resources/reanalysis-era5-single-levels\n"
     ]
    },
    {
     "name": "stdout",
     "output_type": "stream",
     "text": [
      "2022-07-21 13:33:46.242405 : chargement du fichier 09645X0035_111111.nc en cours (5f4e958d-7b7d-405a-98fa-5914c1ef1b35).\n",
      "2022-07-21 13:33:46.310015 : chargement du fichier 09364X0017_111111.nc en cours (3d5974d8-4830-462b-a870-8ee03b8c2189).\n",
      "2022-07-21 13:33:46.371116 : chargement du fichier 08635X0015_LZG211.nc en cours (150028c3-dd97-485b-a2e6-28805f530500).\n",
      "2022-07-21 13:33:46.443067 : chargement du fichier 09914X0391_V1191.nc en cours (b31973f8-ec0b-4993-a378-2d4427684177).\n"
     ]
    },
    {
     "name": "stderr",
     "output_type": "stream",
     "text": [
      "2022-07-21 13:33:46,469 INFO Welcome to the CDS\n",
      "2022-07-21 13:33:46,470 INFO Sending request to https://cds.climate.copernicus.eu/api/v2/resources/reanalysis-era5-single-levels\n",
      "2022-07-21 13:33:46,544 INFO Welcome to the CDS\n",
      "2022-07-21 13:33:46,544 INFO Sending request to https://cds.climate.copernicus.eu/api/v2/resources/reanalysis-era5-single-levels\n",
      "2022-07-21 13:33:46,606 INFO Welcome to the CDS\n",
      "2022-07-21 13:33:46,607 INFO Sending request to https://cds.climate.copernicus.eu/api/v2/resources/reanalysis-era5-single-levels\n",
      "2022-07-21 13:33:46,698 INFO Welcome to the CDS\n"
     ]
    },
    {
     "name": "stdout",
     "output_type": "stream",
     "text": [
      "2022-07-21 13:33:46.518076 : chargement du fichier 10388X0001_OUPIA1.nc en cours (c522b968-0c1f-4d76-a747-8436ef23b44d).\n",
      "2022-07-21 13:33:46.577930 : chargement du fichier 10155X0054_PEYTA1.nc en cours (04bcae30-6012-466e-90b2-22db93d1828b).\n",
      "2022-07-21 13:33:46.671941 : chargement du fichier 10136X0222_C1.nc en cours (a6f423da-fe8c-4057-92ad-940cfac6bf89).\n"
     ]
    },
    {
     "name": "stderr",
     "output_type": "stream",
     "text": [
      "2022-07-21 13:33:46,699 INFO Sending request to https://cds.climate.copernicus.eu/api/v2/resources/reanalysis-era5-single-levels\n",
      "2022-07-21 13:33:46,758 INFO Welcome to the CDS\n",
      "2022-07-21 13:33:46,759 INFO Sending request to https://cds.climate.copernicus.eu/api/v2/resources/reanalysis-era5-single-levels\n",
      "2022-07-21 13:33:46,820 INFO Welcome to the CDS\n",
      "2022-07-21 13:33:46,821 INFO Sending request to https://cds.climate.copernicus.eu/api/v2/resources/reanalysis-era5-single-levels\n",
      "2022-07-21 13:33:46,887 INFO Welcome to the CDS\n",
      "2022-07-21 13:33:46,888 INFO Sending request to https://cds.climate.copernicus.eu/api/v2/resources/reanalysis-era5-single-levels\n"
     ]
    },
    {
     "name": "stdout",
     "output_type": "stream",
     "text": [
      "2022-07-21 13:33:46.731884 : chargement du fichier 10972X0098_FE1.nc en cours (4ed1be7f-0c57-498d-b55c-a9aa6fcd8f4a).\n",
      "2022-07-21 13:33:46.791843 : chargement du fichier 09903X0113_F1.nc en cours (db8da061-11ef-4fdb-9056-b7631af4a6be).\n",
      "2022-07-21 13:33:46.860324 : chargement du fichier 10163X0157_F1.nc en cours (9591fc34-e011-40a0-a6b9-cfcb924fb554).\n",
      "2022-07-21 13:33:46.935172 : chargement du fichier 09395X0059_F1.nc en cours (96e159b9-8eb8-4125-823b-34aa873ae07d).\n"
     ]
    },
    {
     "name": "stderr",
     "output_type": "stream",
     "text": [
      "2022-07-21 13:33:46,962 INFO Welcome to the CDS\n",
      "2022-07-21 13:33:46,963 INFO Sending request to https://cds.climate.copernicus.eu/api/v2/resources/reanalysis-era5-single-levels\n",
      "2022-07-21 13:33:47,009 INFO Welcome to the CDS\n",
      "2022-07-21 13:33:47,009 INFO Sending request to https://cds.climate.copernicus.eu/api/v2/resources/reanalysis-era5-single-levels\n",
      "2022-07-21 13:33:47,109 INFO Welcome to the CDS\n",
      "2022-07-21 13:33:47,109 INFO Sending request to https://cds.climate.copernicus.eu/api/v2/resources/reanalysis-era5-single-levels\n",
      "2022-07-21 13:33:47,179 INFO Welcome to the CDS\n"
     ]
    },
    {
     "name": "stdout",
     "output_type": "stream",
     "text": [
      "2022-07-21 13:33:46.995242 : chargement du fichier 09373X0026_CROSF1.nc en cours (3ed1114c-b44f-4ed5-b78a-0a2de6effd9b).\n",
      "2022-07-21 13:33:47.088438 : chargement du fichier 09906X0161_PZ1.nc en cours (3e42fe77-1de1-4388-af77-6cbf7696b4e7).\n",
      "2022-07-21 13:33:47.152196 : chargement du fichier 10384X0073_PZ1.nc en cours (78d8d086-d4ed-4425-90d5-8c47a85b202a).\n"
     ]
    },
    {
     "name": "stderr",
     "output_type": "stream",
     "text": [
      "2022-07-21 13:33:47,180 INFO Sending request to https://cds.climate.copernicus.eu/api/v2/resources/reanalysis-era5-single-levels\n",
      "2022-07-21 13:33:47,307 INFO Welcome to the CDS\n",
      "2022-07-21 13:33:47,309 INFO Sending request to https://cds.climate.copernicus.eu/api/v2/resources/reanalysis-era5-single-levels\n",
      "2022-07-21 13:33:47,376 INFO Welcome to the CDS\n",
      "2022-07-21 13:33:47,376 INFO Sending request to https://cds.climate.copernicus.eu/api/v2/resources/reanalysis-era5-single-levels\n",
      "2022-07-21 13:33:47,449 INFO Welcome to the CDS\n",
      "2022-07-21 13:33:47,450 INFO Sending request to https://cds.climate.copernicus.eu/api/v2/resources/reanalysis-era5-single-levels\n"
     ]
    },
    {
     "name": "stdout",
     "output_type": "stream",
     "text": [
      "2022-07-21 13:33:47.277879 : chargement du fichier 09388X0108_PZ1.nc en cours (6fbf2125-c911-4da4-bb69-6e552f4424d6).\n",
      "2022-07-21 13:33:47.356288 : chargement du fichier 10906X0038_C2-2.nc en cours (62bbe1f6-57ff-4b2d-876f-87f8e14364fb).\n",
      "2022-07-21 13:33:47.422193 : chargement du fichier 09655X0251_CH22.nc en cours (4f4e41b8-5787-4e74-bc3c-57a71044f771).\n"
     ]
    },
    {
     "name": "stderr",
     "output_type": "stream",
     "text": [
      "2022-07-21 13:33:47,523 INFO Welcome to the CDS\n",
      "2022-07-21 13:33:47,523 INFO Sending request to https://cds.climate.copernicus.eu/api/v2/resources/reanalysis-era5-single-levels\n",
      "2022-07-21 13:33:47,585 INFO Welcome to the CDS\n",
      "2022-07-21 13:33:47,586 INFO Sending request to https://cds.climate.copernicus.eu/api/v2/resources/reanalysis-era5-single-levels\n",
      "2022-07-21 13:33:47,642 INFO Welcome to the CDS\n",
      "2022-07-21 13:33:47,642 INFO Sending request to https://cds.climate.copernicus.eu/api/v2/resources/reanalysis-era5-single-levels\n"
     ]
    },
    {
     "name": "stdout",
     "output_type": "stream",
     "text": [
      "2022-07-21 13:33:47.496579 : chargement du fichier 09653X0244_CH52.nc en cours (8ad9134a-eb7e-4760-a797-e941ffd7b6f9).\n",
      "2022-07-21 13:33:47.558045 : chargement du fichier 09652X0199_COURB2.nc en cours (65c587a3-950d-49a3-8c04-187457775a4e).\n",
      "2022-07-21 13:33:47.620008 : chargement du fichier 08614X0010_SCE2.nc en cours (86b34697-d597-475d-bfe7-8b9a98a17dd7).\n",
      "2022-07-21 13:33:47.683058 : chargement du fichier 10605X0016_F2.nc en cours (387aa0d0-3814-4d75-8233-f681ac3aca4a).\n"
     ]
    },
    {
     "name": "stderr",
     "output_type": "stream",
     "text": [
      "2022-07-21 13:33:47,712 INFO Welcome to the CDS\n",
      "2022-07-21 13:33:47,713 INFO Sending request to https://cds.climate.copernicus.eu/api/v2/resources/reanalysis-era5-single-levels\n",
      "2022-07-21 13:33:47,776 INFO Welcome to the CDS\n",
      "2022-07-21 13:33:47,776 INFO Sending request to https://cds.climate.copernicus.eu/api/v2/resources/reanalysis-era5-single-levels\n",
      "2022-07-21 13:33:47,854 INFO Welcome to the CDS\n",
      "2022-07-21 13:33:47,855 INFO Sending request to https://cds.climate.copernicus.eu/api/v2/resources/reanalysis-era5-single-levels\n",
      "2022-07-21 13:33:47,948 INFO Welcome to the CDS\n"
     ]
    },
    {
     "name": "stdout",
     "output_type": "stream",
     "text": [
      "2022-07-21 13:33:47.748671 : chargement du fichier 10771X0017_F2.nc en cours (b89b5437-046c-40f5-9d9c-03c0a1b8c860).\n",
      "2022-07-21 13:33:47.826755 : chargement du fichier 10911X0137_F2.nc en cours (6e02743d-e316-4f16-b990-393f3904fc6a).\n",
      "2022-07-21 13:33:47.918204 : chargement du fichier 10388X0028_F2.nc en cours (d57818fd-279b-468c-a4ec-7004c52c9019).\n"
     ]
    },
    {
     "name": "stderr",
     "output_type": "stream",
     "text": [
      "2022-07-21 13:33:47,950 INFO Sending request to https://cds.climate.copernicus.eu/api/v2/resources/reanalysis-era5-single-levels\n",
      "2022-07-21 13:33:48,013 INFO Welcome to the CDS\n",
      "2022-07-21 13:33:48,014 INFO Sending request to https://cds.climate.copernicus.eu/api/v2/resources/reanalysis-era5-single-levels\n",
      "2022-07-21 13:33:48,080 INFO Welcome to the CDS\n",
      "2022-07-21 13:33:48,081 INFO Sending request to https://cds.climate.copernicus.eu/api/v2/resources/reanalysis-era5-single-levels\n",
      "2022-07-21 13:33:48,140 INFO Welcome to the CDS\n",
      "2022-07-21 13:33:48,141 INFO Sending request to https://cds.climate.copernicus.eu/api/v2/resources/reanalysis-era5-single-levels\n"
     ]
    },
    {
     "name": "stdout",
     "output_type": "stream",
     "text": [
      "2022-07-21 13:33:47.987085 : chargement du fichier 09897X0058_F2.nc en cours (8d859e0f-1625-410a-8e8e-c04b6bd69c0f).\n",
      "2022-07-21 13:33:48.053562 : chargement du fichier 10911X0219_HIPPO2.nc en cours (96c19b37-d80f-4274-bfb4-6896529c5714).\n",
      "2022-07-21 13:33:48.113081 : chargement du fichier 10401X0216_STJOS2.nc en cours (6f4e3e2d-cc4c-4884-9008-e66553c234ef).\n"
     ]
    },
    {
     "name": "stderr",
     "output_type": "stream",
     "text": [
      "2022-07-21 13:33:48,213 INFO Welcome to the CDS\n",
      "2022-07-21 13:33:48,214 INFO Sending request to https://cds.climate.copernicus.eu/api/v2/resources/reanalysis-era5-single-levels\n",
      "2022-07-21 13:33:48,274 INFO Welcome to the CDS\n",
      "2022-07-21 13:33:48,275 INFO Sending request to https://cds.climate.copernicus.eu/api/v2/resources/reanalysis-era5-single-levels\n",
      "2022-07-21 13:33:48,342 INFO Welcome to the CDS\n",
      "2022-07-21 13:33:48,342 INFO Sending request to https://cds.climate.copernicus.eu/api/v2/resources/reanalysis-era5-single-levels\n"
     ]
    },
    {
     "name": "stdout",
     "output_type": "stream",
     "text": [
      "2022-07-21 13:33:48.185837 : chargement du fichier 10404X0076_FADEZ2.nc en cours (92944388-dafb-4bd1-9426-b037606635b4).\n",
      "2022-07-21 13:33:48.247497 : chargement du fichier 10404X0056_S1003.nc en cours (8cc95dc3-5a0c-4846-8608-c6e7ce18a802).\n",
      "2022-07-21 13:33:48.319184 : chargement du fichier 10402X0133_SRAE13.nc en cours (ba0ccd18-1c7a-4065-9c44-7ee57a9a8a10).\n",
      "2022-07-21 13:33:48.380992 : chargement du fichier 10166X0212_BV83.nc en cours (5b6d66d9-60e1-4589-b339-f8bb30c65f83).\n"
     ]
    },
    {
     "name": "stderr",
     "output_type": "stream",
     "text": [
      "2022-07-21 13:33:48,408 INFO Welcome to the CDS\n",
      "2022-07-21 13:33:48,409 INFO Sending request to https://cds.climate.copernicus.eu/api/v2/resources/reanalysis-era5-single-levels\n",
      "2022-07-21 13:33:48,469 INFO Welcome to the CDS\n",
      "2022-07-21 13:33:48,470 INFO Sending request to https://cds.climate.copernicus.eu/api/v2/resources/reanalysis-era5-single-levels\n",
      "2022-07-21 13:33:48,542 INFO Welcome to the CDS\n",
      "2022-07-21 13:33:48,542 INFO Sending request to https://cds.climate.copernicus.eu/api/v2/resources/reanalysis-era5-single-levels\n",
      "2022-07-21 13:33:48,631 INFO Welcome to the CDS\n"
     ]
    },
    {
     "name": "stdout",
     "output_type": "stream",
     "text": [
      "2022-07-21 13:33:48.442855 : chargement du fichier 10897X0010_F3.nc en cours (41ebafa8-b0f7-4c95-b9f9-36e542458f4b).\n",
      "2022-07-21 13:33:48.514828 : chargement du fichier 10145X0022_F3.nc en cours (ab42c19b-7d40-428e-9f81-aa4ba92278b9).\n",
      "2022-07-21 13:33:48.601126 : chargement du fichier 10915X0316_F3.nc en cours (1941f8ec-e008-46dd-991a-e20dc154ca3a).\n"
     ]
    },
    {
     "name": "stderr",
     "output_type": "stream",
     "text": [
      "2022-07-21 13:33:48,633 INFO Sending request to https://cds.climate.copernicus.eu/api/v2/resources/reanalysis-era5-single-levels\n",
      "2022-07-21 13:33:48,698 INFO Welcome to the CDS\n",
      "2022-07-21 13:33:48,699 INFO Sending request to https://cds.climate.copernicus.eu/api/v2/resources/reanalysis-era5-single-levels\n",
      "2022-07-21 13:33:48,767 INFO Welcome to the CDS\n",
      "2022-07-21 13:33:48,767 INFO Sending request to https://cds.climate.copernicus.eu/api/v2/resources/reanalysis-era5-single-levels\n",
      "2022-07-21 13:33:48,826 INFO Welcome to the CDS\n",
      "2022-07-21 13:33:48,826 INFO Sending request to https://cds.climate.copernicus.eu/api/v2/resources/reanalysis-era5-single-levels\n"
     ]
    },
    {
     "name": "stdout",
     "output_type": "stream",
     "text": [
      "2022-07-21 13:33:48.669925 : chargement du fichier 10915X0255_F2N3.nc en cours (fc0add34-8ea8-451c-9d74-25dec6cbf60b).\n",
      "2022-07-21 13:33:48.746690 : chargement du fichier 10912X0112_BAR3.nc en cours (004936cf-a3dc-4c08-88b1-ee9c7803204a).\n",
      "2022-07-21 13:33:48.807275 : chargement du fichier 10912X0110_TOR3.nc en cours (e3f0ca62-d35d-40dd-b494-eb604e865970).\n"
     ]
    },
    {
     "name": "stderr",
     "output_type": "stream",
     "text": [
      "2022-07-21 13:33:48,909 INFO Welcome to the CDS\n",
      "2022-07-21 13:33:48,909 INFO Sending request to https://cds.climate.copernicus.eu/api/v2/resources/reanalysis-era5-single-levels\n",
      "2022-07-21 13:33:48,976 INFO Welcome to the CDS\n",
      "2022-07-21 13:33:48,976 INFO Sending request to https://cds.climate.copernicus.eu/api/v2/resources/reanalysis-era5-single-levels\n"
     ]
    },
    {
     "name": "stdout",
     "output_type": "stream",
     "text": [
      "2022-07-21 13:33:48.889836 : chargement du fichier 09405X0229_S3.nc en cours (ea01a8a1-a6aa-4ce9-8c37-2bb8cb588fc1).\n",
      "2022-07-21 13:33:48.951305 : chargement du fichier 09907X0321_MLS3.nc en cours (a5731b39-8019-4928-8af3-2b55e906bb77).\n",
      "2022-07-21 13:33:49.020635 : chargement du fichier 10388X0037_PZ3.nc en cours (c0be04b0-61b4-4f73-8d05-437720804327).\n"
     ]
    },
    {
     "name": "stderr",
     "output_type": "stream",
     "text": [
      "2022-07-21 13:33:49,143 INFO Welcome to the CDS\n",
      "2022-07-21 13:33:49,143 INFO Sending request to https://cds.climate.copernicus.eu/api/v2/resources/reanalysis-era5-single-levels\n",
      "2022-07-21 13:33:49,205 INFO Welcome to the CDS\n",
      "2022-07-21 13:33:49,206 INFO Sending request to https://cds.climate.copernicus.eu/api/v2/resources/reanalysis-era5-single-levels\n",
      "2022-07-21 13:33:49,275 INFO Welcome to the CDS\n",
      "2022-07-21 13:33:49,275 INFO Sending request to https://cds.climate.copernicus.eu/api/v2/resources/reanalysis-era5-single-levels\n",
      "2022-07-21 13:33:49,352 INFO Welcome to the CDS\n",
      "2022-07-21 13:33:49,352 INFO Sending request to https://cds.climate.copernicus.eu/api/v2/resources/reanalysis-era5-single-levels\n"
     ]
    },
    {
     "name": "stdout",
     "output_type": "stream",
     "text": [
      "2022-07-21 13:33:49.178715 : chargement du fichier 09914X0350_CH14.nc en cours (2498100c-b79e-42e4-b255-b8340da653f3).\n",
      "2022-07-21 13:33:49.253202 : chargement du fichier 09646X0074_B4.nc en cours (d28cb61f-d250-4144-aa20-4f2f4426e866).\n",
      "2022-07-21 13:33:49.325855 : chargement du fichier 10165X0184_F4.nc en cours (786e8c4d-c92d-4cf8-b4fa-45c1c37f2bf5).\n",
      "2022-07-21 13:33:49.387714 : chargement du fichier 10916X0061_F1N4.nc en cours (69d8ea97-21d5-4dd5-a5d5-d5ea6207d52a).\n"
     ]
    },
    {
     "name": "stderr",
     "output_type": "stream",
     "text": [
      "2022-07-21 13:33:49,415 INFO Welcome to the CDS\n",
      "2022-07-21 13:33:49,416 INFO Sending request to https://cds.climate.copernicus.eu/api/v2/resources/reanalysis-era5-single-levels\n",
      "2022-07-21 13:33:49,509 INFO Welcome to the CDS\n",
      "2022-07-21 13:33:49,509 INFO Sending request to https://cds.climate.copernicus.eu/api/v2/resources/reanalysis-era5-single-levels\n",
      "2022-07-21 13:33:49,611 INFO Welcome to the CDS\n",
      "2022-07-21 13:33:49,613 INFO Sending request to https://cds.climate.copernicus.eu/api/v2/resources/reanalysis-era5-single-levels\n",
      "2022-07-21 13:33:49,679 INFO Welcome to the CDS\n"
     ]
    },
    {
     "name": "stdout",
     "output_type": "stream",
     "text": [
      "2022-07-21 13:33:49.481867 : chargement du fichier 10912X0061_F3N4.nc en cours (2bc8ba23-c004-4bd5-9c2a-57621b5dd649).\n",
      "2022-07-21 13:33:49.581906 : chargement du fichier 10166X0253_P4.nc en cours (fbf44c8f-1370-4d55-9e3a-b0731af64a17).\n",
      "2022-07-21 13:33:49.649236 : chargement du fichier 10912X0111_BAR4.nc en cours (f3a5a635-72ec-4d46-8956-b819111a5a06).\n"
     ]
    },
    {
     "name": "stderr",
     "output_type": "stream",
     "text": [
      "2022-07-21 13:33:49,681 INFO Sending request to https://cds.climate.copernicus.eu/api/v2/resources/reanalysis-era5-single-levels\n",
      "2022-07-21 13:33:49,742 INFO Welcome to the CDS\n",
      "2022-07-21 13:33:49,743 INFO Sending request to https://cds.climate.copernicus.eu/api/v2/resources/reanalysis-era5-single-levels\n",
      "2022-07-21 13:33:49,804 INFO Welcome to the CDS\n",
      "2022-07-21 13:33:49,805 INFO Sending request to https://cds.climate.copernicus.eu/api/v2/resources/reanalysis-era5-single-levels\n",
      "2022-07-21 13:33:49,859 INFO Welcome to the CDS\n",
      "2022-07-21 13:33:49,869 INFO Sending request to https://cds.climate.copernicus.eu/api/v2/resources/reanalysis-era5-single-levels\n"
     ]
    },
    {
     "name": "stdout",
     "output_type": "stream",
     "text": [
      "2022-07-21 13:33:49.716264 : chargement du fichier 10391X0013_PZ4.nc en cours (2cf7b6a1-d076-474b-b231-5358fd28e883).\n",
      "2022-07-21 13:33:49.776612 : chargement du fichier 10971X0155_PD5.nc en cours (28e6b58b-895b-4824-9b94-e26a09be7518).\n",
      "2022-07-21 13:33:49.838618 : chargement du fichier 10396X0162_F5.nc en cours (9c2df0f9-2589-42dc-bb53-8d02c2486b5b).\n",
      "2022-07-21 13:33:49.903051 : chargement du fichier 09387X0059_F5.nc en cours (31284e66-91d0-4366-8008-746d68565555).\n"
     ]
    },
    {
     "name": "stderr",
     "output_type": "stream",
     "text": [
      "2022-07-21 13:33:49,931 INFO Welcome to the CDS\n",
      "2022-07-21 13:33:49,933 INFO Sending request to https://cds.climate.copernicus.eu/api/v2/resources/reanalysis-era5-single-levels\n",
      "2022-07-21 13:33:49,996 INFO Welcome to the CDS\n",
      "2022-07-21 13:33:49,997 INFO Sending request to https://cds.climate.copernicus.eu/api/v2/resources/reanalysis-era5-single-levels\n",
      "2022-07-21 13:33:50,059 INFO Welcome to the CDS\n",
      "2022-07-21 13:33:50,061 INFO Sending request to https://cds.climate.copernicus.eu/api/v2/resources/reanalysis-era5-single-levels\n",
      "2022-07-21 13:33:50,137 INFO Welcome to the CDS\n",
      "2022-07-21 13:33:50,138 INFO Sending request to https://cds.climate.copernicus.eu/api/v2/resources/reanalysis-era5-single-levels\n"
     ]
    },
    {
     "name": "stdout",
     "output_type": "stream",
     "text": [
      "2022-07-21 13:33:49.968218 : chargement du fichier 10403X0154_SRAE16.nc en cours (3a31ac14-255d-4d8d-8d8e-77e185c28bcc).\n",
      "2022-07-21 13:33:50.033875 : chargement du fichier 10403X0314_F136.nc en cours (6efe7d82-43ec-4dc2-acaa-219efc540f3f).\n",
      "2022-07-21 13:33:50.110867 : chargement du fichier 09897X0081_DDEP6.nc en cours (a6db8010-f320-4f87-83b1-10b5c595206a).\n",
      "2022-07-21 13:33:50.174107 : chargement du fichier 10795X0068_S107.nc en cours (90ce858b-9357-464b-a98f-408a98c7d0ec).\n"
     ]
    },
    {
     "name": "stderr",
     "output_type": "stream",
     "text": [
      "2022-07-21 13:33:50,201 INFO Welcome to the CDS\n",
      "2022-07-21 13:33:50,202 INFO Sending request to https://cds.climate.copernicus.eu/api/v2/resources/reanalysis-era5-single-levels\n",
      "2022-07-21 13:33:50,373 INFO Welcome to the CDS\n",
      "2022-07-21 13:33:50,374 INFO Sending request to https://cds.climate.copernicus.eu/api/v2/resources/reanalysis-era5-single-levels\n",
      "2022-07-21 13:33:50,434 INFO Welcome to the CDS\n",
      "2022-07-21 13:33:50,435 INFO Sending request to https://cds.climate.copernicus.eu/api/v2/resources/reanalysis-era5-single-levels\n"
     ]
    },
    {
     "name": "stdout",
     "output_type": "stream",
     "text": [
      "2022-07-21 13:33:50.345234 : chargement du fichier 10405X0124_F17.nc en cours (12ec6a89-9329-4933-8bdd-d304816ee5b6).\n",
      "2022-07-21 13:33:50.406767 : chargement du fichier 10157X0104_1777.nc en cours (a83acad8-f7b2-474b-8313-c19e6d61f6ab).\n",
      "2022-07-21 13:33:50.507327 : chargement du fichier 09145X0257_CNRP88.nc en cours (7c651153-78ac-45bf-aeb5-0fbf5508cdf3).\n"
     ]
    },
    {
     "name": "stderr",
     "output_type": "stream",
     "text": [
      "2022-07-21 13:33:50,536 INFO Welcome to the CDS\n",
      "2022-07-21 13:33:50,537 INFO Sending request to https://cds.climate.copernicus.eu/api/v2/resources/reanalysis-era5-single-levels\n",
      "2022-07-21 13:33:50,609 INFO Welcome to the CDS\n",
      "2022-07-21 13:33:50,609 INFO Sending request to https://cds.climate.copernicus.eu/api/v2/resources/reanalysis-era5-single-levels\n",
      "2022-07-21 13:33:50,673 INFO Welcome to the CDS\n",
      "2022-07-21 13:33:50,674 INFO Sending request to https://cds.climate.copernicus.eu/api/v2/resources/reanalysis-era5-single-levels\n",
      "2022-07-21 13:33:50,739 INFO Welcome to the CDS\n",
      "2022-07-21 13:33:50,739 INFO Sending request to https://cds.climate.copernicus.eu/api/v2/resources/reanalysis-era5-single-levels\n"
     ]
    },
    {
     "name": "stdout",
     "output_type": "stream",
     "text": [
      "2022-07-21 13:33:50.584688 : chargement du fichier 10153X0069_VLHR8.nc en cours (88fbe281-346e-435d-af1f-cc909a862860).\n",
      "2022-07-21 13:33:50.645752 : chargement du fichier 09656X0066_6N49.nc en cours (279224b5-9889-4f9f-91bd-d31decef6345).\n",
      "2022-07-21 13:33:50.709839 : chargement du fichier 09134X0245_CNR459.nc en cours (00ed1072-0f3a-4514-b757-d8cf5f60cc51).\n"
     ]
    },
    {
     "name": "stderr",
     "output_type": "stream",
     "text": [
      "2022-07-21 13:33:50,837 INFO Welcome to the CDS\n",
      "2022-07-21 13:33:50,838 INFO Sending request to https://cds.climate.copernicus.eu/api/v2/resources/reanalysis-era5-single-levels\n",
      "2022-07-21 13:33:50,898 INFO Welcome to the CDS\n",
      "2022-07-21 13:33:50,898 INFO Sending request to https://cds.climate.copernicus.eu/api/v2/resources/reanalysis-era5-single-levels\n",
      "2022-07-21 13:33:50,971 INFO Welcome to the CDS\n",
      "2022-07-21 13:33:50,972 INFO Sending request to https://cds.climate.copernicus.eu/api/v2/resources/reanalysis-era5-single-levels\n"
     ]
    },
    {
     "name": "stdout",
     "output_type": "stream",
     "text": [
      "2022-07-21 13:33:50.811706 : chargement du fichier 10401X0294_DRN379.nc en cours (5cedd4bc-1cf7-4b45-8b1a-0a6c699c2d92).\n",
      "2022-07-21 13:33:50.871195 : chargement du fichier 10402X0177_JOURDA.nc en cours (41f6d95d-fac2-4c1e-a824-f1a51dcdf515).\n",
      "2022-07-21 13:33:50.943034 : chargement du fichier 09395X0065_NICOLA.nc en cours (a4c8f103-f1fa-4aec-a17e-7c09825c279c).\n"
     ]
    },
    {
     "name": "stderr",
     "output_type": "stream",
     "text": [
      "2022-07-21 13:33:51,065 INFO Welcome to the CDS\n",
      "2022-07-21 13:33:51,065 INFO Sending request to https://cds.climate.copernicus.eu/api/v2/resources/reanalysis-era5-single-levels\n",
      "2022-07-21 13:33:51,142 INFO Welcome to the CDS\n",
      "2022-07-21 13:33:51,143 INFO Sending request to https://cds.climate.copernicus.eu/api/v2/resources/reanalysis-era5-single-levels\n",
      "2022-07-21 13:33:51,205 INFO Welcome to the CDS\n",
      "2022-07-21 13:33:51,205 INFO Sending request to https://cds.climate.copernicus.eu/api/v2/resources/reanalysis-era5-single-levels\n"
     ]
    },
    {
     "name": "stdout",
     "output_type": "stream",
     "text": [
      "2022-07-21 13:33:51.033257 : chargement du fichier 10403X0350_PEZENA.nc en cours (4e576af4-6163-463b-bcfd-136b57ed3aa4).\n",
      "2022-07-21 13:33:51.115344 : chargement du fichier 10148X0031_POMPA.nc en cours (3304b55b-3e22-45aa-861c-f2311e5dc2af).\n",
      "2022-07-21 13:33:51.176748 : chargement du fichier 09921X0043_GENERA.nc en cours (47be77d9-de8c-4019-856c-5c922445ace7).\n"
     ]
    },
    {
     "name": "stderr",
     "output_type": "stream",
     "text": [
      "2022-07-21 13:33:51,275 INFO Welcome to the CDS\n",
      "2022-07-21 13:33:51,275 INFO Sending request to https://cds.climate.copernicus.eu/api/v2/resources/reanalysis-era5-single-levels\n",
      "2022-07-21 13:33:51,342 INFO Welcome to the CDS\n",
      "2022-07-21 13:33:51,342 INFO Sending request to https://cds.climate.copernicus.eu/api/v2/resources/reanalysis-era5-single-levels\n",
      "2022-07-21 13:33:51,405 INFO Welcome to the CDS\n",
      "2022-07-21 13:33:51,406 INFO Sending request to https://cds.climate.copernicus.eu/api/v2/resources/reanalysis-era5-single-levels\n"
     ]
    },
    {
     "name": "stdout",
     "output_type": "stream",
     "text": [
      "2022-07-21 13:33:51.253416 : chargement du fichier 10401X0128_CLAIRA.nc en cours (cdc47cc1-4004-4d1f-86ae-5103bd4e8815).\n",
      "2022-07-21 13:33:51.314999 : chargement du fichier 10613X0036_INRA.nc en cours (57f077f4-96ef-4caa-82ac-ed0fb5c8f73b).\n",
      "2022-07-21 13:33:51.378590 : chargement du fichier 09655X0266_CAISSA.nc en cours (2560b7f4-ee18-4877-a563-5bf0162e4698).\n",
      "2022-07-21 13:33:51.438005 : chargement du fichier 09632X0162_BRISSA.nc en cours (bdb825e8-eee1-41c3-a77b-7aea17299f8f).\n"
     ]
    },
    {
     "name": "stderr",
     "output_type": "stream",
     "text": [
      "2022-07-21 13:33:51,467 INFO Welcome to the CDS\n",
      "2022-07-21 13:33:51,468 INFO Sending request to https://cds.climate.copernicus.eu/api/v2/resources/reanalysis-era5-single-levels\n",
      "2022-07-21 13:33:51,526 INFO Welcome to the CDS\n",
      "2022-07-21 13:33:51,526 INFO Sending request to https://cds.climate.copernicus.eu/api/v2/resources/reanalysis-era5-single-levels\n",
      "2022-07-21 13:33:51,609 INFO Welcome to the CDS\n",
      "2022-07-21 13:33:51,609 INFO Sending request to https://cds.climate.copernicus.eu/api/v2/resources/reanalysis-era5-single-levels\n",
      "2022-07-21 13:33:51,680 INFO Welcome to the CDS\n",
      "2022-07-21 13:33:51,681 INFO Sending request to https://cds.climate.copernicus.eu/api/v2/resources/reanalysis-era5-single-levels\n"
     ]
    },
    {
     "name": "stdout",
     "output_type": "stream",
     "text": [
      "2022-07-21 13:33:51.511261 : chargement du fichier 10912X0134_BARQUA.nc en cours (fd8d51ee-45ed-4963-b821-77ca4881871f).\n",
      "2022-07-21 13:33:51.583029 : chargement du fichier 10972X0003_ALENYA.nc en cours (2a5e671d-8997-4732-8313-efb06b7a1075).\n",
      "2022-07-21 13:33:51.650760 : chargement du fichier 10403X0235_2031B.nc en cours (865be478-6ea2-4def-9216-df795baf70ff).\n"
     ]
    },
    {
     "name": "stderr",
     "output_type": "stream",
     "text": [
      "2022-07-21 13:33:51,756 INFO Welcome to the CDS\n",
      "2022-07-21 13:33:51,757 INFO Sending request to https://cds.climate.copernicus.eu/api/v2/resources/reanalysis-era5-single-levels\n",
      "2022-07-21 13:33:51,825 INFO Welcome to the CDS\n",
      "2022-07-21 13:33:51,825 INFO Sending request to https://cds.climate.copernicus.eu/api/v2/resources/reanalysis-era5-single-levels\n",
      "2022-07-21 13:33:51,892 INFO Welcome to the CDS\n",
      "2022-07-21 13:33:51,892 INFO Sending request to https://cds.climate.copernicus.eu/api/v2/resources/reanalysis-era5-single-levels\n"
     ]
    },
    {
     "name": "stdout",
     "output_type": "stream",
     "text": [
      "2022-07-21 13:33:51.728291 : chargement du fichier 09126X0274_ROCHEB.nc en cours (39155950-76f5-40a2-b0cf-0837162b05da).\n",
      "2022-07-21 13:33:51.798026 : chargement du fichier 10795X0070_PZCOMB.nc en cours (fcb11f5c-6c5e-47e3-bf0f-f46cbf48d6f4).\n",
      "2022-07-21 13:33:51.864762 : chargement du fichier 09382X0052_C.nc en cours (cdf30888-4c5c-4104-833a-75deb3e904d3).\n",
      "2022-07-21 13:33:51.929805 : chargement du fichier 09894X0077_DRAC.nc en cours (78473bd8-aaf0-4f57-9bf7-de38bf2d93da).\n"
     ]
    },
    {
     "name": "stderr",
     "output_type": "stream",
     "text": [
      "2022-07-21 13:33:51,957 INFO Welcome to the CDS\n",
      "2022-07-21 13:33:51,958 INFO Sending request to https://cds.climate.copernicus.eu/api/v2/resources/reanalysis-era5-single-levels\n",
      "2022-07-21 13:33:52,040 INFO Welcome to the CDS\n",
      "2022-07-21 13:33:52,040 INFO Sending request to https://cds.climate.copernicus.eu/api/v2/resources/reanalysis-era5-single-levels\n",
      "2022-07-21 13:33:52,117 INFO Welcome to the CDS\n",
      "2022-07-21 13:33:52,119 INFO Sending request to https://cds.climate.copernicus.eu/api/v2/resources/reanalysis-era5-single-levels\n",
      "2022-07-21 13:33:52,187 INFO Welcome to the CDS\n",
      "2022-07-21 13:33:52,188 INFO Sending request to https://cds.climate.copernicus.eu/api/v2/resources/reanalysis-era5-single-levels\n"
     ]
    },
    {
     "name": "stdout",
     "output_type": "stream",
     "text": [
      "2022-07-21 13:33:52.009165 : chargement du fichier 08626X0014_BERNAD.nc en cours (867cce52-deb5-418c-9dd7-c4b9695bac6f).\n",
      "2022-07-21 13:33:52.089333 : chargement du fichier 10403X0216_SAUZED.nc en cours (f00d9e1f-0e0e-4926-885a-a9fc828918d1).\n",
      "2022-07-21 13:33:52.158214 : chargement du fichier 09648X0082_UCHAUD.nc en cours (f0ead7e3-3b32-4dfa-87dc-29acc3365862).\n"
     ]
    },
    {
     "name": "stderr",
     "output_type": "stream",
     "text": [
      "2022-07-21 13:33:52,288 INFO Welcome to the CDS\n",
      "2022-07-21 13:33:52,289 INFO Sending request to https://cds.climate.copernicus.eu/api/v2/resources/reanalysis-era5-single-levels\n",
      "2022-07-21 13:33:52,347 INFO Welcome to the CDS\n",
      "2022-07-21 13:33:52,348 INFO Sending request to https://cds.climate.copernicus.eu/api/v2/resources/reanalysis-era5-single-levels\n",
      "2022-07-21 13:33:52,407 INFO Welcome to the CDS\n",
      "2022-07-21 13:33:52,408 INFO Sending request to https://cds.climate.copernicus.eu/api/v2/resources/reanalysis-era5-single-levels\n"
     ]
    },
    {
     "name": "stdout",
     "output_type": "stream",
     "text": [
      "2022-07-21 13:33:52.255551 : chargement du fichier 10142X0043_SUD.nc en cours (c7fbc55e-2f6d-487b-a252-fa1a1015ec17).\n",
      "2022-07-21 13:33:52.320527 : chargement du fichier 09908X0345_AUBE.nc en cours (be3b9f0b-3e76-42a6-a14d-ae6a0f3f0c67).\n",
      "2022-07-21 13:33:52.379936 : chargement du fichier 10616X0029_PRADE.nc en cours (23fca43b-6b1b-4a1b-bf3a-50aad92eb781).\n",
      "2022-07-21 13:33:52.461303 : chargement du fichier 10396X0068_SADE.nc en cours (11fe4fe3-6d05-47c2-a3be-fbdfdbc2ddd5).\n"
     ]
    },
    {
     "name": "stderr",
     "output_type": "stream",
     "text": [
      "2022-07-21 13:33:52,494 INFO Welcome to the CDS\n",
      "2022-07-21 13:33:52,496 INFO Sending request to https://cds.climate.copernicus.eu/api/v2/resources/reanalysis-era5-single-levels\n",
      "2022-07-21 13:33:52,607 INFO Welcome to the CDS\n",
      "2022-07-21 13:33:52,607 INFO Sending request to https://cds.climate.copernicus.eu/api/v2/resources/reanalysis-era5-single-levels\n",
      "2022-07-21 13:33:52,684 INFO Welcome to the CDS\n",
      "2022-07-21 13:33:52,685 INFO Sending request to https://cds.climate.copernicus.eu/api/v2/resources/reanalysis-era5-single-levels\n",
      "2022-07-21 13:33:52,749 INFO Welcome to the CDS\n",
      "2022-07-21 13:33:52,750 INFO Sending request to https://cds.climate.copernicus.eu/api/v2/resources/reanalysis-era5-single-levels\n"
     ]
    },
    {
     "name": "stdout",
     "output_type": "stream",
     "text": [
      "2022-07-21 13:33:52.576160 : chargement du fichier 10156X0057_BEGUDE.nc en cours (f19bdfec-370e-452c-a4ee-8357c2faf6b9).\n",
      "2022-07-21 13:33:52.654323 : chargement du fichier 09912X0278_FORAGE.nc en cours (f69f4c70-af5d-4509-b602-a16e24f08f13).\n",
      "2022-07-21 13:33:52.720229 : chargement du fichier 08627X0059_GAUCHE.nc en cours (120db3f7-8c9b-4e1b-8889-3fd18fb3a86f).\n",
      "2022-07-21 13:33:52.783006 : chargement du fichier 09914X0380_TEMPIE.nc en cours (827582a0-a5b5-4952-9dd7-627303805697).\n"
     ]
    },
    {
     "name": "stderr",
     "output_type": "stream",
     "text": [
      "2022-07-21 13:33:52,809 INFO Welcome to the CDS\n",
      "2022-07-21 13:33:52,810 INFO Sending request to https://cds.climate.copernicus.eu/api/v2/resources/reanalysis-era5-single-levels\n",
      "2022-07-21 13:33:52,943 INFO Welcome to the CDS\n",
      "2022-07-21 13:33:52,943 INFO Sending request to https://cds.climate.copernicus.eu/api/v2/resources/reanalysis-era5-single-levels\n",
      "2022-07-21 13:33:53,024 INFO Welcome to the CDS\n"
     ]
    },
    {
     "name": "stdout",
     "output_type": "stream",
     "text": [
      "2022-07-21 13:33:52.842900 : chargement du fichier 09381X0096_MAIRIE.nc en cours (057b04f1-ef39-4d13-b253-27de323710f8).\n",
      "2022-07-21 13:33:52.996414 : chargement du fichier 09914X0370_PERRIE.nc en cours (7c7774a5-3fc5-46dc-b196-216f85408752).\n"
     ]
    },
    {
     "name": "stderr",
     "output_type": "stream",
     "text": [
      "2022-07-21 13:33:53,025 INFO Sending request to https://cds.climate.copernicus.eu/api/v2/resources/reanalysis-era5-single-levels\n",
      "2022-07-21 13:33:53,085 INFO Welcome to the CDS\n",
      "2022-07-21 13:33:53,086 INFO Sending request to https://cds.climate.copernicus.eu/api/v2/resources/reanalysis-era5-single-levels\n",
      "2022-07-21 13:33:53,160 INFO Welcome to the CDS\n",
      "2022-07-21 13:33:53,160 INFO Sending request to https://cds.climate.copernicus.eu/api/v2/resources/reanalysis-era5-single-levels\n",
      "2022-07-21 13:33:53,226 INFO Welcome to the CDS\n",
      "2022-07-21 13:33:53,227 INFO Sending request to https://cds.climate.copernicus.eu/api/v2/resources/reanalysis-era5-single-levels\n"
     ]
    },
    {
     "name": "stdout",
     "output_type": "stream",
     "text": [
      "2022-07-21 13:33:53.058595 : chargement du fichier 09387X0067_CRUVIE.nc en cours (83af9f08-0e92-49cd-8f88-43a8ae3d60c9).\n",
      "2022-07-21 13:33:53.125877 : chargement du fichier 11001X0005_CECILE.nc en cours (7f12af53-8c4a-426f-9c9b-41837b386af9).\n",
      "2022-07-21 13:33:53.200883 : chargement du fichier 10406X0060_DRILLE.nc en cours (1b24f547-fb48-4068-84cb-7eb630fd2ac5).\n"
     ]
    },
    {
     "name": "stderr",
     "output_type": "stream",
     "text": [
      "2022-07-21 13:33:53,308 INFO Welcome to the CDS\n",
      "2022-07-21 13:33:53,308 INFO Sending request to https://cds.climate.copernicus.eu/api/v2/resources/reanalysis-era5-single-levels\n",
      "2022-07-21 13:33:53,365 INFO Welcome to the CDS\n",
      "2022-07-21 13:33:53,366 INFO Sending request to https://cds.climate.copernicus.eu/api/v2/resources/reanalysis-era5-single-levels\n",
      "2022-07-21 13:33:53,425 INFO Welcome to the CDS\n",
      "2022-07-21 13:33:53,426 INFO Sending request to https://cds.climate.copernicus.eu/api/v2/resources/reanalysis-era5-single-levels\n"
     ]
    },
    {
     "name": "stdout",
     "output_type": "stream",
     "text": [
      "2022-07-21 13:33:53.281673 : chargement du fichier 08866X0047_BURLE.nc en cours (e24e0d74-1862-4d95-9006-72a13452a2a7).\n",
      "2022-07-21 13:33:53.340116 : chargement du fichier 09388X0111_OULE.nc en cours (dd1ab4ff-02dd-4ec8-b288-1b2057d0e77a).\n",
      "2022-07-21 13:33:53.399669 : chargement du fichier 10916X0090_PHARE.nc en cours (0ddd5b6c-4632-4dd1-9b99-97c1bd2bee45).\n",
      "2022-07-21 13:33:53.459454 : chargement du fichier 08866X0059_CENARE.nc en cours (8b35db9a-fa20-406d-a17c-c892fb66ffa9).\n"
     ]
    },
    {
     "name": "stderr",
     "output_type": "stream",
     "text": [
      "2022-07-21 13:33:53,487 INFO Welcome to the CDS\n",
      "2022-07-21 13:33:53,488 INFO Sending request to https://cds.climate.copernicus.eu/api/v2/resources/reanalysis-era5-single-levels\n",
      "2022-07-21 13:33:53,588 INFO Welcome to the CDS\n",
      "2022-07-21 13:33:53,588 INFO Sending request to https://cds.climate.copernicus.eu/api/v2/resources/reanalysis-era5-single-levels\n",
      "2022-07-21 13:33:53,652 INFO Welcome to the CDS\n",
      "2022-07-21 13:33:53,653 INFO Sending request to https://cds.climate.copernicus.eu/api/v2/resources/reanalysis-era5-single-levels\n",
      "2022-07-21 13:33:53,709 INFO Welcome to the CDS\n",
      "2022-07-21 13:33:53,709 INFO Sending request to https://cds.climate.copernicus.eu/api/v2/resources/reanalysis-era5-single-levels\n"
     ]
    },
    {
     "name": "stdout",
     "output_type": "stream",
     "text": [
      "2022-07-21 13:33:53.560222 : chargement du fichier 09913X0158_AIRE.nc en cours (fd488c48-f701-4e04-8607-b91a5a981c08).\n",
      "2022-07-21 13:33:53.627637 : chargement du fichier 09124X0293_SISE.nc en cours (1ec39783-fbc3-48c0-8719-866e2f6c369a).\n",
      "2022-07-21 13:33:53.685501 : chargement du fichier 10402X0180_ECLUSE.nc en cours (2dccf0f2-1d22-481b-b11d-1040a914d323).\n"
     ]
    },
    {
     "name": "stderr",
     "output_type": "stream",
     "text": [
      "2022-07-21 13:33:53,787 INFO Welcome to the CDS\n",
      "2022-07-21 13:33:53,787 INFO Sending request to https://cds.climate.copernicus.eu/api/v2/resources/reanalysis-era5-single-levels\n",
      "2022-07-21 13:33:53,873 INFO Welcome to the CDS\n",
      "2022-07-21 13:33:53,873 INFO Sending request to https://cds.climate.copernicus.eu/api/v2/resources/reanalysis-era5-single-levels\n",
      "2022-07-21 13:33:53,931 INFO Welcome to the CDS\n",
      "2022-07-21 13:33:53,932 INFO Sending request to https://cds.climate.copernicus.eu/api/v2/resources/reanalysis-era5-single-levels\n"
     ]
    },
    {
     "name": "stdout",
     "output_type": "stream",
     "text": [
      "2022-07-21 13:33:53.761480 : chargement du fichier 10772X0051_CAPITE.nc en cours (1bb239c3-4d3f-40c2-92c8-371cd1795b32).\n",
      "2022-07-21 13:33:53.831311 : chargement du fichier 10795X0028_CARSTE.nc en cours (632be89b-9e31-4741-abc4-d7bd305cc6c4).\n",
      "2022-07-21 13:33:53.906558 : chargement du fichier 09574X0030_F.nc en cours (cc2d7431-6b06-4415-9c34-67725c88f72c).\n",
      "2022-07-21 13:33:53.964403 : chargement du fichier 09805X0030_F.nc en cours (752f4ad5-c654-4e45-82b0-63eb1103c700).\n"
     ]
    },
    {
     "name": "stderr",
     "output_type": "stream",
     "text": [
      "2022-07-21 13:33:53,990 INFO Welcome to the CDS\n",
      "2022-07-21 13:33:53,991 INFO Sending request to https://cds.climate.copernicus.eu/api/v2/resources/reanalysis-era5-single-levels\n",
      "2022-07-21 13:33:54,073 INFO Welcome to the CDS\n",
      "2022-07-21 13:33:54,073 INFO Sending request to https://cds.climate.copernicus.eu/api/v2/resources/reanalysis-era5-single-levels\n",
      "2022-07-21 13:33:54,142 INFO Welcome to the CDS\n",
      "2022-07-21 13:33:54,142 INFO Sending request to https://cds.climate.copernicus.eu/api/v2/resources/reanalysis-era5-single-levels\n",
      "2022-07-21 13:33:54,215 INFO Welcome to the CDS\n",
      "2022-07-21 13:33:54,216 INFO Sending request to https://cds.climate.copernicus.eu/api/v2/resources/reanalysis-era5-single-levels\n"
     ]
    },
    {
     "name": "stdout",
     "output_type": "stream",
     "text": [
      "2022-07-21 13:33:54.059828 : chargement du fichier 10403X0130_F.nc en cours (6f446bf2-e07d-442f-b1ec-ea68f5dd4344).\n",
      "2022-07-21 13:33:54.131456 : chargement du fichier 09562X0170_F.nc en cours (0fe1c71a-471f-400c-9c0a-eb4320ff3f0b).\n",
      "2022-07-21 13:33:54.190831 : chargement du fichier 09911X0280_F.nc en cours (8db40456-085b-4a1d-a9fe-7cd2e6d88c38).\n",
      "2022-07-21 13:33:54.247831 : chargement du fichier 10405X0090_F.nc en cours (ea630d68-9fd6-45a7-a3a0-111d1c3d44a9).\n"
     ]
    },
    {
     "name": "stderr",
     "output_type": "stream",
     "text": [
      "2022-07-21 13:33:54,273 INFO Welcome to the CDS\n",
      "2022-07-21 13:33:54,273 INFO Sending request to https://cds.climate.copernicus.eu/api/v2/resources/reanalysis-era5-single-levels\n",
      "2022-07-21 13:33:54,332 INFO Welcome to the CDS\n",
      "2022-07-21 13:33:54,333 INFO Sending request to https://cds.climate.copernicus.eu/api/v2/resources/reanalysis-era5-single-levels\n",
      "2022-07-21 13:33:54,409 INFO Welcome to the CDS\n",
      "2022-07-21 13:33:54,409 INFO Sending request to https://cds.climate.copernicus.eu/api/v2/resources/reanalysis-era5-single-levels\n",
      "2022-07-21 13:33:54,491 INFO Welcome to the CDS\n"
     ]
    },
    {
     "name": "stdout",
     "output_type": "stream",
     "text": [
      "2022-07-21 13:33:54.307877 : chargement du fichier 10312X0001_F.nc en cours (ff59a01b-f56c-4f0e-b82b-b3f5fbe8570d).\n",
      "2022-07-21 13:33:54.390978 : chargement du fichier 09042X0001_F.nc en cours (93a25963-5a44-422c-9775-a4af40c8f648).\n",
      "2022-07-21 13:33:54.468769 : chargement du fichier 10082X0001_F.nc en cours (7c7a49f1-29fb-472a-a3d6-1fbcf7a04fbf).\n"
     ]
    },
    {
     "name": "stderr",
     "output_type": "stream",
     "text": [
      "2022-07-21 13:33:54,491 INFO Sending request to https://cds.climate.copernicus.eu/api/v2/resources/reanalysis-era5-single-levels\n",
      "2022-07-21 13:33:54,553 INFO Welcome to the CDS\n",
      "2022-07-21 13:33:54,553 INFO Sending request to https://cds.climate.copernicus.eu/api/v2/resources/reanalysis-era5-single-levels\n",
      "2022-07-21 13:33:54,610 INFO Welcome to the CDS\n",
      "2022-07-21 13:33:54,611 INFO Sending request to https://cds.climate.copernicus.eu/api/v2/resources/reanalysis-era5-single-levels\n",
      "2022-07-21 13:33:54,669 INFO Welcome to the CDS\n",
      "2022-07-21 13:33:54,670 INFO Sending request to https://cds.climate.copernicus.eu/api/v2/resources/reanalysis-era5-single-levels\n",
      "2022-07-21 13:33:54,728 INFO Welcome to the CDS\n"
     ]
    },
    {
     "name": "stdout",
     "output_type": "stream",
     "text": [
      "2022-07-21 13:33:54.528456 : chargement du fichier 10078X0001_F.nc en cours (0d87f33b-51ef-465e-971c-5438af82b5ad).\n",
      "2022-07-21 13:33:54.585779 : chargement du fichier 10548X0101_F.nc en cours (ab5cd3fd-9bdc-4036-9c6e-f6f4f467c543).\n",
      "2022-07-21 13:33:54.644943 : chargement du fichier 09793X0011_F.nc en cours (cf544950-52fc-4ea3-9361-c29fc0ab8e00).\n",
      "2022-07-21 13:33:54.703004 : chargement du fichier 08807X0011_F.nc en cours (f09fd679-d26f-4d54-a6d4-6ccae25c141e).\n"
     ]
    },
    {
     "name": "stderr",
     "output_type": "stream",
     "text": [
      "2022-07-21 13:33:54,729 INFO Sending request to https://cds.climate.copernicus.eu/api/v2/resources/reanalysis-era5-single-levels\n",
      "2022-07-21 13:33:54,786 INFO Welcome to the CDS\n",
      "2022-07-21 13:33:54,787 INFO Sending request to https://cds.climate.copernicus.eu/api/v2/resources/reanalysis-era5-single-levels\n",
      "2022-07-21 13:33:54,848 INFO Welcome to the CDS\n",
      "2022-07-21 13:33:54,849 INFO Sending request to https://cds.climate.copernicus.eu/api/v2/resources/reanalysis-era5-single-levels\n",
      "2022-07-21 13:33:54,906 INFO Welcome to the CDS\n",
      "2022-07-21 13:33:54,906 INFO Sending request to https://cds.climate.copernicus.eu/api/v2/resources/reanalysis-era5-single-levels\n"
     ]
    },
    {
     "name": "stdout",
     "output_type": "stream",
     "text": [
      "2022-07-21 13:33:54.761754 : chargement du fichier 09903X0111_F.nc en cours (a994a3ce-7899-4173-937f-12b90d1f169b).\n",
      "2022-07-21 13:33:54.822483 : chargement du fichier 09541X0021_F.nc en cours (2116558d-9ba7-4f9e-a562-4fb6d5bf4cfa).\n",
      "2022-07-21 13:33:54.881850 : chargement du fichier 10357X0021_F.nc en cours (2db06f5b-2cf5-4c98-8fd2-0eaabbd8b046).\n",
      "2022-07-21 13:33:54.944427 : chargement du fichier 09908X0351_F.nc en cours (24be49a1-f4d8-490d-a8f4-02ded31b1ca5).\n"
     ]
    },
    {
     "name": "stderr",
     "output_type": "stream",
     "text": [
      "2022-07-21 13:33:54,971 INFO Welcome to the CDS\n",
      "2022-07-21 13:33:54,971 INFO Sending request to https://cds.climate.copernicus.eu/api/v2/resources/reanalysis-era5-single-levels\n",
      "2022-07-21 13:33:55,054 INFO Welcome to the CDS\n",
      "2022-07-21 13:33:55,054 INFO Sending request to https://cds.climate.copernicus.eu/api/v2/resources/reanalysis-era5-single-levels\n",
      "2022-07-21 13:33:55,111 INFO Welcome to the CDS\n",
      "2022-07-21 13:33:55,112 INFO Sending request to https://cds.climate.copernicus.eu/api/v2/resources/reanalysis-era5-single-levels\n",
      "2022-07-21 13:33:55,186 INFO Welcome to the CDS\n",
      "2022-07-21 13:33:55,187 INFO Sending request to https://cds.climate.copernicus.eu/api/v2/resources/reanalysis-era5-single-levels\n"
     ]
    },
    {
     "name": "stdout",
     "output_type": "stream",
     "text": [
      "2022-07-21 13:33:55.028376 : chargement du fichier 09306X0091_F.nc en cours (d3e46731-3ff4-4c0d-ae84-f03d92304b80).\n",
      "2022-07-21 13:33:55.086245 : chargement du fichier 09824X0002_F.nc en cours (6a3574e9-66af-4dea-9dbe-d1efaff9d2fe).\n",
      "2022-07-21 13:33:55.159304 : chargement du fichier 10336X0002_F.nc en cours (2d54a44d-709d-4679-8a79-fc3c62a5e16c).\n",
      "2022-07-21 13:33:55.220528 : chargement du fichier 09528X0002_F.nc en cours (bccd2c60-592f-4111-9815-3debf1c5e2d2).\n"
     ]
    },
    {
     "name": "stderr",
     "output_type": "stream",
     "text": [
      "2022-07-21 13:33:55,260 INFO Welcome to the CDS\n",
      "2022-07-21 13:33:55,260 INFO Sending request to https://cds.climate.copernicus.eu/api/v2/resources/reanalysis-era5-single-levels\n",
      "2022-07-21 13:33:55,308 INFO Welcome to the CDS\n",
      "2022-07-21 13:33:55,308 INFO Sending request to https://cds.climate.copernicus.eu/api/v2/resources/reanalysis-era5-single-levels\n",
      "2022-07-21 13:33:55,402 INFO Welcome to the CDS\n",
      "2022-07-21 13:33:55,402 INFO Sending request to https://cds.climate.copernicus.eu/api/v2/resources/reanalysis-era5-single-levels\n",
      "2022-07-21 13:33:55,468 INFO Welcome to the CDS\n",
      "2022-07-21 13:33:55,471 INFO Sending request to https://cds.climate.copernicus.eu/api/v2/resources/reanalysis-era5-single-levels\n"
     ]
    },
    {
     "name": "stdout",
     "output_type": "stream",
     "text": [
      "2022-07-21 13:33:55.293500 : chargement du fichier 09857X0102_F.nc en cours (7d85366e-1999-4525-a3c5-f7e91cc36745).\n",
      "2022-07-21 13:33:55.371079 : chargement du fichier 10315X0112_F.nc en cours (84bc2717-24b2-4049-92d0-a0db806afe6c).\n",
      "2022-07-21 13:33:55.436714 : chargement du fichier 09526X0212_F.nc en cours (592662a9-80e5-418a-a3ba-abba5cd9de8a).\n"
     ]
    },
    {
     "name": "stderr",
     "output_type": "stream",
     "text": [
      "2022-07-21 13:33:55,561 INFO Welcome to the CDS\n",
      "2022-07-21 13:33:55,563 INFO Sending request to https://cds.climate.copernicus.eu/api/v2/resources/reanalysis-era5-single-levels\n",
      "2022-07-21 13:33:55,636 INFO Welcome to the CDS\n",
      "2022-07-21 13:33:55,637 INFO Sending request to https://cds.climate.copernicus.eu/api/v2/resources/reanalysis-era5-single-levels\n",
      "2022-07-21 13:33:55,697 INFO Welcome to the CDS\n",
      "2022-07-21 13:33:55,698 INFO Sending request to https://cds.climate.copernicus.eu/api/v2/resources/reanalysis-era5-single-levels\n"
     ]
    },
    {
     "name": "stdout",
     "output_type": "stream",
     "text": [
      "2022-07-21 13:33:55.529640 : chargement du fichier 09546X0022_F.nc en cours (1efc8577-cf7a-4fcf-99ad-b0db20139eb3).\n",
      "2022-07-21 13:33:55.607093 : chargement du fichier 10601X0032_F.nc en cours (d574b480-99a4-4fe8-95c0-c99f728afbf3).\n",
      "2022-07-21 13:33:55.671168 : chargement du fichier 09523X0032_F.nc en cours (4f0081c8-f5ff-449f-83ac-5c906c6c3317).\n"
     ]
    },
    {
     "name": "stderr",
     "output_type": "stream",
     "text": [
      "2022-07-21 13:33:55,774 INFO Welcome to the CDS\n",
      "2022-07-21 13:33:55,776 INFO Sending request to https://cds.climate.copernicus.eu/api/v2/resources/reanalysis-era5-single-levels\n",
      "2022-07-21 13:33:55,845 INFO Welcome to the CDS\n",
      "2022-07-21 13:33:55,845 INFO Sending request to https://cds.climate.copernicus.eu/api/v2/resources/reanalysis-era5-single-levels\n"
     ]
    },
    {
     "name": "stdout",
     "output_type": "stream",
     "text": [
      "2022-07-21 13:33:55.747046 : chargement du fichier 10065X0042_F.nc en cours (db161ce4-7ef1-4300-a7aa-4a1b02270a38).\n",
      "2022-07-21 13:33:55.814173 : chargement du fichier 10405X0062_F.nc en cours (91586977-3714-4570-9ae5-73e16976554a).\n",
      "2022-07-21 13:33:55.911680 : chargement du fichier 09793X0003_F.nc en cours (06c21aa5-64d6-40e3-836c-8faed375e415).\n"
     ]
    },
    {
     "name": "stderr",
     "output_type": "stream",
     "text": [
      "2022-07-21 13:33:55,942 INFO Welcome to the CDS\n",
      "2022-07-21 13:33:55,942 INFO Sending request to https://cds.climate.copernicus.eu/api/v2/resources/reanalysis-era5-single-levels\n",
      "2022-07-21 13:33:56,028 INFO Welcome to the CDS\n",
      "2022-07-21 13:33:56,044 INFO Sending request to https://cds.climate.copernicus.eu/api/v2/resources/reanalysis-era5-single-levels\n",
      "2022-07-21 13:33:56,109 INFO Welcome to the CDS\n",
      "2022-07-21 13:33:56,109 INFO Sending request to https://cds.climate.copernicus.eu/api/v2/resources/reanalysis-era5-single-levels\n",
      "2022-07-21 13:33:56,194 INFO Welcome to the CDS\n"
     ]
    },
    {
     "name": "stdout",
     "output_type": "stream",
     "text": [
      "2022-07-21 13:33:55.997524 : chargement du fichier 10357X0213_F.nc en cours (ee2caabc-85e4-48ac-aff1-bb45fad9793f).\n",
      "2022-07-21 13:33:56.078428 : chargement du fichier 09293X0123_F.nc en cours (cd29ce20-ae35-44ae-8a0f-4b1b308fc7a3).\n",
      "2022-07-21 13:33:56.152564 : chargement du fichier 09312X0063_F.nc en cours (115aa127-7f62-40c2-a1a1-4f44ffc46393).\n"
     ]
    },
    {
     "name": "stderr",
     "output_type": "stream",
     "text": [
      "2022-07-21 13:33:56,194 INFO Sending request to https://cds.climate.copernicus.eu/api/v2/resources/reanalysis-era5-single-levels\n",
      "2022-07-21 13:33:56,256 INFO Welcome to the CDS\n",
      "2022-07-21 13:33:56,256 INFO Sending request to https://cds.climate.copernicus.eu/api/v2/resources/reanalysis-era5-single-levels\n",
      "2022-07-21 13:33:56,320 INFO Welcome to the CDS\n",
      "2022-07-21 13:33:56,335 INFO Sending request to https://cds.climate.copernicus.eu/api/v2/resources/reanalysis-era5-single-levels\n",
      "2022-07-21 13:33:56,394 INFO Welcome to the CDS\n",
      "2022-07-21 13:33:56,394 INFO Sending request to https://cds.climate.copernicus.eu/api/v2/resources/reanalysis-era5-single-levels\n"
     ]
    },
    {
     "name": "stdout",
     "output_type": "stream",
     "text": [
      "2022-07-21 13:33:56.238787 : chargement du fichier 09311X0093_F.nc en cours (bfd55f1a-241e-4dad-920b-a1279c2b1184).\n",
      "2022-07-21 13:33:56.304178 : chargement du fichier 10098A0004_F.nc en cours (5b116542-d555-44ff-aacb-f3555deb9b06).\n",
      "2022-07-21 13:33:56.368046 : chargement du fichier 10351X0024_F.nc en cours (52926d56-bf6d-41d6-a360-73b66f0358a5).\n",
      "2022-07-21 13:33:56.440376 : chargement du fichier 10912X0024_F.nc en cours (7ca5009a-7881-4466-beca-8661ac25d2d9).\n"
     ]
    },
    {
     "name": "stderr",
     "output_type": "stream",
     "text": [
      "2022-07-21 13:33:56,542 INFO Welcome to the CDS\n",
      "2022-07-21 13:33:56,542 INFO Sending request to https://cds.climate.copernicus.eu/api/v2/resources/reanalysis-era5-single-levels\n",
      "2022-07-21 13:33:56,610 INFO Welcome to the CDS\n",
      "2022-07-21 13:33:56,610 INFO Sending request to https://cds.climate.copernicus.eu/api/v2/resources/reanalysis-era5-single-levels\n",
      "2022-07-21 13:33:56,680 INFO Welcome to the CDS\n",
      "2022-07-21 13:33:56,680 INFO Sending request to https://cds.climate.copernicus.eu/api/v2/resources/reanalysis-era5-single-levels\n",
      "2022-07-21 13:33:56,754 INFO Welcome to the CDS\n"
     ]
    },
    {
     "name": "stdout",
     "output_type": "stream",
     "text": [
      "2022-07-21 13:33:56.579524 : chargement du fichier 10097X0224_F.nc en cours (b28b330c-3607-43b0-a729-793ca1f208a8).\n",
      "2022-07-21 13:33:56.660219 : chargement du fichier 10405X0054_F.nc en cours (89620a6d-2dfe-4c37-9033-8eb0c395c2f6).\n",
      "2022-07-21 13:33:56.722798 : chargement du fichier 09866X0074_F.nc en cours (31982922-1c25-4efd-a02f-050992e5f13a).\n"
     ]
    },
    {
     "name": "stderr",
     "output_type": "stream",
     "text": [
      "2022-07-21 13:33:56,754 INFO Sending request to https://cds.climate.copernicus.eu/api/v2/resources/reanalysis-era5-single-levels\n",
      "2022-07-21 13:33:56,816 INFO Welcome to the CDS\n",
      "2022-07-21 13:33:56,816 INFO Sending request to https://cds.climate.copernicus.eu/api/v2/resources/reanalysis-era5-single-levels\n",
      "2022-07-21 13:33:56,880 INFO Welcome to the CDS\n",
      "2022-07-21 13:33:56,896 INFO Sending request to https://cds.climate.copernicus.eu/api/v2/resources/reanalysis-era5-single-levels\n"
     ]
    },
    {
     "name": "stdout",
     "output_type": "stream",
     "text": [
      "2022-07-21 13:33:56.780431 : chargement du fichier 10401X0094_F.nc en cours (baf8eebf-543b-4793-929c-197a67674681).\n",
      "2022-07-21 13:33:56.862745 : chargement du fichier 08323X0205_F.nc en cours (77bdb051-eba1-4727-bebf-da22729896f4).\n",
      "2022-07-21 13:33:56.929988 : chargement du fichier 10406X0035_F.nc en cours (63784d49-4270-45bf-91fd-ddf896cfa919).\n"
     ]
    },
    {
     "name": "stderr",
     "output_type": "stream",
     "text": [
      "2022-07-21 13:33:56,961 INFO Welcome to the CDS\n",
      "2022-07-21 13:33:56,963 INFO Sending request to https://cds.climate.copernicus.eu/api/v2/resources/reanalysis-era5-single-levels\n",
      "2022-07-21 13:33:57,036 INFO Welcome to the CDS\n",
      "2022-07-21 13:33:57,037 INFO Sending request to https://cds.climate.copernicus.eu/api/v2/resources/reanalysis-era5-single-levels\n",
      "2022-07-21 13:33:57,132 INFO Welcome to the CDS\n",
      "2022-07-21 13:33:57,133 INFO Sending request to https://cds.climate.copernicus.eu/api/v2/resources/reanalysis-era5-single-levels\n",
      "2022-07-21 13:33:57,196 INFO Welcome to the CDS\n"
     ]
    },
    {
     "name": "stdout",
     "output_type": "stream",
     "text": [
      "2022-07-21 13:33:57.010124 : chargement du fichier 08811X0055_F.nc en cours (8279f104-de66-46bb-a625-8228343f95cd).\n",
      "2022-07-21 13:33:57.103200 : chargement du fichier 10122X0055_F.nc en cours (dabb27cd-bc74-4cee-a59d-168ced605932).\n",
      "2022-07-21 13:33:57.166917 : chargement du fichier 09268X0055_F.nc en cours (d167b443-98fb-4c90-a16c-3e7edeb11f5b).\n"
     ]
    },
    {
     "name": "stderr",
     "output_type": "stream",
     "text": [
      "2022-07-21 13:33:57,197 INFO Sending request to https://cds.climate.copernicus.eu/api/v2/resources/reanalysis-era5-single-levels\n",
      "2022-07-21 13:33:57,262 INFO Welcome to the CDS\n",
      "2022-07-21 13:33:57,262 INFO Sending request to https://cds.climate.copernicus.eu/api/v2/resources/reanalysis-era5-single-levels\n",
      "2022-07-21 13:33:57,332 INFO Welcome to the CDS\n",
      "2022-07-21 13:33:57,333 INFO Sending request to https://cds.climate.copernicus.eu/api/v2/resources/reanalysis-era5-single-levels\n",
      "2022-07-21 13:33:57,414 INFO Welcome to the CDS\n"
     ]
    },
    {
     "name": "stdout",
     "output_type": "stream",
     "text": [
      "2022-07-21 13:33:57.232852 : chargement du fichier 10405X0085_F.nc en cours (9d421f3b-69b7-4a4a-af14-2a2d9a98dac6).\n",
      "2022-07-21 13:33:57.304273 : chargement du fichier 09303X0185_F.nc en cours (de299585-0f08-4364-9ae1-9090d3c83d51).\n",
      "2022-07-21 13:33:57.381080 : chargement du fichier 08323X0206_F.nc en cours (335b56f7-7776-4f6b-b7ba-006b43cd9248).\n"
     ]
    },
    {
     "name": "stderr",
     "output_type": "stream",
     "text": [
      "2022-07-21 13:33:57,414 INFO Sending request to https://cds.climate.copernicus.eu/api/v2/resources/reanalysis-era5-single-levels\n",
      "2022-07-21 13:33:57,512 INFO Welcome to the CDS\n",
      "2022-07-21 13:33:57,512 INFO Sending request to https://cds.climate.copernicus.eu/api/v2/resources/reanalysis-era5-single-levels\n",
      "2022-07-21 13:33:57,619 INFO Welcome to the CDS\n",
      "2022-07-21 13:33:57,620 INFO Sending request to https://cds.climate.copernicus.eu/api/v2/resources/reanalysis-era5-single-levels\n"
     ]
    },
    {
     "name": "stdout",
     "output_type": "stream",
     "text": [
      "2022-07-21 13:33:57.481292 : chargement du fichier 09533X0016_F.nc en cours (5cc3a251-83cc-448b-8739-e3f06fd0befd).\n",
      "2022-07-21 13:33:57.581615 : chargement du fichier 10072X0026_F.nc en cours (8941415c-6961-4be4-b00b-54c44e03675c).\n",
      "2022-07-21 13:33:57.659046 : chargement du fichier 10553X0026_F.nc en cours (931f7632-5bf5-42ad-bfe4-bf585a81c1f6).\n"
     ]
    },
    {
     "name": "stderr",
     "output_type": "stream",
     "text": [
      "2022-07-21 13:33:57,693 INFO Welcome to the CDS\n",
      "2022-07-21 13:33:57,694 INFO Sending request to https://cds.climate.copernicus.eu/api/v2/resources/reanalysis-era5-single-levels\n",
      "2022-07-21 13:33:57,781 INFO Welcome to the CDS\n",
      "2022-07-21 13:33:57,781 INFO Sending request to https://cds.climate.copernicus.eu/api/v2/resources/reanalysis-era5-single-levels\n",
      "2022-07-21 13:33:57,845 INFO Welcome to the CDS\n",
      "2022-07-21 13:33:57,845 INFO Sending request to https://cds.climate.copernicus.eu/api/v2/resources/reanalysis-era5-single-levels\n"
     ]
    },
    {
     "name": "stdout",
     "output_type": "stream",
     "text": [
      "2022-07-21 13:33:57.743686 : chargement du fichier 10546X0026_F.nc en cours (31dce915-4167-4423-9868-fce7d08e91f6).\n",
      "2022-07-21 13:33:57.814166 : chargement du fichier 09328X0126_F.nc en cours (07e81a04-afd3-4740-9f28-f6f85d7120e8).\n",
      "2022-07-21 13:33:57.917452 : chargement du fichier 09845C1426_F.nc en cours (faa509c1-0770-47d4-99eb-8ecb082f1c7b).\n"
     ]
    },
    {
     "name": "stderr",
     "output_type": "stream",
     "text": [
      "2022-07-21 13:33:57,959 INFO Welcome to the CDS\n",
      "2022-07-21 13:33:57,961 INFO Sending request to https://cds.climate.copernicus.eu/api/v2/resources/reanalysis-era5-single-levels\n",
      "2022-07-21 13:33:58,013 INFO Welcome to the CDS\n",
      "2022-07-21 13:33:58,029 INFO Sending request to https://cds.climate.copernicus.eu/api/v2/resources/reanalysis-era5-single-levels\n",
      "2022-07-21 13:33:58,082 INFO Welcome to the CDS\n",
      "2022-07-21 13:33:58,082 INFO Sending request to https://cds.climate.copernicus.eu/api/v2/resources/reanalysis-era5-single-levels\n",
      "2022-07-21 13:33:58,152 INFO Welcome to the CDS\n",
      "2022-07-21 13:33:58,152 INFO Sending request to https://cds.climate.copernicus.eu/api/v2/resources/reanalysis-era5-single-levels\n"
     ]
    },
    {
     "name": "stdout",
     "output_type": "stream",
     "text": [
      "2022-07-21 13:33:57.998218 : chargement du fichier 09307X0136_F.nc en cours (3382ebfe-d75b-4f7a-ad73-c0d380879b24).\n",
      "2022-07-21 13:33:58.060487 : chargement du fichier 10403X0046_F.nc en cours (15cc354b-95b2-49d2-9a51-bb90b96cefa2).\n",
      "2022-07-21 13:33:58.120929 : chargement du fichier 09307X0146_F.nc en cours (81922f4c-57da-42f5-8836-210e65c04da1).\n"
     ]
    },
    {
     "name": "stderr",
     "output_type": "stream",
     "text": [
      "2022-07-21 13:33:58,240 INFO Welcome to the CDS\n",
      "2022-07-21 13:33:58,240 INFO Sending request to https://cds.climate.copernicus.eu/api/v2/resources/reanalysis-era5-single-levels\n",
      "2022-07-21 13:33:58,298 INFO Welcome to the CDS\n",
      "2022-07-21 13:33:58,298 INFO Sending request to https://cds.climate.copernicus.eu/api/v2/resources/reanalysis-era5-single-levels\n",
      "2022-07-21 13:33:58,366 INFO Welcome to the CDS\n",
      "2022-07-21 13:33:58,366 INFO Sending request to https://cds.climate.copernicus.eu/api/v2/resources/reanalysis-era5-single-levels\n"
     ]
    },
    {
     "name": "stdout",
     "output_type": "stream",
     "text": [
      "2022-07-21 13:33:58.208959 : chargement du fichier 09294X0256_F.nc en cours (07166691-03dd-49af-ad7f-f55644cb2172).\n",
      "2022-07-21 13:33:58.264934 : chargement du fichier 10092X0166_F.nc en cours (52e49fed-50d6-463e-96db-822012823eb7).\n",
      "2022-07-21 13:33:58.335199 : chargement du fichier 09306X0286_F.nc en cours (a338c757-0538-421c-90f3-af058578b4e1).\n",
      "2022-07-21 13:33:58.413582 : chargement du fichier 08592X0096_F.nc en cours (9a505a4f-d392-49b5-b93c-a0d80792df67).\n"
     ]
    },
    {
     "name": "stderr",
     "output_type": "stream",
     "text": [
      "2022-07-21 13:33:58,444 INFO Welcome to the CDS\n",
      "2022-07-21 13:33:58,444 INFO Sending request to https://cds.climate.copernicus.eu/api/v2/resources/reanalysis-era5-single-levels\n",
      "2022-07-21 13:33:58,529 INFO Welcome to the CDS\n",
      "2022-07-21 13:33:58,529 INFO Sending request to https://cds.climate.copernicus.eu/api/v2/resources/reanalysis-era5-single-levels\n",
      "2022-07-21 13:33:58,598 INFO Welcome to the CDS\n",
      "2022-07-21 13:33:58,598 INFO Sending request to https://cds.climate.copernicus.eu/api/v2/resources/reanalysis-era5-single-levels\n",
      "2022-07-21 13:33:58,682 INFO Welcome to the CDS\n",
      "2022-07-21 13:33:58,682 INFO Sending request to https://cds.climate.copernicus.eu/api/v2/resources/reanalysis-era5-single-levels\n"
     ]
    },
    {
     "name": "stdout",
     "output_type": "stream",
     "text": [
      "2022-07-21 13:33:58.514252 : chargement du fichier 08565X0007_F.nc en cours (49278831-0bfe-4fdd-82dc-ce1a054dac3e).\n",
      "2022-07-21 13:33:58.576620 : chargement du fichier 10603X0027_F.nc en cours (a654d1ef-5bfe-4040-b167-a85fe7d827ba).\n",
      "2022-07-21 13:33:58.644261 : chargement du fichier 09838D0727_F.nc en cours (1b6e349f-a2b5-41d9-b58e-4a9ad57ad256).\n"
     ]
    },
    {
     "name": "stderr",
     "output_type": "stream",
     "text": [
      "2022-07-21 13:33:58,742 INFO Welcome to the CDS\n",
      "2022-07-21 13:33:58,742 INFO Sending request to https://cds.climate.copernicus.eu/api/v2/resources/reanalysis-era5-single-levels\n",
      "2022-07-21 13:33:58,800 INFO Welcome to the CDS\n",
      "2022-07-21 13:33:58,800 INFO Sending request to https://cds.climate.copernicus.eu/api/v2/resources/reanalysis-era5-single-levels\n",
      "2022-07-21 13:33:58,883 INFO Welcome to the CDS\n",
      "2022-07-21 13:33:58,883 INFO Sending request to https://cds.climate.copernicus.eu/api/v2/resources/reanalysis-era5-single-levels\n"
     ]
    },
    {
     "name": "stdout",
     "output_type": "stream",
     "text": [
      "2022-07-21 13:33:58.722984 : chargement du fichier 09577X0047_F.nc en cours (c569fdaa-c4d1-4b45-b20b-e2fd7695da51).\n",
      "2022-07-21 13:33:58.782878 : chargement du fichier 09395X0067_F.nc en cours (f3cc5391-435b-4bb2-af33-9d8e60d926f6).\n",
      "2022-07-21 13:33:58.846623 : chargement du fichier 09536X0008_F.nc en cours (06ff1fad-f961-466a-8146-ab8e2f62d9cc).\n",
      "2022-07-21 13:33:58.921650 : chargement du fichier 09301X0028_F.nc en cours (d7ded761-d4f9-497c-9a20-5b6fa27dd43a).\n"
     ]
    },
    {
     "name": "stderr",
     "output_type": "stream",
     "text": [
      "2022-07-21 13:33:58,953 INFO Welcome to the CDS\n",
      "2022-07-21 13:33:58,953 INFO Sending request to https://cds.climate.copernicus.eu/api/v2/resources/reanalysis-era5-single-levels\n",
      "2022-07-21 13:33:59,018 INFO Welcome to the CDS\n",
      "2022-07-21 13:33:59,018 INFO Sending request to https://cds.climate.copernicus.eu/api/v2/resources/reanalysis-era5-single-levels\n",
      "2022-07-21 13:33:59,099 INFO Welcome to the CDS\n",
      "2022-07-21 13:33:59,099 INFO Sending request to https://cds.climate.copernicus.eu/api/v2/resources/reanalysis-era5-single-levels\n",
      "2022-07-21 13:33:59,183 INFO Welcome to the CDS\n"
     ]
    },
    {
     "name": "stdout",
     "output_type": "stream",
     "text": [
      "2022-07-21 13:33:58.986844 : chargement du fichier 10384X0048_F.nc en cours (e0e3b2da-b7b7-4978-879a-9b62c9608873).\n",
      "2022-07-21 13:33:59.067411 : chargement du fichier 10326X0009_F.nc en cours (c446a665-29c9-4f5a-b7e2-fb7d9e7ea246).\n",
      "2022-07-21 13:33:59.143092 : chargement du fichier 09567X0219_F.nc en cours (2328ef1f-94c7-43d5-b3a9-cea485fd61cd).\n"
     ]
    },
    {
     "name": "stderr",
     "output_type": "stream",
     "text": [
      "2022-07-21 13:33:59,183 INFO Sending request to https://cds.climate.copernicus.eu/api/v2/resources/reanalysis-era5-single-levels\n",
      "2022-07-21 13:33:59,261 INFO Welcome to the CDS\n",
      "2022-07-21 13:33:59,262 INFO Sending request to https://cds.climate.copernicus.eu/api/v2/resources/reanalysis-era5-single-levels\n",
      "2022-07-21 13:33:59,333 INFO Welcome to the CDS\n",
      "2022-07-21 13:33:59,333 INFO Sending request to https://cds.climate.copernicus.eu/api/v2/resources/reanalysis-era5-single-levels\n"
     ]
    },
    {
     "name": "stdout",
     "output_type": "stream",
     "text": [
      "2022-07-21 13:33:59.231365 : chargement du fichier 09302X0139_F.nc en cours (b9c5706a-4636-4821-b3a2-635aec36c922).\n",
      "2022-07-21 13:33:59.302407 : chargement du fichier 09833C0249_F.nc en cours (90ab7b97-ff97-43ab-8f5c-9d5213ef94c1).\n",
      "2022-07-21 13:33:59.400042 : chargement du fichier 10402X0059_F.nc en cours (05df7b3d-01ff-47c1-81f0-1511a57ab264).\n"
     ]
    },
    {
     "name": "stderr",
     "output_type": "stream",
     "text": [
      "2022-07-21 13:33:59,432 INFO Welcome to the CDS\n",
      "2022-07-21 13:33:59,432 INFO Sending request to https://cds.climate.copernicus.eu/api/v2/resources/reanalysis-era5-single-levels\n",
      "2022-07-21 13:33:59,515 INFO Welcome to the CDS\n",
      "2022-07-21 13:33:59,515 INFO Sending request to https://cds.climate.copernicus.eu/api/v2/resources/reanalysis-era5-single-levels\n",
      "2022-07-21 13:33:59,584 INFO Welcome to the CDS\n",
      "2022-07-21 13:33:59,584 INFO Sending request to https://cds.climate.copernicus.eu/api/v2/resources/reanalysis-era5-single-levels\n",
      "2022-07-21 13:33:59,655 INFO Welcome to the CDS\n",
      "2022-07-21 13:33:59,655 INFO Sending request to https://cds.climate.copernicus.eu/api/v2/resources/reanalysis-era5-single-levels\n"
     ]
    },
    {
     "name": "stdout",
     "output_type": "stream",
     "text": [
      "2022-07-21 13:33:59.484418 : chargement du fichier 10577X0159_F.nc en cours (44b65358-94cc-442e-9bdb-74b240352770).\n",
      "2022-07-21 13:33:59.558087 : chargement du fichier 10345X0199_F.nc en cours (72d16b42-874a-4029-a37c-f05fb296d03a).\n",
      "2022-07-21 13:33:59.623747 : chargement du fichier 10407X0071_GOLF.nc en cours (7ce72d87-0b40-491d-a9b8-83b4da8d8c9e).\n"
     ]
    },
    {
     "name": "stderr",
     "output_type": "stream",
     "text": [
      "2022-07-21 13:33:59,735 INFO Welcome to the CDS\n",
      "2022-07-21 13:33:59,735 INFO Sending request to https://cds.climate.copernicus.eu/api/v2/resources/reanalysis-era5-single-levels\n",
      "2022-07-21 13:33:59,841 INFO Welcome to the CDS\n",
      "2022-07-21 13:33:59,841 INFO Sending request to https://cds.climate.copernicus.eu/api/v2/resources/reanalysis-era5-single-levels\n"
     ]
    },
    {
     "name": "stdout",
     "output_type": "stream",
     "text": [
      "2022-07-21 13:33:59.704552 : chargement du fichier 10894X0013_RESURG.nc en cours (9a248238-406f-4fa1-b027-d2f715733c8a).\n",
      "2022-07-21 13:33:59.809802 : chargement du fichier 08866X0004_RESURG.nc en cours (691d6d62-2d06-43ce-9505-e56c9887b43a).\n",
      "2022-07-21 13:33:59.885235 : chargement du fichier 10163X0156_SG.nc en cours (b2d36bdf-6a9a-4f09-85cb-350a9074ee05).\n"
     ]
    },
    {
     "name": "stderr",
     "output_type": "stream",
     "text": [
      "2022-07-21 13:33:59,916 INFO Welcome to the CDS\n",
      "2022-07-21 13:33:59,916 INFO Sending request to https://cds.climate.copernicus.eu/api/v2/resources/reanalysis-era5-single-levels\n",
      "2022-07-21 13:34:00,016 INFO Welcome to the CDS\n",
      "2022-07-21 13:34:00,016 INFO Sending request to https://cds.climate.copernicus.eu/api/v2/resources/reanalysis-era5-single-levels\n",
      "2022-07-21 13:34:00,116 INFO Welcome to the CDS\n",
      "2022-07-21 13:34:00,116 INFO Sending request to https://cds.climate.copernicus.eu/api/v2/resources/reanalysis-era5-single-levels\n"
     ]
    },
    {
     "name": "stdout",
     "output_type": "stream",
     "text": [
      "2022-07-21 13:33:59.965527 : chargement du fichier 10154X0075_BELLUG.nc en cours (25a45ecc-dd16-4dce-9508-49c24a9fbe03).\n",
      "2022-07-21 13:34:00.085505 : chargement du fichier 10405X0095_GERMAI.nc en cours (2b0c1a5d-4125-4eb9-ae93-361842fa763c).\n"
     ]
    },
    {
     "name": "stderr",
     "output_type": "stream",
     "text": [
      "2022-07-21 13:34:00,201 INFO Welcome to the CDS\n",
      "2022-07-21 13:34:00,201 INFO Sending request to https://cds.climate.copernicus.eu/api/v2/resources/reanalysis-era5-single-levels\n",
      "2022-07-21 13:34:00,302 INFO Welcome to the CDS\n",
      "2022-07-21 13:34:00,303 INFO Sending request to https://cds.climate.copernicus.eu/api/v2/resources/reanalysis-era5-single-levels\n",
      "2022-07-21 13:34:00,358 INFO Welcome to the CDS\n",
      "2022-07-21 13:34:00,358 INFO Sending request to https://cds.climate.copernicus.eu/api/v2/resources/reanalysis-era5-single-levels\n"
     ]
    },
    {
     "name": "stdout",
     "output_type": "stream",
     "text": [
      "2022-07-21 13:34:00.185849 : chargement du fichier 09394X0003_FONTAI.nc en cours (7067cb41-7879-4a6f-8349-63bccaa9a45e).\n",
      "2022-07-21 13:34:00.265624 : chargement du fichier 09384X0014_GAEI.nc en cours (8880325d-8645-43fa-a477-8502e591c5a4).\n",
      "2022-07-21 13:34:00.342245 : chargement du fichier 09898X0017_PESQUI.nc en cours (e4da6ab7-bac3-4f60-9cf4-70d4e567df48).\n"
     ]
    },
    {
     "name": "stderr",
     "output_type": "stream",
     "text": [
      "2022-07-21 13:34:00,542 INFO Welcome to the CDS\n",
      "2022-07-21 13:34:00,542 INFO Sending request to https://cds.climate.copernicus.eu/api/v2/resources/reanalysis-era5-single-levels\n",
      "2022-07-21 13:34:00,592 INFO Welcome to the CDS\n"
     ]
    },
    {
     "name": "stdout",
     "output_type": "stream",
     "text": [
      "2022-07-21 13:34:00.405603 : chargement du fichier 09128X0053_CAL.nc en cours (2feaf093-ea62-4c34-bab0-c886baa44e6d).\n",
      "2022-07-21 13:34:00.574137 : chargement du fichier 08622X0027_GAL.nc en cours (55fdb396-6240-402c-84be-4b155b6527c9).\n"
     ]
    },
    {
     "name": "stderr",
     "output_type": "stream",
     "text": [
      "2022-07-21 13:34:00,592 INFO Sending request to https://cds.climate.copernicus.eu/api/v2/resources/reanalysis-era5-single-levels\n",
      "2022-07-21 13:34:00,673 INFO Welcome to the CDS\n",
      "2022-07-21 13:34:00,673 INFO Sending request to https://cds.climate.copernicus.eu/api/v2/resources/reanalysis-era5-single-levels\n",
      "2022-07-21 13:34:00,727 INFO Welcome to the CDS\n",
      "2022-07-21 13:34:00,742 INFO Sending request to https://cds.climate.copernicus.eu/api/v2/resources/reanalysis-era5-single-levels\n"
     ]
    },
    {
     "name": "stdout",
     "output_type": "stream",
     "text": [
      "2022-07-21 13:34:00.640217 : chargement du fichier 09905X0064_CMBSAL.nc en cours (464f5783-7d40-4081-8d59-6cd6eb31c1d6).\n",
      "2022-07-21 13:34:00.711528 : chargement du fichier 10764X0043_OUSTAL.nc en cours (ba9987b8-11ba-4cb6-96ad-b0731b111dfe).\n"
     ]
    },
    {
     "name": "stderr",
     "output_type": "stream",
     "text": [
      "2022-07-21 13:34:00,874 INFO Welcome to the CDS\n",
      "2022-07-21 13:34:00,874 INFO Sending request to https://cds.climate.copernicus.eu/api/v2/resources/reanalysis-era5-single-levels\n",
      "2022-07-21 13:34:00,953 INFO Welcome to the CDS\n",
      "2022-07-21 13:34:00,953 INFO Sending request to https://cds.climate.copernicus.eu/api/v2/resources/reanalysis-era5-single-levels\n",
      "2022-07-21 13:34:01,018 INFO Welcome to the CDS\n",
      "2022-07-21 13:34:01,018 INFO Sending request to https://cds.climate.copernicus.eu/api/v2/resources/reanalysis-era5-single-levels\n"
     ]
    },
    {
     "name": "stdout",
     "output_type": "stream",
     "text": [
      "2022-07-21 13:34:00.845785 : chargement du fichier 10903X0034_PZSTGL.nc en cours (8aa86459-2026-44e2-abaf-3028409f0a5d).\n",
      "2022-07-21 13:34:00.919627 : chargement du fichier 09656X0175_RODIL.nc en cours (5b89b996-2461-4787-a671-6226e264c035).\n",
      "2022-07-21 13:34:00.986869 : chargement du fichier 10116X0237_TREVIL.nc en cours (94d7eceb-76b5-48a9-809c-1fc386e33cf4).\n"
     ]
    },
    {
     "name": "stderr",
     "output_type": "stream",
     "text": [
      "2022-07-21 13:34:01,073 INFO Welcome to the CDS\n",
      "2022-07-21 13:34:01,073 INFO Sending request to https://cds.climate.copernicus.eu/api/v2/resources/reanalysis-era5-single-levels\n",
      "2022-07-21 13:34:01,165 INFO Welcome to the CDS\n",
      "2022-07-21 13:34:01,165 INFO Sending request to https://cds.climate.copernicus.eu/api/v2/resources/reanalysis-era5-single-levels\n",
      "2022-07-21 13:34:01,238 INFO Welcome to the CDS\n"
     ]
    },
    {
     "name": "stdout",
     "output_type": "stream",
     "text": [
      "2022-07-21 13:34:01.056587 : chargement du fichier 09398X0028_VALL.nc en cours (c3531de1-e67f-479a-85c8-07c419ec3740).\n",
      "2022-07-21 13:34:01.118477 : chargement du fichier 10406X0077_ASL.nc en cours (0d582f01-ae36-47bd-bfe0-45686b22897d).\n",
      "2022-07-21 13:34:01.206162 : chargement du fichier 10904X0105_ROBOUL.nc en cours (5b6cd4db-9477-408e-b3a2-ed653b3fe0b6).\n"
     ]
    },
    {
     "name": "stderr",
     "output_type": "stream",
     "text": [
      "2022-07-21 13:34:01,238 INFO Sending request to https://cds.climate.copernicus.eu/api/v2/resources/reanalysis-era5-single-levels\n",
      "2022-07-21 13:34:01,303 INFO Welcome to the CDS\n",
      "2022-07-21 13:34:01,318 INFO Sending request to https://cds.climate.copernicus.eu/api/v2/resources/reanalysis-era5-single-levels\n",
      "2022-07-21 13:34:01,392 INFO Welcome to the CDS\n",
      "2022-07-21 13:34:01,393 INFO Sending request to https://cds.climate.copernicus.eu/api/v2/resources/reanalysis-era5-single-levels\n",
      "2022-07-21 13:34:01,461 INFO Welcome to the CDS\n",
      "2022-07-21 13:34:01,461 INFO Sending request to https://cds.climate.copernicus.eu/api/v2/resources/reanalysis-era5-single-levels\n"
     ]
    },
    {
     "name": "stdout",
     "output_type": "stream",
     "text": [
      "2022-07-21 13:34:01.287660 : chargement du fichier 09125X0083_HBCM.nc en cours (0a88ef78-e103-41be-8f27-168021f04ed6).\n",
      "2022-07-21 13:34:01.358660 : chargement du fichier 09917X0192_P5CEHM.nc en cours (12ba8428-90f3-4818-935a-7cf9b7588944).\n",
      "2022-07-21 13:34:01.428623 : chargement du fichier 09888X0111_LACAN.nc en cours (8cb3408c-2f63-4ed2-8b95-fdc55a39bb98).\n",
      "2022-07-21 13:34:01.487889 : chargement du fichier 10601X0027_COUMAN.nc en cours (86f92d27-71f4-4903-afa9-598b1ba851bf).\n"
     ]
    },
    {
     "name": "stderr",
     "output_type": "stream",
     "text": [
      "2022-07-21 13:34:01,519 INFO Welcome to the CDS\n",
      "2022-07-21 13:34:01,519 INFO Sending request to https://cds.climate.copernicus.eu/api/v2/resources/reanalysis-era5-single-levels\n",
      "2022-07-21 13:34:01,635 INFO Welcome to the CDS\n",
      "2022-07-21 13:34:01,635 INFO Sending request to https://cds.climate.copernicus.eu/api/v2/resources/reanalysis-era5-single-levels\n",
      "2022-07-21 13:34:01,703 INFO Welcome to the CDS\n",
      "2022-07-21 13:34:01,703 INFO Sending request to https://cds.climate.copernicus.eu/api/v2/resources/reanalysis-era5-single-levels\n"
     ]
    },
    {
     "name": "stdout",
     "output_type": "stream",
     "text": [
      "2022-07-21 13:34:01.603639 : chargement du fichier 09635X0009_FONTAN.nc en cours (eb623c81-5c42-4f82-aa75-b2b8ba3bcdbe).\n",
      "2022-07-21 13:34:01.679522 : chargement du fichier 10388X0017_STALIN.nc en cours (d49ddcb5-b3a6-4d7f-90df-1ec1c0d3658f).\n",
      "2022-07-21 13:34:01.788373 : chargement du fichier 09921X0055_CAMBON.nc en cours (ee040351-18b8-43bf-b1b6-a739e7af08ad).\n"
     ]
    },
    {
     "name": "stderr",
     "output_type": "stream",
     "text": [
      "2022-07-21 13:34:01,835 INFO Welcome to the CDS\n",
      "2022-07-21 13:34:01,835 INFO Sending request to https://cds.climate.copernicus.eu/api/v2/resources/reanalysis-era5-single-levels\n",
      "2022-07-21 13:34:01,905 INFO Welcome to the CDS\n",
      "2022-07-21 13:34:01,907 INFO Sending request to https://cds.climate.copernicus.eu/api/v2/resources/reanalysis-era5-single-levels\n",
      "2022-07-21 13:34:01,959 INFO Welcome to the CDS\n",
      "2022-07-21 13:34:01,975 INFO Sending request to https://cds.climate.copernicus.eu/api/v2/resources/reanalysis-era5-single-levels\n",
      "2022-07-21 13:34:02,058 INFO Welcome to the CDS\n"
     ]
    },
    {
     "name": "stdout",
     "output_type": "stream",
     "text": [
      "2022-07-21 13:34:01.871377 : chargement du fichier 09388X0114_MAISON.nc en cours (acfe2e51-9ae1-4e7a-819b-3fd50c0e5520).\n",
      "2022-07-21 13:34:01.943914 : chargement du fichier 09912X0254_BRUN.nc en cours (ea8bfe01-d60d-422f-a376-763f892a6a68).\n",
      "2022-07-21 13:34:02.011856 : chargement du fichier 10782X0008_COUMBO.nc en cours (3487ce87-4cf2-4d2e-a842-fd05b61e6c3a).\n"
     ]
    },
    {
     "name": "stderr",
     "output_type": "stream",
     "text": [
      "2022-07-21 13:34:02,058 INFO Sending request to https://cds.climate.copernicus.eu/api/v2/resources/reanalysis-era5-single-levels\n",
      "2022-07-21 13:34:02,120 INFO Welcome to the CDS\n",
      "2022-07-21 13:34:02,120 INFO Sending request to https://cds.climate.copernicus.eu/api/v2/resources/reanalysis-era5-single-levels\n",
      "2022-07-21 13:34:02,188 INFO Welcome to the CDS\n",
      "2022-07-21 13:34:02,188 INFO Sending request to https://cds.climate.copernicus.eu/api/v2/resources/reanalysis-era5-single-levels\n",
      "2022-07-21 13:34:02,275 INFO Welcome to the CDS\n"
     ]
    },
    {
     "name": "stdout",
     "output_type": "stream",
     "text": [
      "2022-07-21 13:34:02.088892 : chargement du fichier 08627X0010_SO.nc en cours (a796e79a-fef0-473c-8f41-bfb7c42b9e68).\n",
      "2022-07-21 13:34:02.156896 : chargement du fichier 09625X0234_SO.nc en cours (a6fdc422-b3f7-4f2e-9d3f-5bfc8d703428).\n",
      "2022-07-21 13:34:02.243999 : chargement du fichier 10904X0104_PIEZO.nc en cours (49cf7ff4-f30d-4c59-a72a-c8ef682ed04b).\n"
     ]
    },
    {
     "name": "stderr",
     "output_type": "stream",
     "text": [
      "2022-07-21 13:34:02,275 INFO Sending request to https://cds.climate.copernicus.eu/api/v2/resources/reanalysis-era5-single-levels\n",
      "2022-07-21 13:34:02,324 INFO Welcome to the CDS\n",
      "2022-07-21 13:34:02,324 INFO Sending request to https://cds.climate.copernicus.eu/api/v2/resources/reanalysis-era5-single-levels\n",
      "2022-07-21 13:34:02,438 INFO Welcome to the CDS\n",
      "2022-07-21 13:34:02,439 INFO Sending request to https://cds.climate.copernicus.eu/api/v2/resources/reanalysis-era5-single-levels\n"
     ]
    },
    {
     "name": "stdout",
     "output_type": "stream",
     "text": [
      "2022-07-21 13:34:02.308445 : chargement du fichier 09392X0045_PIEZO.nc en cours (1b37a50a-6f40-4b96-98d5-dbe14fdfc27f).\n",
      "2022-07-21 13:34:02.410841 : chargement du fichier 09911X0303_BRES-P.nc en cours (85b230cb-1270-4c6b-ad54-59bc6a72a607).\n",
      "2022-07-21 13:34:02.489565 : chargement du fichier 09655X0107_P.nc en cours (7b3bc391-11b5-4d3d-bcc6-65d70481773e).\n"
     ]
    },
    {
     "name": "stderr",
     "output_type": "stream",
     "text": [
      "2022-07-21 13:34:02,521 INFO Welcome to the CDS\n",
      "2022-07-21 13:34:02,521 INFO Sending request to https://cds.climate.copernicus.eu/api/v2/resources/reanalysis-era5-single-levels\n",
      "2022-07-21 13:34:02,589 INFO Welcome to the CDS\n",
      "2022-07-21 13:34:02,589 INFO Sending request to https://cds.climate.copernicus.eu/api/v2/resources/reanalysis-era5-single-levels\n",
      "2022-07-21 13:34:02,666 INFO Welcome to the CDS\n",
      "2022-07-21 13:34:02,667 INFO Sending request to https://cds.climate.copernicus.eu/api/v2/resources/reanalysis-era5-single-levels\n",
      "2022-07-21 13:34:02,736 INFO Welcome to the CDS\n",
      "2022-07-21 13:34:02,736 INFO Sending request to https://cds.climate.copernicus.eu/api/v2/resources/reanalysis-era5-single-levels\n"
     ]
    },
    {
     "name": "stdout",
     "output_type": "stream",
     "text": [
      "2022-07-21 13:34:02.555651 : chargement du fichier 10592X0012_AEP.nc en cours (54f15bb3-fa46-4e11-9445-966455a5fcea).\n",
      "2022-07-21 13:34:02.637430 : chargement du fichier 10971X0198_LAFAR.nc en cours (5034c9fb-2b54-496d-86bc-88d9f423febb).\n",
      "2022-07-21 13:34:02.705568 : chargement du fichier 09916X0098_LANSAR.nc en cours (331dab79-aba8-4c60-ba78-5a36b8c96261).\n"
     ]
    },
    {
     "name": "stderr",
     "output_type": "stream",
     "text": [
      "2022-07-21 13:34:02,805 INFO Welcome to the CDS\n",
      "2022-07-21 13:34:02,805 INFO Sending request to https://cds.climate.copernicus.eu/api/v2/resources/reanalysis-era5-single-levels\n",
      "2022-07-21 13:34:02,870 INFO Welcome to the CDS\n",
      "2022-07-21 13:34:02,870 INFO Sending request to https://cds.climate.copernicus.eu/api/v2/resources/reanalysis-era5-single-levels\n",
      "2022-07-21 13:34:02,942 INFO Welcome to the CDS\n",
      "2022-07-21 13:34:02,944 INFO Sending request to https://cds.climate.copernicus.eu/api/v2/resources/reanalysis-era5-single-levels\n"
     ]
    },
    {
     "name": "stdout",
     "output_type": "stream",
     "text": [
      "2022-07-21 13:34:02.789973 : chargement du fichier 10908X0263_FIGUER.nc en cours (e487c18b-1c61-4713-9807-18d8d5721e7b).\n",
      "2022-07-21 13:34:02.852785 : chargement du fichier 09654X0575_MONTFR.nc en cours (e2370abe-74f5-4820-96ae-f9f98746e608).\n",
      "2022-07-21 13:34:02.911462 : chargement du fichier BSS002PTEJ_MONTFR.nc en cours (4f9f21e7-483a-4281-b6d0-a1fc035c4514).\n",
      "2022-07-21 13:34:02.985902 : chargement du fichier 09378X0080_SOEUR.nc en cours (68877b67-fe03-461d-a028-37ee37bb2308).\n"
     ]
    },
    {
     "name": "stderr",
     "output_type": "stream",
     "text": [
      "2022-07-21 13:34:03,008 INFO Welcome to the CDS\n",
      "2022-07-21 13:34:03,008 INFO Sending request to https://cds.climate.copernicus.eu/api/v2/resources/reanalysis-era5-single-levels\n",
      "2022-07-21 13:34:03,074 INFO Welcome to the CDS\n",
      "2022-07-21 13:34:03,075 INFO Sending request to https://cds.climate.copernicus.eu/api/v2/resources/reanalysis-era5-single-levels\n",
      "2022-07-21 13:34:03,125 INFO Welcome to the CDS\n",
      "2022-07-21 13:34:03,125 INFO Sending request to https://cds.climate.copernicus.eu/api/v2/resources/reanalysis-era5-single-levels\n",
      "2022-07-21 13:34:03,196 INFO Welcome to the CDS\n",
      "2022-07-21 13:34:03,197 INFO Sending request to https://cds.climate.copernicus.eu/api/v2/resources/reanalysis-era5-single-levels\n"
     ]
    },
    {
     "name": "stdout",
     "output_type": "stream",
     "text": [
      "2022-07-21 13:34:03.047278 : chargement du fichier 10402X0046_BOUR.nc en cours (38798cac-ef41-4553-9fac-5009e7cbccb6).\n",
      "2022-07-21 13:34:03.106842 : chargement du fichier 09911X0302_BRES-S.nc en cours (362fe4f1-e801-4bab-b720-4088685a4a2e).\n",
      "2022-07-21 13:34:03.168343 : chargement du fichier 10138X0010_S.nc en cours (992d4f71-26e9-4a57-8009-791a09430343).\n"
     ]
    },
    {
     "name": "stderr",
     "output_type": "stream",
     "text": [
      "2022-07-21 13:34:03,283 INFO Welcome to the CDS\n",
      "2022-07-21 13:34:03,284 INFO Sending request to https://cds.climate.copernicus.eu/api/v2/resources/reanalysis-era5-single-levels\n",
      "2022-07-21 13:34:03,349 INFO Welcome to the CDS\n",
      "2022-07-21 13:34:03,352 INFO Sending request to https://cds.climate.copernicus.eu/api/v2/resources/reanalysis-era5-single-levels\n"
     ]
    },
    {
     "name": "stdout",
     "output_type": "stream",
     "text": [
      "2022-07-21 13:34:03.254817 : chargement du fichier 10364X0001_S.nc en cours (1bd0b5e7-a81d-4406-b360-5d24c0d91dfe).\n",
      "2022-07-21 13:34:03.321708 : chargement du fichier 10795X0001_S.nc en cours (76b241d0-61b3-4d0e-a75e-984ae7bba6a7).\n",
      "2022-07-21 13:34:03.463988 : chargement du fichier 10402X0012_S.nc en cours (caa6b738-3706-4e14-a129-13798073029b).\n"
     ]
    },
    {
     "name": "stderr",
     "output_type": "stream",
     "text": [
      "2022-07-21 13:34:03,492 INFO Welcome to the CDS\n",
      "2022-07-21 13:34:03,493 INFO Sending request to https://cds.climate.copernicus.eu/api/v2/resources/reanalysis-era5-single-levels\n",
      "2022-07-21 13:34:03,570 INFO Welcome to the CDS\n",
      "2022-07-21 13:34:03,570 INFO Sending request to https://cds.climate.copernicus.eu/api/v2/resources/reanalysis-era5-single-levels\n",
      "2022-07-21 13:34:03,624 INFO Welcome to the CDS\n",
      "2022-07-21 13:34:03,624 INFO Sending request to https://cds.climate.copernicus.eu/api/v2/resources/reanalysis-era5-single-levels\n",
      "2022-07-21 13:34:03,696 INFO Welcome to the CDS\n",
      "2022-07-21 13:34:03,697 INFO Sending request to https://cds.climate.copernicus.eu/api/v2/resources/reanalysis-era5-single-levels\n"
     ]
    },
    {
     "name": "stdout",
     "output_type": "stream",
     "text": [
      "2022-07-21 13:34:03.539931 : chargement du fichier 10402X0044_S.nc en cours (9a0bc5cd-6433-45a3-ad0d-c7bd9d1b1501).\n",
      "2022-07-21 13:34:03.593160 : chargement du fichier 09894X0005_S.nc en cours (e012bc31-47d8-435a-85b7-0935425973b2).\n",
      "2022-07-21 13:34:03.663836 : chargement du fichier 08854X0015_S.nc en cours (506f62b1-ecc7-4593-80a4-2285a4811134).\n",
      "2022-07-21 13:34:03.734073 : chargement du fichier 10403X0115_S.nc en cours (480faf4f-8fe2-4f87-8f86-dbfb534d9fd6).\n"
     ]
    },
    {
     "name": "stderr",
     "output_type": "stream",
     "text": [
      "2022-07-21 13:34:03,766 INFO Welcome to the CDS\n",
      "2022-07-21 13:34:03,767 INFO Sending request to https://cds.climate.copernicus.eu/api/v2/resources/reanalysis-era5-single-levels\n",
      "2022-07-21 13:34:03,861 INFO Welcome to the CDS\n",
      "2022-07-21 13:34:03,861 INFO Sending request to https://cds.climate.copernicus.eu/api/v2/resources/reanalysis-era5-single-levels\n",
      "2022-07-21 13:34:03,935 INFO Welcome to the CDS\n",
      "2022-07-21 13:34:03,936 INFO Sending request to https://cds.climate.copernicus.eu/api/v2/resources/reanalysis-era5-single-levels\n",
      "2022-07-21 13:34:04,000 INFO Welcome to the CDS\n",
      "2022-07-21 13:34:04,001 INFO Sending request to https://cds.climate.copernicus.eu/api/v2/resources/reanalysis-era5-single-levels\n"
     ]
    },
    {
     "name": "stdout",
     "output_type": "stream",
     "text": [
      "2022-07-21 13:34:03.832906 : chargement du fichier 10401X0097_S.nc en cours (b7a1dbf0-cb0a-4189-b25e-e37a4d1a4c70).\n",
      "2022-07-21 13:34:03.906352 : chargement du fichier 09651X0009_S.nc en cours (d717cc4a-9286-4f74-a940-597763909517).\n",
      "2022-07-21 13:34:03.971630 : chargement du fichier 10405X0039_S.nc en cours (28dfbac5-b444-48b0-93c1-efd91be0f6b8).\n",
      "2022-07-21 13:34:04.034620 : chargement du fichier 08854X0040_FREBAS.nc en cours (50143dc4-e8a7-4665-8b64-0f24722ea912).\n"
     ]
    },
    {
     "name": "stderr",
     "output_type": "stream",
     "text": [
      "2022-07-21 13:34:04,063 INFO Welcome to the CDS\n",
      "2022-07-21 13:34:04,063 INFO Sending request to https://cds.climate.copernicus.eu/api/v2/resources/reanalysis-era5-single-levels\n",
      "2022-07-21 13:34:04,127 INFO Welcome to the CDS\n",
      "2022-07-21 13:34:04,128 INFO Sending request to https://cds.climate.copernicus.eu/api/v2/resources/reanalysis-era5-single-levels\n",
      "2022-07-21 13:34:04,211 INFO Welcome to the CDS\n",
      "2022-07-21 13:34:04,212 INFO Sending request to https://cds.climate.copernicus.eu/api/v2/resources/reanalysis-era5-single-levels\n"
     ]
    },
    {
     "name": "stdout",
     "output_type": "stream",
     "text": [
      "2022-07-21 13:34:04.097257 : chargement du fichier 09888X0094_JONCAS.nc en cours (d6303bfb-5e6d-4de1-92dd-73df295fe2b2).\n",
      "2022-07-21 13:34:04.183165 : chargement du fichier 10405X0171_VALRAS.nc en cours (f7000cdf-4a94-4e03-8892-2d13e5ea0339).\n",
      "2022-07-21 13:34:04.300984 : chargement du fichier 09628X0043_BUEGES.nc en cours (074f5bf6-47c3-485b-a021-180b433d0673).\n"
     ]
    },
    {
     "name": "stderr",
     "output_type": "stream",
     "text": [
      "2022-07-21 13:34:04,336 INFO Welcome to the CDS\n",
      "2022-07-21 13:34:04,337 INFO Sending request to https://cds.climate.copernicus.eu/api/v2/resources/reanalysis-era5-single-levels\n",
      "2022-07-21 13:34:04,518 INFO Welcome to the CDS\n",
      "2022-07-21 13:34:04,520 INFO Sending request to https://cds.climate.copernicus.eu/api/v2/resources/reanalysis-era5-single-levels\n",
      "2022-07-21 13:34:04,575 INFO Welcome to the CDS\n"
     ]
    },
    {
     "name": "stdout",
     "output_type": "stream",
     "text": [
      "2022-07-21 13:34:04.382243 : chargement du fichier 09915X0181_AUNES.nc en cours (d62dfafe-04aa-4d6a-9fb1-4d363073512a).\n",
      "2022-07-21 13:34:04.559750 : chargement du fichier 09888X0093_DOUZES.nc en cours (91dbf114-a775-4178-ab05-cb16aa4ff613).\n"
     ]
    },
    {
     "name": "stderr",
     "output_type": "stream",
     "text": [
      "2022-07-21 13:34:04,575 INFO Sending request to https://cds.climate.copernicus.eu/api/v2/resources/reanalysis-era5-single-levels\n",
      "2022-07-21 13:34:04,685 INFO Welcome to the CDS\n",
      "2022-07-21 13:34:04,685 INFO Sending request to https://cds.climate.copernicus.eu/api/v2/resources/reanalysis-era5-single-levels\n",
      "2022-07-21 13:34:04,782 INFO Welcome to the CDS\n",
      "2022-07-21 13:34:04,782 INFO Sending request to https://cds.climate.copernicus.eu/api/v2/resources/reanalysis-era5-single-levels\n"
     ]
    },
    {
     "name": "stdout",
     "output_type": "stream",
     "text": [
      "2022-07-21 13:34:04.654245 : chargement du fichier 09911X0317_P3BIS.nc en cours (1d221c61-75f7-4587-888a-3e4918214dfc).\n",
      "2022-07-21 13:34:04.751510 : chargement du fichier 09375X0010_ISIS.nc en cours (f1382735-f1ba-4114-8905-063f8b415ca2).\n",
      "2022-07-21 13:34:04.820106 : chargement du fichier 09655X0265_CLOS.nc en cours (419ebd46-7539-4541-8248-8cf0686daa22).\n"
     ]
    },
    {
     "name": "stderr",
     "output_type": "stream",
     "text": [
      "2022-07-21 13:34:04,851 INFO Welcome to the CDS\n",
      "2022-07-21 13:34:04,851 INFO Sending request to https://cds.climate.copernicus.eu/api/v2/resources/reanalysis-era5-single-levels\n",
      "2022-07-21 13:34:04,913 INFO Welcome to the CDS\n",
      "2022-07-21 13:34:04,913 INFO Sending request to https://cds.climate.copernicus.eu/api/v2/resources/reanalysis-era5-single-levels\n",
      "2022-07-21 13:34:04,994 INFO Welcome to the CDS\n",
      "2022-07-21 13:34:04,994 INFO Sending request to https://cds.climate.copernicus.eu/api/v2/resources/reanalysis-era5-single-levels\n",
      "2022-07-21 13:34:05,078 INFO Welcome to the CDS\n",
      "2022-07-21 13:34:05,079 INFO Sending request to https://cds.climate.copernicus.eu/api/v2/resources/reanalysis-era5-single-levels\n"
     ]
    },
    {
     "name": "stdout",
     "output_type": "stream",
     "text": [
      "2022-07-21 13:34:04.897188 : chargement du fichier 09906X0149_TOUAT.nc en cours (edcc7c4e-7761-43d1-bfd3-9117322d510c).\n",
      "2022-07-21 13:34:04.958881 : chargement du fichier 09914X0284_FAGET.nc en cours (b0bc18fb-e73f-4f41-a260-f48df0946beb).\n",
      "2022-07-21 13:34:05.044342 : chargement du fichier 09634X0074_CLARET.nc en cours (a8ebfab0-c228-46e1-ac20-355b1e322600).\n",
      "2022-07-21 13:34:05.109288 : chargement du fichier 10776X0024_LAUZET.nc en cours (ac806b15-c677-4ad2-a7ce-6e91b71f52e9).\n"
     ]
    },
    {
     "name": "stderr",
     "output_type": "stream",
     "text": [
      "2022-07-21 13:34:05,124 INFO Welcome to the CDS\n",
      "2022-07-21 13:34:05,124 INFO Sending request to https://cds.climate.copernicus.eu/api/v2/resources/reanalysis-era5-single-levels\n",
      "2022-07-21 13:34:05,194 INFO Welcome to the CDS\n",
      "2022-07-21 13:34:05,194 INFO Sending request to https://cds.climate.copernicus.eu/api/v2/resources/reanalysis-era5-single-levels\n",
      "2022-07-21 13:34:05,275 INFO Welcome to the CDS\n",
      "2022-07-21 13:34:05,275 INFO Sending request to https://cds.climate.copernicus.eu/api/v2/resources/reanalysis-era5-single-levels\n",
      "2022-07-21 13:34:05,348 INFO Welcome to the CDS\n"
     ]
    },
    {
     "name": "stdout",
     "output_type": "stream",
     "text": [
      "2022-07-21 13:34:05.172611 : chargement du fichier 10972X0137_PONT.nc en cours (ca2f6a73-2424-43da-8a80-5458f652fed4).\n",
      "2022-07-21 13:34:05.243749 : chargement du fichier 09388X0052_VIGNOT.nc en cours (53e7a641-ac98-4031-a91b-f5ba45071d9f).\n",
      "2022-07-21 13:34:05.316770 : chargement du fichier 10154X0076_MAMERT.nc en cours (f94b4eb7-bd48-4adf-93c8-50a7b834a772).\n"
     ]
    },
    {
     "name": "stderr",
     "output_type": "stream",
     "text": [
      "2022-07-21 13:34:05,348 INFO Sending request to https://cds.climate.copernicus.eu/api/v2/resources/reanalysis-era5-single-levels\n",
      "2022-07-21 13:34:05,410 INFO Welcome to the CDS\n",
      "2022-07-21 13:34:05,410 INFO Sending request to https://cds.climate.copernicus.eu/api/v2/resources/reanalysis-era5-single-levels\n",
      "2022-07-21 13:34:05,486 INFO Welcome to the CDS\n",
      "2022-07-21 13:34:05,487 INFO Sending request to https://cds.climate.copernicus.eu/api/v2/resources/reanalysis-era5-single-levels\n",
      "2022-07-21 13:34:05,559 INFO Welcome to the CDS\n",
      "2022-07-21 13:34:05,559 INFO Sending request to https://cds.climate.copernicus.eu/api/v2/resources/reanalysis-era5-single-levels\n"
     ]
    },
    {
     "name": "stdout",
     "output_type": "stream",
     "text": [
      "2022-07-21 13:34:05.380210 : chargement du fichier 09876X0212_PORT.nc en cours (145f0222-9d0e-42ee-9382-14d02bb23215).\n",
      "2022-07-21 13:34:05.444654 : chargement du fichier 10976X0058_RIMBAU.nc en cours (83be31c3-1393-40cb-a07d-fb99def1ed8b).\n",
      "2022-07-21 13:34:05.532418 : chargement du fichier 09882X0208_FONCAU.nc en cours (348000ea-9bf6-4c27-ab1c-bb227aaa0aba).\n"
     ]
    },
    {
     "name": "stderr",
     "output_type": "stream",
     "text": [
      "2022-07-21 13:34:05,611 INFO Welcome to the CDS\n",
      "2022-07-21 13:34:05,611 INFO Sending request to https://cds.climate.copernicus.eu/api/v2/resources/reanalysis-era5-single-levels\n",
      "2022-07-21 13:34:05,674 INFO Welcome to the CDS\n",
      "2022-07-21 13:34:05,674 INFO Sending request to https://cds.climate.copernicus.eu/api/v2/resources/reanalysis-era5-single-levels\n",
      "2022-07-21 13:34:05,751 INFO Welcome to the CDS\n",
      "2022-07-21 13:34:05,751 INFO Sending request to https://cds.climate.copernicus.eu/api/v2/resources/reanalysis-era5-single-levels\n"
     ]
    },
    {
     "name": "stdout",
     "output_type": "stream",
     "text": [
      "2022-07-21 13:34:05.593299 : chargement du fichier 09908X0174_MASJAU.nc en cours (8c140dd6-f2a8-4e50-9a8c-3c3be8481160).\n",
      "2022-07-21 13:34:05.653482 : chargement du fichier 10963X0059_MEDALU.nc en cours (85d95462-ba40-4a73-b551-c7e8efeff4df).\n",
      "2022-07-21 13:34:05.720742 : chargement du fichier 09892X0698_RVERNU.nc en cours (454ed0e7-8636-4424-9871-ba83f2dc4833).\n",
      "2022-07-21 13:34:05.795530 : chargement du fichier 09645X0025_PEILOU.nc en cours (ce090eca-fa3c-4ba6-b6e1-e59eefbf76b1).\n"
     ]
    },
    {
     "name": "stderr",
     "output_type": "stream",
     "text": [
      "2022-07-21 13:34:05,826 INFO Welcome to the CDS\n",
      "2022-07-21 13:34:05,826 INFO Sending request to https://cds.climate.copernicus.eu/api/v2/resources/reanalysis-era5-single-levels\n",
      "2022-07-21 13:34:05,895 INFO Welcome to the CDS\n",
      "2022-07-21 13:34:05,904 INFO Sending request to https://cds.climate.copernicus.eu/api/v2/resources/reanalysis-era5-single-levels\n",
      "2022-07-21 13:34:05,963 INFO Welcome to the CDS\n",
      "2022-07-21 13:34:05,964 INFO Sending request to https://cds.climate.copernicus.eu/api/v2/resources/reanalysis-era5-single-levels\n",
      "2022-07-21 13:34:06,024 INFO Welcome to the CDS\n",
      "2022-07-21 13:34:06,025 INFO Sending request to https://cds.climate.copernicus.eu/api/v2/resources/reanalysis-era5-single-levels\n"
     ]
    },
    {
     "name": "stdout",
     "output_type": "stream",
     "text": [
      "2022-07-21 13:34:05.877094 : chargement du fichier 10405X0135_GUITOU.nc en cours (d3a869d3-4f12-40d4-ad7c-d447ecd8cad6).\n",
      "2022-07-21 13:34:05.936321 : chargement du fichier 10162X0226_V.nc en cours (1bac6229-17e8-46fe-9388-5bec4ea2d1bb).\n",
      "2022-07-21 13:34:05.997282 : chargement du fichier BSS003PAFM_X.nc en cours (66bac16f-ad5e-456c-a49f-ad041ca71245).\n",
      "2022-07-21 13:34:06.067362 : chargement du fichier BSS003PAFQ_X.nc en cours (d7a5cdfc-7432-4378-a850-38a990c3450b).\n"
     ]
    },
    {
     "name": "stderr",
     "output_type": "stream",
     "text": [
      "2022-07-21 13:34:06,091 INFO Welcome to the CDS\n",
      "2022-07-21 13:34:06,096 INFO Sending request to https://cds.climate.copernicus.eu/api/v2/resources/reanalysis-era5-single-levels\n",
      "2022-07-21 13:34:06,175 INFO Welcome to the CDS\n",
      "2022-07-21 13:34:06,176 INFO Sending request to https://cds.climate.copernicus.eu/api/v2/resources/reanalysis-era5-single-levels\n",
      "2022-07-21 13:34:06,283 INFO Welcome to the CDS\n",
      "2022-07-21 13:34:06,284 INFO Sending request to https://cds.climate.copernicus.eu/api/v2/resources/reanalysis-era5-single-levels\n"
     ]
    },
    {
     "name": "stdout",
     "output_type": "stream",
     "text": [
      "2022-07-21 13:34:06.136964 : chargement du fichier 10882X0215_ADOUX.nc en cours (0fbe163b-302a-4522-970b-ba4bdf9f839f).\n",
      "2022-07-21 13:34:06.254614 : chargement du fichier 09625X0231_LADOUX.nc en cours (24fe87a3-85d3-49f4-837e-8ce4fbd41b88).\n",
      "2022-07-21 13:34:06.316984 : chargement du fichier 09126X0275_RABY.nc en cours (4a2ab5bd-d692-4ed0-b773-9d7f34422098).\n"
     ]
    },
    {
     "name": "stderr",
     "output_type": "stream",
     "text": [
      "2022-07-21 13:34:06,345 INFO Welcome to the CDS\n",
      "2022-07-21 13:34:06,346 INFO Sending request to https://cds.climate.copernicus.eu/api/v2/resources/reanalysis-era5-single-levels\n",
      "2022-07-21 13:34:06,411 INFO Welcome to the CDS\n",
      "2022-07-21 13:34:06,411 INFO Sending request to https://cds.climate.copernicus.eu/api/v2/resources/reanalysis-era5-single-levels\n",
      "2022-07-21 13:34:06,472 INFO Welcome to the CDS\n",
      "2022-07-21 13:34:06,473 INFO Sending request to https://cds.climate.copernicus.eu/api/v2/resources/reanalysis-era5-single-levels\n",
      "2022-07-21 13:34:06,534 INFO Welcome to the CDS\n",
      "2022-07-21 13:34:06,534 INFO Sending request to https://cds.climate.copernicus.eu/api/v2/resources/reanalysis-era5-single-levels\n"
     ]
    },
    {
     "name": "stdout",
     "output_type": "stream",
     "text": [
      "2022-07-21 13:34:06.383898 : chargement du fichier 08576X0022_HY.nc en cours (f8d9c845-f14f-4581-b019-8317ef8efcc4).\n",
      "2022-07-21 13:34:06.444614 : chargement du fichier 08577X0029_HY.nc en cours (bf1e711b-7018-4e40-b203-0568fe291213).\n",
      "2022-07-21 13:34:06.505687 : chargement du fichier 09635X0003_FHY.nc en cours (e4a81d22-7edf-4ce5-839a-5fef319a6cca).\n",
      "2022-07-21 13:34:06.566919 : chargement du fichier 10165X0021_CAUVY.nc en cours (980333d9-614c-43f6-a9ac-6758112e1536).\n"
     ]
    },
    {
     "name": "stderr",
     "output_type": "stream",
     "text": [
      "2022-07-21 13:34:06,595 INFO Welcome to the CDS\n",
      "2022-07-21 13:34:06,595 INFO Sending request to https://cds.climate.copernicus.eu/api/v2/resources/reanalysis-era5-single-levels\n"
     ]
    },
    {
     "name": "stdout",
     "output_type": "stream",
     "text": [
      "2022-07-21 13:34:06.627972 : chargement du fichier 10581X0201_SAGRAZ.nc en cours (6571df72-4bc2-4af1-9742-d8cda20df656).\n"
     ]
    }
   ],
   "source": [
    "go_requete = input(\"\"\"\n",
    "            Voulez-vous lancer une série de nouvelles requêtes ? /n \n",
    "            Des requêtes pourraient se retrouver en double. /n \n",
    "            Pour lancer les requêtes entrez 'req' et entrée. /n\n",
    "            Sinon, appuyez simplement sur entrée.\n",
    "\"\"\")\n",
    "                   \n",
    "if go_requete == 'req' :\n",
    "                      \n",
    "    for piezo in df_piezo.index:\n",
    "        path_piezo = 'data/era5/' + piezo\n",
    "        path_nc = f\"./{path_piezo}.nc\"\n",
    "        path_pkl = f\"{path_piezo}.pkl\"\n",
    "\n",
    "        if os.path.isfile(path_nc) : #si le fichier nc existe on le converti en pkl\n",
    "            print(f\"Le fichier {path_nc} existe.\")\n",
    "            df = xr.open_dataset(path_nc).to_dataframe().reset_index().to_pickle(path=path_pkl)\n",
    "            print(f\"Fichier {piezo}.nc converti en fichier pickle\")\n",
    "            os.remove(path_nc)\n",
    "            print(f\"Fichier {path_nc} supprimé\")\n",
    "\n",
    "        elif os.path.isfile(path_pkl) : #si le fichier pkl existe, on affiche qu'il existe\n",
    "            print(f\"Le fichier {piezo}.pkl existe déjà.\")\n",
    "            # puis on le supprime de la liste\n",
    "            df_piezo.drop(index=piezo, axis=1)\n",
    "\n",
    "        else : # Sinon on lance une requête auprès de l'API\n",
    "            result = get_on_cds_api(df_piezo, piezo, path_nc)\n",
    "            # récupération de l'id de la requête\n",
    "            dict_bss[piezo] = result.reply[\"request_id\"]\n",
    "            print(f\"{datetime.now()} : chargement du fichier {piezo}.nc en cours ({dict_bss[piezo]}).\")\n",
    "            \n",
    "            # Enregistrement de l'id de requete dans un fichier csv\n",
    "            if os.path.isfile('./data/hist_requetes.csv'): # Si le fichier existe                \n",
    "                with open('./data/hist_requetes.csv', 'a', encoding='utf-8', newline='') as f:  \n",
    "                    writer = csv.writer(f, delimiter = \";\")\n",
    "                    for k, v in dict_bss.items():\n",
    "                        writer.writerow((k, v))\n",
    "            else : # Si le fichier n'existe pas\n",
    "                with open('./data/hist_requetes.csv', 'w', encoding='utf-8', newline='') as f:  \n",
    "                    writer = csv.writer(f, delimiter = \";\")\n",
    "                    writer.writerow([\"code_bss\", \"id_requete\"])\n",
    "                    for k, v in dict_bss.items():\n",
    "                        writer.writerow((k, v))\n",
    "else : \n",
    "    print(\"Aucune requête n'a été lancée.\")"
   ]
  },
  {
   "cell_type": "markdown",
   "id": "7dd081e4",
   "metadata": {},
   "source": [
    "## Récupérer automatiquement les requêtes abouties \n",
    "Peut être lancé à tout moment pour récupérer des fichiers téléchargés "
   ]
  },
  {
   "cell_type": "code",
   "execution_count": 15,
   "id": "1c3b02b5",
   "metadata": {},
   "outputs": [
    {
     "name": "stderr",
     "output_type": "stream",
     "text": [
      "2022-07-21 13:25:56,423 INFO Downloading https://download-0015-clone.copernicus-climate.eu/cache-compute-0015/cache/data4/adaptor.mars.internal-1658141695.9897885-3825-17-5ada63eb-54f3-4bc6-b561-9670a4ccbd07.nc to ./data/era5/08276X0085_F1.nc (268.8K)\n",
      "2022-07-21 13:25:56,731 INFO Downloading https://download-0000-clone.copernicus-climate.eu/cache-compute-0000/cache/data9/adaptor.mars.internal-1658141696.615006-16659-15-cc4467ae-b828-46e2-af82-477bcbf02da8.nc to ./data/era5/08511X0036_F1.nc (268.8K)\n",
      "2022-07-21 13:25:56,979 INFO Downloading https://download-0000-clone.copernicus-climate.eu/cache-compute-0000/cache/data0/adaptor.mars.internal-1658141696.345232-12802-12-b7b2241f-d91a-4ec6-a53f-9543b354daac.nc to ./data/era5/09783X0018_F1.nc (268.8K)\n",
      "2022-07-21 13:25:57,150 INFO Downloading https://download-0000-clone.copernicus-climate.eu/cache-compute-0000/cache/data9/adaptor.mars.internal-1658144568.333093-25988-4-bee70d6d-0c84-47ad-82c5-d9a86d38b9ac.nc to ./data/era5/09008X0028_F1.nc (114.7K)\n",
      "2022-07-21 13:25:57,336 INFO Downloading https://download-0019.copernicus-climate.eu/cache-compute-0019/cache/data2/adaptor.mars.internal-1658145118.2101483-21254-11-a40afa49-3511-43a3-82d3-11723ab65e12.nc to ./data/era5/09507X0048_F1.nc (234.6K)\n",
      "2022-07-21 13:25:57,510 INFO Downloading https://download-0019.copernicus-climate.eu/cache-compute-0019/cache/data9/adaptor.mars.internal-1658145118.1323495-20242-18-abe54f88-6789-4a66-beb8-8f7ea45efd17.nc to ./data/era5/08037X0398_F1.nc (268.8K)\n",
      "2022-07-21 13:25:57,653 INFO Downloading https://download-0021.copernicus-climate.eu/cache-compute-0021/cache/data5/adaptor.mars.internal-1658147719.437042-27898-8-57a94894-329c-4d08-b071-a422790e117c.nc to ./data/era5/08522X0009_F1.nc (268.8K)\n",
      "2022-07-21 13:25:57,884 INFO Downloading https://download-0014-clone.copernicus-climate.eu/cache-compute-0014/cache/data8/adaptor.mars.internal-1658145826.450083-27955-4-1be7ac30-b2b1-49f0-b147-73b3f631c1ea.nc to ./data/era5/07306X0066_PZEM1.nc (208.9K)\n",
      "2022-07-21 13:25:58,085 INFO Downloading https://download-0014-clone.copernicus-climate.eu/cache-compute-0014/cache/data8/adaptor.mars.internal-1658143999.2726204-27119-13-4d784c0f-b72f-4fb9-9d27-f8ab01495e8f.nc to ./data/era5/09513X0021_GMM1.nc (80.5K)\n",
      "2022-07-21 13:25:58,232 INFO Downloading https://download-0011-clone.copernicus-climate.eu/cache-compute-0011/cache/data0/adaptor.mars.internal-1658145118.1009276-30548-9-adac6ef4-ce4b-4b2c-b665-aac583f71c75.nc to ./data/era5/09267X0014_PIEZO1.nc (268.8K)\n",
      "2022-07-21 13:25:58,417 INFO Downloading https://download-0020.copernicus-climate.eu/cache-compute-0020/cache/data1/adaptor.mars.internal-1658144702.4649851-12939-3-1a7412c6-372a-4877-a7e3-691e0602c2b4.nc to ./data/era5/06401X0010_P1.nc (131.9K)\n",
      "2022-07-21 13:25:58,640 INFO Downloading https://download-0003-clone.copernicus-climate.eu/cache-compute-0003/cache/data9/adaptor.mars.internal-1658142602.9410734-31464-12-2665776d-1de0-4f7b-a901-4e37257b878a.nc to ./data/era5/08065X0010_P1.nc (208.9K)\n",
      "2022-07-21 13:25:58,887 INFO Downloading https://download-0006-clone.copernicus-climate.eu/cache-compute-0006/cache/data3/adaptor.mars.internal-1658148240.0031188-17052-2-f5da56eb-a100-436e-a29d-866801b9a1f8.nc to ./data/era5/07616X0141_P1.nc (131.9K)\n",
      "2022-07-21 13:25:59,056 INFO Downloading https://download-0006-clone.copernicus-climate.eu/cache-compute-0006/cache/data1/adaptor.mars.internal-1658146212.4856203-441-11-0908caf1-026b-4541-84b4-b5562d327bb3.nc to ./data/era5/07857X0381_P1.nc (114.7K)\n",
      "2022-07-21 13:25:59,203 INFO Downloading https://download-0003-clone.copernicus-climate.eu/cache-compute-0003/cache/data4/adaptor.mars.internal-1658147721.5934443-20963-2-c3ab18d9-bde4-4576-b951-d52f5ddc964f.nc to ./data/era5/08031X0302_P1.nc (131.9K)\n",
      "2022-07-21 13:25:59,405 INFO Downloading https://download-0016.copernicus-climate.eu/cache-compute-0016/cache/data8/adaptor.mars.internal-1658149344.4550235-21674-11-68054cc9-006c-4f5a-8190-e60576e56122.nc to ./data/era5/07126X0062_P1.nc (131.9K)\n",
      "2022-07-21 13:25:59,588 INFO Downloading https://download-0021.copernicus-climate.eu/cache-compute-0021/cache/data7/adaptor.mars.internal-1658147718.9922268-12864-4-959a0828-6697-425e-ad23-b48903088064.nc to ./data/era5/07852X0072_P1.nc (123.3K)\n",
      "2022-07-21 13:25:59,788 INFO Downloading https://download-0021.copernicus-climate.eu/cache-compute-0021/cache/data5/adaptor.mars.internal-1658149343.6899326-12864-6-7e8b1ad8-6613-416a-bdbf-0e6a5bc1cf5c.nc to ./data/era5/06674X0003_P1.nc (131.9K)\n",
      "2022-07-21 13:25:59,989 INFO Downloading https://download-0019.copernicus-climate.eu/cache-compute-0019/cache/data3/adaptor.mars.internal-1658147711.2231314-29790-5-00951fc5-eea1-4dc7-b2e7-046063831b47.nc to ./data/era5/07111X0033_P1.nc (131.9K)\n",
      "2022-07-21 13:26:00,155 INFO Downloading https://download-0000-clone.copernicus-climate.eu/cache-compute-0000/cache/data5/adaptor.mars.internal-1658149281.4809296-441-11-68f196d3-0040-4d93-b4e2-58824d8f419c.nc to ./data/era5/07615X0043_P1.nc (123.3K)\n",
      "2022-07-21 13:26:00,304 INFO Downloading https://download-0016.copernicus-climate.eu/cache-compute-0016/cache/data1/adaptor.mars.internal-1658146311.260101-701-19-e44cd8ce-4590-4001-84bf-01bfda47faa5.nc to ./data/era5/06417X0014_P1.nc (149K)\n",
      "2022-07-21 13:26:00,489 INFO Downloading https://download-0002-clone.copernicus-climate.eu/cache-compute-0002/cache/data2/adaptor.mars.internal-1658147712.9421794-18240-7-179cce9b-abbe-4204-81ee-982fe3e9c606.nc to ./data/era5/06426X0015_P1.nc (123.3K)\n",
      "2022-07-21 13:26:00,689 INFO Downloading https://download-0021.copernicus-climate.eu/cache-compute-0021/cache/data6/adaptor.mars.internal-1658147719.4090998-13036-17-6be3cd0b-1464-477e-8e43-c7216b929374.nc to ./data/era5/07134X0025_P1.nc (131.9K)\n",
      "2022-07-21 13:26:00,837 INFO Downloading https://download-0011-clone.copernicus-climate.eu/cache-compute-0011/cache/data6/adaptor.mars.internal-1658149423.588424-2754-1-e3517687-19b9-4f47-a239-c9f0eb7cee5b.nc to ./data/era5/06667X0006_P1.nc (131.8K)\n",
      "2022-07-21 13:26:01,006 INFO Downloading https://download-0013-clone.copernicus-climate.eu/cache-compute-0013/cache/data2/adaptor.mars.internal-1658148405.926732-10944-8-07087e79-068f-4e19-a864-90b700d34706.nc to ./data/era5/08551X0016_P1.nc (37.7K)\n",
      "2022-07-21 13:26:01,190 INFO Downloading https://download-0000-clone.copernicus-climate.eu/cache-compute-0000/cache/data6/adaptor.mars.internal-1658149343.7608435-24988-18-e59518a8-32cc-4a29-bf6d-6695026ece68.nc to ./data/era5/07155X0016_P1.nc (149K)\n",
      "2022-07-21 13:26:01,353 INFO Downloading https://download-0004-clone.copernicus-climate.eu/cache-compute-0004/cache/data4/adaptor.mars.internal-1658149536.4747708-32474-8-5f93fcbb-a262-4b3f-9cb2-357b36300b28.nc to ./data/era5/07143X0017_P1.nc (131.9K)\n",
      "2022-07-21 13:26:01,606 INFO Downloading https://download-0010-clone.copernicus-climate.eu/cache-compute-0010/cache/data8/adaptor.mars.internal-1658150773.5806906-13730-18-47b9f352-1468-41a4-8ef7-f5a9efc7263f.nc to ./data/era5/07853X0027_P1.nc (123.3K)\n",
      "2022-07-21 13:26:01,775 INFO Downloading https://download-0012-clone.copernicus-climate.eu/cache-compute-0012/cache/data1/adaptor.mars.internal-1658153086.452412-18891-5-7e8c613e-4ff9-4164-980f-c92ac422a10c.nc to ./data/era5/08101X0227_P1.nc (149K)\n",
      "2022-07-21 13:26:01,975 INFO Downloading https://download-0021.copernicus-climate.eu/cache-compute-0021/cache/data2/adaptor.mars.internal-1658150860.4235268-1115-13-da028d4b-d166-4acf-ab3e-c3e4ac9bc4c3.nc to ./data/era5/06894X0018_P1.nc (131.9K)\n",
      "2022-07-21 13:26:02,123 INFO Downloading https://download-0016.copernicus-climate.eu/cache-compute-0016/cache/data7/adaptor.mars.internal-1658150734.2153008-8024-7-1a66d8db-8692-419d-98fa-70aa868e8705.nc to ./data/era5/06877X0028_P1.nc (106.2K)\n",
      "2022-07-21 13:26:02,276 INFO Downloading https://download-0011-clone.copernicus-climate.eu/cache-compute-0011/cache/data0/adaptor.mars.internal-1658150968.9628563-4213-19-2a6c282e-f64e-4eda-925e-417b8fde9b41.nc to ./data/era5/09506X0048_P1.nc (191.8K)\n",
      "2022-07-21 13:26:02,423 INFO Downloading https://download-0015-clone.copernicus-climate.eu/cache-compute-0015/cache/data0/adaptor.mars.internal-1658150734.3324869-27302-13-cc806732-48b0-4ff3-a508-4a73504b19e0.nc to ./data/era5/06638X0048_P1.nc (106.2K)\n"
     ]
    },
    {
     "name": "stderr",
     "output_type": "stream",
     "text": [
      "2022-07-21 13:26:02,609 INFO Downloading https://download-0001-clone.copernicus-climate.eu/cache-compute-0001/cache/data7/adaptor.mars.internal-1658150979.0544522-12507-12-1f12d5b6-93da-48f9-8d0c-93044ea2930a.nc to ./data/era5/07131X0019_P1.nc (131.9K)\n",
      "2022-07-21 13:26:02,825 INFO Downloading https://download-0021.copernicus-climate.eu/cache-compute-0021/cache/data1/adaptor.mars.internal-1658150972.1095147-3548-10-fd84fc59-0e31-4895-9e8f-ca282aff07bf.nc to ./data/era5/06432X0059_P1.nc (149K)\n",
      "2022-07-21 13:26:02,994 INFO Downloading https://download-0010-clone.copernicus-climate.eu/cache-compute-0010/cache/data9/adaptor.mars.internal-1658153086.2906601-26933-8-6e32a38a-c832-42a6-9d3c-438cb3ef00b1.nc to ./data/era5/07786X0047_BP1.nc (157.5K)\n",
      "2022-07-21 13:26:03,157 INFO Downloading https://download-0012-clone.copernicus-climate.eu/cache-compute-0012/cache/data6/adaptor.mars.internal-1658155784.8220224-7874-1-04d317cf-8e87-4f2b-b731-9e71eb81525e.nc to ./data/era5/08977X0009_F4NP1.nc (268.8K)\n",
      "2022-07-21 13:26:03,353 INFO Downloading https://download-0017.copernicus-climate.eu/cache-compute-0017/cache/data0/adaptor.mars.internal-1658155292.443986-16890-3-8460c15a-4e79-4e73-81e2-2aa619836697.nc to ./data/era5/08502X0069_GLTP1.nc (268.8K)\n",
      "2022-07-21 13:26:03,540 INFO Downloading https://download-0020.copernicus-climate.eu/cache-compute-0020/cache/data7/adaptor.mars.internal-1658152431.5534854-16505-8-10feaeda-e778-47e8-80d8-8b61ca26100b.nc to ./data/era5/09761X0106_R1.nc (71.9K)\n",
      "2022-07-21 13:26:03,710 INFO Downloading https://download-0020.copernicus-climate.eu/cache-compute-0020/cache/data6/adaptor.mars.internal-1658156957.9377239-5568-2-07368322-eff3-47aa-b678-471d04902992.nc to ./data/era5/10305X0083_S1.nc (174.6K)\n",
      "2022-07-21 13:26:03,879 INFO Downloading https://download-0009-clone.copernicus-climate.eu/cache-compute-0009/cache/data7/adaptor.mars.internal-1658155400.3155575-4443-9-9989b7ae-9228-4ece-8f31-c4a9ca318aa8.nc to ./data/era5/08527X0002_BAZAS1.nc (268.8K)\n",
      "2022-07-21 13:26:04,098 INFO Downloading https://download-0021.copernicus-climate.eu/cache-compute-0021/cache/data4/adaptor.mars.internal-1658157074.2077737-27575-5-d8348c70-6f73-4dd8-84f7-361a21c36af2.nc to ./data/era5/08036X0948_GBDX1.nc (268.8K)\n",
      "2022-07-21 13:26:04,275 INFO Downloading https://download-0007-clone.copernicus-climate.eu/cache-compute-0007/cache/data9/adaptor.mars.internal-1658158942.0548415-30686-12-bd747fde-cad1-43b6-8d0d-dcdc8d040315.nc to ./data/era5/09771X0163_SPDX1.nc (166.1K)\n",
      "2022-07-21 13:26:04,458 INFO Downloading https://download-0004-clone.copernicus-climate.eu/cache-compute-0004/cache/data5/adaptor.mars.internal-1658154133.12522-25578-3-517a8d07-9e94-4604-a6c2-93a22d2c9c32.nc to ./data/era5/09023X0069_PZ1.nc (208.9K)\n",
      "2022-07-21 13:26:04,644 INFO Downloading https://download-0007-clone.copernicus-climate.eu/cache-compute-0007/cache/data4/adaptor.mars.internal-1658155696.3010337-5177-13-80ea05a4-793f-4baa-866f-15568a1b3bf5.nc to ./data/era5/06381X0048_CHA312.nc (166.1K)\n",
      "2022-07-21 13:26:04,797 INFO Downloading https://download-0015-clone.copernicus-climate.eu/cache-compute-0015/cache/data8/adaptor.mars.internal-1658160844.7580462-10230-6-f0425ae1-f89e-4bbd-83fa-61c2378eaa99.nc to ./data/era5/07791X0008_PZEM12.nc (268.8K)\n",
      "2022-07-21 13:26:04,982 INFO Downloading https://download-0011-clone.copernicus-climate.eu/cache-compute-0011/cache/data6/adaptor.mars.internal-1658155399.9525726-29681-3-c8853e17-9c0f-477f-b161-421751b37bd8.nc to ./data/era5/09508X0055_D2.nc (268.8K)\n",
      "2022-07-21 13:26:05,145 INFO Downloading https://download-0016.copernicus-climate.eu/cache-compute-0016/cache/data2/adaptor.mars.internal-1658158931.2177358-18007-1-da09e43d-a88c-47b4-8324-522d8df25dbc.nc to ./data/era5/09768X0040_F2.nc (200.3K)\n",
      "2022-07-21 13:26:05,330 INFO Downloading https://download-0021.copernicus-climate.eu/cache-compute-0021/cache/data1/adaptor.mars.internal-1658161921.0996065-32615-10-df1e0d79-49ac-4e4e-8575-03e2d6cff1b0.nc to ./data/era5/06642X0044_F2.nc (166.1K)\n",
      "2022-07-21 13:26:05,513 INFO Downloading https://download-0004-clone.copernicus-climate.eu/cache-compute-0004/cache/data0/adaptor.mars.internal-1658162337.6281297-8436-2-02e90547-22a2-4d45-9f9a-427da425d430.nc to ./data/era5/09006X0065_F2.nc (268.8K)\n",
      "2022-07-21 13:26:05,688 INFO Downloading https://download-0011-clone.copernicus-climate.eu/cache-compute-0011/cache/data2/adaptor.mars.internal-1658161636.1351113-8365-11-46f2798a-0ede-44b9-a331-cec219d0d167.nc to ./data/era5/08522X0017_F2.nc (268.8K)\n",
      "2022-07-21 13:26:05,842 INFO Downloading https://download-0006-clone.copernicus-climate.eu/cache-compute-0006/cache/data3/adaptor.mars.internal-1658162439.745145-3162-14-97495fb4-100a-42cd-9012-543d3f120e65.nc to ./data/era5/08758X0008_F2.nc (226K)\n",
      "2022-07-21 13:26:06,026 INFO Downloading https://download-0009-clone.copernicus-climate.eu/cache-compute-0009/cache/data7/adaptor.mars.internal-1658163736.6892855-23917-3-66cfb8f0-9c45-4ae0-badc-989e3374b1fa.nc to ./data/era5/07541X0028_F2.nc (268.8K)\n",
      "2022-07-21 13:26:06,206 INFO Downloading https://download-0010-clone.copernicus-climate.eu/cache-compute-0010/cache/data0/adaptor.mars.internal-1658165194.420576-16560-12-5271d29d-c359-47d2-b028-3711ab51db30.nc to ./data/era5/08083X0028_F2.nc (226K)\n",
      "2022-07-21 13:26:06,371 INFO Downloading https://download-0005-clone.copernicus-climate.eu/cache-compute-0005/cache/data8/adaptor.mars.internal-1658158145.9930415-25809-8-e4dcead1-c56b-480e-adac-96e4e66ec71c.nc to ./data/era5/07818X0038_F2.nc (106.2K)\n",
      "2022-07-21 13:26:06,553 INFO Downloading https://download-0004-clone.copernicus-climate.eu/cache-compute-0004/cache/data5/adaptor.mars.internal-1658159111.7762227-29266-9-e04989f6-d218-4ef8-a1c3-d3542a43532c.nc to ./data/era5/06824X0058_F2.nc (46.2K)\n",
      "2022-07-21 13:26:06,740 INFO Downloading https://download-0018.copernicus-climate.eu/cache-compute-0018/cache/data5/adaptor.mars.internal-1658161377.9645524-12985-1-ca5956dd-43ff-4ce6-bfe6-3152da4a2dad.nc to ./data/era5/08273X0288_F2.nc (268.8K)\n",
      "2022-07-21 13:26:06,922 INFO Downloading https://download-0016.copernicus-climate.eu/cache-compute-0016/cache/data7/adaptor.mars.internal-1658166808.2457123-15437-15-6eb3dd8b-ae7d-443a-8847-aa864c89f82f.nc to ./data/era5/10035X0009_F2.nc (174.7K)\n",
      "2022-07-21 13:26:07,108 INFO Downloading https://download-0006-clone.copernicus-climate.eu/cache-compute-0006/cache/data4/adaptor.mars.internal-1658168868.4782195-22515-18-3dacfccb-81e5-45f0-add8-6a050c9aa284.nc to ./data/era5/07808X0009_F2.nc (217.4K)\n",
      "2022-07-21 13:26:07,279 INFO Downloading https://download-0021.copernicus-climate.eu/cache-compute-0021/cache/data0/adaptor.mars.internal-1658165201.9662802-23903-7-d65745de-59f5-4d00-a156-8442ea7500ef.nc to ./data/era5/08288X0009_F2.nc (268.8K)\n",
      "2022-07-21 13:26:07,473 INFO Downloading https://download-0011-clone.copernicus-climate.eu/cache-compute-0011/cache/data1/adaptor.mars.internal-1658165198.3752904-15619-17-c4ebd98e-6af8-450e-8255-6604eccb60ba.nc to ./data/era5/07598X0009_F2.nc (208.9K)\n",
      "2022-07-21 13:26:07,638 INFO Downloading https://download-0020.copernicus-climate.eu/cache-compute-0020/cache/data8/adaptor.mars.internal-1658169321.2342196-10085-20-0fbb108c-3636-4b97-9d2c-8165bfc4556f.nc to ./data/era5/08024X0019_F2.nc (251.7K)\n",
      "2022-07-21 13:26:07,840 INFO Downloading https://download-0006-clone.copernicus-climate.eu/cache-compute-0006/cache/data5/adaptor.mars.internal-1658168964.74857-25383-6-f860513e-a597-40ee-aa38-d117052bd699.nc to ./data/era5/08037X0429_F2.nc (268.8K)\n",
      "2022-07-21 13:26:08,006 INFO Downloading https://download-0013-clone.copernicus-climate.eu/cache-compute-0013/cache/data7/adaptor.mars.internal-1658168902.2785983-18048-13-560a1a0c-04f2-4ff3-bb7d-66797f7f2ed4.nc to ./data/era5/08753X0022_F-COM2.nc (268.8K)\n",
      "2022-07-21 13:26:08,200 INFO Downloading https://download-0002-clone.copernicus-climate.eu/cache-compute-0002/cache/data7/adaptor.mars.internal-1658164874.4989648-12261-17-3aa2c945-c15b-4ad8-85a8-802b0e956748.nc to ./data/era5/06432X0060_P2.nc (131.9K)\n",
      "2022-07-21 13:26:08,365 INFO Downloading https://download-0013-clone.copernicus-climate.eu/cache-compute-0013/cache/data7/adaptor.mars.internal-1658164610.902875-28356-13-5b10833f-a7a8-412c-aea7-69474731f953.nc to ./data/era5/08782X0131_P2.nc (131.9K)\n"
     ]
    },
    {
     "name": "stderr",
     "output_type": "stream",
     "text": [
      "2022-07-21 13:26:08,513 INFO Downloading https://download-0012-clone.copernicus-climate.eu/cache-compute-0012/cache/data3/adaptor.mars.internal-1658165194.511573-26784-2-9f4ec439-3909-4022-a0e8-5d87f9b0c16a.nc to ./data/era5/06882X0214_P2.nc (149K)\n",
      "2022-07-21 13:26:08,655 INFO Downloading https://download-0017.copernicus-climate.eu/cache-compute-0017/cache/data0/adaptor.mars.internal-1658171061.236412-19555-15-d3828661-6bec-455e-a52a-954a39a2dec3.nc to ./data/era5/06417X0015_P2.nc (123.3K)\n",
      "2022-07-21 13:26:08,856 INFO Downloading https://download-0007-clone.copernicus-climate.eu/cache-compute-0007/cache/data8/adaptor.mars.internal-1658169111.7604299-7364-19-50fdab8c-f5d6-4412-a1dd-ceb815b58098.nc to ./data/era5/08056X0026_P2.nc (174.6K)\n",
      "2022-07-21 13:26:09,024 INFO Downloading https://download-0002-clone.copernicus-climate.eu/cache-compute-0002/cache/data4/adaptor.mars.internal-1658167278.2677433-32699-15-0f4a7f74-4c2f-4a2a-8d2f-e25975cb3d15.nc to ./data/era5/07143X0018_P2.nc (123.3K)\n",
      "2022-07-21 13:26:09,256 INFO Downloading https://download-0004-clone.copernicus-climate.eu/cache-compute-0004/cache/data2/adaptor.mars.internal-1658169812.4059026-6588-4-b4fa6a7a-f355-425c-a0c7-9aff18eff3a2.nc to ./data/era5/08535X0019_P2.nc (200.3K)\n",
      "2022-07-21 13:26:09,394 INFO Downloading https://download-0008-clone.copernicus-climate.eu/cache-compute-0008/cache/data5/adaptor.mars.internal-1658168488.7705386-12131-11-283931a9-757c-452a-8db5-a76a77635283.nc to ./data/era5/06638X0049_P2.nc (106.2K)\n",
      "2022-07-21 13:26:09,560 INFO Downloading https://download-0013-clone.copernicus-climate.eu/cache-compute-0013/cache/data2/adaptor.mars.internal-1658172024.3127968-22811-2-f6e24643-6b35-4063-91e8-a46f73c937a3.nc to ./data/era5/07787X0010_MP2.nc (157.5K)\n",
      "2022-07-21 13:26:09,695 INFO Downloading https://download-0010-clone.copernicus-climate.eu/cache-compute-0010/cache/data7/adaptor.mars.internal-1658170470.0578437-29640-16-be490419-40ac-4164-b8f8-b0cbdfe71284.nc to ./data/era5/08022X0009_SP2.nc (157.5K)\n",
      "2022-07-21 13:26:09,979 INFO Downloading https://download-0000-clone.copernicus-climate.eu/cache-compute-0000/cache/data4/adaptor.mars.internal-1658171878.709097-1857-11-dd96ed8f-4015-4cac-974a-801aa49d9dae.nc to ./data/era5/10014X0422_R2.nc (183.2K)\n",
      "2022-07-21 13:26:10,155 INFO Downloading https://download-0014-clone.copernicus-climate.eu/cache-compute-0014/cache/data6/adaptor.mars.internal-1658174088.2938244-25683-19-26fb0357-e33c-4840-9fe5-fc418c8af20c.nc to ./data/era5/09761X0126_R2.nc (149K)\n",
      "2022-07-21 13:26:10,295 INFO Downloading https://download-0006-clone.copernicus-climate.eu/cache-compute-0006/cache/data1/adaptor.mars.internal-1658171430.7433844-30661-11-7bc135be-3ec2-44ab-a4ba-73c93aa0ddf5.nc to ./data/era5/09761X0107_R2.nc (63.4K)\n",
      "2022-07-21 13:26:10,442 INFO Downloading https://download-0003-clone.copernicus-climate.eu/cache-compute-0003/cache/data9/adaptor.mars.internal-1658176342.9839344-15104-15-85426224-014e-416c-a5c6-287a463c1774.nc to ./data/era5/08036X0954_GBDX2.nc (268.8K)\n",
      "2022-07-21 13:26:10,580 INFO Downloading https://download-0020.copernicus-climate.eu/cache-compute-0020/cache/data8/adaptor.mars.internal-1658173014.3316844-16581-20-296fa653-f7bd-4cce-84ab-c8b53e4a8ad6.nc to ./data/era5/09257X0042_PZ2.nc (149K)\n",
      "2022-07-21 13:26:10,745 INFO Downloading https://download-0010-clone.copernicus-climate.eu/cache-compute-0010/cache/data4/adaptor.mars.internal-1658172034.7006004-19475-7-d6d583a4-2535-4075-a3dd-2f6c20ad3dbc.nc to ./data/era5/08494X0127_PZ2.nc (114.7K)\n",
      "2022-07-21 13:26:10,880 INFO Downloading https://download-0007-clone.copernicus-climate.eu/cache-compute-0007/cache/data8/adaptor.mars.internal-1658174570.684835-18919-15-183e4721-ab41-4ae1-9661-0faf67bdbb82.nc to ./data/era5/08271X0299_PZ2.nc (191.8K)\n",
      "2022-07-21 13:26:11,074 INFO Downloading https://download-0003-clone.copernicus-climate.eu/cache-compute-0003/cache/data9/adaptor.mars.internal-1658172146.324711-7990-12-9264faf4-290a-44e5-bbc6-a518f4e98ede.nc to ./data/era5/08024X0070_F13.nc (149K)\n",
      "2022-07-21 13:26:11,312 INFO Downloading https://download-0019.copernicus-climate.eu/cache-compute-0019/cache/data3/adaptor.mars.internal-1658174085.5327356-27831-5-e29e95b9-4c5d-4ea1-8153-05aded22e9e2.nc to ./data/era5/07784X0079_PZEM13.nc (157.5K)\n",
      "2022-07-21 13:26:11,461 INFO Downloading https://download-0012-clone.copernicus-climate.eu/cache-compute-0012/cache/data5/adaptor.mars.internal-1658172020.4230416-17351-4-aac425ab-e831-4877-a96d-c755b9a73181.nc to ./data/era5/09758X0009_R13.nc (123.3K)\n",
      "2022-07-21 13:26:11,597 INFO Downloading https://download-0005-clone.copernicus-climate.eu/cache-compute-0005/cache/data8/adaptor.mars.internal-1658172331.650914-2921-8-f65b1e44-212f-4c43-9d37-80ed8029994c.nc to ./data/era5/08014X0032_PZ13.nc (123.3K)\n",
      "2022-07-21 13:26:11,760 INFO Downloading https://download-0019.copernicus-climate.eu/cache-compute-0019/cache/data3/adaptor.mars.internal-1658175696.7667341-27474-13-634b763c-835e-4d27-88e8-0d43914c15a9.nc to ./data/era5/06111X0046_C43.nc (268.8K)\n",
      "2022-07-21 13:26:11,914 INFO Downloading https://download-0005-clone.copernicus-climate.eu/cache-compute-0005/cache/data5/adaptor.mars.internal-1658177765.9651725-29706-1-56fe268b-519c-4909-be3d-5c742adbfe28.nc to ./data/era5/09784X0010_F3.nc (183.2K)\n",
      "2022-07-21 13:26:12,083 INFO Downloading https://download-0021.copernicus-climate.eu/cache-compute-0021/cache/data9/adaptor.mars.internal-1658176500.6094902-20729-2-cb9b91b1-c1f5-433a-b042-e1ca519b1e56.nc to ./data/era5/10035X0010_F3.nc (174.6K)\n",
      "2022-07-21 13:26:12,280 INFO Downloading https://download-0000-clone.copernicus-climate.eu/cache-compute-0000/cache/data9/adaptor.mars.internal-1658178713.2451382-10225-16-57aed2b7-07cf-4c6b-8888-ea3cb40f7b7e.nc to ./data/era5/07548X0010_F3.nc (268.8K)\n",
      "2022-07-21 13:26:12,447 INFO Downloading https://download-0013-clone.copernicus-climate.eu/cache-compute-0013/cache/data4/adaptor.mars.internal-1658178852.9212973-11897-4-d92f4385-0f80-4267-bc16-d86276c0dd26.nc to ./data/era5/09771X0110_F3.nc (106.2K)\n",
      "2022-07-21 13:26:12,606 INFO Downloading https://download-0001-clone.copernicus-climate.eu/cache-compute-0001/cache/data3/adaptor.mars.internal-1658175188.8789043-18106-13-8dddcd27-162a-453e-9a60-434b4ef922f1.nc to ./data/era5/09268X0210_F3.nc (183.2K)\n",
      "2022-07-21 13:26:14,611 INFO Downloading https://download-0005-clone.copernicus-climate.eu/cache-compute-0005/cache/data4/adaptor.mars.internal-1658178220.9778647-25902-13-f4bb8359-d075-4934-a784-9ae921e6e679.nc to ./data/era5/07552X0012_F3.nc (268.8K)\n",
      "2022-07-21 13:26:14,814 INFO Downloading https://download-0008-clone.copernicus-climate.eu/cache-compute-0008/cache/data2/adaptor.mars.internal-1658178445.4086843-7287-17-8cd93e6b-d75b-4eba-be23-c64dcf8f69ef.nc to ./data/era5/07816X0032_F3.nc (149K)\n",
      "2022-07-21 13:26:14,966 INFO Downloading https://download-0019.copernicus-climate.eu/cache-compute-0019/cache/data9/adaptor.mars.internal-1658180841.0044472-20970-18-754b19cf-955d-4a1d-ba08-f2dae826277d.nc to ./data/era5/09507X0042_F3.nc (268.8K)\n",
      "2022-07-21 13:26:15,138 INFO Downloading https://download-0012-clone.copernicus-climate.eu/cache-compute-0012/cache/data9/adaptor.mars.internal-1658178459.4963279-3856-13-22bf5913-6d49-418c-95f0-27d69f64844a.nc to ./data/era5/08035X0442_F3.nc (268.8K)\n",
      "2022-07-21 13:26:15,326 INFO Downloading https://download-0002-clone.copernicus-climate.eu/cache-compute-0002/cache/data4/adaptor.mars.internal-1658174201.8372867-23391-10-42dc7d36-9dfd-4338-88ab-66220b6ff297.nc to ./data/era5/07835X0003_F3.nc (174.7K)\n",
      "2022-07-21 13:26:15,491 INFO Downloading https://download-0011-clone.copernicus-climate.eu/cache-compute-0011/cache/data8/adaptor.mars.internal-1658193654.0767555-17389-5-29d0f6d5-cf6d-4100-9fc3-676e89cefb90.nc to ./data/era5/08288X0003_F3.nc (268.8K)\n",
      "2022-07-21 13:26:15,661 INFO Downloading https://download-0004-clone.copernicus-climate.eu/cache-compute-0004/cache/data1/adaptor.mars.internal-1658181342.0062735-18729-6-f78548cc-d00c-4c2a-8aab-21840102c078.nc to ./data/era5/08756X0033_F3.nc (183.2K)\n",
      "2022-07-21 13:26:15,809 INFO Downloading https://download-0017.copernicus-climate.eu/cache-compute-0017/cache/data9/adaptor.mars.internal-1658190396.0684137-6126-10-3bec269b-fe9b-4ab3-8d3a-351db31ee83c.nc to ./data/era5/06605X0004_F3.nc (260.2K)\n"
     ]
    },
    {
     "name": "stderr",
     "output_type": "stream",
     "text": [
      "2022-07-21 13:26:15,985 INFO Downloading https://download-0015-clone.copernicus-climate.eu/cache-compute-0015/cache/data1/adaptor.mars.internal-1658190413.1167676-5760-3-5de02373-4ea8-4373-8287-13feaadce3b0.nc to ./data/era5/07545X0024_F3.nc (268.8K)\n",
      "2022-07-21 13:26:16,157 INFO Downloading https://download-0021.copernicus-climate.eu/cache-compute-0021/cache/data7/adaptor.mars.internal-1658183316.437986-15129-9-50bddda7-375e-4d08-9282-789fa7d850a4.nc to ./data/era5/10306X0034_F3.nc (268.8K)\n",
      "2022-07-21 13:26:16,334 INFO Downloading https://download-0006-clone.copernicus-climate.eu/cache-compute-0006/cache/data2/adaptor.mars.internal-1658182776.4407237-22349-13-03321687-9558-4dc2-82db-276964b46efb.nc to ./data/era5/07595X0006_F3.nc (226K)\n",
      "2022-07-21 13:26:16,482 INFO Downloading https://download-0010-clone.copernicus-climate.eu/cache-compute-0010/cache/data2/adaptor.mars.internal-1658190403.7944155-4694-4-cbe3d75c-2688-45d0-b715-8bd3c6c91955.nc to ./data/era5/09782X0016_F3.nc (268.8K)\n",
      "2022-07-21 13:26:16,631 INFO Downloading https://download-0006-clone.copernicus-climate.eu/cache-compute-0006/cache/data5/adaptor.mars.internal-1658182975.6129713-23393-16-adeaf4b6-68b5-4e22-bfc8-0102c8a2f5c0.nc to ./data/era5/08278X0186_F3.nc (208.9K)\n",
      "2022-07-21 13:26:16,797 INFO Downloading https://download-0003-clone.copernicus-climate.eu/cache-compute-0003/cache/data4/adaptor.mars.internal-1658182538.3164337-20897-8-13a70f9a-48cd-482b-8769-d7616e80ca56.nc to ./data/era5/08272X0007_F3.nc (268.8K)\n",
      "2022-07-21 13:26:16,992 INFO Downloading https://download-0006-clone.copernicus-climate.eu/cache-compute-0006/cache/data7/adaptor.mars.internal-1658181341.9578512-15559-9-94cf1a42-1657-4385-9c6c-8fd045fc287f.nc to ./data/era5/06668X0007_F3.nc (166.1K)\n",
      "2022-07-21 13:26:17,155 INFO Downloading https://download-0013-clone.copernicus-climate.eu/cache-compute-0013/cache/data7/adaptor.mars.internal-1658193653.9471161-28292-7-8d7ee296-ca72-42d4-a5cc-880e570940f9.nc to ./data/era5/08033X0237_F3.nc (268.8K)\n",
      "2022-07-21 13:26:17,323 INFO Downloading https://download-0000-clone.copernicus-climate.eu/cache-compute-0000/cache/data2/adaptor.mars.internal-1658190409.816259-7277-2-e959763c-13a8-47cc-82ab-622dbd918926.nc to ./data/era5/07806X0067_F3.nc (208.9K)\n",
      "2022-07-21 13:26:17,483 INFO Downloading https://download-0001-clone.copernicus-climate.eu/cache-compute-0001/cache/data8/adaptor.mars.internal-1658193854.2090669-12395-3-4661ca7b-0051-41b8-b8d9-2d19234a2838.nc to ./data/era5/09763X0267_F3.nc (140.4K)\n",
      "2022-07-21 13:26:17,976 INFO Downloading https://download-0007-clone.copernicus-climate.eu/cache-compute-0007/cache/data2/adaptor.mars.internal-1658195651.2569635-20420-4-ee062583-971e-4e23-ae5c-006758958a36.nc to ./data/era5/08766X0018_F3.nc (268.8K)\n",
      "2022-07-21 13:26:18,144 INFO Downloading https://download-0010-clone.copernicus-climate.eu/cache-compute-0010/cache/data3/adaptor.mars.internal-1658193654.7561145-18876-9-50f8f22e-9c23-4230-bc3f-a48769c83da9.nc to ./data/era5/07804X0538_F3.nc (106.2K)\n",
      "2022-07-21 13:26:18,408 INFO Download rate 403K/s\n",
      "2022-07-21 13:26:18,512 INFO Downloading https://download-0006-clone.copernicus-climate.eu/cache-compute-0006/cache/data5/adaptor.mars.internal-1658185288.1594281-20266-4-0074d496-8ba2-4f9f-ba05-c83302770b35.nc to ./data/era5/09765X0049_F3.nc (80.5K)\n"
     ]
    },
    {
     "name": "stdout",
     "output_type": "stream",
     "text": [
      "2022-07-21 13:26:18.409722 : Fichier 07804X0538_F3.nc téléchargé.\n",
      "Fichier 07804X0538_F3.nc converti en fichier pickle\n",
      "Fichier ./data/era5/07804X0538_F3.nc.nc supprimé\n"
     ]
    },
    {
     "name": "stderr",
     "output_type": "stream",
     "text": [
      "2022-07-21 13:26:18,666 INFO Downloading https://download-0019.copernicus-climate.eu/cache-compute-0019/cache/data6/adaptor.mars.internal-1658195650.9298296-24208-7-93a455d7-cf53-48fd-8ad6-7f1ac8fb41e3.nc to ./data/era5/09758X0014_GOLF3.nc (166.1K)\n",
      "2022-07-21 13:26:18,836 INFO Downloading https://download-0012-clone.copernicus-climate.eu/cache-compute-0012/cache/data9/adaptor.mars.internal-1658195927.183912-29343-13-bb15ffae-a035-4a0c-8088-e873828bb196.nc to ./data/era5/07544X0091_PZEM3.nc (208.9K)\n",
      "2022-07-21 13:26:18,979 INFO Downloading https://download-0011-clone.copernicus-climate.eu/cache-compute-0011/cache/data3/adaptor.mars.internal-1658195651.1259005-30846-4-d3737b40-66bb-490b-a354-e73ad33c0420.nc to ./data/era5/08791X0031_P3.nc (131.9K)\n",
      "2022-07-21 13:26:19,131 INFO Downloading https://download-0015-clone.copernicus-climate.eu/cache-compute-0015/cache/data8/adaptor.mars.internal-1658196129.2032192-19903-6-b03c7434-13db-48a4-8311-d515f1d90521.nc to ./data/era5/08298X0009_P3.nc (20.5K)\n",
      "2022-07-21 13:26:19,298 INFO Downloading https://download-0011-clone.copernicus-climate.eu/cache-compute-0011/cache/data8/adaptor.mars.internal-1658195989.8805528-6178-15-41dac0dd-ffaf-4910-8b1e-dd8b965ee63a.nc to ./data/era5/08022X0010_SP3.nc (157.5K)\n",
      "2022-07-21 13:26:19,511 INFO Download rate 744.3K/s\n",
      "2022-07-21 13:26:19,588 INFO Downloading https://download-0009-clone.copernicus-climate.eu/cache-compute-0009/cache/data8/adaptor.mars.internal-1658193291.9284303-7888-5-9e0ef75b-c337-4142-90db-8809e334aaf9.nc to ./data/era5/09758X0007_R3.nc (54.8K)\n"
     ]
    },
    {
     "name": "stdout",
     "output_type": "stream",
     "text": [
      "2022-07-21 13:26:19.513073 : Fichier 08022X0010_SP3.nc téléchargé.\n",
      "Fichier 08022X0010_SP3.nc converti en fichier pickle\n",
      "Fichier ./data/era5/08022X0010_SP3.nc.nc supprimé\n"
     ]
    },
    {
     "name": "stderr",
     "output_type": "stream",
     "text": [
      "2022-07-21 13:26:19,773 INFO Downloading https://download-0004-clone.copernicus-climate.eu/cache-compute-0004/cache/data9/adaptor.mars.internal-1658195650.9368443-30460-16-646171d9-f652-46d9-a7e6-7751e461f464.nc to ./data/era5/07107X0039_S3.nc (226K)\n",
      "2022-07-21 13:26:20,058 INFO Download rate 799.8K/s\n",
      "2022-07-21 13:26:20,106 INFO Downloading https://download-0006-clone.copernicus-climate.eu/cache-compute-0006/cache/data4/adaptor.mars.internal-1658195945.22297-20266-16-5060140d-21ca-445a-9850-893e3b9a7497.nc to ./data/era5/09512X0032_PZ3.nc (268.8K)\n"
     ]
    },
    {
     "name": "stdout",
     "output_type": "stream",
     "text": [
      "2022-07-21 13:26:20.059686 : Fichier 07107X0039_S3.nc téléchargé.\n",
      "Fichier 07107X0039_S3.nc converti en fichier pickle\n",
      "Fichier ./data/era5/07107X0039_S3.nc.nc supprimé\n"
     ]
    },
    {
     "name": "stderr",
     "output_type": "stream",
     "text": [
      "2022-07-21 13:26:20,279 INFO Downloading https://download-0017.copernicus-climate.eu/cache-compute-0017/cache/data4/adaptor.mars.internal-1658199535.7385514-11846-12-f8287fa9-3b1b-45e8-babb-4ad48df6843b.nc to ./data/era5/10024X0044_D4.nc (268.8K)\n",
      "2022-07-21 13:26:20,547 INFO Download rate 1004.2K/s\n",
      "2022-07-21 13:26:20,612 INFO Downloading https://download-0000-clone.copernicus-climate.eu/cache-compute-0000/cache/data4/adaptor.mars.internal-1658198725.611275-6669-11-663997a7-8916-455b-987b-ef6483bb930a.nc to ./data/era5/09491X0010_F4.nc (200.3K)\n"
     ]
    },
    {
     "name": "stdout",
     "output_type": "stream",
     "text": [
      "2022-07-21 13:26:20.548337 : Fichier 10024X0044_D4.nc téléchargé.\n",
      "Fichier 10024X0044_D4.nc converti en fichier pickle\n",
      "Fichier ./data/era5/10024X0044_D4.nc.nc supprimé\n"
     ]
    },
    {
     "name": "stderr",
     "output_type": "stream",
     "text": [
      "2022-07-21 13:26:20,786 INFO Downloading https://download-0003-clone.copernicus-climate.eu/cache-compute-0003/cache/data4/adaptor.mars.internal-1658182538.3164337-20897-8-13a70f9a-48cd-482b-8769-d7616e80ca56.nc to ./data/era5/08272X0403_F4.nc (268.8K)\n",
      "2022-07-21 13:26:20,955 INFO Downloading https://download-0000-clone.copernicus-climate.eu/cache-compute-0000/cache/data1/adaptor.mars.internal-1658199537.022464-8176-17-acf9ee4f-a445-45be-a6a1-6bccbaf7bc54.nc to ./data/era5/09782X0013_F4.nc (268.8K)\n",
      "2022-07-21 13:26:21,135 INFO Downloading https://download-0012-clone.copernicus-climate.eu/cache-compute-0012/cache/data5/adaptor.mars.internal-1658199542.8054671-8955-18-aeb5b9f9-4166-4481-a64e-579c1f6cf1f1.nc to ./data/era5/08035X0013_F4.nc (268.8K)\n",
      "2022-07-21 13:26:21,322 INFO Downloading https://download-0007-clone.copernicus-climate.eu/cache-compute-0007/cache/data1/adaptor.mars.internal-1658199539.985999-9406-10-45d2b693-b54e-428d-8292-4aeb57cd3506.nc to ./data/era5/08272X0404_F4.nc (268.8K)\n",
      "2022-07-21 13:26:21,478 INFO Downloading https://download-0008-clone.copernicus-climate.eu/cache-compute-0008/cache/data8/adaptor.mars.internal-1658199537.108715-30616-4-cb82186f-f6aa-4fef-be62-4945f5e5f22e.nc to ./data/era5/08033X0294_F4.nc (268.8K)\n",
      "2022-07-21 13:26:21,656 INFO Downloading https://download-0014-clone.copernicus-climate.eu/cache-compute-0014/cache/data1/adaptor.mars.internal-1658199539.4754176-29976-15-58044a7d-a6bd-4aa9-8fdb-bca7c9aa0a29.nc to ./data/era5/08042X0025_F4.nc (208.9K)\n",
      "2022-07-21 13:26:21,814 INFO Downloading https://download-0004-clone.copernicus-climate.eu/cache-compute-0004/cache/data1/adaptor.mars.internal-1658201864.7698967-3977-1-eaaf6449-6132-46d4-84d5-95bb67786c52.nc to ./data/era5/06115X0025_F4.nc (251.7K)\n",
      "2022-07-21 13:26:21,878 INFO Downloading https://download-0021.copernicus-climate.eu/cache-compute-0021/cache/data6/adaptor.mars.internal-1658201163.2360713-9981-18-d32c3ba5-0451-49c9-85ab-381b7ee79a91.nc to ./data/era5/07588X0045_F4.nc (80.5K)\n",
      "2022-07-21 13:26:22,221 INFO Downloading https://download-0012-clone.copernicus-climate.eu/cache-compute-0012/cache/data9/adaptor.mars.internal-1658202697.623783-14899-3-965fb744-c499-4ed8-8739-34907514d4e3.nc to ./data/era5/07778X0036_F4.nc (217.4K)\n",
      "2022-07-21 13:26:22,375 INFO Downloading https://download-0013-clone.copernicus-climate.eu/cache-compute-0013/cache/data7/adaptor.mars.internal-1658202697.5566936-15330-6-8adc1f6f-c5b5-4e6c-b356-903cd6a999f6.nc to ./data/era5/08272X0487_F4.nc (268.8K)\n",
      "2022-07-21 13:26:22,563 INFO Downloading https://download-0000-clone.copernicus-climate.eu/cache-compute-0000/cache/data7/adaptor.mars.internal-1658202697.626188-3787-1-f91df30a-20fc-48b8-85c1-a95c53dd273a.nc to ./data/era5/07548X0234_PZEM4.nc (208.9K)\n",
      "2022-07-21 13:26:22,728 INFO Downloading https://download-0006-clone.copernicus-climate.eu/cache-compute-0006/cache/data3/adaptor.mars.internal-1658203380.7351947-8120-13-5273217e-4c03-48d2-862c-dc688044c7b5.nc to ./data/era5/08297X0018_P4.nc (20.5K)\n",
      "2022-07-21 13:26:22,872 INFO Downloading https://download-0005-clone.copernicus-climate.eu/cache-compute-0005/cache/data8/adaptor.mars.internal-1658203581.594593-17974-8-19703c0f-384f-484a-b596-05b84acb91dc.nc to ./data/era5/08742X0058_P4.nc (268.8K)\n",
      "2022-07-21 13:26:23,049 INFO Downloading https://download-0007-clone.copernicus-climate.eu/cache-compute-0007/cache/data7/adaptor.mars.internal-1658204236.919107-21664-11-0f0f7a7c-1850-4d41-952a-1f67a6fbed7e.nc to ./data/era5/10295X0032_PZ4.nc (157.5K)\n",
      "2022-07-21 13:26:23,207 INFO Downloading https://download-0002-clone.copernicus-climate.eu/cache-compute-0002/cache/data8/adaptor.mars.internal-1658205601.3976648-3669-3-1c0de946-bf7b-49ba-b55a-43157863349d.nc to ./data/era5/09512X0088_PZ4.nc (268.8K)\n",
      "2022-07-21 13:26:23,378 INFO Downloading https://download-0009-clone.copernicus-climate.eu/cache-compute-0009/cache/data4/adaptor.mars.internal-1658205596.5911293-16143-1-7b519340-eb88-4dc0-8cbb-bcc3147be451.nc to ./data/era5/06385X0069_CHA205.nc (226K)\n",
      "2022-07-21 13:26:23,542 INFO Downloading https://download-0021.copernicus-climate.eu/cache-compute-0021/cache/data2/adaptor.mars.internal-1658202941.9730873-17056-11-11a39a1c-0d86-41be-b330-1f7920511786.nc to ./data/era5/08988X0014_D5.nc (268.8K)\n",
      "2022-07-21 13:26:23,704 INFO Downloading https://download-0000-clone.copernicus-climate.eu/cache-compute-0000/cache/data1/adaptor.mars.internal-1658202435.079178-3108-8-06f20537-bb87-4127-aa41-42914e6fff3b.nc to ./data/era5/10035X0012_F5.nc (174.6K)\n",
      "2022-07-21 13:26:23,876 INFO Downloading https://download-0012-clone.copernicus-climate.eu/cache-compute-0012/cache/data5/adaptor.mars.internal-1658199542.8054671-8955-18-aeb5b9f9-4166-4481-a64e-579c1f6cf1f1.nc to ./data/era5/08035X0393_F5.nc (268.8K)\n",
      "2022-07-21 13:26:24,041 INFO Downloading https://download-0012-clone.copernicus-climate.eu/cache-compute-0012/cache/data5/adaptor.mars.internal-1658207847.993966-12338-14-373ad57d-7c3b-450f-9c7a-9ff811e91fd0.nc to ./data/era5/06162X0008_F5.nc (268.8K)\n",
      "2022-07-21 13:26:24,223 INFO Downloading https://download-0002-clone.copernicus-climate.eu/cache-compute-0002/cache/data2/adaptor.mars.internal-1658205601.856587-13345-10-d592b8a6-672b-43b3-91a9-c930270b85ba.nc to ./data/era5/07791X0204_PZEM5.nc (200.3K)\n",
      "2022-07-21 13:26:24,374 INFO Downloading https://download-0005-clone.copernicus-climate.eu/cache-compute-0005/cache/data7/adaptor.mars.internal-1658205044.9809039-5762-22-5d907a7a-0209-40f7-8465-18cf9575bd5b.nc to ./data/era5/08296X0022_P5.nc (114.7K)\n",
      "2022-07-21 13:26:24,586 INFO Download rate 546.7K/s\n",
      "2022-07-21 13:26:24,628 INFO Downloading https://download-0012-clone.copernicus-climate.eu/cache-compute-0012/cache/data5/adaptor.mars.internal-1658205599.5804446-9287-14-35f9a549-31a5-4397-903b-44596fbc2e5c.nc to ./data/era5/07077X0016_16.nc (106.2K)\n",
      "2022-07-21 13:26:24,792 INFO Downloading https://download-0001-clone.copernicus-climate.eu/cache-compute-0001/cache/data8/adaptor.mars.internal-1658205282.604946-19824-3-da1a108f-0ba3-4971-8fe2-fced80b403fa.nc to ./data/era5/08035X0293_F6.nc (200.3K)\n"
     ]
    },
    {
     "name": "stdout",
     "output_type": "stream",
     "text": [
      "2022-07-21 13:26:24.586143 : Fichier 08296X0022_P5.nc téléchargé.\n",
      "Fichier 08296X0022_P5.nc converti en fichier pickle\n",
      "Fichier ./data/era5/08296X0022_P5.nc.nc supprimé\n"
     ]
    },
    {
     "name": "stderr",
     "output_type": "stream",
     "text": [
      "2022-07-21 13:26:25,728 INFO Downloading https://download-0014-clone.copernicus-climate.eu/cache-compute-0014/cache/data6/adaptor.mars.internal-1658207220.9083548-17377-17-3534467e-fae4-4197-b101-fd6584713765.nc to ./data/era5/09007X0004_F6.nc (268.8K)\n",
      "2022-07-21 13:26:25,868 INFO Downloading https://download-0011-clone.copernicus-climate.eu/cache-compute-0011/cache/data9/adaptor.mars.internal-1658209282.046869-32178-12-33c68a14-7e03-4b45-a77d-5c6813ed6c91.nc to ./data/era5/05402X0036_F6.nc (251.7K)\n",
      "2022-07-21 13:26:26,057 INFO Downloading https://download-0021.copernicus-climate.eu/cache-compute-0021/cache/data5/adaptor.mars.internal-1658207964.8716614-27899-6-89880ba8-bf57-4628-a781-71d6ebbfd72a.nc to ./data/era5/07791X0205_PZEM6.nc (166.1K)\n",
      "2022-07-21 13:26:26,231 INFO Downloading https://download-0002-clone.copernicus-climate.eu/cache-compute-0002/cache/data2/adaptor.mars.internal-1658206745.7381456-28826-10-8243c290-ecb9-4254-8bc3-24fab6c836a8.nc to ./data/era5/08296X0023_P6.nc (71.9K)\n",
      "2022-07-21 13:26:26,383 INFO Downloading https://download-0014-clone.copernicus-climate.eu/cache-compute-0014/cache/data8/adaptor.mars.internal-1658207314.1570914-28669-13-09627d75-fe78-420e-94ff-e0a558c8ae98.nc to ./data/era5/09758X0008_R6.nc (123.3K)\n",
      "2022-07-21 13:26:26,639 INFO Downloading https://download-0009-clone.copernicus-climate.eu/cache-compute-0009/cache/data4/adaptor.mars.internal-1658207968.7473247-30672-10-0d6b7918-2fa7-44f6-9c61-126d98ff131c.nc to ./data/era5/05664X0064_S6.nc (243.1K)\n",
      "2022-07-21 13:26:26,802 INFO Downloading https://download-0000-clone.copernicus-climate.eu/cache-compute-0000/cache/data9/adaptor.mars.internal-1658208492.5900676-21142-16-a7f563dc-44f2-4b34-9e94-5ba493d6b816.nc to ./data/era5/07313X0007_7.nc (106.2K)\n",
      "2022-07-21 13:26:26,952 INFO Downloading https://download-0013-clone.copernicus-climate.eu/cache-compute-0013/cache/data2/adaptor.mars.internal-1658207523.3619168-11470-1-7e67e0e5-1d15-4e08-821a-8490055644e5.nc to ./data/era5/09246X0098_F17.nc (208.9K)\n",
      "2022-07-21 13:26:27,100 INFO Downloading https://download-0004-clone.copernicus-climate.eu/cache-compute-0004/cache/data0/adaptor.mars.internal-1658211264.9608722-31973-12-a5e6e68c-7f44-4a21-8587-1c6a13bb21d4.nc to ./data/era5/09505X0033_D7.nc (251.7K)\n",
      "2022-07-21 13:26:27,394 INFO Downloading https://download-0004-clone.copernicus-climate.eu/cache-compute-0004/cache/data0/adaptor.mars.internal-1658209930.0283031-988-13-d38f3bfa-ace5-410e-9bed-e705ca8e52f5.nc to ./data/era5/07791X0219_PZEM7.nc (166.1K)\n",
      "2022-07-21 13:26:27,576 INFO Downloading https://download-0021.copernicus-climate.eu/cache-compute-0021/cache/data6/adaptor.mars.internal-1658209697.7571628-8495-12-6ad995cf-48fb-4b6e-a103-9e34acfe3b28.nc to ./data/era5/08288X0015_P7.nc (114.7K)\n",
      "2022-07-21 13:26:27,717 INFO Downloading https://download-0005-clone.copernicus-climate.eu/cache-compute-0005/cache/data2/adaptor.mars.internal-1658210027.1343021-19024-3-cd2053cf-84db-4683-bc07-5beea3ed325b.nc to ./data/era5/08534X0010_F8.nc (20.5K)\n",
      "2022-07-21 13:26:27,878 INFO Downloading https://download-0004-clone.copernicus-climate.eu/cache-compute-0004/cache/data2/adaptor.mars.internal-1658209654.8758042-991-16-2ba5a7e9-a0f6-44b5-92c2-550d7c05da2f.nc to ./data/era5/09761X0040_F8.nc (166.1K)\n",
      "2022-07-21 13:26:28,054 INFO Downloading https://download-0009-clone.copernicus-climate.eu/cache-compute-0009/cache/data1/adaptor.mars.internal-1658210488.624428-23296-4-f68b6f37-c619-4cfe-8056-16015afa23f8.nc to ./data/era5/09016X0047_F8.nc (191.8K)\n",
      "2022-07-21 13:26:28,222 INFO Downloading https://download-0006-clone.copernicus-climate.eu/cache-compute-0006/cache/data7/adaptor.mars.internal-1658209913.3921728-8105-9-fb72b467-f81e-4c08-a742-d15f9c554d81.nc to ./data/era5/07795X0105_PZEM8.nc (157.5K)\n",
      "2022-07-21 13:26:28,386 INFO Downloading https://download-0004-clone.copernicus-climate.eu/cache-compute-0004/cache/data5/adaptor.mars.internal-1658210949.8958936-11618-10-9a0f8ed6-dfa3-4d3b-b4c0-882c86fff282.nc to ./data/era5/09765X0154_R8.nc (80.5K)\n",
      "2022-07-21 13:26:28,588 INFO Downloading https://download-0006-clone.copernicus-climate.eu/cache-compute-0006/cache/data5/adaptor.mars.internal-1658210958.358741-17649-6-8d3ca2f5-8292-431b-b92b-6c913309ef0b.nc to ./data/era5/09781X0015_P219.nc (114.7K)\n",
      "2022-07-21 13:26:28,732 INFO Downloading https://download-0013-clone.copernicus-climate.eu/cache-compute-0013/cache/data8/adaptor.mars.internal-1658212502.8486328-22111-5-02953ced-362c-4fdb-b6bf-ba9d20d003a8.nc to ./data/era5/06165X0008_F19.nc (166.1K)\n",
      "2022-07-21 13:26:28,871 INFO Downloading https://download-0019.copernicus-climate.eu/cache-compute-0019/cache/data7/adaptor.mars.internal-1658212793.0461168-12622-14-6e7ff059-8ee5-4828-b1b5-7bb48dddc5ca.nc to ./data/era5/05667X0017_29.nc (243.1K)\n",
      "2022-07-21 13:26:29,028 INFO Downloading https://download-0011-clone.copernicus-climate.eu/cache-compute-0011/cache/data3/adaptor.mars.internal-1658211690.7798264-27590-16-affd4009-5d3f-4448-b22f-255d56b0200c.nc to ./data/era5/07387X0042_F9.nc (157.5K)\n",
      "2022-07-21 13:26:29,178 INFO Downloading https://download-0019.copernicus-climate.eu/cache-compute-0019/cache/data7/adaptor.mars.internal-1658213339.3777502-12895-17-fd6141cd-9f33-47d1-8ac7-661326dc6665.nc to ./data/era5/07555X0027_F9.nc (268.8K)\n",
      "2022-07-21 13:26:29,329 INFO Downloading https://download-0020.copernicus-climate.eu/cache-compute-0020/cache/data8/adaptor.mars.internal-1658213388.810004-25939-8-7b77d9d3-6c28-4ec1-b049-d223f8703172.nc to ./data/era5/07795X0106_PZEM9.nc (157.5K)\n",
      "2022-07-21 13:26:29,472 INFO Downloading https://download-0004-clone.copernicus-climate.eu/cache-compute-0004/cache/data9/adaptor.mars.internal-1658214799.1606753-26165-17-e980b58a-2d19-47c5-aa71-a3df5af742be.nc to ./data/era5/08316X0017_Z9.nc (166.1K)\n",
      "2022-07-21 13:26:29,716 INFO Download rate 680.6K/s\n",
      "2022-07-21 13:26:29,756 INFO Downloading https://download-0003-clone.copernicus-climate.eu/cache-compute-0003/cache/data1/adaptor.mars.internal-1658213350.6713576-11328-9-bafed42c-0cb1-41be-a94d-50e0d10bcea9.nc to ./data/era5/06131X0035_DAUFFA.nc (208.9K)\n"
     ]
    },
    {
     "name": "stdout",
     "output_type": "stream",
     "text": [
      "2022-07-21 13:26:29.716551 : Fichier 08316X0017_Z9.nc téléchargé.\n",
      "Fichier 08316X0017_Z9.nc converti en fichier pickle\n",
      "Fichier ./data/era5/08316X0017_Z9.nc.nc supprimé\n"
     ]
    },
    {
     "name": "stderr",
     "output_type": "stream",
     "text": [
      "2022-07-21 13:26:29,940 INFO Downloading https://download-0017.copernicus-climate.eu/cache-compute-0017/cache/data4/adaptor.mars.internal-1658213347.8473122-28289-14-c5344066-8520-4035-a772-52ad65f19120.nc to ./data/era5/09761X0108_GOUA.nc (157.5K)\n",
      "2022-07-21 13:26:30,192 INFO Download rate 627.9K/s\n",
      "2022-07-21 13:26:30,271 INFO Downloading https://download-0021.copernicus-climate.eu/cache-compute-0021/cache/data0/adaptor.mars.internal-1658214285.3513453-30030-7-53e70b32-3799-46ff-9288-4477fb80523c.nc to ./data/era5/07555X0096_PGE3B.nc (268.8K)\n"
     ]
    },
    {
     "name": "stdout",
     "output_type": "stream",
     "text": [
      "2022-07-21 13:26:30.194845 : Fichier 09761X0108_GOUA.nc téléchargé.\n",
      "Fichier 09761X0108_GOUA.nc converti en fichier pickle\n",
      "Fichier ./data/era5/09761X0108_GOUA.nc.nc supprimé\n"
     ]
    },
    {
     "name": "stderr",
     "output_type": "stream",
     "text": [
      "2022-07-21 13:26:30,449 INFO Downloading https://download-0003-clone.copernicus-climate.eu/cache-compute-0003/cache/data9/adaptor.mars.internal-1658216777.6467469-25201-14-4c41a77a-bf8d-4967-980b-76e70fd78409.nc to ./data/era5/05896X0058_CAGNOC.nc (208.9K)\n",
      "2022-07-21 13:26:30,625 INFO Downloading https://download-0004-clone.copernicus-climate.eu/cache-compute-0004/cache/data3/adaptor.mars.internal-1658217533.4171548-5636-4-f2e9e212-28d2-4679-b292-a3978948ac82.nc to ./data/era5/08515X0031_PZC.nc (268.8K)\n",
      "2022-07-21 13:26:30,681 INFO Downloading https://download-0005-clone.copernicus-climate.eu/cache-compute-0005/cache/data2/adaptor.mars.internal-1658219836.342998-11702-3-f9efa2ba-d463-474a-b094-06c501186dac.nc to ./data/era5/08521X0239_FSYND.nc (183.2K)\n",
      "2022-07-21 13:26:30,876 INFO Downloading https://download-0007-clone.copernicus-climate.eu/cache-compute-0007/cache/data9/adaptor.mars.internal-1658215411.409485-8820-9-551992c8-d715-47ae-9d72-004f4fd6026c.nc to ./data/era5/06843X0003_SOURCE.nc (106.2K)\n",
      "2022-07-21 13:26:31,070 INFO Downloading https://download-0020.copernicus-climate.eu/cache-compute-0020/cache/data6/adaptor.mars.internal-1658218721.0572944-8119-2-e8e894b4-8bdc-491c-91d1-68f8b131657c.nc to ./data/era5/06347X0026_FORGE.nc (268.8K)\n",
      "2022-07-21 13:26:31,223 INFO Downloading https://download-0019.copernicus-climate.eu/cache-compute-0019/cache/data2/adaptor.mars.internal-1658219554.2119467-20753-11-e34caadc-514e-4d77-ae0a-17426d211cf6.nc to ./data/era5/08494X0057_CABARE.nc (268.8K)\n",
      "2022-07-21 13:26:31,392 INFO Downloading https://download-0004-clone.copernicus-climate.eu/cache-compute-0004/cache/data4/adaptor.mars.internal-1658217689.269425-5886-8-cbad7022-0d33-4dde-931f-67310bebda1e.nc to ./data/era5/08753X0010_F.nc (268.8K)\n",
      "2022-07-21 13:26:31,554 INFO Downloading https://download-0001-clone.copernicus-climate.eu/cache-compute-0001/cache/data6/adaptor.mars.internal-1658220007.8093736-9266-1-ea09d801-012d-4c11-9466-b5d3cbaa3501.nc to ./data/era5/09257X0010_F.nc (268.8K)\n",
      "2022-07-21 13:26:32,915 INFO Downloading https://download-0007-clone.copernicus-climate.eu/cache-compute-0007/cache/data1/adaptor.mars.internal-1658220007.790089-12993-7-d244d4be-cb81-4444-90ce-5291f73138ef.nc to ./data/era5/06108X0010_F.nc (268.8K)\n",
      "2022-07-21 13:26:33,077 INFO Downloading https://download-0001-clone.copernicus-climate.eu/cache-compute-0001/cache/data2/adaptor.mars.internal-1658224597.8162768-7820-19-89339828-ce17-4739-a5d7-fcbbb89613fb.nc to ./data/era5/08318X0010_F.nc (226K)\n",
      "2022-07-21 13:26:34,048 INFO Downloading https://download-0016.copernicus-climate.eu/cache-compute-0016/cache/data7/adaptor.mars.internal-1658223691.8921757-18699-7-521f698a-86f2-4831-a36a-b38e687d16e7.nc to ./data/era5/08281X0020_F.nc (243.1K)\n",
      "2022-07-21 13:26:34,202 INFO Downloading https://download-0014-clone.copernicus-climate.eu/cache-compute-0014/cache/data8/adaptor.mars.internal-1658221877.4959815-8665-13-71ec63f3-7406-434b-931d-a0872f10fad5.nc to ./data/era5/06832X0020_F.nc (106.2K)\n",
      "2022-07-21 13:26:34,387 INFO Downloading https://download-0008-clone.copernicus-climate.eu/cache-compute-0008/cache/data3/adaptor.mars.internal-1658224597.9021604-28580-18-305c1609-f7aa-428f-8066-bb1f9b72b7cd.nc to ./data/era5/09784X0020_F.nc (268.8K)\n",
      "2022-07-21 13:26:34,558 INFO Downloading https://download-0003-clone.copernicus-climate.eu/cache-compute-0003/cache/data1/adaptor.mars.internal-1658224361.0513499-4350-9-416b5bec-f0b9-40b6-952b-023832795570.nc to ./data/era5/08535X0020_F.nc (268.8K)\n",
      "2022-07-21 13:26:34,742 INFO Downloading https://download-0016.copernicus-climate.eu/cache-compute-0016/cache/data9/adaptor.mars.internal-1658220347.8519206-17169-2-976cfaa6-4187-47af-973f-5b82d2dc892f.nc to ./data/era5/08517X0020_F.nc (123.3K)\n",
      "2022-07-21 13:26:34,888 INFO Downloading https://download-0015-clone.copernicus-climate.eu/cache-compute-0015/cache/data4/adaptor.mars.internal-1658220215.3236382-13260-18-095d17d5-976c-4c3b-a805-c3fbe63c5742.nc to ./data/era5/08757X0120_F.nc (123.3K)\n",
      "2022-07-21 13:26:35,066 INFO Downloading https://download-0006-clone.copernicus-climate.eu/cache-compute-0006/cache/data7/adaptor.mars.internal-1658228228.5532951-28175-3-9e481ba2-8dcd-4dec-9e3f-acc95126ce3e.nc to ./data/era5/09514X0040_F.nc (200.3K)\n",
      "2022-07-21 13:26:35,235 INFO Downloading https://download-0017.copernicus-climate.eu/cache-compute-0017/cache/data0/adaptor.mars.internal-1658228330.7125287-17651-7-320cd3da-09a6-4b05-8937-9a804e0d48f6.nc to ./data/era5/09254X0040_F.nc (268.8K)\n",
      "2022-07-21 13:26:35,434 INFO Downloading https://download-0017.copernicus-climate.eu/cache-compute-0017/cache/data9/adaptor.mars.internal-1658226773.47123-5022-20-9283957e-e8d8-4490-953f-91006c5e151a.nc to ./data/era5/08037X0040_F.nc (268.8K)\n",
      "2022-07-21 13:26:35,623 INFO Downloading https://download-0010-clone.copernicus-climate.eu/cache-compute-0010/cache/data9/adaptor.mars.internal-1658224597.8121154-15905-8-51d01337-87d0-4222-9d00-18fa2bcf3748.nc to ./data/era5/09513X0050_F.nc (191.8K)\n",
      "2022-07-21 13:26:35,789 INFO Downloading https://download-0012-clone.copernicus-climate.eu/cache-compute-0012/cache/data5/adaptor.mars.internal-1658199542.8054671-8955-18-aeb5b9f9-4166-4481-a64e-579c1f6cf1f1.nc to ./data/era5/08024X0050_F.nc (268.8K)\n",
      "2022-07-21 13:26:35,980 INFO Downloading https://download-0020.copernicus-climate.eu/cache-compute-0020/cache/data2/adaptor.mars.internal-1658223322.8310735-4324-16-71010f3c-cbf7-4fdb-9734-77e14519c2e0.nc to ./data/era5/09248X0050_F.nc (174.6K)\n",
      "2022-07-21 13:26:36,147 INFO Downloading https://download-0012-clone.copernicus-climate.eu/cache-compute-0012/cache/data9/adaptor.mars.internal-1658229383.1860435-24726-13-b33e23f6-7323-4939-96f7-752c6faa7418.nc to ./data/era5/07312X0150_F.nc (106.2K)\n",
      "2022-07-21 13:26:36,329 INFO Downloading https://download-0016.copernicus-climate.eu/cache-compute-0016/cache/data8/adaptor.mars.internal-1658228975.788329-8647-10-e0bc7d3d-b568-4f74-aeb6-598fee6246e1.nc to ./data/era5/08524X0160_F.nc (123.3K)\n",
      "2022-07-21 13:26:36,496 INFO Downloading https://download-0012-clone.copernicus-climate.eu/cache-compute-0012/cache/data9/adaptor.mars.internal-1658178459.4963279-3856-13-22bf5913-6d49-418c-95f0-27d69f64844a.nc to ./data/era5/08035X0270_F.nc (268.8K)\n",
      "2022-07-21 13:26:36,673 INFO Downloading https://download-0020.copernicus-climate.eu/cache-compute-0020/cache/data0/adaptor.mars.internal-1658227647.7715635-15685-9-b34ac8fc-b223-45d9-8485-3eebcf78c6a5.nc to ./data/era5/06828X0180_F.nc (106.2K)\n",
      "2022-07-21 13:26:36,832 INFO Downloading https://download-0019.copernicus-climate.eu/cache-compute-0019/cache/data6/adaptor.mars.internal-1658228461.4964173-30164-20-9abefcfd-3763-4e24-bd22-006cc6e4f9f7.nc to ./data/era5/06351X0090_F.nc (157.5K)\n",
      "2022-07-21 13:26:36,974 INFO Downloading https://download-0016.copernicus-climate.eu/cache-compute-0016/cache/data9/adaptor.mars.internal-1658229876.108674-29181-17-f0bbf9a4-b769-4137-8e55-9edd65898b58.nc to ./data/era5/08276X0090_F.nc (268.8K)\n",
      "2022-07-21 13:26:37,144 INFO Downloading https://download-0008-clone.copernicus-climate.eu/cache-compute-0008/cache/data8/adaptor.mars.internal-1658226951.8477006-7149-4-08f31628-b6d0-4563-958b-4bfacd83734b.nc to ./data/era5/06601X0001_F.nc (106.2K)\n",
      "2022-07-21 13:26:37,791 INFO Download rate 163.9K/s\n",
      "2022-07-21 13:26:37,822 INFO Downloading https://download-0011-clone.copernicus-climate.eu/cache-compute-0011/cache/data7/adaptor.mars.internal-1658232779.034777-7472-6-a49184df-80c0-442c-8045-a3f632fe0262.nc to ./data/era5/08051X0001_F.nc (268.8K)\n"
     ]
    },
    {
     "name": "stdout",
     "output_type": "stream",
     "text": [
      "2022-07-21 13:26:37.791996 : Fichier 06601X0001_F.nc téléchargé.\n",
      "Fichier 06601X0001_F.nc converti en fichier pickle\n",
      "Fichier ./data/era5/06601X0001_F.nc.nc supprimé\n"
     ]
    },
    {
     "name": "stderr",
     "output_type": "stream",
     "text": [
      "2022-07-21 13:26:38,012 INFO Downloading https://download-0010-clone.copernicus-climate.eu/cache-compute-0010/cache/data2/adaptor.mars.internal-1658232779.0062742-21102-4-0c6471cd-50da-458e-b431-eb7a605c18cb.nc to ./data/era5/08512X0001_F.nc (114.7K)\n",
      "2022-07-21 13:26:38,170 INFO Downloading https://download-0009-clone.copernicus-climate.eu/cache-compute-0009/cache/data2/adaptor.mars.internal-1658232790.1522305-31736-2-bb93f695-a02a-4237-81bd-1de3f660877a.nc to ./data/era5/07794X0001_F.nc (268.8K)\n",
      "2022-07-21 13:26:38,358 INFO Downloading https://download-0006-clone.copernicus-climate.eu/cache-compute-0006/cache/data5/adaptor.mars.internal-1658232353.713741-24346-6-5c026fd3-4a8a-40b9-8ca9-109087cf2482.nc to ./data/era5/08985X0001_F.nc (166.1K)\n",
      "2022-07-21 13:26:38,506 INFO Downloading https://download-0014-clone.copernicus-climate.eu/cache-compute-0014/cache/data2/adaptor.mars.internal-1658232793.4896421-16116-6-60755cd7-3a12-486a-8733-44c6f498352b.nc to ./data/era5/08766X0001_F.nc (208.9K)\n",
      "2022-07-21 13:26:38,662 INFO Downloading https://download-0019.copernicus-climate.eu/cache-compute-0019/cache/data9/adaptor.mars.internal-1658232778.944502-20182-10-cde96137-6177-41b6-85c0-5082d6621879.nc to ./data/era5/08527X0001_F.nc (268.8K)\n",
      "2022-07-21 13:26:38,864 INFO Downloading https://download-0017.copernicus-climate.eu/cache-compute-0017/cache/data5/adaptor.mars.internal-1658232779.532728-21337-9-af67447d-7d5b-4baf-85dd-2e36b95c1962.nc to ./data/era5/08988X0001_F.nc (268.8K)\n",
      "2022-07-21 13:26:39,025 INFO Downloading https://download-0008-clone.copernicus-climate.eu/cache-compute-0008/cache/data9/adaptor.mars.internal-1658236455.008644-22723-5-ccf3a455-3e9e-4dc1-b196-9b8956fdce2e.nc to ./data/era5/07811X0011_F.nc (234.6K)\n",
      "2022-07-21 13:26:39,095 INFO Downloading https://download-0015-clone.copernicus-climate.eu/cache-compute-0015/cache/data4/adaptor.mars.internal-1658238703.8961818-31661-8-ebd3c5a3-9208-495e-9e14-4fae640a355b.nc to ./data/era5/09781X0011_F.nc (268.8K)\n",
      "2022-07-21 13:26:39,272 INFO Downloading https://download-0002-clone.copernicus-climate.eu/cache-compute-0002/cache/data8/adaptor.mars.internal-1658238703.9641201-22657-4-575dd17a-af9e-4eb3-9eb1-0e3b504fa346.nc to ./data/era5/08302X0011_F.nc (268.8K)\n",
      "2022-07-21 13:26:39,460 INFO Downloading https://download-0009-clone.copernicus-climate.eu/cache-compute-0009/cache/data1/adaptor.mars.internal-1658238274.756296-29101-2-33bf116c-4a7a-40ad-b9a0-4a2b7763b0af.nc to ./data/era5/08522X0011_F.nc (268.8K)\n",
      "2022-07-21 13:26:39,621 INFO Downloading https://download-0010-clone.copernicus-climate.eu/cache-compute-0010/cache/data0/adaptor.mars.internal-1658237236.2270715-21102-5-7edade95-47c9-4225-98bc-851089e71507.nc to ./data/era5/08773X0011_F.nc (268.8K)\n",
      "2022-07-21 13:26:39,779 INFO Downloading https://download-0014-clone.copernicus-climate.eu/cache-compute-0014/cache/data1/adaptor.mars.internal-1658242255.046916-20584-15-0cce2056-225a-4dca-8753-6b92f1991534.nc to ./data/era5/09025X0011_F.nc (166.1K)\n",
      "2022-07-21 13:26:39,958 INFO Downloading https://download-0007-clone.copernicus-climate.eu/cache-compute-0007/cache/data1/adaptor.mars.internal-1658220007.790089-12993-7-d244d4be-cb81-4444-90ce-5291f73138ef.nc to ./data/era5/06108X0011_F.nc (268.8K)\n",
      "2022-07-21 13:26:40,127 INFO Downloading https://download-0013-clone.copernicus-climate.eu/cache-compute-0013/cache/data2/adaptor.mars.internal-1658243446.3932009-3873-2-7bb9039c-dedd-41bf-aefa-a28e14f489ab.nc to ./data/era5/08278X0111_F.nc (268.8K)\n",
      "2022-07-21 13:26:40,280 INFO Downloading https://download-0017.copernicus-climate.eu/cache-compute-0017/cache/data0/adaptor.mars.internal-1658243446.9129796-26257-3-b39885c1-d8f6-40fb-b4a3-9deb682d8854.nc to ./data/era5/08032X0221_F.nc (268.8K)\n",
      "2022-07-21 13:26:40,460 INFO Downloading https://download-0020.copernicus-climate.eu/cache-compute-0020/cache/data4/adaptor.mars.internal-1658242024.7159274-27798-1-ae8ce254-fd10-47a1-8b9d-a4e147238727.nc to ./data/era5/08034X0031_F.nc (268.8K)\n",
      "2022-07-21 13:26:40,645 INFO Downloading https://download-0019.copernicus-climate.eu/cache-compute-0019/cache/data7/adaptor.mars.internal-1658238703.9638784-25618-12-ecc8bc6c-5cb5-4cd9-9a8d-d28546c4c505.nc to ./data/era5/09761X0041_F.nc (149K)\n",
      "2022-07-21 13:26:40,813 INFO Downloading https://download-0015-clone.copernicus-climate.eu/cache-compute-0015/cache/data9/adaptor.mars.internal-1658236071.7164109-32736-7-3f6d86cb-14f6-4ed8-9bbf-6fefa09a7425.nc to ./data/era5/06835X0051_F.nc (106.2K)\n",
      "2022-07-21 13:26:40,972 INFO Downloading https://download-0000-clone.copernicus-climate.eu/cache-compute-0000/cache/data5/adaptor.mars.internal-1658238703.866634-11851-8-cfc7c0d6-bc39-4810-b43d-5d4d450ff4a2.nc to ./data/era5/09006X0051_F.nc (268.8K)\n",
      "2022-07-21 13:26:41,221 INFO Download rate 1.1M/s\n",
      "2022-07-21 13:26:41,256 INFO Downloading https://download-0015-clone.copernicus-climate.eu/cache-compute-0015/cache/data9/adaptor.mars.internal-1658248065.8729517-4130-7-8800ebe4-c28e-4bfa-9c27-6990e8a4c01d.nc to ./data/era5/08272X0391_F.nc (268.8K)\n",
      "2022-07-21 13:26:41,400 INFO Downloading https://download-0010-clone.copernicus-climate.eu/cache-compute-0010/cache/data9/adaptor.mars.internal-1658244967.920185-14304-11-3fbb28d0-7bf8-468c-92bb-ce7738d4cbe0.nc to ./data/era5/06601X0002_F.nc (106.2K)\n"
     ]
    },
    {
     "name": "stdout",
     "output_type": "stream",
     "text": [
      "2022-07-21 13:26:41.222393 : Fichier 09006X0051_F.nc téléchargé.\n",
      "Fichier 09006X0051_F.nc converti en fichier pickle\n",
      "Fichier ./data/era5/09006X0051_F.nc.nc supprimé\n"
     ]
    },
    {
     "name": "stderr",
     "output_type": "stream",
     "text": [
      "2022-07-21 13:26:41,547 INFO Downloading https://download-0002-clone.copernicus-climate.eu/cache-compute-0002/cache/data3/adaptor.mars.internal-1658244731.1269772-18719-2-403d7c82-00c5-46b8-9c60-b933c51925da.nc to ./data/era5/06834X0002_F.nc (106.2K)\n",
      "2022-07-21 13:26:41,693 INFO Downloading https://download-0005-clone.copernicus-climate.eu/cache-compute-0005/cache/data9/adaptor.mars.internal-1658246967.3297377-24565-5-e300c11e-646a-4f9f-be8a-0aa8a33dd951.nc to ./data/era5/08785X0002_F.nc (268.8K)\n",
      "2022-07-21 13:26:41,855 INFO Downloading https://download-0000-clone.copernicus-climate.eu/cache-compute-0000/cache/data8/adaptor.mars.internal-1658244483.2142282-25074-5-4105bb4f-5af0-4b03-9432-bf1ed41e07f2.nc to ./data/era5/08516X0002_F.nc (268.8K)\n",
      "2022-07-21 13:26:42,013 INFO Download rate 1.7M/s\n",
      "2022-07-21 13:26:42,056 INFO Downloading https://download-0014-clone.copernicus-climate.eu/cache-compute-0014/cache/data0/adaptor.mars.internal-1658242832.6474195-22651-15-4389b1e8-90ca-48bb-b0cf-d288febb2cf3.nc to ./data/era5/08767X0002_F.nc (166.1K)\n"
     ]
    },
    {
     "name": "stdout",
     "output_type": "stream",
     "text": [
      "2022-07-21 13:26:42.013795 : Fichier 08516X0002_F.nc téléchargé.\n",
      "Fichier 08516X0002_F.nc converti en fichier pickle\n",
      "Fichier ./data/era5/08516X0002_F.nc.nc supprimé\n"
     ]
    },
    {
     "name": "stderr",
     "output_type": "stream",
     "text": [
      "2022-07-21 13:26:42,230 INFO Downloading https://download-0016.copernicus-climate.eu/cache-compute-0016/cache/data8/adaptor.mars.internal-1658243196.661948-27100-6-07a44885-e936-449b-b449-7a1eef00a62c.nc to ./data/era5/07104X0502_F.nc (208.9K)\n",
      "2022-07-21 13:26:42,370 INFO Downloading https://download-0009-clone.copernicus-climate.eu/cache-compute-0009/cache/data4/adaptor.mars.internal-1658251391.3950114-20205-9-35f78124-46df-4fe6-837c-939e7f8e2557.nc to ./data/era5/08062X0012_F.nc (226K)\n",
      "2022-07-21 13:26:42,521 INFO Downloading https://download-0005-clone.copernicus-climate.eu/cache-compute-0005/cache/data8/adaptor.mars.internal-1658248295.3723865-15939-8-53765918-f765-4007-8152-d8ce4433d022.nc to ./data/era5/07834X0012_F.nc (174.6K)\n",
      "2022-07-21 13:26:42,678 INFO Downloading https://download-0009-clone.copernicus-climate.eu/cache-compute-0009/cache/data1/adaptor.mars.internal-1658249298.503336-17960-5-dec83c90-b78d-48d4-8a78-93c2affe6d37.nc to ./data/era5/09247X0112_F.nc (251.7K)\n",
      "2022-07-21 13:26:42,824 INFO Downloading https://download-0021.copernicus-climate.eu/cache-compute-0021/cache/data2/adaptor.mars.internal-1658248065.8886745-23487-13-795576ea-41af-4b71-b159-0866f85e1222.nc to ./data/era5/05892X0032_F.nc (200.3K)\n",
      "2022-07-21 13:26:42,966 INFO Downloading https://download-0009-clone.copernicus-climate.eu/cache-compute-0009/cache/data0/adaptor.mars.internal-1658247626.8176925-23356-4-a7e15185-b763-4075-92a4-02f4c34a1d30.nc to ./data/era5/10305X0232_F.nc (174.6K)\n",
      "2022-07-21 13:26:43,152 INFO Downloading https://download-0001-clone.copernicus-climate.eu/cache-compute-0001/cache/data8/adaptor.mars.internal-1658248066.1349525-27480-8-f0eb9f6a-3f80-4523-b369-c8a42e883ae5.nc to ./data/era5/09027X0042_F.nc (226K)\n",
      "2022-07-21 13:26:43,556 INFO Downloading https://download-0017.copernicus-climate.eu/cache-compute-0017/cache/data0/adaptor.mars.internal-1658243446.9129796-26257-3-b39885c1-d8f6-40fb-b4a3-9deb682d8854.nc to ./data/era5/08031X0172_F.nc (268.8K)\n",
      "2022-07-21 13:26:43,735 INFO Downloading https://download-0009-clone.copernicus-climate.eu/cache-compute-0009/cache/data4/adaptor.mars.internal-1658246367.022527-9772-1-3fbaab6f-a7ee-49fc-8fe9-b78bfd2116d0.nc to ./data/era5/06831X0082_F.nc (106.2K)\n",
      "2022-07-21 13:26:43,920 INFO Downloading https://download-0007-clone.copernicus-climate.eu/cache-compute-0007/cache/data6/adaptor.mars.internal-1658254274.0818496-17014-5-874c23e6-bf92-4ecf-97a9-929e0780c566.nc to ./data/era5/08507X0013_F.nc (268.8K)\n",
      "2022-07-21 13:26:44,191 INFO Download rate 988.8K/s\n",
      "2022-07-21 13:26:44,223 INFO Downloading https://download-0002-clone.copernicus-climate.eu/cache-compute-0002/cache/data3/adaptor.mars.internal-1658251885.3583887-19360-12-db0584ee-7b9d-44fb-9bce-934a86be4d13.nc to ./data/era5/06334X0023_F.nc (208.9K)\n",
      "2022-07-21 13:26:44,390 INFO Downloading https://download-0002-clone.copernicus-climate.eu/cache-compute-0002/cache/data7/adaptor.mars.internal-1658252250.3561952-12972-19-17d49a0a-91b0-4d11-97f5-864c59b65ed5.nc to ./data/era5/08273X0354_F.nc (268.8K)\n"
     ]
    },
    {
     "name": "stdout",
     "output_type": "stream",
     "text": [
      "2022-07-21 13:26:44.191895 : Fichier 08507X0013_F.nc téléchargé.\n",
      "Fichier 08507X0013_F.nc converti en fichier pickle\n",
      "Fichier ./data/era5/08507X0013_F.nc.nc supprimé\n"
     ]
    },
    {
     "name": "stderr",
     "output_type": "stream",
     "text": [
      "2022-07-21 13:26:44,537 INFO Downloading https://download-0002-clone.copernicus-climate.eu/cache-compute-0002/cache/data7/adaptor.mars.internal-1658251885.567675-18383-18-e7f42c30-7f88-4b9b-b7e2-c5334522dabb.nc to ./data/era5/09022X0005_F.nc (208.9K)\n",
      "2022-07-21 13:26:44,706 INFO Downloading https://download-0007-clone.copernicus-climate.eu/cache-compute-0007/cache/data1/adaptor.mars.internal-1658251885.2613995-1196-10-d59216eb-dcbb-4c33-8f44-6593d1a90a4a.nc to ./data/era5/09258X0005_F.nc (217.4K)\n",
      "2022-07-21 13:26:44,806 INFO Downloading https://download-0001-clone.copernicus-climate.eu/cache-compute-0001/cache/data7/adaptor.mars.internal-1658250399.769466-24457-20-6328ac23-d28a-4a06-9e34-8e3314a3130a.nc to ./data/era5/09273X0205_F.nc (157.5K)\n",
      "2022-07-21 13:26:45,892 INFO Download rate 145.1K/s\n",
      "2022-07-21 13:26:45,937 INFO Downloading https://download-0008-clone.copernicus-climate.eu/cache-compute-0008/cache/data9/adaptor.mars.internal-1658257703.232643-3462-2-21efaa88-1ef9-478a-8ffd-56fc6e9d6b8b.nc to ./data/era5/09511X0015_F.nc (268.8K)\n"
     ]
    },
    {
     "name": "stdout",
     "output_type": "stream",
     "text": [
      "2022-07-21 13:26:45.892194 : Fichier 09273X0205_F.nc téléchargé.\n",
      "Fichier 09273X0205_F.nc converti en fichier pickle\n",
      "Fichier ./data/era5/09273X0205_F.nc.nc supprimé\n"
     ]
    },
    {
     "name": "stderr",
     "output_type": "stream",
     "text": [
      "2022-07-21 13:26:46,092 INFO Downloading https://download-0008-clone.copernicus-climate.eu/cache-compute-0008/cache/data1/adaptor.mars.internal-1658257166.4598567-30201-19-ec0d8dac-2e23-4f58-91fc-7caa27742968.nc to ./data/era5/09512X0015_F.nc (234.6K)\n",
      "2022-07-21 13:26:46,258 INFO Downloading https://download-0021.copernicus-climate.eu/cache-compute-0021/cache/data2/adaptor.mars.internal-1658256068.5033543-23022-20-db30c17d-2a97-4d69-b307-fef295a37c8b.nc to ./data/era5/08314X0015_F.nc (226K)\n",
      "2022-07-21 13:26:46,410 INFO Downloading https://download-0018.copernicus-climate.eu/cache-compute-0018/cache/data5/adaptor.mars.internal-1658255670.664469-22699-19-6da4bba9-5a6f-4ddb-a4c0-770c1f04efa4.nc to ./data/era5/07825X0015_F.nc (208.9K)\n",
      "2022-07-21 13:26:46,562 INFO Downloading https://download-0006-clone.copernicus-climate.eu/cache-compute-0006/cache/data6/adaptor.mars.internal-1658253930.1701212-26422-12-f16d401b-fcf9-4705-a860-34db1dbb6279.nc to ./data/era5/06606X0015_F.nc (97.6K)\n",
      "2022-07-21 13:26:46,783 INFO Download rate 440.8K/s\n",
      "2022-07-21 13:26:46,827 INFO Downloading https://download-0018.copernicus-climate.eu/cache-compute-0018/cache/data4/adaptor.mars.internal-1658256600.7066681-15016-15-125edca1-a74a-40e3-ae83-e796b95f9aea.nc to ./data/era5/08036X0015_F.nc (268.8K)\n"
     ]
    },
    {
     "name": "stdout",
     "output_type": "stream",
     "text": [
      "2022-07-21 13:26:46.784517 : Fichier 06606X0015_F.nc téléchargé.\n",
      "Fichier 06606X0015_F.nc converti en fichier pickle\n",
      "Fichier ./data/era5/06606X0015_F.nc.nc supprimé\n"
     ]
    },
    {
     "name": "stderr",
     "output_type": "stream",
     "text": [
      "2022-07-21 13:26:47,034 INFO Downloading https://download-0021.copernicus-climate.eu/cache-compute-0021/cache/data6/adaptor.mars.internal-1658253200.4292781-6994-6-fe448bbf-331f-45a7-b9b3-c969fec194c5.nc to ./data/era5/06356X0015_F.nc (157.5K)\n",
      "2022-07-21 13:26:47,210 INFO Downloading https://download-0013-clone.copernicus-climate.eu/cache-compute-0013/cache/data0/adaptor.mars.internal-1658259638.7626498-3983-15-1ce323dd-561f-4fd1-8aa0-f478b79494e1.nc to ./data/era5/08037X0015_F.nc (268.8K)\n",
      "2022-07-21 13:26:47,445 INFO Download rate 1.1M/s\n",
      "2022-07-21 13:26:47,489 INFO Downloading https://download-0017.copernicus-climate.eu/cache-compute-0017/cache/data4/adaptor.mars.internal-1658258323.2223809-12763-14-e549efd1-5d6d-4053-98fa-3f4a083657dd.nc to ./data/era5/07348X0015_F.nc (174.7K)\n"
     ]
    },
    {
     "name": "stdout",
     "output_type": "stream",
     "text": [
      "2022-07-21 13:26:47.446390 : Fichier 08037X0015_F.nc téléchargé.\n",
      "Fichier 08037X0015_F.nc converti en fichier pickle\n",
      "Fichier ./data/era5/08037X0015_F.nc.nc supprimé\n"
     ]
    },
    {
     "name": "stderr",
     "output_type": "stream",
     "text": [
      "2022-07-21 13:26:47,704 INFO Download rate 818.5K/s\n",
      "2022-07-21 13:26:47,750 INFO Downloading https://download-0021.copernicus-climate.eu/cache-compute-0021/cache/data3/adaptor.mars.internal-1658261516.3874998-32501-1-2d98e71c-b471-4ca6-bce4-98996608ea19.nc to ./data/era5/09788X0015_F.nc (268.8K)\n"
     ]
    },
    {
     "name": "stdout",
     "output_type": "stream",
     "text": [
      "2022-07-21 13:26:47.705077 : Fichier 07348X0015_F.nc téléchargé.\n",
      "Fichier 07348X0015_F.nc converti en fichier pickle\n",
      "Fichier ./data/era5/07348X0015_F.nc.nc supprimé\n"
     ]
    },
    {
     "name": "stderr",
     "output_type": "stream",
     "text": [
      "2022-07-21 13:26:47,933 INFO Downloading https://download-0009-clone.copernicus-climate.eu/cache-compute-0009/cache/data8/adaptor.mars.internal-1658258212.30142-7986-11-b012283d-f7e1-4b3e-88b1-44c0a462ce8e.nc to ./data/era5/06835X0115_F.nc (106.2K)\n",
      "2022-07-21 13:26:48,139 INFO Downloading https://download-0009-clone.copernicus-climate.eu/cache-compute-0009/cache/data3/adaptor.mars.internal-1658257702.94416-13349-15-fb8f7d93-e52d-47ac-b8a0-b96268528e48.nc to ./data/era5/08275X0025_F.nc (268.8K)\n",
      "2022-07-21 13:26:48,425 INFO Download rate 942.1K/s\n",
      "2022-07-21 13:26:48,479 INFO Downloading https://download-0012-clone.copernicus-climate.eu/cache-compute-0012/cache/data9/adaptor.mars.internal-1658178459.4963279-3856-13-22bf5913-6d49-418c-95f0-27d69f64844a.nc to ./data/era5/08035X0425_F.nc (268.8K)\n"
     ]
    },
    {
     "name": "stdout",
     "output_type": "stream",
     "text": [
      "2022-07-21 13:26:48.426773 : Fichier 08275X0025_F.nc téléchargé.\n",
      "Fichier 08275X0025_F.nc converti en fichier pickle\n",
      "Fichier ./data/era5/08275X0025_F.nc.nc supprimé\n"
     ]
    },
    {
     "name": "stderr",
     "output_type": "stream",
     "text": [
      "2022-07-21 13:26:48,661 INFO Downloading https://download-0004-clone.copernicus-climate.eu/cache-compute-0004/cache/data0/adaptor.mars.internal-1658263180.0823507-11428-6-48749b16-c37a-4534-b47d-b493f45559d8.nc to ./data/era5/06813X0035_F.nc (208.9K)\n",
      "2022-07-21 13:26:48,830 INFO Downloading https://download-0017.copernicus-climate.eu/cache-compute-0017/cache/data7/adaptor.mars.internal-1658260665.214837-7653-8-0e551562-686b-4710-b95b-70ac5a22aa45.nc to ./data/era5/06823X0045_F.nc (106.2K)\n",
      "2022-07-21 13:26:48,891 INFO Downloading https://download-0019.copernicus-climate.eu/cache-compute-0019/cache/data2/adaptor.mars.internal-1658219554.2119467-20753-11-e34caadc-514e-4d77-ae0a-17426d211cf6.nc to ./data/era5/08493X0045_F.nc (268.8K)\n",
      "2022-07-21 13:26:49,055 INFO Downloading https://download-0020.copernicus-climate.eu/cache-compute-0020/cache/data5/adaptor.mars.internal-1658260397.5662475-30061-17-ac70b5b4-f3cb-48bc-8a58-9444d5fb7059.nc to ./data/era5/09264X0045_F.nc (114.7K)\n",
      "2022-07-21 13:26:49,223 INFO Downloading https://download-0006-clone.copernicus-climate.eu/cache-compute-0006/cache/data7/adaptor.mars.internal-1658261045.9235628-4122-17-94e5016b-44b2-4956-a304-2a521f8052ae.nc to ./data/era5/10306X0245_F.nc (174.6K)\n",
      "2022-07-21 13:26:49,404 INFO Downloading https://download-0019.copernicus-climate.eu/cache-compute-0019/cache/data3/adaptor.mars.internal-1658262080.2133226-3075-5-ee6ad75e-f583-4d9e-ae10-256355fd4d28.nc to ./data/era5/08752X0055_F.nc (268.8K)\n",
      "2022-07-21 13:26:49,640 INFO Downloading https://download-0015-clone.copernicus-climate.eu/cache-compute-0015/cache/data1/adaptor.mars.internal-1658260218.6728473-24493-3-1db96729-a9e6-4579-8c0b-3bd7aa420725.nc to ./data/era5/07072X0065_F.nc (106.2K)\n",
      "2022-07-21 13:26:49,807 INFO Downloading https://download-0014-clone.copernicus-climate.eu/cache-compute-0014/cache/data0/adaptor.mars.internal-1658264211.066408-7390-16-11b15f08-48e8-4dcb-a215-fe35d12959a6.nc to ./data/era5/06836X0065_F.nc (106.2K)\n",
      "2022-07-21 13:26:50,022 INFO Downloading https://download-0008-clone.copernicus-climate.eu/cache-compute-0008/cache/data1/adaptor.mars.internal-1658263825.394333-4852-17-5a143e98-2fe5-4ba0-ba56-ea756613c93c.nc to ./data/era5/09012X0006_F.nc (157.5K)\n",
      "2022-07-21 13:26:50,183 INFO Downloading https://download-0001-clone.copernicus-climate.eu/cache-compute-0001/cache/data8/adaptor.mars.internal-1658264322.057243-25460-3-04b6879d-0e1c-4b64-876a-20be9f2dd69c.nc to ./data/era5/07813X0006_F.nc (268.8K)\n",
      "2022-07-21 13:26:51,190 INFO Downloading https://download-0010-clone.copernicus-climate.eu/cache-compute-0010/cache/data5/adaptor.mars.internal-1658266967.1557455-7300-15-a495dd4b-6b47-47f3-91cf-6138d602c058.nc to ./data/era5/05133X0006_F.nc (251.7K)\n",
      "2022-07-21 13:26:51,337 INFO Downloading https://download-0006-clone.copernicus-climate.eu/cache-compute-0006/cache/data4/adaptor.mars.internal-1658265001.3792434-8242-17-c2b0a34e-b0c9-4759-b54a-dc59e844d8b6.nc to ./data/era5/08773X0006_F.nc (200.3K)\n",
      "2022-07-21 13:26:51,475 INFO Downloading https://download-0007-clone.copernicus-climate.eu/cache-compute-0007/cache/data4/adaptor.mars.internal-1658263807.1944544-19801-13-b234bcd0-94c8-487e-b42a-192526f1bf56.nc to ./data/era5/07355X0006_F.nc (226K)\n",
      "2022-07-21 13:26:51,675 INFO Downloading https://download-0018.copernicus-climate.eu/cache-compute-0018/cache/data7/adaptor.mars.internal-1658264082.573518-27722-2-dd7aa6ec-dc85-45e2-915d-f2666b93c525.nc to ./data/era5/08555X0006_F.nc (268.8K)\n",
      "2022-07-21 13:26:51,854 INFO Downloading https://download-0021.copernicus-climate.eu/cache-compute-0021/cache/data1/adaptor.mars.internal-1658266822.341019-15701-10-cbd6f9fc-7139-428e-bf00-c28857f256b3.nc to ./data/era5/09266X0006_F.nc (200.3K)\n",
      "2022-07-21 13:26:52,028 INFO Downloading https://download-0000-clone.copernicus-climate.eu/cache-compute-0000/cache/data1/adaptor.mars.internal-1658268318.4135466-13887-3-96368c42-fcab-418a-b8f2-664ff3bbc7b7.nc to ./data/era5/08276X0006_F.nc (268.8K)\n",
      "2022-07-21 13:26:52,192 INFO Downloading https://download-0010-clone.copernicus-climate.eu/cache-compute-0010/cache/data9/adaptor.mars.internal-1658266968.1114285-10583-8-f7628476-adce-43aa-9c45-736b3e4d72aa.nc to ./data/era5/07597X0006_F.nc (226K)\n",
      "2022-07-21 13:26:52,355 INFO Downloading https://download-0015-clone.copernicus-climate.eu/cache-compute-0015/cache/data3/adaptor.mars.internal-1658268179.879473-21615-4-e6cce733-b586-409f-b1e2-fd509d6983e1.nc to ./data/era5/09248X0006_F.nc (191.8K)\n",
      "2022-07-21 13:26:52,555 INFO Downloading https://download-0007-clone.copernicus-climate.eu/cache-compute-0007/cache/data4/adaptor.mars.internal-1658269996.4884315-4567-13-dc9c63e6-f565-4c72-9277-a373fd3161ed.nc to ./data/era5/09023X0016_F.nc (268.8K)\n",
      "2022-07-21 13:26:52,725 INFO Downloading https://download-0016.copernicus-climate.eu/cache-compute-0016/cache/data7/adaptor.mars.internal-1658266102.2373247-13695-15-07948e7a-e1bc-4030-8942-935593bf4142.nc to ./data/era5/06837X0016_F.nc (46.2K)\n",
      "2022-07-21 13:26:52,878 INFO Downloading https://download-0013-clone.copernicus-climate.eu/cache-compute-0013/cache/data7/adaptor.mars.internal-1658266669.8870027-9947-13-8ea32be8-7940-496f-842a-858e3ac7d8ea.nc to ./data/era5/06835X0116_F.nc (106.2K)\n",
      "2022-07-21 13:26:53,056 INFO Downloading https://download-0006-clone.copernicus-climate.eu/cache-compute-0006/cache/data5/adaptor.mars.internal-1658266963.5898898-12996-4-ffeaed8d-18d9-4704-95d6-aad34fcbf11d.nc to ./data/era5/09268X0216_F.nc (183.2K)\n",
      "2022-07-21 13:26:53,209 INFO Downloading https://download-0000-clone.copernicus-climate.eu/cache-compute-0000/cache/data8/adaptor.mars.internal-1658269996.62478-5307-5-a5adfa72-1ffb-44d8-be4f-95694bae0e77.nc to ./data/era5/08071X0026_F.nc (226K)\n",
      "2022-07-21 13:26:53,456 INFO Download rate 916.1K/s\n",
      "2022-07-21 13:26:53,493 INFO Downloading https://download-0019.copernicus-climate.eu/cache-compute-0019/cache/data3/adaptor.mars.internal-1658269842.6122243-5525-5-01feb34b-eeb5-4e79-869f-7320c6ea51b2.nc to ./data/era5/08987X0026_F.nc (217.4K)\n"
     ]
    },
    {
     "name": "stdout",
     "output_type": "stream",
     "text": [
      "2022-07-21 13:26:53.457167 : Fichier 08071X0026_F.nc téléchargé.\n",
      "Fichier 08071X0026_F.nc converti en fichier pickle\n",
      "Fichier ./data/era5/08071X0026_F.nc.nc supprimé\n"
     ]
    },
    {
     "name": "stderr",
     "output_type": "stream",
     "text": [
      "2022-07-21 13:26:53,699 INFO Downloading https://download-0020.copernicus-climate.eu/cache-compute-0020/cache/data1/adaptor.mars.internal-1658270184.0261734-7095-18-affdc00f-2fe6-455a-ae40-a92bd1f6b741.nc to ./data/era5/09265X0036_F.nc (268.8K)\n",
      "2022-07-21 13:26:53,879 INFO Downloading https://download-0013-clone.copernicus-climate.eu/cache-compute-0013/cache/data2/adaptor.mars.internal-1658270366.7371166-5573-1-abf153de-3c3e-4cf9-9b3b-949dd9fdbeb5.nc to ./data/era5/08272X0136_F.nc (268.8K)\n",
      "2022-07-21 13:26:54,057 INFO Downloading https://download-0017.copernicus-climate.eu/cache-compute-0017/cache/data9/adaptor.mars.internal-1658270719.391068-14634-18-fe5bf1a5-3a78-4b50-9e5b-b50242ab8680.nc to ./data/era5/08524X0046_F.nc (140.4K)\n",
      "2022-07-21 13:26:54,311 INFO Downloading https://download-0007-clone.copernicus-climate.eu/cache-compute-0007/cache/data7/adaptor.mars.internal-1658270486.5792303-18188-19-3ef82dab-7cf4-49b6-a5b8-c4c4c12b2aba.nc to ./data/era5/08085X0046_F.nc (226K)\n",
      "2022-07-21 13:26:54,457 INFO Downloading https://download-0013-clone.copernicus-climate.eu/cache-compute-0013/cache/data7/adaptor.mars.internal-1658274187.2270622-23744-13-d67ddf01-55d9-4184-b092-732539b8a41c.nc to ./data/era5/09526X0076_F.nc (268.8K)\n",
      "2022-07-21 13:26:54,740 INFO Downloading https://download-0000-clone.copernicus-climate.eu/cache-compute-0000/cache/data2/adaptor.mars.internal-1658271981.5357575-31588-2-e46b1cf8-1e12-4e30-a544-04dd76ce73a1.nc to ./data/era5/08257X0086_F.nc (131.9K)\n",
      "2022-07-21 13:26:54,849 INFO Download rate 1.2M/s\n",
      "2022-07-21 13:26:54,897 INFO Downloading https://download-0019.copernicus-climate.eu/cache-compute-0019/cache/data7/adaptor.mars.internal-1658272768.4635067-28090-12-0945f5f4-173f-4bae-a75f-bee5b9158ecf.nc to ./data/era5/08262X0096_F.nc (226K)\n",
      "2022-07-21 13:26:55,040 INFO Downloading https://download-0004-clone.copernicus-climate.eu/cache-compute-0004/cache/data9/adaptor.mars.internal-1658274201.0914645-23652-17-6bf86995-90e2-4cca-8f97-cd98905eacd1.nc to ./data/era5/08281X0017_F.nc (268.8K)\n"
     ]
    },
    {
     "name": "stdout",
     "output_type": "stream",
     "text": [
      "2022-07-21 13:26:54.849041 : Fichier 08257X0086_F.nc téléchargé.\n",
      "Fichier 08257X0086_F.nc converti en fichier pickle\n",
      "Fichier ./data/era5/08257X0086_F.nc.nc supprimé\n"
     ]
    },
    {
     "name": "stderr",
     "output_type": "stream",
     "text": [
      "2022-07-21 13:26:55,313 INFO Download rate 988K/s\n",
      "2022-07-21 13:26:55,344 INFO Downloading https://download-0014-clone.copernicus-climate.eu/cache-compute-0014/cache/data8/adaptor.mars.internal-1658274199.9774814-4119-1-93325ff6-e0a2-4974-809c-c0e8365f79c2.nc to ./data/era5/08998X0017_F.nc (268.8K)\n"
     ]
    },
    {
     "name": "stdout",
     "output_type": "stream",
     "text": [
      "2022-07-21 13:26:55.313022 : Fichier 08281X0017_F.nc téléchargé.\n",
      "Fichier 08281X0017_F.nc converti en fichier pickle\n",
      "Fichier ./data/era5/08281X0017_F.nc.nc supprimé\n"
     ]
    },
    {
     "name": "stderr",
     "output_type": "stream",
     "text": [
      "2022-07-21 13:26:55,534 INFO Downloading https://download-0008-clone.copernicus-climate.eu/cache-compute-0008/cache/data6/adaptor.mars.internal-1658271980.2331638-17374-10-80885d44-1067-4729-94b6-c0069c9ac21b.nc to ./data/era5/07073X0037_F.nc (106.2K)\n",
      "2022-07-21 13:26:55,699 INFO Downloading https://download-0016.copernicus-climate.eu/cache-compute-0016/cache/data9/adaptor.mars.internal-1658229876.108674-29181-17-f0bbf9a4-b769-4137-8e55-9edd65898b58.nc to ./data/era5/08276X0067_F.nc (268.8K)\n",
      "2022-07-21 13:26:55,846 INFO Downloading https://download-0020.copernicus-climate.eu/cache-compute-0020/cache/data1/adaptor.mars.internal-1658272766.7673965-25818-3-e741104e-9317-4bb9-8cef-237627fe9fce.nc to ./data/era5/09515X0097_F.nc (149K)\n",
      "2022-07-21 13:26:56,036 INFO Downloading https://download-0000-clone.copernicus-climate.eu/cache-compute-0000/cache/data1/adaptor.mars.internal-1658268318.4135466-13887-3-96368c42-fcab-418a-b8f2-664ff3bbc7b7.nc to ./data/era5/08276X0068_F.nc (268.8K)\n",
      "2022-07-21 13:26:56,109 INFO Downloading https://download-0000-clone.copernicus-climate.eu/cache-compute-0000/cache/data1/adaptor.mars.internal-1658268318.4135466-13887-3-96368c42-fcab-418a-b8f2-664ff3bbc7b7.nc to ./data/era5/08276X0088_F.nc (268.8K)\n",
      "2022-07-21 13:26:56,324 INFO Downloading https://download-0006-clone.copernicus-climate.eu/cache-compute-0006/cache/data7/adaptor.mars.internal-1658274257.4101171-4172-9-87046936-9546-4b1e-bbb5-5f338ddaf62a.nc to ./data/era5/09761X0009_F.nc (268.8K)\n",
      "2022-07-21 13:26:56,533 INFO Downloading https://download-0004-clone.copernicus-climate.eu/cache-compute-0004/cache/data2/adaptor.mars.internal-1658274197.42434-3072-1-f0d48a20-01ac-452f-8c1e-7869100519cd.nc to ./data/era5/08082X0009_F.nc (226K)\n",
      "2022-07-21 13:26:56,647 INFO Downloading https://download-0019.copernicus-climate.eu/cache-compute-0019/cache/data6/adaptor.mars.internal-1658274726.9038858-13176-6-04d1df24-3e2c-4991-8a8b-a93dd345ae3a.nc to ./data/era5/06865X0009_F.nc (226K)\n",
      "2022-07-21 13:26:56,851 INFO Downloading https://download-0009-clone.copernicus-climate.eu/cache-compute-0009/cache/data5/adaptor.mars.internal-1658275493.1251538-27902-10-201aa75c-0519-4e3e-97da-4182e722ea8e.nc to ./data/era5/07595X0009_F.nc (226K)\n",
      "2022-07-21 13:26:57,085 INFO Download rate 972.8K/s\n",
      "2022-07-21 13:26:57,151 INFO Downloading https://download-0003-clone.copernicus-climate.eu/cache-compute-0003/cache/data4/adaptor.mars.internal-1658277655.77354-2467-8-616f3aed-5518-4921-ada3-b12ce33e6f79.nc to ./data/era5/07836X0009_F.nc (226K)\n"
     ]
    },
    {
     "name": "stdout",
     "output_type": "stream",
     "text": [
      "2022-07-21 13:26:57.085007 : Fichier 07595X0009_F.nc téléchargé.\n",
      "Fichier 07595X0009_F.nc converti en fichier pickle\n",
      "Fichier ./data/era5/07595X0009_F.nc.nc supprimé\n"
     ]
    },
    {
     "name": "stderr",
     "output_type": "stream",
     "text": [
      "2022-07-21 13:26:57,352 INFO Downloading https://download-0008-clone.copernicus-climate.eu/cache-compute-0008/cache/data9/adaptor.mars.internal-1658278426.684727-7037-5-6575d8a1-2f02-48b4-8cbd-a736a2b2751a.nc to ./data/era5/07548X0009_F.nc (268.8K)\n",
      "2022-07-21 13:26:57,547 INFO Downloading https://download-0016.copernicus-climate.eu/cache-compute-0016/cache/data9/adaptor.mars.internal-1658229876.108674-29181-17-f0bbf9a4-b769-4137-8e55-9edd65898b58.nc to ./data/era5/08512X0019_F.nc (268.8K)\n",
      "2022-07-21 13:26:57,693 INFO Downloading https://download-0012-clone.copernicus-climate.eu/cache-compute-0012/cache/data1/adaptor.mars.internal-1658276547.4469821-6814-12-6e35f1ee-6844-4c49-a7b1-a6de6ca7dcd0.nc to ./data/era5/07562X0019_F.nc (106.2K)\n",
      "2022-07-21 13:26:57,848 INFO Downloading https://download-0011-clone.copernicus-climate.eu/cache-compute-0011/cache/data9/adaptor.mars.internal-1658277770.0039666-28685-7-e25127f6-9aab-4fa8-8fc3-9b6f97e72a3c.nc to ./data/era5/07583X0019_F.nc (226K)\n",
      "2022-07-21 13:26:58,073 INFO Download rate 1004.1K/s\n",
      "2022-07-21 13:26:58,108 INFO Downloading https://download-0008-clone.copernicus-climate.eu/cache-compute-0008/cache/data2/adaptor.mars.internal-1658278096.4396057-5565-1-a4d06f7c-4f20-4014-8254-25d64a31285d.nc to ./data/era5/09783X0019_F.nc (268.8K)\n",
      "2022-07-21 13:26:58,264 INFO Downloading https://download-0017.copernicus-climate.eu/cache-compute-0017/cache/data0/adaptor.mars.internal-1658282972.7432773-17002-11-2be0800f-bb04-4e27-ba43-2f10b2f1b668.nc to ./data/era5/08036X0019_F.nc (268.8K)\n"
     ]
    },
    {
     "name": "stdout",
     "output_type": "stream",
     "text": [
      "2022-07-21 13:26:58.073905 : Fichier 07583X0019_F.nc téléchargé.\n",
      "Fichier 07583X0019_F.nc converti en fichier pickle\n",
      "Fichier ./data/era5/07583X0019_F.nc.nc supprimé\n"
     ]
    },
    {
     "name": "stderr",
     "output_type": "stream",
     "text": [
      "2022-07-21 13:26:58,410 INFO Downloading https://download-0006-clone.copernicus-climate.eu/cache-compute-0006/cache/data6/adaptor.mars.internal-1658281833.6726158-16265-12-c33541ad-32d8-4401-bfe4-1219e3e2e44e.nc to ./data/era5/09251X0029_F.nc (268.8K)\n",
      "2022-07-21 13:26:58,621 INFO Download rate 1.2M/s\n",
      "2022-07-21 13:26:58,660 INFO Downloading https://download-0000-clone.copernicus-climate.eu/cache-compute-0000/cache/data0/adaptor.mars.internal-1658280582.4845114-13339-10-25adc357-4daa-4628-95f1-6ce3d7cec8f3.nc to ./data/era5/08043X0029_F.nc (268.8K)\n",
      "2022-07-21 13:26:58,803 INFO Downloading https://download-0008-clone.copernicus-climate.eu/cache-compute-0008/cache/data3/adaptor.mars.internal-1658279895.2413437-20995-3-a38e025c-c048-41bd-9d5f-1cef1ae7fbf7.nc to ./data/era5/07545X0029_F.nc (149K)\n"
     ]
    },
    {
     "name": "stdout",
     "output_type": "stream",
     "text": [
      "2022-07-21 13:26:58.621538 : Fichier 09251X0029_F.nc téléchargé.\n",
      "Fichier 09251X0029_F.nc converti en fichier pickle\n",
      "Fichier ./data/era5/09251X0029_F.nc.nc supprimé\n"
     ]
    },
    {
     "name": "stderr",
     "output_type": "stream",
     "text": [
      "2022-07-21 13:26:59,034 INFO Downloading https://download-0002-clone.copernicus-climate.eu/cache-compute-0002/cache/data8/adaptor.mars.internal-1658278699.0939689-20928-3-13aee6d2-c5bc-4742-b2d9-f068362d52e0.nc to ./data/era5/09516X0029_F.nc (268.8K)\n",
      "2022-07-21 13:26:59,181 INFO Downloading https://download-0001-clone.copernicus-climate.eu/cache-compute-0001/cache/data0/adaptor.mars.internal-1658278470.375451-11514-16-c29cd88f-4e1c-48c4-9d5d-2106326efcfc.nc to ./data/era5/06346X0029_F.nc (157.5K)\n",
      "2022-07-21 13:26:59,350 INFO Downloading https://download-0021.copernicus-climate.eu/cache-compute-0021/cache/data5/adaptor.mars.internal-1658280408.7229478-31420-8-2d9b325a-da74-44dc-b06f-4efc08b86dd7.nc to ./data/era5/10294X0129_F.nc (114.7K)\n",
      "2022-07-21 13:26:59,506 INFO Downloading https://download-0015-clone.copernicus-climate.eu/cache-compute-0015/cache/data0/adaptor.mars.internal-1658277249.0825582-30328-12-a2b751b3-23a1-46da-854b-51be0a7c20e9.nc to ./data/era5/06823X0039_F.nc (106.2K)\n",
      "2022-07-21 13:26:59,635 INFO Downloading https://download-0010-clone.copernicus-climate.eu/cache-compute-0010/cache/data6/adaptor.mars.internal-1658285781.9880455-26818-2-4e71ac30-0db7-4924-b055-6dfd0d55024c.nc to ./data/era5/09514X0039_F.nc (268.8K)\n",
      "2022-07-21 13:26:59,782 INFO Downloading https://download-0005-clone.copernicus-climate.eu/cache-compute-0005/cache/data9/adaptor.mars.internal-1658280679.7677321-7615-20-62c45c6c-78a3-4403-b0d9-c52d3ff82dd8.nc to ./data/era5/06837X0039_F.nc (106.2K)\n",
      "2022-07-21 13:26:59,935 INFO Downloading https://download-0001-clone.copernicus-climate.eu/cache-compute-0001/cache/data2/adaptor.mars.internal-1658283640.8705099-4801-8-8de1e535-c35b-4b64-8f16-b56852496da1.nc to ./data/era5/09006X0049_F.nc (268.8K)\n",
      "2022-07-21 13:27:00,105 INFO Downloading https://download-0002-clone.copernicus-climate.eu/cache-compute-0002/cache/data2/adaptor.mars.internal-1658281833.8669846-24872-1-608fe5a9-a9f8-4a94-8a9d-c4530b9a4b24.nc to ./data/era5/06831X0059_F.nc (106.2K)\n",
      "2022-07-21 13:27:00,252 INFO Downloading https://download-0020.copernicus-climate.eu/cache-compute-0020/cache/data2/adaptor.mars.internal-1658281833.820106-7987-12-313803ff-a224-4623-98d1-6c661f207919.nc to ./data/era5/06377X0059_F.nc (140.4K)\n",
      "2022-07-21 13:27:00,420 INFO Downloading https://download-0018.copernicus-climate.eu/cache-compute-0018/cache/data1/adaptor.mars.internal-1658285782.3163095-17844-10-60c1224f-602c-422c-90f8-78134087fa3b.nc to ./data/era5/07796X0069_F.nc (268.8K)\n",
      "2022-07-21 13:27:00,639 INFO Download rate 1.2M/s\n",
      "2022-07-21 13:27:00,672 INFO Downloading https://download-0015-clone.copernicus-climate.eu/cache-compute-0015/cache/data9/adaptor.mars.internal-1658284612.2009356-5183-8-95ee94cc-dc6f-4c40-9cfd-54ef1d7e9735.nc to ./data/era5/08037X0169_F.nc (268.8K)\n",
      "2022-07-21 13:27:00,826 INFO Downloading https://download-0010-clone.copernicus-climate.eu/cache-compute-0010/cache/data6/adaptor.mars.internal-1658285412.5804691-17951-17-01005b43-933e-4b8b-88e6-86b108638651.nc to ./data/era5/08502X0079_F.nc (268.8K)\n"
     ]
    },
    {
     "name": "stdout",
     "output_type": "stream",
     "text": [
      "2022-07-21 13:27:00.639105 : Fichier 07796X0069_F.nc téléchargé.\n",
      "Fichier 07796X0069_F.nc converti en fichier pickle\n",
      "Fichier ./data/era5/07796X0069_F.nc.nc supprimé\n"
     ]
    },
    {
     "name": "stderr",
     "output_type": "stream",
     "text": [
      "2022-07-21 13:27:00,982 INFO Downloading https://download-0021.copernicus-climate.eu/cache-compute-0021/cache/data2/adaptor.mars.internal-1658285784.80989-8149-13-ce59b25b-8b2b-49a9-b9ea-7c3c744b4ed2.nc to ./data/era5/07074X0079_F.nc (106.2K)\n",
      "2022-07-21 13:27:01,126 INFO Downloading https://download-0004-clone.copernicus-climate.eu/cache-compute-0004/cache/data4/adaptor.mars.internal-1658285782.2721708-16141-8-40b19c33-a87b-4b16-90af-6a810842fc10.nc to ./data/era5/06604X0179_F.nc (234.6K)\n",
      "2022-07-21 13:27:01,446 INFO Download rate 732.1K/s\n",
      "2022-07-21 13:27:01,491 INFO Downloading https://download-0016.copernicus-climate.eu/cache-compute-0016/cache/data9/adaptor.mars.internal-1658229876.108674-29181-17-f0bbf9a4-b769-4137-8e55-9edd65898b58.nc to ./data/era5/08276X0089_F.nc (268.8K)\n",
      "2022-07-21 13:27:01,638 INFO Downloading https://download-0007-clone.copernicus-climate.eu/cache-compute-0007/cache/data7/adaptor.mars.internal-1658288551.0052917-19260-6-04708402-4d7a-4718-9c50-c47db72862f4.nc to ./data/era5/09268X0299_F.nc (183.2K)\n"
     ]
    },
    {
     "name": "stdout",
     "output_type": "stream",
     "text": [
      "2022-07-21 13:27:01.446623 : Fichier 06604X0179_F.nc téléchargé.\n",
      "Fichier 06604X0179_F.nc converti en fichier pickle\n",
      "Fichier ./data/era5/06604X0179_F.nc.nc supprimé\n"
     ]
    },
    {
     "name": "stderr",
     "output_type": "stream",
     "text": [
      "2022-07-21 13:27:01,807 INFO Downloading https://download-0020.copernicus-climate.eu/cache-compute-0020/cache/data4/adaptor.mars.internal-1658288550.8928068-5436-1-167d894c-0180-4dd5-9845-af9b3aadb5dd.nc to ./data/era5/10522X0030_ERH.nc (183.2K)\n",
      "2022-07-21 13:27:01,954 INFO Downloading https://download-0020.copernicus-climate.eu/cache-compute-0020/cache/data7/adaptor.mars.internal-1658288693.2930634-6418-7-bd1b6bac-4c4d-4217-a243-080ba79a01d7.nc to ./data/era5/08077X0030_ERH.nc (208.9K)\n",
      "2022-07-21 13:27:02,104 INFO Downloading https://download-0000-clone.copernicus-climate.eu/cache-compute-0000/cache/data6/adaptor.mars.internal-1658288365.8990982-7739-19-62142f62-f885-47e2-b94e-32246147484e.nc to ./data/era5/08087X0014_ERH.nc (208.9K)\n",
      "2022-07-21 13:27:02,239 INFO Downloading https://download-0008-clone.copernicus-climate.eu/cache-compute-0008/cache/data4/adaptor.mars.internal-1658286286.405202-12131-11-0e67178f-8ff3-432b-aac3-3cbdd9000438.nc to ./data/era5/08733X0003_FII.nc (183.2K)\n",
      "2022-07-21 13:27:02,493 INFO Download rate 721.6K/s\n",
      "2022-07-21 13:27:02,539 INFO Downloading https://download-0011-clone.copernicus-climate.eu/cache-compute-0011/cache/data1/adaptor.mars.internal-1658286981.8326836-22643-17-adad5bad-df96-4073-94b2-7d49630d16cc.nc to ./data/era5/06606X0013_VI.nc (106.2K)\n"
     ]
    },
    {
     "name": "stdout",
     "output_type": "stream",
     "text": [
      "2022-07-21 13:27:02.493236 : Fichier 08733X0003_FII.nc téléchargé.\n",
      "Fichier 08733X0003_FII.nc converti en fichier pickle\n",
      "Fichier ./data/era5/08733X0003_FII.nc.nc supprimé\n"
     ]
    },
    {
     "name": "stderr",
     "output_type": "stream",
     "text": [
      "2022-07-21 13:27:02,713 INFO Downloading https://download-0015-clone.copernicus-climate.eu/cache-compute-0015/cache/data8/adaptor.mars.internal-1658290045.1483135-16136-5-dec6b167-5ed9-4e14-99d0-0e8ad1200365.nc to ./data/era5/08742X0063_P.T9L.nc (268.8K)\n",
      "2022-07-21 13:27:02,856 INFO Downloading https://download-0017.copernicus-climate.eu/cache-compute-0017/cache/data0/adaptor.mars.internal-1658288550.842109-14741-11-1d8a9f2d-2317-4687-8a5a-c3dc58b4892d.nc to ./data/era5/06823X0100_PIEZO.nc (140.4K)\n",
      "2022-07-21 13:27:03,041 INFO Downloading https://download-0021.copernicus-climate.eu/cache-compute-0021/cache/data8/adaptor.mars.internal-1658288550.6858964-25776-3-d658fd48-0456-4665-ba7a-462a413478ae.nc to ./data/era5/05903X0090_PIEZO.nc (157.5K)\n",
      "2022-07-21 13:27:03,275 INFO Download rate 672.9K/s\n",
      "2022-07-21 13:27:03,320 INFO Downloading https://download-0021.copernicus-climate.eu/cache-compute-0021/cache/data1/adaptor.mars.internal-1658291999.967588-5648-10-a5b78762-01be-47dd-b75a-69ce2ba8c520.nc to ./data/era5/05406X0022_PIEZO.nc (260.2K)\n",
      "2022-07-21 13:27:03,379 INFO Downloading https://download-0009-clone.copernicus-climate.eu/cache-compute-0009/cache/data1/adaptor.mars.internal-1658290391.5989745-7183-18-da0cd670-4378-467a-ab42-4c848dc07c35.nc to ./data/era5/06351X0152_PIEZO.nc (140.4K)\n"
     ]
    },
    {
     "name": "stdout",
     "output_type": "stream",
     "text": [
      "2022-07-21 13:27:03.275674 : Fichier 05903X0090_PIEZO.nc téléchargé.\n",
      "Fichier 05903X0090_PIEZO.nc converti en fichier pickle\n",
      "Fichier ./data/era5/05903X0090_PIEZO.nc.nc supprimé\n"
     ]
    },
    {
     "name": "stderr",
     "output_type": "stream",
     "text": [
      "2022-07-21 13:27:03,595 INFO Downloading https://download-0016.copernicus-climate.eu/cache-compute-0016/cache/data8/adaptor.mars.internal-1658289742.309795-27732-10-2e76d0b3-a08f-4827-aad3-0ecc5d3ccdc0.nc to ./data/era5/06105X0013_PIEZO.nc (80.5K)\n",
      "2022-07-21 13:27:03,795 INFO Downloading https://download-0001-clone.copernicus-climate.eu/cache-compute-0001/cache/data5/adaptor.mars.internal-1658291827.2764955-9276-2-1ebbd961-b836-4d70-a579-4ba69831cfe1.nc to ./data/era5/06375X0024_PIEZO.nc (226K)\n",
      "2022-07-21 13:27:04,045 INFO Download rate 904.1K/s\n",
      "2022-07-21 13:27:04,094 INFO Downloading https://download-0001-clone.copernicus-climate.eu/cache-compute-0001/cache/data2/adaptor.mars.internal-1658290093.6079092-9425-8-9f96fa4e-501d-4c57-adfe-776e8fb87470.nc to ./data/era5/06096X0024_PIEZO.nc (80.5K)\n",
      "2022-07-21 13:27:04,151 INFO Downloading https://download-0018.copernicus-climate.eu/cache-compute-0018/cache/data4/adaptor.mars.internal-1658292003.0412924-20854-15-1539c515-6339-4fc0-9467-675bb69f3a4b.nc to ./data/era5/06364X0034_PIEZO.nc (166.1K)\n"
     ]
    },
    {
     "name": "stdout",
     "output_type": "stream",
     "text": [
      "2022-07-21 13:27:04.045087 : Fichier 06375X0024_PIEZO.nc téléchargé.\n",
      "Fichier 06375X0024_PIEZO.nc converti en fichier pickle\n",
      "Fichier ./data/era5/06375X0024_PIEZO.nc.nc supprimé\n"
     ]
    },
    {
     "name": "stderr",
     "output_type": "stream",
     "text": [
      "2022-07-21 13:27:04,368 INFO Downloading https://download-0012-clone.copernicus-climate.eu/cache-compute-0012/cache/data4/adaptor.mars.internal-1658293059.878466-1068-9-51f182ce-202f-404d-86a0-2a25309e12d8.nc to ./data/era5/06096X0026_PIEZO.nc (80.5K)\n",
      "2022-07-21 13:27:04,691 INFO Downloading https://download-0012-clone.copernicus-climate.eu/cache-compute-0012/cache/data1/adaptor.mars.internal-1658292289.9952774-24069-5-72ba852d-fa0f-438d-b605-629537bece42.nc to ./data/era5/06616X0068_PIEZO.nc (234.6K)\n",
      "2022-07-21 13:27:04,860 INFO Downloading https://download-0005-clone.copernicus-climate.eu/cache-compute-0005/cache/data2/adaptor.mars.internal-1658293834.2431207-31595-7-5791ab0c-ddb8-4961-8082-e290ce7b7360.nc to ./data/era5/10292X0110_P.nc (174.6K)\n",
      "2022-07-21 13:27:05,110 INFO Download rate 699.5K/s\n",
      "2022-07-21 13:27:05,160 INFO Downloading https://download-0004-clone.copernicus-climate.eu/cache-compute-0004/cache/data1/adaptor.mars.internal-1658295599.9148674-13845-15-6412490e-cd74-4896-9e9d-28c9a4670d53.nc to ./data/era5/06376X0020_P.nc (268.8K)\n"
     ]
    },
    {
     "name": "stdout",
     "output_type": "stream",
     "text": [
      "2022-07-21 13:27:05.110592 : Fichier 10292X0110_P.nc téléchargé.\n",
      "Fichier 10292X0110_P.nc converti en fichier pickle\n",
      "Fichier ./data/era5/10292X0110_P.nc.nc supprimé\n"
     ]
    },
    {
     "name": "stderr",
     "output_type": "stream",
     "text": [
      "2022-07-21 13:27:05,325 INFO Downloading https://download-0002-clone.copernicus-climate.eu/cache-compute-0002/cache/data2/adaptor.mars.internal-1658293537.716476-24736-16-7c18b799-e800-49e6-935b-7161cd485a5a.nc to ./data/era5/06377X0030_P.nc (251.7K)\n",
      "2022-07-21 13:27:05,494 INFO Downloading https://download-0016.copernicus-climate.eu/cache-compute-0016/cache/data1/adaptor.mars.internal-1658292004.2646728-7735-19-4a583f85-d9d2-4aee-82f3-5a45de1f29d0.nc to ./data/era5/07807X0130_P.nc (123.3K)\n",
      "2022-07-21 13:27:05,662 INFO Downloading https://download-0016.copernicus-climate.eu/cache-compute-0016/cache/data1/adaptor.mars.internal-1658291666.7031364-27133-19-318bf515-33f0-4141-bc27-5534e768d513.nc to ./data/era5/06813X0040_P.nc (200.3K)\n",
      "2022-07-21 13:27:05,815 INFO Downloading https://download-0006-clone.copernicus-climate.eu/cache-compute-0006/cache/data2/adaptor.mars.internal-1658297103.5164144-5151-13-046993cd-7132-4bfc-b41e-d972941384dc.nc to ./data/era5/05668X0080_P.nc (251.7K)\n",
      "2022-07-21 13:27:06,046 INFO Downloading https://download-0005-clone.copernicus-climate.eu/cache-compute-0005/cache/data4/adaptor.mars.internal-1658293646.21756-29260-13-143ffa69-d71e-4aed-bcd4-bce6dd0a0690.nc to ./data/era5/06842X0031_P.nc (106.2K)\n",
      "2022-07-21 13:27:06,242 INFO Download rate 587.8K/s\n",
      "2022-07-21 13:27:06,298 INFO Downloading https://download-0010-clone.copernicus-climate.eu/cache-compute-0010/cache/data7/adaptor.mars.internal-1658300058.9011474-4860-16-dc53db8f-1b55-47b2-859f-e42a8c62df6e.nc to ./data/era5/08035X0441_P.nc (268.8K)\n"
     ]
    },
    {
     "name": "stdout",
     "output_type": "stream",
     "text": [
      "2022-07-21 13:27:06.242931 : Fichier 06842X0031_P.nc téléchargé.\n",
      "Fichier 06842X0031_P.nc converti en fichier pickle\n",
      "Fichier ./data/era5/06842X0031_P.nc.nc supprimé\n"
     ]
    },
    {
     "name": "stderr",
     "output_type": "stream",
     "text": [
      "2022-07-21 13:27:06,527 INFO Download rate 1.2M/s\n",
      "2022-07-21 13:27:06,590 INFO Downloading https://download-0020.copernicus-climate.eu/cache-compute-0020/cache/data3/adaptor.mars.internal-1658298217.4656343-18059-16-efa2d706-6b09-4160-a2e5-5e4bd0912463.nc to ./data/era5/09028X0071_P.nc (208.9K)\n"
     ]
    },
    {
     "name": "stdout",
     "output_type": "stream",
     "text": [
      "2022-07-21 13:27:06.527232 : Fichier 08035X0441_P.nc téléchargé.\n",
      "Fichier 08035X0441_P.nc converti en fichier pickle\n",
      "Fichier ./data/era5/08035X0441_P.nc.nc supprimé\n"
     ]
    },
    {
     "name": "stderr",
     "output_type": "stream",
     "text": [
      "2022-07-21 13:27:06,843 INFO Download rate 830.5K/s\n",
      "2022-07-21 13:27:06,899 INFO Downloading https://download-0000-clone.copernicus-climate.eu/cache-compute-0000/cache/data7/adaptor.mars.internal-1658297099.9525275-13126-13-d0f138a7-6581-439a-ada2-3b03437a31c4.nc to ./data/era5/05394X0012_P.nc (268.8K)\n"
     ]
    },
    {
     "name": "stdout",
     "output_type": "stream",
     "text": [
      "2022-07-21 13:27:06.843097 : Fichier 09028X0071_P.nc téléchargé.\n",
      "Fichier 09028X0071_P.nc converti en fichier pickle\n",
      "Fichier ./data/era5/09028X0071_P.nc.nc supprimé\n"
     ]
    },
    {
     "name": "stderr",
     "output_type": "stream",
     "text": [
      "2022-07-21 13:27:07,070 INFO Downloading https://download-0000-clone.copernicus-climate.eu/cache-compute-0000/cache/data0/adaptor.mars.internal-1658295602.9927876-11623-12-57c7def2-58d2-4b34-9278-8b7ac934acb0.nc to ./data/era5/08067X0022_P.nc (157.5K)\n",
      "2022-07-21 13:27:07,319 INFO Downloading https://download-0015-clone.copernicus-climate.eu/cache-compute-0015/cache/data8/adaptor.mars.internal-1658296083.9869967-2998-7-7e2b9f34-bf79-4ed0-83a5-de28f927b597.nc to ./data/era5/08035X0032_P.nc (268.8K)\n",
      "2022-07-21 13:27:07,503 INFO Downloading https://download-0008-clone.copernicus-climate.eu/cache-compute-0008/cache/data2/adaptor.mars.internal-1658295598.7179453-21538-1-47b851ac-baa0-404f-b478-a587a107915c.nc to ./data/era5/07091X0042_P.nc (234.6K)\n",
      "2022-07-21 13:27:07,645 INFO Downloading https://download-0015-clone.copernicus-climate.eu/cache-compute-0015/cache/data9/adaptor.mars.internal-1658296330.5136814-29082-8-4910080e-8c5c-42a6-bb48-cd82c235d5fa.nc to ./data/era5/08522X0142_P.nc (268.8K)\n",
      "2022-07-21 13:27:07,829 INFO Downloading https://download-0013-clone.copernicus-climate.eu/cache-compute-0013/cache/data3/adaptor.mars.internal-1658300458.5563135-17807-17-55b6c36d-d82f-4bb0-90c5-860b08ddaaae.nc to ./data/era5/10293X0152_P.nc (174.7K)\n",
      "2022-07-21 13:27:07,987 INFO Downloading https://download-0007-clone.copernicus-climate.eu/cache-compute-0007/cache/data1/adaptor.mars.internal-1658299738.377119-8633-2-3c9657b1-675e-4175-9f88-606644faaadb.nc to ./data/era5/06345X0072_P.nc (131.8K)\n",
      "2022-07-21 13:27:08,166 INFO Downloading https://download-0017.copernicus-climate.eu/cache-compute-0017/cache/data7/adaptor.mars.internal-1658299937.5188684-27833-17-d0a58d9a-e070-42da-b3a6-d1b1bca42ae1.nc to ./data/era5/08782X0003_P.nc (166.1K)\n",
      "2022-07-21 13:27:08,309 INFO Downloading https://download-0009-clone.copernicus-climate.eu/cache-compute-0009/cache/data6/adaptor.mars.internal-1658299614.8614147-11728-7-563fa502-a9e8-4ce3-a0ca-5fa4ba1ddd21.nc to ./data/era5/07844X0003_P.nc (174.6K)\n",
      "2022-07-21 13:27:08,526 INFO Download rate 804.3K/s\n",
      "2022-07-21 13:27:08,586 INFO Downloading https://download-0001-clone.copernicus-climate.eu/cache-compute-0001/cache/data9/adaptor.mars.internal-1658298408.986996-8492-4-666c7d4c-559f-45f2-9f22-149a028b3278.nc to ./data/era5/06594X0003_P.nc (106.2K)\n"
     ]
    },
    {
     "name": "stdout",
     "output_type": "stream",
     "text": [
      "2022-07-21 13:27:08.526180 : Fichier 07844X0003_P.nc téléchargé.\n",
      "Fichier 07844X0003_P.nc converti en fichier pickle\n",
      "Fichier ./data/era5/07844X0003_P.nc.nc supprimé\n"
     ]
    },
    {
     "name": "stderr",
     "output_type": "stream",
     "text": [
      "2022-07-21 13:27:08,861 INFO Download rate 386.8K/s\n",
      "2022-07-21 13:27:08,903 INFO Downloading https://download-0017.copernicus-climate.eu/cache-compute-0017/cache/data9/adaptor.mars.internal-1658299776.304805-16165-20-979c2185-ace9-47da-b0bd-261727599e31.nc to ./data/era5/06375X0003_P.nc (268.8K)\n"
     ]
    },
    {
     "name": "stdout",
     "output_type": "stream",
     "text": [
      "2022-07-21 13:27:08.862584 : Fichier 06594X0003_P.nc téléchargé.\n",
      "Fichier 06594X0003_P.nc converti en fichier pickle\n",
      "Fichier ./data/era5/06594X0003_P.nc.nc supprimé\n"
     ]
    },
    {
     "name": "stderr",
     "output_type": "stream",
     "text": [
      "2022-07-21 13:27:09,086 INFO Downloading https://download-0020.copernicus-climate.eu/cache-compute-0020/cache/data4/adaptor.mars.internal-1658303911.4835768-12529-1-4174e6b6-de5b-49e8-b5a5-258870d17ed9.nc to ./data/era5/09792X0203_P.nc (234.6K)\n",
      "2022-07-21 13:27:09,142 INFO Downloading https://download-0016.copernicus-climate.eu/cache-compute-0016/cache/data8/adaptor.mars.internal-1658302893.3038998-18356-10-67bc705c-0cfc-413c-a692-6bd8eca49030.nc to ./data/era5/06373X0113_P.nc (174.7K)\n",
      "2022-07-21 13:27:09,320 INFO Downloading https://download-0005-clone.copernicus-climate.eu/cache-compute-0005/cache/data9/adaptor.mars.internal-1658302893.5808163-6447-6-45d49302-6d52-484e-950a-f6ca22728b6d.nc to ./data/era5/09257X0043_P.nc (191.8K)\n",
      "2022-07-21 13:27:09,488 INFO Downloading https://download-0001-clone.copernicus-climate.eu/cache-compute-0001/cache/data2/adaptor.mars.internal-1658301912.2905662-32661-19-c700b752-bef9-48f2-849a-feee35ca17bc.nc to ./data/era5/05896X0053_P.nc (123.3K)\n",
      "2022-07-21 13:27:09,654 INFO Download rate 741.1K/s\n",
      "2022-07-21 13:27:09,698 INFO Downloading https://download-0001-clone.copernicus-climate.eu/cache-compute-0001/cache/data0/adaptor.mars.internal-1658302094.1584322-27540-6-7dc4ac85-63b6-4978-b4fc-13ef1e6da774.nc to ./data/era5/10045X0183_P.nc (174.6K)\n",
      "2022-07-21 13:27:09,742 INFO Downloading https://download-0000-clone.copernicus-climate.eu/cache-compute-0000/cache/data0/adaptor.mars.internal-1658302893.450927-25553-12-d452b473-5d23-45c4-9eba-3219be1f6395.nc to ./data/era5/06603X0093_P.nc (251.7K)\n"
     ]
    },
    {
     "name": "stdout",
     "output_type": "stream",
     "text": [
      "2022-07-21 13:27:09.655965 : Fichier 05896X0053_P.nc téléchargé.\n",
      "Fichier 05896X0053_P.nc converti en fichier pickle\n",
      "Fichier ./data/era5/05896X0053_P.nc.nc supprimé\n"
     ]
    },
    {
     "name": "stderr",
     "output_type": "stream",
     "text": [
      "2022-07-21 13:27:10,039 INFO Downloading https://download-0010-clone.copernicus-climate.eu/cache-compute-0010/cache/data6/adaptor.mars.internal-1658301427.8061364-26956-17-5f45eeb0-225e-4523-9b50-999f0f3595e8.nc to ./data/era5/08057X0014_P.nc (208.9K)\n",
      "2022-07-21 13:27:10,216 INFO Downloading https://download-0001-clone.copernicus-climate.eu/cache-compute-0001/cache/data3/adaptor.mars.internal-1658306527.65153-29863-13-ca4c90a2-8676-43bd-9b48-d6344b8d2909.nc to ./data/era5/08065X0024_P.nc (208.9K)\n",
      "2022-07-21 13:27:10,358 INFO Downloading https://download-0013-clone.copernicus-climate.eu/cache-compute-0013/cache/data3/adaptor.mars.internal-1658304922.4539049-23340-16-a62a8820-cea3-480b-ac58-8e948b1c0578.nc to ./data/era5/08518X0034_P.nc (114.7K)\n",
      "2022-07-21 13:27:10,524 INFO Downloading https://download-0018.copernicus-climate.eu/cache-compute-0018/cache/data9/adaptor.mars.internal-1658304987.7193446-19994-9-27208c98-7016-43e7-be24-7da9f57b4e09.nc to ./data/era5/08023X0044_P.nc (123.3K)\n",
      "2022-07-21 13:27:10,706 INFO Downloading https://download-0010-clone.copernicus-climate.eu/cache-compute-0010/cache/data6/adaptor.mars.internal-1658306400.9018564-30375-2-f6910065-130d-4fa6-abf2-7cb4043ceb67.nc to ./data/era5/06106X0015_P.nc (251.7K)\n",
      "2022-07-21 13:27:10,888 INFO Downloading https://download-0014-clone.copernicus-climate.eu/cache-compute-0014/cache/data8/adaptor.mars.internal-1658303928.1244044-5609-1-2bafe4e5-8a30-417c-8ffd-98c82f628b09.nc to ./data/era5/08275X0085_P.nc (114.7K)\n",
      "2022-07-21 13:27:11,088 INFO Downloading https://download-0010-clone.copernicus-climate.eu/cache-compute-0010/cache/data4/adaptor.mars.internal-1658304987.9400175-19102-7-e834f97a-0347-4711-843b-37aa94a749cf.nc to ./data/era5/06366X0006_P.nc (260.2K)\n",
      "2022-07-21 13:27:11,273 INFO Downloading https://download-0002-clone.copernicus-climate.eu/cache-compute-0002/cache/data7/adaptor.mars.internal-1658304987.8215666-15692-19-a448d230-bf62-4cdb-8581-0f8aba364bd1.nc to ./data/era5/05666X0006_P.nc (243.1K)\n",
      "2022-07-21 13:27:11,508 INFO Download rate 1M/s\n",
      "2022-07-21 13:27:11,554 INFO Downloading https://download-0004-clone.copernicus-climate.eu/cache-compute-0004/cache/data8/adaptor.mars.internal-1658308694.5319746-17498-5-0b8ba3ca-b19b-4e36-84e9-babbaefc6b64.nc to ./data/era5/06828X0006_P.nc (106.2K)\n"
     ]
    },
    {
     "name": "stdout",
     "output_type": "stream",
     "text": [
      "2022-07-21 13:27:11.509772 : Fichier 05666X0006_P.nc téléchargé.\n",
      "Fichier 05666X0006_P.nc converti en fichier pickle\n",
      "Fichier ./data/era5/05666X0006_P.nc.nc supprimé\n"
     ]
    },
    {
     "name": "stderr",
     "output_type": "stream",
     "text": [
      "2022-07-21 13:27:12,012 INFO Download rate 232K/s\n",
      "2022-07-21 13:27:12,086 INFO Downloading https://download-0008-clone.copernicus-climate.eu/cache-compute-0008/cache/data9/adaptor.mars.internal-1658308694.4532197-29162-5-88ed039f-d3a2-4ee5-b812-b7f68c597193.nc to ./data/era5/08041X0106_P.nc (123.3K)\n"
     ]
    },
    {
     "name": "stdout",
     "output_type": "stream",
     "text": [
      "2022-07-21 13:27:12.028464 : Fichier 06828X0006_P.nc téléchargé.\n",
      "Fichier 06828X0006_P.nc converti en fichier pickle\n",
      "Fichier ./data/era5/06828X0006_P.nc.nc supprimé\n"
     ]
    },
    {
     "name": "stderr",
     "output_type": "stream",
     "text": [
      "2022-07-21 13:27:12,249 INFO Downloading https://download-0010-clone.copernicus-climate.eu/cache-compute-0010/cache/data6/adaptor.mars.internal-1658308747.3499136-22626-17-30ccbbf4-dab4-4fd0-bedc-7d96baf0c1a2.nc to ./data/era5/08518X0026_P.nc (217.4K)\n",
      "2022-07-21 13:27:12,460 INFO Downloading https://download-0004-clone.copernicus-climate.eu/cache-compute-0004/cache/data2/adaptor.mars.internal-1658308340.4801347-12126-1-1db5b8fa-f2ed-4ef8-822b-5df0f3e848ef.nc to ./data/era5/08977X0036_P.nc (183.2K)\n",
      "2022-07-21 13:27:12,592 INFO Download rate 1.3M/s\n",
      "2022-07-21 13:27:12,644 INFO Downloading https://download-0014-clone.copernicus-climate.eu/cache-compute-0014/cache/data8/adaptor.mars.internal-1658308695.432419-23507-12-57259317-289a-4c95-b86d-6eb5226fb7e5.nc to ./data/era5/06356X0007_P.nc (260.2K)\n"
     ]
    },
    {
     "name": "stdout",
     "output_type": "stream",
     "text": [
      "2022-07-21 13:27:12.592626 : Fichier 08977X0036_P.nc téléchargé.\n",
      "Fichier 08977X0036_P.nc converti en fichier pickle\n",
      "Fichier ./data/era5/08977X0036_P.nc.nc supprimé\n"
     ]
    },
    {
     "name": "stderr",
     "output_type": "stream",
     "text": [
      "2022-07-21 13:27:12,821 INFO Downloading https://download-0001-clone.copernicus-climate.eu/cache-compute-0001/cache/data0/adaptor.mars.internal-1658307712.163593-3494-5-b8492c47-8c4f-4e18-ae03-07730c0d3c32.nc to ./data/era5/07578X0007_P.nc (208.9K)\n",
      "2022-07-21 13:27:12,992 INFO Downloading https://download-0015-clone.copernicus-climate.eu/cache-compute-0015/cache/data7/adaptor.mars.internal-1658306715.3607671-27352-1-3e440026-da3d-47c2-af74-c6d6b4bcaaf7.nc to ./data/era5/08781X0017_P.nc (149K)\n",
      "2022-07-21 13:27:13,209 INFO Download rate 686.4K/s\n",
      "2022-07-21 13:27:13,252 INFO Downloading https://download-0007-clone.copernicus-climate.eu/cache-compute-0007/cache/data0/adaptor.mars.internal-1658314751.398129-9978-13-54898260-30da-4241-b7cf-0b67d1623d57.nc to ./data/era5/05654X0017_P.nc (268.8K)\n"
     ]
    },
    {
     "name": "stdout",
     "output_type": "stream",
     "text": [
      "2022-07-21 13:27:13.210481 : Fichier 08781X0017_P.nc téléchargé.\n",
      "Fichier 08781X0017_P.nc converti en fichier pickle\n",
      "Fichier ./data/era5/08781X0017_P.nc.nc supprimé\n"
     ]
    },
    {
     "name": "stderr",
     "output_type": "stream",
     "text": [
      "2022-07-21 13:27:13,471 INFO Download rate 1.2M/s\n",
      "2022-07-21 13:27:13,515 INFO Downloading https://download-0017.copernicus-climate.eu/cache-compute-0017/cache/data4/adaptor.mars.internal-1658312419.146581-26865-2-8dfdf604-b086-46aa-a880-52d97521f789.nc to ./data/era5/05658X0017_P.nc (191.8K)\n"
     ]
    },
    {
     "name": "stdout",
     "output_type": "stream",
     "text": [
      "2022-07-21 13:27:13.471419 : Fichier 05654X0017_P.nc téléchargé.\n",
      "Fichier 05654X0017_P.nc converti en fichier pickle\n",
      "Fichier ./data/era5/05654X0017_P.nc.nc supprimé\n"
     ]
    },
    {
     "name": "stderr",
     "output_type": "stream",
     "text": [
      "2022-07-21 13:27:13,748 INFO Download rate 823K/s\n",
      "2022-07-21 13:27:13,865 INFO Downloading https://download-0000-clone.copernicus-climate.eu/cache-compute-0000/cache/data0/adaptor.mars.internal-1658311710.099121-11514-12-23d71056-edd5-498a-b6a0-677c51b651f5.nc to ./data/era5/08078X0027_P.nc (208.9K)\n"
     ]
    },
    {
     "name": "stdout",
     "output_type": "stream",
     "text": [
      "2022-07-21 13:27:13.749737 : Fichier 05658X0017_P.nc téléchargé.\n",
      "Fichier 05658X0017_P.nc converti en fichier pickle\n",
      "Fichier ./data/era5/05658X0017_P.nc.nc supprimé\n"
     ]
    },
    {
     "name": "stderr",
     "output_type": "stream",
     "text": [
      "2022-07-21 13:27:14,093 INFO Downloading https://download-0021.copernicus-climate.eu/cache-compute-0021/cache/data7/adaptor.mars.internal-1658310466.1240642-11482-9-d7973a99-2812-42be-a680-05632577171d.nc to ./data/era5/07298X0037_P.nc (123.3K)\n",
      "2022-07-21 13:27:14,315 INFO Download rate 554.7K/s\n",
      "2022-07-21 13:27:14,349 INFO Downloading https://download-0017.copernicus-climate.eu/cache-compute-0017/cache/data6/adaptor.mars.internal-1658310849.5056393-17967-13-f5f83b94-3a85-41dc-8386-facd1dbd4791.nc to ./data/era5/09014X0108_P.nc (157.5K)\n"
     ]
    },
    {
     "name": "stdout",
     "output_type": "stream",
     "text": [
      "2022-07-21 13:27:14.315955 : Fichier 07298X0037_P.nc téléchargé.\n",
      "Fichier 07298X0037_P.nc converti en fichier pickle\n",
      "Fichier ./data/era5/07298X0037_P.nc.nc supprimé\n"
     ]
    },
    {
     "name": "stderr",
     "output_type": "stream",
     "text": [
      "2022-07-21 13:27:14,478 INFO Download rate 1.2M/s\n",
      "2022-07-21 13:27:14,516 INFO Downloading https://download-0007-clone.copernicus-climate.eu/cache-compute-0007/cache/data9/adaptor.mars.internal-1658310728.2914238-27274-18-0c54d576-4527-4d2c-ace6-4e666a0ea474.nc to ./data/era5/08781X0018_P.nc (149K)\n"
     ]
    },
    {
     "name": "stdout",
     "output_type": "stream",
     "text": [
      "2022-07-21 13:27:14.478505 : Fichier 09014X0108_P.nc téléchargé.\n",
      "Fichier 09014X0108_P.nc converti en fichier pickle\n",
      "Fichier ./data/era5/09014X0108_P.nc.nc supprimé\n"
     ]
    },
    {
     "name": "stderr",
     "output_type": "stream",
     "text": [
      "2022-07-21 13:27:14,608 INFO Downloading https://download-0018.copernicus-climate.eu/cache-compute-0018/cache/data0/adaptor.mars.internal-1658312274.353448-32196-8-72de1043-52b4-4dc7-af29-df6f4380848f.nc to ./data/era5/05654X0018_P.nc (251.7K)\n",
      "2022-07-21 13:27:14,907 INFO Download rate 840.6K/s\n",
      "2022-07-21 13:27:14,953 INFO Downloading https://download-0011-clone.copernicus-climate.eu/cache-compute-0011/cache/data3/adaptor.mars.internal-1658308716.1217237-4574-20-cfdda5ce-f748-4eed-a380-25239842374d.nc to ./data/era5/08754X0028_P.nc (114.7K)\n"
     ]
    },
    {
     "name": "stdout",
     "output_type": "stream",
     "text": [
      "2022-07-21 13:27:14.907900 : Fichier 05654X0018_P.nc téléchargé.\n",
      "Fichier 05654X0018_P.nc converti en fichier pickle\n",
      "Fichier ./data/era5/05654X0018_P.nc.nc supprimé\n"
     ]
    },
    {
     "name": "stderr",
     "output_type": "stream",
     "text": [
      "2022-07-21 13:27:15,137 INFO Download rate 626.7K/s\n",
      "2022-07-21 13:27:15,174 INFO Downloading https://download-0004-clone.copernicus-climate.eu/cache-compute-0004/cache/data0/adaptor.mars.internal-1658317062.6689427-849-2-945ac454-89d8-4763-9c2f-6056b7f64a89.nc to ./data/era5/05664X0048_P.nc (268.8K)\n"
     ]
    },
    {
     "name": "stdout",
     "output_type": "stream",
     "text": [
      "2022-07-21 13:27:15.137879 : Fichier 08754X0028_P.nc téléchargé.\n",
      "Fichier 08754X0028_P.nc converti en fichier pickle\n",
      "Fichier ./data/era5/08754X0028_P.nc.nc supprimé\n"
     ]
    },
    {
     "name": "stderr",
     "output_type": "stream",
     "text": [
      "2022-07-21 13:27:15,340 INFO Downloading https://download-0012-clone.copernicus-climate.eu/cache-compute-0012/cache/data5/adaptor.mars.internal-1658314751.5771248-11624-4-956bd8fc-ce8d-4fc7-8294-85dfcf6ed9f2.nc to ./data/era5/08048X0088_P.nc (131.9K)\n",
      "2022-07-21 13:27:15,516 INFO Downloading https://download-0021.copernicus-climate.eu/cache-compute-0021/cache/data1/adaptor.mars.internal-1658316377.1058733-5447-10-02539c06-0c82-41f3-b5ab-b1746c71b5a3.nc to ./data/era5/08025X0009_P.nc (268.8K)\n",
      "2022-07-21 13:27:15,559 INFO Downloading https://download-0012-clone.copernicus-climate.eu/cache-compute-0012/cache/data1/adaptor.mars.internal-1658314751.5869143-30613-16-8025d81e-d0c9-497f-93b2-edc0a16e6448.nc to ./data/era5/08047X0039_P.nc (166.1K)\n",
      "2022-07-21 13:27:15,732 INFO Downloading https://download-0014-clone.copernicus-climate.eu/cache-compute-0014/cache/data5/adaptor.mars.internal-1658313015.4063656-6541-19-73a16408-a422-4d02-891d-4dc3f9f687f0.nc to ./data/era5/07808X1069_P.nc (123.3K)\n",
      "2022-07-21 13:27:15,956 INFO Download rate 552.4K/s\n",
      "2022-07-21 13:27:15,999 INFO Downloading https://download-0007-clone.copernicus-climate.eu/cache-compute-0007/cache/data8/adaptor.mars.internal-1658312510.536123-13362-8-97c917ff-85fd-49b1-b68f-2895fc5c703a.nc to ./data/era5/06833X0004_AEP.nc (106.2K)\n"
     ]
    },
    {
     "name": "stdout",
     "output_type": "stream",
     "text": [
      "2022-07-21 13:27:15.957153 : Fichier 07808X1069_P.nc téléchargé.\n",
      "Fichier 07808X1069_P.nc converti en fichier pickle\n",
      "Fichier ./data/era5/07808X1069_P.nc.nc supprimé\n"
     ]
    },
    {
     "name": "stderr",
     "output_type": "stream",
     "text": [
      "2022-07-21 13:27:16,174 INFO Downloading https://download-0001-clone.copernicus-climate.eu/cache-compute-0001/cache/data0/adaptor.mars.internal-1658314751.2201781-11861-5-2c621ba8-58ea-4a79-8913-9ec4e87777d5.nc to ./data/era5/06114X0004_R.nc (268.8K)\n",
      "2022-07-21 13:27:16,333 INFO Downloading https://download-0020.copernicus-climate.eu/cache-compute-0020/cache/data7/adaptor.mars.internal-1658319999.0579338-8563-7-6980d0cf-c74b-4f59-bf63-f35641acefb3.nc to ./data/era5/07095X0117_CAR.nc (191.8K)\n",
      "2022-07-21 13:27:16,577 INFO Download rate 786K/s\n",
      "2022-07-21 13:27:16,619 INFO Downloading https://download-0007-clone.copernicus-climate.eu/cache-compute-0007/cache/data1/adaptor.mars.internal-1658320128.6557217-620-1-e852c56c-a903-46e6-8189-974cbe9747e5.nc to ./data/era5/06331X0010_S.nc (243.1K)\n"
     ]
    },
    {
     "name": "stdout",
     "output_type": "stream",
     "text": [
      "2022-07-21 13:27:16.577918 : Fichier 07095X0117_CAR.nc téléchargé.\n",
      "Fichier 07095X0117_CAR.nc converti en fichier pickle\n",
      "Fichier ./data/era5/07095X0117_CAR.nc.nc supprimé\n"
     ]
    },
    {
     "name": "stderr",
     "output_type": "stream",
     "text": [
      "2022-07-21 13:27:16,782 INFO Downloading https://download-0005-clone.copernicus-climate.eu/cache-compute-0005/cache/data4/adaptor.mars.internal-1658319998.851588-20507-13-81e03384-e166-4eb0-9932-78aef29a5f5a.nc to ./data/era5/06381X0040_S.nc (243.1K)\n",
      "2022-07-21 13:27:17,021 INFO Download rate 1017.3K/s\n",
      "2022-07-21 13:27:17,071 INFO Downloading https://download-0021.copernicus-climate.eu/cache-compute-0021/cache/data2/adaptor.mars.internal-1658319999.8764637-30145-13-b86e480b-2cd9-4c9b-a050-c073e034dc04.nc to ./data/era5/06344X0040_S.nc (260.3K)\n"
     ]
    },
    {
     "name": "stdout",
     "output_type": "stream",
     "text": [
      "2022-07-21 13:27:17.022161 : Fichier 06381X0040_S.nc téléchargé.\n",
      "Fichier 06381X0040_S.nc converti en fichier pickle\n",
      "Fichier ./data/era5/06381X0040_S.nc.nc supprimé\n"
     ]
    },
    {
     "name": "stderr",
     "output_type": "stream",
     "text": [
      "2022-07-21 13:27:17,310 INFO Download rate 1.1M/s\n",
      "2022-07-21 13:27:17,351 INFO Downloading https://download-0019.copernicus-climate.eu/cache-compute-0019/cache/data2/adaptor.mars.internal-1658318516.1999745-22674-10-f8e956b8-dc05-48ab-83dc-bfc6be550196.nc to ./data/era5/05678X0060_S.nc (243.1K)\n"
     ]
    },
    {
     "name": "stdout",
     "output_type": "stream",
     "text": [
      "2022-07-21 13:27:17.310093 : Fichier 06344X0040_S.nc téléchargé.\n",
      "Fichier 06344X0040_S.nc converti en fichier pickle\n",
      "Fichier ./data/era5/06344X0040_S.nc.nc supprimé\n"
     ]
    },
    {
     "name": "stderr",
     "output_type": "stream",
     "text": [
      "2022-07-21 13:27:17,571 INFO Download rate 1.1M/s\n",
      "2022-07-21 13:27:17,603 INFO Downloading https://download-0002-clone.copernicus-climate.eu/cache-compute-0002/cache/data6/adaptor.mars.internal-1658318077.616215-23225-6-8efe0c08-13d9-44ac-8b0c-f6a7305c378c.nc to ./data/era5/06121X0001_S.nc (226K)\n"
     ]
    },
    {
     "name": "stdout",
     "output_type": "stream",
     "text": [
      "2022-07-21 13:27:17.571928 : Fichier 05678X0060_S.nc téléchargé.\n",
      "Fichier 05678X0060_S.nc converti en fichier pickle\n",
      "Fichier ./data/era5/05678X0060_S.nc.nc supprimé\n"
     ]
    },
    {
     "name": "stderr",
     "output_type": "stream",
     "text": [
      "2022-07-21 13:27:17,856 INFO Download rate 951.5K/s\n",
      "2022-07-21 13:27:17,887 INFO Downloading https://download-0021.copernicus-climate.eu/cache-compute-0021/cache/data2/adaptor.mars.internal-1658316730.3477523-9073-13-405c1ac6-0760-4806-a3dd-fd7611854ef2.nc to ./data/era5/05662X0011_S.nc (243.1K)\n",
      "2022-07-21 13:27:17,953 INFO Downloading https://download-0012-clone.copernicus-climate.eu/cache-compute-0012/cache/data6/adaptor.mars.internal-1658324673.4976885-17861-14-2e5952a7-c8a1-426f-a422-668d067d4e10.nc to ./data/era5/06143X0011_S.nc (226K)\n"
     ]
    },
    {
     "name": "stdout",
     "output_type": "stream",
     "text": [
      "2022-07-21 13:27:17.856344 : Fichier 06121X0001_S.nc téléchargé.\n",
      "Fichier 06121X0001_S.nc converti en fichier pickle\n",
      "Fichier ./data/era5/06121X0001_S.nc.nc supprimé\n"
     ]
    },
    {
     "name": "stderr",
     "output_type": "stream",
     "text": [
      "2022-07-21 13:27:18,188 INFO Download rate 961.4K/s\n",
      "2022-07-21 13:27:18,242 INFO Downloading https://download-0013-clone.copernicus-climate.eu/cache-compute-0013/cache/data7/adaptor.mars.internal-1658322237.7028239-10614-13-42fe4c60-fed4-4bab-8cec-6046c2091b8f.nc to ./data/era5/07314X0011_S.nc (106.2K)\n"
     ]
    },
    {
     "name": "stdout",
     "output_type": "stream",
     "text": [
      "2022-07-21 13:27:18.188280 : Fichier 06143X0011_S.nc téléchargé.\n",
      "Fichier 06143X0011_S.nc converti en fichier pickle\n",
      "Fichier ./data/era5/06143X0011_S.nc.nc supprimé\n"
     ]
    },
    {
     "name": "stderr",
     "output_type": "stream",
     "text": [
      "2022-07-21 13:27:18,415 INFO Downloading https://download-0005-clone.copernicus-climate.eu/cache-compute-0005/cache/data9/adaptor.mars.internal-1658323355.8697376-21637-4-52dfc455-7464-4d29-a9ba-accd033a6702.nc to ./data/era5/06374X0041_S.nc (200.3K)\n",
      "2022-07-21 13:27:18,475 INFO Downloading https://download-0020.copernicus-climate.eu/cache-compute-0020/cache/data7/adaptor.mars.internal-1658322911.5458357-20549-7-2733521a-a8ba-4e16-865d-323af1ab116a.nc to ./data/era5/06601X0012_S.nc (260.2K)\n",
      "2022-07-21 13:27:18,658 INFO Download rate 1.4M/s\n",
      "2022-07-21 13:27:18,722 INFO Downloading https://download-0009-clone.copernicus-climate.eu/cache-compute-0009/cache/data8/adaptor.mars.internal-1658322361.3433855-10735-11-79e48f46-8bee-4c79-a5cc-0242a2cc76b1.nc to ./data/era5/06108X0022_S.nc (251.7K)\n"
     ]
    },
    {
     "name": "stdout",
     "output_type": "stream",
     "text": [
      "2022-07-21 13:27:18.660324 : Fichier 06601X0012_S.nc téléchargé.\n",
      "Fichier 06601X0012_S.nc converti en fichier pickle\n",
      "Fichier ./data/era5/06601X0012_S.nc.nc supprimé\n"
     ]
    },
    {
     "name": "stderr",
     "output_type": "stream",
     "text": [
      "2022-07-21 13:27:18,887 INFO Downloading https://download-0014-clone.copernicus-climate.eu/cache-compute-0014/cache/data6/adaptor.mars.internal-1658322239.436989-3247-17-b0838bf2-c379-449f-99e4-f14c4c3a1a1a.nc to ./data/era5/06352X0032_S.nc (268.8K)\n",
      "2022-07-21 13:27:19,071 INFO Downloading https://download-0016.copernicus-climate.eu/cache-compute-0016/cache/data9/adaptor.mars.internal-1658328678.218386-14655-2-ec881c36-b038-4f38-807e-643164b84a4e.nc to ./data/era5/06344X0042_S.nc (251.7K)\n",
      "2022-07-21 13:27:19,307 INFO Download rate 1.1M/s\n",
      "2022-07-21 13:27:19,341 INFO Downloading https://download-0020.copernicus-climate.eu/cache-compute-0020/cache/data6/adaptor.mars.internal-1658327650.1618004-12424-2-ac5e7106-c0ba-4f0e-8dd3-6b6f27179db9.nc to ./data/era5/06126X0052_S.nc (268.8K)\n",
      "2022-07-21 13:27:19,399 INFO Downloading https://download-0000-clone.copernicus-climate.eu/cache-compute-0000/cache/data7/adaptor.mars.internal-1658327650.1600113-27176-13-0be0b029-e8f8-4878-9763-a5f40090c138.nc to ./data/era5/06357X0062_S.nc (260.3K)\n"
     ]
    },
    {
     "name": "stdout",
     "output_type": "stream",
     "text": [
      "2022-07-21 13:27:19.307722 : Fichier 06344X0042_S.nc téléchargé.\n",
      "Fichier 06344X0042_S.nc converti en fichier pickle\n",
      "Fichier ./data/era5/06344X0042_S.nc.nc supprimé\n"
     ]
    },
    {
     "name": "stderr",
     "output_type": "stream",
     "text": [
      "2022-07-21 13:27:19,541 INFO Downloading https://download-0004-clone.copernicus-climate.eu/cache-compute-0004/cache/data5/adaptor.mars.internal-1658327650.3307738-32655-10-1176881b-ce5b-4353-aed4-53691849d108.nc to ./data/era5/05665X0003_S.nc (243.1K)\n",
      "2022-07-21 13:27:19,756 INFO Download rate 1.1M/s\n",
      "2022-07-21 13:27:19,791 INFO Downloading https://download-0019.copernicus-climate.eu/cache-compute-0019/cache/data2/adaptor.mars.internal-1658327650.1212-4380-11-c5f188e1-1f25-4978-983f-9c616ec8d3bf.nc to ./data/era5/06822X0013_S.nc (260.2K)\n"
     ]
    },
    {
     "name": "stdout",
     "output_type": "stream",
     "text": [
      "2022-07-21 13:27:19.756688 : Fichier 05665X0003_S.nc téléchargé.\n",
      "Fichier 05665X0003_S.nc converti en fichier pickle\n",
      "Fichier ./data/era5/05665X0003_S.nc.nc supprimé\n"
     ]
    },
    {
     "name": "stderr",
     "output_type": "stream",
     "text": [
      "2022-07-21 13:27:20,026 INFO Download rate 1.1M/s\n",
      "2022-07-21 13:27:20,104 INFO Downloading https://download-0007-clone.copernicus-climate.eu/cache-compute-0007/cache/data1/adaptor.mars.internal-1658325977.8950434-8096-2-4aae6d26-7621-46e5-a855-fb63b9a81f9b.nc to ./data/era5/07077X0023_S.nc (251.7K)\n"
     ]
    },
    {
     "name": "stdout",
     "output_type": "stream",
     "text": [
      "2022-07-21 13:27:20.026169 : Fichier 06822X0013_S.nc téléchargé.\n",
      "Fichier 06822X0013_S.nc converti en fichier pickle\n",
      "Fichier ./data/era5/06822X0013_S.nc.nc supprimé\n"
     ]
    },
    {
     "name": "stderr",
     "output_type": "stream",
     "text": [
      "2022-07-21 13:27:20,311 INFO Downloading https://download-0012-clone.copernicus-climate.eu/cache-compute-0012/cache/data5/adaptor.mars.internal-1658330721.1363366-3273-4-3772a71d-5981-4a12-81ac-35c6a0207ae7.nc to ./data/era5/06381X0033_S.nc (260.2K)\n",
      "2022-07-21 13:27:20,517 INFO Downloading https://download-0017.copernicus-climate.eu/cache-compute-0017/cache/data8/adaptor.mars.internal-1658332371.7824259-14082-10-e7fb9957-9c3a-4c62-ba8e-5969e645b193.nc to ./data/era5/05662X0073_S.nc (243.1K)\n",
      "2022-07-21 13:27:20,828 INFO Download rate 786.6K/s\n",
      "2022-07-21 13:27:20,870 INFO Downloading https://download-0011-clone.copernicus-climate.eu/cache-compute-0011/cache/data9/adaptor.mars.internal-1658332710.8033378-22720-12-70e0175a-e7f5-467a-aa63-2e36fe05f9c7.nc to ./data/era5/07074X0014_S.nc (260.2K)\n"
     ]
    },
    {
     "name": "stdout",
     "output_type": "stream",
     "text": [
      "2022-07-21 13:27:20.828224 : Fichier 05662X0073_S.nc téléchargé.\n",
      "Fichier 05662X0073_S.nc converti en fichier pickle\n",
      "Fichier ./data/era5/05662X0073_S.nc.nc supprimé\n"
     ]
    },
    {
     "name": "stderr",
     "output_type": "stream",
     "text": [
      "2022-07-21 13:27:21,110 INFO Download rate 1.1M/s\n",
      "2022-07-21 13:27:21,144 INFO Downloading https://download-0017.copernicus-climate.eu/cache-compute-0017/cache/data8/adaptor.mars.internal-1658332371.7824259-14082-10-e7fb9957-9c3a-4c62-ba8e-5969e645b193.nc to ./data/era5/05662X0024_S.nc (243.1K)\n"
     ]
    },
    {
     "name": "stdout",
     "output_type": "stream",
     "text": [
      "2022-07-21 13:27:21.110828 : Fichier 07074X0014_S.nc téléchargé.\n",
      "Fichier 07074X0014_S.nc converti en fichier pickle\n",
      "Fichier ./data/era5/07074X0014_S.nc.nc supprimé\n"
     ]
    },
    {
     "name": "stderr",
     "output_type": "stream",
     "text": [
      "2022-07-21 13:27:21,199 INFO Download rate 4.3M/s\n",
      "2022-07-21 13:27:21,242 INFO Downloading https://download-0021.copernicus-climate.eu/cache-compute-0021/cache/data9/adaptor.mars.internal-1658332710.8286045-31047-2-a7ac4abb-7f42-4c30-9232-47ac761ec59a.nc to ./data/era5/06828X0024_S.nc (260.2K)\n"
     ]
    },
    {
     "name": "stdout",
     "output_type": "stream",
     "text": [
      "2022-07-21 13:27:21.199683 : Fichier 05662X0024_S.nc téléchargé.\n",
      "Fichier 05662X0024_S.nc converti en fichier pickle\n",
      "Fichier ./data/era5/05662X0024_S.nc.nc supprimé\n"
     ]
    },
    {
     "name": "stderr",
     "output_type": "stream",
     "text": [
      "2022-07-21 13:27:21,529 INFO Download rate 905.3K/s\n",
      "2022-07-21 13:27:21,558 INFO Downloading https://download-0000-clone.copernicus-climate.eu/cache-compute-0000/cache/data1/adaptor.mars.internal-1658332710.8382673-27127-8-2981ad93-c3cd-4dab-8ec6-573cf03a5c6d.nc to ./data/era5/07312X0034_S.nc (268.8K)\n"
     ]
    },
    {
     "name": "stdout",
     "output_type": "stream",
     "text": [
      "2022-07-21 13:27:21.530997 : Fichier 06828X0024_S.nc téléchargé.\n",
      "Fichier 06828X0024_S.nc converti en fichier pickle\n",
      "Fichier ./data/era5/06828X0024_S.nc.nc supprimé\n"
     ]
    },
    {
     "name": "stderr",
     "output_type": "stream",
     "text": [
      "2022-07-21 13:27:22,126 INFO Download rate 485.5K/s\n",
      "2022-07-21 13:27:22,174 INFO Downloading https://download-0003-clone.copernicus-climate.eu/cache-compute-0003/cache/data5/adaptor.mars.internal-1658328964.1747704-29542-17-e7d04bef-e695-453b-8923-af7d0a43f9f7.nc to ./data/era5/06123X0044_S.nc (260.3K)\n"
     ]
    },
    {
     "name": "stdout",
     "output_type": "stream",
     "text": [
      "2022-07-21 13:27:22.127887 : Fichier 07312X0034_S.nc téléchargé.\n",
      "Fichier 07312X0034_S.nc converti en fichier pickle\n",
      "Fichier ./data/era5/07312X0034_S.nc.nc supprimé\n"
     ]
    },
    {
     "name": "stderr",
     "output_type": "stream",
     "text": [
      "2022-07-21 13:27:22,452 INFO Download rate 935.9K/s\n",
      "2022-07-21 13:27:22,548 INFO Downloading https://download-0012-clone.copernicus-climate.eu/cache-compute-0012/cache/data3/adaptor.mars.internal-1658337766.1189492-18763-7-339fec86-0407-4419-a30b-9704f1453348.nc to ./data/era5/05662X0005_S.nc (243.1K)\n"
     ]
    },
    {
     "name": "stdout",
     "output_type": "stream",
     "text": [
      "2022-07-21 13:27:22.452900 : Fichier 06123X0044_S.nc téléchargé.\n",
      "Fichier 06123X0044_S.nc converti en fichier pickle\n",
      "Fichier ./data/era5/06123X0044_S.nc.nc supprimé\n"
     ]
    },
    {
     "name": "stderr",
     "output_type": "stream",
     "text": [
      "2022-07-21 13:27:22,764 INFO Downloading https://download-0004-clone.copernicus-climate.eu/cache-compute-0004/cache/data7/adaptor.mars.internal-1658337557.2716048-28493-14-56193f22-1946-49a4-b48c-93b6158f4bec.nc to ./data/era5/07803X0505_S.nc (234.6K)\n",
      "2022-07-21 13:27:22,912 INFO Download rate 1.5M/s\n",
      "2022-07-21 13:27:22,951 INFO Downloading https://download-0009-clone.copernicus-climate.eu/cache-compute-0009/cache/data6/adaptor.mars.internal-1658337756.7003908-7527-9-5dfa61bd-4dcf-4436-80e3-401bc83edebb.nc to ./data/era5/06842X0015_S.nc (260.2K)\n"
     ]
    },
    {
     "name": "stdout",
     "output_type": "stream",
     "text": [
      "2022-07-21 13:27:22.912702 : Fichier 07803X0505_S.nc téléchargé.\n",
      "Fichier 07803X0505_S.nc converti en fichier pickle\n",
      "Fichier ./data/era5/07803X0505_S.nc.nc supprimé\n"
     ]
    },
    {
     "name": "stderr",
     "output_type": "stream",
     "text": [
      "2022-07-21 13:27:23,250 INFO Download rate 869.7K/s\n",
      "2022-07-21 13:27:23,297 INFO Downloading https://download-0003-clone.copernicus-climate.eu/cache-compute-0003/cache/data8/adaptor.mars.internal-1658337312.233284-16986-1-8383b6b5-c89a-4ae6-ab4f-e9f5dba1827e.nc to ./data/era5/06125X0035_S.nc (226K)\n"
     ]
    },
    {
     "name": "stdout",
     "output_type": "stream",
     "text": [
      "2022-07-21 13:27:23.250380 : Fichier 06842X0015_S.nc téléchargé.\n",
      "Fichier 06842X0015_S.nc converti en fichier pickle\n",
      "Fichier ./data/era5/06842X0015_S.nc.nc supprimé\n"
     ]
    },
    {
     "name": "stderr",
     "output_type": "stream",
     "text": [
      "2022-07-21 13:27:23,437 INFO Download rate 1.6M/s\n",
      "2022-07-21 13:27:23,515 INFO Downloading https://download-0008-clone.copernicus-climate.eu/cache-compute-0008/cache/data3/adaptor.mars.internal-1658334246.435137-16762-3-332bde4e-ec62-4416-a234-7a2a2a2dfa44.nc to ./data/era5/06367X0195_S.nc (54.8K)\n"
     ]
    },
    {
     "name": "stdout",
     "output_type": "stream",
     "text": [
      "2022-07-21 13:27:23.437151 : Fichier 06125X0035_S.nc téléchargé.\n",
      "Fichier 06125X0035_S.nc converti en fichier pickle\n",
      "Fichier ./data/era5/06125X0035_S.nc.nc supprimé\n"
     ]
    },
    {
     "name": "stderr",
     "output_type": "stream",
     "text": [
      "2022-07-21 13:27:23,680 INFO Download rate 332.5K/s\n",
      "2022-07-21 13:27:23,722 INFO Downloading https://download-0001-clone.copernicus-climate.eu/cache-compute-0001/cache/data4/adaptor.mars.internal-1658335399.1008663-32695-10-7c14e2c9-27c3-45ef-9dd9-7a6edb6268c0.nc to ./data/era5/07561X0006_S.nc (234.6K)\n"
     ]
    },
    {
     "name": "stdout",
     "output_type": "stream",
     "text": [
      "2022-07-21 13:27:23.680285 : Fichier 06367X0195_S.nc téléchargé.\n",
      "Fichier 06367X0195_S.nc converti en fichier pickle\n",
      "Fichier ./data/era5/06367X0195_S.nc.nc supprimé\n"
     ]
    },
    {
     "name": "stderr",
     "output_type": "stream",
     "text": [
      "2022-07-21 13:27:23,983 INFO Download rate 897.4K/s\n",
      "2022-07-21 13:27:24,030 INFO Downloading https://download-0005-clone.copernicus-climate.eu/cache-compute-0005/cache/data9/adaptor.mars.internal-1658332710.8335361-18671-11-82da5a89-6e2a-43a3-914a-464dc4e6acfc.nc to ./data/era5/06595X0016_S.nc (260.3K)\n"
     ]
    },
    {
     "name": "stdout",
     "output_type": "stream",
     "text": [
      "2022-07-21 13:27:23.983564 : Fichier 07561X0006_S.nc téléchargé.\n",
      "Fichier 07561X0006_S.nc converti en fichier pickle\n",
      "Fichier ./data/era5/07561X0006_S.nc.nc supprimé\n"
     ]
    },
    {
     "name": "stderr",
     "output_type": "stream",
     "text": [
      "2022-07-21 13:27:24,224 INFO Downloading https://download-0019.copernicus-climate.eu/cache-compute-0019/cache/data1/adaptor.mars.internal-1658332710.8444285-22579-19-1a2a236a-5c29-4bdb-8b9b-f218d598abd1.nc to ./data/era5/07566X0026_S.nc (260.3K)\n",
      "2022-07-21 13:27:24,384 INFO Downloading https://download-0014-clone.copernicus-climate.eu/cache-compute-0014/cache/data8/adaptor.mars.internal-1658342078.3463151-24861-4-cd9ebae4-30d6-4804-a867-16573f993b19.nc to ./data/era5/07304X0007_S.nc (251.7K)\n",
      "2022-07-21 13:27:24,621 INFO Download rate 1M/s\n",
      "2022-07-21 13:27:24,666 INFO Downloading https://download-0020.copernicus-climate.eu/cache-compute-0020/cache/data2/adaptor.mars.internal-1658342070.0837867-5745-19-852d6274-b293-445e-be04-8c5a01f4bca3.nc to ./data/era5/05893X0037_S.nc (260.2K)\n"
     ]
    },
    {
     "name": "stdout",
     "output_type": "stream",
     "text": [
      "2022-07-21 13:27:24.621672 : Fichier 07304X0007_S.nc téléchargé.\n",
      "Fichier 07304X0007_S.nc converti en fichier pickle\n",
      "Fichier ./data/era5/07304X0007_S.nc.nc supprimé\n"
     ]
    },
    {
     "name": "stderr",
     "output_type": "stream",
     "text": [
      "2022-07-21 13:27:24,939 INFO Download rate 953.7K/s\n",
      "2022-07-21 13:27:24,970 INFO Downloading https://download-0021.copernicus-climate.eu/cache-compute-0021/cache/data5/adaptor.mars.internal-1658341265.5532773-644-6-81d9a95e-9a5e-42a9-bcc6-3145f1465ba2.nc to ./data/era5/06114X0037_S.nc (226K)\n"
     ]
    },
    {
     "name": "stdout",
     "output_type": "stream",
     "text": [
      "2022-07-21 13:27:24.939199 : Fichier 05893X0037_S.nc téléchargé.\n",
      "Fichier 05893X0037_S.nc converti en fichier pickle\n",
      "Fichier ./data/era5/05893X0037_S.nc.nc supprimé\n"
     ]
    },
    {
     "name": "stderr",
     "output_type": "stream",
     "text": [
      "2022-07-21 13:27:25,193 INFO Download rate 1015.7K/s\n",
      "2022-07-21 13:27:25,240 INFO Downloading https://download-0003-clone.copernicus-climate.eu/cache-compute-0003/cache/data9/adaptor.mars.internal-1658339539.8346074-5424-15-42e09801-149f-4ad3-8399-9455ff90a90a.nc to ./data/era5/06367X0138_S.nc (251.7K)\n"
     ]
    },
    {
     "name": "stdout",
     "output_type": "stream",
     "text": [
      "2022-07-21 13:27:25.193224 : Fichier 06114X0037_S.nc téléchargé.\n",
      "Fichier 06114X0037_S.nc converti en fichier pickle\n",
      "Fichier ./data/era5/06114X0037_S.nc.nc supprimé\n"
     ]
    },
    {
     "name": "stderr",
     "output_type": "stream",
     "text": [
      "2022-07-21 13:27:25,387 INFO Download rate 1.7M/s\n",
      "2022-07-21 13:27:25,435 INFO Downloading https://download-0005-clone.copernicus-climate.eu/cache-compute-0005/cache/data3/adaptor.mars.internal-1658338956.8955724-28191-14-5ef4f507-4ee8-46b7-b2f6-6817ff20e4cc.nc to ./data/era5/06126X0078_S.nc (268.8K)\n"
     ]
    },
    {
     "name": "stdout",
     "output_type": "stream",
     "text": [
      "2022-07-21 13:27:25.387728 : Fichier 06367X0138_S.nc téléchargé.\n",
      "Fichier 06367X0138_S.nc converti en fichier pickle\n",
      "Fichier ./data/era5/06367X0138_S.nc.nc supprimé\n"
     ]
    },
    {
     "name": "stderr",
     "output_type": "stream",
     "text": [
      "2022-07-21 13:27:25,721 INFO Download rate 942.8K/s\n",
      "2022-07-21 13:27:25,773 INFO Downloading https://download-0010-clone.copernicus-climate.eu/cache-compute-0010/cache/data4/adaptor.mars.internal-1658337755.9333332-18548-7-f0d4aa86-17cd-4ab0-880c-67be355ca432.nc to ./data/era5/06591X0009_S.nc (234.6K)\n"
     ]
    },
    {
     "name": "stdout",
     "output_type": "stream",
     "text": [
      "2022-07-21 13:27:25.721019 : Fichier 06126X0078_S.nc téléchargé.\n",
      "Fichier 06126X0078_S.nc converti en fichier pickle\n",
      "Fichier ./data/era5/06126X0078_S.nc.nc supprimé\n"
     ]
    },
    {
     "name": "stderr",
     "output_type": "stream",
     "text": [
      "2022-07-21 13:27:25,957 INFO Downloading https://download-0014-clone.copernicus-climate.eu/cache-compute-0014/cache/data2/adaptor.mars.internal-1658335356.284033-3074-6-90269439-2130-4fab-9cf7-c34a6342d35c.nc to ./data/era5/06371X0119_S.nc (80.5K)\n",
      "2022-07-21 13:27:26,076 INFO Download rate 676.2K/s\n",
      "2022-07-21 13:27:26,141 INFO Downloading https://download-0001-clone.copernicus-climate.eu/cache-compute-0001/cache/data3/adaptor.mars.internal-1658345433.484937-24251-7-01a451e3-7e73-4cd7-bc68-4c1c46e474f0.nc to ./data/era5/06135X0049_S.nc (191.8K)\n"
     ]
    },
    {
     "name": "stdout",
     "output_type": "stream",
     "text": [
      "2022-07-21 13:27:26.076879 : Fichier 06371X0119_S.nc téléchargé.\n",
      "Fichier 06371X0119_S.nc converti en fichier pickle\n",
      "Fichier ./data/era5/06371X0119_S.nc.nc supprimé\n"
     ]
    },
    {
     "name": "stderr",
     "output_type": "stream",
     "text": [
      "2022-07-21 13:27:26,335 INFO Download rate 990.3K/s\n",
      "2022-07-21 13:27:26,373 INFO Downloading https://download-0005-clone.copernicus-climate.eu/cache-compute-0005/cache/data3/adaptor.mars.internal-1658343787.2346282-26517-3-c9c088bf-5ec4-4e28-9dcc-b0c21adf8f33.nc to ./data/era5/08018X0019_F2BIS.nc (140.4K)\n"
     ]
    },
    {
     "name": "stdout",
     "output_type": "stream",
     "text": [
      "2022-07-21 13:27:26.335592 : Fichier 06135X0049_S.nc téléchargé.\n",
      "Fichier 06135X0049_S.nc converti en fichier pickle\n",
      "Fichier ./data/era5/06135X0049_S.nc.nc supprimé\n"
     ]
    },
    {
     "name": "stderr",
     "output_type": "stream",
     "text": [
      "2022-07-21 13:27:26,504 INFO Download rate 1M/s\n"
     ]
    },
    {
     "name": "stdout",
     "output_type": "stream",
     "text": [
      "2022-07-21 13:27:26.504698 : Fichier 08018X0019_F2BIS.nc téléchargé.\n",
      "Fichier 08018X0019_F2BIS.nc converti en fichier pickle\n"
     ]
    },
    {
     "name": "stderr",
     "output_type": "stream",
     "text": [
      "2022-07-21 13:27:26,542 INFO Downloading https://download-0007-clone.copernicus-climate.eu/cache-compute-0007/cache/data4/adaptor.mars.internal-1658343275.1405559-25959-3-a9610d10-176d-4ff1-992a-18b7a188cd9d.nc to ./data/era5/07318X0031_PUITS.nc (106.2K)\n"
     ]
    },
    {
     "name": "stdout",
     "output_type": "stream",
     "text": [
      "Fichier ./data/era5/08018X0019_F2BIS.nc.nc supprimé\n"
     ]
    },
    {
     "name": "stderr",
     "output_type": "stream",
     "text": [
      "2022-07-21 13:27:26,789 INFO Download rate 429.6K/s\n",
      "2022-07-21 13:27:26,858 INFO Downloading https://download-0012-clone.copernicus-climate.eu/cache-compute-0012/cache/data4/adaptor.mars.internal-1658343787.4695325-18609-10-613c4a9f-da9b-4f5a-95c6-11d5a2773fea.nc to ./data/era5/06371X0004_PUITS.nc (260.3K)\n"
     ]
    },
    {
     "name": "stdout",
     "output_type": "stream",
     "text": [
      "2022-07-21 13:27:26.804784 : Fichier 07318X0031_PUITS.nc téléchargé.\n",
      "Fichier 07318X0031_PUITS.nc converti en fichier pickle\n",
      "Fichier ./data/era5/07318X0031_PUITS.nc.nc supprimé\n"
     ]
    },
    {
     "name": "stderr",
     "output_type": "stream",
     "text": [
      "2022-07-21 13:27:27,144 INFO Download rate 909.9K/s\n",
      "2022-07-21 13:27:27,191 INFO Downloading https://download-0004-clone.copernicus-climate.eu/cache-compute-0004/cache/data4/adaptor.mars.internal-1658342064.7684038-17971-8-7fbfd567-628c-4292-ab39-48353d78d249.nc to ./data/era5/09525X0006_PUITS.nc (149K)\n"
     ]
    },
    {
     "name": "stdout",
     "output_type": "stream",
     "text": [
      "2022-07-21 13:27:27.144435 : Fichier 06371X0004_PUITS.nc téléchargé.\n",
      "Fichier 06371X0004_PUITS.nc converti en fichier pickle\n",
      "Fichier ./data/era5/06371X0004_PUITS.nc.nc supprimé\n"
     ]
    },
    {
     "name": "stderr",
     "output_type": "stream",
     "text": [
      "2022-07-21 13:27:27,390 INFO Download rate 746.5K/s\n",
      "2022-07-21 13:27:27,424 INFO Downloading https://download-0003-clone.copernicus-climate.eu/cache-compute-0003/cache/data4/adaptor.mars.internal-1658342070.5678635-27301-8-35ceba83-bb63-4627-a921-361297c6fbfa.nc to ./data/era5/08035X0297_PUITS.nc (268.8K)\n"
     ]
    },
    {
     "name": "stdout",
     "output_type": "stream",
     "text": [
      "2022-07-21 13:27:27.390847 : Fichier 09525X0006_PUITS.nc téléchargé.\n",
      "Fichier 09525X0006_PUITS.nc converti en fichier pickle\n",
      "Fichier ./data/era5/09525X0006_PUITS.nc.nc supprimé\n"
     ]
    },
    {
     "name": "stderr",
     "output_type": "stream",
     "text": [
      "2022-07-21 13:27:27,660 INFO Download rate 1.1M/s\n",
      "2022-07-21 13:27:27,691 INFO Downloading https://download-0000-clone.copernicus-climate.eu/cache-compute-0000/cache/data7/adaptor.mars.internal-1658342067.1249118-10211-1-6e0b68be-9d91-4c1d-80c6-83d89a4d1266.nc to ./data/era5/08047X0042_CUGNET.nc (268.8K)\n"
     ]
    },
    {
     "name": "stdout",
     "output_type": "stream",
     "text": [
      "2022-07-21 13:27:27.660496 : Fichier 08035X0297_PUITS.nc téléchargé.\n",
      "Fichier 08035X0297_PUITS.nc converti en fichier pickle\n",
      "Fichier ./data/era5/08035X0297_PUITS.nc.nc supprimé\n"
     ]
    },
    {
     "name": "stderr",
     "output_type": "stream",
     "text": [
      "2022-07-21 13:27:28,043 INFO Download rate 763.8K/s\n",
      "2022-07-21 13:27:28,076 INFO Downloading https://download-0010-clone.copernicus-climate.eu/cache-compute-0010/cache/data7/adaptor.mars.internal-1658300058.9011474-4860-16-dc53db8f-1b55-47b2-859f-e42a8c62df6e.nc to ./data/era5/08035X0398_RUET.nc (268.8K)\n"
     ]
    },
    {
     "name": "stdout",
     "output_type": "stream",
     "text": [
      "2022-07-21 13:27:28.043876 : Fichier 08047X0042_CUGNET.nc téléchargé.\n",
      "Fichier 08047X0042_CUGNET.nc converti en fichier pickle\n",
      "Fichier ./data/era5/08047X0042_CUGNET.nc.nc supprimé\n"
     ]
    },
    {
     "name": "stderr",
     "output_type": "stream",
     "text": [
      "2022-07-21 13:27:28,332 INFO Download rate 1M/s\n",
      "2022-07-21 13:27:28,377 INFO Downloading https://download-0014-clone.copernicus-climate.eu/cache-compute-0014/cache/data8/adaptor.mars.internal-1658221877.4959815-8665-13-71ec63f3-7406-434b-931d-a0872f10fad5.nc to ./data/era5/06832X0008_FONT.nc (106.2K)\n",
      "2022-07-21 13:27:28,446 INFO Downloading https://download-0004-clone.copernicus-climate.eu/cache-compute-0004/cache/data4/adaptor.mars.internal-1658345800.1431875-20111-3-2798c993-9ca4-4c8d-95cc-e96e5576868e.nc to ./data/era5/07803X0004_HY.nc (106.2K)\n"
     ]
    },
    {
     "name": "stdout",
     "output_type": "stream",
     "text": [
      "2022-07-21 13:27:28.332621 : Fichier 08035X0398_RUET.nc téléchargé.\n",
      "Fichier 08035X0398_RUET.nc converti en fichier pickle\n",
      "Fichier ./data/era5/08035X0398_RUET.nc.nc supprimé\n"
     ]
    },
    {
     "name": "stderr",
     "output_type": "stream",
     "text": [
      "2022-07-21 13:27:28,593 INFO Download rate 722.6K/s\n",
      "2022-07-21 13:27:28,646 INFO Downloading https://download-0015-clone.copernicus-climate.eu/cache-compute-0015/cache/data1/adaptor.mars.internal-1658260218.6728473-24493-3-1db96729-a9e6-4579-8c0b-3bd7aa420725.nc to ./data/era5/07072X0005_HY.nc (106.2K)\n"
     ]
    },
    {
     "name": "stdout",
     "output_type": "stream",
     "text": [
      "2022-07-21 13:27:28.593162 : Fichier 07803X0004_HY.nc téléchargé.\n",
      "Fichier 07803X0004_HY.nc converti en fichier pickle\n",
      "Fichier ./data/era5/07803X0004_HY.nc.nc supprimé\n"
     ]
    },
    {
     "name": "stderr",
     "output_type": "stream",
     "text": [
      "2022-07-21 13:27:28,824 INFO Downloading https://download-0011-clone.copernicus-climate.eu/cache-compute-0011/cache/data3/adaptor.mars.internal-1658347214.132941-11538-16-a3d8a705-7080-4222-b557-ee9f574b993f.nc to ./data/era5/09784X0029_CHICOY.nc (226K)\n",
      "2022-07-21 13:27:29,078 INFO Download rate 890.4K/s\n",
      "2022-07-21 13:27:29,113 INFO Downloading https://download-0011-clone.copernicus-climate.eu/cache-compute-0011/cache/data9/adaptor.mars.internal-1658345762.5808349-8893-12-d0085c79-f243-4c2e-8df1-fb239b03e18f.nc to ./data/era5/09021X0120_PZ.nc (157.5K)\n"
     ]
    },
    {
     "name": "stdout",
     "output_type": "stream",
     "text": [
      "2022-07-21 13:27:29.078701 : Fichier 09784X0029_CHICOY.nc téléchargé.\n",
      "Fichier 09784X0029_CHICOY.nc converti en fichier pickle\n",
      "Fichier ./data/era5/09784X0029_CHICOY.nc.nc supprimé\n"
     ]
    },
    {
     "name": "stderr",
     "output_type": "stream",
     "text": [
      "2022-07-21 13:27:29,212 INFO Download rate 1.5M/s\n",
      "2022-07-21 13:27:29,247 INFO Downloading https://download-0016.copernicus-climate.eu/cache-compute-0016/cache/data6/adaptor.mars.internal-1658345551.8325553-25510-14-918cb966-86af-4ec1-adcd-a45da9d4ccb0.nc to ./data/era5/08087X0022_PZ.nc (157.5K)\n"
     ]
    },
    {
     "name": "stdout",
     "output_type": "stream",
     "text": [
      "2022-07-21 13:27:29.212708 : Fichier 09021X0120_PZ.nc téléchargé.\n",
      "Fichier 09021X0120_PZ.nc converti en fichier pickle\n",
      "Fichier ./data/era5/09021X0120_PZ.nc.nc supprimé\n"
     ]
    },
    {
     "name": "stderr",
     "output_type": "stream",
     "text": [
      "2022-07-21 13:27:29,478 INFO Download rate 681.2K/s\n",
      "2022-07-21 13:27:29,509 INFO Downloading https://download-0000-clone.copernicus-climate.eu/cache-compute-0000/cache/data1/adaptor.mars.internal-1658344596.0284438-11796-8-5a3023d9-2f13-47cd-a21c-99ed840e15fd.nc to ./data/era5/07298X0042_PZ.nc (106.2K)\n"
     ]
    },
    {
     "name": "stdout",
     "output_type": "stream",
     "text": [
      "2022-07-21 13:27:29.478745 : Fichier 08087X0022_PZ.nc téléchargé.\n",
      "Fichier 08087X0022_PZ.nc converti en fichier pickle\n",
      "Fichier ./data/era5/08087X0022_PZ.nc.nc supprimé\n"
     ]
    },
    {
     "name": "stderr",
     "output_type": "stream",
     "text": [
      "2022-07-21 13:27:29,647 INFO Download rate 771.3K/s\n"
     ]
    },
    {
     "name": "stdout",
     "output_type": "stream",
     "text": [
      "2022-07-21 13:27:29.647623 : Fichier 07298X0042_PZ.nc téléchargé.\n",
      "Fichier 07298X0042_PZ.nc converti en fichier pickle\n",
      "Fichier ./data/era5/07298X0042_PZ.nc.nc supprimé\n"
     ]
    },
    {
     "name": "stderr",
     "output_type": "stream",
     "text": [
      "2022-07-21 13:27:29,683 INFO Downloading https://download-0012-clone.copernicus-climate.eu/cache-compute-0012/cache/data5/adaptor.mars.internal-1658346352.0507834-15399-4-0b1dbe73-d72f-4830-ba78-ca5dbd8d0cb2.nc to ./data/era5/08986X0052_PZ.nc (260.2K)\n",
      "2022-07-21 13:27:29,739 INFO Downloading https://download-0009-clone.copernicus-climate.eu/cache-compute-0009/cache/data9/adaptor.mars.internal-1658344594.0408902-23033-12-f166a7b6-7e16-465a-a474-ab664b54269d.nc to ./data/era5/08792X0023_PZ.nc (123.3K)\n",
      "2022-07-21 13:27:29,947 INFO Download rate 593.5K/s\n",
      "2022-07-21 13:27:29,990 INFO Downloading https://download-0019.copernicus-climate.eu/cache-compute-0019/cache/data8/adaptor.mars.internal-1658349353.2027743-18208-8-88a866e4-0dd1-43ff-b1f8-d787b30afd34.nc to ./data/era5/10522X0193_PZ.nc (174.6K)\n"
     ]
    },
    {
     "name": "stdout",
     "output_type": "stream",
     "text": [
      "2022-07-21 13:27:29.947513 : Fichier 08792X0023_PZ.nc téléchargé.\n",
      "Fichier 08792X0023_PZ.nc converti en fichier pickle\n",
      "Fichier ./data/era5/08792X0023_PZ.nc.nc supprimé\n"
     ]
    },
    {
     "name": "stderr",
     "output_type": "stream",
     "text": [
      "2022-07-21 13:27:30,226 INFO Download rate 741.1K/s\n",
      "2022-07-21 13:27:30,263 INFO Downloading https://download-0021.copernicus-climate.eu/cache-compute-0021/cache/data1/adaptor.mars.internal-1658349357.2374554-10261-20-7e872e77-0865-4df1-85a9-878d1640519d.nc to ./data/era5/10305X0234_PZ.nc (183.2K)\n"
     ]
    },
    {
     "name": "stdout",
     "output_type": "stream",
     "text": [
      "2022-07-21 13:27:30.226073 : Fichier 10522X0193_PZ.nc téléchargé.\n",
      "Fichier 10522X0193_PZ.nc converti en fichier pickle\n",
      "Fichier ./data/era5/10522X0193_PZ.nc.nc supprimé\n"
     ]
    },
    {
     "name": "stderr",
     "output_type": "stream",
     "text": [
      "2022-07-21 13:27:30,508 INFO Download rate 750.1K/s\n",
      "2022-07-21 13:27:30,548 INFO Downloading https://download-0004-clone.copernicus-climate.eu/cache-compute-0004/cache/data8/adaptor.mars.internal-1658349360.3375163-13884-5-654c4b3a-2ffb-4ca6-97df-cafae093bb2f.nc to ./data/era5/10293X0154_PZ.nc (183.2K)\n"
     ]
    },
    {
     "name": "stdout",
     "output_type": "stream",
     "text": [
      "2022-07-21 13:27:30.508051 : Fichier 10305X0234_PZ.nc téléchargé.\n",
      "Fichier 10305X0234_PZ.nc converti en fichier pickle\n",
      "Fichier ./data/era5/10305X0234_PZ.nc.nc supprimé\n"
     ]
    },
    {
     "name": "stderr",
     "output_type": "stream",
     "text": [
      "2022-07-21 13:27:30,698 INFO Download rate 1.2M/s\n",
      "2022-07-21 13:27:30,749 INFO Downloading https://download-0011-clone.copernicus-climate.eu/cache-compute-0011/cache/data1/adaptor.mars.internal-1658349950.1383388-4286-2-f06543d3-0957-46eb-a39f-6d2306832d8d.nc to ./data/era5/09518X0025_PZ.nc (200.3K)\n"
     ]
    },
    {
     "name": "stdout",
     "output_type": "stream",
     "text": [
      "2022-07-21 13:27:30.698729 : Fichier 10293X0154_PZ.nc téléchargé.\n",
      "Fichier 10293X0154_PZ.nc converti en fichier pickle\n",
      "Fichier ./data/era5/10293X0154_PZ.nc.nc supprimé\n"
     ]
    },
    {
     "name": "stderr",
     "output_type": "stream",
     "text": [
      "2022-07-21 13:27:30,867 INFO Download rate 1.6M/s\n"
     ]
    },
    {
     "name": "stdout",
     "output_type": "stream",
     "text": [
      "2022-07-21 13:27:30.867899 : Fichier 09518X0025_PZ.nc téléchargé.\n",
      "Fichier 09518X0025_PZ.nc converti en fichier pickle\n"
     ]
    },
    {
     "name": "stderr",
     "output_type": "stream",
     "text": [
      "2022-07-21 13:27:30,912 INFO Downloading https://download-0006-clone.copernicus-climate.eu/cache-compute-0006/cache/data6/adaptor.mars.internal-1658348927.7042642-19381-12-da7012cb-f538-4196-9e95-ab0117acb3e1.nc to ./data/era5/10305X0235_PZ.nc (174.7K)\n"
     ]
    },
    {
     "name": "stdout",
     "output_type": "stream",
     "text": [
      "Fichier ./data/era5/09518X0025_PZ.nc.nc supprimé\n"
     ]
    },
    {
     "name": "stderr",
     "output_type": "stream",
     "text": [
      "2022-07-21 13:27:31,149 INFO Download rate 738.5K/s\n",
      "2022-07-21 13:27:31,211 INFO Downloading https://download-0007-clone.copernicus-climate.eu/cache-compute-0007/cache/data7/adaptor.mars.internal-1658347261.7809198-28239-8-3e1eb237-be7c-4bfe-b5fc-09c3f1ffa31d.nc to ./data/era5/06335X0006_PZ.nc (131.9K)\n"
     ]
    },
    {
     "name": "stdout",
     "output_type": "stream",
     "text": [
      "2022-07-21 13:27:31.149325 : Fichier 10305X0235_PZ.nc téléchargé.\n",
      "Fichier 10305X0235_PZ.nc converti en fichier pickle\n",
      "Fichier ./data/era5/10305X0235_PZ.nc.nc supprimé\n"
     ]
    },
    {
     "name": "stderr",
     "output_type": "stream",
     "text": [
      "2022-07-21 13:27:31,449 INFO Download rate 554.3K/s\n",
      "2022-07-21 13:27:31,496 INFO Downloading https://download-0015-clone.copernicus-climate.eu/cache-compute-0015/cache/data3/adaptor.mars.internal-1658347657.6753232-2303-9-a9a8ac9b-0415-4d38-8ae5-f98dbd2741c3.nc to ./data/era5/10046X0136_PZ.nc (174.6K)\n"
     ]
    },
    {
     "name": "stdout",
     "output_type": "stream",
     "text": [
      "2022-07-21 13:27:31.449798 : Fichier 06335X0006_PZ.nc téléchargé.\n",
      "Fichier 06335X0006_PZ.nc converti en fichier pickle\n",
      "Fichier ./data/era5/06335X0006_PZ.nc.nc supprimé\n"
     ]
    },
    {
     "name": "stderr",
     "output_type": "stream",
     "text": [
      "2022-07-21 13:27:31,743 INFO Download rate 707.1K/s\n",
      "2022-07-21 13:27:31,781 INFO Downloading https://download-0014-clone.copernicus-climate.eu/cache-compute-0014/cache/data6/adaptor.mars.internal-1658347231.7054744-20682-7-b6b1c1bc-db46-4301-b59e-cb299cf1ffbe.nc to ./data/era5/09012X0027_PZ.nc (131.9K)\n"
     ]
    },
    {
     "name": "stdout",
     "output_type": "stream",
     "text": [
      "2022-07-21 13:27:31.743916 : Fichier 10046X0136_PZ.nc téléchargé.\n",
      "Fichier 10046X0136_PZ.nc converti en fichier pickle\n",
      "Fichier ./data/era5/10046X0136_PZ.nc.nc supprimé\n"
     ]
    },
    {
     "name": "stderr",
     "output_type": "stream",
     "text": [
      "2022-07-21 13:27:32,066 INFO Download rate 463K/s\n",
      "2022-07-21 13:27:32,097 INFO Downloading https://download-0008-clone.copernicus-climate.eu/cache-compute-0008/cache/data9/adaptor.mars.internal-1658348843.9820466-16720-7-24731001-1379-404b-8234-18242bd8dd28.nc to ./data/era5/09007X0047_PZ.nc (260.2K)\n"
     ]
    },
    {
     "name": "stdout",
     "output_type": "stream",
     "text": [
      "2022-07-21 13:27:32.066724 : Fichier 09012X0027_PZ.nc téléchargé.\n",
      "Fichier 09012X0027_PZ.nc converti en fichier pickle\n",
      "Fichier ./data/era5/09012X0027_PZ.nc.nc supprimé\n"
     ]
    },
    {
     "name": "stderr",
     "output_type": "stream",
     "text": [
      "2022-07-21 13:27:32,282 INFO Downloading https://download-0001-clone.copernicus-climate.eu/cache-compute-0001/cache/data0/adaptor.mars.internal-1658346893.328053-4152-6-6575224e-57f0-4763-8058-338393e64073.nc to ./data/era5/09257X0097_PZ.nc (149K)\n",
      "2022-07-21 13:27:32,586 INFO Download rate 490K/s\n",
      "2022-07-21 13:27:32,624 INFO Downloading https://download-0010-clone.copernicus-climate.eu/cache-compute-0010/cache/data9/adaptor.mars.internal-1658350452.9302804-29958-8-fcd0feeb-6433-4ce3-93cd-45c7836dd44e.nc to ./data/era5/08547X0008_PZ.nc (114.7K)\n"
     ]
    },
    {
     "name": "stdout",
     "output_type": "stream",
     "text": [
      "2022-07-21 13:27:32.587771 : Fichier 09257X0097_PZ.nc téléchargé.\n",
      "Fichier 09257X0097_PZ.nc converti en fichier pickle\n",
      "Fichier ./data/era5/09257X0097_PZ.nc.nc supprimé\n"
     ]
    },
    {
     "name": "stderr",
     "output_type": "stream",
     "text": [
      "2022-07-21 13:27:33,031 INFO Download rate 281.9K/s\n",
      "2022-07-21 13:27:33,069 INFO Downloading https://download-0005-clone.copernicus-climate.eu/cache-compute-0005/cache/data5/adaptor.mars.internal-1658349100.4728928-13299-1-6955f880-494d-433c-87e9-8bdfde3412ad.nc to ./data/era5/08534X0009_PZ.nc (114.7K)\n"
     ]
    },
    {
     "name": "stdout",
     "output_type": "stream",
     "text": [
      "2022-07-21 13:27:33.031784 : Fichier 08547X0008_PZ.nc téléchargé.\n",
      "Fichier 08547X0008_PZ.nc converti en fichier pickle\n",
      "Fichier ./data/era5/08547X0008_PZ.nc.nc supprimé\n"
     ]
    },
    {
     "name": "stderr",
     "output_type": "stream",
     "text": [
      "2022-07-21 13:27:33,285 INFO Download rate 573K/s\n",
      "2022-07-21 13:27:33,332 INFO Downloading https://download-0013-clone.copernicus-climate.eu/cache-compute-0013/cache/data2/adaptor.mars.internal-1658353260.5438864-31799-1-df0bdf7b-bff2-444a-ad8d-ca7a4e4030a6.nc to ./data/era5/03423X0056_100.nc (268.8K)\n"
     ]
    },
    {
     "name": "stdout",
     "output_type": "stream",
     "text": [
      "2022-07-21 13:27:33.285186 : Fichier 08534X0009_PZ.nc téléchargé.\n",
      "Fichier 08534X0009_PZ.nc converti en fichier pickle\n",
      "Fichier ./data/era5/08534X0009_PZ.nc.nc supprimé\n"
     ]
    },
    {
     "name": "stderr",
     "output_type": "stream",
     "text": [
      "2022-07-21 13:27:33,572 INFO Download rate 1.1M/s\n",
      "2022-07-21 13:27:33,639 INFO Downloading https://download-0001-clone.copernicus-climate.eu/cache-compute-0001/cache/data7/adaptor.mars.internal-1658353260.5875692-11114-12-5db82da1-3b08-46e7-acfb-107f7362131f.nc to ./data/era5/02706X0074_S77-20.nc (268.8K)\n"
     ]
    },
    {
     "name": "stdout",
     "output_type": "stream",
     "text": [
      "2022-07-21 13:27:33.573011 : Fichier 03423X0056_100.nc téléchargé.\n",
      "Fichier 03423X0056_100.nc converti en fichier pickle\n",
      "Fichier ./data/era5/03423X0056_100.nc.nc supprimé\n"
     ]
    },
    {
     "name": "stderr",
     "output_type": "stream",
     "text": [
      "2022-07-21 13:27:33,788 INFO Download rate 1.8M/s \n",
      "2022-07-21 13:27:33,835 INFO Downloading https://download-0000-clone.copernicus-climate.eu/cache-compute-0000/cache/data9/adaptor.mars.internal-1658352165.2583659-24142-15-1874c636-fb2d-44af-a657-198b32b12d64.nc to ./data/era5/04131X0111_120.nc (200.3K)\n"
     ]
    },
    {
     "name": "stdout",
     "output_type": "stream",
     "text": [
      "2022-07-21 13:27:33.788574 : Fichier 02706X0074_S77-20.nc téléchargé.\n",
      "Fichier 02706X0074_S77-20.nc converti en fichier pickle\n",
      "Fichier ./data/era5/02706X0074_S77-20.nc.nc supprimé\n"
     ]
    },
    {
     "name": "stderr",
     "output_type": "stream",
     "text": [
      "2022-07-21 13:27:34,089 INFO Download rate 790K/s\n",
      "2022-07-21 13:27:34,136 INFO Downloading https://download-0000-clone.copernicus-climate.eu/cache-compute-0000/cache/data1/adaptor.mars.internal-1658359141.7042887-7609-14-cfd06faa-351d-4c5b-a668-2c22573b2dc0.nc to ./data/era5/04137X0009_C20.nc (268.8K)\n"
     ]
    },
    {
     "name": "stdout",
     "output_type": "stream",
     "text": [
      "2022-07-21 13:27:34.089229 : Fichier 04131X0111_120.nc téléchargé.\n",
      "Fichier 04131X0111_120.nc converti en fichier pickle\n",
      "Fichier ./data/era5/04131X0111_120.nc.nc supprimé\n"
     ]
    },
    {
     "name": "stderr",
     "output_type": "stream",
     "text": [
      "2022-07-21 13:27:34,254 INFO Download rate 2.2M/s\n"
     ]
    },
    {
     "name": "stdout",
     "output_type": "stream",
     "text": [
      "2022-07-21 13:27:34.254708 : Fichier 04137X0009_C20.nc téléchargé.\n",
      "Fichier 04137X0009_C20.nc converti en fichier pickle\n"
     ]
    },
    {
     "name": "stderr",
     "output_type": "stream",
     "text": [
      "2022-07-21 13:27:34,299 INFO Downloading https://download-0021.copernicus-climate.eu/cache-compute-0021/cache/data6/adaptor.mars.internal-1658359140.4859924-14035-17-76cd19e4-b77b-4076-a761-c2e22161f173.nc to ./data/era5/04133X0006_30.nc (268.8K)\n"
     ]
    },
    {
     "name": "stdout",
     "output_type": "stream",
     "text": [
      "Fichier ./data/era5/04137X0009_C20.nc.nc supprimé\n"
     ]
    },
    {
     "name": "stderr",
     "output_type": "stream",
     "text": [
      "2022-07-21 13:27:34,548 INFO Download rate 1.1M/s\n",
      "2022-07-21 13:27:34,602 INFO Downloading https://download-0017.copernicus-climate.eu/cache-compute-0017/cache/data7/adaptor.mars.internal-1658358771.374261-29728-18-11315af0-0dd6-4c99-b042-b635d4515b1f.nc to ./data/era5/03786X0074_130.nc (268.8K)\n"
     ]
    },
    {
     "name": "stdout",
     "output_type": "stream",
     "text": [
      "2022-07-21 13:27:34.548903 : Fichier 04133X0006_30.nc téléchargé.\n",
      "Fichier 04133X0006_30.nc converti en fichier pickle\n",
      "Fichier ./data/era5/04133X0006_30.nc.nc supprimé\n"
     ]
    },
    {
     "name": "stderr",
     "output_type": "stream",
     "text": [
      "2022-07-21 13:27:34,836 INFO Download rate 1.1M/s\n",
      "2022-07-21 13:27:34,886 INFO Downloading https://download-0013-clone.copernicus-climate.eu/cache-compute-0013/cache/data2/adaptor.mars.internal-1658358440.6065776-11806-8-f3ce4b6b-eb3b-49b7-8c53-b61c78c2ed41.nc to ./data/era5/02612X0021_S30.nc (268.8K)\n"
     ]
    },
    {
     "name": "stdout",
     "output_type": "stream",
     "text": [
      "2022-07-21 13:27:34.836747 : Fichier 03786X0074_130.nc téléchargé.\n",
      "Fichier 03786X0074_130.nc converti en fichier pickle\n",
      "Fichier ./data/era5/03786X0074_130.nc.nc supprimé\n"
     ]
    },
    {
     "name": "stderr",
     "output_type": "stream",
     "text": [
      "2022-07-21 13:27:35,056 INFO Download rate 1.6M/s\n",
      "2022-07-21 13:27:35,118 INFO Downloading https://download-0008-clone.copernicus-climate.eu/cache-compute-0008/cache/data3/adaptor.mars.internal-1658357623.999133-25069-18-081d07b2-c92b-4126-a586-cb9b15cc281e.nc to ./data/era5/04137X0022_S30.nc (268.8K)\n"
     ]
    },
    {
     "name": "stdout",
     "output_type": "stream",
     "text": [
      "2022-07-21 13:27:35.056210 : Fichier 02612X0021_S30.nc téléchargé.\n",
      "Fichier 02612X0021_S30.nc converti en fichier pickle\n",
      "Fichier ./data/era5/02612X0021_S30.nc.nc supprimé\n"
     ]
    },
    {
     "name": "stderr",
     "output_type": "stream",
     "text": [
      "2022-07-21 13:27:35,573 INFO Download rate 591.5K/s\n",
      "2022-07-21 13:27:35,620 INFO Downloading https://download-0007-clone.copernicus-climate.eu/cache-compute-0007/cache/data8/adaptor.mars.internal-1658355752.2318544-29005-15-2ef9a89c-b592-4778-afbb-18b6b874ca67.nc to ./data/era5/03426X0223_140.nc (123.3K)\n"
     ]
    },
    {
     "name": "stdout",
     "output_type": "stream",
     "text": [
      "2022-07-21 13:27:35.573450 : Fichier 04137X0022_S30.nc téléchargé.\n",
      "Fichier 04137X0022_S30.nc converti en fichier pickle\n",
      "Fichier ./data/era5/04137X0022_S30.nc.nc supprimé\n"
     ]
    },
    {
     "name": "stderr",
     "output_type": "stream",
     "text": [
      "2022-07-21 13:27:35,990 INFO Download rate 333.6K/s\n",
      "2022-07-21 13:27:36,037 INFO Downloading https://download-0020.copernicus-climate.eu/cache-compute-0020/cache/data1/adaptor.mars.internal-1658355711.302189-21132-3-dbf94596-f932-4ebf-812d-8b8fbc4995c5.nc to ./data/era5/01405X0141_P50.nc (251.7K)\n"
     ]
    },
    {
     "name": "stdout",
     "output_type": "stream",
     "text": [
      "2022-07-21 13:27:35.990028 : Fichier 03426X0223_140.nc téléchargé.\n",
      "Fichier 03426X0223_140.nc converti en fichier pickle\n",
      "Fichier ./data/era5/03426X0223_140.nc.nc supprimé\n"
     ]
    },
    {
     "name": "stderr",
     "output_type": "stream",
     "text": [
      "2022-07-21 13:27:36,277 INFO Download rate 1M/s\n",
      "2022-07-21 13:27:36,324 INFO Downloading https://download-0007-clone.copernicus-climate.eu/cache-compute-0007/cache/data9/adaptor.mars.internal-1658355867.7300274-22640-18-9b466703-8a4b-401c-8157-a91ec0cdd634.nc to ./data/era5/03791X0042_V50.nc (268.8K)\n"
     ]
    },
    {
     "name": "stdout",
     "output_type": "stream",
     "text": [
      "2022-07-21 13:27:36.277614 : Fichier 01405X0141_P50.nc téléchargé.\n",
      "Fichier 01405X0141_P50.nc converti en fichier pickle\n",
      "Fichier ./data/era5/01405X0141_P50.nc.nc supprimé\n"
     ]
    },
    {
     "name": "stderr",
     "output_type": "stream",
     "text": [
      "2022-07-21 13:27:36,440 INFO Download rate 2.3M/s\n",
      "2022-07-21 13:27:36,506 INFO Downloading https://download-0015-clone.copernicus-climate.eu/cache-compute-0015/cache/data0/adaptor.mars.internal-1658355066.8848176-14137-19-efc5a8bc-7dca-48be-947f-c9850de298da.nc to ./data/era5/01987X0124_631-1.nc (268.8K)\n"
     ]
    },
    {
     "name": "stdout",
     "output_type": "stream",
     "text": [
      "2022-07-21 13:27:36.456322 : Fichier 03791X0042_V50.nc téléchargé.\n",
      "Fichier 03791X0042_V50.nc converti en fichier pickle\n",
      "Fichier ./data/era5/03791X0042_V50.nc.nc supprimé\n"
     ]
    },
    {
     "name": "stderr",
     "output_type": "stream",
     "text": [
      "2022-07-21 13:27:36,660 INFO Downloading https://download-0020.copernicus-climate.eu/cache-compute-0020/cache/data1/adaptor.mars.internal-1658351973.8919575-16099-3-dc0b4bb5-bb63-46d8-a4c0-d520c1965cca.nc to ./data/era5/01133X0099_PZ-1.nc (20.6K)\n",
      "2022-07-21 13:27:36,722 INFO Download rate 328K/s\n",
      "2022-07-21 13:27:36,776 INFO Downloading https://download-0006-clone.copernicus-climate.eu/cache-compute-0006/cache/data8/adaptor.mars.internal-1658354263.8731017-19624-3-6dd0aa84-280e-4256-aa71-fc9159cdff63.nc to ./data/era5/03422X0031_101.nc (268.8K)\n"
     ]
    },
    {
     "name": "stdout",
     "output_type": "stream",
     "text": [
      "2022-07-21 13:27:36.722885 : Fichier 01133X0099_PZ-1.nc téléchargé.\n",
      "Fichier 01133X0099_PZ-1.nc converti en fichier pickle\n",
      "Fichier ./data/era5/01133X0099_PZ-1.nc.nc supprimé\n"
     ]
    },
    {
     "name": "stderr",
     "output_type": "stream",
     "text": [
      "2022-07-21 13:27:37,007 INFO Download rate 1.1M/s\n",
      "2022-07-21 13:27:37,061 INFO Downloading https://download-0019.copernicus-climate.eu/cache-compute-0019/cache/data1/adaptor.mars.internal-1658353833.9385962-30004-9-3e464176-b301-4cef-b2ff-eefb624ff776.nc to ./data/era5/02645X0038_D601.nc (268.8K)\n"
     ]
    },
    {
     "name": "stdout",
     "output_type": "stream",
     "text": [
      "2022-07-21 13:27:37.007813 : Fichier 03422X0031_101.nc téléchargé.\n",
      "Fichier 03422X0031_101.nc converti en fichier pickle\n",
      "Fichier ./data/era5/03422X0031_101.nc.nc supprimé\n"
     ]
    },
    {
     "name": "stderr",
     "output_type": "stream",
     "text": [
      "2022-07-21 13:27:37,280 INFO Download rate 1.2M/s\n",
      "2022-07-21 13:27:37,327 INFO Downloading https://download-0019.copernicus-climate.eu/cache-compute-0019/cache/data8/adaptor.mars.internal-1658351566.5312002-2974-1-9fd08ff4-8a5c-4f5f-a559-c4f51e655dae.nc to ./data/era5/01376X0149_H01.nc (123.3K)\n"
     ]
    },
    {
     "name": "stdout",
     "output_type": "stream",
     "text": [
      "2022-07-21 13:27:37.280196 : Fichier 02645X0038_D601.nc téléchargé.\n",
      "Fichier 02645X0038_D601.nc converti en fichier pickle\n",
      "Fichier ./data/era5/02645X0038_D601.nc.nc supprimé\n"
     ]
    },
    {
     "name": "stderr",
     "output_type": "stream",
     "text": [
      "2022-07-21 13:27:37,398 INFO Download rate 1.7M/s\n",
      "2022-07-21 13:27:37,445 INFO Downloading https://download-0011-clone.copernicus-climate.eu/cache-compute-0011/cache/data4/adaptor.mars.internal-1658352296.0018814-18833-8-cc4c1e54-8d5d-44c7-ba23-2ea6f5f7f09d.nc to ./data/era5/01377X0211_M01.nc (200.3K)\n"
     ]
    },
    {
     "name": "stdout",
     "output_type": "stream",
     "text": [
      "2022-07-21 13:27:37.398450 : Fichier 01376X0149_H01.nc téléchargé.\n",
      "Fichier 01376X0149_H01.nc converti en fichier pickle\n",
      "Fichier ./data/era5/01376X0149_H01.nc.nc supprimé\n"
     ]
    },
    {
     "name": "stderr",
     "output_type": "stream",
     "text": [
      "2022-07-21 13:27:37,642 INFO Download rate 1018.3K/s\n",
      "2022-07-21 13:27:37,779 INFO Downloading https://download-0012-clone.copernicus-climate.eu/cache-compute-0012/cache/data0/adaptor.mars.internal-1658360321.7599068-17440-16-c41ed721-8409-40a4-84cd-4301d4dd1e5c.nc to ./data/era5/01373X0132_P01.nc (200.3K)\n"
     ]
    },
    {
     "name": "stdout",
     "output_type": "stream",
     "text": [
      "2022-07-21 13:27:37.642287 : Fichier 01377X0211_M01.nc téléchargé.\n",
      "Fichier 01377X0211_M01.nc converti en fichier pickle\n",
      "Fichier ./data/era5/01377X0211_M01.nc.nc supprimé\n"
     ]
    },
    {
     "name": "stderr",
     "output_type": "stream",
     "text": [
      "2022-07-21 13:27:38,011 INFO Download rate 863.9K/s\n",
      "2022-07-21 13:27:38,058 INFO Downloading https://download-0011-clone.copernicus-climate.eu/cache-compute-0011/cache/data4/adaptor.mars.internal-1658363385.4678438-4459-19-efe99231-35cb-48f5-ae0b-63ab4295b8d4.nc to ./data/era5/04454X0033_S11.nc (268.8K)\n"
     ]
    },
    {
     "name": "stdout",
     "output_type": "stream",
     "text": [
      "2022-07-21 13:27:38.011020 : Fichier 01373X0132_P01.nc téléchargé.\n",
      "Fichier 01373X0132_P01.nc converti en fichier pickle\n",
      "Fichier ./data/era5/01373X0132_P01.nc.nc supprimé\n"
     ]
    },
    {
     "name": "stderr",
     "output_type": "stream",
     "text": [
      "2022-07-21 13:27:38,165 INFO Download rate 2.4M/s\n"
     ]
    },
    {
     "name": "stdout",
     "output_type": "stream",
     "text": [
      "2022-07-21 13:27:38.165296 : Fichier 04454X0033_S11.nc téléchargé.\n",
      "Fichier 04454X0033_S11.nc converti en fichier pickle\n"
     ]
    },
    {
     "name": "stderr",
     "output_type": "stream",
     "text": [
      "2022-07-21 13:27:38,227 INFO Downloading https://download-0000-clone.copernicus-climate.eu/cache-compute-0000/cache/data0/adaptor.mars.internal-1658363412.7317035-15902-3-634226b8-c7e7-4bf6-8e44-702394bc8f96.nc to ./data/era5/04138X0005_21.nc (268.8K)\n"
     ]
    },
    {
     "name": "stdout",
     "output_type": "stream",
     "text": [
      "Fichier ./data/era5/04454X0033_S11.nc.nc supprimé\n"
     ]
    },
    {
     "name": "stderr",
     "output_type": "stream",
     "text": [
      "2022-07-21 13:27:38,563 INFO Download rate 798.8K/s\n",
      "2022-07-21 13:27:38,613 INFO Downloading https://download-0000-clone.copernicus-climate.eu/cache-compute-0000/cache/data9/adaptor.mars.internal-1658362904.7341545-9943-15-dc6b784b-77b3-44c6-9302-b3eed2d8b94c.nc to ./data/era5/01996X0008_341.nc (268.8K)\n"
     ]
    },
    {
     "name": "stdout",
     "output_type": "stream",
     "text": [
      "2022-07-21 13:27:38.566434 : Fichier 04138X0005_21.nc téléchargé.\n",
      "Fichier 04138X0005_21.nc converti en fichier pickle\n",
      "Fichier ./data/era5/04138X0005_21.nc.nc supprimé\n"
     ]
    },
    {
     "name": "stderr",
     "output_type": "stream",
     "text": [
      "2022-07-21 13:27:38,729 INFO Download rate 2.3M/s\n",
      "2022-07-21 13:27:38,766 INFO Downloading https://download-0016.copernicus-climate.eu/cache-compute-0016/cache/data2/adaptor.mars.internal-1658363698.1118422-29731-3-07763721-adaf-4468-89cc-208c6521c15b.nc to ./data/era5/02343X0003_561.nc (268.8K)\n"
     ]
    },
    {
     "name": "stdout",
     "output_type": "stream",
     "text": [
      "2022-07-21 13:27:38.729311 : Fichier 01996X0008_341.nc téléchargé.\n",
      "Fichier 01996X0008_341.nc converti en fichier pickle\n",
      "Fichier ./data/era5/01996X0008_341.nc.nc supprimé\n"
     ]
    },
    {
     "name": "stderr",
     "output_type": "stream",
     "text": [
      "2022-07-21 13:27:38,982 INFO Download rate 1.2M/s\n",
      "2022-07-21 13:27:39,029 INFO Downloading https://download-0003-clone.copernicus-climate.eu/cache-compute-0003/cache/data9/adaptor.mars.internal-1658363710.9928234-6213-14-1d514af6-af73-48f4-84c7-2cc1bd6b25e8.nc to ./data/era5/03783X0046_71.nc (268.8K)\n"
     ]
    },
    {
     "name": "stdout",
     "output_type": "stream",
     "text": [
      "2022-07-21 13:27:38.982559 : Fichier 02343X0003_561.nc téléchargé.\n",
      "Fichier 02343X0003_561.nc converti en fichier pickle\n",
      "Fichier ./data/era5/02343X0003_561.nc.nc supprimé\n"
     ]
    },
    {
     "name": "stderr",
     "output_type": "stream",
     "text": [
      "2022-07-21 13:27:39,261 INFO Download rate 1.1M/s\n",
      "2022-07-21 13:27:39,298 INFO Downloading https://download-0009-clone.copernicus-climate.eu/cache-compute-0009/cache/data6/adaptor.mars.internal-1658367516.4730809-27122-9-49bff187-2335-4a8f-8f04-435350a2d056.nc to ./data/era5/02718X0039_271.nc (268.8K)\n"
     ]
    },
    {
     "name": "stdout",
     "output_type": "stream",
     "text": [
      "2022-07-21 13:27:39.261155 : Fichier 03783X0046_71.nc téléchargé.\n",
      "Fichier 03783X0046_71.nc converti en fichier pickle\n",
      "Fichier ./data/era5/03783X0046_71.nc.nc supprimé\n"
     ]
    },
    {
     "name": "stderr",
     "output_type": "stream",
     "text": [
      "2022-07-21 13:27:39,515 INFO Download rate 1.2M/s\n",
      "2022-07-21 13:27:39,570 INFO Downloading https://download-0001-clone.copernicus-climate.eu/cache-compute-0001/cache/data8/adaptor.mars.internal-1658365418.7827868-3834-15-fc14b406-7e13-4b0c-8d2f-26a666ddeb88.nc to ./data/era5/01405X0209_COCHA1.nc (89.1K)\n"
     ]
    },
    {
     "name": "stdout",
     "output_type": "stream",
     "text": [
      "2022-07-21 13:27:39.526639 : Fichier 02718X0039_271.nc téléchargé.\n",
      "Fichier 02718X0039_271.nc converti en fichier pickle\n",
      "Fichier ./data/era5/02718X0039_271.nc.nc supprimé\n"
     ]
    },
    {
     "name": "stderr",
     "output_type": "stream",
     "text": [
      "2022-07-21 13:27:39,771 INFO Download rate 446.4K/s\n",
      "2022-07-21 13:27:39,824 INFO Downloading https://download-0015-clone.copernicus-climate.eu/cache-compute-0015/cache/data9/adaptor.mars.internal-1658365128.2030776-23502-8-15ea05b9-5acd-4ebb-94a1-c412962cf5cb.nc to ./data/era5/01398X0119_MERLA1.nc (89.1K)\n"
     ]
    },
    {
     "name": "stdout",
     "output_type": "stream",
     "text": [
      "2022-07-21 13:27:39.772353 : Fichier 01405X0209_COCHA1.nc téléchargé.\n",
      "Fichier 01405X0209_COCHA1.nc converti en fichier pickle\n",
      "Fichier ./data/era5/01405X0209_COCHA1.nc.nc supprimé\n"
     ]
    },
    {
     "name": "stderr",
     "output_type": "stream",
     "text": [
      "2022-07-21 13:27:40,047 INFO Download rate 400.9K/s\n",
      "2022-07-21 13:27:40,090 INFO Downloading https://download-0011-clone.copernicus-climate.eu/cache-compute-0011/cache/data8/adaptor.mars.internal-1658366957.404944-15025-15-279a50db-ee5b-415d-8c60-a8b5602f3e4a.nc to ./data/era5/02726X0039_231B1.nc (268.8K)\n"
     ]
    },
    {
     "name": "stdout",
     "output_type": "stream",
     "text": [
      "2022-07-21 13:27:40.047488 : Fichier 01398X0119_MERLA1.nc téléchargé.\n",
      "Fichier 01398X0119_MERLA1.nc converti en fichier pickle\n",
      "Fichier ./data/era5/01398X0119_MERLA1.nc.nc supprimé\n"
     ]
    },
    {
     "name": "stderr",
     "output_type": "stream",
     "text": [
      "2022-07-21 13:27:40,258 INFO Download rate 1.6M/s\n",
      "2022-07-21 13:27:40,309 INFO Downloading https://download-0002-clone.copernicus-climate.eu/cache-compute-0002/cache/data2/adaptor.mars.internal-1658362842.3845417-13073-10-ccaa49a1-c89a-424c-8a64-b23b4571b2f5.nc to ./data/era5/01995X0103_338B1.nc (268.8K)\n"
     ]
    },
    {
     "name": "stdout",
     "output_type": "stream",
     "text": [
      "2022-07-21 13:27:40.259539 : Fichier 02726X0039_231B1.nc téléchargé.\n",
      "Fichier 02726X0039_231B1.nc converti en fichier pickle\n",
      "Fichier ./data/era5/02726X0039_231B1.nc.nc supprimé\n"
     ]
    },
    {
     "name": "stderr",
     "output_type": "stream",
     "text": [
      "2022-07-21 13:27:42,322 INFO Download rate 133.5K/s\n",
      "2022-07-21 13:27:42,369 INFO Downloading https://download-0005-clone.copernicus-climate.eu/cache-compute-0005/cache/data0/adaptor.mars.internal-1658363134.1321988-16197-9-b3be43f5-778d-4e69-91dd-2c3aaf080eb0.nc to ./data/era5/01358X0035_PC1.nc (268.8K)\n",
      "2022-07-21 13:27:42,524 INFO Downloading https://download-0008-clone.copernicus-climate.eu/cache-compute-0008/cache/data5/adaptor.mars.internal-1658367105.8903258-14168-16-0abdc963-5d42-4bee-802f-d5bab767122b.nc to ./data/era5/03001X0110_SC1.nc (260.2K)\n"
     ]
    },
    {
     "name": "stdout",
     "output_type": "stream",
     "text": [
      "2022-07-21 13:27:42.322331 : Fichier 01995X0103_338B1.nc téléchargé.\n",
      "Fichier 01995X0103_338B1.nc converti en fichier pickle\n",
      "Fichier ./data/era5/01995X0103_338B1.nc.nc supprimé\n"
     ]
    },
    {
     "name": "stderr",
     "output_type": "stream",
     "text": [
      "2022-07-21 13:27:42,775 INFO Download rate 1M/s\n",
      "2022-07-21 13:27:42,822 INFO Downloading https://download-0001-clone.copernicus-climate.eu/cache-compute-0001/cache/data5/adaptor.mars.internal-1658359148.0146995-1886-18-c209e42b-89ab-4209-acff-d67ec7a5189f.nc to ./data/era5/01996X0059_352D1.nc (268.8K)\n"
     ]
    },
    {
     "name": "stdout",
     "output_type": "stream",
     "text": [
      "2022-07-21 13:27:42.775878 : Fichier 03001X0110_SC1.nc téléchargé.\n",
      "Fichier 03001X0110_SC1.nc converti en fichier pickle\n",
      "Fichier ./data/era5/03001X0110_SC1.nc.nc supprimé\n"
     ]
    },
    {
     "name": "stderr",
     "output_type": "stream",
     "text": [
      "2022-07-21 13:27:43,158 INFO Download rate 800.2K/s\n",
      "2022-07-21 13:27:43,207 INFO Downloading https://download-0003-clone.copernicus-climate.eu/cache-compute-0003/cache/data3/adaptor.mars.internal-1658359006.280564-6111-10-87b79096-4a97-434e-9eae-af64003c2e85.nc to ./data/era5/01988X0050_572D1.nc (217.4K)\n"
     ]
    },
    {
     "name": "stdout",
     "output_type": "stream",
     "text": [
      "2022-07-21 13:27:43.158923 : Fichier 01996X0059_352D1.nc téléchargé.\n",
      "Fichier 01996X0059_352D1.nc converti en fichier pickle\n",
      "Fichier ./data/era5/01996X0059_352D1.nc.nc supprimé\n"
     ]
    },
    {
     "name": "stderr",
     "output_type": "stream",
     "text": [
      "2022-07-21 13:27:43,341 INFO Download rate 1.6M/s\n",
      "2022-07-21 13:27:43,376 INFO Downloading https://download-0003-clone.copernicus-climate.eu/cache-compute-0003/cache/data1/adaptor.mars.internal-1658372458.2142422-7791-11-d430c3ac-d670-44f3-9402-59e39ba2ed06.nc to ./data/era5/02344X0070_319D1.nc (268.8K)\n"
     ]
    },
    {
     "name": "stdout",
     "output_type": "stream",
     "text": [
      "2022-07-21 13:27:43.341689 : Fichier 01988X0050_572D1.nc téléchargé.\n",
      "Fichier 01988X0050_572D1.nc converti en fichier pickle\n",
      "Fichier ./data/era5/01988X0050_572D1.nc.nc supprimé\n"
     ]
    },
    {
     "name": "stderr",
     "output_type": "stream",
     "text": [
      "2022-07-21 13:27:43,476 INFO Download rate 2.6M/s\n",
      "2022-07-21 13:27:43,523 INFO Downloading https://download-0007-clone.copernicus-climate.eu/cache-compute-0007/cache/data7/adaptor.mars.internal-1658371062.8867576-11099-5-6beba46b-29bd-4aa3-a17a-77d23a6d0eb0.nc to ./data/era5/01593X0100_F1.nc (268.8K)\n"
     ]
    },
    {
     "name": "stdout",
     "output_type": "stream",
     "text": [
      "2022-07-21 13:27:43.476695 : Fichier 02344X0070_319D1.nc téléchargé.\n",
      "Fichier 02344X0070_319D1.nc converti en fichier pickle\n",
      "Fichier ./data/era5/02344X0070_319D1.nc.nc supprimé\n"
     ]
    },
    {
     "name": "stderr",
     "output_type": "stream",
     "text": [
      "2022-07-21 13:27:43,771 INFO Download rate 1.1M/s\n",
      "2022-07-21 13:27:43,824 INFO Downloading https://download-0021.copernicus-climate.eu/cache-compute-0021/cache/data1/adaptor.mars.internal-1658370573.5594375-23459-10-7e9a0cc0-dbf2-43ca-968a-6d162749cc25.nc to ./data/era5/02653X0001_F1.nc (268.8K)\n"
     ]
    },
    {
     "name": "stdout",
     "output_type": "stream",
     "text": [
      "2022-07-21 13:27:43.777545 : Fichier 01593X0100_F1.nc téléchargé.\n",
      "Fichier 01593X0100_F1.nc converti en fichier pickle\n",
      "Fichier ./data/era5/01593X0100_F1.nc.nc supprimé\n"
     ]
    },
    {
     "name": "stderr",
     "output_type": "stream",
     "text": [
      "2022-07-21 13:27:44,074 INFO Download rate 1.1M/s\n",
      "2022-07-21 13:27:44,109 INFO Downloading https://download-0001-clone.copernicus-climate.eu/cache-compute-0001/cache/data4/adaptor.mars.internal-1658368294.2531216-18810-11-225c0f62-b497-4e14-9d3b-59545940d63a.nc to ./data/era5/04761X0021_F1.nc (157.5K)\n"
     ]
    },
    {
     "name": "stdout",
     "output_type": "stream",
     "text": [
      "2022-07-21 13:27:44.078207 : Fichier 02653X0001_F1.nc téléchargé.\n",
      "Fichier 02653X0001_F1.nc converti en fichier pickle\n",
      "Fichier ./data/era5/02653X0001_F1.nc.nc supprimé\n"
     ]
    },
    {
     "name": "stderr",
     "output_type": "stream",
     "text": [
      "2022-07-21 13:27:44,256 INFO Download rate 1M/s\n",
      "2022-07-21 13:27:44,310 INFO Downloading https://download-0014-clone.copernicus-climate.eu/cache-compute-0014/cache/data4/adaptor.mars.internal-1658372038.9194179-29350-12-d3959174-b354-4254-8659-5fe7f3254000.nc to ./data/era5/03732X0002_F1.nc (268.8K)\n"
     ]
    },
    {
     "name": "stdout",
     "output_type": "stream",
     "text": [
      "2022-07-21 13:27:44.256638 : Fichier 04761X0021_F1.nc téléchargé.\n",
      "Fichier 04761X0021_F1.nc converti en fichier pickle\n",
      "Fichier ./data/era5/04761X0021_F1.nc.nc supprimé\n"
     ]
    },
    {
     "name": "stderr",
     "output_type": "stream",
     "text": [
      "2022-07-21 13:27:44,545 INFO Download rate 1.1M/s\n",
      "2022-07-21 13:27:44,594 INFO Downloading https://download-0016.copernicus-climate.eu/cache-compute-0016/cache/data2/adaptor.mars.internal-1658368396.354462-7031-8-8a3de8cf-76ae-4748-9c66-59446a07ff34.nc to ./data/era5/03027X0007_F1.nc (251.7K)\n"
     ]
    },
    {
     "name": "stdout",
     "output_type": "stream",
     "text": [
      "2022-07-21 13:27:44.560996 : Fichier 03732X0002_F1.nc téléchargé.\n",
      "Fichier 03732X0002_F1.nc converti en fichier pickle\n",
      "Fichier ./data/era5/03732X0002_F1.nc.nc supprimé\n"
     ]
    },
    {
     "name": "stderr",
     "output_type": "stream",
     "text": [
      "2022-07-21 13:27:44,815 INFO Download rate 1.1M/s\n",
      "2022-07-21 13:27:44,862 INFO Downloading https://download-0009-clone.copernicus-climate.eu/cache-compute-0009/cache/data0/adaptor.mars.internal-1658368396.501068-12263-16-f0665aad-4ad7-4e57-bd77-fafe9f2d07c6.nc to ./data/era5/01116X0138_F1.nc (268.8K)\n"
     ]
    },
    {
     "name": "stdout",
     "output_type": "stream",
     "text": [
      "2022-07-21 13:27:44.815217 : Fichier 03027X0007_F1.nc téléchargé.\n",
      "Fichier 03027X0007_F1.nc converti en fichier pickle\n",
      "Fichier ./data/era5/03027X0007_F1.nc.nc supprimé\n"
     ]
    },
    {
     "name": "stderr",
     "output_type": "stream",
     "text": [
      "2022-07-21 13:27:45,161 INFO Download rate 898.6K/s\n",
      "2022-07-21 13:27:45,226 INFO Downloading https://download-0020.copernicus-climate.eu/cache-compute-0020/cache/data4/adaptor.mars.internal-1658366300.941652-26032-14-8d29ea0d-18fa-422a-bce6-e819425c610d.nc to ./data/era5/02718X0005_G1.nc (166.1K)\n"
     ]
    },
    {
     "name": "stdout",
     "output_type": "stream",
     "text": [
      "2022-07-21 13:27:45.161474 : Fichier 01116X0138_F1.nc téléchargé.\n",
      "Fichier 01116X0138_F1.nc converti en fichier pickle\n",
      "Fichier ./data/era5/01116X0138_F1.nc.nc supprimé\n"
     ]
    },
    {
     "name": "stderr",
     "output_type": "stream",
     "text": [
      "2022-07-21 13:27:45,447 INFO Download rate 752.3K/s\n",
      "2022-07-21 13:27:45,480 INFO Downloading https://download-0020.copernicus-climate.eu/cache-compute-0020/cache/data8/adaptor.mars.internal-1658367278.50721-2566-8-7cb0586a-ea27-4b56-ba9c-3f515a5f5330.nc to ./data/era5/01654X0051_HOMAL1.nc (89.1K)\n"
     ]
    },
    {
     "name": "stdout",
     "output_type": "stream",
     "text": [
      "2022-07-21 13:27:45.447737 : Fichier 02718X0005_G1.nc téléchargé.\n",
      "Fichier 02718X0005_G1.nc converti en fichier pickle\n",
      "Fichier ./data/era5/02718X0005_G1.nc.nc supprimé\n"
     ]
    },
    {
     "name": "stderr",
     "output_type": "stream",
     "text": [
      "2022-07-21 13:27:45,558 INFO Download rate 1.1M/s\n",
      "2022-07-21 13:27:45,595 INFO Downloading https://download-0007-clone.copernicus-climate.eu/cache-compute-0007/cache/data1/adaptor.mars.internal-1658365418.7749927-17638-2-0649d233-54db-40c0-beb4-0af5aa6de351.nc to ./data/era5/01405X0212_FORAL1.nc (89.1K)\n"
     ]
    },
    {
     "name": "stdout",
     "output_type": "stream",
     "text": [
      "2022-07-21 13:27:45.558218 : Fichier 01654X0051_HOMAL1.nc téléchargé.\n",
      "Fichier 01654X0051_HOMAL1.nc converti en fichier pickle\n",
      "Fichier ./data/era5/01654X0051_HOMAL1.nc.nc supprimé\n"
     ]
    },
    {
     "name": "stderr",
     "output_type": "stream",
     "text": [
      "2022-07-21 13:27:45,711 INFO Download rate 769.9K/s\n",
      "2022-07-21 13:27:45,742 INFO Downloading https://download-0017.copernicus-climate.eu/cache-compute-0017/cache/data6/adaptor.mars.internal-1658368981.5307097-4448-1-2cfe6000-fa4d-4a0b-9cd3-92772ba0ce88.nc to ./data/era5/01405X0215_ROSAL1.nc (89.1K)\n"
     ]
    },
    {
     "name": "stdout",
     "output_type": "stream",
     "text": [
      "2022-07-21 13:27:45.711646 : Fichier 01405X0212_FORAL1.nc téléchargé.\n",
      "Fichier 01405X0212_FORAL1.nc converti en fichier pickle\n",
      "Fichier ./data/era5/01405X0212_FORAL1.nc.nc supprimé\n"
     ]
    },
    {
     "name": "stderr",
     "output_type": "stream",
     "text": [
      "2022-07-21 13:27:46,081 INFO Download rate 262.7K/s\n",
      "2022-07-21 13:27:46,120 INFO Downloading https://download-0016.copernicus-climate.eu/cache-compute-0016/cache/data3/adaptor.mars.internal-1658366332.2689545-7266-5-bd40c878-e65f-4633-b8a4-b23284949daf.nc to ./data/era5/01398X0118_BETAL1.nc (89.1K)\n"
     ]
    },
    {
     "name": "stdout",
     "output_type": "stream",
     "text": [
      "2022-07-21 13:27:46.081854 : Fichier 01405X0215_ROSAL1.nc téléchargé.\n",
      "Fichier 01405X0215_ROSAL1.nc converti en fichier pickle\n",
      "Fichier ./data/era5/01405X0215_ROSAL1.nc.nc supprimé\n"
     ]
    },
    {
     "name": "stderr",
     "output_type": "stream",
     "text": [
      "2022-07-21 13:27:46,237 INFO Download rate 769.8K/s\n",
      "2022-07-21 13:27:46,274 INFO Downloading https://download-0014-clone.copernicus-climate.eu/cache-compute-0014/cache/data8/adaptor.mars.internal-1658372614.504779-2227-13-74ae58d6-99dc-490e-a167-f209eb55f7a4.nc to ./data/era5/01398X0099_GEL1.nc (260.2K)\n"
     ]
    },
    {
     "name": "stdout",
     "output_type": "stream",
     "text": [
      "2022-07-21 13:27:46.237438 : Fichier 01398X0118_BETAL1.nc téléchargé.\n",
      "Fichier 01398X0118_BETAL1.nc converti en fichier pickle\n",
      "Fichier ./data/era5/01398X0118_BETAL1.nc.nc supprimé\n"
     ]
    },
    {
     "name": "stderr",
     "output_type": "stream",
     "text": [
      "2022-07-21 13:27:46,432 INFO Download rate 1.6M/s\n",
      "2022-07-21 13:27:46,463 INFO Downloading https://download-0017.copernicus-climate.eu/cache-compute-0017/cache/data7/adaptor.mars.internal-1658376716.7440634-14058-18-30fa3fd9-0194-44e7-afde-02f1ffb6dd8f.nc to ./data/era5/02276X0050_P1.nc (268.8K)\n"
     ]
    },
    {
     "name": "stdout",
     "output_type": "stream",
     "text": [
      "2022-07-21 13:27:46.432052 : Fichier 01398X0099_GEL1.nc téléchargé.\n",
      "Fichier 01398X0099_GEL1.nc converti en fichier pickle\n",
      "Fichier ./data/era5/01398X0099_GEL1.nc.nc supprimé\n"
     ]
    },
    {
     "name": "stderr",
     "output_type": "stream",
     "text": [
      "2022-07-21 13:27:46,630 INFO Download rate 1.6M/s\n",
      "2022-07-21 13:27:46,673 INFO Downloading https://download-0018.copernicus-climate.eu/cache-compute-0018/cache/data0/adaptor.mars.internal-1658376713.4204762-22794-20-6016c79a-25fd-4a18-986c-a5c5c83d63d6.nc to ./data/era5/01146X0070_P1.nc (268.8K)\n"
     ]
    },
    {
     "name": "stdout",
     "output_type": "stream",
     "text": [
      "2022-07-21 13:27:46.631938 : Fichier 02276X0050_P1.nc téléchargé.\n",
      "Fichier 02276X0050_P1.nc converti en fichier pickle\n",
      "Fichier ./data/era5/02276X0050_P1.nc.nc supprimé\n"
     ]
    },
    {
     "name": "stderr",
     "output_type": "stream",
     "text": [
      "2022-07-21 13:27:46,945 INFO Download rate 989.8K/s\n",
      "2022-07-21 13:27:46,992 INFO Downloading https://download-0019.copernicus-climate.eu/cache-compute-0019/cache/data7/adaptor.mars.internal-1658372487.486453-2482-17-34f06dd3-f89c-4485-962c-28f05e458023.nc to ./data/era5/03745X0021_P1.nc (268.8K)\n"
     ]
    },
    {
     "name": "stdout",
     "output_type": "stream",
     "text": [
      "2022-07-21 13:27:46.946600 : Fichier 01146X0070_P1.nc téléchargé.\n",
      "Fichier 01146X0070_P1.nc converti en fichier pickle\n",
      "Fichier ./data/era5/01146X0070_P1.nc.nc supprimé\n"
     ]
    },
    {
     "name": "stderr",
     "output_type": "stream",
     "text": [
      "2022-07-21 13:27:47,223 INFO Download rate 1.1M/s\n",
      "2022-07-21 13:27:47,258 INFO Downloading https://download-0017.copernicus-climate.eu/cache-compute-0017/cache/data5/adaptor.mars.internal-1658376716.0850604-11966-5-5708ec02-e07d-4307-9a41-45528be612e9.nc to ./data/era5/03366X0021_P1.nc (268.8K)\n"
     ]
    },
    {
     "name": "stdout",
     "output_type": "stream",
     "text": [
      "2022-07-21 13:27:47.224112 : Fichier 03745X0021_P1.nc téléchargé.\n",
      "Fichier 03745X0021_P1.nc converti en fichier pickle\n",
      "Fichier ./data/era5/03745X0021_P1.nc.nc supprimé\n"
     ]
    },
    {
     "name": "stderr",
     "output_type": "stream",
     "text": [
      "2022-07-21 13:27:47,404 INFO Download rate 1.8M/s\n"
     ]
    },
    {
     "name": "stdout",
     "output_type": "stream",
     "text": [
      "2022-07-21 13:27:47.404588 : Fichier 03366X0021_P1.nc téléchargé.\n"
     ]
    },
    {
     "name": "stderr",
     "output_type": "stream",
     "text": [
      "2022-07-21 13:27:47,472 INFO Downloading https://download-0003-clone.copernicus-climate.eu/cache-compute-0003/cache/data1/adaptor.mars.internal-1658376385.9044793-4474-7-b738729a-5f82-4163-914c-2b4916a821a5.nc to ./data/era5/03712X0012_P1.nc (268.8K)\n"
     ]
    },
    {
     "name": "stdout",
     "output_type": "stream",
     "text": [
      "Fichier 03366X0021_P1.nc converti en fichier pickle\n",
      "Fichier ./data/era5/03366X0021_P1.nc.nc supprimé\n"
     ]
    },
    {
     "name": "stderr",
     "output_type": "stream",
     "text": [
      "2022-07-21 13:27:47,749 INFO Download rate 973.9K/s\n",
      "2022-07-21 13:27:47,792 INFO Downloading https://download-0021.copernicus-climate.eu/cache-compute-0021/cache/data4/adaptor.mars.internal-1658372559.2290025-6987-5-b5d48d4c-4da7-4e1d-b978-734baf930a23.nc to ./data/era5/03375X0013_P1.nc (268.8K)\n"
     ]
    },
    {
     "name": "stdout",
     "output_type": "stream",
     "text": [
      "2022-07-21 13:27:47.750255 : Fichier 03712X0012_P1.nc téléchargé.\n",
      "Fichier 03712X0012_P1.nc converti en fichier pickle\n",
      "Fichier ./data/era5/03712X0012_P1.nc.nc supprimé\n"
     ]
    },
    {
     "name": "stderr",
     "output_type": "stream",
     "text": [
      "2022-07-21 13:27:48,038 INFO Download rate 1.1M/s\n",
      "2022-07-21 13:27:48,075 INFO Downloading https://download-0006-clone.copernicus-climate.eu/cache-compute-0006/cache/data1/adaptor.mars.internal-1658376711.8102658-25747-1-ce94f7b2-37c6-4af3-b4ea-427ee1c60a03.nc to ./data/era5/03737X0013_P1.nc (268.8K)\n"
     ]
    },
    {
     "name": "stdout",
     "output_type": "stream",
     "text": [
      "2022-07-21 13:27:48.039064 : Fichier 03375X0013_P1.nc téléchargé.\n",
      "Fichier 03375X0013_P1.nc converti en fichier pickle\n",
      "Fichier ./data/era5/03375X0013_P1.nc.nc supprimé\n"
     ]
    },
    {
     "name": "stderr",
     "output_type": "stream",
     "text": [
      "2022-07-21 13:27:48,320 INFO Download rate 1.1M/s\n",
      "2022-07-21 13:27:48,367 INFO Downloading https://download-0016.copernicus-climate.eu/cache-compute-0016/cache/data8/adaptor.mars.internal-1658375532.2681832-18433-10-3709011a-cb94-48f1-90b2-c148f87cca79.nc to ./data/era5/03717X0004_P1.nc (268.8K)\n"
     ]
    },
    {
     "name": "stdout",
     "output_type": "stream",
     "text": [
      "2022-07-21 13:27:48.320167 : Fichier 03737X0013_P1.nc téléchargé.\n",
      "Fichier 03737X0013_P1.nc converti en fichier pickle\n",
      "Fichier ./data/era5/03737X0013_P1.nc.nc supprimé\n"
     ]
    },
    {
     "name": "stderr",
     "output_type": "stream",
     "text": [
      "2022-07-21 13:27:48,522 INFO Download rate 1.7M/s\n",
      "2022-07-21 13:27:48,569 INFO Downloading https://download-0000-clone.copernicus-climate.eu/cache-compute-0000/cache/data4/adaptor.mars.internal-1658374582.1858675-6031-11-63f43be4-976b-414f-a4ea-3beaff3911b4.nc to ./data/era5/01918X0006_P1.nc (268.8K)\n"
     ]
    },
    {
     "name": "stdout",
     "output_type": "stream",
     "text": [
      "2022-07-21 13:27:48.522898 : Fichier 03717X0004_P1.nc téléchargé.\n",
      "Fichier 03717X0004_P1.nc converti en fichier pickle\n",
      "Fichier ./data/era5/03717X0004_P1.nc.nc supprimé\n"
     ]
    },
    {
     "name": "stderr",
     "output_type": "stream",
     "text": [
      "2022-07-21 13:27:48,866 INFO Download rate 908K/s\n",
      "2022-07-21 13:27:48,922 INFO Downloading https://download-0002-clone.copernicus-climate.eu/cache-compute-0002/cache/data2/adaptor.mars.internal-1658379838.0915139-14507-1-728fc7d9-fb76-431b-8a94-fefdae216817.nc to ./data/era5/02296X0038_P1.nc (268.8K)\n"
     ]
    },
    {
     "name": "stdout",
     "output_type": "stream",
     "text": [
      "2022-07-21 13:27:48.866009 : Fichier 01918X0006_P1.nc téléchargé.\n",
      "Fichier 01918X0006_P1.nc converti en fichier pickle\n",
      "Fichier ./data/era5/01918X0006_P1.nc.nc supprimé\n"
     ]
    },
    {
     "name": "stderr",
     "output_type": "stream",
     "text": [
      "2022-07-21 13:27:49,175 INFO Download rate 1M/s\n",
      "2022-07-21 13:27:49,219 INFO Downloading https://download-0006-clone.copernicus-climate.eu/cache-compute-0006/cache/data1/adaptor.mars.internal-1658381081.0267897-28388-1-ccbc5795-c72c-4473-b06c-6876e58dbb2c.nc to ./data/era5/03001X0112_DP1.nc (260.2K)\n"
     ]
    },
    {
     "name": "stdout",
     "output_type": "stream",
     "text": [
      "2022-07-21 13:27:49.176538 : Fichier 02296X0038_P1.nc téléchargé.\n",
      "Fichier 02296X0038_P1.nc converti en fichier pickle\n",
      "Fichier ./data/era5/02296X0038_P1.nc.nc supprimé\n"
     ]
    },
    {
     "name": "stderr",
     "output_type": "stream",
     "text": [
      "2022-07-21 13:27:49,482 INFO Download rate 990K/s\n",
      "2022-07-21 13:27:49,524 INFO Downloading https://download-0017.copernicus-climate.eu/cache-compute-0017/cache/data8/adaptor.mars.internal-1658380581.7804573-6092-20-2cc3d484-fcc2-4508-a18b-dbcf5b65d2ba.nc to ./data/era5/02723X0900_245R1.nc (268.8K)\n"
     ]
    },
    {
     "name": "stdout",
     "output_type": "stream",
     "text": [
      "2022-07-21 13:27:49.483077 : Fichier 03001X0112_DP1.nc téléchargé.\n",
      "Fichier 03001X0112_DP1.nc converti en fichier pickle\n",
      "Fichier ./data/era5/03001X0112_DP1.nc.nc supprimé\n"
     ]
    },
    {
     "name": "stderr",
     "output_type": "stream",
     "text": [
      "2022-07-21 13:27:49,685 INFO Download rate 1.6M/s\n",
      "2022-07-21 13:27:49,722 INFO Downloading https://download-0000-clone.copernicus-climate.eu/cache-compute-0000/cache/data7/adaptor.mars.internal-1658381634.442985-22635-13-5029a274-575f-4bce-9bb9-a4a17422d0e3.nc to ./data/era5/01097X0015_SR1.nc (268.8K)\n"
     ]
    },
    {
     "name": "stdout",
     "output_type": "stream",
     "text": [
      "2022-07-21 13:27:49.685431 : Fichier 02723X0900_245R1.nc téléchargé.\n",
      "Fichier 02723X0900_245R1.nc converti en fichier pickle\n",
      "Fichier ./data/era5/02723X0900_245R1.nc.nc supprimé\n"
     ]
    },
    {
     "name": "stderr",
     "output_type": "stream",
     "text": [
      "2022-07-21 13:27:49,912 INFO Download rate 1.4M/s\n",
      "2022-07-21 13:27:49,957 INFO Downloading https://download-0016.copernicus-climate.eu/cache-compute-0016/cache/data4/adaptor.mars.internal-1658379306.9667907-11745-5-094e6360-9e5b-4ea1-bd67-87063b9ead36.nc to ./data/era5/02603X1010_S1.nc (268.8K)\n"
     ]
    },
    {
     "name": "stdout",
     "output_type": "stream",
     "text": [
      "2022-07-21 13:27:49.912303 : Fichier 01097X0015_SR1.nc téléchargé.\n",
      "Fichier 01097X0015_SR1.nc converti en fichier pickle\n",
      "Fichier ./data/era5/01097X0015_SR1.nc.nc supprimé\n"
     ]
    },
    {
     "name": "stderr",
     "output_type": "stream",
     "text": [
      "2022-07-21 13:27:50,120 INFO Download rate 1.6M/s\n",
      "2022-07-21 13:27:50,168 INFO Downloading https://download-0016.copernicus-climate.eu/cache-compute-0016/cache/data9/adaptor.mars.internal-1658385017.924651-26334-17-8bca08cf-d556-4aa2-a16d-33daf1ea173d.nc to ./data/era5/02615X0020_S1.nc (268.8K)\n"
     ]
    },
    {
     "name": "stdout",
     "output_type": "stream",
     "text": [
      "2022-07-21 13:27:50.121035 : Fichier 02603X1010_S1.nc téléchargé.\n",
      "Fichier 02603X1010_S1.nc converti en fichier pickle\n",
      "Fichier ./data/era5/02603X1010_S1.nc.nc supprimé\n"
     ]
    },
    {
     "name": "stderr",
     "output_type": "stream",
     "text": [
      "2022-07-21 13:27:50,255 INFO Download rate 3M/s\n",
      "2022-07-21 13:27:50,299 INFO Downloading https://download-0003-clone.copernicus-climate.eu/cache-compute-0003/cache/data9/adaptor.mars.internal-1658380752.8552432-3017-15-eb23c71a-43eb-48b9-82ed-b628c1d6ea76.nc to ./data/era5/02648X0020_S1.nc (268.8K)\n"
     ]
    },
    {
     "name": "stdout",
     "output_type": "stream",
     "text": [
      "2022-07-21 13:27:50.256222 : Fichier 02615X0020_S1.nc téléchargé.\n",
      "Fichier 02615X0020_S1.nc converti en fichier pickle\n",
      "Fichier ./data/era5/02615X0020_S1.nc.nc supprimé\n"
     ]
    },
    {
     "name": "stderr",
     "output_type": "stream",
     "text": [
      "2022-07-21 13:27:50,452 INFO Download rate 1.7M/s\n",
      "2022-07-21 13:27:50,499 INFO Downloading https://download-0010-clone.copernicus-climate.eu/cache-compute-0010/cache/data9/adaptor.mars.internal-1658385032.263655-14862-6-f6edf023-5f1d-4df0-bcac-2020ad78095d.nc to ./data/era5/02267X0030_S1.nc (268.8K)\n"
     ]
    },
    {
     "name": "stdout",
     "output_type": "stream",
     "text": [
      "2022-07-21 13:27:50.453498 : Fichier 02648X0020_S1.nc téléchargé.\n",
      "Fichier 02648X0020_S1.nc converti en fichier pickle\n",
      "Fichier ./data/era5/02648X0020_S1.nc.nc supprimé\n"
     ]
    },
    {
     "name": "stderr",
     "output_type": "stream",
     "text": [
      "2022-07-21 13:27:50,725 INFO Download rate 1.2M/s\n",
      "2022-07-21 13:27:50,767 INFO Downloading https://download-0020.copernicus-climate.eu/cache-compute-0020/cache/data3/adaptor.mars.internal-1658381068.0052261-22519-15-0926aa20-e07c-47f4-bfaf-d9367f752840.nc to ./data/era5/01868X0030_S1.nc (268.8K)\n"
     ]
    },
    {
     "name": "stdout",
     "output_type": "stream",
     "text": [
      "2022-07-21 13:27:50.725716 : Fichier 02267X0030_S1.nc téléchargé.\n",
      "Fichier 02267X0030_S1.nc converti en fichier pickle\n",
      "Fichier ./data/era5/02267X0030_S1.nc.nc supprimé\n"
     ]
    },
    {
     "name": "stderr",
     "output_type": "stream",
     "text": [
      "2022-07-21 13:27:50,979 INFO Download rate 1.2M/s\n",
      "2022-07-21 13:27:51,024 INFO Downloading https://download-0013-clone.copernicus-climate.eu/cache-compute-0013/cache/data8/adaptor.mars.internal-1658384928.0846775-8226-18-6081d07d-c400-4d4d-9a60-9adecafcb70c.nc to ./data/era5/03336X0001_S1.nc (268.8K)\n"
     ]
    },
    {
     "name": "stdout",
     "output_type": "stream",
     "text": [
      "2022-07-21 13:27:50.980781 : Fichier 01868X0030_S1.nc téléchargé.\n",
      "Fichier 01868X0030_S1.nc converti en fichier pickle\n",
      "Fichier ./data/era5/01868X0030_S1.nc.nc supprimé\n"
     ]
    },
    {
     "name": "stderr",
     "output_type": "stream",
     "text": [
      "2022-07-21 13:27:51,245 INFO Download rate 1.2M/s\n",
      "2022-07-21 13:27:51,297 INFO Downloading https://download-0012-clone.copernicus-climate.eu/cache-compute-0012/cache/data7/adaptor.mars.internal-1658384087.7893553-12361-6-98b9a47b-46fa-4d89-ae50-1687035fe7b2.nc to ./data/era5/01871X0031_S1.nc (268.8K)\n"
     ]
    },
    {
     "name": "stdout",
     "output_type": "stream",
     "text": [
      "2022-07-21 13:27:51.245675 : Fichier 03336X0001_S1.nc téléchargé.\n",
      "Fichier 03336X0001_S1.nc converti en fichier pickle\n",
      "Fichier ./data/era5/03336X0001_S1.nc.nc supprimé\n"
     ]
    },
    {
     "name": "stderr",
     "output_type": "stream",
     "text": [
      "2022-07-21 13:27:51,589 INFO Download rate 919.2K/s\n",
      "2022-07-21 13:27:51,633 INFO Downloading https://download-0008-clone.copernicus-climate.eu/cache-compute-0008/cache/data6/adaptor.mars.internal-1658383357.3457477-25790-10-b8404361-37e3-47c5-9a15-12bb03931ab0.nc to ./data/era5/01894X0002_S1.nc (268.8K)\n"
     ]
    },
    {
     "name": "stdout",
     "output_type": "stream",
     "text": [
      "2022-07-21 13:27:51.590741 : Fichier 01871X0031_S1.nc téléchargé.\n",
      "Fichier 01871X0031_S1.nc converti en fichier pickle\n",
      "Fichier ./data/era5/01871X0031_S1.nc.nc supprimé\n"
     ]
    },
    {
     "name": "stderr",
     "output_type": "stream",
     "text": [
      "2022-07-21 13:27:51,866 INFO Download rate 1.1M/s\n",
      "2022-07-21 13:27:51,930 INFO Downloading https://download-0005-clone.copernicus-climate.eu/cache-compute-0005/cache/data9/adaptor.mars.internal-1658393989.7844996-12588-4-e0491476-d851-4b56-806a-784c297bef7b.nc to ./data/era5/01885X0002_S1.nc (268.8K)\n"
     ]
    },
    {
     "name": "stdout",
     "output_type": "stream",
     "text": [
      "2022-07-21 13:27:51.866100 : Fichier 01894X0002_S1.nc téléchargé.\n",
      "Fichier 01894X0002_S1.nc converti en fichier pickle\n",
      "Fichier ./data/era5/01894X0002_S1.nc.nc supprimé\n"
     ]
    },
    {
     "name": "stderr",
     "output_type": "stream",
     "text": [
      "2022-07-21 13:27:52,277 INFO Download rate 773.4K/s\n",
      "2022-07-21 13:27:52,322 INFO Downloading https://download-0009-clone.copernicus-climate.eu/cache-compute-0009/cache/data6/adaptor.mars.internal-1658394389.806139-29629-7-da12e951-76ec-4cdc-ada8-541e134ee672.nc to ./data/era5/01347X0002_S1.nc (268.8K)\n"
     ]
    },
    {
     "name": "stdout",
     "output_type": "stream",
     "text": [
      "2022-07-21 13:27:52.277946 : Fichier 01885X0002_S1.nc téléchargé.\n",
      "Fichier 01885X0002_S1.nc converti en fichier pickle\n",
      "Fichier ./data/era5/01885X0002_S1.nc.nc supprimé\n"
     ]
    },
    {
     "name": "stderr",
     "output_type": "stream",
     "text": [
      "2022-07-21 13:27:52,647 INFO Download rate 829.3K/s\n",
      "2022-07-21 13:27:52,692 INFO Downloading https://download-0010-clone.copernicus-climate.eu/cache-compute-0010/cache/data7/adaptor.mars.internal-1658392860.577086-25994-16-9d88e962-7823-46fa-864b-bf114e8a2634.nc to ./data/era5/01897X0002_S1.nc (268.8K)\n"
     ]
    },
    {
     "name": "stdout",
     "output_type": "stream",
     "text": [
      "2022-07-21 13:27:52.647666 : Fichier 01347X0002_S1.nc téléchargé.\n",
      "Fichier 01347X0002_S1.nc converti en fichier pickle\n",
      "Fichier ./data/era5/01347X0002_S1.nc.nc supprimé\n"
     ]
    },
    {
     "name": "stderr",
     "output_type": "stream",
     "text": [
      "2022-07-21 13:27:52,850 INFO Download rate 1.7M/s\n",
      "2022-07-21 13:27:52,894 INFO Downloading https://download-0000-clone.copernicus-climate.eu/cache-compute-0000/cache/data7/adaptor.mars.internal-1658391402.9965463-21822-13-95502129-a41e-444c-b40f-9c8a7bd38413.nc to ./data/era5/02255X0003_S1.nc (268.8K)\n"
     ]
    },
    {
     "name": "stdout",
     "output_type": "stream",
     "text": [
      "2022-07-21 13:27:52.851289 : Fichier 01897X0002_S1.nc téléchargé.\n",
      "Fichier 01897X0002_S1.nc converti en fichier pickle\n",
      "Fichier ./data/era5/01897X0002_S1.nc.nc supprimé\n"
     ]
    },
    {
     "name": "stderr",
     "output_type": "stream",
     "text": [
      "2022-07-21 13:27:53,100 INFO Download rate 1.3M/s\n",
      "2022-07-21 13:27:53,147 INFO Downloading https://download-0017.copernicus-climate.eu/cache-compute-0017/cache/data9/adaptor.mars.internal-1658385045.496878-8460-8-b95234bd-d42d-490c-8de0-aa8be6689ccc.nc to ./data/era5/01086X0013_S1.nc (268.8K)\n"
     ]
    },
    {
     "name": "stdout",
     "output_type": "stream",
     "text": [
      "2022-07-21 13:27:53.100910 : Fichier 02255X0003_S1.nc téléchargé.\n",
      "Fichier 02255X0003_S1.nc converti en fichier pickle\n",
      "Fichier ./data/era5/02255X0003_S1.nc.nc supprimé\n"
     ]
    },
    {
     "name": "stderr",
     "output_type": "stream",
     "text": [
      "2022-07-21 13:27:53,401 INFO Download rate 1M/s\n",
      "2022-07-21 13:27:53,451 INFO Downloading https://download-0012-clone.copernicus-climate.eu/cache-compute-0012/cache/data7/adaptor.mars.internal-1658389175.6360161-19187-6-47ae3953-8753-4af9-a26c-269d34b1da00.nc to ./data/era5/02974X0004_S1.nc (268.8K)\n"
     ]
    },
    {
     "name": "stdout",
     "output_type": "stream",
     "text": [
      "2022-07-21 13:27:53.417007 : Fichier 01086X0013_S1.nc téléchargé.\n",
      "Fichier 01086X0013_S1.nc converti en fichier pickle\n",
      "Fichier ./data/era5/01086X0013_S1.nc.nc supprimé\n"
     ]
    },
    {
     "name": "stderr",
     "output_type": "stream",
     "text": [
      "2022-07-21 13:27:53,617 INFO Download rate 1.6M/s \n",
      "2022-07-21 13:27:53,664 INFO Downloading https://download-0009-clone.copernicus-climate.eu/cache-compute-0009/cache/data2/adaptor.mars.internal-1658389175.7286417-1035-16-b82c5f88-32e9-462b-a066-1705303477d6.nc to ./data/era5/01097X0014_S1.nc (268.8K)\n"
     ]
    },
    {
     "name": "stdout",
     "output_type": "stream",
     "text": [
      "2022-07-21 13:27:53.617364 : Fichier 02974X0004_S1.nc téléchargé.\n",
      "Fichier 02974X0004_S1.nc converti en fichier pickle\n",
      "Fichier ./data/era5/02974X0004_S1.nc.nc supprimé\n"
     ]
    },
    {
     "name": "stderr",
     "output_type": "stream",
     "text": [
      "2022-07-21 13:27:53,864 INFO Download rate 1.3M/s\n",
      "2022-07-21 13:27:53,933 INFO Downloading https://download-0013-clone.copernicus-climate.eu/cache-compute-0013/cache/data2/adaptor.mars.internal-1658387555.842157-4330-2-3d02d3f3-c14d-4297-b798-b21e212b9a3f.nc to ./data/era5/03328X0024_S1.nc (268.8K)\n"
     ]
    },
    {
     "name": "stdout",
     "output_type": "stream",
     "text": [
      "2022-07-21 13:27:53.864873 : Fichier 01097X0014_S1.nc téléchargé.\n",
      "Fichier 01097X0014_S1.nc converti en fichier pickle\n",
      "Fichier ./data/era5/01097X0014_S1.nc.nc supprimé\n"
     ]
    },
    {
     "name": "stderr",
     "output_type": "stream",
     "text": [
      "2022-07-21 13:27:54,118 INFO Download rate 1.4M/s\n",
      "2022-07-21 13:27:54,165 INFO Downloading https://download-0018.copernicus-climate.eu/cache-compute-0018/cache/data8/adaptor.mars.internal-1658389175.5584326-10129-5-5be5a8db-29a9-4f6d-98f7-8c21705fa273.nc to ./data/era5/00862X0005_S1.nc (268.8K)\n"
     ]
    },
    {
     "name": "stdout",
     "output_type": "stream",
     "text": [
      "2022-07-21 13:27:54.118852 : Fichier 03328X0024_S1.nc téléchargé.\n",
      "Fichier 03328X0024_S1.nc converti en fichier pickle\n",
      "Fichier ./data/era5/03328X0024_S1.nc.nc supprimé\n"
     ]
    },
    {
     "name": "stderr",
     "output_type": "stream",
     "text": [
      "2022-07-21 13:27:54,422 INFO Download rate 1M/s\n",
      "2022-07-21 13:27:54,469 INFO Downloading https://download-0007-clone.copernicus-climate.eu/cache-compute-0007/cache/data2/adaptor.mars.internal-1658388649.9522102-9268-17-f91acbf4-3315-4baf-ab3a-18dbc4431715.nc to ./data/era5/01102X0025_S1.nc (268.8K)\n"
     ]
    },
    {
     "name": "stdout",
     "output_type": "stream",
     "text": [
      "2022-07-21 13:27:54.422743 : Fichier 00862X0005_S1.nc téléchargé.\n",
      "Fichier 00862X0005_S1.nc converti en fichier pickle\n",
      "Fichier ./data/era5/00862X0005_S1.nc.nc supprimé\n"
     ]
    },
    {
     "name": "stderr",
     "output_type": "stream",
     "text": [
      "2022-07-21 13:27:54,722 INFO Download rate 1M/s\n",
      "2022-07-21 13:27:54,754 INFO Downloading https://download-0013-clone.copernicus-climate.eu/cache-compute-0013/cache/data4/adaptor.mars.internal-1658389175.7414064-15403-6-e27e404f-add1-426d-a462-1fbd33a1ebc6.nc to ./data/era5/01616X0006_S1.nc (268.8K)\n"
     ]
    },
    {
     "name": "stdout",
     "output_type": "stream",
     "text": [
      "2022-07-21 13:27:54.722975 : Fichier 01102X0025_S1.nc téléchargé.\n",
      "Fichier 01102X0025_S1.nc converti en fichier pickle\n",
      "Fichier ./data/era5/01102X0025_S1.nc.nc supprimé\n"
     ]
    },
    {
     "name": "stderr",
     "output_type": "stream",
     "text": [
      "2022-07-21 13:27:54,900 INFO Download rate 1.8M/s\n"
     ]
    },
    {
     "name": "stdout",
     "output_type": "stream",
     "text": [
      "2022-07-21 13:27:54.901177 : Fichier 01616X0006_S1.nc téléchargé.\n",
      "Fichier 01616X0006_S1.nc converti en fichier pickle\n"
     ]
    },
    {
     "name": "stderr",
     "output_type": "stream",
     "text": [
      "2022-07-21 13:27:54,952 INFO Downloading https://download-0014-clone.copernicus-climate.eu/cache-compute-0014/cache/data8/adaptor.mars.internal-1658386253.252565-10549-1-b08a4778-6a79-4ebf-8602-60fa6a06fbc0.nc to ./data/era5/00868X0016_S1.nc (268.8K)\n"
     ]
    },
    {
     "name": "stdout",
     "output_type": "stream",
     "text": [
      "Fichier ./data/era5/01616X0006_S1.nc.nc supprimé\n"
     ]
    },
    {
     "name": "stderr",
     "output_type": "stream",
     "text": [
      "2022-07-21 13:27:55,204 INFO Download rate 1M/s\n",
      "2022-07-21 13:27:55,276 INFO Downloading https://download-0021.copernicus-climate.eu/cache-compute-0021/cache/data5/adaptor.mars.internal-1658394684.6977878-24955-8-70131c97-ed85-4787-b84f-50b6dc3ff5f1.nc to ./data/era5/02281X0037_S1.nc (268.8K)\n"
     ]
    },
    {
     "name": "stdout",
     "output_type": "stream",
     "text": [
      "2022-07-21 13:27:55.204385 : Fichier 00868X0016_S1.nc téléchargé.\n",
      "Fichier 00868X0016_S1.nc converti en fichier pickle\n",
      "Fichier ./data/era5/00868X0016_S1.nc.nc supprimé\n"
     ]
    },
    {
     "name": "stderr",
     "output_type": "stream",
     "text": [
      "2022-07-21 13:27:55,520 INFO Download rate 1.1M/s\n",
      "2022-07-21 13:27:55,566 INFO Downloading https://download-0012-clone.copernicus-climate.eu/cache-compute-0012/cache/data5/adaptor.mars.internal-1658394680.5882509-25434-4-e207cc9c-e253-4af9-bd22-929581fdc5cb.nc to ./data/era5/00853X0018_S1.nc (268.8K)\n"
     ]
    },
    {
     "name": "stdout",
     "output_type": "stream",
     "text": [
      "2022-07-21 13:27:55.520073 : Fichier 02281X0037_S1.nc téléchargé.\n",
      "Fichier 02281X0037_S1.nc converti en fichier pickle\n",
      "Fichier ./data/era5/02281X0037_S1.nc.nc supprimé\n"
     ]
    },
    {
     "name": "stderr",
     "output_type": "stream",
     "text": [
      "2022-07-21 13:27:55,805 INFO Download rate 1.1M/s\n",
      "2022-07-21 13:27:55,867 INFO Downloading https://download-0017.copernicus-climate.eu/cache-compute-0017/cache/data5/adaptor.mars.internal-1658396459.3817112-17211-5-b2f49f11-40f1-447e-9c3b-1e108fc6e097.nc to ./data/era5/02636X0009_S1.nc (268.8K)\n"
     ]
    },
    {
     "name": "stdout",
     "output_type": "stream",
     "text": [
      "2022-07-21 13:27:55.805323 : Fichier 00853X0018_S1.nc téléchargé.\n",
      "Fichier 00853X0018_S1.nc converti en fichier pickle\n",
      "Fichier ./data/era5/00853X0018_S1.nc.nc supprimé\n"
     ]
    },
    {
     "name": "stderr",
     "output_type": "stream",
     "text": [
      "2022-07-21 13:27:56,021 INFO Download rate 1.7M/s\n",
      "2022-07-21 13:27:56,068 INFO Downloading https://download-0018.copernicus-climate.eu/cache-compute-0018/cache/data7/adaptor.mars.internal-1658394684.498041-20430-11-34fb6d22-c6ee-4a46-81a2-ea476b4ef8cc.nc to ./data/era5/02617X0009_S1.nc (268.8K)\n"
     ]
    },
    {
     "name": "stdout",
     "output_type": "stream",
     "text": [
      "2022-07-21 13:27:56.021772 : Fichier 02636X0009_S1.nc téléchargé.\n",
      "Fichier 02636X0009_S1.nc converti en fichier pickle\n",
      "Fichier ./data/era5/02636X0009_S1.nc.nc supprimé\n"
     ]
    },
    {
     "name": "stderr",
     "output_type": "stream",
     "text": [
      "2022-07-21 13:27:56,255 INFO Download rate 1.4M/s\n"
     ]
    },
    {
     "name": "stdout",
     "output_type": "stream",
     "text": [
      "2022-07-21 13:27:56.255947 : Fichier 02617X0009_S1.nc téléchargé.\n",
      "Fichier 02617X0009_S1.nc converti en fichier pickle\n",
      "Fichier ./data/era5/02617X0009_S1.nc.nc supprimé\n",
      "547 fichiers ont été téléchargés.\n",
      "Connexion réussie à SQLite\n",
      "Connexion SQLite est fermée\n",
      "Base de données à jour\n"
     ]
    }
   ],
   "source": [
    "# Chargement du dictionnaire à partir du csv d'historiques de requetes\n",
    "with open('./data/hist_requetes.csv', mode='r') as f:\n",
    "    reader = csv.reader(f, delimiter=\";\")\n",
    "    # Permet de sortir la ligne d'en-tête du dictionnaire\n",
    "    headings = next(reader)\n",
    "    dict_bss_from_csv = {rows[0]:rows[1] for rows in reader}\n",
    "\n",
    "nbre_fichier_OK = 0\n",
    "\n",
    "    \n",
    "for piezo in dict_bss_from_csv.copy().keys():\n",
    "    path_piezo = 'data/era5/' + piezo\n",
    "    path_nc = f\"./{path_piezo}.nc\"\n",
    "    path_pkl = f\"{path_piezo}.pkl\"\n",
    "\n",
    "    if not os.path.isfile(path_nc) :\n",
    "        try:\n",
    "            reply = dict(request_id=dict_bss_from_csv[piezo]) # request_id from above\n",
    "            new_client = cdsapi.Client(wait_until_complete=False, delete=False)\n",
    "            result = cdsapi.api.Result(new_client, reply)\n",
    "            result.update()\n",
    "            reply = result.reply\n",
    "            if reply['state'] == 'completed':\n",
    "                nbre_fichier_OK += 1\n",
    "                result.download(path_nc)\n",
    "                print(f\"{datetime.now()} : Fichier {piezo}.nc téléchargé.\")\n",
    "                df = xr.open_dataset(path_nc).to_dataframe().reset_index().to_pickle(path=path_pkl)\n",
    "                print(f\"Fichier {piezo}.nc converti en fichier pickle\")\n",
    "                os.remove(path_nc)\n",
    "                print(f\"Fichier {path_nc}.nc supprimé\")\n",
    "                # Si le fichier a été téléchargé on le supprime de la liste du dictionnaire\n",
    "                del dict_bss[piezo]\n",
    "        except:\n",
    "            #print(f\"Récupération de l'ID {dict_bss_from_csv[piezo]} impossible.\")\n",
    "            pass\n",
    "if nbre_fichier_OK == 0:\n",
    "    print(\"Aucun fichier de récupéré.\")\n",
    "else :\n",
    "    print(f\"{nbre_fichier_OK} fichiers ont été téléchargés.\")\n",
    "\n",
    "# Mise à jour de la base de donnéees (champ fichier_ERA5)\n",
    "bss_era5 = pd.Series([_.replace(\".pkl\",\"\") for _ in os.listdir(r\"./data/era5\") if _.endswith(r\".pkl\")], name=\"era5\")\n",
    "requete_fichier_era5 = f\"\"\"\n",
    "        UPDATE data_piezo\n",
    "        SET fichier_era5 =\n",
    "        (CASE WHEN code_bss IN {tuple(bss_era5)}\n",
    "        THEN 1 ELSE 0 END)\n",
    "        \"\"\"\n",
    "requete_sql(requete_fichier_era5)\n",
    "print(\"Base de données à jour\")"
   ]
  },
  {
   "cell_type": "markdown",
   "id": "af78191b",
   "metadata": {},
   "source": [
    "## Jointure era5 et piezo"
   ]
  },
  {
   "cell_type": "code",
   "execution_count": 17,
   "id": "2354dde5",
   "metadata": {},
   "outputs": [
    {
     "name": "stdout",
     "output_type": "stream",
     "text": [
      "Connexion réussie à SQLite\n",
      "Connexion SQLite est fermée\n",
      "Base de données à jour\n"
     ]
    }
   ],
   "source": [
    "bss_era5 = pd.Series([_.replace(\".pkl\",\"\") for _ in os.listdir(r\"./data/era5\") if _.endswith(r\".pkl\")], name=\"era5\")\n",
    "bss_piezo = pd.Series([_.replace(\".csv\",\"\") for _ in os.listdir(r\"./data/piezo\") if _.endswith(r\".csv\")], name=\"piezo\")\n",
    "piezos_communs = np.intersect1d(bss_era5, bss_piezo)\n",
    "\n",
    "path = \"./data/combined_data/\"\n",
    "# Le fichier doit avoir un minimum de 100 mesures\n",
    "nb_min_val_com = 100\n",
    "\n",
    "for piezo in piezos_communs :\n",
    "    if not os.path.isfile(f'{path}/comb_{piezo}.csv') : #si le fichier n'existe pas \n",
    "        df_piezo = pd.read_csv(f\"./data/piezo/{piezo}.csv\", sep = \";\", index_col=0, parse_dates=True)\n",
    "        # Group_by date_mesure dans le cas de plusieurs mesures le même jour ce qui provoquerait une erreur\n",
    "        df_piezo = pd.DataFrame(df_piezo.groupby(\"date_mesure\").mean())\n",
    "        df_piezo = df_piezo.resample('1D').asfreq()\n",
    "        df_era5 = pd.read_pickle(f\"./data/era5/{piezo}.pkl\").set_index('time').drop([\"latitude\", \"longitude\"], axis=1)\n",
    "        if \"expver\" in df_era5.columns :\n",
    "            df_era5 = df_era5.loc[df_era5[\"expver\"]==1,:].drop(\"expver\", axis=1)\n",
    "        df = pd.merge(df_piezo, df_era5, how='inner', left_index=True, right_index=True)\n",
    "        nb_com_obs = df.shape[0]\n",
    "        if nb_com_obs >= nb_min_val_com :\n",
    "            df.to_csv(f\"data/combined_data/comb_{piezo}.csv\" ,sep=\";\", index=True)\n",
    "            print(f\"Le fichier comb_{piezo}.csv a été créé et contient {nb_com_obs} obseravtions.\")\n",
    "        else :\n",
    "            print(f\"Le piezo {piezo} ne contient pas assez de données (seulement {nb_com_obs}).\")\n",
    "    else : \n",
    "        #print(f\"Le fichier comb_{piezo}.csv existe déjà.\")\n",
    "        pass\n",
    "        \n",
    "# Mise à jour bdd\n",
    "requete_fichier_combined = f\"\"\"\n",
    "        UPDATE data_piezo\n",
    "        SET fichier_combined =\n",
    "        (CASE WHEN code_bss IN {tuple(piezos_communs)}\n",
    "        THEN 1 ELSE 0 END)\n",
    "        \"\"\"\n",
    "requete_sql(requete_fichier_combined)\n",
    "print(\"Base de données à jour\")"
   ]
  },
  {
   "cell_type": "code",
   "execution_count": null,
   "id": "bdde5112",
   "metadata": {},
   "outputs": [],
   "source": []
  },
  {
   "cell_type": "code",
   "execution_count": null,
   "id": "6465464e",
   "metadata": {},
   "outputs": [],
   "source": []
  },
  {
   "cell_type": "code",
   "execution_count": null,
   "id": "8c474373",
   "metadata": {},
   "outputs": [],
   "source": []
  },
  {
   "cell_type": "markdown",
   "id": "3bae835b",
   "metadata": {},
   "source": [
    "# Récupération manuelle"
   ]
  },
  {
   "cell_type": "code",
   "execution_count": null,
   "id": "62b4b001",
   "metadata": {},
   "outputs": [],
   "source": [
    "reply = dict(request_id=\"54c52ee3-eee4-481d-b72e-fecd315085cb\")\n",
    "new_client = cdsapi.Client(wait_until_complete=False, delete=False)\n",
    "result = cdsapi.api.Result(new_client, reply)\n",
    "result.update()\n",
    "reply = result.reply\n",
    "if reply['state'] == 'completed':\n",
    "    result.download('file.nc')"
   ]
  },
  {
   "cell_type": "code",
   "execution_count": null,
   "id": "f6167cbe",
   "metadata": {},
   "outputs": [],
   "source": []
  },
  {
   "cell_type": "code",
   "execution_count": null,
   "id": "29a97bed",
   "metadata": {},
   "outputs": [],
   "source": []
  },
  {
   "cell_type": "code",
   "execution_count": null,
   "id": "65078627",
   "metadata": {},
   "outputs": [],
   "source": []
  },
  {
   "cell_type": "code",
   "execution_count": null,
   "id": "eb0c36e3",
   "metadata": {},
   "outputs": [],
   "source": []
  },
  {
   "cell_type": "code",
   "execution_count": null,
   "id": "6415ca95",
   "metadata": {},
   "outputs": [],
   "source": [
    "requete_fichier_era5 = f\"\"\"\n",
    "        UPDATE data_piezo\n",
    "        SET fichier_era5 =\n",
    "        (CASE WHEN code_bss IN {tuple(bss_era5)}\n",
    "        THEN 1 ELSE 0 END)\n",
    "        \"\"\"\n",
    "requete_sql(requete_fichier_era5)"
   ]
  },
  {
   "cell_type": "code",
   "execution_count": null,
   "id": "29e4abf1",
   "metadata": {},
   "outputs": [],
   "source": [
    "update table set\n",
    "    columnx = (case when condition then 25 else columnx end)"
   ]
  }
 ],
 "metadata": {
  "kernelspec": {
   "display_name": "Python 3 (ipykernel)",
   "language": "python",
   "name": "python3"
  },
  "language_info": {
   "codemirror_mode": {
    "name": "ipython",
    "version": 3
   },
   "file_extension": ".py",
   "mimetype": "text/x-python",
   "name": "python",
   "nbconvert_exporter": "python",
   "pygments_lexer": "ipython3",
   "version": "3.9.12"
  },
  "toc": {
   "base_numbering": 1,
   "nav_menu": {},
   "number_sections": true,
   "sideBar": true,
   "skip_h1_title": false,
   "title_cell": "Table of Contents",
   "title_sidebar": "Contents",
   "toc_cell": false,
   "toc_position": {},
   "toc_section_display": true,
   "toc_window_display": true
  },
  "varInspector": {
   "cols": {
    "lenName": 16,
    "lenType": 16,
    "lenVar": 40
   },
   "kernels_config": {
    "python": {
     "delete_cmd_postfix": "",
     "delete_cmd_prefix": "del ",
     "library": "var_list.py",
     "varRefreshCmd": "print(var_dic_list())"
    },
    "r": {
     "delete_cmd_postfix": ") ",
     "delete_cmd_prefix": "rm(",
     "library": "var_list.r",
     "varRefreshCmd": "cat(var_dic_list()) "
    }
   },
   "position": {
    "height": "144.83px",
    "left": "1377.45px",
    "right": "20px",
    "top": "119px",
    "width": "350px"
   },
   "types_to_exclude": [
    "module",
    "function",
    "builtin_function_or_method",
    "instance",
    "_Feature"
   ],
   "window_display": false
  }
 },
 "nbformat": 4,
 "nbformat_minor": 5
}
