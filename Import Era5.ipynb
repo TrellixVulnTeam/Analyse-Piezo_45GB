{
 "cells": [
  {
   "cell_type": "code",
   "execution_count": 1,
   "id": "c26f94a7",
   "metadata": {},
   "outputs": [],
   "source": [
    "import requests\n",
    "import pandas as pd\n",
    "import numpy as np\n",
    "import xarray as xr\n",
    "import sqlite3\n",
    "import os\n",
    "from datetime import datetime\n",
    "import cdsapi\n",
    "import csv"
   ]
  },
  {
   "cell_type": "code",
   "execution_count": 2,
   "id": "4f820390",
   "metadata": {},
   "outputs": [],
   "source": [
    "def requete_sql (requete) :\n",
    "    try:\n",
    "        connexion = sqlite3.connect('./data/liste_piezos.db')\n",
    "        curseur = connexion.cursor()\n",
    "        print(\"Connexion réussie à SQLite\")\n",
    "        curseur.execute(requete)\n",
    "        connexion.commit()\n",
    "        resultat = curseur.fetchall()\n",
    "        curseur.close()\n",
    "        connexion.close()\n",
    "        print(\"Connexion SQLite est fermée\")\n",
    "        return resultat\n",
    "    except sqlite3.Error as error:\n",
    "        print(\"Erreur lors du mis à jour dans la table : \", error)"
   ]
  },
  {
   "cell_type": "markdown",
   "id": "6e076217",
   "metadata": {},
   "source": [
    "# Connexion à la bdd piezo\n",
    "Construction d'un dataframe 'df_piezo' à partir de la requête sur la bdd"
   ]
  },
  {
   "cell_type": "code",
   "execution_count": 20,
   "id": "9069958b",
   "metadata": {},
   "outputs": [],
   "source": [
    "region = \"OCC\""
   ]
  },
  {
   "cell_type": "code",
   "execution_count": 21,
   "id": "4d1b59ae",
   "metadata": {},
   "outputs": [],
   "source": [
    "connexion = sqlite3.connect('./data/liste_piezos.db')\n",
    "curseur = connexion.cursor()\n",
    "requete = f\"\"\"\n",
    "    SELECT code_bss, date_debut, date_fin, nb_mesures_piezo, latitude, longitude \n",
    "        FROM data_piezo\n",
    "    INNER JOIN code_region\n",
    "    ON code_dpt = departement\n",
    "    WHERE code_region IS '{region}'\n",
    "    AND date_debut < '2010-07-01'\n",
    "    AND date_fin > '2010-07-01'\n",
    "\"\"\"\n",
    "\n",
    "df_piezo = pd.read_sql_query(requete, connexion, index_col='code_bss')\n",
    "curseur.close()\n",
    "connexion.close()\n",
    "\n",
    "# Conversion des dates\n",
    "df_piezo[\"date_debut\"] = pd.to_datetime(df_piezo[\"date_debut\"])\n",
    "df_piezo[\"date_fin\"] = pd.to_datetime(df_piezo[\"date_fin\"])"
   ]
  },
  {
   "cell_type": "code",
   "execution_count": 22,
   "id": "d9dce6b6",
   "metadata": {},
   "outputs": [
    {
     "data": {
      "text/html": [
       "<div>\n",
       "<style scoped>\n",
       "    .dataframe tbody tr th:only-of-type {\n",
       "        vertical-align: middle;\n",
       "    }\n",
       "\n",
       "    .dataframe tbody tr th {\n",
       "        vertical-align: top;\n",
       "    }\n",
       "\n",
       "    .dataframe thead th {\n",
       "        text-align: right;\n",
       "    }\n",
       "</style>\n",
       "<table border=\"1\" class=\"dataframe\">\n",
       "  <thead>\n",
       "    <tr style=\"text-align: right;\">\n",
       "      <th></th>\n",
       "      <th>date_debut</th>\n",
       "      <th>date_fin</th>\n",
       "      <th>nb_mesures_piezo</th>\n",
       "      <th>latitude</th>\n",
       "      <th>longitude</th>\n",
       "    </tr>\n",
       "    <tr>\n",
       "      <th>code_bss</th>\n",
       "      <th></th>\n",
       "      <th></th>\n",
       "      <th></th>\n",
       "      <th></th>\n",
       "      <th></th>\n",
       "    </tr>\n",
       "  </thead>\n",
       "  <tbody>\n",
       "    <tr>\n",
       "      <th>09654X0569_CNRP20</th>\n",
       "      <td>2004-03-14</td>\n",
       "      <td>2022-05-24</td>\n",
       "      <td>6243</td>\n",
       "      <td>43.848274</td>\n",
       "      <td>4.607080</td>\n",
       "    </tr>\n",
       "    <tr>\n",
       "      <th>08592X0175_FOR170</th>\n",
       "      <td>2008-11-17</td>\n",
       "      <td>2020-12-31</td>\n",
       "      <td>618</td>\n",
       "      <td>44.557278</td>\n",
       "      <td>2.251595</td>\n",
       "    </tr>\n",
       "    <tr>\n",
       "      <th>09892X0679_EXH70</th>\n",
       "      <td>2004-02-01</td>\n",
       "      <td>2022-05-24</td>\n",
       "      <td>6544</td>\n",
       "      <td>43.695576</td>\n",
       "      <td>3.327317</td>\n",
       "    </tr>\n",
       "    <tr>\n",
       "      <th>10615X0047_F0</th>\n",
       "      <td>2009-02-27</td>\n",
       "      <td>2022-04-07</td>\n",
       "      <td>4408</td>\n",
       "      <td>43.054528</td>\n",
       "      <td>2.921968</td>\n",
       "    </tr>\n",
       "    <tr>\n",
       "      <th>09648X0083_F90-1</th>\n",
       "      <td>1995-01-31</td>\n",
       "      <td>2022-05-02</td>\n",
       "      <td>7659</td>\n",
       "      <td>43.744145</td>\n",
       "      <td>4.230897</td>\n",
       "    </tr>\n",
       "    <tr>\n",
       "      <th>...</th>\n",
       "      <td>...</td>\n",
       "      <td>...</td>\n",
       "      <td>...</td>\n",
       "      <td>...</td>\n",
       "      <td>...</td>\n",
       "    </tr>\n",
       "    <tr>\n",
       "      <th>08576X0022_HY</th>\n",
       "      <td>2009-04-08</td>\n",
       "      <td>2019-06-04</td>\n",
       "      <td>3398</td>\n",
       "      <td>44.506078</td>\n",
       "      <td>1.654776</td>\n",
       "    </tr>\n",
       "    <tr>\n",
       "      <th>08577X0029_HY</th>\n",
       "      <td>2009-04-08</td>\n",
       "      <td>2021-01-04</td>\n",
       "      <td>4291</td>\n",
       "      <td>44.521516</td>\n",
       "      <td>1.668573</td>\n",
       "    </tr>\n",
       "    <tr>\n",
       "      <th>09635X0003_FHY</th>\n",
       "      <td>1997-06-01</td>\n",
       "      <td>2022-05-24</td>\n",
       "      <td>8323</td>\n",
       "      <td>43.759836</td>\n",
       "      <td>3.624061</td>\n",
       "    </tr>\n",
       "    <tr>\n",
       "      <th>10165X0021_CAUVY</th>\n",
       "      <td>1998-06-26</td>\n",
       "      <td>2022-05-20</td>\n",
       "      <td>6538</td>\n",
       "      <td>43.440756</td>\n",
       "      <td>3.677098</td>\n",
       "    </tr>\n",
       "    <tr>\n",
       "      <th>10581X0201_SAGRAZ</th>\n",
       "      <td>2009-11-25</td>\n",
       "      <td>2022-04-11</td>\n",
       "      <td>4369</td>\n",
       "      <td>43.174401</td>\n",
       "      <td>1.863341</td>\n",
       "    </tr>\n",
       "  </tbody>\n",
       "</table>\n",
       "<p>280 rows × 5 columns</p>\n",
       "</div>"
      ],
      "text/plain": [
       "                  date_debut   date_fin  nb_mesures_piezo   latitude  \\\n",
       "code_bss                                                               \n",
       "09654X0569_CNRP20 2004-03-14 2022-05-24              6243  43.848274   \n",
       "08592X0175_FOR170 2008-11-17 2020-12-31               618  44.557278   \n",
       "09892X0679_EXH70  2004-02-01 2022-05-24              6544  43.695576   \n",
       "10615X0047_F0     2009-02-27 2022-04-07              4408  43.054528   \n",
       "09648X0083_F90-1  1995-01-31 2022-05-02              7659  43.744145   \n",
       "...                      ...        ...               ...        ...   \n",
       "08576X0022_HY     2009-04-08 2019-06-04              3398  44.506078   \n",
       "08577X0029_HY     2009-04-08 2021-01-04              4291  44.521516   \n",
       "09635X0003_FHY    1997-06-01 2022-05-24              8323  43.759836   \n",
       "10165X0021_CAUVY  1998-06-26 2022-05-20              6538  43.440756   \n",
       "10581X0201_SAGRAZ 2009-11-25 2022-04-11              4369  43.174401   \n",
       "\n",
       "                   longitude  \n",
       "code_bss                      \n",
       "09654X0569_CNRP20   4.607080  \n",
       "08592X0175_FOR170   2.251595  \n",
       "09892X0679_EXH70    3.327317  \n",
       "10615X0047_F0       2.921968  \n",
       "09648X0083_F90-1    4.230897  \n",
       "...                      ...  \n",
       "08576X0022_HY       1.654776  \n",
       "08577X0029_HY       1.668573  \n",
       "09635X0003_FHY      3.624061  \n",
       "10165X0021_CAUVY    3.677098  \n",
       "10581X0201_SAGRAZ   1.863341  \n",
       "\n",
       "[280 rows x 5 columns]"
      ]
     },
     "execution_count": 22,
     "metadata": {},
     "output_type": "execute_result"
    }
   ],
   "source": [
    "df_piezo"
   ]
  },
  {
   "cell_type": "markdown",
   "id": "f7d3720d",
   "metadata": {},
   "source": [
    "# Fonction pour lancer les requêtes"
   ]
  },
  {
   "cell_type": "code",
   "execution_count": 23,
   "id": "d46ba37a",
   "metadata": {},
   "outputs": [],
   "source": [
    "def get_on_cds_api(dataframe_piezo, piezo, path):\n",
    "    # Initialisation de la connexion à l'API CDS\n",
    "    # wait_until_complete = False : le programme Python n'attend pas que l'API réponde (issu de la libraie asyncio)\n",
    "    # delete = False : le fichier créé sur le serveur source n'est pas supprimé automatiquement \n",
    "    \n",
    "    date_debut = dataframe_piezo.loc[piezo,'date_debut'].year\n",
    "    date_fin = dataframe_piezo.loc[piezo,'date_fin'].year\n",
    "    \n",
    "    # La limite du nombre de données est de 120000. Avec 10 variables, 31 jours, et 12 mois, on n epeut récupérer que 32 années.\n",
    "    # Si l'interval d'année est supérieur à 32, on réduit la plage de temps à date de fin - 31 ans pour avoir 32 années max.\n",
    "    if date_fin - date_debut >= 32:\n",
    "        date_debut = date_fin - 31\n",
    "    \n",
    "    c = cdsapi.Client(wait_until_complete=False, delete=False)\n",
    "    \n",
    "    # Données à récupérer auprès de l'API\n",
    "    r = c.retrieve(\n",
    "            'reanalysis-era5-single-levels',\n",
    "            {\n",
    "                'product_type': 'reanalysis',\n",
    "                'format': 'netcdf',\n",
    "                'variable': [\n",
    "                    '2m_temperature', 'convective_precipitation', 'convective_rain_rate',\n",
    "                    'convective_snowfall', 'large_scale_rain_rate', 'large_scale_snowfall', 'snowfall',\n",
    "                    'large_scale_snowfall_rate_water_equivalent', 'potential_evaporation',\n",
    "                    'total_precipitation',\n",
    "                ],\n",
    "                'year': [str(date) for date in (np.arange(date_debut, date_fin))],\n",
    "                'month': [\n",
    "                    '01', '02', '03',\n",
    "                    '04', '05', '06',\n",
    "                    '07', '08', '09',\n",
    "                    '10', '11', '12',\n",
    "                ],\n",
    "                'day': [\n",
    "                    '01', '02', '03',\n",
    "                    '04', '05', '06',\n",
    "                    '07', '08', '09',\n",
    "                    '10', '11', '12',\n",
    "                    '13', '14', '15',\n",
    "                    '16', '17', '18',\n",
    "                    '19', '20', '21',\n",
    "                    '22', '23', '24',\n",
    "                    '25', '26', '27',\n",
    "                    '28', '29', '30',\n",
    "                    '31',\n",
    "                ],\n",
    "                'time': '00:00',\n",
    "                'area': [\n",
    "                    df_piezo.loc[piezo,\"latitude\"], df_piezo.loc[piezo,\"longitude\"], df_piezo.loc[piezo,\"latitude\"], df_piezo.loc[piezo,\"longitude\"],\n",
    "                ],\n",
    "            })    \n",
    "    return r"
   ]
  },
  {
   "cell_type": "markdown",
   "id": "aa65468a",
   "metadata": {},
   "source": [
    "## Lancer les requêtes auprès de l'API\n",
    "!!! NE LANCER QU'UNE SEULE FOIS POUR NE PAS CREER DES DOUBLONS DE REQUETES !!!"
   ]
  },
  {
   "cell_type": "markdown",
   "id": "8bb5016a",
   "metadata": {},
   "source": [
    "Un dictionnaire est créé avec en clé le code_bss du piezo et en valeur l'id de la requête"
   ]
  },
  {
   "cell_type": "markdown",
   "id": "fbb5d266",
   "metadata": {},
   "source": [
    "Ne pas lancer la cellule ci-dessous si des requetes sont en cours. "
   ]
  },
  {
   "cell_type": "code",
   "execution_count": 24,
   "id": "413b3c0e",
   "metadata": {},
   "outputs": [],
   "source": [
    "# Parcourir les codes_bss des piezos dans la liste précédemment créé :\n",
    "dict_bss = {}"
   ]
  },
  {
   "cell_type": "code",
   "execution_count": 25,
   "id": "f2853b94",
   "metadata": {},
   "outputs": [
    {
     "name": "stdout",
     "output_type": "stream",
     "text": [
      "\n",
      "            Voulez-vous lancer une série de nouvelles requêtes ? /n \n",
      "            Des requêtes pourraient se retrouver en double. /n \n",
      "            Pour lancer les requêtes entrez 'req' et entrée. /n\n",
      "            Sinon, appuyez simplement sur entrée.\n",
      "req\n"
     ]
    },
    {
     "name": "stderr",
     "output_type": "stream",
     "text": [
      "2022-07-21 13:33:45,391 INFO Welcome to the CDS\n",
      "2022-07-21 13:33:45,391 INFO Sending request to https://cds.climate.copernicus.eu/api/v2/resources/reanalysis-era5-single-levels\n",
      "2022-07-21 13:33:45,468 INFO Welcome to the CDS\n",
      "2022-07-21 13:33:45,469 INFO Sending request to https://cds.climate.copernicus.eu/api/v2/resources/reanalysis-era5-single-levels\n",
      "2022-07-21 13:33:45,530 INFO Welcome to the CDS\n",
      "2022-07-21 13:33:45,531 INFO Sending request to https://cds.climate.copernicus.eu/api/v2/resources/reanalysis-era5-single-levels\n",
      "2022-07-21 13:33:45,591 INFO Welcome to the CDS\n",
      "2022-07-21 13:33:45,593 INFO Sending request to https://cds.climate.copernicus.eu/api/v2/resources/reanalysis-era5-single-levels\n"
     ]
    },
    {
     "name": "stdout",
     "output_type": "stream",
     "text": [
      "2022-07-21 13:33:45.431814 : chargement du fichier 09654X0569_CNRP20.nc en cours (14e7b9c4-eae1-401c-ad9c-46363f9a7347).\n",
      "2022-07-21 13:33:45.502896 : chargement du fichier 08592X0175_FOR170.nc en cours (8c0fdca8-d253-4caa-b7e5-9968f12913c0).\n",
      "2022-07-21 13:33:45.563774 : chargement du fichier 09892X0679_EXH70.nc en cours (d9b727dc-2adb-441b-9b39-7b2768d8616c).\n"
     ]
    },
    {
     "name": "stderr",
     "output_type": "stream",
     "text": [
      "2022-07-21 13:33:45,677 INFO Welcome to the CDS\n",
      "2022-07-21 13:33:45,679 INFO Sending request to https://cds.climate.copernicus.eu/api/v2/resources/reanalysis-era5-single-levels\n",
      "2022-07-21 13:33:45,740 INFO Welcome to the CDS\n",
      "2022-07-21 13:33:45,742 INFO Sending request to https://cds.climate.copernicus.eu/api/v2/resources/reanalysis-era5-single-levels\n"
     ]
    },
    {
     "name": "stdout",
     "output_type": "stream",
     "text": [
      "2022-07-21 13:33:45.651273 : chargement du fichier 10615X0047_F0.nc en cours (236db60c-c39b-4415-96bf-a105f6a832e3).\n",
      "2022-07-21 13:33:45.712718 : chargement du fichier 09648X0083_F90-1.nc en cours (30f5a1d4-c96c-47e9-8eea-a3bf82fa6ef6).\n",
      "2022-07-21 13:33:45.779320 : chargement du fichier 10906X0039_C2-1.nc en cours (6020aefe-70e0-496c-85ff-77cc5be4a0c9).\n"
     ]
    },
    {
     "name": "stderr",
     "output_type": "stream",
     "text": [
      "2022-07-21 13:33:45,885 INFO Welcome to the CDS\n",
      "2022-07-21 13:33:45,886 INFO Sending request to https://cds.climate.copernicus.eu/api/v2/resources/reanalysis-era5-single-levels\n",
      "2022-07-21 13:33:45,969 INFO Welcome to the CDS\n",
      "2022-07-21 13:33:45,970 INFO Sending request to https://cds.climate.copernicus.eu/api/v2/resources/reanalysis-era5-single-levels\n",
      "2022-07-21 13:33:46,030 INFO Welcome to the CDS\n",
      "2022-07-21 13:33:46,031 INFO Sending request to https://cds.climate.copernicus.eu/api/v2/resources/reanalysis-era5-single-levels\n",
      "2022-07-21 13:33:46,102 INFO Welcome to the CDS\n",
      "2022-07-21 13:33:46,103 INFO Sending request to https://cds.climate.copernicus.eu/api/v2/resources/reanalysis-era5-single-levels\n"
     ]
    },
    {
     "name": "stdout",
     "output_type": "stream",
     "text": [
      "2022-07-21 13:33:45.942183 : chargement du fichier 10964X0119_NYLS-1.nc en cours (2f199ef6-6f93-4597-9449-b48a9668cf35).\n",
      "2022-07-21 13:33:46.003711 : chargement du fichier 10602X0001_111111.nc en cours (a55ad3f1-362b-4d3c-9e4e-16aa0cfddb9b).\n",
      "2022-07-21 13:33:46.075031 : chargement du fichier 10398X0063_111111.nc en cours (f02fa2b5-811d-45c9-9972-215d66d9a800).\n",
      "2022-07-21 13:33:46.149947 : chargement du fichier 10383X0025_111111.nc en cours (021747cc-a1e1-4bf7-a66b-02ad74f4e43e).\n"
     ]
    },
    {
     "name": "stderr",
     "output_type": "stream",
     "text": [
      "2022-07-21 13:33:46,177 INFO Welcome to the CDS\n",
      "2022-07-21 13:33:46,178 INFO Sending request to https://cds.climate.copernicus.eu/api/v2/resources/reanalysis-era5-single-levels\n",
      "2022-07-21 13:33:46,276 INFO Welcome to the CDS\n",
      "2022-07-21 13:33:46,277 INFO Sending request to https://cds.climate.copernicus.eu/api/v2/resources/reanalysis-era5-single-levels\n",
      "2022-07-21 13:33:46,335 INFO Welcome to the CDS\n",
      "2022-07-21 13:33:46,337 INFO Sending request to https://cds.climate.copernicus.eu/api/v2/resources/reanalysis-era5-single-levels\n",
      "2022-07-21 13:33:46,397 INFO Welcome to the CDS\n",
      "2022-07-21 13:33:46,398 INFO Sending request to https://cds.climate.copernicus.eu/api/v2/resources/reanalysis-era5-single-levels\n"
     ]
    },
    {
     "name": "stdout",
     "output_type": "stream",
     "text": [
      "2022-07-21 13:33:46.242405 : chargement du fichier 09645X0035_111111.nc en cours (5f4e958d-7b7d-405a-98fa-5914c1ef1b35).\n",
      "2022-07-21 13:33:46.310015 : chargement du fichier 09364X0017_111111.nc en cours (3d5974d8-4830-462b-a870-8ee03b8c2189).\n",
      "2022-07-21 13:33:46.371116 : chargement du fichier 08635X0015_LZG211.nc en cours (150028c3-dd97-485b-a2e6-28805f530500).\n",
      "2022-07-21 13:33:46.443067 : chargement du fichier 09914X0391_V1191.nc en cours (b31973f8-ec0b-4993-a378-2d4427684177).\n"
     ]
    },
    {
     "name": "stderr",
     "output_type": "stream",
     "text": [
      "2022-07-21 13:33:46,469 INFO Welcome to the CDS\n",
      "2022-07-21 13:33:46,470 INFO Sending request to https://cds.climate.copernicus.eu/api/v2/resources/reanalysis-era5-single-levels\n",
      "2022-07-21 13:33:46,544 INFO Welcome to the CDS\n",
      "2022-07-21 13:33:46,544 INFO Sending request to https://cds.climate.copernicus.eu/api/v2/resources/reanalysis-era5-single-levels\n",
      "2022-07-21 13:33:46,606 INFO Welcome to the CDS\n",
      "2022-07-21 13:33:46,607 INFO Sending request to https://cds.climate.copernicus.eu/api/v2/resources/reanalysis-era5-single-levels\n",
      "2022-07-21 13:33:46,698 INFO Welcome to the CDS\n"
     ]
    },
    {
     "name": "stdout",
     "output_type": "stream",
     "text": [
      "2022-07-21 13:33:46.518076 : chargement du fichier 10388X0001_OUPIA1.nc en cours (c522b968-0c1f-4d76-a747-8436ef23b44d).\n",
      "2022-07-21 13:33:46.577930 : chargement du fichier 10155X0054_PEYTA1.nc en cours (04bcae30-6012-466e-90b2-22db93d1828b).\n",
      "2022-07-21 13:33:46.671941 : chargement du fichier 10136X0222_C1.nc en cours (a6f423da-fe8c-4057-92ad-940cfac6bf89).\n"
     ]
    },
    {
     "name": "stderr",
     "output_type": "stream",
     "text": [
      "2022-07-21 13:33:46,699 INFO Sending request to https://cds.climate.copernicus.eu/api/v2/resources/reanalysis-era5-single-levels\n",
      "2022-07-21 13:33:46,758 INFO Welcome to the CDS\n",
      "2022-07-21 13:33:46,759 INFO Sending request to https://cds.climate.copernicus.eu/api/v2/resources/reanalysis-era5-single-levels\n",
      "2022-07-21 13:33:46,820 INFO Welcome to the CDS\n",
      "2022-07-21 13:33:46,821 INFO Sending request to https://cds.climate.copernicus.eu/api/v2/resources/reanalysis-era5-single-levels\n",
      "2022-07-21 13:33:46,887 INFO Welcome to the CDS\n",
      "2022-07-21 13:33:46,888 INFO Sending request to https://cds.climate.copernicus.eu/api/v2/resources/reanalysis-era5-single-levels\n"
     ]
    },
    {
     "name": "stdout",
     "output_type": "stream",
     "text": [
      "2022-07-21 13:33:46.731884 : chargement du fichier 10972X0098_FE1.nc en cours (4ed1be7f-0c57-498d-b55c-a9aa6fcd8f4a).\n",
      "2022-07-21 13:33:46.791843 : chargement du fichier 09903X0113_F1.nc en cours (db8da061-11ef-4fdb-9056-b7631af4a6be).\n",
      "2022-07-21 13:33:46.860324 : chargement du fichier 10163X0157_F1.nc en cours (9591fc34-e011-40a0-a6b9-cfcb924fb554).\n",
      "2022-07-21 13:33:46.935172 : chargement du fichier 09395X0059_F1.nc en cours (96e159b9-8eb8-4125-823b-34aa873ae07d).\n"
     ]
    },
    {
     "name": "stderr",
     "output_type": "stream",
     "text": [
      "2022-07-21 13:33:46,962 INFO Welcome to the CDS\n",
      "2022-07-21 13:33:46,963 INFO Sending request to https://cds.climate.copernicus.eu/api/v2/resources/reanalysis-era5-single-levels\n",
      "2022-07-21 13:33:47,009 INFO Welcome to the CDS\n",
      "2022-07-21 13:33:47,009 INFO Sending request to https://cds.climate.copernicus.eu/api/v2/resources/reanalysis-era5-single-levels\n",
      "2022-07-21 13:33:47,109 INFO Welcome to the CDS\n",
      "2022-07-21 13:33:47,109 INFO Sending request to https://cds.climate.copernicus.eu/api/v2/resources/reanalysis-era5-single-levels\n",
      "2022-07-21 13:33:47,179 INFO Welcome to the CDS\n"
     ]
    },
    {
     "name": "stdout",
     "output_type": "stream",
     "text": [
      "2022-07-21 13:33:46.995242 : chargement du fichier 09373X0026_CROSF1.nc en cours (3ed1114c-b44f-4ed5-b78a-0a2de6effd9b).\n",
      "2022-07-21 13:33:47.088438 : chargement du fichier 09906X0161_PZ1.nc en cours (3e42fe77-1de1-4388-af77-6cbf7696b4e7).\n",
      "2022-07-21 13:33:47.152196 : chargement du fichier 10384X0073_PZ1.nc en cours (78d8d086-d4ed-4425-90d5-8c47a85b202a).\n"
     ]
    },
    {
     "name": "stderr",
     "output_type": "stream",
     "text": [
      "2022-07-21 13:33:47,180 INFO Sending request to https://cds.climate.copernicus.eu/api/v2/resources/reanalysis-era5-single-levels\n",
      "2022-07-21 13:33:47,307 INFO Welcome to the CDS\n",
      "2022-07-21 13:33:47,309 INFO Sending request to https://cds.climate.copernicus.eu/api/v2/resources/reanalysis-era5-single-levels\n",
      "2022-07-21 13:33:47,376 INFO Welcome to the CDS\n",
      "2022-07-21 13:33:47,376 INFO Sending request to https://cds.climate.copernicus.eu/api/v2/resources/reanalysis-era5-single-levels\n",
      "2022-07-21 13:33:47,449 INFO Welcome to the CDS\n",
      "2022-07-21 13:33:47,450 INFO Sending request to https://cds.climate.copernicus.eu/api/v2/resources/reanalysis-era5-single-levels\n"
     ]
    },
    {
     "name": "stdout",
     "output_type": "stream",
     "text": [
      "2022-07-21 13:33:47.277879 : chargement du fichier 09388X0108_PZ1.nc en cours (6fbf2125-c911-4da4-bb69-6e552f4424d6).\n",
      "2022-07-21 13:33:47.356288 : chargement du fichier 10906X0038_C2-2.nc en cours (62bbe1f6-57ff-4b2d-876f-87f8e14364fb).\n",
      "2022-07-21 13:33:47.422193 : chargement du fichier 09655X0251_CH22.nc en cours (4f4e41b8-5787-4e74-bc3c-57a71044f771).\n"
     ]
    },
    {
     "name": "stderr",
     "output_type": "stream",
     "text": [
      "2022-07-21 13:33:47,523 INFO Welcome to the CDS\n",
      "2022-07-21 13:33:47,523 INFO Sending request to https://cds.climate.copernicus.eu/api/v2/resources/reanalysis-era5-single-levels\n",
      "2022-07-21 13:33:47,585 INFO Welcome to the CDS\n",
      "2022-07-21 13:33:47,586 INFO Sending request to https://cds.climate.copernicus.eu/api/v2/resources/reanalysis-era5-single-levels\n",
      "2022-07-21 13:33:47,642 INFO Welcome to the CDS\n",
      "2022-07-21 13:33:47,642 INFO Sending request to https://cds.climate.copernicus.eu/api/v2/resources/reanalysis-era5-single-levels\n"
     ]
    },
    {
     "name": "stdout",
     "output_type": "stream",
     "text": [
      "2022-07-21 13:33:47.496579 : chargement du fichier 09653X0244_CH52.nc en cours (8ad9134a-eb7e-4760-a797-e941ffd7b6f9).\n",
      "2022-07-21 13:33:47.558045 : chargement du fichier 09652X0199_COURB2.nc en cours (65c587a3-950d-49a3-8c04-187457775a4e).\n",
      "2022-07-21 13:33:47.620008 : chargement du fichier 08614X0010_SCE2.nc en cours (86b34697-d597-475d-bfe7-8b9a98a17dd7).\n",
      "2022-07-21 13:33:47.683058 : chargement du fichier 10605X0016_F2.nc en cours (387aa0d0-3814-4d75-8233-f681ac3aca4a).\n"
     ]
    },
    {
     "name": "stderr",
     "output_type": "stream",
     "text": [
      "2022-07-21 13:33:47,712 INFO Welcome to the CDS\n",
      "2022-07-21 13:33:47,713 INFO Sending request to https://cds.climate.copernicus.eu/api/v2/resources/reanalysis-era5-single-levels\n",
      "2022-07-21 13:33:47,776 INFO Welcome to the CDS\n",
      "2022-07-21 13:33:47,776 INFO Sending request to https://cds.climate.copernicus.eu/api/v2/resources/reanalysis-era5-single-levels\n",
      "2022-07-21 13:33:47,854 INFO Welcome to the CDS\n",
      "2022-07-21 13:33:47,855 INFO Sending request to https://cds.climate.copernicus.eu/api/v2/resources/reanalysis-era5-single-levels\n",
      "2022-07-21 13:33:47,948 INFO Welcome to the CDS\n"
     ]
    },
    {
     "name": "stdout",
     "output_type": "stream",
     "text": [
      "2022-07-21 13:33:47.748671 : chargement du fichier 10771X0017_F2.nc en cours (b89b5437-046c-40f5-9d9c-03c0a1b8c860).\n",
      "2022-07-21 13:33:47.826755 : chargement du fichier 10911X0137_F2.nc en cours (6e02743d-e316-4f16-b990-393f3904fc6a).\n",
      "2022-07-21 13:33:47.918204 : chargement du fichier 10388X0028_F2.nc en cours (d57818fd-279b-468c-a4ec-7004c52c9019).\n"
     ]
    },
    {
     "name": "stderr",
     "output_type": "stream",
     "text": [
      "2022-07-21 13:33:47,950 INFO Sending request to https://cds.climate.copernicus.eu/api/v2/resources/reanalysis-era5-single-levels\n",
      "2022-07-21 13:33:48,013 INFO Welcome to the CDS\n",
      "2022-07-21 13:33:48,014 INFO Sending request to https://cds.climate.copernicus.eu/api/v2/resources/reanalysis-era5-single-levels\n",
      "2022-07-21 13:33:48,080 INFO Welcome to the CDS\n",
      "2022-07-21 13:33:48,081 INFO Sending request to https://cds.climate.copernicus.eu/api/v2/resources/reanalysis-era5-single-levels\n",
      "2022-07-21 13:33:48,140 INFO Welcome to the CDS\n",
      "2022-07-21 13:33:48,141 INFO Sending request to https://cds.climate.copernicus.eu/api/v2/resources/reanalysis-era5-single-levels\n"
     ]
    },
    {
     "name": "stdout",
     "output_type": "stream",
     "text": [
      "2022-07-21 13:33:47.987085 : chargement du fichier 09897X0058_F2.nc en cours (8d859e0f-1625-410a-8e8e-c04b6bd69c0f).\n",
      "2022-07-21 13:33:48.053562 : chargement du fichier 10911X0219_HIPPO2.nc en cours (96c19b37-d80f-4274-bfb4-6896529c5714).\n",
      "2022-07-21 13:33:48.113081 : chargement du fichier 10401X0216_STJOS2.nc en cours (6f4e3e2d-cc4c-4884-9008-e66553c234ef).\n"
     ]
    },
    {
     "name": "stderr",
     "output_type": "stream",
     "text": [
      "2022-07-21 13:33:48,213 INFO Welcome to the CDS\n",
      "2022-07-21 13:33:48,214 INFO Sending request to https://cds.climate.copernicus.eu/api/v2/resources/reanalysis-era5-single-levels\n",
      "2022-07-21 13:33:48,274 INFO Welcome to the CDS\n",
      "2022-07-21 13:33:48,275 INFO Sending request to https://cds.climate.copernicus.eu/api/v2/resources/reanalysis-era5-single-levels\n",
      "2022-07-21 13:33:48,342 INFO Welcome to the CDS\n",
      "2022-07-21 13:33:48,342 INFO Sending request to https://cds.climate.copernicus.eu/api/v2/resources/reanalysis-era5-single-levels\n"
     ]
    },
    {
     "name": "stdout",
     "output_type": "stream",
     "text": [
      "2022-07-21 13:33:48.185837 : chargement du fichier 10404X0076_FADEZ2.nc en cours (92944388-dafb-4bd1-9426-b037606635b4).\n",
      "2022-07-21 13:33:48.247497 : chargement du fichier 10404X0056_S1003.nc en cours (8cc95dc3-5a0c-4846-8608-c6e7ce18a802).\n",
      "2022-07-21 13:33:48.319184 : chargement du fichier 10402X0133_SRAE13.nc en cours (ba0ccd18-1c7a-4065-9c44-7ee57a9a8a10).\n",
      "2022-07-21 13:33:48.380992 : chargement du fichier 10166X0212_BV83.nc en cours (5b6d66d9-60e1-4589-b339-f8bb30c65f83).\n"
     ]
    },
    {
     "name": "stderr",
     "output_type": "stream",
     "text": [
      "2022-07-21 13:33:48,408 INFO Welcome to the CDS\n",
      "2022-07-21 13:33:48,409 INFO Sending request to https://cds.climate.copernicus.eu/api/v2/resources/reanalysis-era5-single-levels\n",
      "2022-07-21 13:33:48,469 INFO Welcome to the CDS\n",
      "2022-07-21 13:33:48,470 INFO Sending request to https://cds.climate.copernicus.eu/api/v2/resources/reanalysis-era5-single-levels\n",
      "2022-07-21 13:33:48,542 INFO Welcome to the CDS\n",
      "2022-07-21 13:33:48,542 INFO Sending request to https://cds.climate.copernicus.eu/api/v2/resources/reanalysis-era5-single-levels\n",
      "2022-07-21 13:33:48,631 INFO Welcome to the CDS\n"
     ]
    },
    {
     "name": "stdout",
     "output_type": "stream",
     "text": [
      "2022-07-21 13:33:48.442855 : chargement du fichier 10897X0010_F3.nc en cours (41ebafa8-b0f7-4c95-b9f9-36e542458f4b).\n",
      "2022-07-21 13:33:48.514828 : chargement du fichier 10145X0022_F3.nc en cours (ab42c19b-7d40-428e-9f81-aa4ba92278b9).\n",
      "2022-07-21 13:33:48.601126 : chargement du fichier 10915X0316_F3.nc en cours (1941f8ec-e008-46dd-991a-e20dc154ca3a).\n"
     ]
    },
    {
     "name": "stderr",
     "output_type": "stream",
     "text": [
      "2022-07-21 13:33:48,633 INFO Sending request to https://cds.climate.copernicus.eu/api/v2/resources/reanalysis-era5-single-levels\n",
      "2022-07-21 13:33:48,698 INFO Welcome to the CDS\n",
      "2022-07-21 13:33:48,699 INFO Sending request to https://cds.climate.copernicus.eu/api/v2/resources/reanalysis-era5-single-levels\n",
      "2022-07-21 13:33:48,767 INFO Welcome to the CDS\n",
      "2022-07-21 13:33:48,767 INFO Sending request to https://cds.climate.copernicus.eu/api/v2/resources/reanalysis-era5-single-levels\n",
      "2022-07-21 13:33:48,826 INFO Welcome to the CDS\n",
      "2022-07-21 13:33:48,826 INFO Sending request to https://cds.climate.copernicus.eu/api/v2/resources/reanalysis-era5-single-levels\n"
     ]
    },
    {
     "name": "stdout",
     "output_type": "stream",
     "text": [
      "2022-07-21 13:33:48.669925 : chargement du fichier 10915X0255_F2N3.nc en cours (fc0add34-8ea8-451c-9d74-25dec6cbf60b).\n",
      "2022-07-21 13:33:48.746690 : chargement du fichier 10912X0112_BAR3.nc en cours (004936cf-a3dc-4c08-88b1-ee9c7803204a).\n",
      "2022-07-21 13:33:48.807275 : chargement du fichier 10912X0110_TOR3.nc en cours (e3f0ca62-d35d-40dd-b494-eb604e865970).\n"
     ]
    },
    {
     "name": "stderr",
     "output_type": "stream",
     "text": [
      "2022-07-21 13:33:48,909 INFO Welcome to the CDS\n",
      "2022-07-21 13:33:48,909 INFO Sending request to https://cds.climate.copernicus.eu/api/v2/resources/reanalysis-era5-single-levels\n",
      "2022-07-21 13:33:48,976 INFO Welcome to the CDS\n",
      "2022-07-21 13:33:48,976 INFO Sending request to https://cds.climate.copernicus.eu/api/v2/resources/reanalysis-era5-single-levels\n"
     ]
    },
    {
     "name": "stdout",
     "output_type": "stream",
     "text": [
      "2022-07-21 13:33:48.889836 : chargement du fichier 09405X0229_S3.nc en cours (ea01a8a1-a6aa-4ce9-8c37-2bb8cb588fc1).\n",
      "2022-07-21 13:33:48.951305 : chargement du fichier 09907X0321_MLS3.nc en cours (a5731b39-8019-4928-8af3-2b55e906bb77).\n",
      "2022-07-21 13:33:49.020635 : chargement du fichier 10388X0037_PZ3.nc en cours (c0be04b0-61b4-4f73-8d05-437720804327).\n"
     ]
    },
    {
     "name": "stderr",
     "output_type": "stream",
     "text": [
      "2022-07-21 13:33:49,143 INFO Welcome to the CDS\n",
      "2022-07-21 13:33:49,143 INFO Sending request to https://cds.climate.copernicus.eu/api/v2/resources/reanalysis-era5-single-levels\n",
      "2022-07-21 13:33:49,205 INFO Welcome to the CDS\n",
      "2022-07-21 13:33:49,206 INFO Sending request to https://cds.climate.copernicus.eu/api/v2/resources/reanalysis-era5-single-levels\n",
      "2022-07-21 13:33:49,275 INFO Welcome to the CDS\n",
      "2022-07-21 13:33:49,275 INFO Sending request to https://cds.climate.copernicus.eu/api/v2/resources/reanalysis-era5-single-levels\n",
      "2022-07-21 13:33:49,352 INFO Welcome to the CDS\n",
      "2022-07-21 13:33:49,352 INFO Sending request to https://cds.climate.copernicus.eu/api/v2/resources/reanalysis-era5-single-levels\n"
     ]
    },
    {
     "name": "stdout",
     "output_type": "stream",
     "text": [
      "2022-07-21 13:33:49.178715 : chargement du fichier 09914X0350_CH14.nc en cours (2498100c-b79e-42e4-b255-b8340da653f3).\n",
      "2022-07-21 13:33:49.253202 : chargement du fichier 09646X0074_B4.nc en cours (d28cb61f-d250-4144-aa20-4f2f4426e866).\n",
      "2022-07-21 13:33:49.325855 : chargement du fichier 10165X0184_F4.nc en cours (786e8c4d-c92d-4cf8-b4fa-45c1c37f2bf5).\n",
      "2022-07-21 13:33:49.387714 : chargement du fichier 10916X0061_F1N4.nc en cours (69d8ea97-21d5-4dd5-a5d5-d5ea6207d52a).\n"
     ]
    },
    {
     "name": "stderr",
     "output_type": "stream",
     "text": [
      "2022-07-21 13:33:49,415 INFO Welcome to the CDS\n",
      "2022-07-21 13:33:49,416 INFO Sending request to https://cds.climate.copernicus.eu/api/v2/resources/reanalysis-era5-single-levels\n",
      "2022-07-21 13:33:49,509 INFO Welcome to the CDS\n",
      "2022-07-21 13:33:49,509 INFO Sending request to https://cds.climate.copernicus.eu/api/v2/resources/reanalysis-era5-single-levels\n",
      "2022-07-21 13:33:49,611 INFO Welcome to the CDS\n",
      "2022-07-21 13:33:49,613 INFO Sending request to https://cds.climate.copernicus.eu/api/v2/resources/reanalysis-era5-single-levels\n",
      "2022-07-21 13:33:49,679 INFO Welcome to the CDS\n"
     ]
    },
    {
     "name": "stdout",
     "output_type": "stream",
     "text": [
      "2022-07-21 13:33:49.481867 : chargement du fichier 10912X0061_F3N4.nc en cours (2bc8ba23-c004-4bd5-9c2a-57621b5dd649).\n",
      "2022-07-21 13:33:49.581906 : chargement du fichier 10166X0253_P4.nc en cours (fbf44c8f-1370-4d55-9e3a-b0731af64a17).\n",
      "2022-07-21 13:33:49.649236 : chargement du fichier 10912X0111_BAR4.nc en cours (f3a5a635-72ec-4d46-8956-b819111a5a06).\n"
     ]
    },
    {
     "name": "stderr",
     "output_type": "stream",
     "text": [
      "2022-07-21 13:33:49,681 INFO Sending request to https://cds.climate.copernicus.eu/api/v2/resources/reanalysis-era5-single-levels\n",
      "2022-07-21 13:33:49,742 INFO Welcome to the CDS\n",
      "2022-07-21 13:33:49,743 INFO Sending request to https://cds.climate.copernicus.eu/api/v2/resources/reanalysis-era5-single-levels\n",
      "2022-07-21 13:33:49,804 INFO Welcome to the CDS\n",
      "2022-07-21 13:33:49,805 INFO Sending request to https://cds.climate.copernicus.eu/api/v2/resources/reanalysis-era5-single-levels\n",
      "2022-07-21 13:33:49,859 INFO Welcome to the CDS\n",
      "2022-07-21 13:33:49,869 INFO Sending request to https://cds.climate.copernicus.eu/api/v2/resources/reanalysis-era5-single-levels\n"
     ]
    },
    {
     "name": "stdout",
     "output_type": "stream",
     "text": [
      "2022-07-21 13:33:49.716264 : chargement du fichier 10391X0013_PZ4.nc en cours (2cf7b6a1-d076-474b-b231-5358fd28e883).\n",
      "2022-07-21 13:33:49.776612 : chargement du fichier 10971X0155_PD5.nc en cours (28e6b58b-895b-4824-9b94-e26a09be7518).\n",
      "2022-07-21 13:33:49.838618 : chargement du fichier 10396X0162_F5.nc en cours (9c2df0f9-2589-42dc-bb53-8d02c2486b5b).\n",
      "2022-07-21 13:33:49.903051 : chargement du fichier 09387X0059_F5.nc en cours (31284e66-91d0-4366-8008-746d68565555).\n"
     ]
    },
    {
     "name": "stderr",
     "output_type": "stream",
     "text": [
      "2022-07-21 13:33:49,931 INFO Welcome to the CDS\n",
      "2022-07-21 13:33:49,933 INFO Sending request to https://cds.climate.copernicus.eu/api/v2/resources/reanalysis-era5-single-levels\n",
      "2022-07-21 13:33:49,996 INFO Welcome to the CDS\n",
      "2022-07-21 13:33:49,997 INFO Sending request to https://cds.climate.copernicus.eu/api/v2/resources/reanalysis-era5-single-levels\n",
      "2022-07-21 13:33:50,059 INFO Welcome to the CDS\n",
      "2022-07-21 13:33:50,061 INFO Sending request to https://cds.climate.copernicus.eu/api/v2/resources/reanalysis-era5-single-levels\n",
      "2022-07-21 13:33:50,137 INFO Welcome to the CDS\n",
      "2022-07-21 13:33:50,138 INFO Sending request to https://cds.climate.copernicus.eu/api/v2/resources/reanalysis-era5-single-levels\n"
     ]
    },
    {
     "name": "stdout",
     "output_type": "stream",
     "text": [
      "2022-07-21 13:33:49.968218 : chargement du fichier 10403X0154_SRAE16.nc en cours (3a31ac14-255d-4d8d-8d8e-77e185c28bcc).\n",
      "2022-07-21 13:33:50.033875 : chargement du fichier 10403X0314_F136.nc en cours (6efe7d82-43ec-4dc2-acaa-219efc540f3f).\n",
      "2022-07-21 13:33:50.110867 : chargement du fichier 09897X0081_DDEP6.nc en cours (a6db8010-f320-4f87-83b1-10b5c595206a).\n",
      "2022-07-21 13:33:50.174107 : chargement du fichier 10795X0068_S107.nc en cours (90ce858b-9357-464b-a98f-408a98c7d0ec).\n"
     ]
    },
    {
     "name": "stderr",
     "output_type": "stream",
     "text": [
      "2022-07-21 13:33:50,201 INFO Welcome to the CDS\n",
      "2022-07-21 13:33:50,202 INFO Sending request to https://cds.climate.copernicus.eu/api/v2/resources/reanalysis-era5-single-levels\n",
      "2022-07-21 13:33:50,373 INFO Welcome to the CDS\n",
      "2022-07-21 13:33:50,374 INFO Sending request to https://cds.climate.copernicus.eu/api/v2/resources/reanalysis-era5-single-levels\n",
      "2022-07-21 13:33:50,434 INFO Welcome to the CDS\n",
      "2022-07-21 13:33:50,435 INFO Sending request to https://cds.climate.copernicus.eu/api/v2/resources/reanalysis-era5-single-levels\n"
     ]
    },
    {
     "name": "stdout",
     "output_type": "stream",
     "text": [
      "2022-07-21 13:33:50.345234 : chargement du fichier 10405X0124_F17.nc en cours (12ec6a89-9329-4933-8bdd-d304816ee5b6).\n",
      "2022-07-21 13:33:50.406767 : chargement du fichier 10157X0104_1777.nc en cours (a83acad8-f7b2-474b-8313-c19e6d61f6ab).\n",
      "2022-07-21 13:33:50.507327 : chargement du fichier 09145X0257_CNRP88.nc en cours (7c651153-78ac-45bf-aeb5-0fbf5508cdf3).\n"
     ]
    },
    {
     "name": "stderr",
     "output_type": "stream",
     "text": [
      "2022-07-21 13:33:50,536 INFO Welcome to the CDS\n",
      "2022-07-21 13:33:50,537 INFO Sending request to https://cds.climate.copernicus.eu/api/v2/resources/reanalysis-era5-single-levels\n",
      "2022-07-21 13:33:50,609 INFO Welcome to the CDS\n",
      "2022-07-21 13:33:50,609 INFO Sending request to https://cds.climate.copernicus.eu/api/v2/resources/reanalysis-era5-single-levels\n",
      "2022-07-21 13:33:50,673 INFO Welcome to the CDS\n",
      "2022-07-21 13:33:50,674 INFO Sending request to https://cds.climate.copernicus.eu/api/v2/resources/reanalysis-era5-single-levels\n",
      "2022-07-21 13:33:50,739 INFO Welcome to the CDS\n",
      "2022-07-21 13:33:50,739 INFO Sending request to https://cds.climate.copernicus.eu/api/v2/resources/reanalysis-era5-single-levels\n"
     ]
    },
    {
     "name": "stdout",
     "output_type": "stream",
     "text": [
      "2022-07-21 13:33:50.584688 : chargement du fichier 10153X0069_VLHR8.nc en cours (88fbe281-346e-435d-af1f-cc909a862860).\n",
      "2022-07-21 13:33:50.645752 : chargement du fichier 09656X0066_6N49.nc en cours (279224b5-9889-4f9f-91bd-d31decef6345).\n",
      "2022-07-21 13:33:50.709839 : chargement du fichier 09134X0245_CNR459.nc en cours (00ed1072-0f3a-4514-b757-d8cf5f60cc51).\n"
     ]
    },
    {
     "name": "stderr",
     "output_type": "stream",
     "text": [
      "2022-07-21 13:33:50,837 INFO Welcome to the CDS\n",
      "2022-07-21 13:33:50,838 INFO Sending request to https://cds.climate.copernicus.eu/api/v2/resources/reanalysis-era5-single-levels\n",
      "2022-07-21 13:33:50,898 INFO Welcome to the CDS\n",
      "2022-07-21 13:33:50,898 INFO Sending request to https://cds.climate.copernicus.eu/api/v2/resources/reanalysis-era5-single-levels\n",
      "2022-07-21 13:33:50,971 INFO Welcome to the CDS\n",
      "2022-07-21 13:33:50,972 INFO Sending request to https://cds.climate.copernicus.eu/api/v2/resources/reanalysis-era5-single-levels\n"
     ]
    },
    {
     "name": "stdout",
     "output_type": "stream",
     "text": [
      "2022-07-21 13:33:50.811706 : chargement du fichier 10401X0294_DRN379.nc en cours (5cedd4bc-1cf7-4b45-8b1a-0a6c699c2d92).\n",
      "2022-07-21 13:33:50.871195 : chargement du fichier 10402X0177_JOURDA.nc en cours (41f6d95d-fac2-4c1e-a824-f1a51dcdf515).\n",
      "2022-07-21 13:33:50.943034 : chargement du fichier 09395X0065_NICOLA.nc en cours (a4c8f103-f1fa-4aec-a17e-7c09825c279c).\n"
     ]
    },
    {
     "name": "stderr",
     "output_type": "stream",
     "text": [
      "2022-07-21 13:33:51,065 INFO Welcome to the CDS\n",
      "2022-07-21 13:33:51,065 INFO Sending request to https://cds.climate.copernicus.eu/api/v2/resources/reanalysis-era5-single-levels\n",
      "2022-07-21 13:33:51,142 INFO Welcome to the CDS\n",
      "2022-07-21 13:33:51,143 INFO Sending request to https://cds.climate.copernicus.eu/api/v2/resources/reanalysis-era5-single-levels\n",
      "2022-07-21 13:33:51,205 INFO Welcome to the CDS\n",
      "2022-07-21 13:33:51,205 INFO Sending request to https://cds.climate.copernicus.eu/api/v2/resources/reanalysis-era5-single-levels\n"
     ]
    },
    {
     "name": "stdout",
     "output_type": "stream",
     "text": [
      "2022-07-21 13:33:51.033257 : chargement du fichier 10403X0350_PEZENA.nc en cours (4e576af4-6163-463b-bcfd-136b57ed3aa4).\n",
      "2022-07-21 13:33:51.115344 : chargement du fichier 10148X0031_POMPA.nc en cours (3304b55b-3e22-45aa-861c-f2311e5dc2af).\n",
      "2022-07-21 13:33:51.176748 : chargement du fichier 09921X0043_GENERA.nc en cours (47be77d9-de8c-4019-856c-5c922445ace7).\n"
     ]
    },
    {
     "name": "stderr",
     "output_type": "stream",
     "text": [
      "2022-07-21 13:33:51,275 INFO Welcome to the CDS\n",
      "2022-07-21 13:33:51,275 INFO Sending request to https://cds.climate.copernicus.eu/api/v2/resources/reanalysis-era5-single-levels\n",
      "2022-07-21 13:33:51,342 INFO Welcome to the CDS\n",
      "2022-07-21 13:33:51,342 INFO Sending request to https://cds.climate.copernicus.eu/api/v2/resources/reanalysis-era5-single-levels\n",
      "2022-07-21 13:33:51,405 INFO Welcome to the CDS\n",
      "2022-07-21 13:33:51,406 INFO Sending request to https://cds.climate.copernicus.eu/api/v2/resources/reanalysis-era5-single-levels\n"
     ]
    },
    {
     "name": "stdout",
     "output_type": "stream",
     "text": [
      "2022-07-21 13:33:51.253416 : chargement du fichier 10401X0128_CLAIRA.nc en cours (cdc47cc1-4004-4d1f-86ae-5103bd4e8815).\n",
      "2022-07-21 13:33:51.314999 : chargement du fichier 10613X0036_INRA.nc en cours (57f077f4-96ef-4caa-82ac-ed0fb5c8f73b).\n",
      "2022-07-21 13:33:51.378590 : chargement du fichier 09655X0266_CAISSA.nc en cours (2560b7f4-ee18-4877-a563-5bf0162e4698).\n",
      "2022-07-21 13:33:51.438005 : chargement du fichier 09632X0162_BRISSA.nc en cours (bdb825e8-eee1-41c3-a77b-7aea17299f8f).\n"
     ]
    },
    {
     "name": "stderr",
     "output_type": "stream",
     "text": [
      "2022-07-21 13:33:51,467 INFO Welcome to the CDS\n",
      "2022-07-21 13:33:51,468 INFO Sending request to https://cds.climate.copernicus.eu/api/v2/resources/reanalysis-era5-single-levels\n",
      "2022-07-21 13:33:51,526 INFO Welcome to the CDS\n",
      "2022-07-21 13:33:51,526 INFO Sending request to https://cds.climate.copernicus.eu/api/v2/resources/reanalysis-era5-single-levels\n",
      "2022-07-21 13:33:51,609 INFO Welcome to the CDS\n",
      "2022-07-21 13:33:51,609 INFO Sending request to https://cds.climate.copernicus.eu/api/v2/resources/reanalysis-era5-single-levels\n",
      "2022-07-21 13:33:51,680 INFO Welcome to the CDS\n",
      "2022-07-21 13:33:51,681 INFO Sending request to https://cds.climate.copernicus.eu/api/v2/resources/reanalysis-era5-single-levels\n"
     ]
    },
    {
     "name": "stdout",
     "output_type": "stream",
     "text": [
      "2022-07-21 13:33:51.511261 : chargement du fichier 10912X0134_BARQUA.nc en cours (fd8d51ee-45ed-4963-b821-77ca4881871f).\n",
      "2022-07-21 13:33:51.583029 : chargement du fichier 10972X0003_ALENYA.nc en cours (2a5e671d-8997-4732-8313-efb06b7a1075).\n",
      "2022-07-21 13:33:51.650760 : chargement du fichier 10403X0235_2031B.nc en cours (865be478-6ea2-4def-9216-df795baf70ff).\n"
     ]
    },
    {
     "name": "stderr",
     "output_type": "stream",
     "text": [
      "2022-07-21 13:33:51,756 INFO Welcome to the CDS\n",
      "2022-07-21 13:33:51,757 INFO Sending request to https://cds.climate.copernicus.eu/api/v2/resources/reanalysis-era5-single-levels\n",
      "2022-07-21 13:33:51,825 INFO Welcome to the CDS\n",
      "2022-07-21 13:33:51,825 INFO Sending request to https://cds.climate.copernicus.eu/api/v2/resources/reanalysis-era5-single-levels\n",
      "2022-07-21 13:33:51,892 INFO Welcome to the CDS\n",
      "2022-07-21 13:33:51,892 INFO Sending request to https://cds.climate.copernicus.eu/api/v2/resources/reanalysis-era5-single-levels\n"
     ]
    },
    {
     "name": "stdout",
     "output_type": "stream",
     "text": [
      "2022-07-21 13:33:51.728291 : chargement du fichier 09126X0274_ROCHEB.nc en cours (39155950-76f5-40a2-b0cf-0837162b05da).\n",
      "2022-07-21 13:33:51.798026 : chargement du fichier 10795X0070_PZCOMB.nc en cours (fcb11f5c-6c5e-47e3-bf0f-f46cbf48d6f4).\n",
      "2022-07-21 13:33:51.864762 : chargement du fichier 09382X0052_C.nc en cours (cdf30888-4c5c-4104-833a-75deb3e904d3).\n",
      "2022-07-21 13:33:51.929805 : chargement du fichier 09894X0077_DRAC.nc en cours (78473bd8-aaf0-4f57-9bf7-de38bf2d93da).\n"
     ]
    },
    {
     "name": "stderr",
     "output_type": "stream",
     "text": [
      "2022-07-21 13:33:51,957 INFO Welcome to the CDS\n",
      "2022-07-21 13:33:51,958 INFO Sending request to https://cds.climate.copernicus.eu/api/v2/resources/reanalysis-era5-single-levels\n",
      "2022-07-21 13:33:52,040 INFO Welcome to the CDS\n",
      "2022-07-21 13:33:52,040 INFO Sending request to https://cds.climate.copernicus.eu/api/v2/resources/reanalysis-era5-single-levels\n",
      "2022-07-21 13:33:52,117 INFO Welcome to the CDS\n",
      "2022-07-21 13:33:52,119 INFO Sending request to https://cds.climate.copernicus.eu/api/v2/resources/reanalysis-era5-single-levels\n",
      "2022-07-21 13:33:52,187 INFO Welcome to the CDS\n",
      "2022-07-21 13:33:52,188 INFO Sending request to https://cds.climate.copernicus.eu/api/v2/resources/reanalysis-era5-single-levels\n"
     ]
    },
    {
     "name": "stdout",
     "output_type": "stream",
     "text": [
      "2022-07-21 13:33:52.009165 : chargement du fichier 08626X0014_BERNAD.nc en cours (867cce52-deb5-418c-9dd7-c4b9695bac6f).\n",
      "2022-07-21 13:33:52.089333 : chargement du fichier 10403X0216_SAUZED.nc en cours (f00d9e1f-0e0e-4926-885a-a9fc828918d1).\n",
      "2022-07-21 13:33:52.158214 : chargement du fichier 09648X0082_UCHAUD.nc en cours (f0ead7e3-3b32-4dfa-87dc-29acc3365862).\n"
     ]
    },
    {
     "name": "stderr",
     "output_type": "stream",
     "text": [
      "2022-07-21 13:33:52,288 INFO Welcome to the CDS\n",
      "2022-07-21 13:33:52,289 INFO Sending request to https://cds.climate.copernicus.eu/api/v2/resources/reanalysis-era5-single-levels\n",
      "2022-07-21 13:33:52,347 INFO Welcome to the CDS\n",
      "2022-07-21 13:33:52,348 INFO Sending request to https://cds.climate.copernicus.eu/api/v2/resources/reanalysis-era5-single-levels\n",
      "2022-07-21 13:33:52,407 INFO Welcome to the CDS\n",
      "2022-07-21 13:33:52,408 INFO Sending request to https://cds.climate.copernicus.eu/api/v2/resources/reanalysis-era5-single-levels\n"
     ]
    },
    {
     "name": "stdout",
     "output_type": "stream",
     "text": [
      "2022-07-21 13:33:52.255551 : chargement du fichier 10142X0043_SUD.nc en cours (c7fbc55e-2f6d-487b-a252-fa1a1015ec17).\n",
      "2022-07-21 13:33:52.320527 : chargement du fichier 09908X0345_AUBE.nc en cours (be3b9f0b-3e76-42a6-a14d-ae6a0f3f0c67).\n",
      "2022-07-21 13:33:52.379936 : chargement du fichier 10616X0029_PRADE.nc en cours (23fca43b-6b1b-4a1b-bf3a-50aad92eb781).\n",
      "2022-07-21 13:33:52.461303 : chargement du fichier 10396X0068_SADE.nc en cours (11fe4fe3-6d05-47c2-a3be-fbdfdbc2ddd5).\n"
     ]
    },
    {
     "name": "stderr",
     "output_type": "stream",
     "text": [
      "2022-07-21 13:33:52,494 INFO Welcome to the CDS\n",
      "2022-07-21 13:33:52,496 INFO Sending request to https://cds.climate.copernicus.eu/api/v2/resources/reanalysis-era5-single-levels\n",
      "2022-07-21 13:33:52,607 INFO Welcome to the CDS\n",
      "2022-07-21 13:33:52,607 INFO Sending request to https://cds.climate.copernicus.eu/api/v2/resources/reanalysis-era5-single-levels\n",
      "2022-07-21 13:33:52,684 INFO Welcome to the CDS\n",
      "2022-07-21 13:33:52,685 INFO Sending request to https://cds.climate.copernicus.eu/api/v2/resources/reanalysis-era5-single-levels\n",
      "2022-07-21 13:33:52,749 INFO Welcome to the CDS\n",
      "2022-07-21 13:33:52,750 INFO Sending request to https://cds.climate.copernicus.eu/api/v2/resources/reanalysis-era5-single-levels\n"
     ]
    },
    {
     "name": "stdout",
     "output_type": "stream",
     "text": [
      "2022-07-21 13:33:52.576160 : chargement du fichier 10156X0057_BEGUDE.nc en cours (f19bdfec-370e-452c-a4ee-8357c2faf6b9).\n",
      "2022-07-21 13:33:52.654323 : chargement du fichier 09912X0278_FORAGE.nc en cours (f69f4c70-af5d-4509-b602-a16e24f08f13).\n",
      "2022-07-21 13:33:52.720229 : chargement du fichier 08627X0059_GAUCHE.nc en cours (120db3f7-8c9b-4e1b-8889-3fd18fb3a86f).\n",
      "2022-07-21 13:33:52.783006 : chargement du fichier 09914X0380_TEMPIE.nc en cours (827582a0-a5b5-4952-9dd7-627303805697).\n"
     ]
    },
    {
     "name": "stderr",
     "output_type": "stream",
     "text": [
      "2022-07-21 13:33:52,809 INFO Welcome to the CDS\n",
      "2022-07-21 13:33:52,810 INFO Sending request to https://cds.climate.copernicus.eu/api/v2/resources/reanalysis-era5-single-levels\n",
      "2022-07-21 13:33:52,943 INFO Welcome to the CDS\n",
      "2022-07-21 13:33:52,943 INFO Sending request to https://cds.climate.copernicus.eu/api/v2/resources/reanalysis-era5-single-levels\n",
      "2022-07-21 13:33:53,024 INFO Welcome to the CDS\n"
     ]
    },
    {
     "name": "stdout",
     "output_type": "stream",
     "text": [
      "2022-07-21 13:33:52.842900 : chargement du fichier 09381X0096_MAIRIE.nc en cours (057b04f1-ef39-4d13-b253-27de323710f8).\n",
      "2022-07-21 13:33:52.996414 : chargement du fichier 09914X0370_PERRIE.nc en cours (7c7774a5-3fc5-46dc-b196-216f85408752).\n"
     ]
    },
    {
     "name": "stderr",
     "output_type": "stream",
     "text": [
      "2022-07-21 13:33:53,025 INFO Sending request to https://cds.climate.copernicus.eu/api/v2/resources/reanalysis-era5-single-levels\n",
      "2022-07-21 13:33:53,085 INFO Welcome to the CDS\n",
      "2022-07-21 13:33:53,086 INFO Sending request to https://cds.climate.copernicus.eu/api/v2/resources/reanalysis-era5-single-levels\n",
      "2022-07-21 13:33:53,160 INFO Welcome to the CDS\n",
      "2022-07-21 13:33:53,160 INFO Sending request to https://cds.climate.copernicus.eu/api/v2/resources/reanalysis-era5-single-levels\n",
      "2022-07-21 13:33:53,226 INFO Welcome to the CDS\n",
      "2022-07-21 13:33:53,227 INFO Sending request to https://cds.climate.copernicus.eu/api/v2/resources/reanalysis-era5-single-levels\n"
     ]
    },
    {
     "name": "stdout",
     "output_type": "stream",
     "text": [
      "2022-07-21 13:33:53.058595 : chargement du fichier 09387X0067_CRUVIE.nc en cours (83af9f08-0e92-49cd-8f88-43a8ae3d60c9).\n",
      "2022-07-21 13:33:53.125877 : chargement du fichier 11001X0005_CECILE.nc en cours (7f12af53-8c4a-426f-9c9b-41837b386af9).\n",
      "2022-07-21 13:33:53.200883 : chargement du fichier 10406X0060_DRILLE.nc en cours (1b24f547-fb48-4068-84cb-7eb630fd2ac5).\n"
     ]
    },
    {
     "name": "stderr",
     "output_type": "stream",
     "text": [
      "2022-07-21 13:33:53,308 INFO Welcome to the CDS\n",
      "2022-07-21 13:33:53,308 INFO Sending request to https://cds.climate.copernicus.eu/api/v2/resources/reanalysis-era5-single-levels\n",
      "2022-07-21 13:33:53,365 INFO Welcome to the CDS\n",
      "2022-07-21 13:33:53,366 INFO Sending request to https://cds.climate.copernicus.eu/api/v2/resources/reanalysis-era5-single-levels\n",
      "2022-07-21 13:33:53,425 INFO Welcome to the CDS\n",
      "2022-07-21 13:33:53,426 INFO Sending request to https://cds.climate.copernicus.eu/api/v2/resources/reanalysis-era5-single-levels\n"
     ]
    },
    {
     "name": "stdout",
     "output_type": "stream",
     "text": [
      "2022-07-21 13:33:53.281673 : chargement du fichier 08866X0047_BURLE.nc en cours (e24e0d74-1862-4d95-9006-72a13452a2a7).\n",
      "2022-07-21 13:33:53.340116 : chargement du fichier 09388X0111_OULE.nc en cours (dd1ab4ff-02dd-4ec8-b288-1b2057d0e77a).\n",
      "2022-07-21 13:33:53.399669 : chargement du fichier 10916X0090_PHARE.nc en cours (0ddd5b6c-4632-4dd1-9b99-97c1bd2bee45).\n",
      "2022-07-21 13:33:53.459454 : chargement du fichier 08866X0059_CENARE.nc en cours (8b35db9a-fa20-406d-a17c-c892fb66ffa9).\n"
     ]
    },
    {
     "name": "stderr",
     "output_type": "stream",
     "text": [
      "2022-07-21 13:33:53,487 INFO Welcome to the CDS\n",
      "2022-07-21 13:33:53,488 INFO Sending request to https://cds.climate.copernicus.eu/api/v2/resources/reanalysis-era5-single-levels\n",
      "2022-07-21 13:33:53,588 INFO Welcome to the CDS\n",
      "2022-07-21 13:33:53,588 INFO Sending request to https://cds.climate.copernicus.eu/api/v2/resources/reanalysis-era5-single-levels\n",
      "2022-07-21 13:33:53,652 INFO Welcome to the CDS\n",
      "2022-07-21 13:33:53,653 INFO Sending request to https://cds.climate.copernicus.eu/api/v2/resources/reanalysis-era5-single-levels\n",
      "2022-07-21 13:33:53,709 INFO Welcome to the CDS\n",
      "2022-07-21 13:33:53,709 INFO Sending request to https://cds.climate.copernicus.eu/api/v2/resources/reanalysis-era5-single-levels\n"
     ]
    },
    {
     "name": "stdout",
     "output_type": "stream",
     "text": [
      "2022-07-21 13:33:53.560222 : chargement du fichier 09913X0158_AIRE.nc en cours (fd488c48-f701-4e04-8607-b91a5a981c08).\n",
      "2022-07-21 13:33:53.627637 : chargement du fichier 09124X0293_SISE.nc en cours (1ec39783-fbc3-48c0-8719-866e2f6c369a).\n",
      "2022-07-21 13:33:53.685501 : chargement du fichier 10402X0180_ECLUSE.nc en cours (2dccf0f2-1d22-481b-b11d-1040a914d323).\n"
     ]
    },
    {
     "name": "stderr",
     "output_type": "stream",
     "text": [
      "2022-07-21 13:33:53,787 INFO Welcome to the CDS\n",
      "2022-07-21 13:33:53,787 INFO Sending request to https://cds.climate.copernicus.eu/api/v2/resources/reanalysis-era5-single-levels\n",
      "2022-07-21 13:33:53,873 INFO Welcome to the CDS\n",
      "2022-07-21 13:33:53,873 INFO Sending request to https://cds.climate.copernicus.eu/api/v2/resources/reanalysis-era5-single-levels\n",
      "2022-07-21 13:33:53,931 INFO Welcome to the CDS\n",
      "2022-07-21 13:33:53,932 INFO Sending request to https://cds.climate.copernicus.eu/api/v2/resources/reanalysis-era5-single-levels\n"
     ]
    },
    {
     "name": "stdout",
     "output_type": "stream",
     "text": [
      "2022-07-21 13:33:53.761480 : chargement du fichier 10772X0051_CAPITE.nc en cours (1bb239c3-4d3f-40c2-92c8-371cd1795b32).\n",
      "2022-07-21 13:33:53.831311 : chargement du fichier 10795X0028_CARSTE.nc en cours (632be89b-9e31-4741-abc4-d7bd305cc6c4).\n",
      "2022-07-21 13:33:53.906558 : chargement du fichier 09574X0030_F.nc en cours (cc2d7431-6b06-4415-9c34-67725c88f72c).\n",
      "2022-07-21 13:33:53.964403 : chargement du fichier 09805X0030_F.nc en cours (752f4ad5-c654-4e45-82b0-63eb1103c700).\n"
     ]
    },
    {
     "name": "stderr",
     "output_type": "stream",
     "text": [
      "2022-07-21 13:33:53,990 INFO Welcome to the CDS\n",
      "2022-07-21 13:33:53,991 INFO Sending request to https://cds.climate.copernicus.eu/api/v2/resources/reanalysis-era5-single-levels\n",
      "2022-07-21 13:33:54,073 INFO Welcome to the CDS\n",
      "2022-07-21 13:33:54,073 INFO Sending request to https://cds.climate.copernicus.eu/api/v2/resources/reanalysis-era5-single-levels\n",
      "2022-07-21 13:33:54,142 INFO Welcome to the CDS\n",
      "2022-07-21 13:33:54,142 INFO Sending request to https://cds.climate.copernicus.eu/api/v2/resources/reanalysis-era5-single-levels\n",
      "2022-07-21 13:33:54,215 INFO Welcome to the CDS\n",
      "2022-07-21 13:33:54,216 INFO Sending request to https://cds.climate.copernicus.eu/api/v2/resources/reanalysis-era5-single-levels\n"
     ]
    },
    {
     "name": "stdout",
     "output_type": "stream",
     "text": [
      "2022-07-21 13:33:54.059828 : chargement du fichier 10403X0130_F.nc en cours (6f446bf2-e07d-442f-b1ec-ea68f5dd4344).\n",
      "2022-07-21 13:33:54.131456 : chargement du fichier 09562X0170_F.nc en cours (0fe1c71a-471f-400c-9c0a-eb4320ff3f0b).\n",
      "2022-07-21 13:33:54.190831 : chargement du fichier 09911X0280_F.nc en cours (8db40456-085b-4a1d-a9fe-7cd2e6d88c38).\n",
      "2022-07-21 13:33:54.247831 : chargement du fichier 10405X0090_F.nc en cours (ea630d68-9fd6-45a7-a3a0-111d1c3d44a9).\n"
     ]
    },
    {
     "name": "stderr",
     "output_type": "stream",
     "text": [
      "2022-07-21 13:33:54,273 INFO Welcome to the CDS\n",
      "2022-07-21 13:33:54,273 INFO Sending request to https://cds.climate.copernicus.eu/api/v2/resources/reanalysis-era5-single-levels\n",
      "2022-07-21 13:33:54,332 INFO Welcome to the CDS\n",
      "2022-07-21 13:33:54,333 INFO Sending request to https://cds.climate.copernicus.eu/api/v2/resources/reanalysis-era5-single-levels\n",
      "2022-07-21 13:33:54,409 INFO Welcome to the CDS\n",
      "2022-07-21 13:33:54,409 INFO Sending request to https://cds.climate.copernicus.eu/api/v2/resources/reanalysis-era5-single-levels\n",
      "2022-07-21 13:33:54,491 INFO Welcome to the CDS\n"
     ]
    },
    {
     "name": "stdout",
     "output_type": "stream",
     "text": [
      "2022-07-21 13:33:54.307877 : chargement du fichier 10312X0001_F.nc en cours (ff59a01b-f56c-4f0e-b82b-b3f5fbe8570d).\n",
      "2022-07-21 13:33:54.390978 : chargement du fichier 09042X0001_F.nc en cours (93a25963-5a44-422c-9775-a4af40c8f648).\n",
      "2022-07-21 13:33:54.468769 : chargement du fichier 10082X0001_F.nc en cours (7c7a49f1-29fb-472a-a3d6-1fbcf7a04fbf).\n"
     ]
    },
    {
     "name": "stderr",
     "output_type": "stream",
     "text": [
      "2022-07-21 13:33:54,491 INFO Sending request to https://cds.climate.copernicus.eu/api/v2/resources/reanalysis-era5-single-levels\n",
      "2022-07-21 13:33:54,553 INFO Welcome to the CDS\n",
      "2022-07-21 13:33:54,553 INFO Sending request to https://cds.climate.copernicus.eu/api/v2/resources/reanalysis-era5-single-levels\n",
      "2022-07-21 13:33:54,610 INFO Welcome to the CDS\n",
      "2022-07-21 13:33:54,611 INFO Sending request to https://cds.climate.copernicus.eu/api/v2/resources/reanalysis-era5-single-levels\n",
      "2022-07-21 13:33:54,669 INFO Welcome to the CDS\n",
      "2022-07-21 13:33:54,670 INFO Sending request to https://cds.climate.copernicus.eu/api/v2/resources/reanalysis-era5-single-levels\n",
      "2022-07-21 13:33:54,728 INFO Welcome to the CDS\n"
     ]
    },
    {
     "name": "stdout",
     "output_type": "stream",
     "text": [
      "2022-07-21 13:33:54.528456 : chargement du fichier 10078X0001_F.nc en cours (0d87f33b-51ef-465e-971c-5438af82b5ad).\n",
      "2022-07-21 13:33:54.585779 : chargement du fichier 10548X0101_F.nc en cours (ab5cd3fd-9bdc-4036-9c6e-f6f4f467c543).\n",
      "2022-07-21 13:33:54.644943 : chargement du fichier 09793X0011_F.nc en cours (cf544950-52fc-4ea3-9361-c29fc0ab8e00).\n",
      "2022-07-21 13:33:54.703004 : chargement du fichier 08807X0011_F.nc en cours (f09fd679-d26f-4d54-a6d4-6ccae25c141e).\n"
     ]
    },
    {
     "name": "stderr",
     "output_type": "stream",
     "text": [
      "2022-07-21 13:33:54,729 INFO Sending request to https://cds.climate.copernicus.eu/api/v2/resources/reanalysis-era5-single-levels\n",
      "2022-07-21 13:33:54,786 INFO Welcome to the CDS\n",
      "2022-07-21 13:33:54,787 INFO Sending request to https://cds.climate.copernicus.eu/api/v2/resources/reanalysis-era5-single-levels\n",
      "2022-07-21 13:33:54,848 INFO Welcome to the CDS\n",
      "2022-07-21 13:33:54,849 INFO Sending request to https://cds.climate.copernicus.eu/api/v2/resources/reanalysis-era5-single-levels\n",
      "2022-07-21 13:33:54,906 INFO Welcome to the CDS\n",
      "2022-07-21 13:33:54,906 INFO Sending request to https://cds.climate.copernicus.eu/api/v2/resources/reanalysis-era5-single-levels\n"
     ]
    },
    {
     "name": "stdout",
     "output_type": "stream",
     "text": [
      "2022-07-21 13:33:54.761754 : chargement du fichier 09903X0111_F.nc en cours (a994a3ce-7899-4173-937f-12b90d1f169b).\n",
      "2022-07-21 13:33:54.822483 : chargement du fichier 09541X0021_F.nc en cours (2116558d-9ba7-4f9e-a562-4fb6d5bf4cfa).\n",
      "2022-07-21 13:33:54.881850 : chargement du fichier 10357X0021_F.nc en cours (2db06f5b-2cf5-4c98-8fd2-0eaabbd8b046).\n",
      "2022-07-21 13:33:54.944427 : chargement du fichier 09908X0351_F.nc en cours (24be49a1-f4d8-490d-a8f4-02ded31b1ca5).\n"
     ]
    },
    {
     "name": "stderr",
     "output_type": "stream",
     "text": [
      "2022-07-21 13:33:54,971 INFO Welcome to the CDS\n",
      "2022-07-21 13:33:54,971 INFO Sending request to https://cds.climate.copernicus.eu/api/v2/resources/reanalysis-era5-single-levels\n",
      "2022-07-21 13:33:55,054 INFO Welcome to the CDS\n",
      "2022-07-21 13:33:55,054 INFO Sending request to https://cds.climate.copernicus.eu/api/v2/resources/reanalysis-era5-single-levels\n",
      "2022-07-21 13:33:55,111 INFO Welcome to the CDS\n",
      "2022-07-21 13:33:55,112 INFO Sending request to https://cds.climate.copernicus.eu/api/v2/resources/reanalysis-era5-single-levels\n",
      "2022-07-21 13:33:55,186 INFO Welcome to the CDS\n",
      "2022-07-21 13:33:55,187 INFO Sending request to https://cds.climate.copernicus.eu/api/v2/resources/reanalysis-era5-single-levels\n"
     ]
    },
    {
     "name": "stdout",
     "output_type": "stream",
     "text": [
      "2022-07-21 13:33:55.028376 : chargement du fichier 09306X0091_F.nc en cours (d3e46731-3ff4-4c0d-ae84-f03d92304b80).\n",
      "2022-07-21 13:33:55.086245 : chargement du fichier 09824X0002_F.nc en cours (6a3574e9-66af-4dea-9dbe-d1efaff9d2fe).\n",
      "2022-07-21 13:33:55.159304 : chargement du fichier 10336X0002_F.nc en cours (2d54a44d-709d-4679-8a79-fc3c62a5e16c).\n",
      "2022-07-21 13:33:55.220528 : chargement du fichier 09528X0002_F.nc en cours (bccd2c60-592f-4111-9815-3debf1c5e2d2).\n"
     ]
    },
    {
     "name": "stderr",
     "output_type": "stream",
     "text": [
      "2022-07-21 13:33:55,260 INFO Welcome to the CDS\n",
      "2022-07-21 13:33:55,260 INFO Sending request to https://cds.climate.copernicus.eu/api/v2/resources/reanalysis-era5-single-levels\n",
      "2022-07-21 13:33:55,308 INFO Welcome to the CDS\n",
      "2022-07-21 13:33:55,308 INFO Sending request to https://cds.climate.copernicus.eu/api/v2/resources/reanalysis-era5-single-levels\n",
      "2022-07-21 13:33:55,402 INFO Welcome to the CDS\n",
      "2022-07-21 13:33:55,402 INFO Sending request to https://cds.climate.copernicus.eu/api/v2/resources/reanalysis-era5-single-levels\n",
      "2022-07-21 13:33:55,468 INFO Welcome to the CDS\n",
      "2022-07-21 13:33:55,471 INFO Sending request to https://cds.climate.copernicus.eu/api/v2/resources/reanalysis-era5-single-levels\n"
     ]
    },
    {
     "name": "stdout",
     "output_type": "stream",
     "text": [
      "2022-07-21 13:33:55.293500 : chargement du fichier 09857X0102_F.nc en cours (7d85366e-1999-4525-a3c5-f7e91cc36745).\n",
      "2022-07-21 13:33:55.371079 : chargement du fichier 10315X0112_F.nc en cours (84bc2717-24b2-4049-92d0-a0db806afe6c).\n",
      "2022-07-21 13:33:55.436714 : chargement du fichier 09526X0212_F.nc en cours (592662a9-80e5-418a-a3ba-abba5cd9de8a).\n"
     ]
    },
    {
     "name": "stderr",
     "output_type": "stream",
     "text": [
      "2022-07-21 13:33:55,561 INFO Welcome to the CDS\n",
      "2022-07-21 13:33:55,563 INFO Sending request to https://cds.climate.copernicus.eu/api/v2/resources/reanalysis-era5-single-levels\n",
      "2022-07-21 13:33:55,636 INFO Welcome to the CDS\n",
      "2022-07-21 13:33:55,637 INFO Sending request to https://cds.climate.copernicus.eu/api/v2/resources/reanalysis-era5-single-levels\n",
      "2022-07-21 13:33:55,697 INFO Welcome to the CDS\n",
      "2022-07-21 13:33:55,698 INFO Sending request to https://cds.climate.copernicus.eu/api/v2/resources/reanalysis-era5-single-levels\n"
     ]
    },
    {
     "name": "stdout",
     "output_type": "stream",
     "text": [
      "2022-07-21 13:33:55.529640 : chargement du fichier 09546X0022_F.nc en cours (1efc8577-cf7a-4fcf-99ad-b0db20139eb3).\n",
      "2022-07-21 13:33:55.607093 : chargement du fichier 10601X0032_F.nc en cours (d574b480-99a4-4fe8-95c0-c99f728afbf3).\n",
      "2022-07-21 13:33:55.671168 : chargement du fichier 09523X0032_F.nc en cours (4f0081c8-f5ff-449f-83ac-5c906c6c3317).\n"
     ]
    },
    {
     "name": "stderr",
     "output_type": "stream",
     "text": [
      "2022-07-21 13:33:55,774 INFO Welcome to the CDS\n",
      "2022-07-21 13:33:55,776 INFO Sending request to https://cds.climate.copernicus.eu/api/v2/resources/reanalysis-era5-single-levels\n",
      "2022-07-21 13:33:55,845 INFO Welcome to the CDS\n",
      "2022-07-21 13:33:55,845 INFO Sending request to https://cds.climate.copernicus.eu/api/v2/resources/reanalysis-era5-single-levels\n"
     ]
    },
    {
     "name": "stdout",
     "output_type": "stream",
     "text": [
      "2022-07-21 13:33:55.747046 : chargement du fichier 10065X0042_F.nc en cours (db161ce4-7ef1-4300-a7aa-4a1b02270a38).\n",
      "2022-07-21 13:33:55.814173 : chargement du fichier 10405X0062_F.nc en cours (91586977-3714-4570-9ae5-73e16976554a).\n",
      "2022-07-21 13:33:55.911680 : chargement du fichier 09793X0003_F.nc en cours (06c21aa5-64d6-40e3-836c-8faed375e415).\n"
     ]
    },
    {
     "name": "stderr",
     "output_type": "stream",
     "text": [
      "2022-07-21 13:33:55,942 INFO Welcome to the CDS\n",
      "2022-07-21 13:33:55,942 INFO Sending request to https://cds.climate.copernicus.eu/api/v2/resources/reanalysis-era5-single-levels\n",
      "2022-07-21 13:33:56,028 INFO Welcome to the CDS\n",
      "2022-07-21 13:33:56,044 INFO Sending request to https://cds.climate.copernicus.eu/api/v2/resources/reanalysis-era5-single-levels\n",
      "2022-07-21 13:33:56,109 INFO Welcome to the CDS\n",
      "2022-07-21 13:33:56,109 INFO Sending request to https://cds.climate.copernicus.eu/api/v2/resources/reanalysis-era5-single-levels\n",
      "2022-07-21 13:33:56,194 INFO Welcome to the CDS\n"
     ]
    },
    {
     "name": "stdout",
     "output_type": "stream",
     "text": [
      "2022-07-21 13:33:55.997524 : chargement du fichier 10357X0213_F.nc en cours (ee2caabc-85e4-48ac-aff1-bb45fad9793f).\n",
      "2022-07-21 13:33:56.078428 : chargement du fichier 09293X0123_F.nc en cours (cd29ce20-ae35-44ae-8a0f-4b1b308fc7a3).\n",
      "2022-07-21 13:33:56.152564 : chargement du fichier 09312X0063_F.nc en cours (115aa127-7f62-40c2-a1a1-4f44ffc46393).\n"
     ]
    },
    {
     "name": "stderr",
     "output_type": "stream",
     "text": [
      "2022-07-21 13:33:56,194 INFO Sending request to https://cds.climate.copernicus.eu/api/v2/resources/reanalysis-era5-single-levels\n",
      "2022-07-21 13:33:56,256 INFO Welcome to the CDS\n",
      "2022-07-21 13:33:56,256 INFO Sending request to https://cds.climate.copernicus.eu/api/v2/resources/reanalysis-era5-single-levels\n",
      "2022-07-21 13:33:56,320 INFO Welcome to the CDS\n",
      "2022-07-21 13:33:56,335 INFO Sending request to https://cds.climate.copernicus.eu/api/v2/resources/reanalysis-era5-single-levels\n",
      "2022-07-21 13:33:56,394 INFO Welcome to the CDS\n",
      "2022-07-21 13:33:56,394 INFO Sending request to https://cds.climate.copernicus.eu/api/v2/resources/reanalysis-era5-single-levels\n"
     ]
    },
    {
     "name": "stdout",
     "output_type": "stream",
     "text": [
      "2022-07-21 13:33:56.238787 : chargement du fichier 09311X0093_F.nc en cours (bfd55f1a-241e-4dad-920b-a1279c2b1184).\n",
      "2022-07-21 13:33:56.304178 : chargement du fichier 10098A0004_F.nc en cours (5b116542-d555-44ff-aacb-f3555deb9b06).\n",
      "2022-07-21 13:33:56.368046 : chargement du fichier 10351X0024_F.nc en cours (52926d56-bf6d-41d6-a360-73b66f0358a5).\n",
      "2022-07-21 13:33:56.440376 : chargement du fichier 10912X0024_F.nc en cours (7ca5009a-7881-4466-beca-8661ac25d2d9).\n"
     ]
    },
    {
     "name": "stderr",
     "output_type": "stream",
     "text": [
      "2022-07-21 13:33:56,542 INFO Welcome to the CDS\n",
      "2022-07-21 13:33:56,542 INFO Sending request to https://cds.climate.copernicus.eu/api/v2/resources/reanalysis-era5-single-levels\n",
      "2022-07-21 13:33:56,610 INFO Welcome to the CDS\n",
      "2022-07-21 13:33:56,610 INFO Sending request to https://cds.climate.copernicus.eu/api/v2/resources/reanalysis-era5-single-levels\n",
      "2022-07-21 13:33:56,680 INFO Welcome to the CDS\n",
      "2022-07-21 13:33:56,680 INFO Sending request to https://cds.climate.copernicus.eu/api/v2/resources/reanalysis-era5-single-levels\n",
      "2022-07-21 13:33:56,754 INFO Welcome to the CDS\n"
     ]
    },
    {
     "name": "stdout",
     "output_type": "stream",
     "text": [
      "2022-07-21 13:33:56.579524 : chargement du fichier 10097X0224_F.nc en cours (b28b330c-3607-43b0-a729-793ca1f208a8).\n",
      "2022-07-21 13:33:56.660219 : chargement du fichier 10405X0054_F.nc en cours (89620a6d-2dfe-4c37-9033-8eb0c395c2f6).\n",
      "2022-07-21 13:33:56.722798 : chargement du fichier 09866X0074_F.nc en cours (31982922-1c25-4efd-a02f-050992e5f13a).\n"
     ]
    },
    {
     "name": "stderr",
     "output_type": "stream",
     "text": [
      "2022-07-21 13:33:56,754 INFO Sending request to https://cds.climate.copernicus.eu/api/v2/resources/reanalysis-era5-single-levels\n",
      "2022-07-21 13:33:56,816 INFO Welcome to the CDS\n",
      "2022-07-21 13:33:56,816 INFO Sending request to https://cds.climate.copernicus.eu/api/v2/resources/reanalysis-era5-single-levels\n",
      "2022-07-21 13:33:56,880 INFO Welcome to the CDS\n",
      "2022-07-21 13:33:56,896 INFO Sending request to https://cds.climate.copernicus.eu/api/v2/resources/reanalysis-era5-single-levels\n"
     ]
    },
    {
     "name": "stdout",
     "output_type": "stream",
     "text": [
      "2022-07-21 13:33:56.780431 : chargement du fichier 10401X0094_F.nc en cours (baf8eebf-543b-4793-929c-197a67674681).\n",
      "2022-07-21 13:33:56.862745 : chargement du fichier 08323X0205_F.nc en cours (77bdb051-eba1-4727-bebf-da22729896f4).\n",
      "2022-07-21 13:33:56.929988 : chargement du fichier 10406X0035_F.nc en cours (63784d49-4270-45bf-91fd-ddf896cfa919).\n"
     ]
    },
    {
     "name": "stderr",
     "output_type": "stream",
     "text": [
      "2022-07-21 13:33:56,961 INFO Welcome to the CDS\n",
      "2022-07-21 13:33:56,963 INFO Sending request to https://cds.climate.copernicus.eu/api/v2/resources/reanalysis-era5-single-levels\n",
      "2022-07-21 13:33:57,036 INFO Welcome to the CDS\n",
      "2022-07-21 13:33:57,037 INFO Sending request to https://cds.climate.copernicus.eu/api/v2/resources/reanalysis-era5-single-levels\n",
      "2022-07-21 13:33:57,132 INFO Welcome to the CDS\n",
      "2022-07-21 13:33:57,133 INFO Sending request to https://cds.climate.copernicus.eu/api/v2/resources/reanalysis-era5-single-levels\n",
      "2022-07-21 13:33:57,196 INFO Welcome to the CDS\n"
     ]
    },
    {
     "name": "stdout",
     "output_type": "stream",
     "text": [
      "2022-07-21 13:33:57.010124 : chargement du fichier 08811X0055_F.nc en cours (8279f104-de66-46bb-a625-8228343f95cd).\n",
      "2022-07-21 13:33:57.103200 : chargement du fichier 10122X0055_F.nc en cours (dabb27cd-bc74-4cee-a59d-168ced605932).\n",
      "2022-07-21 13:33:57.166917 : chargement du fichier 09268X0055_F.nc en cours (d167b443-98fb-4c90-a16c-3e7edeb11f5b).\n"
     ]
    },
    {
     "name": "stderr",
     "output_type": "stream",
     "text": [
      "2022-07-21 13:33:57,197 INFO Sending request to https://cds.climate.copernicus.eu/api/v2/resources/reanalysis-era5-single-levels\n",
      "2022-07-21 13:33:57,262 INFO Welcome to the CDS\n",
      "2022-07-21 13:33:57,262 INFO Sending request to https://cds.climate.copernicus.eu/api/v2/resources/reanalysis-era5-single-levels\n",
      "2022-07-21 13:33:57,332 INFO Welcome to the CDS\n",
      "2022-07-21 13:33:57,333 INFO Sending request to https://cds.climate.copernicus.eu/api/v2/resources/reanalysis-era5-single-levels\n",
      "2022-07-21 13:33:57,414 INFO Welcome to the CDS\n"
     ]
    },
    {
     "name": "stdout",
     "output_type": "stream",
     "text": [
      "2022-07-21 13:33:57.232852 : chargement du fichier 10405X0085_F.nc en cours (9d421f3b-69b7-4a4a-af14-2a2d9a98dac6).\n",
      "2022-07-21 13:33:57.304273 : chargement du fichier 09303X0185_F.nc en cours (de299585-0f08-4364-9ae1-9090d3c83d51).\n",
      "2022-07-21 13:33:57.381080 : chargement du fichier 08323X0206_F.nc en cours (335b56f7-7776-4f6b-b7ba-006b43cd9248).\n"
     ]
    },
    {
     "name": "stderr",
     "output_type": "stream",
     "text": [
      "2022-07-21 13:33:57,414 INFO Sending request to https://cds.climate.copernicus.eu/api/v2/resources/reanalysis-era5-single-levels\n",
      "2022-07-21 13:33:57,512 INFO Welcome to the CDS\n",
      "2022-07-21 13:33:57,512 INFO Sending request to https://cds.climate.copernicus.eu/api/v2/resources/reanalysis-era5-single-levels\n",
      "2022-07-21 13:33:57,619 INFO Welcome to the CDS\n",
      "2022-07-21 13:33:57,620 INFO Sending request to https://cds.climate.copernicus.eu/api/v2/resources/reanalysis-era5-single-levels\n"
     ]
    },
    {
     "name": "stdout",
     "output_type": "stream",
     "text": [
      "2022-07-21 13:33:57.481292 : chargement du fichier 09533X0016_F.nc en cours (5cc3a251-83cc-448b-8739-e3f06fd0befd).\n",
      "2022-07-21 13:33:57.581615 : chargement du fichier 10072X0026_F.nc en cours (8941415c-6961-4be4-b00b-54c44e03675c).\n",
      "2022-07-21 13:33:57.659046 : chargement du fichier 10553X0026_F.nc en cours (931f7632-5bf5-42ad-bfe4-bf585a81c1f6).\n"
     ]
    },
    {
     "name": "stderr",
     "output_type": "stream",
     "text": [
      "2022-07-21 13:33:57,693 INFO Welcome to the CDS\n",
      "2022-07-21 13:33:57,694 INFO Sending request to https://cds.climate.copernicus.eu/api/v2/resources/reanalysis-era5-single-levels\n",
      "2022-07-21 13:33:57,781 INFO Welcome to the CDS\n",
      "2022-07-21 13:33:57,781 INFO Sending request to https://cds.climate.copernicus.eu/api/v2/resources/reanalysis-era5-single-levels\n",
      "2022-07-21 13:33:57,845 INFO Welcome to the CDS\n",
      "2022-07-21 13:33:57,845 INFO Sending request to https://cds.climate.copernicus.eu/api/v2/resources/reanalysis-era5-single-levels\n"
     ]
    },
    {
     "name": "stdout",
     "output_type": "stream",
     "text": [
      "2022-07-21 13:33:57.743686 : chargement du fichier 10546X0026_F.nc en cours (31dce915-4167-4423-9868-fce7d08e91f6).\n",
      "2022-07-21 13:33:57.814166 : chargement du fichier 09328X0126_F.nc en cours (07e81a04-afd3-4740-9f28-f6f85d7120e8).\n",
      "2022-07-21 13:33:57.917452 : chargement du fichier 09845C1426_F.nc en cours (faa509c1-0770-47d4-99eb-8ecb082f1c7b).\n"
     ]
    },
    {
     "name": "stderr",
     "output_type": "stream",
     "text": [
      "2022-07-21 13:33:57,959 INFO Welcome to the CDS\n",
      "2022-07-21 13:33:57,961 INFO Sending request to https://cds.climate.copernicus.eu/api/v2/resources/reanalysis-era5-single-levels\n",
      "2022-07-21 13:33:58,013 INFO Welcome to the CDS\n",
      "2022-07-21 13:33:58,029 INFO Sending request to https://cds.climate.copernicus.eu/api/v2/resources/reanalysis-era5-single-levels\n",
      "2022-07-21 13:33:58,082 INFO Welcome to the CDS\n",
      "2022-07-21 13:33:58,082 INFO Sending request to https://cds.climate.copernicus.eu/api/v2/resources/reanalysis-era5-single-levels\n",
      "2022-07-21 13:33:58,152 INFO Welcome to the CDS\n",
      "2022-07-21 13:33:58,152 INFO Sending request to https://cds.climate.copernicus.eu/api/v2/resources/reanalysis-era5-single-levels\n"
     ]
    },
    {
     "name": "stdout",
     "output_type": "stream",
     "text": [
      "2022-07-21 13:33:57.998218 : chargement du fichier 09307X0136_F.nc en cours (3382ebfe-d75b-4f7a-ad73-c0d380879b24).\n",
      "2022-07-21 13:33:58.060487 : chargement du fichier 10403X0046_F.nc en cours (15cc354b-95b2-49d2-9a51-bb90b96cefa2).\n",
      "2022-07-21 13:33:58.120929 : chargement du fichier 09307X0146_F.nc en cours (81922f4c-57da-42f5-8836-210e65c04da1).\n"
     ]
    },
    {
     "name": "stderr",
     "output_type": "stream",
     "text": [
      "2022-07-21 13:33:58,240 INFO Welcome to the CDS\n",
      "2022-07-21 13:33:58,240 INFO Sending request to https://cds.climate.copernicus.eu/api/v2/resources/reanalysis-era5-single-levels\n",
      "2022-07-21 13:33:58,298 INFO Welcome to the CDS\n",
      "2022-07-21 13:33:58,298 INFO Sending request to https://cds.climate.copernicus.eu/api/v2/resources/reanalysis-era5-single-levels\n",
      "2022-07-21 13:33:58,366 INFO Welcome to the CDS\n",
      "2022-07-21 13:33:58,366 INFO Sending request to https://cds.climate.copernicus.eu/api/v2/resources/reanalysis-era5-single-levels\n"
     ]
    },
    {
     "name": "stdout",
     "output_type": "stream",
     "text": [
      "2022-07-21 13:33:58.208959 : chargement du fichier 09294X0256_F.nc en cours (07166691-03dd-49af-ad7f-f55644cb2172).\n",
      "2022-07-21 13:33:58.264934 : chargement du fichier 10092X0166_F.nc en cours (52e49fed-50d6-463e-96db-822012823eb7).\n",
      "2022-07-21 13:33:58.335199 : chargement du fichier 09306X0286_F.nc en cours (a338c757-0538-421c-90f3-af058578b4e1).\n",
      "2022-07-21 13:33:58.413582 : chargement du fichier 08592X0096_F.nc en cours (9a505a4f-d392-49b5-b93c-a0d80792df67).\n"
     ]
    },
    {
     "name": "stderr",
     "output_type": "stream",
     "text": [
      "2022-07-21 13:33:58,444 INFO Welcome to the CDS\n",
      "2022-07-21 13:33:58,444 INFO Sending request to https://cds.climate.copernicus.eu/api/v2/resources/reanalysis-era5-single-levels\n",
      "2022-07-21 13:33:58,529 INFO Welcome to the CDS\n",
      "2022-07-21 13:33:58,529 INFO Sending request to https://cds.climate.copernicus.eu/api/v2/resources/reanalysis-era5-single-levels\n",
      "2022-07-21 13:33:58,598 INFO Welcome to the CDS\n",
      "2022-07-21 13:33:58,598 INFO Sending request to https://cds.climate.copernicus.eu/api/v2/resources/reanalysis-era5-single-levels\n",
      "2022-07-21 13:33:58,682 INFO Welcome to the CDS\n",
      "2022-07-21 13:33:58,682 INFO Sending request to https://cds.climate.copernicus.eu/api/v2/resources/reanalysis-era5-single-levels\n"
     ]
    },
    {
     "name": "stdout",
     "output_type": "stream",
     "text": [
      "2022-07-21 13:33:58.514252 : chargement du fichier 08565X0007_F.nc en cours (49278831-0bfe-4fdd-82dc-ce1a054dac3e).\n",
      "2022-07-21 13:33:58.576620 : chargement du fichier 10603X0027_F.nc en cours (a654d1ef-5bfe-4040-b167-a85fe7d827ba).\n",
      "2022-07-21 13:33:58.644261 : chargement du fichier 09838D0727_F.nc en cours (1b6e349f-a2b5-41d9-b58e-4a9ad57ad256).\n"
     ]
    },
    {
     "name": "stderr",
     "output_type": "stream",
     "text": [
      "2022-07-21 13:33:58,742 INFO Welcome to the CDS\n",
      "2022-07-21 13:33:58,742 INFO Sending request to https://cds.climate.copernicus.eu/api/v2/resources/reanalysis-era5-single-levels\n",
      "2022-07-21 13:33:58,800 INFO Welcome to the CDS\n",
      "2022-07-21 13:33:58,800 INFO Sending request to https://cds.climate.copernicus.eu/api/v2/resources/reanalysis-era5-single-levels\n",
      "2022-07-21 13:33:58,883 INFO Welcome to the CDS\n",
      "2022-07-21 13:33:58,883 INFO Sending request to https://cds.climate.copernicus.eu/api/v2/resources/reanalysis-era5-single-levels\n"
     ]
    },
    {
     "name": "stdout",
     "output_type": "stream",
     "text": [
      "2022-07-21 13:33:58.722984 : chargement du fichier 09577X0047_F.nc en cours (c569fdaa-c4d1-4b45-b20b-e2fd7695da51).\n",
      "2022-07-21 13:33:58.782878 : chargement du fichier 09395X0067_F.nc en cours (f3cc5391-435b-4bb2-af33-9d8e60d926f6).\n",
      "2022-07-21 13:33:58.846623 : chargement du fichier 09536X0008_F.nc en cours (06ff1fad-f961-466a-8146-ab8e2f62d9cc).\n",
      "2022-07-21 13:33:58.921650 : chargement du fichier 09301X0028_F.nc en cours (d7ded761-d4f9-497c-9a20-5b6fa27dd43a).\n"
     ]
    },
    {
     "name": "stderr",
     "output_type": "stream",
     "text": [
      "2022-07-21 13:33:58,953 INFO Welcome to the CDS\n",
      "2022-07-21 13:33:58,953 INFO Sending request to https://cds.climate.copernicus.eu/api/v2/resources/reanalysis-era5-single-levels\n",
      "2022-07-21 13:33:59,018 INFO Welcome to the CDS\n",
      "2022-07-21 13:33:59,018 INFO Sending request to https://cds.climate.copernicus.eu/api/v2/resources/reanalysis-era5-single-levels\n",
      "2022-07-21 13:33:59,099 INFO Welcome to the CDS\n",
      "2022-07-21 13:33:59,099 INFO Sending request to https://cds.climate.copernicus.eu/api/v2/resources/reanalysis-era5-single-levels\n",
      "2022-07-21 13:33:59,183 INFO Welcome to the CDS\n"
     ]
    },
    {
     "name": "stdout",
     "output_type": "stream",
     "text": [
      "2022-07-21 13:33:58.986844 : chargement du fichier 10384X0048_F.nc en cours (e0e3b2da-b7b7-4978-879a-9b62c9608873).\n",
      "2022-07-21 13:33:59.067411 : chargement du fichier 10326X0009_F.nc en cours (c446a665-29c9-4f5a-b7e2-fb7d9e7ea246).\n",
      "2022-07-21 13:33:59.143092 : chargement du fichier 09567X0219_F.nc en cours (2328ef1f-94c7-43d5-b3a9-cea485fd61cd).\n"
     ]
    },
    {
     "name": "stderr",
     "output_type": "stream",
     "text": [
      "2022-07-21 13:33:59,183 INFO Sending request to https://cds.climate.copernicus.eu/api/v2/resources/reanalysis-era5-single-levels\n",
      "2022-07-21 13:33:59,261 INFO Welcome to the CDS\n",
      "2022-07-21 13:33:59,262 INFO Sending request to https://cds.climate.copernicus.eu/api/v2/resources/reanalysis-era5-single-levels\n",
      "2022-07-21 13:33:59,333 INFO Welcome to the CDS\n",
      "2022-07-21 13:33:59,333 INFO Sending request to https://cds.climate.copernicus.eu/api/v2/resources/reanalysis-era5-single-levels\n"
     ]
    },
    {
     "name": "stdout",
     "output_type": "stream",
     "text": [
      "2022-07-21 13:33:59.231365 : chargement du fichier 09302X0139_F.nc en cours (b9c5706a-4636-4821-b3a2-635aec36c922).\n",
      "2022-07-21 13:33:59.302407 : chargement du fichier 09833C0249_F.nc en cours (90ab7b97-ff97-43ab-8f5c-9d5213ef94c1).\n",
      "2022-07-21 13:33:59.400042 : chargement du fichier 10402X0059_F.nc en cours (05df7b3d-01ff-47c1-81f0-1511a57ab264).\n"
     ]
    },
    {
     "name": "stderr",
     "output_type": "stream",
     "text": [
      "2022-07-21 13:33:59,432 INFO Welcome to the CDS\n",
      "2022-07-21 13:33:59,432 INFO Sending request to https://cds.climate.copernicus.eu/api/v2/resources/reanalysis-era5-single-levels\n",
      "2022-07-21 13:33:59,515 INFO Welcome to the CDS\n",
      "2022-07-21 13:33:59,515 INFO Sending request to https://cds.climate.copernicus.eu/api/v2/resources/reanalysis-era5-single-levels\n",
      "2022-07-21 13:33:59,584 INFO Welcome to the CDS\n",
      "2022-07-21 13:33:59,584 INFO Sending request to https://cds.climate.copernicus.eu/api/v2/resources/reanalysis-era5-single-levels\n",
      "2022-07-21 13:33:59,655 INFO Welcome to the CDS\n",
      "2022-07-21 13:33:59,655 INFO Sending request to https://cds.climate.copernicus.eu/api/v2/resources/reanalysis-era5-single-levels\n"
     ]
    },
    {
     "name": "stdout",
     "output_type": "stream",
     "text": [
      "2022-07-21 13:33:59.484418 : chargement du fichier 10577X0159_F.nc en cours (44b65358-94cc-442e-9bdb-74b240352770).\n",
      "2022-07-21 13:33:59.558087 : chargement du fichier 10345X0199_F.nc en cours (72d16b42-874a-4029-a37c-f05fb296d03a).\n",
      "2022-07-21 13:33:59.623747 : chargement du fichier 10407X0071_GOLF.nc en cours (7ce72d87-0b40-491d-a9b8-83b4da8d8c9e).\n"
     ]
    },
    {
     "name": "stderr",
     "output_type": "stream",
     "text": [
      "2022-07-21 13:33:59,735 INFO Welcome to the CDS\n",
      "2022-07-21 13:33:59,735 INFO Sending request to https://cds.climate.copernicus.eu/api/v2/resources/reanalysis-era5-single-levels\n",
      "2022-07-21 13:33:59,841 INFO Welcome to the CDS\n",
      "2022-07-21 13:33:59,841 INFO Sending request to https://cds.climate.copernicus.eu/api/v2/resources/reanalysis-era5-single-levels\n"
     ]
    },
    {
     "name": "stdout",
     "output_type": "stream",
     "text": [
      "2022-07-21 13:33:59.704552 : chargement du fichier 10894X0013_RESURG.nc en cours (9a248238-406f-4fa1-b027-d2f715733c8a).\n",
      "2022-07-21 13:33:59.809802 : chargement du fichier 08866X0004_RESURG.nc en cours (691d6d62-2d06-43ce-9505-e56c9887b43a).\n",
      "2022-07-21 13:33:59.885235 : chargement du fichier 10163X0156_SG.nc en cours (b2d36bdf-6a9a-4f09-85cb-350a9074ee05).\n"
     ]
    },
    {
     "name": "stderr",
     "output_type": "stream",
     "text": [
      "2022-07-21 13:33:59,916 INFO Welcome to the CDS\n",
      "2022-07-21 13:33:59,916 INFO Sending request to https://cds.climate.copernicus.eu/api/v2/resources/reanalysis-era5-single-levels\n",
      "2022-07-21 13:34:00,016 INFO Welcome to the CDS\n",
      "2022-07-21 13:34:00,016 INFO Sending request to https://cds.climate.copernicus.eu/api/v2/resources/reanalysis-era5-single-levels\n",
      "2022-07-21 13:34:00,116 INFO Welcome to the CDS\n",
      "2022-07-21 13:34:00,116 INFO Sending request to https://cds.climate.copernicus.eu/api/v2/resources/reanalysis-era5-single-levels\n"
     ]
    },
    {
     "name": "stdout",
     "output_type": "stream",
     "text": [
      "2022-07-21 13:33:59.965527 : chargement du fichier 10154X0075_BELLUG.nc en cours (25a45ecc-dd16-4dce-9508-49c24a9fbe03).\n",
      "2022-07-21 13:34:00.085505 : chargement du fichier 10405X0095_GERMAI.nc en cours (2b0c1a5d-4125-4eb9-ae93-361842fa763c).\n"
     ]
    },
    {
     "name": "stderr",
     "output_type": "stream",
     "text": [
      "2022-07-21 13:34:00,201 INFO Welcome to the CDS\n",
      "2022-07-21 13:34:00,201 INFO Sending request to https://cds.climate.copernicus.eu/api/v2/resources/reanalysis-era5-single-levels\n",
      "2022-07-21 13:34:00,302 INFO Welcome to the CDS\n",
      "2022-07-21 13:34:00,303 INFO Sending request to https://cds.climate.copernicus.eu/api/v2/resources/reanalysis-era5-single-levels\n",
      "2022-07-21 13:34:00,358 INFO Welcome to the CDS\n",
      "2022-07-21 13:34:00,358 INFO Sending request to https://cds.climate.copernicus.eu/api/v2/resources/reanalysis-era5-single-levels\n"
     ]
    },
    {
     "name": "stdout",
     "output_type": "stream",
     "text": [
      "2022-07-21 13:34:00.185849 : chargement du fichier 09394X0003_FONTAI.nc en cours (7067cb41-7879-4a6f-8349-63bccaa9a45e).\n",
      "2022-07-21 13:34:00.265624 : chargement du fichier 09384X0014_GAEI.nc en cours (8880325d-8645-43fa-a477-8502e591c5a4).\n",
      "2022-07-21 13:34:00.342245 : chargement du fichier 09898X0017_PESQUI.nc en cours (e4da6ab7-bac3-4f60-9cf4-70d4e567df48).\n"
     ]
    },
    {
     "name": "stderr",
     "output_type": "stream",
     "text": [
      "2022-07-21 13:34:00,542 INFO Welcome to the CDS\n",
      "2022-07-21 13:34:00,542 INFO Sending request to https://cds.climate.copernicus.eu/api/v2/resources/reanalysis-era5-single-levels\n",
      "2022-07-21 13:34:00,592 INFO Welcome to the CDS\n"
     ]
    },
    {
     "name": "stdout",
     "output_type": "stream",
     "text": [
      "2022-07-21 13:34:00.405603 : chargement du fichier 09128X0053_CAL.nc en cours (2feaf093-ea62-4c34-bab0-c886baa44e6d).\n",
      "2022-07-21 13:34:00.574137 : chargement du fichier 08622X0027_GAL.nc en cours (55fdb396-6240-402c-84be-4b155b6527c9).\n"
     ]
    },
    {
     "name": "stderr",
     "output_type": "stream",
     "text": [
      "2022-07-21 13:34:00,592 INFO Sending request to https://cds.climate.copernicus.eu/api/v2/resources/reanalysis-era5-single-levels\n",
      "2022-07-21 13:34:00,673 INFO Welcome to the CDS\n",
      "2022-07-21 13:34:00,673 INFO Sending request to https://cds.climate.copernicus.eu/api/v2/resources/reanalysis-era5-single-levels\n",
      "2022-07-21 13:34:00,727 INFO Welcome to the CDS\n",
      "2022-07-21 13:34:00,742 INFO Sending request to https://cds.climate.copernicus.eu/api/v2/resources/reanalysis-era5-single-levels\n"
     ]
    },
    {
     "name": "stdout",
     "output_type": "stream",
     "text": [
      "2022-07-21 13:34:00.640217 : chargement du fichier 09905X0064_CMBSAL.nc en cours (464f5783-7d40-4081-8d59-6cd6eb31c1d6).\n",
      "2022-07-21 13:34:00.711528 : chargement du fichier 10764X0043_OUSTAL.nc en cours (ba9987b8-11ba-4cb6-96ad-b0731b111dfe).\n"
     ]
    },
    {
     "name": "stderr",
     "output_type": "stream",
     "text": [
      "2022-07-21 13:34:00,874 INFO Welcome to the CDS\n",
      "2022-07-21 13:34:00,874 INFO Sending request to https://cds.climate.copernicus.eu/api/v2/resources/reanalysis-era5-single-levels\n",
      "2022-07-21 13:34:00,953 INFO Welcome to the CDS\n",
      "2022-07-21 13:34:00,953 INFO Sending request to https://cds.climate.copernicus.eu/api/v2/resources/reanalysis-era5-single-levels\n",
      "2022-07-21 13:34:01,018 INFO Welcome to the CDS\n",
      "2022-07-21 13:34:01,018 INFO Sending request to https://cds.climate.copernicus.eu/api/v2/resources/reanalysis-era5-single-levels\n"
     ]
    },
    {
     "name": "stdout",
     "output_type": "stream",
     "text": [
      "2022-07-21 13:34:00.845785 : chargement du fichier 10903X0034_PZSTGL.nc en cours (8aa86459-2026-44e2-abaf-3028409f0a5d).\n",
      "2022-07-21 13:34:00.919627 : chargement du fichier 09656X0175_RODIL.nc en cours (5b89b996-2461-4787-a671-6226e264c035).\n",
      "2022-07-21 13:34:00.986869 : chargement du fichier 10116X0237_TREVIL.nc en cours (94d7eceb-76b5-48a9-809c-1fc386e33cf4).\n"
     ]
    },
    {
     "name": "stderr",
     "output_type": "stream",
     "text": [
      "2022-07-21 13:34:01,073 INFO Welcome to the CDS\n",
      "2022-07-21 13:34:01,073 INFO Sending request to https://cds.climate.copernicus.eu/api/v2/resources/reanalysis-era5-single-levels\n",
      "2022-07-21 13:34:01,165 INFO Welcome to the CDS\n",
      "2022-07-21 13:34:01,165 INFO Sending request to https://cds.climate.copernicus.eu/api/v2/resources/reanalysis-era5-single-levels\n",
      "2022-07-21 13:34:01,238 INFO Welcome to the CDS\n"
     ]
    },
    {
     "name": "stdout",
     "output_type": "stream",
     "text": [
      "2022-07-21 13:34:01.056587 : chargement du fichier 09398X0028_VALL.nc en cours (c3531de1-e67f-479a-85c8-07c419ec3740).\n",
      "2022-07-21 13:34:01.118477 : chargement du fichier 10406X0077_ASL.nc en cours (0d582f01-ae36-47bd-bfe0-45686b22897d).\n",
      "2022-07-21 13:34:01.206162 : chargement du fichier 10904X0105_ROBOUL.nc en cours (5b6cd4db-9477-408e-b3a2-ed653b3fe0b6).\n"
     ]
    },
    {
     "name": "stderr",
     "output_type": "stream",
     "text": [
      "2022-07-21 13:34:01,238 INFO Sending request to https://cds.climate.copernicus.eu/api/v2/resources/reanalysis-era5-single-levels\n",
      "2022-07-21 13:34:01,303 INFO Welcome to the CDS\n",
      "2022-07-21 13:34:01,318 INFO Sending request to https://cds.climate.copernicus.eu/api/v2/resources/reanalysis-era5-single-levels\n",
      "2022-07-21 13:34:01,392 INFO Welcome to the CDS\n",
      "2022-07-21 13:34:01,393 INFO Sending request to https://cds.climate.copernicus.eu/api/v2/resources/reanalysis-era5-single-levels\n",
      "2022-07-21 13:34:01,461 INFO Welcome to the CDS\n",
      "2022-07-21 13:34:01,461 INFO Sending request to https://cds.climate.copernicus.eu/api/v2/resources/reanalysis-era5-single-levels\n"
     ]
    },
    {
     "name": "stdout",
     "output_type": "stream",
     "text": [
      "2022-07-21 13:34:01.287660 : chargement du fichier 09125X0083_HBCM.nc en cours (0a88ef78-e103-41be-8f27-168021f04ed6).\n",
      "2022-07-21 13:34:01.358660 : chargement du fichier 09917X0192_P5CEHM.nc en cours (12ba8428-90f3-4818-935a-7cf9b7588944).\n",
      "2022-07-21 13:34:01.428623 : chargement du fichier 09888X0111_LACAN.nc en cours (8cb3408c-2f63-4ed2-8b95-fdc55a39bb98).\n",
      "2022-07-21 13:34:01.487889 : chargement du fichier 10601X0027_COUMAN.nc en cours (86f92d27-71f4-4903-afa9-598b1ba851bf).\n"
     ]
    },
    {
     "name": "stderr",
     "output_type": "stream",
     "text": [
      "2022-07-21 13:34:01,519 INFO Welcome to the CDS\n",
      "2022-07-21 13:34:01,519 INFO Sending request to https://cds.climate.copernicus.eu/api/v2/resources/reanalysis-era5-single-levels\n",
      "2022-07-21 13:34:01,635 INFO Welcome to the CDS\n",
      "2022-07-21 13:34:01,635 INFO Sending request to https://cds.climate.copernicus.eu/api/v2/resources/reanalysis-era5-single-levels\n",
      "2022-07-21 13:34:01,703 INFO Welcome to the CDS\n",
      "2022-07-21 13:34:01,703 INFO Sending request to https://cds.climate.copernicus.eu/api/v2/resources/reanalysis-era5-single-levels\n"
     ]
    },
    {
     "name": "stdout",
     "output_type": "stream",
     "text": [
      "2022-07-21 13:34:01.603639 : chargement du fichier 09635X0009_FONTAN.nc en cours (eb623c81-5c42-4f82-aa75-b2b8ba3bcdbe).\n",
      "2022-07-21 13:34:01.679522 : chargement du fichier 10388X0017_STALIN.nc en cours (d49ddcb5-b3a6-4d7f-90df-1ec1c0d3658f).\n",
      "2022-07-21 13:34:01.788373 : chargement du fichier 09921X0055_CAMBON.nc en cours (ee040351-18b8-43bf-b1b6-a739e7af08ad).\n"
     ]
    },
    {
     "name": "stderr",
     "output_type": "stream",
     "text": [
      "2022-07-21 13:34:01,835 INFO Welcome to the CDS\n",
      "2022-07-21 13:34:01,835 INFO Sending request to https://cds.climate.copernicus.eu/api/v2/resources/reanalysis-era5-single-levels\n",
      "2022-07-21 13:34:01,905 INFO Welcome to the CDS\n",
      "2022-07-21 13:34:01,907 INFO Sending request to https://cds.climate.copernicus.eu/api/v2/resources/reanalysis-era5-single-levels\n",
      "2022-07-21 13:34:01,959 INFO Welcome to the CDS\n",
      "2022-07-21 13:34:01,975 INFO Sending request to https://cds.climate.copernicus.eu/api/v2/resources/reanalysis-era5-single-levels\n",
      "2022-07-21 13:34:02,058 INFO Welcome to the CDS\n"
     ]
    },
    {
     "name": "stdout",
     "output_type": "stream",
     "text": [
      "2022-07-21 13:34:01.871377 : chargement du fichier 09388X0114_MAISON.nc en cours (acfe2e51-9ae1-4e7a-819b-3fd50c0e5520).\n",
      "2022-07-21 13:34:01.943914 : chargement du fichier 09912X0254_BRUN.nc en cours (ea8bfe01-d60d-422f-a376-763f892a6a68).\n",
      "2022-07-21 13:34:02.011856 : chargement du fichier 10782X0008_COUMBO.nc en cours (3487ce87-4cf2-4d2e-a842-fd05b61e6c3a).\n"
     ]
    },
    {
     "name": "stderr",
     "output_type": "stream",
     "text": [
      "2022-07-21 13:34:02,058 INFO Sending request to https://cds.climate.copernicus.eu/api/v2/resources/reanalysis-era5-single-levels\n",
      "2022-07-21 13:34:02,120 INFO Welcome to the CDS\n",
      "2022-07-21 13:34:02,120 INFO Sending request to https://cds.climate.copernicus.eu/api/v2/resources/reanalysis-era5-single-levels\n",
      "2022-07-21 13:34:02,188 INFO Welcome to the CDS\n",
      "2022-07-21 13:34:02,188 INFO Sending request to https://cds.climate.copernicus.eu/api/v2/resources/reanalysis-era5-single-levels\n",
      "2022-07-21 13:34:02,275 INFO Welcome to the CDS\n"
     ]
    },
    {
     "name": "stdout",
     "output_type": "stream",
     "text": [
      "2022-07-21 13:34:02.088892 : chargement du fichier 08627X0010_SO.nc en cours (a796e79a-fef0-473c-8f41-bfb7c42b9e68).\n",
      "2022-07-21 13:34:02.156896 : chargement du fichier 09625X0234_SO.nc en cours (a6fdc422-b3f7-4f2e-9d3f-5bfc8d703428).\n",
      "2022-07-21 13:34:02.243999 : chargement du fichier 10904X0104_PIEZO.nc en cours (49cf7ff4-f30d-4c59-a72a-c8ef682ed04b).\n"
     ]
    },
    {
     "name": "stderr",
     "output_type": "stream",
     "text": [
      "2022-07-21 13:34:02,275 INFO Sending request to https://cds.climate.copernicus.eu/api/v2/resources/reanalysis-era5-single-levels\n",
      "2022-07-21 13:34:02,324 INFO Welcome to the CDS\n",
      "2022-07-21 13:34:02,324 INFO Sending request to https://cds.climate.copernicus.eu/api/v2/resources/reanalysis-era5-single-levels\n",
      "2022-07-21 13:34:02,438 INFO Welcome to the CDS\n",
      "2022-07-21 13:34:02,439 INFO Sending request to https://cds.climate.copernicus.eu/api/v2/resources/reanalysis-era5-single-levels\n"
     ]
    },
    {
     "name": "stdout",
     "output_type": "stream",
     "text": [
      "2022-07-21 13:34:02.308445 : chargement du fichier 09392X0045_PIEZO.nc en cours (1b37a50a-6f40-4b96-98d5-dbe14fdfc27f).\n",
      "2022-07-21 13:34:02.410841 : chargement du fichier 09911X0303_BRES-P.nc en cours (85b230cb-1270-4c6b-ad54-59bc6a72a607).\n",
      "2022-07-21 13:34:02.489565 : chargement du fichier 09655X0107_P.nc en cours (7b3bc391-11b5-4d3d-bcc6-65d70481773e).\n"
     ]
    },
    {
     "name": "stderr",
     "output_type": "stream",
     "text": [
      "2022-07-21 13:34:02,521 INFO Welcome to the CDS\n",
      "2022-07-21 13:34:02,521 INFO Sending request to https://cds.climate.copernicus.eu/api/v2/resources/reanalysis-era5-single-levels\n",
      "2022-07-21 13:34:02,589 INFO Welcome to the CDS\n",
      "2022-07-21 13:34:02,589 INFO Sending request to https://cds.climate.copernicus.eu/api/v2/resources/reanalysis-era5-single-levels\n",
      "2022-07-21 13:34:02,666 INFO Welcome to the CDS\n",
      "2022-07-21 13:34:02,667 INFO Sending request to https://cds.climate.copernicus.eu/api/v2/resources/reanalysis-era5-single-levels\n",
      "2022-07-21 13:34:02,736 INFO Welcome to the CDS\n",
      "2022-07-21 13:34:02,736 INFO Sending request to https://cds.climate.copernicus.eu/api/v2/resources/reanalysis-era5-single-levels\n"
     ]
    },
    {
     "name": "stdout",
     "output_type": "stream",
     "text": [
      "2022-07-21 13:34:02.555651 : chargement du fichier 10592X0012_AEP.nc en cours (54f15bb3-fa46-4e11-9445-966455a5fcea).\n",
      "2022-07-21 13:34:02.637430 : chargement du fichier 10971X0198_LAFAR.nc en cours (5034c9fb-2b54-496d-86bc-88d9f423febb).\n",
      "2022-07-21 13:34:02.705568 : chargement du fichier 09916X0098_LANSAR.nc en cours (331dab79-aba8-4c60-ba78-5a36b8c96261).\n"
     ]
    },
    {
     "name": "stderr",
     "output_type": "stream",
     "text": [
      "2022-07-21 13:34:02,805 INFO Welcome to the CDS\n",
      "2022-07-21 13:34:02,805 INFO Sending request to https://cds.climate.copernicus.eu/api/v2/resources/reanalysis-era5-single-levels\n",
      "2022-07-21 13:34:02,870 INFO Welcome to the CDS\n",
      "2022-07-21 13:34:02,870 INFO Sending request to https://cds.climate.copernicus.eu/api/v2/resources/reanalysis-era5-single-levels\n",
      "2022-07-21 13:34:02,942 INFO Welcome to the CDS\n",
      "2022-07-21 13:34:02,944 INFO Sending request to https://cds.climate.copernicus.eu/api/v2/resources/reanalysis-era5-single-levels\n"
     ]
    },
    {
     "name": "stdout",
     "output_type": "stream",
     "text": [
      "2022-07-21 13:34:02.789973 : chargement du fichier 10908X0263_FIGUER.nc en cours (e487c18b-1c61-4713-9807-18d8d5721e7b).\n",
      "2022-07-21 13:34:02.852785 : chargement du fichier 09654X0575_MONTFR.nc en cours (e2370abe-74f5-4820-96ae-f9f98746e608).\n",
      "2022-07-21 13:34:02.911462 : chargement du fichier BSS002PTEJ_MONTFR.nc en cours (4f9f21e7-483a-4281-b6d0-a1fc035c4514).\n",
      "2022-07-21 13:34:02.985902 : chargement du fichier 09378X0080_SOEUR.nc en cours (68877b67-fe03-461d-a028-37ee37bb2308).\n"
     ]
    },
    {
     "name": "stderr",
     "output_type": "stream",
     "text": [
      "2022-07-21 13:34:03,008 INFO Welcome to the CDS\n",
      "2022-07-21 13:34:03,008 INFO Sending request to https://cds.climate.copernicus.eu/api/v2/resources/reanalysis-era5-single-levels\n",
      "2022-07-21 13:34:03,074 INFO Welcome to the CDS\n",
      "2022-07-21 13:34:03,075 INFO Sending request to https://cds.climate.copernicus.eu/api/v2/resources/reanalysis-era5-single-levels\n",
      "2022-07-21 13:34:03,125 INFO Welcome to the CDS\n",
      "2022-07-21 13:34:03,125 INFO Sending request to https://cds.climate.copernicus.eu/api/v2/resources/reanalysis-era5-single-levels\n",
      "2022-07-21 13:34:03,196 INFO Welcome to the CDS\n",
      "2022-07-21 13:34:03,197 INFO Sending request to https://cds.climate.copernicus.eu/api/v2/resources/reanalysis-era5-single-levels\n"
     ]
    },
    {
     "name": "stdout",
     "output_type": "stream",
     "text": [
      "2022-07-21 13:34:03.047278 : chargement du fichier 10402X0046_BOUR.nc en cours (38798cac-ef41-4553-9fac-5009e7cbccb6).\n",
      "2022-07-21 13:34:03.106842 : chargement du fichier 09911X0302_BRES-S.nc en cours (362fe4f1-e801-4bab-b720-4088685a4a2e).\n",
      "2022-07-21 13:34:03.168343 : chargement du fichier 10138X0010_S.nc en cours (992d4f71-26e9-4a57-8009-791a09430343).\n"
     ]
    },
    {
     "name": "stderr",
     "output_type": "stream",
     "text": [
      "2022-07-21 13:34:03,283 INFO Welcome to the CDS\n",
      "2022-07-21 13:34:03,284 INFO Sending request to https://cds.climate.copernicus.eu/api/v2/resources/reanalysis-era5-single-levels\n",
      "2022-07-21 13:34:03,349 INFO Welcome to the CDS\n",
      "2022-07-21 13:34:03,352 INFO Sending request to https://cds.climate.copernicus.eu/api/v2/resources/reanalysis-era5-single-levels\n"
     ]
    },
    {
     "name": "stdout",
     "output_type": "stream",
     "text": [
      "2022-07-21 13:34:03.254817 : chargement du fichier 10364X0001_S.nc en cours (1bd0b5e7-a81d-4406-b360-5d24c0d91dfe).\n",
      "2022-07-21 13:34:03.321708 : chargement du fichier 10795X0001_S.nc en cours (76b241d0-61b3-4d0e-a75e-984ae7bba6a7).\n",
      "2022-07-21 13:34:03.463988 : chargement du fichier 10402X0012_S.nc en cours (caa6b738-3706-4e14-a129-13798073029b).\n"
     ]
    },
    {
     "name": "stderr",
     "output_type": "stream",
     "text": [
      "2022-07-21 13:34:03,492 INFO Welcome to the CDS\n",
      "2022-07-21 13:34:03,493 INFO Sending request to https://cds.climate.copernicus.eu/api/v2/resources/reanalysis-era5-single-levels\n",
      "2022-07-21 13:34:03,570 INFO Welcome to the CDS\n",
      "2022-07-21 13:34:03,570 INFO Sending request to https://cds.climate.copernicus.eu/api/v2/resources/reanalysis-era5-single-levels\n",
      "2022-07-21 13:34:03,624 INFO Welcome to the CDS\n",
      "2022-07-21 13:34:03,624 INFO Sending request to https://cds.climate.copernicus.eu/api/v2/resources/reanalysis-era5-single-levels\n",
      "2022-07-21 13:34:03,696 INFO Welcome to the CDS\n",
      "2022-07-21 13:34:03,697 INFO Sending request to https://cds.climate.copernicus.eu/api/v2/resources/reanalysis-era5-single-levels\n"
     ]
    },
    {
     "name": "stdout",
     "output_type": "stream",
     "text": [
      "2022-07-21 13:34:03.539931 : chargement du fichier 10402X0044_S.nc en cours (9a0bc5cd-6433-45a3-ad0d-c7bd9d1b1501).\n",
      "2022-07-21 13:34:03.593160 : chargement du fichier 09894X0005_S.nc en cours (e012bc31-47d8-435a-85b7-0935425973b2).\n",
      "2022-07-21 13:34:03.663836 : chargement du fichier 08854X0015_S.nc en cours (506f62b1-ecc7-4593-80a4-2285a4811134).\n",
      "2022-07-21 13:34:03.734073 : chargement du fichier 10403X0115_S.nc en cours (480faf4f-8fe2-4f87-8f86-dbfb534d9fd6).\n"
     ]
    },
    {
     "name": "stderr",
     "output_type": "stream",
     "text": [
      "2022-07-21 13:34:03,766 INFO Welcome to the CDS\n",
      "2022-07-21 13:34:03,767 INFO Sending request to https://cds.climate.copernicus.eu/api/v2/resources/reanalysis-era5-single-levels\n",
      "2022-07-21 13:34:03,861 INFO Welcome to the CDS\n",
      "2022-07-21 13:34:03,861 INFO Sending request to https://cds.climate.copernicus.eu/api/v2/resources/reanalysis-era5-single-levels\n",
      "2022-07-21 13:34:03,935 INFO Welcome to the CDS\n",
      "2022-07-21 13:34:03,936 INFO Sending request to https://cds.climate.copernicus.eu/api/v2/resources/reanalysis-era5-single-levels\n",
      "2022-07-21 13:34:04,000 INFO Welcome to the CDS\n",
      "2022-07-21 13:34:04,001 INFO Sending request to https://cds.climate.copernicus.eu/api/v2/resources/reanalysis-era5-single-levels\n"
     ]
    },
    {
     "name": "stdout",
     "output_type": "stream",
     "text": [
      "2022-07-21 13:34:03.832906 : chargement du fichier 10401X0097_S.nc en cours (b7a1dbf0-cb0a-4189-b25e-e37a4d1a4c70).\n",
      "2022-07-21 13:34:03.906352 : chargement du fichier 09651X0009_S.nc en cours (d717cc4a-9286-4f74-a940-597763909517).\n",
      "2022-07-21 13:34:03.971630 : chargement du fichier 10405X0039_S.nc en cours (28dfbac5-b444-48b0-93c1-efd91be0f6b8).\n",
      "2022-07-21 13:34:04.034620 : chargement du fichier 08854X0040_FREBAS.nc en cours (50143dc4-e8a7-4665-8b64-0f24722ea912).\n"
     ]
    },
    {
     "name": "stderr",
     "output_type": "stream",
     "text": [
      "2022-07-21 13:34:04,063 INFO Welcome to the CDS\n",
      "2022-07-21 13:34:04,063 INFO Sending request to https://cds.climate.copernicus.eu/api/v2/resources/reanalysis-era5-single-levels\n",
      "2022-07-21 13:34:04,127 INFO Welcome to the CDS\n",
      "2022-07-21 13:34:04,128 INFO Sending request to https://cds.climate.copernicus.eu/api/v2/resources/reanalysis-era5-single-levels\n",
      "2022-07-21 13:34:04,211 INFO Welcome to the CDS\n",
      "2022-07-21 13:34:04,212 INFO Sending request to https://cds.climate.copernicus.eu/api/v2/resources/reanalysis-era5-single-levels\n"
     ]
    },
    {
     "name": "stdout",
     "output_type": "stream",
     "text": [
      "2022-07-21 13:34:04.097257 : chargement du fichier 09888X0094_JONCAS.nc en cours (d6303bfb-5e6d-4de1-92dd-73df295fe2b2).\n",
      "2022-07-21 13:34:04.183165 : chargement du fichier 10405X0171_VALRAS.nc en cours (f7000cdf-4a94-4e03-8892-2d13e5ea0339).\n",
      "2022-07-21 13:34:04.300984 : chargement du fichier 09628X0043_BUEGES.nc en cours (074f5bf6-47c3-485b-a021-180b433d0673).\n"
     ]
    },
    {
     "name": "stderr",
     "output_type": "stream",
     "text": [
      "2022-07-21 13:34:04,336 INFO Welcome to the CDS\n",
      "2022-07-21 13:34:04,337 INFO Sending request to https://cds.climate.copernicus.eu/api/v2/resources/reanalysis-era5-single-levels\n",
      "2022-07-21 13:34:04,518 INFO Welcome to the CDS\n",
      "2022-07-21 13:34:04,520 INFO Sending request to https://cds.climate.copernicus.eu/api/v2/resources/reanalysis-era5-single-levels\n",
      "2022-07-21 13:34:04,575 INFO Welcome to the CDS\n"
     ]
    },
    {
     "name": "stdout",
     "output_type": "stream",
     "text": [
      "2022-07-21 13:34:04.382243 : chargement du fichier 09915X0181_AUNES.nc en cours (d62dfafe-04aa-4d6a-9fb1-4d363073512a).\n",
      "2022-07-21 13:34:04.559750 : chargement du fichier 09888X0093_DOUZES.nc en cours (91dbf114-a775-4178-ab05-cb16aa4ff613).\n"
     ]
    },
    {
     "name": "stderr",
     "output_type": "stream",
     "text": [
      "2022-07-21 13:34:04,575 INFO Sending request to https://cds.climate.copernicus.eu/api/v2/resources/reanalysis-era5-single-levels\n",
      "2022-07-21 13:34:04,685 INFO Welcome to the CDS\n",
      "2022-07-21 13:34:04,685 INFO Sending request to https://cds.climate.copernicus.eu/api/v2/resources/reanalysis-era5-single-levels\n",
      "2022-07-21 13:34:04,782 INFO Welcome to the CDS\n",
      "2022-07-21 13:34:04,782 INFO Sending request to https://cds.climate.copernicus.eu/api/v2/resources/reanalysis-era5-single-levels\n"
     ]
    },
    {
     "name": "stdout",
     "output_type": "stream",
     "text": [
      "2022-07-21 13:34:04.654245 : chargement du fichier 09911X0317_P3BIS.nc en cours (1d221c61-75f7-4587-888a-3e4918214dfc).\n",
      "2022-07-21 13:34:04.751510 : chargement du fichier 09375X0010_ISIS.nc en cours (f1382735-f1ba-4114-8905-063f8b415ca2).\n",
      "2022-07-21 13:34:04.820106 : chargement du fichier 09655X0265_CLOS.nc en cours (419ebd46-7539-4541-8248-8cf0686daa22).\n"
     ]
    },
    {
     "name": "stderr",
     "output_type": "stream",
     "text": [
      "2022-07-21 13:34:04,851 INFO Welcome to the CDS\n",
      "2022-07-21 13:34:04,851 INFO Sending request to https://cds.climate.copernicus.eu/api/v2/resources/reanalysis-era5-single-levels\n",
      "2022-07-21 13:34:04,913 INFO Welcome to the CDS\n",
      "2022-07-21 13:34:04,913 INFO Sending request to https://cds.climate.copernicus.eu/api/v2/resources/reanalysis-era5-single-levels\n",
      "2022-07-21 13:34:04,994 INFO Welcome to the CDS\n",
      "2022-07-21 13:34:04,994 INFO Sending request to https://cds.climate.copernicus.eu/api/v2/resources/reanalysis-era5-single-levels\n",
      "2022-07-21 13:34:05,078 INFO Welcome to the CDS\n",
      "2022-07-21 13:34:05,079 INFO Sending request to https://cds.climate.copernicus.eu/api/v2/resources/reanalysis-era5-single-levels\n"
     ]
    },
    {
     "name": "stdout",
     "output_type": "stream",
     "text": [
      "2022-07-21 13:34:04.897188 : chargement du fichier 09906X0149_TOUAT.nc en cours (edcc7c4e-7761-43d1-bfd3-9117322d510c).\n",
      "2022-07-21 13:34:04.958881 : chargement du fichier 09914X0284_FAGET.nc en cours (b0bc18fb-e73f-4f41-a260-f48df0946beb).\n",
      "2022-07-21 13:34:05.044342 : chargement du fichier 09634X0074_CLARET.nc en cours (a8ebfab0-c228-46e1-ac20-355b1e322600).\n",
      "2022-07-21 13:34:05.109288 : chargement du fichier 10776X0024_LAUZET.nc en cours (ac806b15-c677-4ad2-a7ce-6e91b71f52e9).\n"
     ]
    },
    {
     "name": "stderr",
     "output_type": "stream",
     "text": [
      "2022-07-21 13:34:05,124 INFO Welcome to the CDS\n",
      "2022-07-21 13:34:05,124 INFO Sending request to https://cds.climate.copernicus.eu/api/v2/resources/reanalysis-era5-single-levels\n",
      "2022-07-21 13:34:05,194 INFO Welcome to the CDS\n",
      "2022-07-21 13:34:05,194 INFO Sending request to https://cds.climate.copernicus.eu/api/v2/resources/reanalysis-era5-single-levels\n",
      "2022-07-21 13:34:05,275 INFO Welcome to the CDS\n",
      "2022-07-21 13:34:05,275 INFO Sending request to https://cds.climate.copernicus.eu/api/v2/resources/reanalysis-era5-single-levels\n",
      "2022-07-21 13:34:05,348 INFO Welcome to the CDS\n"
     ]
    },
    {
     "name": "stdout",
     "output_type": "stream",
     "text": [
      "2022-07-21 13:34:05.172611 : chargement du fichier 10972X0137_PONT.nc en cours (ca2f6a73-2424-43da-8a80-5458f652fed4).\n",
      "2022-07-21 13:34:05.243749 : chargement du fichier 09388X0052_VIGNOT.nc en cours (53e7a641-ac98-4031-a91b-f5ba45071d9f).\n",
      "2022-07-21 13:34:05.316770 : chargement du fichier 10154X0076_MAMERT.nc en cours (f94b4eb7-bd48-4adf-93c8-50a7b834a772).\n"
     ]
    },
    {
     "name": "stderr",
     "output_type": "stream",
     "text": [
      "2022-07-21 13:34:05,348 INFO Sending request to https://cds.climate.copernicus.eu/api/v2/resources/reanalysis-era5-single-levels\n",
      "2022-07-21 13:34:05,410 INFO Welcome to the CDS\n",
      "2022-07-21 13:34:05,410 INFO Sending request to https://cds.climate.copernicus.eu/api/v2/resources/reanalysis-era5-single-levels\n",
      "2022-07-21 13:34:05,486 INFO Welcome to the CDS\n",
      "2022-07-21 13:34:05,487 INFO Sending request to https://cds.climate.copernicus.eu/api/v2/resources/reanalysis-era5-single-levels\n",
      "2022-07-21 13:34:05,559 INFO Welcome to the CDS\n",
      "2022-07-21 13:34:05,559 INFO Sending request to https://cds.climate.copernicus.eu/api/v2/resources/reanalysis-era5-single-levels\n"
     ]
    },
    {
     "name": "stdout",
     "output_type": "stream",
     "text": [
      "2022-07-21 13:34:05.380210 : chargement du fichier 09876X0212_PORT.nc en cours (145f0222-9d0e-42ee-9382-14d02bb23215).\n",
      "2022-07-21 13:34:05.444654 : chargement du fichier 10976X0058_RIMBAU.nc en cours (83be31c3-1393-40cb-a07d-fb99def1ed8b).\n",
      "2022-07-21 13:34:05.532418 : chargement du fichier 09882X0208_FONCAU.nc en cours (348000ea-9bf6-4c27-ab1c-bb227aaa0aba).\n"
     ]
    },
    {
     "name": "stderr",
     "output_type": "stream",
     "text": [
      "2022-07-21 13:34:05,611 INFO Welcome to the CDS\n",
      "2022-07-21 13:34:05,611 INFO Sending request to https://cds.climate.copernicus.eu/api/v2/resources/reanalysis-era5-single-levels\n",
      "2022-07-21 13:34:05,674 INFO Welcome to the CDS\n",
      "2022-07-21 13:34:05,674 INFO Sending request to https://cds.climate.copernicus.eu/api/v2/resources/reanalysis-era5-single-levels\n",
      "2022-07-21 13:34:05,751 INFO Welcome to the CDS\n",
      "2022-07-21 13:34:05,751 INFO Sending request to https://cds.climate.copernicus.eu/api/v2/resources/reanalysis-era5-single-levels\n"
     ]
    },
    {
     "name": "stdout",
     "output_type": "stream",
     "text": [
      "2022-07-21 13:34:05.593299 : chargement du fichier 09908X0174_MASJAU.nc en cours (8c140dd6-f2a8-4e50-9a8c-3c3be8481160).\n",
      "2022-07-21 13:34:05.653482 : chargement du fichier 10963X0059_MEDALU.nc en cours (85d95462-ba40-4a73-b551-c7e8efeff4df).\n",
      "2022-07-21 13:34:05.720742 : chargement du fichier 09892X0698_RVERNU.nc en cours (454ed0e7-8636-4424-9871-ba83f2dc4833).\n",
      "2022-07-21 13:34:05.795530 : chargement du fichier 09645X0025_PEILOU.nc en cours (ce090eca-fa3c-4ba6-b6e1-e59eefbf76b1).\n"
     ]
    },
    {
     "name": "stderr",
     "output_type": "stream",
     "text": [
      "2022-07-21 13:34:05,826 INFO Welcome to the CDS\n",
      "2022-07-21 13:34:05,826 INFO Sending request to https://cds.climate.copernicus.eu/api/v2/resources/reanalysis-era5-single-levels\n",
      "2022-07-21 13:34:05,895 INFO Welcome to the CDS\n",
      "2022-07-21 13:34:05,904 INFO Sending request to https://cds.climate.copernicus.eu/api/v2/resources/reanalysis-era5-single-levels\n",
      "2022-07-21 13:34:05,963 INFO Welcome to the CDS\n",
      "2022-07-21 13:34:05,964 INFO Sending request to https://cds.climate.copernicus.eu/api/v2/resources/reanalysis-era5-single-levels\n",
      "2022-07-21 13:34:06,024 INFO Welcome to the CDS\n",
      "2022-07-21 13:34:06,025 INFO Sending request to https://cds.climate.copernicus.eu/api/v2/resources/reanalysis-era5-single-levels\n"
     ]
    },
    {
     "name": "stdout",
     "output_type": "stream",
     "text": [
      "2022-07-21 13:34:05.877094 : chargement du fichier 10405X0135_GUITOU.nc en cours (d3a869d3-4f12-40d4-ad7c-d447ecd8cad6).\n",
      "2022-07-21 13:34:05.936321 : chargement du fichier 10162X0226_V.nc en cours (1bac6229-17e8-46fe-9388-5bec4ea2d1bb).\n",
      "2022-07-21 13:34:05.997282 : chargement du fichier BSS003PAFM_X.nc en cours (66bac16f-ad5e-456c-a49f-ad041ca71245).\n",
      "2022-07-21 13:34:06.067362 : chargement du fichier BSS003PAFQ_X.nc en cours (d7a5cdfc-7432-4378-a850-38a990c3450b).\n"
     ]
    },
    {
     "name": "stderr",
     "output_type": "stream",
     "text": [
      "2022-07-21 13:34:06,091 INFO Welcome to the CDS\n",
      "2022-07-21 13:34:06,096 INFO Sending request to https://cds.climate.copernicus.eu/api/v2/resources/reanalysis-era5-single-levels\n",
      "2022-07-21 13:34:06,175 INFO Welcome to the CDS\n",
      "2022-07-21 13:34:06,176 INFO Sending request to https://cds.climate.copernicus.eu/api/v2/resources/reanalysis-era5-single-levels\n",
      "2022-07-21 13:34:06,283 INFO Welcome to the CDS\n",
      "2022-07-21 13:34:06,284 INFO Sending request to https://cds.climate.copernicus.eu/api/v2/resources/reanalysis-era5-single-levels\n"
     ]
    },
    {
     "name": "stdout",
     "output_type": "stream",
     "text": [
      "2022-07-21 13:34:06.136964 : chargement du fichier 10882X0215_ADOUX.nc en cours (0fbe163b-302a-4522-970b-ba4bdf9f839f).\n",
      "2022-07-21 13:34:06.254614 : chargement du fichier 09625X0231_LADOUX.nc en cours (24fe87a3-85d3-49f4-837e-8ce4fbd41b88).\n",
      "2022-07-21 13:34:06.316984 : chargement du fichier 09126X0275_RABY.nc en cours (4a2ab5bd-d692-4ed0-b773-9d7f34422098).\n"
     ]
    },
    {
     "name": "stderr",
     "output_type": "stream",
     "text": [
      "2022-07-21 13:34:06,345 INFO Welcome to the CDS\n",
      "2022-07-21 13:34:06,346 INFO Sending request to https://cds.climate.copernicus.eu/api/v2/resources/reanalysis-era5-single-levels\n",
      "2022-07-21 13:34:06,411 INFO Welcome to the CDS\n",
      "2022-07-21 13:34:06,411 INFO Sending request to https://cds.climate.copernicus.eu/api/v2/resources/reanalysis-era5-single-levels\n",
      "2022-07-21 13:34:06,472 INFO Welcome to the CDS\n",
      "2022-07-21 13:34:06,473 INFO Sending request to https://cds.climate.copernicus.eu/api/v2/resources/reanalysis-era5-single-levels\n",
      "2022-07-21 13:34:06,534 INFO Welcome to the CDS\n",
      "2022-07-21 13:34:06,534 INFO Sending request to https://cds.climate.copernicus.eu/api/v2/resources/reanalysis-era5-single-levels\n"
     ]
    },
    {
     "name": "stdout",
     "output_type": "stream",
     "text": [
      "2022-07-21 13:34:06.383898 : chargement du fichier 08576X0022_HY.nc en cours (f8d9c845-f14f-4581-b019-8317ef8efcc4).\n",
      "2022-07-21 13:34:06.444614 : chargement du fichier 08577X0029_HY.nc en cours (bf1e711b-7018-4e40-b203-0568fe291213).\n",
      "2022-07-21 13:34:06.505687 : chargement du fichier 09635X0003_FHY.nc en cours (e4a81d22-7edf-4ce5-839a-5fef319a6cca).\n",
      "2022-07-21 13:34:06.566919 : chargement du fichier 10165X0021_CAUVY.nc en cours (980333d9-614c-43f6-a9ac-6758112e1536).\n"
     ]
    },
    {
     "name": "stderr",
     "output_type": "stream",
     "text": [
      "2022-07-21 13:34:06,595 INFO Welcome to the CDS\n",
      "2022-07-21 13:34:06,595 INFO Sending request to https://cds.climate.copernicus.eu/api/v2/resources/reanalysis-era5-single-levels\n"
     ]
    },
    {
     "name": "stdout",
     "output_type": "stream",
     "text": [
      "2022-07-21 13:34:06.627972 : chargement du fichier 10581X0201_SAGRAZ.nc en cours (6571df72-4bc2-4af1-9742-d8cda20df656).\n"
     ]
    }
   ],
   "source": [
    "go_requete = input(\"\"\"\n",
    "            Voulez-vous lancer une série de nouvelles requêtes ? /n \n",
    "            Des requêtes pourraient se retrouver en double. /n \n",
    "            Pour lancer les requêtes entrez 'req' et entrée. /n\n",
    "            Sinon, appuyez simplement sur entrée.\n",
    "\"\"\")\n",
    "                   \n",
    "if go_requete == 'req' :\n",
    "                      \n",
    "    for piezo in df_piezo.index:\n",
    "        path_piezo = 'data/era5/' + piezo\n",
    "        path_nc = f\"./{path_piezo}.nc\"\n",
    "        path_pkl = f\"{path_piezo}.pkl\"\n",
    "\n",
    "        if os.path.isfile(path_nc) : #si le fichier nc existe on le converti en pkl\n",
    "            print(f\"Le fichier {path_nc} existe.\")\n",
    "            df = xr.open_dataset(path_nc).to_dataframe().reset_index().to_pickle(path=path_pkl)\n",
    "            print(f\"Fichier {piezo}.nc converti en fichier pickle\")\n",
    "            os.remove(path_nc)\n",
    "            print(f\"Fichier {path_nc} supprimé\")\n",
    "\n",
    "        elif os.path.isfile(path_pkl) : #si le fichier pkl existe, on affiche qu'il existe\n",
    "            print(f\"Le fichier {piezo}.pkl existe déjà.\")\n",
    "            # puis on le supprime de la liste\n",
    "            df_piezo.drop(index=piezo, axis=1)\n",
    "\n",
    "        else : # Sinon on lance une requête auprès de l'API\n",
    "            result = get_on_cds_api(df_piezo, piezo, path_nc)\n",
    "            # récupération de l'id de la requête\n",
    "            dict_bss[piezo] = result.reply[\"request_id\"]\n",
    "            print(f\"{datetime.now()} : chargement du fichier {piezo}.nc en cours ({dict_bss[piezo]}).\")\n",
    "            \n",
    "            # Enregistrement de l'id de requete dans un fichier csv\n",
    "            if os.path.isfile('./data/hist_requetes.csv'): # Si le fichier existe                \n",
    "                with open('./data/hist_requetes.csv', 'a', encoding='utf-8', newline='') as f:  \n",
    "                    writer = csv.writer(f, delimiter = \";\")\n",
    "                    for k, v in dict_bss.items():\n",
    "                        writer.writerow((k, v))\n",
    "            else : # Si le fichier n'existe pas\n",
    "                with open('./data/hist_requetes.csv', 'w', encoding='utf-8', newline='') as f:  \n",
    "                    writer = csv.writer(f, delimiter = \";\")\n",
    "                    writer.writerow([\"code_bss\", \"id_requete\"])\n",
    "                    for k, v in dict_bss.items():\n",
    "                        writer.writerow((k, v))\n",
    "else : \n",
    "    print(\"Aucune requête n'a été lancée.\")"
   ]
  },
  {
   "cell_type": "markdown",
   "id": "7dd081e4",
   "metadata": {},
   "source": [
    "## Récupérer automatiquement les requêtes abouties \n",
    "Peut être lancé à tout moment pour récupérer des fichiers téléchargés "
   ]
  },
  {
   "cell_type": "code",
   "execution_count": 3,
   "id": "1c3b02b5",
   "metadata": {},
   "outputs": [
    {
     "name": "stderr",
     "output_type": "stream",
     "text": [
      "2022-07-25 11:41:32,961 INFO Downloading https://download-0009-clone.copernicus-climate.eu/cache-compute-0009/cache/data6/adaptor.mars.internal-1658480648.9372804-23485-7-931f7632-5bf5-42ad-bfe4-bf585a81c1f6.nc to ./data/era5/10553X0026_F.nc (226K)\n",
      "2022-07-25 11:41:33,731 INFO Downloading https://download-0008-clone.copernicus-climate.eu/cache-compute-0008/cache/data3/adaptor.mars.internal-1658481400.132289-1973-18-52e49fed-50d6-463e-96db-822012823eb7.nc to ./data/era5/10092X0166_F.nc (217.4K)\n",
      "2022-07-25 11:41:34,063 INFO Downloading https://download-0016.copernicus-climate.eu/cache-compute-0016/cache/data4/adaptor.mars.internal-1658483723.6151054-32144-5-a338c757-0538-421c-90f3-af058578b4e1.nc to ./data/era5/09306X0286_F.nc (200.3K)\n",
      "2022-07-25 11:41:34,433 INFO Downloading https://download-0013-clone.copernicus-climate.eu/cache-compute-0013/cache/data4/adaptor.mars.internal-1658481989.0020401-2073-12-49278831-0bfe-4fdd-82dc-ce1a054dac3e.nc to ./data/era5/08565X0007_F.nc (106.2K)\n",
      "2022-07-25 11:41:34,820 INFO Download rate 274.2K/s\n"
     ]
    },
    {
     "name": "stdout",
     "output_type": "stream",
     "text": [
      "2022-07-25 11:41:34.820810 : Fichier 08565X0007_F.nc téléchargé.\n",
      "Fichier 08565X0007_F.nc converti en fichier pickle\n",
      "Fichier ./data/era5/08565X0007_F.nc.nc supprimé\n"
     ]
    },
    {
     "name": "stderr",
     "output_type": "stream",
     "text": [
      "2022-07-25 11:41:35,024 INFO Downloading https://download-0021.copernicus-climate.eu/cache-compute-0021/cache/data3/adaptor.mars.internal-1658482697.5337512-22151-19-a654d1ef-5bfe-4040-b167-a85fe7d827ba.nc to ./data/era5/10603X0027_F.nc (157.5K)\n",
      "2022-07-25 11:41:35,441 INFO Download rate 377.9K/s\n",
      "2022-07-25 11:41:35,543 INFO Downloading https://download-0002-clone.copernicus-climate.eu/cache-compute-0002/cache/data2/adaptor.mars.internal-1658483766.8941596-31819-16-1b6e349f-a2b5-41d9-b58e-4a9ad57ad256.nc to ./data/era5/09838D0727_F.nc (217.4K)\n"
     ]
    },
    {
     "name": "stdout",
     "output_type": "stream",
     "text": [
      "2022-07-25 11:41:35.442446 : Fichier 10603X0027_F.nc téléchargé.\n",
      "Fichier 10603X0027_F.nc converti en fichier pickle\n",
      "Fichier ./data/era5/10603X0027_F.nc.nc supprimé\n"
     ]
    },
    {
     "name": "stderr",
     "output_type": "stream",
     "text": [
      "2022-07-25 11:41:35,870 INFO Downloading https://download-0007-clone.copernicus-climate.eu/cache-compute-0007/cache/data2/adaptor.mars.internal-1658483723.540129-25749-4-c569fdaa-c4d1-4b45-b20b-e2fd7695da51.nc to ./data/era5/09577X0047_F.nc (226K)\n",
      "2022-07-25 11:41:36,205 INFO Downloading https://download-0004-clone.copernicus-climate.eu/cache-compute-0004/cache/data9/adaptor.mars.internal-1658483303.6080184-26431-17-f3cc5391-435b-4bb2-af33-9d8e60d926f6.nc to ./data/era5/09395X0067_F.nc (157.5K)\n",
      "2022-07-25 11:41:36,537 INFO Downloading https://download-0004-clone.copernicus-climate.eu/cache-compute-0004/cache/data9/adaptor.mars.internal-1658480634.347901-6137-17-06ff1fad-f961-466a-8146-ab8e2f62d9cc.nc to ./data/era5/09536X0008_F.nc (157.5K)\n",
      "2022-07-25 11:41:36,822 INFO Downloading https://download-0005-clone.copernicus-climate.eu/cache-compute-0005/cache/data3/adaptor.mars.internal-1658480639.4628153-11920-19-d7ded761-d4f9-497c-9a20-5b6fa27dd43a.nc to ./data/era5/09301X0028_F.nc (226K)\n",
      "2022-07-25 11:41:37,328 INFO Download rate 446.6K/s\n",
      "2022-07-25 11:41:37,407 INFO Downloading https://download-0001-clone.copernicus-climate.eu/cache-compute-0001/cache/data5/adaptor.mars.internal-1658480644.3290331-10119-2-e0e3b2da-b7b7-4978-879a-9b62c9608873.nc to ./data/era5/10384X0048_F.nc (123.3K)\n"
     ]
    },
    {
     "name": "stdout",
     "output_type": "stream",
     "text": [
      "2022-07-25 11:41:37.328372 : Fichier 09301X0028_F.nc téléchargé.\n",
      "Fichier 09301X0028_F.nc converti en fichier pickle\n",
      "Fichier ./data/era5/09301X0028_F.nc.nc supprimé\n"
     ]
    },
    {
     "name": "stderr",
     "output_type": "stream",
     "text": [
      "2022-07-25 11:41:37,827 INFO Download rate 295.1K/s\n",
      "2022-07-25 11:41:37,892 INFO Downloading https://download-0014-clone.copernicus-climate.eu/cache-compute-0014/cache/data6/adaptor.mars.internal-1658480734.9128377-26549-17-c446a665-29c9-4f5a-b7e2-fb7d9e7ea246.nc to ./data/era5/10326X0009_F.nc (217.4K)\n"
     ]
    },
    {
     "name": "stdout",
     "output_type": "stream",
     "text": [
      "2022-07-25 11:41:37.827469 : Fichier 10384X0048_F.nc téléchargé.\n",
      "Fichier 10384X0048_F.nc converti en fichier pickle\n",
      "Fichier ./data/era5/10384X0048_F.nc.nc supprimé\n"
     ]
    },
    {
     "name": "stderr",
     "output_type": "stream",
     "text": [
      "2022-07-25 11:41:38,208 INFO Downloading https://download-0020.copernicus-climate.eu/cache-compute-0020/cache/data6/adaptor.mars.internal-1658480638.1481152-1631-5-2328ef1f-94c7-43d5-b3a9-cea485fd61cd.nc to ./data/era5/09567X0219_F.nc (226K)\n",
      "2022-07-25 11:41:38,640 INFO Download rate 523.5K/s\n",
      "2022-07-25 11:41:38,725 INFO Downloading https://download-0007-clone.copernicus-climate.eu/cache-compute-0007/cache/data2/adaptor.mars.internal-1658483723.6680422-22280-17-b9c5706a-4636-4821-b3a2-635aec36c922.nc to ./data/era5/09302X0139_F.nc (200.3K)\n"
     ]
    },
    {
     "name": "stdout",
     "output_type": "stream",
     "text": [
      "2022-07-25 11:41:38.640549 : Fichier 09567X0219_F.nc téléchargé.\n",
      "Fichier 09567X0219_F.nc converti en fichier pickle\n",
      "Fichier ./data/era5/09567X0219_F.nc.nc supprimé\n"
     ]
    },
    {
     "name": "stderr",
     "output_type": "stream",
     "text": [
      "2022-07-25 11:41:39,009 INFO Downloading https://download-0021.copernicus-climate.eu/cache-compute-0021/cache/data2/adaptor.mars.internal-1658491257.1220272-21435-7-90ab7b97-ff97-43ab-8f5c-9d5213ef94c1.nc to ./data/era5/09833C0249_F.nc (166.1K)\n",
      "2022-07-25 11:41:39,194 INFO Downloading https://download-0012-clone.copernicus-climate.eu/cache-compute-0012/cache/data5/adaptor.mars.internal-1658491709.4813154-4531-16-44b65358-94cc-442e-9bdb-74b240352770.nc to ./data/era5/10577X0159_F.nc (226K)\n",
      "2022-07-25 11:41:39,510 INFO Downloading https://download-0021.copernicus-climate.eu/cache-compute-0021/cache/data1/adaptor.mars.internal-1658490200.4277837-6722-2-72d16b42-874a-4029-a37c-f05fb296d03a.nc to ./data/era5/10345X0199_F.nc (226K)\n",
      "2022-07-25 11:41:39,825 INFO Downloading https://download-0002-clone.copernicus-climate.eu/cache-compute-0002/cache/data1/adaptor.mars.internal-1658491267.0769548-32310-1-7ce72d87-0b40-491d-a9b8-83b4da8d8c9e.nc to ./data/era5/10407X0071_GOLF.nc (268.8K)\n",
      "2022-07-25 11:41:40,131 INFO Downloading https://download-0017.copernicus-climate.eu/cache-compute-0017/cache/data4/adaptor.mars.internal-1658489452.0899591-2755-2-9a248238-406f-4fa1-b027-d2f715733c8a.nc to ./data/era5/10894X0013_RESURG.nc (174.6K)\n",
      "2022-07-25 11:41:40,458 INFO Downloading https://download-0017.copernicus-climate.eu/cache-compute-0017/cache/data4/adaptor.mars.internal-1658489172.4400039-2678-2-691d6d62-2d06-43ce-9505-e56c9887b43a.nc to ./data/era5/08866X0004_RESURG.nc (149K)\n",
      "2022-07-25 11:41:40,775 INFO Downloading https://download-0006-clone.copernicus-climate.eu/cache-compute-0006/cache/data1/adaptor.mars.internal-1658490018.4065478-3383-1-b2d36bdf-6a9a-4f09-85cb-350a9074ee05.nc to ./data/era5/10163X0156_SG.nc (217.4K)\n",
      "2022-07-25 11:41:41,087 INFO Downloading https://download-0014-clone.copernicus-climate.eu/cache-compute-0014/cache/data4/adaptor.mars.internal-1658489028.115565-9095-6-25a45ecc-dd16-4dce-9508-49c24a9fbe03.nc to ./data/era5/10154X0075_BELLUG.nc (149K)\n",
      "2022-07-25 11:41:41,392 INFO Downloading https://download-0002-clone.copernicus-climate.eu/cache-compute-0002/cache/data1/adaptor.mars.internal-1658491268.263783-535-1-2b0c1a5d-4125-4eb9-ae93-361842fa763c.nc to ./data/era5/10405X0095_GERMAI.nc (268.8K)\n",
      "2022-07-25 11:41:41,714 INFO Downloading https://download-0000-clone.copernicus-climate.eu/cache-compute-0000/cache/data3/adaptor.mars.internal-1658485495.2542796-8732-1-7067cb41-7879-4a6f-8349-63bccaa9a45e.nc to ./data/era5/09394X0003_FONTAI.nc (46.2K)\n",
      "2022-07-25 11:41:42,099 INFO Download rate 120K/s\n",
      "2022-07-25 11:41:42,165 INFO Downloading https://download-0006-clone.copernicus-climate.eu/cache-compute-0006/cache/data3/adaptor.mars.internal-1658483418.596392-15835-2-8880325d-8645-43fa-a477-8502e591c5a4.nc to ./data/era5/09384X0014_GAEI.nc (157.5K)\n"
     ]
    },
    {
     "name": "stdout",
     "output_type": "stream",
     "text": [
      "2022-07-25 11:41:42.099965 : Fichier 09394X0003_FONTAI.nc téléchargé.\n",
      "Fichier 09394X0003_FONTAI.nc converti en fichier pickle\n",
      "Fichier ./data/era5/09394X0003_FONTAI.nc.nc supprimé\n"
     ]
    },
    {
     "name": "stderr",
     "output_type": "stream",
     "text": [
      "2022-07-25 11:41:42,415 INFO Downloading https://download-0005-clone.copernicus-climate.eu/cache-compute-0005/cache/data6/adaptor.mars.internal-1658494026.9856267-18479-19-e4da6ab7-bac3-4f60-9cf4-70d4e567df48.nc to ./data/era5/09898X0017_PESQUI.nc (131.9K)\n",
      "2022-07-25 11:41:42,700 INFO Downloading https://download-0021.copernicus-climate.eu/cache-compute-0021/cache/data6/adaptor.mars.internal-1658493038.9171891-25959-8-2feaf093-ea62-4c34-bab0-c886baa44e6d.nc to ./data/era5/09128X0053_CAL.nc (149K)\n",
      "2022-07-25 11:41:43,132 INFO Downloading https://download-0013-clone.copernicus-climate.eu/cache-compute-0013/cache/data0/adaptor.mars.internal-1658493034.177106-20713-8-55fdb396-6240-402c-84be-4b155b6527c9.nc to ./data/era5/08622X0027_GAL.nc (123.3K)\n",
      "2022-07-25 11:41:43,449 INFO Downloading https://download-0013-clone.copernicus-climate.eu/cache-compute-0013/cache/data9/adaptor.mars.internal-1658494640.7272131-2629-12-464f5783-7d40-4081-8d59-6cd6eb31c1d6.nc to ./data/era5/09905X0064_CMBSAL.nc (131.9K)\n",
      "2022-07-25 11:41:43,749 INFO Downloading https://download-0013-clone.copernicus-climate.eu/cache-compute-0013/cache/data1/adaptor.mars.internal-1658495913.0423882-2516-15-ba9987b8-11ba-4cb6-96ad-b0731b111dfe.nc to ./data/era5/10764X0043_OUSTAL.nc (217.4K)\n",
      "2022-07-25 11:41:44,050 INFO Downloading https://download-0002-clone.copernicus-climate.eu/cache-compute-0002/cache/data1/adaptor.mars.internal-1658496561.5833735-2784-1-8aa86459-2026-44e2-abaf-3028409f0a5d.nc to ./data/era5/10903X0034_PZSTGL.nc (157.5K)\n",
      "2022-07-25 11:41:44,351 INFO Downloading https://download-0018.copernicus-climate.eu/cache-compute-0018/cache/data8/adaptor.mars.internal-1658496521.8156927-3816-5-5b89b996-2461-4787-a671-6226e264c035.nc to ./data/era5/09656X0175_RODIL.nc (226K)\n",
      "2022-07-25 11:41:44,821 INFO Download rate 481K/s \n",
      "2022-07-25 11:41:44,887 INFO Downloading https://download-0007-clone.copernicus-climate.eu/cache-compute-0007/cache/data6/adaptor.mars.internal-1658492518.5327616-20295-13-94d7eceb-76b5-48a9-809c-1fc386e33cf4.nc to ./data/era5/10116X0237_TREVIL.nc (217.4K)\n"
     ]
    },
    {
     "name": "stdout",
     "output_type": "stream",
     "text": [
      "2022-07-25 11:41:44.821148 : Fichier 09656X0175_RODIL.nc téléchargé.\n",
      "Fichier 09656X0175_RODIL.nc converti en fichier pickle\n",
      "Fichier ./data/era5/09656X0175_RODIL.nc.nc supprimé\n"
     ]
    },
    {
     "name": "stderr",
     "output_type": "stream",
     "text": [
      "2022-07-25 11:41:45,184 INFO Downloading https://download-0000-clone.copernicus-climate.eu/cache-compute-0000/cache/data9/adaptor.mars.internal-1658495906.3505707-29805-13-c3531de1-e67f-479a-85c8-07c419ec3740.nc to ./data/era5/09398X0028_VALL.nc (157.5K)\n",
      "2022-07-25 11:41:45,322 INFO Downloading https://download-0000-clone.copernicus-climate.eu/cache-compute-0000/cache/data8/adaptor.mars.internal-1658494407.0805523-32634-8-0d582f01-ae36-47bd-bfe0-45686b22897d.nc to ./data/era5/10406X0077_ASL.nc (131.9K)\n",
      "2022-07-25 11:41:45,607 INFO Downloading https://download-0011-clone.copernicus-climate.eu/cache-compute-0011/cache/data5/adaptor.mars.internal-1658493028.9011672-7270-5-5b6cd4db-9477-408e-b3a2-ed653b3fe0b6.nc to ./data/era5/10904X0105_ROBOUL.nc (174.6K)\n",
      "2022-07-25 11:41:46,083 INFO Download rate 366.6K/s\n",
      "2022-07-25 11:41:46,190 INFO Downloading https://download-0014-clone.copernicus-climate.eu/cache-compute-0014/cache/data5/adaptor.mars.internal-1658498894.0992043-25722-9-0a88ef78-e103-41be-8f27-168021f04ed6.nc to ./data/era5/09125X0083_HBCM.nc (166.1K)\n"
     ]
    },
    {
     "name": "stdout",
     "output_type": "stream",
     "text": [
      "2022-07-25 11:41:46.083840 : Fichier 10904X0105_ROBOUL.nc téléchargé.\n",
      "Fichier 10904X0105_ROBOUL.nc converti en fichier pickle\n",
      "Fichier ./data/era5/10904X0105_ROBOUL.nc.nc supprimé\n"
     ]
    },
    {
     "name": "stderr",
     "output_type": "stream",
     "text": [
      "2022-07-25 11:41:46,509 INFO Downloading https://download-0008-clone.copernicus-climate.eu/cache-compute-0008/cache/data8/adaptor.mars.internal-1658501127.7904232-32752-14-12ba8428-90f3-4818-935a-7cf9b7588944.nc to ./data/era5/09917X0192_P5CEHM.nc (268.8K)\n",
      "2022-07-25 11:41:46,810 INFO Downloading https://download-0011-clone.copernicus-climate.eu/cache-compute-0011/cache/data9/adaptor.mars.internal-1658499358.396171-10253-16-8cb3408c-2f63-4ed2-8b95-fdc55a39bb98.nc to ./data/era5/09888X0111_LACAN.nc (149K)\n",
      "2022-07-25 11:41:47,059 INFO Download rate 598.5K/s\n",
      "2022-07-25 11:41:47,141 INFO Downloading https://download-0020.copernicus-climate.eu/cache-compute-0020/cache/data3/adaptor.mars.internal-1658500618.2485862-2449-11-86f92d27-71f4-4903-afa9-598b1ba851bf.nc to ./data/era5/10601X0027_COUMAN.nc (149K)\n"
     ]
    },
    {
     "name": "stdout",
     "output_type": "stream",
     "text": [
      "2022-07-25 11:41:47.060115 : Fichier 09888X0111_LACAN.nc téléchargé.\n",
      "Fichier 09888X0111_LACAN.nc converti en fichier pickle\n",
      "Fichier ./data/era5/09888X0111_LACAN.nc.nc supprimé\n"
     ]
    },
    {
     "name": "stderr",
     "output_type": "stream",
     "text": [
      "2022-07-25 11:41:47,458 INFO Downloading https://download-0007-clone.copernicus-climate.eu/cache-compute-0007/cache/data0/adaptor.mars.internal-1658498660.1151748-20869-15-eb623c81-5c42-4f82-aa75-b2b8ba3bcdbe.nc to ./data/era5/09635X0009_FONTAN.nc (226K)\n",
      "2022-07-25 11:41:47,867 INFO Download rate 552.8K/s\n",
      "2022-07-25 11:41:47,943 INFO Downloading https://download-0003-clone.copernicus-climate.eu/cache-compute-0003/cache/data2/adaptor.mars.internal-1658501127.7484195-17901-4-d49ddcb5-b3a6-4d7f-90df-1ec1c0d3658f.nc to ./data/era5/10388X0017_STALIN.nc (268.8K)\n"
     ]
    },
    {
     "name": "stdout",
     "output_type": "stream",
     "text": [
      "2022-07-25 11:41:47.867129 : Fichier 09635X0009_FONTAN.nc téléchargé.\n",
      "Fichier 09635X0009_FONTAN.nc converti en fichier pickle\n",
      "Fichier ./data/era5/09635X0009_FONTAN.nc.nc supprimé\n"
     ]
    },
    {
     "name": "stderr",
     "output_type": "stream",
     "text": [
      "2022-07-25 11:41:48,389 INFO Download rate 602.1K/s\n",
      "2022-07-25 11:41:48,474 INFO Downloading https://download-0016.copernicus-climate.eu/cache-compute-0016/cache/data9/adaptor.mars.internal-1658501127.8979647-7671-3-ee040351-18b8-43bf-b1b6-a739e7af08ad.nc to ./data/era5/09921X0055_CAMBON.nc (149K)\n"
     ]
    },
    {
     "name": "stdout",
     "output_type": "stream",
     "text": [
      "2022-07-25 11:41:48.389730 : Fichier 10388X0017_STALIN.nc téléchargé.\n",
      "Fichier 10388X0017_STALIN.nc converti en fichier pickle\n",
      "Fichier ./data/era5/10388X0017_STALIN.nc.nc supprimé\n"
     ]
    },
    {
     "name": "stderr",
     "output_type": "stream",
     "text": [
      "2022-07-25 11:41:48,878 INFO Download rate 368.5K/s\n",
      "2022-07-25 11:41:48,959 INFO Downloading https://download-0000-clone.copernicus-climate.eu/cache-compute-0000/cache/data2/adaptor.mars.internal-1658496433.128378-30903-17-acfe2e51-9ae1-4e7a-819b-3fd50c0e5520.nc to ./data/era5/09388X0114_MAISON.nc (191.8K)\n"
     ]
    },
    {
     "name": "stdout",
     "output_type": "stream",
     "text": [
      "2022-07-25 11:41:48.878679 : Fichier 09921X0055_CAMBON.nc téléchargé.\n",
      "Fichier 09921X0055_CAMBON.nc converti en fichier pickle\n",
      "Fichier ./data/era5/09921X0055_CAMBON.nc.nc supprimé\n"
     ]
    },
    {
     "name": "stderr",
     "output_type": "stream",
     "text": [
      "2022-07-25 11:41:49,462 INFO Download rate 381.6K/s\n",
      "2022-07-25 11:41:49,528 INFO Downloading https://download-0014-clone.copernicus-climate.eu/cache-compute-0014/cache/data4/adaptor.mars.internal-1658497640.2487981-23180-2-ea8bfe01-d60d-422f-a376-763f892a6a68.nc to ./data/era5/09912X0254_BRUN.nc (149K)\n"
     ]
    },
    {
     "name": "stdout",
     "output_type": "stream",
     "text": [
      "2022-07-25 11:41:49.462006 : Fichier 09388X0114_MAISON.nc téléchargé.\n",
      "Fichier 09388X0114_MAISON.nc converti en fichier pickle\n",
      "Fichier ./data/era5/09388X0114_MAISON.nc.nc supprimé\n"
     ]
    },
    {
     "name": "stderr",
     "output_type": "stream",
     "text": [
      "2022-07-25 11:41:49,860 INFO Downloading https://download-0006-clone.copernicus-climate.eu/cache-compute-0006/cache/data9/adaptor.mars.internal-1658501127.748811-18596-5-3487ce87-4cf2-4d2e-a842-fd05b61e6c3a.nc to ./data/era5/10782X0008_COUMBO.nc (157.5K)\n",
      "2022-07-25 11:41:50,161 INFO Downloading https://download-0004-clone.copernicus-climate.eu/cache-compute-0004/cache/data9/adaptor.mars.internal-1658498571.5710454-10423-10-a796e79a-fef0-473c-8f41-bfb7c42b9e68.nc to ./data/era5/08627X0010_SO.nc (149K)\n",
      "2022-07-25 11:41:50,477 INFO Downloading https://download-0015-clone.copernicus-climate.eu/cache-compute-0015/cache/data1/adaptor.mars.internal-1658495914.085079-2892-12-a6fdc422-b3f7-4f2e-9d3f-5bfc8d703428.nc to ./data/era5/09625X0234_SO.nc (114.7K)\n",
      "2022-07-25 11:41:50,794 INFO Downloading https://download-0001-clone.copernicus-climate.eu/cache-compute-0001/cache/data3/adaptor.mars.internal-1658496795.4519174-5276-8-49cf7ff4-f30d-4c59-a72a-c8ef682ed04b.nc to ./data/era5/10904X0104_PIEZO.nc (183.2K)\n",
      "2022-07-25 11:41:51,116 INFO Downloading https://download-0008-clone.copernicus-climate.eu/cache-compute-0008/cache/data7/adaptor.mars.internal-1658501127.7276819-15578-7-1b37a50a-6f40-4b96-98d5-dbe14fdfc27f.nc to ./data/era5/09392X0045_PIEZO.nc (166.1K)\n",
      "2022-07-25 11:41:51,418 INFO Downloading https://download-0021.copernicus-climate.eu/cache-compute-0021/cache/data9/adaptor.mars.internal-1658503935.5404131-29778-10-85b230cb-1270-4c6b-ad54-59bc6a72a607.nc to ./data/era5/09911X0303_BRES-P.nc (157.5K)\n",
      "2022-07-25 11:41:51,718 INFO Downloading https://download-0006-clone.copernicus-climate.eu/cache-compute-0006/cache/data3/adaptor.mars.internal-1658503979.450963-2965-13-7b3bc391-11b5-4d3d-bcc6-65d70481773e.nc to ./data/era5/09655X0107_P.nc (251.7K)\n",
      "2022-07-25 11:41:52,018 INFO Downloading https://download-0006-clone.copernicus-climate.eu/cache-compute-0006/cache/data0/adaptor.mars.internal-1658514187.446091-9349-14-54f15bb3-fa46-4e11-9445-966455a5fcea.nc to ./data/era5/10592X0012_AEP.nc (157.5K)\n",
      "2022-07-25 11:41:52,320 INFO Downloading https://download-0011-clone.copernicus-climate.eu/cache-compute-0011/cache/data9/adaptor.mars.internal-1658503935.515758-26986-16-5034c9fb-2b54-496d-86bc-88d9f423febb.nc to ./data/era5/10971X0198_LAFAR.nc (191.8K)\n",
      "2022-07-25 11:41:52,785 INFO Download rate 412K/s \n",
      "2022-07-25 11:41:52,867 INFO Downloading https://download-0015-clone.copernicus-climate.eu/cache-compute-0015/cache/data0/adaptor.mars.internal-1658514013.2191947-13480-2-331dab79-aba8-4c60-ba78-5a36b8c96261.nc to ./data/era5/09916X0098_LANSAR.nc (226K)\n"
     ]
    },
    {
     "name": "stdout",
     "output_type": "stream",
     "text": [
      "2022-07-25 11:41:52.796708 : Fichier 10971X0198_LAFAR.nc téléchargé.\n",
      "Fichier 10971X0198_LAFAR.nc converti en fichier pickle\n",
      "Fichier ./data/era5/10971X0198_LAFAR.nc.nc supprimé\n"
     ]
    },
    {
     "name": "stderr",
     "output_type": "stream",
     "text": [
      "2022-07-25 11:41:53,199 INFO Downloading https://download-0009-clone.copernicus-climate.eu/cache-compute-0009/cache/data9/adaptor.mars.internal-1658503935.5756283-32108-7-e487c18b-1c61-4713-9807-18d8d5721e7b.nc to ./data/era5/10908X0263_FIGUER.nc (268.8K)\n",
      "2022-07-25 11:41:53,483 INFO Downloading https://download-0016.copernicus-climate.eu/cache-compute-0016/cache/data4/adaptor.mars.internal-1658505260.7802665-5205-5-e2370abe-74f5-4820-96ae-f9f98746e608.nc to ./data/era5/09654X0575_MONTFR.nc (268.8K)\n",
      "2022-07-25 11:41:53,884 INFO Downloading https://download-0016.copernicus-climate.eu/cache-compute-0016/cache/data7/adaptor.mars.internal-1658506340.0090728-4751-14-4f9f21e7-483a-4281-b6d0-a1fc035c4514.nc to ./data/era5/BSS002PTEJ_MONTFR.nc (166.1K)\n",
      "2022-07-25 11:41:54,338 INFO Download rate 365.6K/s\n",
      "2022-07-25 11:41:54,416 INFO Downloading https://download-0002-clone.copernicus-climate.eu/cache-compute-0002/cache/data6/adaptor.mars.internal-1658505888.113702-21497-10-68877b67-fe03-461d-a028-37ee37bb2308.nc to ./data/era5/09378X0080_SOEUR.nc (131.9K)\n"
     ]
    },
    {
     "name": "stdout",
     "output_type": "stream",
     "text": [
      "2022-07-25 11:41:54.338692 : Fichier BSS002PTEJ_MONTFR.nc téléchargé.\n",
      "Fichier BSS002PTEJ_MONTFR.nc converti en fichier pickle\n",
      "Fichier ./data/era5/BSS002PTEJ_MONTFR.nc.nc supprimé\n"
     ]
    },
    {
     "name": "stderr",
     "output_type": "stream",
     "text": [
      "2022-07-25 11:41:54,724 INFO Downloading https://download-0010-clone.copernicus-climate.eu/cache-compute-0010/cache/data1/adaptor.mars.internal-1658511920.7832909-5449-18-38798cac-ef41-4553-9fac-5009e7cbccb6.nc to ./data/era5/10402X0046_BOUR.nc (200.3K)\n",
      "2022-07-25 11:41:55,087 INFO Downloading https://download-0003-clone.copernicus-climate.eu/cache-compute-0003/cache/data9/adaptor.mars.internal-1658511795.4219842-28227-4-362fe4f1-e801-4bab-b720-4088685a4a2e.nc to ./data/era5/09911X0302_BRES-S.nc (157.5K)\n",
      "2022-07-25 11:41:55,387 INFO Downloading https://download-0013-clone.copernicus-climate.eu/cache-compute-0013/cache/data3/adaptor.mars.internal-1658506177.2960005-10584-5-992d4f71-26e9-4a57-8009-791a09430343.nc to ./data/era5/10138X0010_S.nc (123.3K)\n",
      "2022-07-25 11:41:55,726 INFO Downloading https://download-0016.copernicus-climate.eu/cache-compute-0016/cache/data9/adaptor.mars.internal-1658503935.4872725-31542-3-1bd0b5e7-a81d-4406-b360-5d24c0d91dfe.nc to ./data/era5/10364X0001_S.nc (140.4K)\n",
      "2022-07-25 11:41:55,991 INFO Download rate 528.6K/s\n",
      "2022-07-25 11:41:56,073 INFO Downloading https://download-0008-clone.copernicus-climate.eu/cache-compute-0008/cache/data5/adaptor.mars.internal-1658515228.735526-10844-11-76b241d0-61b3-4d0e-a75e-984ae7bba6a7.nc to ./data/era5/10795X0001_S.nc (80.5K)\n"
     ]
    },
    {
     "name": "stdout",
     "output_type": "stream",
     "text": [
      "2022-07-25 11:41:55.991635 : Fichier 10364X0001_S.nc téléchargé.\n",
      "Fichier 10364X0001_S.nc converti en fichier pickle\n",
      "Fichier ./data/era5/10364X0001_S.nc.nc supprimé\n"
     ]
    },
    {
     "name": "stderr",
     "output_type": "stream",
     "text": [
      "2022-07-25 11:41:56,427 INFO Downloading https://download-0012-clone.copernicus-climate.eu/cache-compute-0012/cache/data3/adaptor.mars.internal-1658511404.0516617-6537-1-caa6b738-3706-4e14-a129-13798073029b.nc to ./data/era5/10402X0012_S.nc (268.8K)\n",
      "2022-07-25 11:41:56,806 INFO Downloading https://download-0004-clone.copernicus-climate.eu/cache-compute-0004/cache/data9/adaptor.mars.internal-1658511495.4202297-6388-1-9a0bc5cd-6433-45a3-ad0d-c7bd9d1b1501.nc to ./data/era5/10402X0044_S.nc (268.8K)\n",
      "2022-07-25 11:41:57,075 INFO Downloading https://download-0012-clone.copernicus-climate.eu/cache-compute-0012/cache/data4/adaptor.mars.internal-1658509605.6966574-6676-1-e012bc31-47d8-435a-85b7-0935425973b2.nc to ./data/era5/09894X0005_S.nc (157.5K)\n",
      "2022-07-25 11:41:57,359 INFO Downloading https://download-0012-clone.copernicus-climate.eu/cache-compute-0012/cache/data3/adaptor.mars.internal-1658515503.6991982-23993-11-506f62b1-ecc7-4593-80a4-2285a4811134.nc to ./data/era5/08854X0015_S.nc (149K)\n",
      "2022-07-25 11:41:57,644 INFO Downloading https://download-0004-clone.copernicus-climate.eu/cache-compute-0004/cache/data9/adaptor.mars.internal-1658511496.415142-5280-1-480faf4f-8fe2-4f87-8f86-dbfb534d9fd6.nc to ./data/era5/10403X0115_S.nc (268.8K)\n",
      "2022-07-25 11:41:57,893 INFO Downloading https://download-0017.copernicus-climate.eu/cache-compute-0017/cache/data8/adaptor.mars.internal-1658515811.7692287-8450-13-b7a1dbf0-cb0a-4189-b25e-e37a4d1a4c70.nc to ./data/era5/10401X0097_S.nc (268.8K)\n",
      "2022-07-25 11:41:58,316 INFO Download rate 635.3K/s\n",
      "2022-07-25 11:41:58,384 INFO Downloading https://download-0012-clone.copernicus-climate.eu/cache-compute-0012/cache/data4/adaptor.mars.internal-1658510359.5356278-6361-1-d717cc4a-9286-4f74-a940-597763909517.nc to ./data/era5/09651X0009_S.nc (208.9K)\n"
     ]
    },
    {
     "name": "stdout",
     "output_type": "stream",
     "text": [
      "2022-07-25 11:41:58.316742 : Fichier 10401X0097_S.nc téléchargé.\n",
      "Fichier 10401X0097_S.nc converti en fichier pickle\n",
      "Fichier ./data/era5/10401X0097_S.nc.nc supprimé\n"
     ]
    },
    {
     "name": "stderr",
     "output_type": "stream",
     "text": [
      "2022-07-25 11:41:58,730 INFO Downloading https://download-0017.copernicus-climate.eu/cache-compute-0017/cache/data9/adaptor.mars.internal-1658515811.8292112-26383-12-50143dc4-e8a7-4665-8b64-0f24722ea912.nc to ./data/era5/08854X0040_FREBAS.nc (149K)\n",
      "2022-07-25 11:41:58,830 INFO Downloading https://download-0012-clone.copernicus-climate.eu/cache-compute-0012/cache/data4/adaptor.mars.internal-1658509475.289182-6573-1-d6303bfb-5e6d-4de1-92dd-73df295fe2b2.nc to ./data/era5/09888X0094_JONCAS.nc (149K)\n",
      "2022-07-25 11:41:59,145 INFO Downloading https://download-0010-clone.copernicus-climate.eu/cache-compute-0010/cache/data0/adaptor.mars.internal-1658515811.7184758-14879-14-f7000cdf-4a94-4e03-8892-2d13e5ea0339.nc to ./data/era5/10405X0171_VALRAS.nc (268.8K)\n",
      "2022-07-25 11:41:59,408 INFO Downloading https://download-0010-clone.copernicus-climate.eu/cache-compute-0010/cache/data5/adaptor.mars.internal-1658515811.8522964-27584-11-074f5bf6-47c3-485b-a021-180b433d0673.nc to ./data/era5/09628X0043_BUEGES.nc (174.7K)\n",
      "2022-07-25 11:41:59,662 INFO Downloading https://download-0010-clone.copernicus-climate.eu/cache-compute-0010/cache/data1/adaptor.mars.internal-1658522960.4997294-28331-18-d62dfafe-04aa-4d6a-9fb1-4d363073512a.nc to ./data/era5/09915X0181_AUNES.nc (268.8K)\n",
      "2022-07-25 11:41:59,932 INFO Downloading https://download-0000-clone.copernicus-climate.eu/cache-compute-0000/cache/data8/adaptor.mars.internal-1658520513.8027494-29720-13-91dbf114-a775-4178-ab05-cb16aa4ff613.nc to ./data/era5/09888X0093_DOUZES.nc (140.4K)\n",
      "2022-07-25 11:42:00,248 INFO Downloading https://download-0020.copernicus-climate.eu/cache-compute-0020/cache/data2/adaptor.mars.internal-1658521642.8117213-26696-8-1d221c61-75f7-4587-888a-3e4918214dfc.nc to ./data/era5/09911X0317_P3BIS.nc (268.8K)\n",
      "2022-07-25 11:42:00,564 INFO Downloading https://download-0014-clone.copernicus-climate.eu/cache-compute-0014/cache/data8/adaptor.mars.internal-1658518806.8431892-30857-2-f1382735-f1ba-4114-8905-063f8b415ca2.nc to ./data/era5/09375X0010_ISIS.nc (131.9K)\n",
      "2022-07-25 11:42:00,880 INFO Downloading https://download-0008-clone.copernicus-climate.eu/cache-compute-0008/cache/data2/adaptor.mars.internal-1658520675.4733582-15707-13-419ebd46-7539-4541-8248-8cf0686daa22.nc to ./data/era5/09655X0265_CLOS.nc (251.7K)\n",
      "2022-07-25 11:42:01,196 INFO Downloading https://download-0002-clone.copernicus-climate.eu/cache-compute-0002/cache/data0/adaptor.mars.internal-1658517699.8778052-9463-17-edcc7c4e-7761-43d1-bfd3-9117322d510c.nc to ./data/era5/09906X0149_TOUAT.nc (80.5K)\n",
      "2022-07-25 11:42:01,513 INFO Downloading https://download-0007-clone.copernicus-climate.eu/cache-compute-0007/cache/data7/adaptor.mars.internal-1658523638.1559393-12076-10-b0bc18fb-e73f-4f41-a260-f48df0946beb.nc to ./data/era5/09914X0284_FAGET.nc (268.8K)\n",
      "2022-07-25 11:42:01,803 INFO Downloading https://download-0002-clone.copernicus-climate.eu/cache-compute-0002/cache/data1/adaptor.mars.internal-1658517927.3219757-9672-5-a8ebfab0-c228-46e1-ac20-355b1e322600.nc to ./data/era5/09634X0074_CLARET.nc (149K)\n",
      "2022-07-25 11:42:02,114 INFO Downloading https://download-0002-clone.copernicus-climate.eu/cache-compute-0002/cache/data9/adaptor.mars.internal-1658517310.79082-5706-15-ac806b15-c677-4ad2-a7ce-6e91b71f52e9.nc to ./data/era5/10776X0024_LAUZET.nc (114.7K)\n",
      "2022-07-25 11:42:02,436 INFO Downloading https://download-0019.copernicus-climate.eu/cache-compute-0019/cache/data8/adaptor.mars.internal-1658518806.8558984-7896-11-ca2f6a73-2424-43da-8a80-5458f652fed4.nc to ./data/era5/10972X0137_PONT.nc (268.8K)\n",
      "2022-07-25 11:42:02,768 INFO Downloading https://download-0017.copernicus-climate.eu/cache-compute-0017/cache/data8/adaptor.mars.internal-1658518807.3638158-27817-13-53e7a641-ac98-4031-a91b-f5ba45071d9f.nc to ./data/era5/09388X0052_VIGNOT.nc (268.8K)\n",
      "2022-07-25 11:42:03,215 INFO Download rate 601.8K/s\n",
      "2022-07-25 11:42:03,305 INFO Downloading https://download-0000-clone.copernicus-climate.eu/cache-compute-0000/cache/data0/adaptor.mars.internal-1658527015.9173665-6810-11-f94b4eb7-bd48-4adf-93c8-50a7b834a772.nc to ./data/era5/10154X0076_MAMERT.nc (149K)\n"
     ]
    },
    {
     "name": "stdout",
     "output_type": "stream",
     "text": [
      "2022-07-25 11:42:03.215368 : Fichier 09388X0052_VIGNOT.nc téléchargé.\n",
      "Fichier 09388X0052_VIGNOT.nc converti en fichier pickle\n",
      "Fichier ./data/era5/09388X0052_VIGNOT.nc.nc supprimé\n"
     ]
    },
    {
     "name": "stderr",
     "output_type": "stream",
     "text": [
      "2022-07-25 11:42:03,587 INFO Downloading https://download-0020.copernicus-climate.eu/cache-compute-0020/cache/data3/adaptor.mars.internal-1658526739.7026966-11882-5-145f0222-9d0e-42ee-9382-14d02bb23215.nc to ./data/era5/09876X0212_PORT.nc (149K)\n",
      "2022-07-25 11:42:03,890 INFO Downloading https://download-0015-clone.copernicus-climate.eu/cache-compute-0015/cache/data6/adaptor.mars.internal-1658526739.9242733-5826-17-83be31c3-1393-40cb-a07d-fb99def1ed8b.nc to ./data/era5/10976X0058_RIMBAU.nc (157.5K)\n",
      "2022-07-25 11:42:04,204 INFO Downloading https://download-0015-clone.copernicus-climate.eu/cache-compute-0015/cache/data6/adaptor.mars.internal-1658526341.13916-17470-11-348000ea-9bf6-4c27-ab1c-bb227aaa0aba.nc to ./data/era5/09882X0208_FONCAU.nc (149K)\n",
      "2022-07-25 11:42:04,558 INFO Downloading https://download-0001-clone.copernicus-climate.eu/cache-compute-0001/cache/data0/adaptor.mars.internal-1658527615.0461516-7109-4-8c140dd6-f2a8-4e50-9a8c-3c3be8481160.nc to ./data/era5/09908X0174_MASJAU.nc (268.8K)\n",
      "2022-07-25 11:42:04,843 INFO Downloading https://download-0010-clone.copernicus-climate.eu/cache-compute-0010/cache/data1/adaptor.mars.internal-1658527005.463557-16480-4-85d95462-ba40-4a73-b551-c7e8efeff4df.nc to ./data/era5/10963X0059_MEDALU.nc (260.2K)\n",
      "2022-07-25 11:42:05,137 INFO Downloading https://download-0018.copernicus-climate.eu/cache-compute-0018/cache/data6/adaptor.mars.internal-1658525359.8768783-32610-9-454ed0e7-8636-4424-9871-ba83f2dc4833.nc to ./data/era5/09892X0698_RVERNU.nc (123.3K)\n",
      "2022-07-25 11:42:05,475 INFO Downloading https://download-0002-clone.copernicus-climate.eu/cache-compute-0002/cache/data0/adaptor.mars.internal-1658525441.4716082-22933-17-ce090eca-fa3c-4ba6-b6e1-e59eefbf76b1.nc to ./data/era5/09645X0025_PEILOU.nc (157.5K)\n",
      "2022-07-25 11:42:05,807 INFO Downloading https://download-0018.copernicus-climate.eu/cache-compute-0018/cache/data5/adaptor.mars.internal-1658523780.4479992-24963-13-d3a869d3-4f12-40d4-ad7c-d447ecd8cad6.nc to ./data/era5/10405X0135_GUITOU.nc (97.6K)\n",
      "2022-07-25 11:42:06,092 INFO Downloading https://download-0017.copernicus-climate.eu/cache-compute-0017/cache/data4/adaptor.mars.internal-1658525441.4635897-19058-17-1bac6229-17e8-46fe-9388-5bec4ea2d1bb.nc to ./data/era5/10162X0226_V.nc (268.8K)\n",
      "2022-07-25 11:42:06,208 INFO Downloading https://download-0016.copernicus-climate.eu/cache-compute-0016/cache/data2/adaptor.mars.internal-1658524450.769389-22578-3-66bac16f-ad5e-456c-a49f-ad041ca71245.nc to ./data/era5/BSS003PAFM_X.nc (200.3K)\n",
      "2022-07-25 11:42:06,762 INFO Download rate 371.7K/s\n",
      "2022-07-25 11:42:06,847 INFO Downloading https://download-0012-clone.copernicus-climate.eu/cache-compute-0012/cache/data2/adaptor.mars.internal-1658524099.6342442-15462-20-d7a5cdfc-7432-4378-a850-38a990c3450b.nc to ./data/era5/BSS003PAFQ_X.nc (200.3K)\n"
     ]
    },
    {
     "name": "stdout",
     "output_type": "stream",
     "text": [
      "2022-07-25 11:42:06.762771 : Fichier BSS003PAFM_X.nc téléchargé.\n",
      "Fichier BSS003PAFM_X.nc converti en fichier pickle\n",
      "Fichier ./data/era5/BSS003PAFM_X.nc.nc supprimé\n"
     ]
    },
    {
     "name": "stderr",
     "output_type": "stream",
     "text": [
      "2022-07-25 11:42:07,179 INFO Downloading https://download-0007-clone.copernicus-climate.eu/cache-compute-0007/cache/data7/adaptor.mars.internal-1658521939.2463582-14574-15-0fbe163b-302a-4522-970b-ba4bdf9f839f.nc to ./data/era5/10882X0215_ADOUX.nc (106.2K)\n",
      "2022-07-25 11:42:07,511 INFO Downloading https://download-0003-clone.copernicus-climate.eu/cache-compute-0003/cache/data0/adaptor.mars.internal-1658521213.204858-31409-7-24fe87a3-85d3-49f4-837e-8ce4fbd41b88.nc to ./data/era5/09625X0231_LADOUX.nc (149K)\n",
      "2022-07-25 11:42:07,843 INFO Downloading https://download-0017.copernicus-climate.eu/cache-compute-0017/cache/data4/adaptor.mars.internal-1658528314.053892-18054-10-4a2ab5bd-d692-4ed0-b773-9d7f34422098.nc to ./data/era5/09126X0275_RABY.nc (106.2K)\n",
      "2022-07-25 11:42:08,127 INFO Downloading https://download-0020.copernicus-climate.eu/cache-compute-0020/cache/data2/adaptor.mars.internal-1658528077.291807-18398-11-f8d9c845-f14f-4581-b019-8317ef8efcc4.nc to ./data/era5/08576X0022_HY.nc (89K)\n",
      "2022-07-25 11:42:08,428 INFO Downloading https://download-0002-clone.copernicus-climate.eu/cache-compute-0002/cache/data2/adaptor.mars.internal-1658527878.6974857-15904-6-bf1e711b-7018-4e40-b203-0568fe291213.nc to ./data/era5/08577X0029_HY.nc (106.2K)\n",
      "2022-07-25 11:42:08,728 INFO Downloading https://download-0006-clone.copernicus-climate.eu/cache-compute-0006/cache/data2/adaptor.mars.internal-1658529332.2020495-7539-19-e4a81d22-7edf-4ce5-839a-5fef319a6cca.nc to ./data/era5/09635X0003_FHY.nc (217.4K)\n",
      "2022-07-25 11:42:09,051 INFO Downloading https://download-0015-clone.copernicus-climate.eu/cache-compute-0015/cache/data7/adaptor.mars.internal-1658528650.6361659-30742-5-980333d9-614c-43f6-a9ac-6758112e1536.nc to ./data/era5/10165X0021_CAUVY.nc (208.9K)\n",
      "2022-07-25 11:42:09,414 INFO Downloading https://download-0006-clone.copernicus-climate.eu/cache-compute-0006/cache/data0/adaptor.mars.internal-1658527159.7935567-1161-14-6571df72-4bc2-4af1-9742-d8cda20df656.nc to ./data/era5/10581X0201_SAGRAZ.nc (114.7K)\n"
     ]
    },
    {
     "name": "stdout",
     "output_type": "stream",
     "text": [
      "106 fichiers ont été téléchargés.\n",
      "Connexion réussie à SQLite\n",
      "Connexion SQLite est fermée\n",
      "Base de données à jour\n"
     ]
    }
   ],
   "source": [
    "# Chargement du dictionnaire à partir du csv d'historiques de requetes\n",
    "with open('./data/hist_requetes.csv', mode='r') as f:\n",
    "    reader = csv.reader(f, delimiter=\";\")\n",
    "    # Permet de sortir la ligne d'en-tête du dictionnaire\n",
    "    headings = next(reader)\n",
    "    dict_bss_from_csv = {rows[0]:rows[1] for rows in reader}\n",
    "\n",
    "nbre_fichier_OK = 0\n",
    "\n",
    "    \n",
    "for piezo in dict_bss_from_csv.copy().keys():\n",
    "    path_piezo = 'data/era5/' + piezo\n",
    "    path_nc = f\"./{path_piezo}.nc\"\n",
    "    path_pkl = f\"{path_piezo}.pkl\"\n",
    "\n",
    "    if not os.path.isfile(path_nc) :\n",
    "        try:\n",
    "            reply = dict(request_id=dict_bss_from_csv[piezo]) # request_id from above\n",
    "            new_client = cdsapi.Client(wait_until_complete=False, delete=False)\n",
    "            result = cdsapi.api.Result(new_client, reply)\n",
    "            result.update()\n",
    "            reply = result.reply\n",
    "            if reply['state'] == 'completed':\n",
    "                nbre_fichier_OK += 1\n",
    "                result.download(path_nc)\n",
    "                print(f\"{datetime.now()} : Fichier {piezo}.nc téléchargé.\")\n",
    "                df = xr.open_dataset(path_nc).to_dataframe().reset_index().to_pickle(path=path_pkl)\n",
    "                print(f\"Fichier {piezo}.nc converti en fichier pickle\")\n",
    "                os.remove(path_nc)\n",
    "                print(f\"Fichier {path_nc}.nc supprimé\")\n",
    "                # Si le fichier a été téléchargé on le supprime de la liste du dictionnaire\n",
    "                del dict_bss[piezo]\n",
    "        except:\n",
    "            #print(f\"Récupération de l'ID {dict_bss_from_csv[piezo]} impossible.\")\n",
    "            pass\n",
    "if nbre_fichier_OK == 0:\n",
    "    print(\"Aucun fichier de récupéré.\")\n",
    "else :\n",
    "    print(f\"{nbre_fichier_OK} fichiers ont été téléchargés.\")\n",
    "\n",
    "# Mise à jour de la base de donnéees (champ fichier_ERA5)\n",
    "bss_era5 = pd.Series([_.replace(\".pkl\",\"\") for _ in os.listdir(r\"./data/era5\") if _.endswith(r\".pkl\")], name=\"era5\")\n",
    "requete_fichier_era5 = f\"\"\"\n",
    "        UPDATE data_piezo\n",
    "        SET fichier_era5 =\n",
    "        (CASE WHEN code_bss IN {tuple(bss_era5)}\n",
    "        THEN 1 ELSE 0 END)\n",
    "        \"\"\"\n",
    "requete_sql(requete_fichier_era5)\n",
    "print(\"Base de données à jour\")"
   ]
  },
  {
   "cell_type": "markdown",
   "id": "af78191b",
   "metadata": {},
   "source": [
    "## Jointure era5 et piezo"
   ]
  },
  {
   "cell_type": "code",
   "execution_count": 4,
   "id": "2354dde5",
   "metadata": {},
   "outputs": [
    {
     "name": "stdout",
     "output_type": "stream",
     "text": [
      "Le fichier comb_08565X0007_F.csv a été créé et contient 4109 obseravtions.\n",
      "Le fichier comb_09301X0028_F.csv a été créé et contient 9388 obseravtions.\n",
      "Le fichier comb_09388X0052_VIGNOT.csv a été créé et contient 11323 obseravtions.\n",
      "Le fichier comb_09388X0114_MAISON.csv a été créé et contient 7854 obseravtions.\n",
      "Le fichier comb_09394X0003_FONTAI.csv a été créé et contient 1552 obseravtions.\n",
      "Le fichier comb_09567X0219_F.csv a été créé et contient 9144 obseravtions.\n",
      "Le fichier comb_09635X0009_FONTAN.csv a été créé et contient 9174 obseravtions.\n",
      "Le fichier comb_09656X0175_RODIL.csv a été créé et contient 9481 obseravtions.\n",
      "Le fichier comb_09888X0111_LACAN.csv a été créé et contient 5949 obseravtions.\n",
      "Le fichier comb_09921X0055_CAMBON.csv a été créé et contient 6175 obseravtions.\n",
      "Le fichier comb_10364X0001_S.csv a été créé et contient 5826 obseravtions.\n",
      "Le fichier comb_10384X0048_F.csv a été créé et contient 4927 obseravtions.\n",
      "Le fichier comb_10388X0017_STALIN.csv a été créé et contient 11323 obseravtions.\n",
      "Le fichier comb_10401X0097_S.csv a été créé et contient 11323 obseravtions.\n",
      "Le fichier comb_10603X0027_F.csv a été créé et contient 6261 obseravtions.\n",
      "Le fichier comb_10904X0105_ROBOUL.csv a été créé et contient 7141 obseravtions.\n",
      "Le fichier comb_10971X0198_LAFAR.csv a été créé et contient 7956 obseravtions.\n",
      "Le fichier comb_BSS002PTEJ_MONTFR.csv a été créé et contient 6596 obseravtions.\n",
      "Connexion réussie à SQLite\n",
      "Connexion SQLite est fermée\n",
      "Base de données à jour\n"
     ]
    }
   ],
   "source": [
    "bss_era5 = pd.Series([_.replace(\".pkl\",\"\") for _ in os.listdir(r\"./data/era5\") if _.endswith(r\".pkl\")], name=\"era5\")\n",
    "bss_piezo = pd.Series([_.replace(\".csv\",\"\") for _ in os.listdir(r\"./data/piezo\") if _.endswith(r\".csv\")], name=\"piezo\")\n",
    "piezos_communs = np.intersect1d(bss_era5, bss_piezo)\n",
    "\n",
    "path = \"./data/combined_data/\"\n",
    "# Le fichier doit avoir un minimum de 100 mesures\n",
    "nb_min_val_com = 100\n",
    "\n",
    "for piezo in piezos_communs :\n",
    "    if not os.path.isfile(f'{path}/comb_{piezo}.csv') : #si le fichier n'existe pas \n",
    "        df_piezo = pd.read_csv(f\"./data/piezo/{piezo}.csv\", sep = \";\", index_col=0, parse_dates=True)\n",
    "        # Group_by date_mesure dans le cas de plusieurs mesures le même jour ce qui provoquerait une erreur\n",
    "        df_piezo = pd.DataFrame(df_piezo.groupby(\"date_mesure\").mean())\n",
    "        df_piezo = df_piezo.resample('1D').asfreq()\n",
    "        df_era5 = pd.read_pickle(f\"./data/era5/{piezo}.pkl\").set_index('time').drop([\"latitude\", \"longitude\"], axis=1)\n",
    "        if \"expver\" in df_era5.columns :\n",
    "            df_era5 = df_era5.loc[df_era5[\"expver\"]==1,:].drop(\"expver\", axis=1)\n",
    "        df = pd.merge(df_piezo, df_era5, how='inner', left_index=True, right_index=True)\n",
    "        nb_com_obs = df.shape[0]\n",
    "        if nb_com_obs >= nb_min_val_com :\n",
    "            df.to_csv(f\"data/combined_data/comb_{piezo}.csv\" ,sep=\";\", index=True)\n",
    "            print(f\"Le fichier comb_{piezo}.csv a été créé et contient {nb_com_obs} obseravtions.\")\n",
    "        else :\n",
    "            print(f\"Le piezo {piezo} ne contient pas assez de données (seulement {nb_com_obs}).\")\n",
    "    else : \n",
    "        #print(f\"Le fichier comb_{piezo}.csv existe déjà.\")\n",
    "        pass\n",
    "        \n",
    "# Mise à jour bdd\n",
    "requete_fichier_combined = f\"\"\"\n",
    "        UPDATE data_piezo\n",
    "        SET fichier_combined =\n",
    "        (CASE WHEN code_bss IN {tuple(piezos_communs)}\n",
    "        THEN 1 ELSE 0 END)\n",
    "        \"\"\"\n",
    "requete_sql(requete_fichier_combined)\n",
    "print(\"Base de données à jour\")"
   ]
  },
  {
   "cell_type": "code",
   "execution_count": null,
   "id": "bdde5112",
   "metadata": {},
   "outputs": [],
   "source": []
  },
  {
   "cell_type": "code",
   "execution_count": null,
   "id": "6465464e",
   "metadata": {},
   "outputs": [],
   "source": []
  },
  {
   "cell_type": "code",
   "execution_count": null,
   "id": "8c474373",
   "metadata": {},
   "outputs": [],
   "source": []
  },
  {
   "cell_type": "markdown",
   "id": "3bae835b",
   "metadata": {},
   "source": [
    "# Récupération manuelle"
   ]
  },
  {
   "cell_type": "code",
   "execution_count": null,
   "id": "62b4b001",
   "metadata": {},
   "outputs": [],
   "source": [
    "reply = dict(request_id=\"54c52ee3-eee4-481d-b72e-fecd315085cb\")\n",
    "new_client = cdsapi.Client(wait_until_complete=False, delete=False)\n",
    "result = cdsapi.api.Result(new_client, reply)\n",
    "result.update()\n",
    "reply = result.reply\n",
    "if reply['state'] == 'completed':\n",
    "    result.download('file.nc')"
   ]
  },
  {
   "cell_type": "code",
   "execution_count": null,
   "id": "f6167cbe",
   "metadata": {},
   "outputs": [],
   "source": []
  },
  {
   "cell_type": "code",
   "execution_count": null,
   "id": "29a97bed",
   "metadata": {},
   "outputs": [],
   "source": []
  },
  {
   "cell_type": "code",
   "execution_count": null,
   "id": "65078627",
   "metadata": {},
   "outputs": [],
   "source": []
  },
  {
   "cell_type": "code",
   "execution_count": null,
   "id": "eb0c36e3",
   "metadata": {},
   "outputs": [],
   "source": []
  },
  {
   "cell_type": "code",
   "execution_count": null,
   "id": "6415ca95",
   "metadata": {},
   "outputs": [],
   "source": [
    "requete_fichier_era5 = f\"\"\"\n",
    "        UPDATE data_piezo\n",
    "        SET fichier_era5 =\n",
    "        (CASE WHEN code_bss IN {tuple(bss_era5)}\n",
    "        THEN 1 ELSE 0 END)\n",
    "        \"\"\"\n",
    "requete_sql(requete_fichier_era5)"
   ]
  },
  {
   "cell_type": "code",
   "execution_count": null,
   "id": "29e4abf1",
   "metadata": {},
   "outputs": [],
   "source": [
    "update table set\n",
    "    columnx = (case when condition then 25 else columnx end)"
   ]
  }
 ],
 "metadata": {
  "kernelspec": {
   "display_name": "Python 3 (ipykernel)",
   "language": "python",
   "name": "python3"
  },
  "language_info": {
   "codemirror_mode": {
    "name": "ipython",
    "version": 3
   },
   "file_extension": ".py",
   "mimetype": "text/x-python",
   "name": "python",
   "nbconvert_exporter": "python",
   "pygments_lexer": "ipython3",
   "version": "3.9.12"
  },
  "toc": {
   "base_numbering": 1,
   "nav_menu": {},
   "number_sections": true,
   "sideBar": true,
   "skip_h1_title": false,
   "title_cell": "Table of Contents",
   "title_sidebar": "Contents",
   "toc_cell": false,
   "toc_position": {},
   "toc_section_display": true,
   "toc_window_display": true
  },
  "varInspector": {
   "cols": {
    "lenName": 16,
    "lenType": 16,
    "lenVar": 40
   },
   "kernels_config": {
    "python": {
     "delete_cmd_postfix": "",
     "delete_cmd_prefix": "del ",
     "library": "var_list.py",
     "varRefreshCmd": "print(var_dic_list())"
    },
    "r": {
     "delete_cmd_postfix": ") ",
     "delete_cmd_prefix": "rm(",
     "library": "var_list.r",
     "varRefreshCmd": "cat(var_dic_list()) "
    }
   },
   "position": {
    "height": "144.83px",
    "left": "1377.45px",
    "right": "20px",
    "top": "119px",
    "width": "350px"
   },
   "types_to_exclude": [
    "module",
    "function",
    "builtin_function_or_method",
    "instance",
    "_Feature"
   ],
   "window_display": false
  }
 },
 "nbformat": 4,
 "nbformat_minor": 5
}
